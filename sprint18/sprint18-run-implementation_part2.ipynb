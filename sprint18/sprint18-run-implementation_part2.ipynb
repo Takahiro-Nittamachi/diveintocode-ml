{
 "cells": [
  {
   "cell_type": "markdown",
   "metadata": {
    "colab_type": "text",
    "id": "ZH7kEOCFIRSR"
   },
   "source": [
    "# 【問題2】論文と実装の対応\n",
    "コードリーディングを行ってください。\n",
    "\n",
    "まず、Faster R-CNN[1]において重要だと考えた部分を列挙してください。そして、それに対応するコードを見つけてください。\n",
    "\n",
    "（例）\n",
    "\n",
    "- RPNを実現しているコードはどこか\n",
    "- RoIプーリングを実現しているコードはどこか\n",
    "\n",
    "フレームワークには畳み込み層など一般的なものはクラスが用意されていますが、RoIプーリングなど特定の手法限定のものは用意されていません。オリジナルのレイヤーを作成することが可能であり、Kerasであれば以下のページに情報がまとまっています。\n",
    "\n",
    "[オリジナルのKerasレイヤーを作成する - Keras Documentation](https://keras.io/ja/layers/writing-your-own-keras-layers/)\n",
    "\n",
    "参考\n",
    "\n",
    "KerasではVGG16のクラスが用意されているため、簡単に利用ができます。include_top=Falseの引数を与えることで、出力のための全結合層部分が除かれます。weights='imagenet'でImageNetを利用した学習済みモデルも手に入り、転移学習が行えます。weights='None'とすればランダムな初期化となります。\n",
    "\n",
    "[Applications - Keras Documentation](https://keras.io/ja/applications/#vgg16)\n",
    "\n",
    "## Faster R-CNNにおいて重要だと考えた部分\n",
    "### ①RPN(Region Proposal Networks)\n",
    "#### プログラム内での該当箇所\n",
    "- 「faster_rcnn.py」内の24、28行目\n",
    "\n",
    ">model_rpn = Model(img_input, rpn[:2])\n",
    "\n",
    "> model_rpn.compile(optimizer=Adam(lr=1e-4), loss=[losses.rpn_loss_cls(num_anchors), losses.rpn_loss_regr(num_anchors)])\n",
    "\n",
    "- 「train.py」内の69行目\n",
    "\n",
    "> model_rpn, model_classifier, model_all = faster_rcnn.get_model(C, classes_count)\n",
    "\n",
    "### ②RoI(Region of Interest)プーリング\n",
    "#### プログラム内での該当箇所\n",
    "- 「roi_helpers.py」\n",
    "\n",
    "\n"
   ]
  }
 ],
 "metadata": {
  "accelerator": "GPU",
  "colab": {
   "collapsed_sections": [],
   "name": "sprint18-run-implementation_0615_part1.ipynb",
   "provenance": [],
   "version": "0.3.2"
  },
  "kernelspec": {
   "display_name": "Python 3",
   "language": "python",
   "name": "python3"
  },
  "language_info": {
   "codemirror_mode": {
    "name": "ipython",
    "version": 3
   },
   "file_extension": ".py",
   "mimetype": "text/x-python",
   "name": "python",
   "nbconvert_exporter": "python",
   "pygments_lexer": "ipython3",
   "version": "3.7.1"
  }
 },
 "nbformat": 4,
 "nbformat_minor": 1
}
