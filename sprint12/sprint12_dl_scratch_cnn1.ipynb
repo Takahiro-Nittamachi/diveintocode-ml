{
 "cells": [
  {
   "cell_type": "markdown",
   "metadata": {
    "colab_type": "text",
    "id": "iRSFk8uZv8Lm"
   },
   "source": [
    "# この課題の目的\n",
    "\n",
    "- スクラッチを通してCNNの基礎を理解する"
   ]
  },
  {
   "cell_type": "markdown",
   "metadata": {
    "colab_type": "text",
    "id": "boEwwqt9v8Ln"
   },
   "source": [
    "# スクラッチによる実装\n",
    "\n",
    "NumPyなど最低限のライブラリのみを使いアルゴリズムを実装していきます。\n",
    "\n",
    "Sprint11で作成したディープニューラルネットワークのクラスを拡張する形でCNNを作成します。まず、Sprint12で1次元畳み込み層を作成し、畳み込みの基礎を理解することを目指します。そして、Sprint13で一般的に画像に対して使われる2次元畳み込み層とプーリング層を作成します。"
   ]
  },
  {
   "cell_type": "markdown",
   "metadata": {
    "colab_type": "text",
    "id": "wimNXp8Uv8Ln"
   },
   "source": [
    "## 1次元畳み込み層\n",
    "\n",
    "畳み込みニューラルネットワークは画像に対して使われる2次元畳み込みが代表的ですが、理解を容易にするためにまずは1次元畳み込みを実装します。1次元畳み込みは系列データで使われることが多いです。畳み込みは任意の次元に対して考えることができ、立体データに対しての3次元畳み込みまでがフレームワークで一般的に用意されています。"
   ]
  },
  {
   "cell_type": "markdown",
   "metadata": {
    "colab_type": "text",
    "id": "O3O7GA-zv8Lo"
   },
   "source": [
    "## データセットの用意\n",
    "\n",
    "引き続きMNISTデータセットを使用します。1次元畳み込みでは全結合のニューラルネットワークと同様に平滑化されたものを入力します。"
   ]
  },
  {
   "cell_type": "code",
   "execution_count": 1,
   "metadata": {
    "colab": {
     "base_uri": "https://localhost:8080/",
     "height": 34
    },
    "colab_type": "code",
    "id": "04SFWTmev8Lo",
    "outputId": "9d1f62a7-94f9-444a-f81d-a3d330437c81"
   },
   "outputs": [
    {
     "name": "stderr",
     "output_type": "stream",
     "text": [
      "Using TensorFlow backend.\n"
     ]
    }
   ],
   "source": [
    "from keras.datasets import mnist\n",
    "import matplotlib.pyplot as plt\n",
    "%matplotlib inline\n",
    "import numpy as np\n",
    "from sklearn.preprocessing import OneHotEncoder\n",
    "from sklearn.model_selection import train_test_split\n",
    "from sklearn.metrics import accuracy_score, precision_score, recall_score, f1_score\n",
    "from collections import OrderedDict\n",
    "import copy"
   ]
  },
  {
   "cell_type": "code",
   "execution_count": 2,
   "metadata": {
    "colab": {},
    "colab_type": "code",
    "id": "kyJCFWVWv8Lt"
   },
   "outputs": [],
   "source": [
    "(X_train, y_train), (X_test, y_test) = mnist.load_data()"
   ]
  },
  {
   "cell_type": "code",
   "execution_count": 3,
   "metadata": {
    "colab": {},
    "colab_type": "code",
    "id": "8qEVdYEOv8Lx"
   },
   "outputs": [],
   "source": [
    "X_train = X_train.reshape(-1, 1, 784)\n",
    "X_test = X_test.reshape(-1, 1, 784)"
   ]
  },
  {
   "cell_type": "code",
   "execution_count": 4,
   "metadata": {},
   "outputs": [
    {
     "data": {
      "text/plain": [
       "(60000, 1, 784)"
      ]
     },
     "execution_count": 4,
     "metadata": {},
     "output_type": "execute_result"
    }
   ],
   "source": [
    "X_train.shape"
   ]
  },
  {
   "cell_type": "code",
   "execution_count": 5,
   "metadata": {
    "colab": {},
    "colab_type": "code",
    "id": "wqdK9KBpwjUF"
   },
   "outputs": [],
   "source": [
    "X_train = X_train[:4800]\n",
    "y_train = y_train[:4800]\n",
    "X_test = X_test[:1200]\n",
    "y_test = y_test[:1200]"
   ]
  },
  {
   "cell_type": "code",
   "execution_count": 6,
   "metadata": {
    "colab": {
     "base_uri": "https://localhost:8080/",
     "height": 51
    },
    "colab_type": "code",
    "id": "vnRh8Eb1v8Ly",
    "outputId": "df08c83d-55be-4b79-8a8c-c323607a40b9"
   },
   "outputs": [
    {
     "name": "stdout",
     "output_type": "stream",
     "text": [
      "1.0\n",
      "0.0\n"
     ]
    }
   ],
   "source": [
    "X_train = X_train.astype(np.float)\n",
    "X_test = X_test.astype(np.float)\n",
    "X_train /= 255\n",
    "X_test /= 255\n",
    "print(X_train.max()) # 1.0\n",
    "print(X_train.min()) # 0.0"
   ]
  },
  {
   "cell_type": "code",
   "execution_count": 7,
   "metadata": {
    "colab": {
     "base_uri": "https://localhost:8080/",
     "height": 51
    },
    "colab_type": "code",
    "id": "IwAqgf3Ev8L1",
    "outputId": "560259b4-52c2-4b0b-f136-fdc00e3c8f7c"
   },
   "outputs": [
    {
     "name": "stdout",
     "output_type": "stream",
     "text": [
      "(3840, 1, 784)\n",
      "(960, 1, 784)\n"
     ]
    }
   ],
   "source": [
    "X_train, X_val, y_train, y_val = train_test_split(X_train, y_train, test_size=0.2)\n",
    "print(X_train.shape) \n",
    "print(X_val.shape)"
   ]
  },
  {
   "cell_type": "markdown",
   "metadata": {
    "colab_type": "text",
    "id": "kzGd7E2sv8L3"
   },
   "source": [
    "## CNN分類器クラスの作成\n",
    "1次元畳み込みニューラルネットワークモデルのクラスScratch1dCNNClassifierを作成してください。Sprint11で作成したScratchDeepNeuralNetrowkClassifierを元にしてください。"
   ]
  },
  {
   "cell_type": "markdown",
   "metadata": {
    "colab_type": "text",
    "id": "yZEMqpyRv8L4"
   },
   "source": [
    "# 【問題1】チャンネル数を1に限定した1次元畳み込み層クラスの作成\n",
    "\n",
    "チャンネル数を1に限定した1次元畳み込み層のクラスSimpleConv1dを作成してください。基本構造はsprint11で作成したFCクラスと同じになります。なお、重みの初期化に関するクラスは必要に応じて作り変えてください。Xavierの初期値などを使う点は全結合層と同様です。\n",
    "\n",
    "ここではパディングは考えず、ストライドも1に固定します。また、複数のデータを同時に処理することも考えなくて良く、バッチサイズは1のみに対応してください。この部分の拡張はアドバンス課題とします。\n",
    "\n",
    "フォワードプロパゲーションの数式は以下のようになります。\n",
    "\n",
    "$$\n",
    "a_i = \\sum_{s=0}^{F-1}x_{(i+s)}w_s+b\n",
    "$$"
   ]
  },
  {
   "cell_type": "markdown",
   "metadata": {
    "colab_type": "text",
    "id": "RCHDNxaiv8L4"
   },
   "source": [
    "$a_i$  : 出力される配列のi番目の値\n",
    "\n",
    "$F$ : フィルタのサイズ\n",
    "\n",
    "$x_{(i+s)}$ : 入力の配列の(i+s)番目の値\n",
    "\n",
    "$w_s$ : 重みの配列のs番目の値\n",
    "\n",
    "$b$ : バイアス項\n",
    "\n",
    "全てスカラーです。\n",
    "\n",
    "次に更新式です。ここがAdaGradなどに置き換えられる点は全結合層と同様です。\n",
    "\n",
    "$$\n",
    "w_s^{\\prime} = w_s - \\alpha \\frac{\\partial L}{\\partial w_s}\n",
    "$$"
   ]
  },
  {
   "cell_type": "markdown",
   "metadata": {
    "colab_type": "text",
    "id": "La9Nh4Krv8L5"
   },
   "source": [
    "$$\n",
    "b^{\\prime} = b - \\alpha \\frac{\\partial L}{\\partial b}\n",
    "$$"
   ]
  },
  {
   "cell_type": "markdown",
   "metadata": {
    "colab_type": "text",
    "id": "AmhtI_Bpv8L5"
   },
   "source": [
    "$\\alpha$  : 学習率\n",
    "\n",
    "$\\frac{\\partial L}{\\partial w_s}$ : $w_s$ に関する損失 $L$ の勾配\n",
    "\n",
    "$\\frac{\\partial L}{\\partial b}$ : $b$ に関する損失 $L$ の勾配\n",
    "\n",
    "勾配$\\frac{\\partial L}{\\partial w_s}$ や $\\frac{\\partial L}{\\partial b}$ を求めるためのバックプロパゲーションの数式が以下です。\n",
    "\n",
    "$$\n",
    "\\frac{\\partial L}{\\partial w_s} = \\sum_{i=0}^{N_{out}-1} \\frac{\\partial L}{\\partial a_i}x_{(i+s)}\n",
    "$$"
   ]
  },
  {
   "cell_type": "markdown",
   "metadata": {
    "colab_type": "text",
    "id": "u0uGBzX9v8L7"
   },
   "source": [
    "$$\n",
    "\\frac{\\partial L}{\\partial b} = \\sum_{i=0}^{N_{out}-1} \\frac{\\partial L}{\\partial a_i}\n",
    "$$"
   ]
  },
  {
   "cell_type": "markdown",
   "metadata": {
    "colab_type": "text",
    "id": "SoLVRQsRv8L7"
   },
   "source": [
    "$\\frac{\\partial L}{\\partial a_i}$ : 勾配の配列のi番目の値\n",
    "\n",
    "$N_{out}$ : 出力のサイズ\n",
    "\n",
    "前の層に流す誤差の数式は以下です。\n",
    "\n",
    "$$\n",
    "\\frac{\\partial L}{\\partial x_j} = \\sum_{s=0}^{F-1} \\frac{\\partial L}{\\partial a_{(j-s)}}w_s\n",
    "$$"
   ]
  },
  {
   "cell_type": "markdown",
   "metadata": {
    "colab_type": "text",
    "id": "wkktraHtv8L8"
   },
   "source": [
    "$\\frac{\\partial L}{\\partial x_j}$ : 前の層に流す誤差の配列のj番目の値\n",
    "\n",
    "ただし、$j-s<0$または$j-s>N_{out}-1$のとき$\\frac{\\partial L}{\\partial a_{(j-s)}} =0$です。\n",
    "\n",
    "全結合層との大きな違いは、重みが複数の特徴量に対して共有されていることです。この場合は共有されている分の誤差を全て足すことで勾配を求めます。計算グラフ上での分岐はバックプロパゲーションの際に誤差の足し算をすれば良いことになります。"
   ]
  },
  {
   "cell_type": "markdown",
   "metadata": {},
   "source": [
    "## SimpleConv1dクラス"
   ]
  },
  {
   "cell_type": "code",
   "execution_count": 8,
   "metadata": {
    "colab": {},
    "colab_type": "code",
    "id": "9f9N_8GJv8L9"
   },
   "outputs": [],
   "source": [
    "class SimpleConv1d:\n",
    "    \"\"\"\n",
    "    チャンネル数を1の時の1次元畳み込み演算を行う\n",
    "    Parameters\n",
    "    ----------\n",
    "    hidden_size_previous : int\n",
    "      前の層のノード数\n",
    "    hidden_size : int\n",
    "      後の層のノード数\n",
    "    filter_size : int\n",
    "    　フィルタサイズ\n",
    "    initializer : インスタンス\n",
    "    　初期化方法のインスタンス\n",
    "    optimizer : インスタンス\n",
    "    　最適化手法のインスタンス\n",
    "     \n",
    "    Attributes\n",
    "    ----------\n",
    "    W : numpy配列\n",
    "    　フィルタ\n",
    "    B : numpy配列\n",
    "    　バイアス\n",
    "    dif_W : numpy配列\n",
    "    　Wの微分\n",
    "    dif_B : numpy配列\n",
    "    　Bの微分\n",
    "    forward_input : numpy配列\n",
    "    　順伝搬の入力\n",
    "    index : numpy配列\n",
    "      順伝搬時に使用するindexを格納した配列\n",
    "    \"\"\"\n",
    "\n",
    "    def __init__(self, hidden_size_previous, hidden_size, filter_size, initializer, optimizer):\n",
    "        self.hidden_size_previous = hidden_size_previous\n",
    "        self.hidden_size = hidden_size\n",
    "        self.initializer = initializer\n",
    "        self.optimizer = optimizer\n",
    "\n",
    "        self.W = initializer.W(layer)\n",
    "        self.B = initializer.B(layer)\n",
    "        self.dif_W = None\n",
    "        self.dif_B = None\n",
    "        \n",
    "        self.forward_input = None\n",
    "        self.index = None\n",
    "        \n",
    "    \n",
    "    def forward(self, forward_input):\n",
    "        \"\"\"\n",
    "        フォワードプロバケーション\n",
    "        Parameters\n",
    "        ----------\n",
    "        forward_input : numpy配列\n",
    "            順伝搬の入力\n",
    "            \n",
    "        Returns\n",
    "        ----------\n",
    "        forward_output : numpy配列\n",
    "            順伝搬の出力\n",
    "        \"\"\"\n",
    "        #Xをコピー\n",
    "        self.forward_input = forward_input.copy()\n",
    "        \n",
    "        #配列作成\n",
    "        self.index = np.arange(self.W.shape[0]) + np.arange(self.W.shape[0] - 1).reshape(-1, 1)\n",
    "\n",
    "        #出力の計算\n",
    "        forward_output = forward_input[self.index] @ self.W.T + self.B\n",
    "\n",
    "        return forward_output\n",
    "    \n",
    "    \n",
    "    def backward(self, backward_input):\n",
    "        \"\"\"\n",
    "        バックプロバケーション\n",
    "        Parameters\n",
    "        ----------\n",
    "        backward_input : numpy配列\n",
    "            逆伝搬の入力\n",
    "            \n",
    "        Returns\n",
    "        ----------\n",
    "        backward_output : numpy配列\n",
    "            逆伝搬の出力\n",
    "        \"\"\"\n",
    "        self.dif_B = np.sum(backward_input)\n",
    "        \n",
    "        self.dif_W = np.dot(backward_input, self.forward_input[self.index])\n",
    "        \n",
    "        backward_output = np.zeros(self.forward_input.shape[0])\n",
    "        \n",
    "        output_size = self.compute_output_size_1d(self.forward_input.shape[0], 0, self.W.shape[0], 1)\n",
    "                \n",
    "        for j in range(self.forward_input.shape[0]):\n",
    "            for s in range(self.W.shape[0]):\n",
    "\n",
    "                if (j - s < 0) or (j - s > output_size - 1):\n",
    "                     backward_output[j] += 0 * self.W[s]\n",
    "                else:\n",
    "                    backward_output[j] += backward_input[j - s] * self.W[s]\n",
    "        \n",
    "        # 重み、バイアスの更新\n",
    "        self = self.optimizer.update(self)\n",
    "        return backward_output\n",
    "    \n",
    "    \n",
    "    def compute_output_size_1d(self, input_size,　filter_size, pad,  stride):\n",
    "        '''\n",
    "        出力サイズの計算\n",
    "        \n",
    "        Parameters\n",
    "        --------------\n",
    "        input_size : int\n",
    "            入力のサイズ\n",
    "        filter_size : \n",
    "            フィルター(重み)のサイズ\n",
    "        pad : int\n",
    "            パディング数\n",
    "        stride : \n",
    "            ストライドのサイズ\n",
    "            \n",
    "        returns\n",
    "        ---------\n",
    "        output_size : int\n",
    "            出力のサイズ\n",
    "        '''\n",
    "        output_size = int((input_size + 2 * pad - filter_size) / stride ) + 1\n",
    "        \n",
    "        return output_size"
   ]
  },
  {
   "cell_type": "markdown",
   "metadata": {
    "colab_type": "text",
    "id": "UPX2kJIJv8L_"
   },
   "source": [
    "## 【問題2】1次元畳み込み後の出力サイズの計算\n",
    "\n",
    "畳み込みを行うと特徴量の数が変化します。どのように変化するかは以下の数式から求められます。パディングやストライドも含めています。この計算を行う関数を作成してください。\n",
    "\n",
    "$$\n",
    "N_{out} =  \\frac{N_{in}+2P-F}{S} + 1\n",
    "$$\n",
    "\n",
    "$N_{out}$ : 出力のサイズ（特徴量の数）\n",
    "\n",
    "$N_{in}$ : 入力のサイズ（特徴量の数）\n",
    "\n",
    "$P$ : ある方向へのパディングの数\n",
    "\n",
    "$F$ : フィルタのサイズ\n",
    "\n",
    "$S$ : ストライドのサイズ"
   ]
  },
  {
   "cell_type": "code",
   "execution_count": 9,
   "metadata": {
    "colab": {},
    "colab_type": "code",
    "id": "gw2Xvpaqv8L_"
   },
   "outputs": [],
   "source": [
    "def compute_output_size_1d(input_size,　filter_size, stride, pad):\n",
    "        '''\n",
    "        出力サイズの計算\n",
    "        \n",
    "        Parameters\n",
    "        --------------\n",
    "        input_size : int\n",
    "            入力のサイズ\n",
    "        filter_size : \n",
    "            フィルター(重み)のサイズ\n",
    "        stride : \n",
    "            ストライドのサイズ\n",
    "        pad : int\n",
    "            パディング数\n",
    "  \n",
    "        returns\n",
    "        ---------\n",
    "        output_size : int\n",
    "            出力のサイズ\n",
    "        '''\n",
    "    compute_output_size_1d = int(((input_size + 2 * pad - filter_size) / stride ) + 1)\n",
    "    return compute_output_size_1d"
   ]
  },
  {
   "cell_type": "markdown",
   "metadata": {
    "colab_type": "text",
    "id": "_xwHeA1pv8MD"
   },
   "source": [
    "# 【問題3】小さな配列での1次元畳み込み層の実験\n",
    "\n",
    "次に示す小さな配列でフォワードプロパゲーションとバックプロパゲーションが正しく行えているか確認してください。\n",
    "\n",
    "入力x、重みw、バイアスbを次のようにします。"
   ]
  },
  {
   "cell_type": "code",
   "execution_count": null,
   "metadata": {},
   "outputs": [],
   "source": [
    "# x = np.array([1,2,3,4])  \n",
    "# w = np.array([3, 5, 7])  \n",
    "# b = np.array([1]) "
   ]
  },
  {
   "cell_type": "markdown",
   "metadata": {},
   "source": [
    "フォワードプロパゲーションをすると出力は次のようになります。"
   ]
  },
  {
   "cell_type": "code",
   "execution_count": null,
   "metadata": {},
   "outputs": [],
   "source": [
    "# a = np.array([35, 50])"
   ]
  },
  {
   "cell_type": "markdown",
   "metadata": {},
   "source": [
    "次にバックプロパゲーションを考えます。誤差は次のようであったとします。"
   ]
  },
  {
   "cell_type": "code",
   "execution_count": null,
   "metadata": {},
   "outputs": [],
   "source": [
    "# delta_a = np.array([10, 20])"
   ]
  },
  {
   "cell_type": "markdown",
   "metadata": {},
   "source": [
    "バックプロパゲーションをすると次のような値になります。"
   ]
  },
  {
   "cell_type": "code",
   "execution_count": null,
   "metadata": {},
   "outputs": [],
   "source": [
    "# delta_b = np.array([30])  \n",
    "# delta_w = np.array([50, 80, 110])  \n",
    "# delta_x = np.array([30, 110, 170, 140])"
   ]
  },
  {
   "cell_type": "markdown",
   "metadata": {
    "colab_type": "text",
    "id": "_k_HvPoSv8MD"
   },
   "source": [
    "## 実装上の工夫\n",
    "\n",
    "畳み込みを実装する場合は、まずはfor文を重ねていく形で構いません。しかし、できるだけ計算は効率化させたいため、以下の式を一度に計算する方法を考えることにします。\n",
    "\n",
    "$$\n",
    "a_i = \\sum_{s=0}^{F-1}x_{(i+s)}w_s+b\n",
    "$$"
   ]
  },
  {
   "cell_type": "markdown",
   "metadata": {
    "colab_type": "text",
    "id": "jt8bDO8fv8ME"
   },
   "source": [
    "バイアス項は単純な足し算のため、重みの部分を見ます。\n",
    "\n",
    "$$\n",
    "\\sum_{s=0}^{F-1}x_{(i+s)}w_s\n",
    "$$\n",
    "\n",
    "これは、xの一部を取り出した配列とwの配列の内積です。具体的な状況を考えると、以下のようなコードで計算できます。この例では流れを分かりやすくするために、各要素同士でアダマール積を計算してから合計を計算しています。これは結果的に内積と同様です。"
   ]
  },
  {
   "cell_type": "code",
   "execution_count": null,
   "metadata": {},
   "outputs": [],
   "source": [
    "# x = np.array([1, 2, 3, 4])\n",
    "# w = np.array([3, 5, 7])\n",
    "# a = np.empty((2, 3))\n",
    "\n",
    "# indexes0 = np.array([0, 1, 2]).astype(np.int)\n",
    "# indexes1 = np.array([1, 2, 3]).astype(np.int)\n",
    "\n",
    "# a[0] = x[indexes0]*w # x[indexes0]は([1, 2, 3])である\n",
    "# a[1] = x[indexes1]*w # x[indexes1]は([2, 3, 4])である\n",
    "\n",
    "# a = a.sum(axis=1)"
   ]
  },
  {
   "cell_type": "markdown",
   "metadata": {
    "colab_type": "text",
    "id": "w_SMA5msv8MF"
   },
   "source": [
    "ndarrayは配列を使ったインデックス指定ができることを利用した方法です。\n",
    "\n",
    "また、二次元配列を使えば一次元配列から二次元配列が取り出せます。\n"
   ]
  },
  {
   "cell_type": "code",
   "execution_count": null,
   "metadata": {},
   "outputs": [],
   "source": [
    "# x = np.array([1, 2, 3, 4])\n",
    "# indexes = np.array([[0, 1, 2], [1, 2, 3]]).astype(np.int)\n",
    "\n",
    "# print(x[indexes]) # ([[1, 2, 3], [2, 3, 4]])"
   ]
  },
  {
   "cell_type": "markdown",
   "metadata": {
    "colab_type": "text",
    "id": "BXamV4iLv8MF"
   },
   "source": [
    "このこととブロードキャストなどをうまく組み合わせることで、一度にまとめて計算することも可能です。\n",
    "\n",
    "畳み込みの計算方法に正解はないので、自分なりに効率化していってください。\n",
    "\n",
    "## 参考\n",
    "\n",
    "以下のページのInteger array indexingの部分がこの方法についての記述です。\n",
    "\n",
    "[Indexing — NumPy v1.15 Manual](https://docs.scipy.org/doc/numpy/reference/arrays.indexing.html)"
   ]
  },
  {
   "cell_type": "markdown",
   "metadata": {
    "colab_type": "text",
    "id": "E4XAioqvv8MG"
   },
   "source": [
    "## ①順伝搬"
   ]
  },
  {
   "cell_type": "code",
   "execution_count": 10,
   "metadata": {
    "colab": {},
    "colab_type": "code",
    "id": "6AdVo4O_v8MG"
   },
   "outputs": [],
   "source": [
    "#フォワードプロバケーションの初期値\n",
    "x = np.array([1,2,3,4])\n",
    "w = np.array([3, 5, 7])\n",
    "b = np.array([1])"
   ]
  },
  {
   "cell_type": "markdown",
   "metadata": {},
   "source": [
    "### 畳み込み演算を行うindexを作成"
   ]
  },
  {
   "cell_type": "code",
   "execution_count": 11,
   "metadata": {
    "colab": {
     "base_uri": "https://localhost:8080/",
     "height": 0
    },
    "colab_type": "code",
    "id": "4-M-ipI2v8MI",
    "outputId": "5da18ba5-bf51-410d-f9e3-93f5daa12316"
   },
   "outputs": [
    {
     "data": {
      "text/plain": [
       "array([0, 1, 2])"
      ]
     },
     "execution_count": 11,
     "metadata": {},
     "output_type": "execute_result"
    }
   ],
   "source": [
    "#配列作成\n",
    "index1 = np.arange(w.shape[0])\n",
    "index1"
   ]
  },
  {
   "cell_type": "code",
   "execution_count": 12,
   "metadata": {},
   "outputs": [
    {
     "data": {
      "text/plain": [
       "array([[0],\n",
       "       [1]])"
      ]
     },
     "execution_count": 12,
     "metadata": {},
     "output_type": "execute_result"
    }
   ],
   "source": [
    "index2 = np.arange(w.shape[0] - 1).reshape(-1, 1)\n",
    "index2"
   ]
  },
  {
   "cell_type": "code",
   "execution_count": 13,
   "metadata": {},
   "outputs": [
    {
     "data": {
      "text/plain": [
       "array([[0, 1, 2],\n",
       "       [1, 2, 3]])"
      ]
     },
     "execution_count": 13,
     "metadata": {},
     "output_type": "execute_result"
    }
   ],
   "source": [
    "index3 = index1 + index2\n",
    "index3"
   ]
  },
  {
   "cell_type": "code",
   "execution_count": 14,
   "metadata": {},
   "outputs": [
    {
     "data": {
      "text/plain": [
       "array([[1, 2, 3],\n",
       "       [2, 3, 4]])"
      ]
     },
     "execution_count": 14,
     "metadata": {},
     "output_type": "execute_result"
    }
   ],
   "source": [
    "x[index3]"
   ]
  },
  {
   "cell_type": "markdown",
   "metadata": {},
   "source": [
    "### 畳み込み演算を実施"
   ]
  },
  {
   "cell_type": "code",
   "execution_count": 15,
   "metadata": {},
   "outputs": [
    {
     "data": {
      "text/plain": [
       "array([[3],\n",
       "       [5],\n",
       "       [7]])"
      ]
     },
     "execution_count": 15,
     "metadata": {},
     "output_type": "execute_result"
    }
   ],
   "source": [
    "w[:, np.newaxis]"
   ]
  },
  {
   "cell_type": "code",
   "execution_count": 16,
   "metadata": {},
   "outputs": [
    {
     "data": {
      "text/plain": [
       "array([[34],\n",
       "       [49]])"
      ]
     },
     "execution_count": 16,
     "metadata": {},
     "output_type": "execute_result"
    }
   ],
   "source": [
    "x[index3] @ w[:, np.newaxis]"
   ]
  },
  {
   "cell_type": "code",
   "execution_count": 17,
   "metadata": {},
   "outputs": [
    {
     "data": {
      "text/plain": [
       "array([[35],\n",
       "       [50]])"
      ]
     },
     "execution_count": 17,
     "metadata": {},
     "output_type": "execute_result"
    }
   ],
   "source": [
    "x[index3] @ w[:, np.newaxis] + b"
   ]
  },
  {
   "cell_type": "markdown",
   "metadata": {},
   "source": [
    "## ②逆伝搬"
   ]
  },
  {
   "cell_type": "code",
   "execution_count": 18,
   "metadata": {
    "colab": {},
    "colab_type": "code",
    "id": "3BX_k97tv8MO"
   },
   "outputs": [],
   "source": [
    "#バックプロバケーションの初期値\n",
    "delta_a = np.array([10, 20])"
   ]
  },
  {
   "cell_type": "code",
   "execution_count": 19,
   "metadata": {
    "colab": {
     "base_uri": "https://localhost:8080/",
     "height": 0
    },
    "colab_type": "code",
    "id": "Su2DsME8v8MR",
    "outputId": "1ab91f4e-f826-4d84-af93-ee9a998d7ac0"
   },
   "outputs": [
    {
     "data": {
      "text/plain": [
       "30"
      ]
     },
     "execution_count": 19,
     "metadata": {},
     "output_type": "execute_result"
    }
   ],
   "source": [
    "delta_b = np.sum(delta_a)\n",
    "delta_b"
   ]
  },
  {
   "cell_type": "code",
   "execution_count": 20,
   "metadata": {
    "colab": {
     "base_uri": "https://localhost:8080/",
     "height": 0
    },
    "colab_type": "code",
    "id": "6OxJSEIjv8MU",
    "outputId": "fd22c46b-a8e3-43c7-a49d-f09765791b19"
   },
   "outputs": [
    {
     "data": {
      "text/plain": [
       "array([ 50,  80, 110])"
      ]
     },
     "execution_count": 20,
     "metadata": {},
     "output_type": "execute_result"
    }
   ],
   "source": [
    "delta_w = np.dot(delta_a, x[index3])\n",
    "delta_w"
   ]
  },
  {
   "cell_type": "code",
   "execution_count": 21,
   "metadata": {
    "colab": {
     "base_uri": "https://localhost:8080/",
     "height": 0
    },
    "colab_type": "code",
    "id": "5q5tHz0cv8MX",
    "outputId": "0883fddd-0367-416c-d285-d3ec4b8a8323"
   },
   "outputs": [
    {
     "data": {
      "text/plain": [
       "array([ 30., 110., 170., 140.])"
      ]
     },
     "execution_count": 21,
     "metadata": {},
     "output_type": "execute_result"
    }
   ],
   "source": [
    "#0配列を用意\n",
    "dx = np.zeros(x.shape[0])\n",
    "\n",
    "#計算\n",
    "for j in range(x.shape[0]):\n",
    "    for s in range(w.shape[0]):\n",
    "        \n",
    "        #場合分け\n",
    "        if j - s < 0 or j - s > 1:\n",
    "             dx[j] += 0 * w[s]\n",
    "        else:\n",
    "            dx[j] += delta_a[j - s] * w[s]\n",
    "\n",
    "dx"
   ]
  },
  {
   "cell_type": "markdown",
   "metadata": {
    "colab_type": "text",
    "id": "xXTxnFAvv8Ma"
   },
   "source": [
    "# 【問題4】チャンネル数を限定しない1次元畳み込み層クラスの作成\n",
    "\n",
    "チャンネル数を1に限定しない1次元畳み込み層のクラスConv1dを作成してください。\n",
    "\n",
    "紙やホワイトボードを使い計算グラフを書きながら考えてください。\n",
    "\n",
    "例えば以下のようなx, w, bがあった場合は、"
   ]
  },
  {
   "cell_type": "code",
   "execution_count": null,
   "metadata": {},
   "outputs": [],
   "source": [
    "# x = np.array([[1, 2, 3, 4], [2, 3, 4, 5]]) # shape(2, 4)で、（入力チャンネル数、特徴量数）である。  \n",
    "# w = np.ones((3, 2, 3)) # 例の簡略化のため全て1とする。(出力チャンネル数、入力チャンネル数、フィルタサイズ)である。  \n",
    "# b = np.array([1, 2, 3]) # （出力チャンネル数）"
   ]
  },
  {
   "cell_type": "markdown",
   "metadata": {},
   "source": [
    "出力は次のようになります。"
   ]
  },
  {
   "cell_type": "code",
   "execution_count": null,
   "metadata": {},
   "outputs": [],
   "source": [
    "# a = np.array([[16, 22], [17, 23], [18, 24]]) # shape(3, 2)で、（出力チャンネル数、特徴量数）である。"
   ]
  },
  {
   "cell_type": "markdown",
   "metadata": {},
   "source": [
    "入力が2チャンネル、出力が3チャンネルの例です。計算グラフを書いた上で、バックプロパゲーションも手計算で考えてみましょう。計算グラフの中には和と積しか登場しないので、微分を新たに考える必要はありません。\n",
    "## 補足\n",
    "\n",
    "チャンネル数を加える場合、配列をどういう順番にするかという問題があります。(バッチサイズ、チャンネル数、特徴量数)または(バッチサイズ、特徴量数、チャンネル数)が一般的で、ライブラリによって順番は異なっています。（切り替えて使用できるものもあります）\n",
    "\n",
    "今回のスクラッチでは自身の実装上どちらが効率的かを考えて選んでください。上記の例ではバッチサイズは考えておらず、(チャンネル数、特徴量数)です。"
   ]
  },
  {
   "cell_type": "code",
   "execution_count": 24,
   "metadata": {
    "colab": {},
    "colab_type": "code",
    "id": "qtdck_WAv8Mg"
   },
   "outputs": [],
   "source": [
    "class Conv1d:\n",
    "    \"\"\"\n",
    "    チャンネル数を指定しない1次元畳み込み層クラス\n",
    "    Parameters\n",
    "    ----------\n",
    "    filter_num : int\n",
    "      フィルタの数\n",
    "    channel_num : int\n",
    "      フィルタのチャンネル数\n",
    "    filter_size : int\n",
    "      フィルタサイズ\n",
    "    initializer : インスタンス\n",
    "        初期化方法のインスタンス\n",
    "    optimizer : インスタンス\n",
    "        最適化手法のインスタンス\n",
    "    stride : int\n",
    "        ストライド\n",
    "    pad : int\n",
    "         パディング\n",
    "         \n",
    "    Attributes\n",
    "    ----------\n",
    "    W : numpy配列\n",
    "        重み\n",
    "    B : numpy配列\n",
    "        バイアス\n",
    "    forward_input : numpy配列 \n",
    "        順伝搬の入力\n",
    "    out_w : numpy配列\n",
    "        順伝搬時に使用する配列\n",
    "    \"\"\"\n",
    "        \n",
    "    def __init__(self, filter_num, channel_num, filter_size, initializer, optimizer, stride, pad):\n",
    "        self.filter_num = filter_num\n",
    "        self.channel_num = channel_num\n",
    "        self.filter_size = filter_size\n",
    "        self.initializer = initializer\n",
    "        self.optimizer = optimizer\n",
    "        self.stride = stride\n",
    "        self.pad = pad\n",
    "        # 初期化\n",
    "        # initializerのメソッドを使い、self.Wとself.Bを初期化する\n",
    "        self.W = self.initializer.W(self)\n",
    "        self.B = self.initializer.B(self)\n",
    "        \n",
    "        #インスタンス変数\n",
    "        self.forward_input = None\n",
    "        self.out_w = None\n",
    "\n",
    "\n",
    "    \n",
    "    def forward(self, forward_input):\n",
    "        \"\"\"\n",
    "        フォワードプロバケーション\n",
    "        Parameters\n",
    "        ----------\n",
    "        forward_input : 入力\n",
    "            \n",
    "        Returns\n",
    "        ----------\n",
    "        forward_output : 出力\n",
    "        \"\"\"\n",
    "        self.forward_input = forward_input\n",
    "        \n",
    "        batch, C, W = self.forward_input.shape\n",
    "        \n",
    "        FN, C, FS = self.W.shape\n",
    "\n",
    "        self.out_w = self.compute_output_size_1d(W, self.pad, FS, self.stride)\n",
    "\n",
    "        forward_output = np.zeros((batch, FN, self.out_w)) #(バッチサイズ, 出力チャンネル数, 特徴量数)\n",
    "\n",
    "        #バッチ\n",
    "        for i in range(batch):\n",
    "            #出力チャンネル\n",
    "            for j in range(FN):\n",
    "                #入力チャンネル\n",
    "                for k in range(C):\n",
    "                    #特徴量数\n",
    "                    for l in range(self.out_w):\n",
    "                        forward_output[i, j, l] += np.sum(self.forward_input[i, k, l: l + FS] * self.W[j, k, :] ) \n",
    "\n",
    "        forward_output += self.B.reshape(1, -1, 1)\n",
    "        \n",
    "        return forward_output\n",
    "\n",
    "    \n",
    "    def backward(self, backward_input):\n",
    "        \"\"\"\n",
    "        バックプロバケーション\n",
    "        Parameters\n",
    "        ----------\n",
    "        backward_input : numpy配列\n",
    "            逆伝搬の入力\n",
    "            \n",
    "        Returns\n",
    "        ----------\n",
    "        backward_output : numpy配列\n",
    "            逆伝搬の出力\n",
    "        \"\"\"\n",
    "        FN, FC, FS = self.W.shape\n",
    "        batch, C, W = self.forward_input.shape\n",
    "\n",
    "        self.dif_W = np.zeros(self.W.shape)\n",
    "        backward_output = np.zeros(self.forward_input.shape)\n",
    "\n",
    "        for i in range(batch):\n",
    "            for j in range(FN):\n",
    "                for k in range(FC):\n",
    "                    for l in range(FS):\n",
    "                        for m in range(self.out_w):\n",
    "                            self.dif_W[j, k, l] += backward_input[i, j, m] * self.forward_input[i, k, l + m]\n",
    "                            backward_output[i, k, l + m] += backward_input[i, j, m] * self.W[j, k, l]\n",
    "\n",
    "        self.dif_B = backward_input.sum(axis=2)\n",
    "        \n",
    "        # 重み、バイアスの更新\n",
    "        self = self.optimizer.update(self)\n",
    "        \n",
    "        return backward_output\n",
    "\n",
    "    \n",
    "    def compute_output_size_1d(self, input_size, filter_size, stride, pad):\n",
    "        '''\n",
    "        出力サイズの計算\n",
    "        \n",
    "        Parameters\n",
    "        --------------\n",
    "        input_size : int\n",
    "            入力のサイズ\n",
    "        filter_size : \n",
    "            フィルター(重み)のサイズ\n",
    "        stride : \n",
    "            ストライドのサイズ\n",
    "        pad : int\n",
    "            パディング数\n",
    "            \n",
    "        returns\n",
    "        ---------\n",
    "        compute_output_size_1d_size : int\n",
    "            出力のサイズ\n",
    "        '''\n",
    "        compute_output_size_1d = int((input_size + 2 * pad - filter_size) / stride ) + 1\n",
    "        \n",
    "        return compute_output_size_1d"
   ]
  },
  {
   "cell_type": "markdown",
   "metadata": {
    "colab_type": "text",
    "id": "wgweK2C8v8Mh"
   },
   "source": [
    "## 【問題5】学習・推定\n",
    "\n",
    "これまで使ってきたニューラルネットワークの全結合層の一部をConv1dに置き換えて学習と推定を行ってください。出力層だけは全結合層をそのまま使ってください。\n",
    "\n",
    "チャンネルが複数ある状態では全結合層への入力は行えません。その段階でのチャンネルは1になるようにするか、平滑化を行います。平滑化はNumPyのreshapeが使用できます。\n",
    "\n",
    "[numpy.reshape — NumPy v1.15 Manual](https://docs.scipy.org/doc/numpy-1.15.1/reference/generated/numpy.reshape.html)\n",
    "\n",
    "画像に対しての1次元畳み込みは実用上は行わないことのため、精度は問いません。"
   ]
  },
  {
   "cell_type": "markdown",
   "metadata": {},
   "source": [
    "## ScratchConv1DNeuralNetrowkClassifierクラス"
   ]
  },
  {
   "cell_type": "code",
   "execution_count": 25,
   "metadata": {},
   "outputs": [],
   "source": [
    "class ScratchConv1DNeuralNetrowkClassifier():\n",
    "    \n",
    "    \"\"\"\n",
    "    シンプルなCNN分類器\n",
    "\n",
    "    Parameters\n",
    "    ----------\n",
    "    lr :　float\n",
    "        学習率\n",
    "    sigma　：　float\n",
    "        ガウス分布の標準偏差\n",
    "    batch_size : int\n",
    "        バッチサイズ\n",
    "    n_epochs : int\n",
    "        エポック数\n",
    "    conv_params : タプル\n",
    "        Conv層の情報\n",
    "    hidden_size : int\n",
    "        隠れ層の数\n",
    "    n_output : int\n",
    "        出力のクラス数（3層目のノード数）\n",
    "    initilizer : インスタンス\n",
    "        初期化方法のクラスのインスタンス\n",
    "    activater : インスタンス\n",
    "        活性化関数のクラスのインスタンス\n",
    "    optimizer : インスタンス\n",
    "        最適化方法のインスタンス\n",
    "    verbose : bool\n",
    "        学習結果を表示するかを設定するフラグ\n",
    "    \n",
    "    Attributes\n",
    "    ----------\n",
    "    filter_channel : int\n",
    "        フィルターのチャンネル数\n",
    "    filter_num : int\n",
    "        フィルターの数\n",
    "    filter_size : int\n",
    "        フィルターのサイズ\n",
    "    stride : int\n",
    "        ストライド\n",
    "    pad : int\n",
    "        パディング\n",
    "        \n",
    "    hidden_size : int\n",
    "        隠れ層の数\n",
    "    n_output : int\n",
    "        出力サイズ\n",
    "        \n",
    "    self.loss_list : list\n",
    "        エポック毎の学習用データに対するロスを格納しているリスト\n",
    "    self.val_loss_list : list\n",
    "        エポック毎の検証用データに対するロスを格納しているリスト\n",
    "    self.verification_flag : bool\n",
    "        検証用データの有無を設定するフラグ\n",
    "    self.layers : OrderdDict\n",
    "        各層のインスタンスを格納する辞書\n",
    "    \"\"\"\n",
    "\n",
    "    def __init__(self,lr, sigma, batch_size, n_epochs, conv_params,\\\n",
    "                 hidden_size, n_output, initializer, activater, optimizer, verbose=None):\n",
    "\n",
    "        self.lr = lr\n",
    "        self.sigma = sigma\n",
    "        self.batch_size = batch_size\n",
    "        self.n_epochs = n_epochs\n",
    "        \n",
    "        self.filter_channel = conv_params['filter_channel']\n",
    "        self.filter_num = conv_params['filter_num']\n",
    "        self.filter_size = conv_params['filter_size']\n",
    "        self.stride = conv_params['stride']\n",
    "        self.pad = conv_params['pad']\n",
    "        \n",
    "        self.hidden_size = hidden_size\n",
    "        self.n_output = n_output\n",
    "        \n",
    "        self.verbose = verbose\n",
    "        \n",
    "        # 損失を記録する配列を用意\n",
    "        self.loss_list = []\n",
    "        self.val_loss_list = []\n",
    "        self.verification_flag = None\n",
    "\n",
    "        FC_init_dict = {'Sim' : SimpleInitializer(sigma=self.sigma, model_name='FC'),\\\n",
    "                        'Xa' : XavierInitializer(model_name='FC'),\\\n",
    "                        'He' : HeInitializer(model_name='FC')}\n",
    "        \n",
    "        Conv_init_dict = {'Sim' : SimpleInitializer(sigma=self.sigma, model_name='Conv'),\\\n",
    "                          'Xa' : XavierInitializer(model_name='Conv'),\\\n",
    "                          'He' : HeInitializer(model_name='Conv')}\n",
    "        \n",
    "        \n",
    "        act_dict = {'Sig' : Sigmoid(),\\\n",
    "                    'Relu' : Relu(),\\\n",
    "                    'Tanh' : Tanh()}\n",
    "        \n",
    "        \n",
    "        opt_dict = {'SGD' : SGD(lr=self.lr),\\\n",
    "                    'AdaGrad' : AdaGrad(lr=self.lr)}\n",
    "        \n",
    "        FC_init = FC_init_dict[initializer]\n",
    "        Conv_init = Conv_init_dict[initializer]\n",
    "        act = act_dict[activater]\n",
    "        opt = opt_dict[optimizer]\n",
    "        \n",
    "        # OrderedDictに各層のインスタンスを格納する\n",
    "        self.layers = OrderedDict()\n",
    "\n",
    "        self.layers['Conv1'] = Conv1d(filter_num=self.filter_num,\\\n",
    "                                      channel_num = self.filter_channel,\\\n",
    "                                      filter_size=self.filter_size,\\\n",
    "                                      initializer=copy.deepcopy(Conv_init),\\\n",
    "                                      optimizer=copy.deepcopy(opt),\\\n",
    "                                      stride=self.stride,\\\n",
    "                                      pad=self.pad)\n",
    "        \n",
    "        self.layers['Act1'] = copy.deepcopy(act)\n",
    "\n",
    "        self.layers['Flat'] = Flatten()\n",
    "        \n",
    "        \n",
    "        self.layers['FC1'] = FC(n_nodes2 = hidden_size,\\\n",
    "                                initializer=copy.deepcopy(FC_init),\\\n",
    "                                optimizer=copy.deepcopy(opt))\n",
    "        self.layers['Act4'] = copy.deepcopy(act)\n",
    "        \n",
    "        \n",
    "        self.layers['FC2'] = FC(n_nodes2=self.n_output,\\\n",
    "                                initializer=copy.deepcopy(FC_init),\\\n",
    "                                optimizer=copy.deepcopy(opt))\n",
    "        self.layers['Last_layer'] = Softmax_withloss()\n",
    "        \n",
    "    \n",
    "    def fit(self, X_train, y_train, X_val=None, y_val=None):\n",
    "        \n",
    "        \"\"\"\n",
    "        ニューラルネットワーク分類器を学習する。\n",
    "\n",
    "        Parameters\n",
    "        ----------\n",
    "        X_train : numpy配列\n",
    "            学習用データの特徴データ\n",
    "        y_train : numpy配列\n",
    "            学習用データの正解データ\n",
    "        X_val : numpy配列\n",
    "            検証用データの特徴データ\n",
    "        y_val : numpy配列\n",
    "            検証用データの正解データ\n",
    "        \"\"\"\n",
    "        # 検証データの有無を記録するフラグ\n",
    "        if X_val is not None and y_val is not None:\n",
    "            self.verification_flag = True\n",
    "        \n",
    "        # OneHotEncoding\n",
    "        enc = OneHotEncoder(handle_unknown='ignore', sparse=False)\n",
    "        y_train_one_hot = enc.fit_transform(y_train[:, np.newaxis])\n",
    "        \n",
    "        # 検証用データの有無を確認し、self.verification_flagを更新\n",
    "        if self.verification_flag:\n",
    "            y_val_one_hot = enc.transform(y_val[:, np.newaxis])\n",
    "        \n",
    "        \"\"\"\n",
    "        ミニバッチ処理開始\n",
    "        \"\"\"\n",
    "        #ミニバッチ処理を行うインスタンスを作成\n",
    "\n",
    "        for e in range(self.n_epochs):\n",
    "            get_mini_batch_train = GetMiniBatch(X_train, y_train_one_hot, batch_size=self.batch_size)\n",
    "            \n",
    "            # バッチサイズ毎にデータを取得し、順伝搬、逆伝搬を行い重みとバイアス項を更新する\n",
    "            for mini_X_train, mini_y_train in get_mini_batch_train:\n",
    "                _ = self.forward(mini_X_train)\n",
    "                self.backward(mini_y_train)\n",
    "\n",
    "            # 学習用データとのロスを計算しリストに格納\n",
    "            train_loss = self.loss(X_train, y_train_one_hot)\n",
    "            self.loss_list.append(train_loss)\n",
    "\n",
    "            # 検証用データの有無を判別→データが存在する場合、検証用データとのロスを計算しリストに格納\n",
    "            if self.verification_flag:\n",
    "                val_loss = self.loss(X_val, y_val_one_hot)\n",
    "                self.val_loss_list.append(val_loss)\n",
    "\n",
    "                \n",
    "            #verboseをTrueにした際は学習過程などを出力する\n",
    "            if self.verbose:\n",
    "                print('{}epoch目\\n'.format(e + 1))\n",
    "                print('学習用正解データとの誤差　：　{:.4f}\\n'.format(train_loss))\n",
    "\n",
    "                if self.verification_flag:\n",
    "                    print('検証用正解データとの誤差　：　{:.4f}\\n'.format(val_loss))\n",
    "                print('------------------------------------------------')\n",
    "\n",
    "\n",
    "    def predict(self, test_data):\n",
    "        \"\"\"\n",
    "        ニューラルネットワーク分類器を使い推定する。\n",
    "\n",
    "        Parameters\n",
    "        ----------\n",
    "        test_data : numpy配列\n",
    "            テストデータ\n",
    "\n",
    "        Returns\n",
    "        -------\n",
    "        y_pred : numpy配列\n",
    "            推定結果\n",
    "        \"\"\"\n",
    "        # 順伝搬の出力(最後の層はsoftmaxなので、各クラスの予測確率)を計算\n",
    "        forward_output = self.forward(test_data)\n",
    "        \n",
    "        # 最も高い値のindexを出力する\n",
    "        y_pred = np.argmax(forward_output, axis=1)\n",
    "        \n",
    "        return y_pred\n",
    "\n",
    "    \n",
    "    # 順伝搬\n",
    "    def forward(self, input_data):\n",
    "        \"\"\"\n",
    "        順伝搬\n",
    "\n",
    "        Parameters\n",
    "        ----------\n",
    "        input_data : numpy配列\n",
    "            入力データ\n",
    "\n",
    "        Returns\n",
    "        -------\n",
    "        forward_output : numpy配列\n",
    "            順伝搬の出力\n",
    "        \"\"\"\n",
    "        forward_output = input_data\n",
    "        \n",
    "        # 順伝搬の出力の計算\n",
    "        # 各層を順にlayerに格納し順伝搬の計算を行い、出力結果を次の層のforwardメソッドに入力していく\n",
    "        for layer in self.layers.values():\n",
    "            forward_output = layer.forward(forward_output)\n",
    "\n",
    "        return forward_output\n",
    "        \n",
    "    \n",
    "    # 誤差逆伝搬\n",
    "    def backward(self,teacher_data):\n",
    "        \"\"\"\n",
    "        逆伝搬\n",
    "\n",
    "        Parameters\n",
    "        ----------\n",
    "        teacher_data : numpy配列\n",
    "            入力データ\n",
    "        \"\"\"\n",
    "        backward = teacher_data\n",
    "        \n",
    "        layers = list(self.layers.values())\n",
    "        layers.reverse()\n",
    "        \n",
    "        for layer in layers:\n",
    "            backward = layer.backward(backward)\n",
    "\n",
    "            \n",
    "            \n",
    "    def loss(self, input_data, teacher_data):\n",
    "        \"\"\"\n",
    "        ロスを計算\n",
    "\n",
    "        Parameters\n",
    "        ----------\n",
    "        input_data : numpy配列\n",
    "            入力データ\n",
    "        teacher_data : numpy配列\n",
    "            正解データ\n",
    "\n",
    "        Returns\n",
    "        -------\n",
    "        loss_per_batch_size : numpy配列\n",
    "            １データ毎のクロスエントロピー誤差\n",
    "        \"\"\"\n",
    "        forward_output = self.forward(input_data)\n",
    "        loss_per_batch_size = self.layers['Last_layer'].cross_entropy_error(teacher_data)\n",
    "        \n",
    "        return loss_per_batch_size\n",
    "        \n",
    "\n",
    "    def plot_learning_curve(self):\n",
    "        \"\"\"\n",
    "        学習曲線を表示(学習データに対してのロス・検証データに対してのロス)\n",
    "        \"\"\"\n",
    "        plt.plot(range(self.n_epochs), self.loss_list, label='loss')\n",
    "        plt.plot(range(self.n_epochs), self.val_loss_list, label='val_loss')\n",
    "        plt.xlabel('epoch')\n",
    "        plt.ylabel('mse')\n",
    "        plt.title('Learning curve')\n",
    "        plt.legend()\n",
    "        return"
   ]
  },
  {
   "cell_type": "markdown",
   "metadata": {},
   "source": [
    "## GetMiniBatchクラス"
   ]
  },
  {
   "cell_type": "code",
   "execution_count": 26,
   "metadata": {
    "colab": {},
    "colab_type": "code",
    "id": "E1QQ2pqQv8Mj"
   },
   "outputs": [],
   "source": [
    "class GetMiniBatch:\n",
    "    \"\"\"\n",
    "    ミニバッチを取得するイテレータ\n",
    "\n",
    "    Parameters\n",
    "    ----------\n",
    "    X : 次の形のndarray, shape (n_samples, n_features)\n",
    "      学習データ\n",
    "    y : 次の形のndarray, shape (n_samples, 1)\n",
    "      正解値\n",
    "    batch_size : int\n",
    "      バッチサイズ\n",
    "    seed : int\n",
    "      NumPyの乱数のシード\n",
    "    \"\"\"\n",
    "    def __init__(self, X, y, batch_size = 10, seed=0):\n",
    "        self.batch_size = batch_size\n",
    "        np.random.seed(seed)\n",
    "        shuffle_index = np.random.permutation(np.arange(X.shape[0]))\n",
    "        self.X = X[shuffle_index]\n",
    "        self.y = y[shuffle_index]\n",
    "        self._stop = np.ceil(X.shape[0]/self.batch_size).astype(np.int)\n",
    "\n",
    "    def __len__(self):\n",
    "        return self._stop\n",
    "\n",
    "    def __getitem__(self,item):\n",
    "        p0 = item*self.batch_size\n",
    "        p1 = item*self.batch_size + self.batch_size\n",
    "        return self.X[p0:p1], self.y[p0:p1]        \n",
    "\n",
    "    def __iter__(self):\n",
    "        self._counter = 0\n",
    "        return self\n",
    "\n",
    "    def __next__(self):\n",
    "        if self._counter >= self._stop:\n",
    "            raise StopIteration()\n",
    "        p0 = self._counter*self.batch_size\n",
    "        p1 = self._counter*self.batch_size + self.batch_size\n",
    "        self._counter += 1\n",
    "        return self.X[p0:p1], self.y[p0:p1]"
   ]
  },
  {
   "cell_type": "markdown",
   "metadata": {
    "colab_type": "text",
    "id": "m3akqCGRv8Mk"
   },
   "source": [
    "## FCクラス"
   ]
  },
  {
   "cell_type": "code",
   "execution_count": 27,
   "metadata": {
    "colab": {},
    "colab_type": "code",
    "id": "Iu9tO2bbv8Ml"
   },
   "outputs": [],
   "source": [
    "class FC:\n",
    "    \"\"\"\n",
    "    ノード数n_nodes1からn_nodes2への全結合層\n",
    "    Parameters\n",
    "    ----------\n",
    "    n_nodes1 : int\n",
    "      前の層のノード数\n",
    "    n_nodes2 : int\n",
    "      後の層のノード数\n",
    "    initializer : 初期化方法のインスタンス\n",
    "    optimizer : 最適化手法のインスタンス\n",
    "    \"\"\"\n",
    "    def __init__(self, n_nodes2, initializer, optimizer):\n",
    "        self.n_nodes1 = None\n",
    "        self.n_nodes2 = n_nodes2\n",
    "        self.initializer = initializer\n",
    "        self.optimizer = optimizer\n",
    "        # 初期化\n",
    "        # initializerのメソッドを使い、self.Wとself.Bを初期化する\n",
    "        self.W = None\n",
    "        self.B = None\n",
    "        \n",
    "        #インスタンス変数\n",
    "        self.forward_input = None\n",
    "        self.dif_B = None\n",
    "        self.dif_W = None\n",
    "        \n",
    "        self.first_forward = True\n",
    "\n",
    "    \n",
    "    def forward(self, forward_input):\n",
    "        \"\"\"\n",
    "        フォワードプロバケーション\n",
    "        Parameters\n",
    "        ----------\n",
    "        forward_input : 次の形のndarray, shape (batch_size, n_nodes1)\n",
    "            入力\n",
    "            \n",
    "        Returns\n",
    "        ----------\n",
    "        forward_output : 次の形のndarray, shape (batch_size, n_nodes2)\n",
    "            出力\n",
    "        \"\"\"\n",
    "        # 最初の順伝搬の時は入力データのshapeからself.Wとself.Bを初期化する\n",
    "        if self.first_forward == True:\n",
    "            self.first_forward = False\n",
    "            self.n_nodes1 = forward_input.shape[1]\n",
    "            self.W = self.initializer.W(self)\n",
    "            self.B = self.initializer.B(self)\n",
    "        \n",
    "        \n",
    "        self.forward_input = forward_input.copy()\n",
    "        forward_output = np.dot(forward_input, self.W) + self.B\n",
    "        \n",
    "        return forward_output\n",
    "    \n",
    "    \n",
    "    def backward(self, backward_input):\n",
    "        \"\"\"\n",
    "        バックプロバケーション\n",
    "        Parameters\n",
    "        ----------\n",
    "        backward_input : 次の形のndarray, shape(batch_size, n_nodes2)\n",
    "            後ろから流れてきた勾配\n",
    "            \n",
    "        Returns\n",
    "        ----------\n",
    "        backward_output : 次の形のndarray, shape (batch_size, n_nodes1)\n",
    "            前に流す勾配\n",
    "        \"\"\"\n",
    "        self.dif_B = backward_input \n",
    "        self.dif_W = np.dot(self.forward_input.T, backward_input) \n",
    "        backward_output = np.dot(backward_input, self.W.T) \n",
    "        \n",
    "        # 重み、バイアスの更新\n",
    "        self = self.optimizer.update(self)\n",
    "        \n",
    "        return backward_output"
   ]
  },
  {
   "cell_type": "markdown",
   "metadata": {
    "colab_type": "text",
    "id": "U7EF8izMv8Mn"
   },
   "source": [
    "## SimpleInitializerクラス"
   ]
  },
  {
   "cell_type": "code",
   "execution_count": 28,
   "metadata": {
    "colab": {},
    "colab_type": "code",
    "id": "dUdKwGu9v8Mo"
   },
   "outputs": [],
   "source": [
    "class SimpleInitializer:\n",
    "        \"\"\"\n",
    "        ガウス分布によるシンプルな初期化\n",
    "        Parameters\n",
    "        ----------\n",
    "        sigma : float\n",
    "          ガウス分布の標準偏差\n",
    "        model_name : string\n",
    "          初期化する層を決める文字列\n",
    "        \"\"\"\n",
    "    def __init__(self, sigma, model_name):\n",
    "        self.sigma = sigma \n",
    "        self.model_name = model_name\n",
    "        \n",
    "    def W(self, layer):\n",
    "        \"\"\"\n",
    "        重みの初期化\n",
    "        Parameters\n",
    "        ----------\n",
    "        layer : インスタンス\n",
    "            各層のインスタンス\n",
    "\n",
    "        Returns\n",
    "        ----------\n",
    "        W : numpy配列\n",
    "            重み\n",
    "        \"\"\"\n",
    "        #FC層の初期化\n",
    "        if self.model_name == 'FC':\n",
    "            W =  self.sigma * np.random.randn(layer.n_nodes1, layer.n_nodes2) \n",
    "        #Conv層の初期化\n",
    "        if self.model_name == 'Conv':\n",
    "            W =  self.sigma * np.random.randn(layer.filter_num, layer.channel_num, layer.filter_size) \n",
    "\n",
    "        return W\n",
    "    \n",
    "    \n",
    "    def B(self, layer):\n",
    "        \"\"\"\n",
    "        バイアスの初期化\n",
    "        Parameters\n",
    "        ----------\n",
    "        layer : インスタンス\n",
    "            各層のインスタンス\n",
    "\n",
    "        Returns\n",
    "        ----------\n",
    "        B :numpy配列\n",
    "            バイアス\n",
    "        \"\"\"\n",
    "        #FC層の初期化\n",
    "        if self.model_name == 'FC':\n",
    "            B = self.sigma * np.random.randn(layer.n_nodes2)\n",
    "            \n",
    "        #Conv層の初期化\n",
    "        if self.model_name == 'Conv':\n",
    "            B = self.sigma * np.random.randn(layer.filter_num)\n",
    "        \n",
    "        return B"
   ]
  },
  {
   "cell_type": "markdown",
   "metadata": {},
   "source": [
    "## XavierInitializerクラス"
   ]
  },
  {
   "cell_type": "code",
   "execution_count": 29,
   "metadata": {},
   "outputs": [],
   "source": [
    "class XavierInitializer:\n",
    "        \"\"\"\n",
    "        Xavierの初期値のクラス\n",
    "        Parameters\n",
    "        ----------\n",
    "        model_name : string\n",
    "            初期化する層を決める文字列\n",
    "        \"\"\"\n",
    "    def __init__(self, model_name):\n",
    "        self.model_name = model_name\n",
    "        \n",
    "\n",
    "    def W(self, layer):\n",
    "        \"\"\"\n",
    "        重みの初期化\n",
    "        Parameters\n",
    "        ----------\n",
    "        layer : インスタンス\n",
    "            各層のインスタンス\n",
    "\n",
    "        Returns\n",
    "        ----------\n",
    "        W : numpy配列\n",
    "            重み\n",
    "        \"\"\"\n",
    "        \n",
    "        #FC層の初期化\n",
    "        if self.model_name == 'FC':\n",
    "            W = np.random.randn(layer.n_nodes1, layer.n_nodes2) / np.sqrt(layer.n_nodes1) \n",
    "        #Conv層の初期化\n",
    "        if self.model_name == 'Conv':\n",
    "            W =  np.random.randn(layer.filter_num, layer.channel_num, layer.filter_size, layer.filter_size) / np.sqrt(layer.filter_num) \n",
    "        \n",
    "        return W\n",
    "    \n",
    "    \n",
    "    def B(self, layer):\n",
    "        \"\"\"\n",
    "        バイアスの初期化\n",
    "        Parameters\n",
    "        ----------\n",
    "        layer : インスタンス\n",
    "            各層のインスタンス\n",
    "\n",
    "        Returns\n",
    "        ----------\n",
    "        B :numpy配列\n",
    "            バイアス\n",
    "        \"\"\"\n",
    "        #FC層の初期化\n",
    "        if self.model_name == 'FC':\n",
    "            B = np.random.randn(layer.n_nodes2) / np.sqrt(layer.n_nodes1)\n",
    "            \n",
    "        #Conv層の初期化\n",
    "        if self.model_name == 'Conv':\n",
    "            B = np.random.randn(layer.filter_num) / np.sqrt(layer.filter_num) \n",
    "        \n",
    "        return B"
   ]
  },
  {
   "cell_type": "markdown",
   "metadata": {},
   "source": [
    "## HeInitializerクラス"
   ]
  },
  {
   "cell_type": "code",
   "execution_count": 30,
   "metadata": {},
   "outputs": [],
   "source": [
    "class HeInitializer:\n",
    "    \n",
    "    \n",
    "    \"\"\"\n",
    "    Heの初期値のクラス\n",
    "    Parameters\n",
    "    ----------\n",
    "    model_name : string\n",
    "        初期化する層を決める文字列\n",
    "    \"\"\"\n",
    "    def __init__(self, model_name):\n",
    "        self.model_name = model_name\n",
    "        \n",
    "        \"\"\"\n",
    "        重みの初期化\n",
    "        Parameters\n",
    "        ----------\n",
    "        layer : インスタンス\n",
    "            各層のインスタンス\n",
    "\n",
    "        Returns\n",
    "        ----------\n",
    "        W : numpy配列\n",
    "            重み\n",
    "        \"\"\"\n",
    "    def W(self, layer):\n",
    "        \n",
    "        #FC層の初期化\n",
    "        if self.model_name == 'FC':\n",
    "            W = np.random.randn(layer.n_nodes1, layer.n_nodes2) * np.sqrt(2 / layer.n_nodes1)\n",
    "        \n",
    "        #Conv層の初期化\n",
    "        if self.model_name == 'Conv':\n",
    "            W = np.random.randn(layer.filter_num, layer.Channel_num, layer.filter_size, layer.filter_size) * np.sqrt(2 / layer.filter_num)\n",
    "       \n",
    "        return W\n",
    "    \n",
    "    \n",
    "    def B(self, layer):\n",
    "        \"\"\"\n",
    "        バイアスの初期化\n",
    "        Parameters\n",
    "        ----------\n",
    "        layer : インスタンス\n",
    "            各層のインスタンス\n",
    "\n",
    "        Returns\n",
    "        ----------\n",
    "        B :numpy配列\n",
    "            バイアス\n",
    "        \"\"\"\n",
    "        #FC層の初期化\n",
    "        if self.model_name == 'FC':\n",
    "            B = np.random.randn(layer.n_nodes2) * np.sqrt(2 / layer.n_nodes1)\n",
    "        #Conv層の初期化\n",
    "        if self.model_name == 'Conv':\n",
    "            B = np.zeros(layer.filter_num) * np.sqrt(2 / layer.filter_num)\n",
    "        \n",
    "        return B"
   ]
  },
  {
   "cell_type": "markdown",
   "metadata": {
    "colab_type": "text",
    "id": "pdVDoM3Wv8Mu"
   },
   "source": [
    "## SGDクラス"
   ]
  },
  {
   "cell_type": "code",
   "execution_count": 31,
   "metadata": {},
   "outputs": [],
   "source": [
    "class SGD:\n",
    "        \"\"\"\n",
    "        SGD\n",
    "        Parameters\n",
    "        ----------\n",
    "        lr : float\n",
    "            学習率\n",
    "        \"\"\"\n",
    "    def __init__(self, lr):\n",
    "        self.lr = lr\n",
    "\n",
    "    def update(self, layer):\n",
    "        \"\"\"\n",
    "        ある層の重みやバイアスの更新\n",
    "        Parameters\n",
    "        ----------\n",
    "        layer : インスタンス\n",
    "            更新前の層のインスタンス\n",
    "\n",
    "        Returns\n",
    "        ----------\n",
    "        layer : インスタンス\n",
    "            更新後の層のインスタンス\n",
    "        \"\"\"\n",
    "        layer.W -= self.lr* layer.dif_W / layer.dif_B.shape[0]\n",
    "        layer.B -= self.lr* layer.dif_B.mean(axis=0)\n",
    "        \n",
    "        return layer"
   ]
  },
  {
   "cell_type": "markdown",
   "metadata": {},
   "source": [
    "## AdaGradクラス"
   ]
  },
  {
   "cell_type": "code",
   "execution_count": 32,
   "metadata": {},
   "outputs": [],
   "source": [
    "class AdaGrad:\n",
    "    \"\"\"\n",
    "    AdaGrad\n",
    "    Parameters\n",
    "    ----------\n",
    "    lr : 学習率\n",
    "\n",
    "    Attributes\n",
    "    -------------\n",
    "    h_W : ndarray\n",
    "        前のイテレーションまでの重みの勾配の二乗和\n",
    "    h_B : ndarray\n",
    "        前のイテレーションまでのバイアスの勾配の二乗和\n",
    "    \"\"\"\n",
    "    def __init__(self, lr):\n",
    "        #ハイパーパラメータ\n",
    "        self.lr = lr\n",
    "        \n",
    "        #インスタンス変数\n",
    "        self.h_W= None\n",
    "        self.h_B = None\n",
    "        \n",
    "\n",
    "    def update(self, layer):\n",
    "        \"\"\"\n",
    "        ある層の重みやバイアスの更新\n",
    "        Parameters\n",
    "        ----------\n",
    "        layer : インスタンス\n",
    "            更新前の層のインスタンス\n",
    "\n",
    "        Returns\n",
    "        ----------\n",
    "        layer : インスタンス\n",
    "            更新後の層のインスタンス\n",
    "        \"\"\"\n",
    "        if self.h_W is None:\n",
    "            self.h_W = np.zeros(layer.W.shape)\n",
    "        if self.h_B is None:\n",
    "            self.h_B = np.zeros(layer.B.shape)\n",
    "         \n",
    "        self.h_W += (layer.dif_W / layer.dif_B.shape[0]) ** 2\n",
    "        self.h_B += (layer.dif_B.mean(axis=0)) ** 2\n",
    "        layer.W -= self.lr / np.sqrt(self.h_W + 1e-7) * layer.dif_W / layer.dif_B.shape[0]\n",
    "        layer.B -= self.lr / np.sqrt(self.h_B + 1e-7) * layer.dif_B.mean(axis=0) \n",
    "        \n",
    "        return layer"
   ]
  },
  {
   "cell_type": "markdown",
   "metadata": {
    "colab_type": "text",
    "id": "93BnIDpev8My"
   },
   "source": [
    "## Sigmoidクラス"
   ]
  },
  {
   "cell_type": "code",
   "execution_count": 33,
   "metadata": {},
   "outputs": [],
   "source": [
    "class Sigmoid:\n",
    "    '''\n",
    "    シグモイド関数のクラス\n",
    "    Attributes\n",
    "    --------------\n",
    "    forward_output : numpy配列\n",
    "        順伝搬の出力\n",
    "    '''\n",
    "    def __init__(self):\n",
    "        self.forward_output = None\n",
    "    \n",
    "\n",
    "    def forward(self, forward_input):\n",
    "        '''\n",
    "        順伝搬\n",
    "        Parameters\n",
    "        --------------\n",
    "        forward_input : numpy配列\n",
    "            特徴量ベクトルと重みとバイアスを計算したもの\n",
    "        \n",
    "        Returns\n",
    "        ---------\n",
    "        forward_output : numpy配列\n",
    "            順伝搬の出力\n",
    "        '''\n",
    "        self.forward_output = 1 / (1 + np.exp(- forward_input)) \n",
    "        \n",
    "        return self.forward_output\n",
    "    \n",
    "    \n",
    "    def backward(self, backward_input):\n",
    "        '''\n",
    "        逆伝搬\n",
    "        Parameters\n",
    "        --------------\n",
    "        dackward_input : numpy配列\n",
    "            逆伝搬の入力\n",
    "        \n",
    "        Returns\n",
    "        ---------\n",
    "        backward_output : numpy配列\n",
    "            逆伝搬の出力\n",
    "        '''\n",
    "        backward_output = backward_input * (1 - self.forward_output) * self.forward_output\n",
    "        \n",
    "        return backward_output"
   ]
  },
  {
   "cell_type": "markdown",
   "metadata": {},
   "source": [
    "## Tanhクラス"
   ]
  },
  {
   "cell_type": "code",
   "execution_count": 34,
   "metadata": {},
   "outputs": [],
   "source": [
    "class Tanh:\n",
    "    '''\n",
    "    ハイパポリックタンジェント関数のクラス\n",
    "    Attributes\n",
    "    --------------\n",
    "    forward_output : numpy配列\n",
    "        順伝搬の入力\n",
    "    '''\n",
    "    def __init__(self):\n",
    "        self.forward_output = None\n",
    "\n",
    "    \n",
    "    def forward(self, forward_input):\n",
    "        '''\n",
    "        順伝搬\n",
    "        Parameters\n",
    "        --------------\n",
    "        forward_input : numpy配列\n",
    "            順伝搬の入力\n",
    "        \n",
    "        Returns\n",
    "        ---------\n",
    "        forward_output : numpy配列\n",
    "            逆伝搬の出力\n",
    "        '''\n",
    "        self.forward_output =  np.tanh(forward_input)\n",
    "        \n",
    "        return  self.forward_output\n",
    "    \n",
    "    \n",
    "    def backward(self, backward_input):\n",
    "        '''\n",
    "        逆伝搬\n",
    "        Parameters\n",
    "        --------------\n",
    "        backward_input : numpy配列\n",
    "            逆伝搬のの入力\n",
    "        \n",
    "        Returns\n",
    "        ---------\n",
    "        backward_output : numpy配列\n",
    "            逆伝搬の出力\n",
    "        '''\n",
    "        backward_output = backward_input * (1 - self.forward_output**2)\n",
    "        \n",
    "        return backward_output"
   ]
  },
  {
   "cell_type": "markdown",
   "metadata": {},
   "source": [
    "## Reluクラス"
   ]
  },
  {
   "cell_type": "code",
   "execution_count": 35,
   "metadata": {},
   "outputs": [],
   "source": [
    "class Relu:\n",
    "    '''\n",
    "    ReLU関数のクラス\n",
    "    Attributes\n",
    "    --------------\n",
    "    forward_output : numpy配列\n",
    "        順伝搬の入力\n",
    "    '''\n",
    "    def __init__(self):\n",
    "        self.forward_input = None #特徴量ベクトルと重みとバイアスを計算した配列\n",
    "\n",
    "    \n",
    "    def forward(self, forward_input):\n",
    "        '''\n",
    "        順伝搬\n",
    "        Parameters\n",
    "        --------------\n",
    "        forward_input : numpy配列\n",
    "            順伝搬の入力\n",
    "        \n",
    "        Returns\n",
    "        ---------\n",
    "        forward_output : numpy配列\n",
    "            順伝搬の出力\n",
    "        '''\n",
    "        self.forward_input = forward_input.copy()\n",
    "        \n",
    "        #Aが0以下なら0にする\n",
    "        forward_output = np.maximum(0, forward_input)\n",
    "        \n",
    "        return forward_output\n",
    "    \n",
    "    \n",
    "    def backward(self, backward_input):\n",
    "        '''\n",
    "        逆伝搬\n",
    "        Parameters\n",
    "        --------------\n",
    "        backward_input : numpy配列\n",
    "            逆伝搬のの入力\n",
    "        \n",
    "        Returns\n",
    "        ---------\n",
    "        backward_output : numpy配列\n",
    "            逆伝搬の出力\n",
    "        '''\n",
    "        #forwardで0以下の部分を0にする\n",
    "        backward_output = np.where(self.forward_input > 0, backward_input, 0)\n",
    "\n",
    "        return backward_output"
   ]
  },
  {
   "cell_type": "markdown",
   "metadata": {},
   "source": [
    "## Softmax_withlossクラス"
   ]
  },
  {
   "cell_type": "code",
   "execution_count": 36,
   "metadata": {},
   "outputs": [],
   "source": [
    "class Softmax_withloss():\n",
    "    \n",
    "    def __init__(self):\n",
    "        \"\"\"\n",
    "        ソフトマックス関数とロス関数を計算\n",
    "\n",
    "        atribute\n",
    "        ----------\n",
    "        self.forward_output : numpy配列\n",
    "            順伝搬の出力\n",
    "        self.batch_size : int\n",
    "            バッチサイズ\n",
    "        \"\"\"\n",
    "        \n",
    "        self.forward_output = None\n",
    "        self.batch_size = None\n",
    "    \n",
    "    def forward(self, FC_output):\n",
    "        \"\"\"\n",
    "        順伝搬\n",
    "        Parameters\n",
    "        ----------\n",
    "        FC_output : numpy配列\n",
    "            FC層の順伝搬時の出力データ\n",
    "\n",
    "        Returns\n",
    "        ----------\n",
    "        self.forward_output : numpy配列\n",
    "            順伝搬の出力データ\n",
    "        \"\"\"\n",
    "        self.forward_output = self.softmax(FC_output)\n",
    "        return self.forward_output\n",
    "    \n",
    "    def backward(self, teacher_data):\n",
    "        \"\"\"\n",
    "        逆伝搬\n",
    "        Parameters\n",
    "        ----------\n",
    "        teacher_data : numpy配列\n",
    "            正解データ\n",
    "\n",
    "        Returns\n",
    "        ----------\n",
    "        backward_output : numpy配列\n",
    "            逆伝搬の出力データ\n",
    "        \"\"\"\n",
    "        backward_output = self.forward_output - teacher_data\n",
    "        return backward_output\n",
    "    \n",
    "    def softmax(self, FC_output):\n",
    "        \"\"\"\n",
    "        ソフトマックス関数を計算\n",
    "        Parameters\n",
    "        ----------\n",
    "        FC_output : FC層の順伝搬時の出力データ\n",
    "            正解データ\n",
    "\n",
    "        Returns\n",
    "        ----------\n",
    "        softmax_output : numpy配列\n",
    "            ソフトマックス関数の出力\n",
    "        \"\"\"\n",
    "        # 最大値を取得\n",
    "        FC_output_max = np.max(FC_output, axis=1)\n",
    "        # オーバーフロー対策の為、各値から最大値を引く\n",
    "        exp_FC_output = np.exp(FC_output - FC_output_max.reshape(-1, 1))\n",
    "        sum_exp_FC_output = np.sum(exp_FC_output, axis=1).reshape(-1, 1)\n",
    "        # ソフトマックス関数を計算\n",
    "        softmax_output = exp_FC_output / sum_exp_FC_output\n",
    "        \n",
    "        return softmax_output\n",
    "    \n",
    "    def cross_entropy_error(self, teacher_data):\n",
    "        \"\"\"\n",
    "        クロスエントロピー誤差を計算\n",
    "        Parameters\n",
    "        ----------\n",
    "        teacher_data : numpy配列\n",
    "            正解データ\n",
    "\n",
    "        Returns\n",
    "        ----------\n",
    "        loss_per_batch_size : numpy配列\n",
    "            １データ毎のクロスエントロピー誤差\n",
    "        \"\"\"\n",
    "        # クロスエントロピー誤差を計算\n",
    "        loss = teacher_data * (np.log(self.forward_output + 1e-05)) # ゼロ除算対策\n",
    "        total_loss = -np.sum(loss)\n",
    "        loss_per_batch_size = total_loss /teacher_data.shape[0]\n",
    "        return loss_per_batch_size"
   ]
  },
  {
   "cell_type": "markdown",
   "metadata": {},
   "source": [
    "## Flattenクラス"
   ]
  },
  {
   "cell_type": "code",
   "execution_count": 37,
   "metadata": {
    "colab": {},
    "colab_type": "code",
    "id": "LXz85XVlv8M5"
   },
   "outputs": [],
   "source": [
    "class Flatten():\n",
    "        '''\n",
    "        平滑化を行うクラス\n",
    "\n",
    "        Attribute\n",
    "        -----------\n",
    "        forward_input : numpy配列\n",
    "            入力\n",
    "        '''\n",
    "    def __init__(self):\n",
    "        self.forward_input_shape = None\n",
    "        \n",
    "    \n",
    "    def forward(self, forward_input):\n",
    "        '''\n",
    "        フォワード\n",
    "\n",
    "        Parameters\n",
    "        -------------\n",
    "        forward_input : numpy配列\n",
    "            順伝搬の入力\n",
    "            \n",
    "        Returns\n",
    "        ----------\n",
    "        forward_output : numpy配列\n",
    "            順伝搬の出力\n",
    "        '''\n",
    "        #1次元にする\n",
    "        forward_output = forward_input.reshape(forward_input.shape[0], -1)\n",
    "        \n",
    "        #shapeを記録\n",
    "        self.forward_input_shape = forward_input.shape\n",
    "        \n",
    "        return forward_output\n",
    "    \n",
    "\n",
    "    def backward(self, backward_input):\n",
    "        '''\n",
    "        バックワード\n",
    "\n",
    "        Parameters\n",
    "        -------------\n",
    "        backward_input : numpy配列\n",
    "            逆伝搬の入力\n",
    "            \n",
    "        Returns\n",
    "        ----------\n",
    "        backward_output : numpy配列\n",
    "        　　逆伝搬の出力\n",
    "        '''\n",
    "        #shapeを戻す\n",
    "        backward_output = backward_input.reshape(self.forward_input_shape)\n",
    "        \n",
    "        return backward_output"
   ]
  },
  {
   "cell_type": "markdown",
   "metadata": {},
   "source": [
    "## 動作検証"
   ]
  },
  {
   "cell_type": "code",
   "execution_count": 38,
   "metadata": {},
   "outputs": [],
   "source": [
    "conv_params = {'filter_channel' : 1,\\\n",
    "               'filter_num' : 1,\\\n",
    "               'filter_size' : 5,\\\n",
    "               'pad' : 0,\\\n",
    "               'stride' : 1\n",
    "              }"
   ]
  },
  {
   "cell_type": "markdown",
   "metadata": {},
   "source": [
    "### 環境①\n",
    "- バッチサイズ：10\n",
    "- エポック数：10\n",
    "- 隠れ層の数：100\n",
    "- 初期化方法：Simple\n",
    "- 活性化関数：Tanh\n",
    "- 最適化方法：SGD\n",
    "\n",
    "### 考察\n",
    "- 学習データ、検証データ共にエポック数毎にロスが低下しており、正常に学習できている事を確認。"
   ]
  },
  {
   "cell_type": "code",
   "execution_count": 42,
   "metadata": {
    "colab": {
     "base_uri": "https://localhost:8080/",
     "height": 357
    },
    "colab_type": "code",
    "id": "kQyPM8l3v8M6",
    "outputId": "00552658-918c-4536-d734-653c3610f971"
   },
   "outputs": [
    {
     "name": "stdout",
     "output_type": "stream",
     "text": [
      "1epoch目\n",
      "\n",
      "学習用正解データとの誤差　：　0.7853\n",
      "\n",
      "検証用正解データとの誤差　：　0.9127\n",
      "\n",
      "------------------------------------------------\n",
      "2epoch目\n",
      "\n",
      "学習用正解データとの誤差　：　0.4726\n",
      "\n",
      "検証用正解データとの誤差　：　0.5885\n",
      "\n",
      "------------------------------------------------\n",
      "3epoch目\n",
      "\n",
      "学習用正解データとの誤差　：　0.3715\n",
      "\n",
      "検証用正解データとの誤差　：　0.4885\n",
      "\n",
      "------------------------------------------------\n",
      "4epoch目\n",
      "\n",
      "学習用正解データとの誤差　：　0.3183\n",
      "\n",
      "検証用正解データとの誤差　：　0.4380\n",
      "\n",
      "------------------------------------------------\n",
      "5epoch目\n",
      "\n",
      "学習用正解データとの誤差　：　0.2832\n",
      "\n",
      "検証用正解データとの誤差　：　0.4062\n",
      "\n",
      "------------------------------------------------\n",
      "6epoch目\n",
      "\n",
      "学習用正解データとの誤差　：　0.2573\n",
      "\n",
      "検証用正解データとの誤差　：　0.3837\n",
      "\n",
      "------------------------------------------------\n",
      "7epoch目\n",
      "\n",
      "学習用正解データとの誤差　：　0.2367\n",
      "\n",
      "検証用正解データとの誤差　：　0.3668\n",
      "\n",
      "------------------------------------------------\n",
      "8epoch目\n",
      "\n",
      "学習用正解データとの誤差　：　0.2196\n",
      "\n",
      "検証用正解データとの誤差　：　0.3536\n",
      "\n",
      "------------------------------------------------\n",
      "9epoch目\n",
      "\n",
      "学習用正解データとの誤差　：　0.2049\n",
      "\n",
      "検証用正解データとの誤差　：　0.3431\n",
      "\n",
      "------------------------------------------------\n",
      "10epoch目\n",
      "\n",
      "学習用正解データとの誤差　：　0.1921\n",
      "\n",
      "検証用正解データとの誤差　：　0.3345\n",
      "\n",
      "------------------------------------------------\n"
     ]
    }
   ],
   "source": [
    "cls1 = ScratchConv1DNeuralNetrowkClassifier(lr=0.01,\\\n",
    "                                            sigma=0.1,\\\n",
    "                                            batch_size=10,\\\n",
    "                                            n_epochs=10,\\\n",
    "                                            conv_params=conv_params,\\\n",
    "                                            hidden_size=100,\\\n",
    "                                            n_output=10,\\\n",
    "                                            initializer='Sim',\\\n",
    "                                            activater='Tanh',\\\n",
    "                                            optimizer='SGD',\\\n",
    "                                            verbose=True)\n",
    "cls1.fit(X_train, y_train, X_test, y_test)"
   ]
  },
  {
   "cell_type": "code",
   "execution_count": 43,
   "metadata": {},
   "outputs": [
    {
     "data": {
      "image/png": "[encoded data removed]",
      "text/plain": [
       "<Figure size 432x288 with 1 Axes>"
      ]
     },
     "metadata": {
      "needs_background": "light"
     },
     "output_type": "display_data"
    }
   ],
   "source": [
    "cls1.plot_learning_curve()"
   ]
  },
  {
   "cell_type": "markdown",
   "metadata": {},
   "source": [
    "### 環境②\n",
    "- バッチサイズ：10\n",
    "- エポック数：10\n",
    "- 隠れ層の数：100\n",
    "- 初期化方法：Simple\n",
    "- 活性化関数：Relu\n",
    "- 最適化方法：SGD\n",
    "\n",
    "### 考察\n",
    "- 学習データに対してはエポック数毎にロスが低下しているが、検証データに対しては2エポック以降は学習を行ってもロスの低下が少なくなっており、8epoch頃では学習曲線がほぼ水平となっており、学習出来ていないように見えている。環境①ではロスが低下している為、活性化関数をTanhからReluに変更したことが影響を与えている可能性あり。"
   ]
  },
  {
   "cell_type": "code",
   "execution_count": 44,
   "metadata": {},
   "outputs": [
    {
     "name": "stdout",
     "output_type": "stream",
     "text": [
      "1epoch目\n",
      "\n",
      "学習用正解データとの誤差　：　0.5888\n",
      "\n",
      "検証用正解データとの誤差　：　0.7334\n",
      "\n",
      "------------------------------------------------\n",
      "2epoch目\n",
      "\n",
      "学習用正解データとの誤差　：　0.3631\n",
      "\n",
      "検証用正解データとの誤差　：　0.5011\n",
      "\n",
      "------------------------------------------------\n",
      "3epoch目\n",
      "\n",
      "学習用正解データとの誤差　：　0.2841\n",
      "\n",
      "検証用正解データとの誤差　：　0.4359\n",
      "\n",
      "------------------------------------------------\n",
      "4epoch目\n",
      "\n",
      "学習用正解データとの誤差　：　0.2352\n",
      "\n",
      "検証用正解データとの誤差　：　0.4014\n",
      "\n",
      "------------------------------------------------\n",
      "5epoch目\n",
      "\n",
      "学習用正解データとの誤差　：　0.1993\n",
      "\n",
      "検証用正解データとの誤差　：　0.3802\n",
      "\n",
      "------------------------------------------------\n",
      "6epoch目\n",
      "\n",
      "学習用正解データとの誤差　：　0.1721\n",
      "\n",
      "検証用正解データとの誤差　：　0.3678\n",
      "\n",
      "------------------------------------------------\n",
      "7epoch目\n",
      "\n",
      "学習用正解データとの誤差　：　0.1492\n",
      "\n",
      "検証用正解データとの誤差　：　0.3592\n",
      "\n",
      "------------------------------------------------\n",
      "8epoch目\n",
      "\n",
      "学習用正解データとの誤差　：　0.1316\n",
      "\n",
      "検証用正解データとの誤差　：　0.3566\n",
      "\n",
      "------------------------------------------------\n",
      "9epoch目\n",
      "\n",
      "学習用正解データとの誤差　：　0.1160\n",
      "\n",
      "検証用正解データとの誤差　：　0.3533\n",
      "\n",
      "------------------------------------------------\n",
      "10epoch目\n",
      "\n",
      "学習用正解データとの誤差　：　0.1029\n",
      "\n",
      "検証用正解データとの誤差　：　0.3537\n",
      "\n",
      "------------------------------------------------\n"
     ]
    }
   ],
   "source": [
    "cls2 = ScratchConv1DNeuralNetrowkClassifier(lr=0.01,\\\n",
    "                                            sigma=0.1,\\\n",
    "                                            batch_size=10,\\\n",
    "                                            n_epochs=10,\\\n",
    "                                            conv_params=conv_params,\\\n",
    "                                            hidden_size=100,\\\n",
    "                                            n_output=10,\\\n",
    "                                            initializer='Sim',\\\n",
    "                                            activater='Relu',\\\n",
    "                                            optimizer='SGD',\\\n",
    "                                            verbose=True)\n",
    "cls2.fit(X_train, y_train, X_test, y_test)"
   ]
  },
  {
   "cell_type": "code",
   "execution_count": 45,
   "metadata": {},
   "outputs": [
    {
     "data": {
      "image/png": "[encoded data removed]",
      "text/plain": [
       "<Figure size 432x288 with 1 Axes>"
      ]
     },
     "metadata": {
      "needs_background": "light"
     },
     "output_type": "display_data"
    }
   ],
   "source": [
    "cls2.plot_learning_curve()"
   ]
  },
  {
   "cell_type": "markdown",
   "metadata": {},
   "source": [
    "### 環境③\n",
    "- バッチサイズ：10\n",
    "- エポック数：10\n",
    "- 隠れ層の数：100\n",
    "- 初期化方法：Simple\n",
    "- 活性化関数：Tanh\n",
    "- 最適化方法：AdaGrad\n",
    "\n",
    "### 考察\n",
    "- 学習データに対してはエポック数毎にロスが低下しているが、検証データに対しては環境②と同様に2エポック以降は学習を行ってもロスの低下が少なくなっているが、環境②のように学習曲線が水平にはなっていない事から、学習自体は出来ていると思われる。環境①ではロスが低下している為、最適化方法をTanhからAdaGradに変更したことが影響を与えている可能性あり。"
   ]
  },
  {
   "cell_type": "code",
   "execution_count": 46,
   "metadata": {},
   "outputs": [
    {
     "name": "stdout",
     "output_type": "stream",
     "text": [
      "1epoch目\n",
      "\n",
      "学習用正解データとの誤差　：　0.3923\n",
      "\n",
      "検証用正解データとの誤差　：　0.5134\n",
      "\n",
      "------------------------------------------------\n",
      "2epoch目\n",
      "\n",
      "学習用正解データとの誤差　：　0.2974\n",
      "\n",
      "検証用正解データとの誤差　：　0.4192\n",
      "\n",
      "------------------------------------------------\n",
      "3epoch目\n",
      "\n",
      "学習用正解データとの誤差　：　0.2551\n",
      "\n",
      "検証用正解データとの誤差　：　0.3794\n",
      "\n",
      "------------------------------------------------\n",
      "4epoch目\n",
      "\n",
      "学習用正解データとの誤差　：　0.2282\n",
      "\n",
      "検証用正解データとの誤差　：　0.3557\n",
      "\n",
      "------------------------------------------------\n",
      "5epoch目\n",
      "\n",
      "学習用正解データとの誤差　：　0.2085\n",
      "\n",
      "検証用正解データとの誤差　：　0.3397\n",
      "\n",
      "------------------------------------------------\n",
      "6epoch目\n",
      "\n",
      "学習用正解データとの誤差　：　0.1930\n",
      "\n",
      "検証用正解データとの誤差　：　0.3279\n",
      "\n",
      "------------------------------------------------\n",
      "7epoch目\n",
      "\n",
      "学習用正解データとの誤差　：　0.1802\n",
      "\n",
      "検証用正解データとの誤差　：　0.3189\n",
      "\n",
      "------------------------------------------------\n",
      "8epoch目\n",
      "\n",
      "学習用正解データとの誤差　：　0.1693\n",
      "\n",
      "検証用正解データとの誤差　：　0.3116\n",
      "\n",
      "------------------------------------------------\n",
      "9epoch目\n",
      "\n",
      "学習用正解データとの誤差　：　0.1599\n",
      "\n",
      "検証用正解データとの誤差　：　0.3057\n",
      "\n",
      "------------------------------------------------\n",
      "10epoch目\n",
      "\n",
      "学習用正解データとの誤差　：　0.1516\n",
      "\n",
      "検証用正解データとの誤差　：　0.3007\n",
      "\n",
      "------------------------------------------------\n"
     ]
    }
   ],
   "source": [
    "cls3 = ScratchConv1DNeuralNetrowkClassifier(lr=0.01,\\\n",
    "                                            sigma=0.1,\\\n",
    "                                            batch_size=10,\\\n",
    "                                            n_epochs=10,\\\n",
    "                                            conv_params=conv_params,\\\n",
    "                                            hidden_size=100,\\\n",
    "                                            n_output=10,\\\n",
    "                                            initializer='Sim',\\\n",
    "                                            activater='Tanh',\\\n",
    "                                            optimizer='AdaGrad',\\\n",
    "                                            verbose=True)\n",
    "cls3.fit(X_train, y_train, X_test, y_test)"
   ]
  },
  {
   "cell_type": "code",
   "execution_count": 47,
   "metadata": {},
   "outputs": [
    {
     "data": {
      "image/png": "[encoded data removed]",
      "text/plain": [
       "<Figure size 432x288 with 1 Axes>"
      ]
     },
     "metadata": {
      "needs_background": "light"
     },
     "output_type": "display_data"
    }
   ],
   "source": [
    "cls3.plot_learning_curve()"
   ]
  }
 ],
 "metadata": {
  "accelerator": "GPU",
  "colab": {
   "collapsed_sections": [
    "E4XAioqvv8MG"
   ],
   "name": "sprint12-dl-scratch-cnn1.ipynb",
   "provenance": [],
   "version": "0.3.2"
  },
  "kernelspec": {
   "display_name": "Python 3",
   "language": "python",
   "name": "python3"
  },
  "language_info": {
   "codemirror_mode": {
    "name": "ipython",
    "version": 3
   },
   "file_extension": ".py",
   "mimetype": "text/x-python",
   "name": "python",
   "nbconvert_exporter": "python",
   "pygments_lexer": "ipython3",
   "version": "3.7.3"
  },
  "varInspector": {
   "cols": {
    "lenName": 16,
    "lenType": 16,
    "lenVar": 40
   },
   "kernels_config": {
    "python": {
     "delete_cmd_postfix": "",
     "delete_cmd_prefix": "del ",
     "library": "var_list.py",
     "varRefreshCmd": "print(var_dic_list())"
    },
    "r": {
     "delete_cmd_postfix": ") ",
     "delete_cmd_prefix": "rm(",
     "library": "var_list.r",
     "varRefreshCmd": "cat(var_dic_list()) "
    }
   },
   "types_to_exclude": [
    "module",
    "function",
    "builtin_function_or_method",
    "instance",
    "_Feature"
   ],
   "window_display": false
  }
 },
 "nbformat": 4,
 "nbformat_minor": 1
}
