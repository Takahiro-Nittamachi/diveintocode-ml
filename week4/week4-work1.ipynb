{
 "cells": [
  {
   "cell_type": "markdown",
   "metadata": {},
   "source": [
    "# 1.この課題の目的\n",
    "- 教師あり学習（分類問題）の概観を知る\n",
    "- scikit-laernを使い分類を行えるようにする\n",
    "- 手法の簡単な比較をする\n",
    "\n",
    "## 以下の要件をすべて満たしていた場合、合格とします。\n",
    "※Jupyter Notebookを使い課題に沿った検証や説明ができている。\n",
    "\n",
    "# 2.アヤメの分類\n",
    "Week3で使用したirisデータセットを使い、分類問題を解く練習をします。\n",
    "\n",
    "irisデータセットはカナダのガスペ半島のある牧草地で同じ日に採取された以下の3種類のアヤメ、合計150本のデータでした。\n",
    "\n",
    "- Iris setosa - Wikipedia\n",
    "- Iris virgicolor - Wikipedia\n",
    "- Iris virginica - Wikipedia\n",
    "\n",
    "4種類の特徴量（説明変数）からアヤメの種類を推測する問題が設定できます。アヤメの種類を 分類 するので、こういったものを分類問題と呼びます。\n",
    "\n",
    "## 今回使う手法の一覧\n",
    "scikit-laernを使い以下の手法で学習と推定を行っていきます。それぞれの手法についての詳細は今の段階では扱いません。ライブラリを使えばどれも気軽に利用できることや、手法毎の結果に違いがあることを簡単に見ていきます。\n",
    "\n",
    "- 最近傍法\n",
    "- ロジスティック回帰\n",
    "- SVM\n",
    "- 決定木\n",
    "- ランダムフォレスト\n",
    "\n",
    "# 3.分類問題の流れ\n",
    "まず、最近傍法を例に分類問題を解く基本的な流れを紹介します。課題の後半ではこれを参考に他の手法にも適用してもらいます。\n",
    "\n",
    "この流れについては後々より深く学び、実践していきます。今回の課題では大まかな流れの把握を行ってください。\n",
    "\n",
    "## 練習のための準備\n",
    "練習する上で結果の可視化を行いたいため、特徴量は4つの中で2つだけを使うことにします。こうすることで2次元の散布図を描き確認することができます。また、問題を単純化するためアヤメの種類を2つだけ使うことにします。分類対象が2種類の場合を **2値分類** と呼び、それ以上の **多値分類** とは区別をします。それぞれで手法や評価方法が変わります。今回はまず**より基本的な2値分類**を行います。"
   ]
  },
  {
   "cell_type": "markdown",
   "metadata": {},
   "source": [
    "# 【課題1】練習のために特徴量とカテゴリを選択\n",
    "選び方は合計18通りありますが、以下の組み合わせで練習することにします。irisデータセットをWeek3同様に取得した後、データフレームからこれらを抜き出してください。\n",
    "\n",
    "- virgicolorとvirginica\n",
    "- sepal_lengthとpetal_length\n",
    "## 実際の問題では？\n",
    "\n",
    "実際の問題を解く上でも結果の可視化は有効です。しかし、そのために学習や推定に使う特徴量を2つに絞るのは望ましくありません。そのため学習や推定は多次元で行い、可視化をする際にだけ主成分分析などの特徴抽出手法を適用するといったことが行われます。また、Week3で利用した散布図行列を使い可視化することも可能です。"
   ]
  },
  {
   "cell_type": "code",
   "execution_count": 1,
   "metadata": {},
   "outputs": [],
   "source": [
    "# pandas、numpy、matplotlib.pyplot をインポート\n",
    "import pandas as pd\n",
    "import numpy as np\n",
    "import matplotlib.pyplot as plt\n",
    "%matplotlib inline\n",
    "\n",
    "# irisデータの読み込み辞書型変数 dataに格納\n",
    "from sklearn.datasets import load_iris\n",
    "data = load_iris()"
   ]
  },
  {
   "cell_type": "code",
   "execution_count": 2,
   "metadata": {},
   "outputs": [
    {
     "data": {
      "text/html": [
       "<div>\n",
       "<style scoped>\n",
       "    .dataframe tbody tr th:only-of-type {\n",
       "        vertical-align: middle;\n",
       "    }\n",
       "\n",
       "    .dataframe tbody tr th {\n",
       "        vertical-align: top;\n",
       "    }\n",
       "\n",
       "    .dataframe thead th {\n",
       "        text-align: right;\n",
       "    }\n",
       "</style>\n",
       "<table border=\"1\" class=\"dataframe\">\n",
       "  <thead>\n",
       "    <tr style=\"text-align: right;\">\n",
       "      <th></th>\n",
       "      <th>sepal_length</th>\n",
       "      <th>sepal_width</th>\n",
       "      <th>petal_length</th>\n",
       "      <th>petal_width</th>\n",
       "    </tr>\n",
       "  </thead>\n",
       "  <tbody>\n",
       "    <tr>\n",
       "      <th>0</th>\n",
       "      <td>5.1</td>\n",
       "      <td>3.5</td>\n",
       "      <td>1.4</td>\n",
       "      <td>0.2</td>\n",
       "    </tr>\n",
       "    <tr>\n",
       "      <th>1</th>\n",
       "      <td>4.9</td>\n",
       "      <td>3.0</td>\n",
       "      <td>1.4</td>\n",
       "      <td>0.2</td>\n",
       "    </tr>\n",
       "    <tr>\n",
       "      <th>2</th>\n",
       "      <td>4.7</td>\n",
       "      <td>3.2</td>\n",
       "      <td>1.3</td>\n",
       "      <td>0.2</td>\n",
       "    </tr>\n",
       "    <tr>\n",
       "      <th>3</th>\n",
       "      <td>4.6</td>\n",
       "      <td>3.1</td>\n",
       "      <td>1.5</td>\n",
       "      <td>0.2</td>\n",
       "    </tr>\n",
       "    <tr>\n",
       "      <th>4</th>\n",
       "      <td>5.0</td>\n",
       "      <td>3.6</td>\n",
       "      <td>1.4</td>\n",
       "      <td>0.2</td>\n",
       "    </tr>\n",
       "  </tbody>\n",
       "</table>\n",
       "</div>"
      ],
      "text/plain": [
       "   sepal_length  sepal_width  petal_length  petal_width\n",
       "0           5.1          3.5           1.4          0.2\n",
       "1           4.9          3.0           1.4          0.2\n",
       "2           4.7          3.2           1.3          0.2\n",
       "3           4.6          3.1           1.5          0.2\n",
       "4           5.0          3.6           1.4          0.2"
      ]
     },
     "execution_count": 2,
     "metadata": {},
     "output_type": "execute_result"
    }
   ],
   "source": [
    "# 各ラベルの特徴量をデータフレームxに格納\n",
    "x = pd.DataFrame(data['data'],columns=['sepal_length', 'sepal_width', 'petal_length', 'petal_width'])\n",
    "x.head()"
   ]
  },
  {
   "cell_type": "code",
   "execution_count": 3,
   "metadata": {},
   "outputs": [
    {
     "data": {
      "text/plain": [
       "array([0, 1, 2], dtype=int64)"
      ]
     },
     "execution_count": 3,
     "metadata": {},
     "output_type": "execute_result"
    }
   ],
   "source": [
    "# 目的変数をデータフレームyに格納\n",
    "y = pd.DataFrame(data['target'], columns=['Species'])\n",
    "\n",
    "# uniqueメソッドにてデータフレーム y の中のユニークな値を確認し、各ラベルを確認する\n",
    "y['Species'].unique()"
   ]
  },
  {
   "cell_type": "code",
   "execution_count": 4,
   "metadata": {},
   "outputs": [
    {
     "data": {
      "text/plain": [
       "array(['setosa', 'versicolor', 'virginica'], dtype='<U10')"
      ]
     },
     "execution_count": 4,
     "metadata": {},
     "output_type": "execute_result"
    }
   ],
   "source": [
    "# どのラベルが、どの花に対応しているのかを確認\n",
    "# 0, 1, 2 →　'setosa', 'versicolor', 'virginica'\n",
    "data.target_names"
   ]
  },
  {
   "cell_type": "code",
   "execution_count": 5,
   "metadata": {},
   "outputs": [
    {
     "data": {
      "text/html": [
       "<div>\n",
       "<style scoped>\n",
       "    .dataframe tbody tr th:only-of-type {\n",
       "        vertical-align: middle;\n",
       "    }\n",
       "\n",
       "    .dataframe tbody tr th {\n",
       "        vertical-align: top;\n",
       "    }\n",
       "\n",
       "    .dataframe thead th {\n",
       "        text-align: right;\n",
       "    }\n",
       "</style>\n",
       "<table border=\"1\" class=\"dataframe\">\n",
       "  <thead>\n",
       "    <tr style=\"text-align: right;\">\n",
       "      <th></th>\n",
       "      <th>sepal_length</th>\n",
       "      <th>sepal_width</th>\n",
       "      <th>petal_length</th>\n",
       "      <th>petal_width</th>\n",
       "      <th>Species</th>\n",
       "    </tr>\n",
       "  </thead>\n",
       "  <tbody>\n",
       "    <tr>\n",
       "      <th>0</th>\n",
       "      <td>5.1</td>\n",
       "      <td>3.5</td>\n",
       "      <td>1.4</td>\n",
       "      <td>0.2</td>\n",
       "      <td>0</td>\n",
       "    </tr>\n",
       "    <tr>\n",
       "      <th>1</th>\n",
       "      <td>4.9</td>\n",
       "      <td>3.0</td>\n",
       "      <td>1.4</td>\n",
       "      <td>0.2</td>\n",
       "      <td>0</td>\n",
       "    </tr>\n",
       "    <tr>\n",
       "      <th>2</th>\n",
       "      <td>4.7</td>\n",
       "      <td>3.2</td>\n",
       "      <td>1.3</td>\n",
       "      <td>0.2</td>\n",
       "      <td>0</td>\n",
       "    </tr>\n",
       "    <tr>\n",
       "      <th>3</th>\n",
       "      <td>4.6</td>\n",
       "      <td>3.1</td>\n",
       "      <td>1.5</td>\n",
       "      <td>0.2</td>\n",
       "      <td>0</td>\n",
       "    </tr>\n",
       "    <tr>\n",
       "      <th>4</th>\n",
       "      <td>5.0</td>\n",
       "      <td>3.6</td>\n",
       "      <td>1.4</td>\n",
       "      <td>0.2</td>\n",
       "      <td>0</td>\n",
       "    </tr>\n",
       "  </tbody>\n",
       "</table>\n",
       "</div>"
      ],
      "text/plain": [
       "   sepal_length  sepal_width  petal_length  petal_width  Species\n",
       "0           5.1          3.5           1.4          0.2        0\n",
       "1           4.9          3.0           1.4          0.2        0\n",
       "2           4.7          3.2           1.3          0.2        0\n",
       "3           4.6          3.1           1.5          0.2        0\n",
       "4           5.0          3.6           1.4          0.2        0"
      ]
     },
     "execution_count": 5,
     "metadata": {},
     "output_type": "execute_result"
    }
   ],
   "source": [
    "# データフレーム　x と y を横に結合\n",
    "# 特定のラベルの特徴量を抽出できるようにする為\n",
    "x = pd.concat([x, y], axis=1)\n",
    "x.head()"
   ]
  },
  {
   "cell_type": "markdown",
   "metadata": {},
   "source": [
    "### virgicolorとvirginicaそれぞれのsepal_lengthとpetal_lengthのみ抽出"
   ]
  },
  {
   "cell_type": "code",
   "execution_count": 6,
   "metadata": {},
   "outputs": [
    {
     "data": {
      "text/html": [
       "<div>\n",
       "<style scoped>\n",
       "    .dataframe tbody tr th:only-of-type {\n",
       "        vertical-align: middle;\n",
       "    }\n",
       "\n",
       "    .dataframe tbody tr th {\n",
       "        vertical-align: top;\n",
       "    }\n",
       "\n",
       "    .dataframe thead th {\n",
       "        text-align: right;\n",
       "    }\n",
       "</style>\n",
       "<table border=\"1\" class=\"dataframe\">\n",
       "  <thead>\n",
       "    <tr style=\"text-align: right;\">\n",
       "      <th></th>\n",
       "      <th>sepal_length</th>\n",
       "      <th>petal_length</th>\n",
       "      <th>Species</th>\n",
       "    </tr>\n",
       "  </thead>\n",
       "  <tbody>\n",
       "    <tr>\n",
       "      <th>50</th>\n",
       "      <td>7.0</td>\n",
       "      <td>4.7</td>\n",
       "      <td>1</td>\n",
       "    </tr>\n",
       "    <tr>\n",
       "      <th>51</th>\n",
       "      <td>6.4</td>\n",
       "      <td>4.5</td>\n",
       "      <td>1</td>\n",
       "    </tr>\n",
       "    <tr>\n",
       "      <th>52</th>\n",
       "      <td>6.9</td>\n",
       "      <td>4.9</td>\n",
       "      <td>1</td>\n",
       "    </tr>\n",
       "    <tr>\n",
       "      <th>53</th>\n",
       "      <td>5.5</td>\n",
       "      <td>4.0</td>\n",
       "      <td>1</td>\n",
       "    </tr>\n",
       "    <tr>\n",
       "      <th>54</th>\n",
       "      <td>6.5</td>\n",
       "      <td>4.6</td>\n",
       "      <td>1</td>\n",
       "    </tr>\n",
       "  </tbody>\n",
       "</table>\n",
       "</div>"
      ],
      "text/plain": [
       "    sepal_length  petal_length  Species\n",
       "50           7.0           4.7        1\n",
       "51           6.4           4.5        1\n",
       "52           6.9           4.9        1\n",
       "53           5.5           4.0        1\n",
       "54           6.5           4.6        1"
      ]
     },
     "execution_count": 6,
     "metadata": {},
     "output_type": "execute_result"
    }
   ],
   "source": [
    "# queryメソッドのにて ラベル　virgicolor と virginica の特徴量のみを抽出し\n",
    "# さらにlocメソッドにてsepal_length 、petal_length列、Species列　のみ抽出\n",
    "x_virgicolor_virginica = x.query('Species == 1 or Species == 2').loc[:,['sepal_length', 'petal_length', 'Species']]\n",
    "x_virgicolor_virginica.head()"
   ]
  },
  {
   "cell_type": "markdown",
   "metadata": {},
   "source": [
    "# 【問題2-1】データの分析\n",
    "まずはデータの分析を行いますが、これはWeek3の課題1で行いました。その際出力した散布図行列を見ることで、先ほどの18通りそれぞれの散布図も確認できます。sepal_lengthとpetal_lengthを使い、virgicolorとvirginicaを分類するのは少し難しそうな状況であることが分かるはずです。\n",
    "\n",
    "ここでは復習を兼ねて、抜き出したデータの散布図と箱ひげ図（boxplot）、バイオリン図（violinplot）を表示してください。\n",
    "\n",
    "## 実際の問題では？\n",
    "\n",
    "このデータ分析の結果を元に前処理として特徴量エンジニアリングを行っていきます。\n",
    "\n",
    "今回はsepal_lengthとpetal_lengthを抜き出しましたが、分析した上で、問題を少々難しくするための前処理をしたと言えます。\n",
    "\n",
    "## 前処理\n",
    "データに加工をしていきます。"
   ]
  },
  {
   "cell_type": "markdown",
   "metadata": {},
   "source": [
    "### 散布図の表示"
   ]
  },
  {
   "cell_type": "code",
   "execution_count": 7,
   "metadata": {},
   "outputs": [
    {
     "data": {
      "text/html": [
       "<div>\n",
       "<style scoped>\n",
       "    .dataframe tbody tr th:only-of-type {\n",
       "        vertical-align: middle;\n",
       "    }\n",
       "\n",
       "    .dataframe tbody tr th {\n",
       "        vertical-align: top;\n",
       "    }\n",
       "\n",
       "    .dataframe thead th {\n",
       "        text-align: right;\n",
       "    }\n",
       "</style>\n",
       "<table border=\"1\" class=\"dataframe\">\n",
       "  <thead>\n",
       "    <tr style=\"text-align: right;\">\n",
       "      <th></th>\n",
       "      <th>sepal_length</th>\n",
       "      <th>petal_length</th>\n",
       "      <th>Species</th>\n",
       "    </tr>\n",
       "  </thead>\n",
       "  <tbody>\n",
       "    <tr>\n",
       "      <th>50</th>\n",
       "      <td>7.0</td>\n",
       "      <td>4.7</td>\n",
       "      <td>1</td>\n",
       "    </tr>\n",
       "    <tr>\n",
       "      <th>51</th>\n",
       "      <td>6.4</td>\n",
       "      <td>4.5</td>\n",
       "      <td>1</td>\n",
       "    </tr>\n",
       "    <tr>\n",
       "      <th>52</th>\n",
       "      <td>6.9</td>\n",
       "      <td>4.9</td>\n",
       "      <td>1</td>\n",
       "    </tr>\n",
       "    <tr>\n",
       "      <th>53</th>\n",
       "      <td>5.5</td>\n",
       "      <td>4.0</td>\n",
       "      <td>1</td>\n",
       "    </tr>\n",
       "    <tr>\n",
       "      <th>54</th>\n",
       "      <td>6.5</td>\n",
       "      <td>4.6</td>\n",
       "      <td>1</td>\n",
       "    </tr>\n",
       "  </tbody>\n",
       "</table>\n",
       "</div>"
      ],
      "text/plain": [
       "    sepal_length  petal_length  Species\n",
       "50           7.0           4.7        1\n",
       "51           6.4           4.5        1\n",
       "52           6.9           4.9        1\n",
       "53           5.5           4.0        1\n",
       "54           6.5           4.6        1"
      ]
     },
     "execution_count": 7,
     "metadata": {},
     "output_type": "execute_result"
    }
   ],
   "source": [
    "# virsicolor　の特徴量のみ抽出\n",
    "feature_virsicolor = x_virgicolor_virginica.query('Species == 1')\n",
    "feature_virsicolor.head()"
   ]
  },
  {
   "cell_type": "code",
   "execution_count": 8,
   "metadata": {},
   "outputs": [
    {
     "data": {
      "text/html": [
       "<div>\n",
       "<style scoped>\n",
       "    .dataframe tbody tr th:only-of-type {\n",
       "        vertical-align: middle;\n",
       "    }\n",
       "\n",
       "    .dataframe tbody tr th {\n",
       "        vertical-align: top;\n",
       "    }\n",
       "\n",
       "    .dataframe thead th {\n",
       "        text-align: right;\n",
       "    }\n",
       "</style>\n",
       "<table border=\"1\" class=\"dataframe\">\n",
       "  <thead>\n",
       "    <tr style=\"text-align: right;\">\n",
       "      <th></th>\n",
       "      <th>sepal_length</th>\n",
       "      <th>petal_length</th>\n",
       "      <th>Species</th>\n",
       "    </tr>\n",
       "  </thead>\n",
       "  <tbody>\n",
       "    <tr>\n",
       "      <th>100</th>\n",
       "      <td>6.3</td>\n",
       "      <td>6.0</td>\n",
       "      <td>2</td>\n",
       "    </tr>\n",
       "    <tr>\n",
       "      <th>101</th>\n",
       "      <td>5.8</td>\n",
       "      <td>5.1</td>\n",
       "      <td>2</td>\n",
       "    </tr>\n",
       "    <tr>\n",
       "      <th>102</th>\n",
       "      <td>7.1</td>\n",
       "      <td>5.9</td>\n",
       "      <td>2</td>\n",
       "    </tr>\n",
       "    <tr>\n",
       "      <th>103</th>\n",
       "      <td>6.3</td>\n",
       "      <td>5.6</td>\n",
       "      <td>2</td>\n",
       "    </tr>\n",
       "    <tr>\n",
       "      <th>104</th>\n",
       "      <td>6.5</td>\n",
       "      <td>5.8</td>\n",
       "      <td>2</td>\n",
       "    </tr>\n",
       "  </tbody>\n",
       "</table>\n",
       "</div>"
      ],
      "text/plain": [
       "     sepal_length  petal_length  Species\n",
       "100           6.3           6.0        2\n",
       "101           5.8           5.1        2\n",
       "102           7.1           5.9        2\n",
       "103           6.3           5.6        2\n",
       "104           6.5           5.8        2"
      ]
     },
     "execution_count": 8,
     "metadata": {},
     "output_type": "execute_result"
    }
   ],
   "source": [
    "# virsinica　の特徴量のみ抽出\n",
    "feature_virsinica = x_virgicolor_virginica.query('Species == 2')\n",
    "feature_virsinica.head()"
   ]
  },
  {
   "cell_type": "code",
   "execution_count": 9,
   "metadata": {},
   "outputs": [
    {
     "data": {
      "image/png": "[encoded data removed]",
      "text/plain": [
       "<Figure size 432x288 with 1 Axes>"
      ]
     },
     "metadata": {
      "needs_background": "light"
     },
     "output_type": "display_data"
    }
   ],
   "source": [
    "# scatterメソッドで散布図を表示\n",
    "plt.scatter(feature_virsicolor['sepal_length'], feature_virsicolor['petal_length'], c='red')\n",
    "plt.scatter(feature_virsinica['sepal_length'], feature_virsinica['petal_length'], c='blue')\n",
    "\n",
    "# xlabelの設定\n",
    "plt.xlabel('sepal_length')\n",
    "\n",
    "# ylabelの設定\n",
    "plt.ylabel('petal_length')\n",
    "\n",
    "# titileの設定\n",
    "plt.title('virsicolor and virsinica')\n",
    "\n",
    "# 凡例の表示\n",
    "plt.legend();"
   ]
  },
  {
   "cell_type": "markdown",
   "metadata": {},
   "source": [
    "### 箱ひげ図の表示"
   ]
  },
  {
   "cell_type": "code",
   "execution_count": 10,
   "metadata": {},
   "outputs": [
    {
     "data": {
      "image/png": "[encoded data removed]",
      "text/plain": [
       "<Figure size 432x288 with 1 Axes>"
      ]
     },
     "metadata": {
      "needs_background": "light"
     },
     "output_type": "display_data"
    }
   ],
   "source": [
    "# boxplotメソッドにて箱ひげ図の表示\n",
    "plt.boxplot([feature_virsicolor['sepal_length'], feature_virsinica['sepal_length']],\n",
    "            labels=['virsicolor', 'virsinica'])\n",
    "\n",
    "# titleの設定\n",
    "plt.title('sepal_length');"
   ]
  },
  {
   "cell_type": "code",
   "execution_count": 11,
   "metadata": {},
   "outputs": [
    {
     "data": {
      "image/png": "[encoded data removed]",
      "text/plain": [
       "<Figure size 432x288 with 1 Axes>"
      ]
     },
     "metadata": {
      "needs_background": "light"
     },
     "output_type": "display_data"
    }
   ],
   "source": [
    "# boxplotメソッドにて箱ひげ図の表示\n",
    "plt.boxplot([feature_virsicolor['petal_length'], feature_virsinica['petal_length']],\n",
    "            labels=['virsicolr', 'virsinica'])\n",
    "\n",
    "# titleの設定\n",
    "plt.title('petal_length');"
   ]
  },
  {
   "cell_type": "markdown",
   "metadata": {},
   "source": [
    "### バイオリン図の表示　"
   ]
  },
  {
   "cell_type": "code",
   "execution_count": 12,
   "metadata": {},
   "outputs": [],
   "source": [
    "# seaborn ライブラリをインポート\n",
    "import seaborn as sns"
   ]
  },
  {
   "cell_type": "code",
   "execution_count": 13,
   "metadata": {},
   "outputs": [
    {
     "data": {
      "text/html": [
       "<div>\n",
       "<style scoped>\n",
       "    .dataframe tbody tr th:only-of-type {\n",
       "        vertical-align: middle;\n",
       "    }\n",
       "\n",
       "    .dataframe tbody tr th {\n",
       "        vertical-align: top;\n",
       "    }\n",
       "\n",
       "    .dataframe thead th {\n",
       "        text-align: right;\n",
       "    }\n",
       "</style>\n",
       "<table border=\"1\" class=\"dataframe\">\n",
       "  <thead>\n",
       "    <tr style=\"text-align: right;\">\n",
       "      <th></th>\n",
       "      <th>variable</th>\n",
       "      <th>value</th>\n",
       "    </tr>\n",
       "  </thead>\n",
       "  <tbody>\n",
       "    <tr>\n",
       "      <th>0</th>\n",
       "      <td>sepal_length</td>\n",
       "      <td>7.0</td>\n",
       "    </tr>\n",
       "    <tr>\n",
       "      <th>1</th>\n",
       "      <td>sepal_length</td>\n",
       "      <td>6.4</td>\n",
       "    </tr>\n",
       "    <tr>\n",
       "      <th>2</th>\n",
       "      <td>sepal_length</td>\n",
       "      <td>6.9</td>\n",
       "    </tr>\n",
       "    <tr>\n",
       "      <th>3</th>\n",
       "      <td>sepal_length</td>\n",
       "      <td>5.5</td>\n",
       "    </tr>\n",
       "    <tr>\n",
       "      <th>4</th>\n",
       "      <td>sepal_length</td>\n",
       "      <td>6.5</td>\n",
       "    </tr>\n",
       "  </tbody>\n",
       "</table>\n",
       "</div>"
      ],
      "text/plain": [
       "       variable  value\n",
       "0  sepal_length    7.0\n",
       "1  sepal_length    6.4\n",
       "2  sepal_length    6.9\n",
       "3  sepal_length    5.5\n",
       "4  sepal_length    6.5"
      ]
     },
     "execution_count": 13,
     "metadata": {},
     "output_type": "execute_result"
    }
   ],
   "source": [
    "# meltメソッドでfeature_virsicolorのデータをを縦に結合(Species列は除く為、対象は1列目までと指定)\n",
    "virsicolor_melt = pd.melt(feature_virsicolor.iloc[:,:2])\n",
    "virsicolor_melt.head()"
   ]
  },
  {
   "cell_type": "code",
   "execution_count": 14,
   "metadata": {},
   "outputs": [
    {
     "data": {
      "text/html": [
       "<div>\n",
       "<style scoped>\n",
       "    .dataframe tbody tr th:only-of-type {\n",
       "        vertical-align: middle;\n",
       "    }\n",
       "\n",
       "    .dataframe tbody tr th {\n",
       "        vertical-align: top;\n",
       "    }\n",
       "\n",
       "    .dataframe thead th {\n",
       "        text-align: right;\n",
       "    }\n",
       "</style>\n",
       "<table border=\"1\" class=\"dataframe\">\n",
       "  <thead>\n",
       "    <tr style=\"text-align: right;\">\n",
       "      <th></th>\n",
       "      <th>variable</th>\n",
       "      <th>value</th>\n",
       "      <th>Species</th>\n",
       "    </tr>\n",
       "  </thead>\n",
       "  <tbody>\n",
       "    <tr>\n",
       "      <th>0</th>\n",
       "      <td>sepal_length</td>\n",
       "      <td>7.0</td>\n",
       "      <td>virsicolor</td>\n",
       "    </tr>\n",
       "    <tr>\n",
       "      <th>1</th>\n",
       "      <td>sepal_length</td>\n",
       "      <td>6.4</td>\n",
       "      <td>virsicolor</td>\n",
       "    </tr>\n",
       "    <tr>\n",
       "      <th>2</th>\n",
       "      <td>sepal_length</td>\n",
       "      <td>6.9</td>\n",
       "      <td>virsicolor</td>\n",
       "    </tr>\n",
       "    <tr>\n",
       "      <th>3</th>\n",
       "      <td>sepal_length</td>\n",
       "      <td>5.5</td>\n",
       "      <td>virsicolor</td>\n",
       "    </tr>\n",
       "    <tr>\n",
       "      <th>4</th>\n",
       "      <td>sepal_length</td>\n",
       "      <td>6.5</td>\n",
       "      <td>virsicolor</td>\n",
       "    </tr>\n",
       "  </tbody>\n",
       "</table>\n",
       "</div>"
      ],
      "text/plain": [
       "       variable  value     Species\n",
       "0  sepal_length    7.0  virsicolor\n",
       "1  sepal_length    6.4  virsicolor\n",
       "2  sepal_length    6.9  virsicolor\n",
       "3  sepal_length    5.5  virsicolor\n",
       "4  sepal_length    6.5  virsicolor"
      ]
     },
     "execution_count": 14,
     "metadata": {},
     "output_type": "execute_result"
    }
   ],
   "source": [
    "# virsicolor_melt の右端にSpecies列を追加\n",
    "virsicolor_melt['Species'] = 'virsicolor'\n",
    "virsicolor_melt.head()"
   ]
  },
  {
   "cell_type": "code",
   "execution_count": 15,
   "metadata": {},
   "outputs": [
    {
     "data": {
      "text/html": [
       "<div>\n",
       "<style scoped>\n",
       "    .dataframe tbody tr th:only-of-type {\n",
       "        vertical-align: middle;\n",
       "    }\n",
       "\n",
       "    .dataframe tbody tr th {\n",
       "        vertical-align: top;\n",
       "    }\n",
       "\n",
       "    .dataframe thead th {\n",
       "        text-align: right;\n",
       "    }\n",
       "</style>\n",
       "<table border=\"1\" class=\"dataframe\">\n",
       "  <thead>\n",
       "    <tr style=\"text-align: right;\">\n",
       "      <th></th>\n",
       "      <th>variable</th>\n",
       "      <th>value</th>\n",
       "    </tr>\n",
       "  </thead>\n",
       "  <tbody>\n",
       "    <tr>\n",
       "      <th>0</th>\n",
       "      <td>sepal_length</td>\n",
       "      <td>6.3</td>\n",
       "    </tr>\n",
       "    <tr>\n",
       "      <th>1</th>\n",
       "      <td>sepal_length</td>\n",
       "      <td>5.8</td>\n",
       "    </tr>\n",
       "    <tr>\n",
       "      <th>2</th>\n",
       "      <td>sepal_length</td>\n",
       "      <td>7.1</td>\n",
       "    </tr>\n",
       "    <tr>\n",
       "      <th>3</th>\n",
       "      <td>sepal_length</td>\n",
       "      <td>6.3</td>\n",
       "    </tr>\n",
       "    <tr>\n",
       "      <th>4</th>\n",
       "      <td>sepal_length</td>\n",
       "      <td>6.5</td>\n",
       "    </tr>\n",
       "  </tbody>\n",
       "</table>\n",
       "</div>"
      ],
      "text/plain": [
       "       variable  value\n",
       "0  sepal_length    6.3\n",
       "1  sepal_length    5.8\n",
       "2  sepal_length    7.1\n",
       "3  sepal_length    6.3\n",
       "4  sepal_length    6.5"
      ]
     },
     "execution_count": 15,
     "metadata": {},
     "output_type": "execute_result"
    }
   ],
   "source": [
    "# meltメソッドでfeature_virsinicaのデータをを縦に結合\n",
    "virsinica_melt = pd.melt(feature_virsinica.iloc[:,:2])\n",
    "virsinica_melt.head()"
   ]
  },
  {
   "cell_type": "code",
   "execution_count": 16,
   "metadata": {},
   "outputs": [
    {
     "data": {
      "text/html": [
       "<div>\n",
       "<style scoped>\n",
       "    .dataframe tbody tr th:only-of-type {\n",
       "        vertical-align: middle;\n",
       "    }\n",
       "\n",
       "    .dataframe tbody tr th {\n",
       "        vertical-align: top;\n",
       "    }\n",
       "\n",
       "    .dataframe thead th {\n",
       "        text-align: right;\n",
       "    }\n",
       "</style>\n",
       "<table border=\"1\" class=\"dataframe\">\n",
       "  <thead>\n",
       "    <tr style=\"text-align: right;\">\n",
       "      <th></th>\n",
       "      <th>variable</th>\n",
       "      <th>value</th>\n",
       "      <th>Species</th>\n",
       "    </tr>\n",
       "  </thead>\n",
       "  <tbody>\n",
       "    <tr>\n",
       "      <th>0</th>\n",
       "      <td>sepal_length</td>\n",
       "      <td>6.3</td>\n",
       "      <td>virsinica</td>\n",
       "    </tr>\n",
       "    <tr>\n",
       "      <th>1</th>\n",
       "      <td>sepal_length</td>\n",
       "      <td>5.8</td>\n",
       "      <td>virsinica</td>\n",
       "    </tr>\n",
       "    <tr>\n",
       "      <th>2</th>\n",
       "      <td>sepal_length</td>\n",
       "      <td>7.1</td>\n",
       "      <td>virsinica</td>\n",
       "    </tr>\n",
       "    <tr>\n",
       "      <th>3</th>\n",
       "      <td>sepal_length</td>\n",
       "      <td>6.3</td>\n",
       "      <td>virsinica</td>\n",
       "    </tr>\n",
       "    <tr>\n",
       "      <th>4</th>\n",
       "      <td>sepal_length</td>\n",
       "      <td>6.5</td>\n",
       "      <td>virsinica</td>\n",
       "    </tr>\n",
       "  </tbody>\n",
       "</table>\n",
       "</div>"
      ],
      "text/plain": [
       "       variable  value    Species\n",
       "0  sepal_length    6.3  virsinica\n",
       "1  sepal_length    5.8  virsinica\n",
       "2  sepal_length    7.1  virsinica\n",
       "3  sepal_length    6.3  virsinica\n",
       "4  sepal_length    6.5  virsinica"
      ]
     },
     "execution_count": 16,
     "metadata": {},
     "output_type": "execute_result"
    }
   ],
   "source": [
    "# virsinica_melt の右端にSpecies列を追加\n",
    "virsinica_melt['Species'] = 'virsinica'\n",
    "virsinica_melt.head()"
   ]
  },
  {
   "cell_type": "code",
   "execution_count": 17,
   "metadata": {},
   "outputs": [
    {
     "data": {
      "text/html": [
       "<div>\n",
       "<style scoped>\n",
       "    .dataframe tbody tr th:only-of-type {\n",
       "        vertical-align: middle;\n",
       "    }\n",
       "\n",
       "    .dataframe tbody tr th {\n",
       "        vertical-align: top;\n",
       "    }\n",
       "\n",
       "    .dataframe thead th {\n",
       "        text-align: right;\n",
       "    }\n",
       "</style>\n",
       "<table border=\"1\" class=\"dataframe\">\n",
       "  <thead>\n",
       "    <tr style=\"text-align: right;\">\n",
       "      <th></th>\n",
       "      <th>variable</th>\n",
       "      <th>value</th>\n",
       "      <th>Species</th>\n",
       "    </tr>\n",
       "  </thead>\n",
       "  <tbody>\n",
       "    <tr>\n",
       "      <th>0</th>\n",
       "      <td>sepal_length</td>\n",
       "      <td>7.0</td>\n",
       "      <td>virsicolor</td>\n",
       "    </tr>\n",
       "    <tr>\n",
       "      <th>1</th>\n",
       "      <td>sepal_length</td>\n",
       "      <td>6.4</td>\n",
       "      <td>virsicolor</td>\n",
       "    </tr>\n",
       "    <tr>\n",
       "      <th>2</th>\n",
       "      <td>sepal_length</td>\n",
       "      <td>6.9</td>\n",
       "      <td>virsicolor</td>\n",
       "    </tr>\n",
       "    <tr>\n",
       "      <th>3</th>\n",
       "      <td>sepal_length</td>\n",
       "      <td>5.5</td>\n",
       "      <td>virsicolor</td>\n",
       "    </tr>\n",
       "    <tr>\n",
       "      <th>4</th>\n",
       "      <td>sepal_length</td>\n",
       "      <td>6.5</td>\n",
       "      <td>virsicolor</td>\n",
       "    </tr>\n",
       "  </tbody>\n",
       "</table>\n",
       "</div>"
      ],
      "text/plain": [
       "       variable  value     Species\n",
       "0  sepal_length    7.0  virsicolor\n",
       "1  sepal_length    6.4  virsicolor\n",
       "2  sepal_length    6.9  virsicolor\n",
       "3  sepal_length    5.5  virsicolor\n",
       "4  sepal_length    6.5  virsicolor"
      ]
     },
     "execution_count": 17,
     "metadata": {},
     "output_type": "execute_result"
    }
   ],
   "source": [
    "# virsicolor_melt と　virsinica_melt を縦に結合する\n",
    "df_melt = pd.concat([virsicolor_melt, virsinica_melt], axis=0)\n",
    "df_melt.head()"
   ]
  },
  {
   "cell_type": "code",
   "execution_count": 18,
   "metadata": {},
   "outputs": [
    {
     "data": {
      "text/plain": [
       "Text(0.5, 0, 'feature')"
      ]
     },
     "execution_count": 18,
     "metadata": {},
     "output_type": "execute_result"
    },
    {
     "data": {
      "image/png": "[encoded data removed]",
      "text/plain": [
       "<Figure size 432x288 with 1 Axes>"
      ]
     },
     "metadata": {
      "needs_background": "light"
     },
     "output_type": "display_data"
    }
   ],
   "source": [
    "# violinplotメソッドにてバイオリン図を作成\n",
    "sns.violinplot(x='variable', y='value', data=df_melt, hue='Species', dodge=True,\n",
    "              jitter=True, color='black', palette='Set3')\n",
    "\n",
    "plt.xlabel('feature')"
   ]
  },
  {
   "cell_type": "markdown",
   "metadata": {},
   "source": [
    "# 【問題2-2】前処理・学習用データと検証用データの分割\n",
    "前処理の一貫として、学習用（train）データと検証用（validation）データの分割を行います。今回は学習用データ75%、検証用データ25%として分割してください。\n",
    "\n",
    "scikit-learnのtrain_test_splitが利用できます。公式ドキュメントのExamplesを参考に動かしてください。\n",
    "\n",
    "[sklearn.model_selection.train_test_split — scikit-learn 0.20.0 documentation](https://scikit-learn.org/stable/modules/generated/sklearn.model_selection.train_test_split.html)\n",
    "\n",
    "## 注意点\n",
    "\n",
    "データの分析まではPandasのDataFrame型を使用してきました。しかし、scikit-learnはNumPyのndarray型を想定して作られています。そのため、この段階でndarrayへの変換を行いましょう。特徴量（説明変数）をX、正解（目的変数）をyというndarrayに格納します。\n",
    "\n",
    "## 分割する理由\n",
    "\n",
    "分類問題の目的は未知のデータを正しく分類することです。その目的が達成できているかを確認するため、実際には答えの分かっているデータの一部を学習には使わず残しておきます。この学習に使用していないデータで推定を行い、そこから求めた指標値によって検証します。学習に使うデータを学習用データ、検証に使うデータが検証用データで、一般的に7対3から8対2程度の割合にします。"
   ]
  },
  {
   "cell_type": "code",
   "execution_count": 19,
   "metadata": {},
   "outputs": [
    {
     "data": {
      "text/html": [
       "<div>\n",
       "<style scoped>\n",
       "    .dataframe tbody tr th:only-of-type {\n",
       "        vertical-align: middle;\n",
       "    }\n",
       "\n",
       "    .dataframe tbody tr th {\n",
       "        vertical-align: top;\n",
       "    }\n",
       "\n",
       "    .dataframe thead th {\n",
       "        text-align: right;\n",
       "    }\n",
       "</style>\n",
       "<table border=\"1\" class=\"dataframe\">\n",
       "  <thead>\n",
       "    <tr style=\"text-align: right;\">\n",
       "      <th></th>\n",
       "      <th>sepal_length</th>\n",
       "      <th>petal_length</th>\n",
       "    </tr>\n",
       "  </thead>\n",
       "  <tbody>\n",
       "    <tr>\n",
       "      <th>50</th>\n",
       "      <td>7.0</td>\n",
       "      <td>4.7</td>\n",
       "    </tr>\n",
       "    <tr>\n",
       "      <th>51</th>\n",
       "      <td>6.4</td>\n",
       "      <td>4.5</td>\n",
       "    </tr>\n",
       "    <tr>\n",
       "      <th>52</th>\n",
       "      <td>6.9</td>\n",
       "      <td>4.9</td>\n",
       "    </tr>\n",
       "    <tr>\n",
       "      <th>53</th>\n",
       "      <td>5.5</td>\n",
       "      <td>4.0</td>\n",
       "    </tr>\n",
       "    <tr>\n",
       "      <th>54</th>\n",
       "      <td>6.5</td>\n",
       "      <td>4.6</td>\n",
       "    </tr>\n",
       "  </tbody>\n",
       "</table>\n",
       "</div>"
      ],
      "text/plain": [
       "    sepal_length  petal_length\n",
       "50           7.0           4.7\n",
       "51           6.4           4.5\n",
       "52           6.9           4.9\n",
       "53           5.5           4.0\n",
       "54           6.5           4.6"
      ]
     },
     "execution_count": 19,
     "metadata": {},
     "output_type": "execute_result"
    }
   ],
   "source": [
    "x_virgicolor_virginica.iloc[:,:2].head()"
   ]
  },
  {
   "cell_type": "code",
   "execution_count": 20,
   "metadata": {},
   "outputs": [],
   "source": [
    "# scikit-learnライブラリのtrain_test_splitメソッドをインポート\n",
    "from sklearn.model_selection import train_test_split\n",
    "\n",
    "# 特徴量　x をnumpy配列に変換\n",
    "np_x = np.array(x_virgicolor_virginica.iloc[:,:2])\n",
    "\n",
    "# 目的変数　y をnumpy配列に変換\n",
    "np_y = np.array(x_virgicolor_virginica.iloc[:,2])\n",
    "\n",
    "# train_test_splitメソッドにてデータを学習データとテストデータに分割　学習データは75%で設定\n",
    "X_train, X_test, y_train, y_test = train_test_split(np_x, np_y, test_size = 0.25, random_state = 0)"
   ]
  },
  {
   "cell_type": "code",
   "execution_count": 21,
   "metadata": {},
   "outputs": [
    {
     "data": {
      "text/plain": [
       "(75, 2)"
      ]
     },
     "execution_count": 21,
     "metadata": {},
     "output_type": "execute_result"
    }
   ],
   "source": [
    "X_train.shape"
   ]
  },
  {
   "cell_type": "code",
   "execution_count": 22,
   "metadata": {},
   "outputs": [
    {
     "data": {
      "text/plain": [
       "(25, 2)"
      ]
     },
     "execution_count": 22,
     "metadata": {},
     "output_type": "execute_result"
    }
   ],
   "source": [
    "X_test.shape"
   ]
  },
  {
   "cell_type": "code",
   "execution_count": 23,
   "metadata": {},
   "outputs": [
    {
     "data": {
      "text/plain": [
       "(75,)"
      ]
     },
     "execution_count": 23,
     "metadata": {},
     "output_type": "execute_result"
    }
   ],
   "source": [
    "y_train.shape"
   ]
  },
  {
   "cell_type": "code",
   "execution_count": 24,
   "metadata": {},
   "outputs": [
    {
     "data": {
      "text/plain": [
       "(25,)"
      ]
     },
     "execution_count": 24,
     "metadata": {},
     "output_type": "execute_result"
    }
   ],
   "source": [
    "y_test.shape"
   ]
  },
  {
   "cell_type": "markdown",
   "metadata": {},
   "source": [
    "# 【問題3】前処理・標準化\n",
    "分類精度をあげるための加工を行います。手法ごとに適切な方法は異なりますが、ここでは一例として **標準化** を行うことにします。\n",
    "\n",
    "標準化を行うライブラリもscikit-learnに用意されています。これを使って標準化してください。\n",
    "\n",
    "[sklearn.preprocessing.StandardScaler — scikit-learn 0.20.2 documentation](https://scikit-learn.org/stable/modules/generated/sklearn.preprocessing.StandardScaler.html)\n",
    "\n",
    "## 注意点\n",
    "\n",
    "標準化は学習用のデータでfitを行い、学習用、検証用双方のデータに**transform**を行います。検証用データは学習の段階には存在しない未知のデータの代わりなので、標準化のための平均や標準偏差の計算に使ってはいけません。\n",
    "\n",
    "## 実際の問題での前処理は？\n",
    "\n",
    "アヤメのデータセットのように綺麗で扱いやすい状況で提供されることはまずありません。分析を行いながら、様々な加工が必要になってきます。例えばWeek3の課題2で行った欠損値の確認の後、場合により欠損値の補間も行います。外れ値の確認や、複数のデータセットの整理などもあります。"
   ]
  },
  {
   "cell_type": "code",
   "execution_count": 25,
   "metadata": {},
   "outputs": [
    {
     "data": {
      "text/plain": [
       "array([[5.1, 3. ],\n",
       "       [6.3, 4.7],\n",
       "       [5.9, 5.1],\n",
       "       [6.4, 5.6],\n",
       "       [6.2, 4.8]])"
      ]
     },
     "execution_count": 25,
     "metadata": {},
     "output_type": "execute_result"
    }
   ],
   "source": [
    "# 正規化前のX_train\n",
    "X_train[:5]"
   ]
  },
  {
   "cell_type": "code",
   "execution_count": 26,
   "metadata": {},
   "outputs": [
    {
     "data": {
      "text/plain": [
       "array([[-1.77029021, -2.29778941],\n",
       "       [ 0.03817879, -0.24187257],\n",
       "       [-0.56464421,  0.24187257],\n",
       "       [ 0.18888454,  0.84655399],\n",
       "       [-0.11252696, -0.12093628]])"
      ]
     },
     "execution_count": 26,
     "metadata": {},
     "output_type": "execute_result"
    }
   ],
   "source": [
    "# StandardScaler メソッドをインポート\n",
    "from sklearn.preprocessing import StandardScaler\n",
    "\n",
    "# StandardScaler クラスのインスタンス scaler　を作成\n",
    "scaler = StandardScaler()\n",
    "\n",
    "# scalre に学習データを読み込ませる\n",
    "scaler.fit(X_train)\n",
    "\n",
    "# 学習データを正規化しnumpy配列　X_train_scale　に格納\n",
    "X_train_scaler = scaler.transform(X_train)\n",
    "X_train_scaler[:5]"
   ]
  },
  {
   "cell_type": "code",
   "execution_count": 27,
   "metadata": {},
   "outputs": [
    {
     "data": {
      "text/plain": [
       "array([[ 7.91707539e-01, -1.20936285e-01],\n",
       "       [ 3.81787899e-02,  8.46553995e-01],\n",
       "       [ 9.42413289e-01,  2.14825997e-15],\n",
       "       [ 1.99735354e+00,  2.05591684e+00],\n",
       "       [ 1.39453054e+00,  1.33029913e+00]])"
      ]
     },
     "execution_count": 27,
     "metadata": {},
     "output_type": "execute_result"
    }
   ],
   "source": [
    "# 学習データをもとに作成した変換器scalerにて、検証用データを正規化する\n",
    "X_test_scaler = scaler.transform(X_test)\n",
    "X_test_scaler[:5]"
   ]
  },
  {
   "cell_type": "markdown",
   "metadata": {},
   "source": [
    "# 【問題4】学習と推定\n",
    "最近傍法（k-nearest neighbors, k-nn）で学習を行います。scikit-learnの公式ドキュメントのExamplesを参考に、k-nnの学習を行ってください。ここで入力するのは学習用データです。\n",
    "\n",
    "[sklearn.neighbors.KNeighborsClassifier — scikit-learn 0.20.2 documentation](https://scikit-learn.org/stable/modules/generated/sklearn.neighbors.KNeighborsClassifier.html#sklearn.neighbors.KNeighborsClassifier)\n",
    "\n",
    "学習が終わった後、検証用データを**predict**メソッドに入力し、推定を行ってください。\n",
    "\n",
    "パラメータが複数ありますが、今はそれらの理解を重視しません。最も基本的な要素として、**n_neighbors**の数があるため、これは複数試してみましょう。デフォルトの5、および1と3を最低限行ってください。5の場合を**5-nn**、3の場合を**3-nn**のように呼びます。"
   ]
  },
  {
   "cell_type": "code",
   "execution_count": 28,
   "metadata": {},
   "outputs": [
    {
     "name": "stdout",
     "output_type": "stream",
     "text": [
      "n_neighbors = 1：[1 2 2 2 2 2 1 2 2 1 2 2 2 1 1 1 2 1 2 1 1 2 1 2 1]\n",
      "n_neighbors = 2：[1 2 1 2 2 2 1 2 2 1 2 2 2 1 1 1 2 1 2 1 1 2 1 2 1]\n",
      "n_neighbors = 3：[1 2 1 2 2 2 1 2 2 2 2 2 2 1 1 1 2 1 2 1 1 2 1 2 1]\n",
      "n_neighbors = 4：[1 2 1 2 2 2 1 2 2 2 2 2 2 1 1 1 2 1 2 1 1 2 1 2 1]\n",
      "n_neighbors = 5：[1 2 1 2 2 2 1 2 2 2 2 2 2 2 1 1 2 1 2 1 1 2 1 2 1]\n",
      "n_neighbors = 6：[1 2 1 2 2 2 1 2 2 2 2 2 2 1 1 1 2 1 2 1 1 2 1 2 1]\n",
      "n_neighbors = 7：[1 2 1 2 2 2 1 2 2 2 2 2 2 1 1 1 2 1 2 1 1 2 1 2 1]\n",
      "n_neighbors = 8：[1 2 1 2 2 2 1 2 2 2 2 2 2 1 1 1 2 1 2 1 1 2 1 2 1]\n",
      "n_neighbors = 9：[1 2 1 2 2 2 1 2 2 2 2 2 2 1 1 1 2 1 2 1 1 2 1 2 1]\n",
      "n_neighbors = 10：[1 2 1 2 2 2 1 2 2 2 2 2 2 1 1 1 2 1 2 1 1 2 1 2 1]\n"
     ]
    }
   ],
   "source": [
    "# KNeighborsClassifier メソッドをインポート\n",
    "from sklearn.neighbors import KNeighborsClassifier\n",
    "\n",
    "# 予測データを格納する辞書　predict\n",
    "predict = {}\n",
    "\n",
    "# 1~10まで i が変化\n",
    "for i in range(1, 11):\n",
    "    \n",
    "    # KNeighborsClassifierのモデルを作成\n",
    "    clf = KNeighborsClassifier(n_neighbors = i)\n",
    "    \n",
    "    # 正規化を行った学習用データで学習\n",
    "    clf.fit(X_train_scaler, y_train)\n",
    "    \n",
    "    # 予測データを辞書predictに格納\n",
    "    predict[i] = clf.predict(X_test_scaler)\n",
    "    \n",
    "    # 予測結果を表示\n",
    "    print('n_neighbors = {}：{}'.format( i , predict[i]))"
   ]
  },
  {
   "cell_type": "code",
   "execution_count": 29,
   "metadata": {},
   "outputs": [
    {
     "data": {
      "text/plain": [
       "{1: array([1, 2, 2, 2, 2, 2, 1, 2, 2, 1, 2, 2, 2, 1, 1, 1, 2, 1, 2, 1, 1, 2,\n",
       "        1, 2, 1]),\n",
       " 2: array([1, 2, 1, 2, 2, 2, 1, 2, 2, 1, 2, 2, 2, 1, 1, 1, 2, 1, 2, 1, 1, 2,\n",
       "        1, 2, 1]),\n",
       " 3: array([1, 2, 1, 2, 2, 2, 1, 2, 2, 2, 2, 2, 2, 1, 1, 1, 2, 1, 2, 1, 1, 2,\n",
       "        1, 2, 1]),\n",
       " 4: array([1, 2, 1, 2, 2, 2, 1, 2, 2, 2, 2, 2, 2, 1, 1, 1, 2, 1, 2, 1, 1, 2,\n",
       "        1, 2, 1]),\n",
       " 5: array([1, 2, 1, 2, 2, 2, 1, 2, 2, 2, 2, 2, 2, 2, 1, 1, 2, 1, 2, 1, 1, 2,\n",
       "        1, 2, 1]),\n",
       " 6: array([1, 2, 1, 2, 2, 2, 1, 2, 2, 2, 2, 2, 2, 1, 1, 1, 2, 1, 2, 1, 1, 2,\n",
       "        1, 2, 1]),\n",
       " 7: array([1, 2, 1, 2, 2, 2, 1, 2, 2, 2, 2, 2, 2, 1, 1, 1, 2, 1, 2, 1, 1, 2,\n",
       "        1, 2, 1]),\n",
       " 8: array([1, 2, 1, 2, 2, 2, 1, 2, 2, 2, 2, 2, 2, 1, 1, 1, 2, 1, 2, 1, 1, 2,\n",
       "        1, 2, 1]),\n",
       " 9: array([1, 2, 1, 2, 2, 2, 1, 2, 2, 2, 2, 2, 2, 1, 1, 1, 2, 1, 2, 1, 1, 2,\n",
       "        1, 2, 1]),\n",
       " 10: array([1, 2, 1, 2, 2, 2, 1, 2, 2, 2, 2, 2, 2, 1, 1, 1, 2, 1, 2, 1, 1, 2,\n",
       "        1, 2, 1])}"
      ]
     },
     "execution_count": 29,
     "metadata": {},
     "output_type": "execute_result"
    }
   ],
   "source": [
    "predict"
   ]
  },
  {
   "cell_type": "markdown",
   "metadata": {},
   "source": [
    "# 【問題5】評価\n",
    "検証用データの特徴量を入力して得られた推定値と、検証用データの正解値の近さを計算し、学習したモデルを評価します。\n",
    "\n",
    "2値分類を評価するための指標値には accuracy、precision、recall、f値 があります。scikit-learnに用意されていますので、それぞれを計算してください。また、それぞれの意味について簡単に調査してマークダウンでまとめてください。\n",
    "\n",
    "[sklearn.metrics.accuracy_score — scikit-learn 0.20.2 documentation](https://scikit-learn.org/stable/modules/generated/sklearn.metrics.accuracy_score.html)\n",
    "\n",
    "[sklearn.metrics.precision_score — scikit-learn 0.20.2 documentation](https://scikit-learn.org/stable/modules/generated/sklearn.metrics.precision_score.html#sklearn.metrics.precision_score)\n",
    "\n",
    "[sklearn.metrics.recall_score — scikit-learn 0.20.2 documentation](https://scikit-learn.org/stable/modules/generated/sklearn.metrics.recall_score.html#sklearn.metrics.recall_score)\n",
    "\n",
    "[sklearn.metrics.f1_score — scikit-learn 0.20.2 documentation](https://scikit-learn.org/stable/modules/generated/sklearn.metrics.f1_score.html#sklearn.metrics.f1_score)\n",
    "\n",
    "precision、recall、f値を計算する背景にはTrue Positive、True Negative、False Positive、False Negativeがあります。この4種類を計算し表示するものとして混合行列があります。これもscikit-learnを使い表示させてください。\n",
    "\n",
    "[sklearn.metrics.confusion_matrix — scikit-learn 0.20.2 documentation](https://scikit-learn.org/stable/modules/generated/sklearn.metrics.confusion_matrix.html#sklearn.metrics.confusion_matrix)\n",
    "\n"
   ]
  },
  {
   "cell_type": "markdown",
   "metadata": {},
   "source": [
    "## accuracy の表示"
   ]
  },
  {
   "cell_type": "code",
   "execution_count": 30,
   "metadata": {},
   "outputs": [
    {
     "name": "stdout",
     "output_type": "stream",
     "text": [
      "KNeighborsClassifier(n_neighbors=1)の Accuracy： 84%\n",
      "KNeighborsClassifier(n_neighbors=2)の Accuracy： 88%\n",
      "KNeighborsClassifier(n_neighbors=3)の Accuracy： 92%\n",
      "KNeighborsClassifier(n_neighbors=4)の Accuracy： 92%\n",
      "KNeighborsClassifier(n_neighbors=5)の Accuracy： 88%\n",
      "KNeighborsClassifier(n_neighbors=6)の Accuracy： 92%\n",
      "KNeighborsClassifier(n_neighbors=7)の Accuracy： 92%\n",
      "KNeighborsClassifier(n_neighbors=8)の Accuracy： 92%\n",
      "KNeighborsClassifier(n_neighbors=9)の Accuracy： 92%\n",
      "KNeighborsClassifier(n_neighbors=10)の Accuracy： 92%\n"
     ]
    }
   ],
   "source": [
    "# accuracy_scoreメソッドをインポート\n",
    "from sklearn.metrics import accuracy_score\n",
    "\n",
    "# 検証用データで予測\n",
    "for i in range(1, 11):\n",
    "    \n",
    "    # 正解率を計算\n",
    "    knn_acc = accuracy_score(y_test, predict[i])\n",
    "    \n",
    "    print('KNeighborsClassifier(n_neighbors={})の Accuracy： {:.0f}%'.format(i, knn_acc * 100))"
   ]
  },
  {
   "cell_type": "markdown",
   "metadata": {},
   "source": [
    "## precision score の表示"
   ]
  },
  {
   "cell_type": "code",
   "execution_count": 31,
   "metadata": {},
   "outputs": [
    {
     "name": "stdout",
     "output_type": "stream",
     "text": [
      "KNeighborsClassifier(n_neighbors=1)の Precision_score： 84%\n",
      "KNeighborsClassifier(n_neighbors=2)の Precision_score： 88%\n",
      "KNeighborsClassifier(n_neighbors=3)の Precision_score： 92%\n",
      "KNeighborsClassifier(n_neighbors=4)の Precision_score： 92%\n",
      "KNeighborsClassifier(n_neighbors=5)の Precision_score： 88%\n",
      "KNeighborsClassifier(n_neighbors=6)の Precision_score： 92%\n",
      "KNeighborsClassifier(n_neighbors=7)の Precision_score： 92%\n",
      "KNeighborsClassifier(n_neighbors=8)の Precision_score： 92%\n",
      "KNeighborsClassifier(n_neighbors=9)の Precision_score： 92%\n",
      "KNeighborsClassifier(n_neighbors=10)の Precision_score： 92%\n"
     ]
    }
   ],
   "source": [
    "# precision_score　メソッドのインポート\n",
    "from sklearn.metrics import precision_score\n",
    "\n",
    "for i in range(1, 11):\n",
    "    \n",
    "    # precision scoreを計算\n",
    "    knn_pre = precision_score(y_test, predict[i], average='micro')\n",
    "    \n",
    "    # 表示\n",
    "    print('KNeighborsClassifier(n_neighbors={})の Precision_score： {:.0f}%'.format(i, knn_pre * 100))"
   ]
  },
  {
   "cell_type": "markdown",
   "metadata": {},
   "source": [
    "##  recall scoreの表示"
   ]
  },
  {
   "cell_type": "code",
   "execution_count": 32,
   "metadata": {},
   "outputs": [
    {
     "name": "stdout",
     "output_type": "stream",
     "text": [
      "KNeighborsClassifier(n_neighbors=1)の Recall_score： 84%\n",
      "KNeighborsClassifier(n_neighbors=2)の Recall_score： 88%\n",
      "KNeighborsClassifier(n_neighbors=3)の Recall_score： 92%\n",
      "KNeighborsClassifier(n_neighbors=4)の Recall_score： 92%\n",
      "KNeighborsClassifier(n_neighbors=5)の Recall_score： 88%\n",
      "KNeighborsClassifier(n_neighbors=6)の Recall_score： 92%\n",
      "KNeighborsClassifier(n_neighbors=7)の Recall_score： 92%\n",
      "KNeighborsClassifier(n_neighbors=8)の Recall_score： 92%\n",
      "KNeighborsClassifier(n_neighbors=9)の Recall_score： 92%\n",
      "KNeighborsClassifier(n_neighbors=10)の Recall_score： 92%\n"
     ]
    }
   ],
   "source": [
    "# recall_score　メソッドのインポート\n",
    "from sklearn.metrics import recall_score\n",
    "\n",
    "for i in range(1, 11):\n",
    "    \n",
    "    # recall_scoreを計算\n",
    "    knn_rec = recall_score(y_test, predict[i], average='micro')\n",
    "    \n",
    "    # 表示\n",
    "    print('KNeighborsClassifier(n_neighbors={})の Recall_score： {:.0f}%'.format(i, knn_rec * 100))"
   ]
  },
  {
   "cell_type": "markdown",
   "metadata": {},
   "source": [
    "## f値の表示"
   ]
  },
  {
   "cell_type": "code",
   "execution_count": 33,
   "metadata": {},
   "outputs": [
    {
     "name": "stdout",
     "output_type": "stream",
     "text": [
      "KNeighborsClassifier(n_neighbors=1)の F値： 84%\n",
      "KNeighborsClassifier(n_neighbors=2)の F値： 88%\n",
      "KNeighborsClassifier(n_neighbors=3)の F値： 92%\n",
      "KNeighborsClassifier(n_neighbors=4)の F値： 92%\n",
      "KNeighborsClassifier(n_neighbors=5)の F値： 88%\n",
      "KNeighborsClassifier(n_neighbors=6)の F値： 92%\n",
      "KNeighborsClassifier(n_neighbors=7)の F値： 92%\n",
      "KNeighborsClassifier(n_neighbors=8)の F値： 92%\n",
      "KNeighborsClassifier(n_neighbors=9)の F値： 92%\n",
      "KNeighborsClassifier(n_neighbors=10)の F値： 92%\n"
     ]
    }
   ],
   "source": [
    "# 　メソッドのインポート\n",
    "from sklearn.metrics import f1_score\n",
    "\n",
    "for i in range(1, 11):\n",
    "    \n",
    "    # recall_scoreを計算\n",
    "    knn_f1 = f1_score(y_test, predict[i], average='micro')\n",
    "    \n",
    "    # 表示\n",
    "    print('KNeighborsClassifier(n_neighbors={})の F値： {:.0f}%'.format(i, knn_f1 * 100))"
   ]
  },
  {
   "cell_type": "markdown",
   "metadata": {},
   "source": [
    "## 混同行列の表示"
   ]
  },
  {
   "cell_type": "code",
   "execution_count": 34,
   "metadata": {},
   "outputs": [
    {
     "name": "stdout",
     "output_type": "stream",
     "text": [
      "KNeighborsClassifier(n_neighbors=1)の 混同行列：\n",
      "[[10  3]\n",
      " [ 1 11]]\n",
      "\n",
      "KNeighborsClassifier(n_neighbors=2)の 混同行列：\n",
      "[[11  2]\n",
      " [ 1 11]]\n",
      "\n",
      "KNeighborsClassifier(n_neighbors=3)の 混同行列：\n",
      "[[11  2]\n",
      " [ 0 12]]\n",
      "\n",
      "KNeighborsClassifier(n_neighbors=4)の 混同行列：\n",
      "[[11  2]\n",
      " [ 0 12]]\n",
      "\n",
      "KNeighborsClassifier(n_neighbors=5)の 混同行列：\n",
      "[[10  3]\n",
      " [ 0 12]]\n",
      "\n",
      "KNeighborsClassifier(n_neighbors=6)の 混同行列：\n",
      "[[11  2]\n",
      " [ 0 12]]\n",
      "\n",
      "KNeighborsClassifier(n_neighbors=7)の 混同行列：\n",
      "[[11  2]\n",
      " [ 0 12]]\n",
      "\n",
      "KNeighborsClassifier(n_neighbors=8)の 混同行列：\n",
      "[[11  2]\n",
      " [ 0 12]]\n",
      "\n",
      "KNeighborsClassifier(n_neighbors=9)の 混同行列：\n",
      "[[11  2]\n",
      " [ 0 12]]\n",
      "\n",
      "KNeighborsClassifier(n_neighbors=10)の 混同行列：\n",
      "[[11  2]\n",
      " [ 0 12]]\n",
      "\n"
     ]
    }
   ],
   "source": [
    "# 　confusion_matrixメソッドのインポート\n",
    "from sklearn.metrics import confusion_matrix\n",
    "\n",
    "for i in range(1, 11):\n",
    "    print('KNeighborsClassifier(n_neighbors={})の 混同行列：'.format(i))\n",
    "    print(confusion_matrix(y_test, predict[i], labels=[1, 2]))\n",
    "    print('')"
   ]
  },
  {
   "cell_type": "markdown",
   "metadata": {},
   "source": [
    "# 【問題6】可視化\n",
    "評価の一貫として可視化を行います。今回の場合2次元の特徴量で分類を行いましたから、散布図で可視化が可能です。どう分割するかという **決定領域** を描く関数を用意しました。これを利用して可視化を行ってください。可能であればより見やすく改良も行いましょう。"
   ]
  },
  {
   "cell_type": "code",
   "execution_count": 35,
   "metadata": {},
   "outputs": [],
   "source": [
    "import matplotlib.pyplot as plt\n",
    "from matplotlib.colors import ListedColormap\n",
    "import matplotlib.patches as mpatches\n",
    "\n",
    "def decision_region(X_train, y_train, model, step=0.01, \n",
    "                                    title='decision region', xlabel='xlabel', ylabel='ylabel', \n",
    "                                    target_names=['versicolor', 'virginica']):\n",
    "    \"\"\"\n",
    "    2値分類を2次元の特徴量で学習したモデルの決定領域を描く。\n",
    "    背景の色が学習したモデルによる推定値から描画される。\n",
    "    散布図の点は学習用データである。\n",
    "\n",
    "    Parameters\n",
    "    ----------------\n",
    "    X_train : ndarray, shape(n_samples, 2)\n",
    "        学習用データの特徴量\n",
    "    y_train : ndarray, shape(n_samples,)\n",
    "        学習用データの正解値\n",
    "    model : object\n",
    "        学習したモデルのインスンタスを入れる\n",
    "    step : float, (default : 0.1)\n",
    "        推定値を計算する間隔を設定する\n",
    "    title : str\n",
    "        グラフのタイトルの文章を与える\n",
    "    xlabel, ylabel : str\n",
    "        軸ラベルの文章を与える\n",
    "    target_names= : list of str\n",
    "        凡例の一覧を与える\n",
    "    \"\"\"\n",
    "    # setting\n",
    "    scatter_color = ['red', 'blue']\n",
    "    contourf_color = ['pink', 'skyblue']\n",
    "    n_class = 2\n",
    "\n",
    "    # pred\n",
    "    mesh_f0, mesh_f1  = np.meshgrid(np.arange(np.min(X_train[:,0])-0.5, np.max(X_train[:,0])+0.5, step), np.arange(np.min(X_train[:,1])-0.5, np.max(X_train[:,1])+0.5, step))\n",
    "    mesh = np.c_[np.ravel(mesh_f0),np.ravel(mesh_f1)]\n",
    "    pred = model.predict(mesh).reshape(mesh_f0.shape)\n",
    "\n",
    "    # plot\n",
    "    plt.title(title)\n",
    "    plt.xlabel(xlabel)\n",
    "    plt.ylabel(ylabel)\n",
    "    plt.contourf(mesh_f0, mesh_f1, pred, n_class-1, cmap=ListedColormap(contourf_color))\n",
    "    plt.contour(mesh_f0, mesh_f1, pred, n_class-1, colors='y', linewidths=3, alpha=0.5)\n",
    "    for i, target in enumerate(set(y_train)):\n",
    "        plt.scatter(X_train[y_train==target][:, 0], X_train[y_train==target][:, 1], s=80, color=scatter_color[i], label=target_names[i], marker='o')\n",
    "    patches = [mpatches.Patch(color=scatter_color[i], label=target_names[i]) for i in range(n_class)]\n",
    "    plt.legend(handles=patches)\n",
    "    plt.legend()\n",
    "    plt.show()"
   ]
  },
  {
   "cell_type": "code",
   "execution_count": 36,
   "metadata": {},
   "outputs": [
    {
     "data": {
      "image/png": "[encoded data removed]",
      "text/plain": [
       "<Figure size 432x288 with 1 Axes>"
      ]
     },
     "metadata": {
      "needs_background": "light"
     },
     "output_type": "display_data"
    }
   ],
   "source": [
    "# 散布図の表示(clf はn_neighbors=10のモデル)\n",
    "decision_region(X_train_scaler, y_train, clf)"
   ]
  },
  {
   "cell_type": "markdown",
   "metadata": {},
   "source": [
    "## 何をプロットするか\n",
    "この例では学習データをプロットしたことでどのように学習したかを見ることができます。一方で、検証用データをプロットすればどういった特徴量のものが間違って分類されたかを見ることができます。また、両方合わせてプロットすることも可能です。いろいろと見てみるのが良いでしょう。\n",
    "\n",
    "## 手法の改善\n",
    "実際の問題では指標値や可視化を元に手法を改善していきますが、ここでは扱いません。"
   ]
  },
  {
   "cell_type": "markdown",
   "metadata": {},
   "source": [
    "# 4.各手法の比較\n",
    "他の手法も基本的な流れは同様です。他の手法でも学習から可視化までを行っていきます。\n",
    "\n",
    "# 【問題7】他の手法の学習\n",
    "以下の全ての手法について学習・推定・評価・可視化を行ってください。そして、指標値を１つの表にまとめてください。その表と決定領域を利用して結果を簡単に考察してください。どの手法がどの指標値が良かったかや、どういった決定領域になっていたかを述べてください。\n",
    "\n",
    "- 最近傍法\n",
    "- ロジスティック回帰\n",
    "- SVM\n",
    "- 決定木\n",
    "- ランダムフォレスト\n",
    "\n",
    "公式ドキュメントへのリンクは以下です。本来はそれぞれパラメータをチューニングするべきですが、まずはデフォルトで実行しましょう。\n",
    "\n",
    "[sklearn.neighbors.KNeighborsClassifier — scikit-learn 0.20.2 documentation](https://scikit-learn.org/stable/modules/generated/sklearn.neighbors.KNeighborsClassifier.html#sklearn.neighbors.KNeighborsClassifier)\n",
    "\n",
    "[sklearn.linear_model.LogisticRegression — scikit-learn 0.20.2 documentation](https://scikit-learn.org/stable/modules/generated/sklearn.linear_model.LogisticRegression.html)\n",
    "\n",
    "[sklearn.svm.SVC — scikit-learn 0.20.2 documentation](https://scikit-learn.org/stable/modules/generated/sklearn.svm.SVC.html#sklearn.svm.SVC)\n",
    "\n",
    "[sklearn.tree.DecisionTreeClassifier — scikit-learn 0.20.2 documentation](https://scikit-learn.org/stable/modules/generated/sklearn.tree.DecisionTreeClassifier.html#sklearn.tree.DecisionTreeClassifier)\n",
    "\n",
    "[sklearn.ensemble.RandomForestClassifier — scikit-learn 0.20.2 documentation](https://scikit-learn.org/stable/modules/generated/sklearn.ensemble.RandomForestClassifier.html#sklearn.ensemble.RandomForestClassifier)"
   ]
  },
  {
   "cell_type": "code",
   "execution_count": 37,
   "metadata": {},
   "outputs": [],
   "source": [
    "# 評価指標が格納されたリスト\n",
    "evaluation_list = ['Accuracy', 'Precision_Score', 'Recall_Score', 'F値']\n",
    "\n",
    "# 各モデルの評価結果が格納されるリスト\n",
    "evaluation_result = {}"
   ]
  },
  {
   "cell_type": "markdown",
   "metadata": {},
   "source": [
    "### ①最近傍法"
   ]
  },
  {
   "cell_type": "markdown",
   "metadata": {},
   "source": [
    "### モデル作成、予測"
   ]
  },
  {
   "cell_type": "code",
   "execution_count": 38,
   "metadata": {},
   "outputs": [
    {
     "data": {
      "text/plain": [
       "array([1, 2, 1, 2, 2, 2, 1, 2, 2, 2, 2, 2, 2, 2, 1, 1, 2, 1, 2, 1, 1, 2,\n",
       "       1, 2, 1])"
      ]
     },
     "execution_count": 38,
     "metadata": {},
     "output_type": "execute_result"
    }
   ],
   "source": [
    "# LogisticRegressionのモデルを作成\n",
    "clf = KNeighborsClassifier()\n",
    "\n",
    "# 正規化した学習データで学習\n",
    "clf.fit(X_train_scaler, y_train)\n",
    "\n",
    "# 予測結果をLog_preに格納\n",
    "predict = clf.predict(X_test_scaler)\n",
    "predict"
   ]
  },
  {
   "cell_type": "markdown",
   "metadata": {},
   "source": [
    "### 評価"
   ]
  },
  {
   "cell_type": "code",
   "execution_count": 39,
   "metadata": {},
   "outputs": [
    {
     "name": "stdout",
     "output_type": "stream",
     "text": [
      "最近傍モデルの評価\n",
      "Accuracy : 88%\n",
      "Precision_Score : 88%\n",
      "Recall_Score : 88%\n",
      "F値 : 88%\n"
     ]
    }
   ],
   "source": [
    "# 評価結果を格納する辞書\n",
    "result = {}\n",
    "\n",
    "# 正解率を計算\n",
    "acc = accuracy_score(y_test, predict)\n",
    "#　辞書に格納\n",
    "result['Accuracy'] = acc\n",
    "    \n",
    "# precision scoreを計算\n",
    "pre = precision_score(y_test, predict, average='micro')\n",
    "#　辞書に格納\n",
    "result['Precision_Score'] = pre\n",
    "    \n",
    "# recall_scoreを計算\n",
    "rec = recall_score(y_test, predict, average='micro')\n",
    "#　辞書に格納\n",
    "result['Recall_Score'] = rec\n",
    "    \n",
    "# recall_scoreを計算\n",
    "f1 = f1_score(y_test, predict, average='micro')\n",
    "#　辞書に格納\n",
    "result['F値'] = f1\n",
    "\n",
    "print('最近傍モデルの評価')\n",
    "for evaluation in evaluation_list:\n",
    "    print('{} : {:.0f}%'.format(evaluation, result[evaluation] * 100))\n",
    "\n",
    "# 評価結果を格納\n",
    "evaluation_result['knn'] = result"
   ]
  },
  {
   "cell_type": "code",
   "execution_count": 40,
   "metadata": {},
   "outputs": [
    {
     "data": {
      "text/plain": [
       "{'knn': {'Accuracy': 0.88,\n",
       "  'Precision_Score': 0.88,\n",
       "  'Recall_Score': 0.88,\n",
       "  'F値': 0.88}}"
      ]
     },
     "execution_count": 40,
     "metadata": {},
     "output_type": "execute_result"
    }
   ],
   "source": [
    "evaluation_result"
   ]
  },
  {
   "cell_type": "markdown",
   "metadata": {},
   "source": [
    "### 可視化"
   ]
  },
  {
   "cell_type": "code",
   "execution_count": 41,
   "metadata": {},
   "outputs": [
    {
     "data": {
      "image/png": "[encoded data removed]",
      "text/plain": [
       "<Figure size 432x288 with 1 Axes>"
      ]
     },
     "metadata": {
      "needs_background": "light"
     },
     "output_type": "display_data"
    }
   ],
   "source": [
    "# 散布図の表示\n",
    "decision_region(X_train_scaler, y_train, clf)"
   ]
  },
  {
   "cell_type": "markdown",
   "metadata": {},
   "source": [
    "## ②ロジスティック回帰モデル"
   ]
  },
  {
   "cell_type": "markdown",
   "metadata": {},
   "source": [
    "### モデル作成、予測"
   ]
  },
  {
   "cell_type": "code",
   "execution_count": 42,
   "metadata": {},
   "outputs": [
    {
     "name": "stderr",
     "output_type": "stream",
     "text": [
      "C:\\Users\\User\\AppData\\Local\\Continuum\\anaconda3\\lib\\site-packages\\sklearn\\linear_model\\logistic.py:433: FutureWarning: Default solver will be changed to 'lbfgs' in 0.22. Specify a solver to silence this warning.\n",
      "  FutureWarning)\n"
     ]
    },
    {
     "data": {
      "text/plain": [
       "array([1, 2, 1, 2, 2, 2, 1, 2, 2, 2, 2, 2, 2, 1, 1, 1, 2, 1, 2, 1, 1, 2,\n",
       "       1, 2, 1])"
      ]
     },
     "execution_count": 42,
     "metadata": {},
     "output_type": "execute_result"
    }
   ],
   "source": [
    "# LogisticRegression メソッドをインポート\n",
    "from sklearn.linear_model import LogisticRegression\n",
    "\n",
    "# LogisticRegressionのモデルを作成\n",
    "clf = LogisticRegression()\n",
    "\n",
    "# 正規化した学習データで学習\n",
    "clf.fit(X_train_scaler, y_train)\n",
    "\n",
    "# 予測結果をLog_preに格納\n",
    "predict = clf.predict(X_test_scaler)\n",
    "predict"
   ]
  },
  {
   "cell_type": "markdown",
   "metadata": {},
   "source": [
    "### 評価"
   ]
  },
  {
   "cell_type": "code",
   "execution_count": 43,
   "metadata": {},
   "outputs": [
    {
     "name": "stdout",
     "output_type": "stream",
     "text": [
      "ロジスティック回帰モデルの評価\n",
      "Accuracy : 92%\n",
      "Precision_Score : 92%\n",
      "Recall_Score : 92%\n",
      "F値 : 92%\n"
     ]
    }
   ],
   "source": [
    "# 評価結果を格納する辞書\n",
    "result = {}\n",
    "\n",
    "# 正解率を計算\n",
    "acc = accuracy_score(y_test, predict)\n",
    "#　辞書に格納\n",
    "result['Accuracy'] = acc\n",
    "    \n",
    "# precision scoreを計算\n",
    "pre = precision_score(y_test, predict, average='micro')\n",
    "#　辞書に格納\n",
    "result['Precision_Score'] = pre\n",
    "    \n",
    "# recall_scoreを計算\n",
    "rec = recall_score(y_test, predict, average='micro')\n",
    "#　辞書に格納\n",
    "result['Recall_Score'] = rec\n",
    "    \n",
    "# recall_scoreを計算\n",
    "f1 = f1_score(y_test, predict, average='micro')\n",
    "#　辞書に格納\n",
    "result['F値'] = f1\n",
    "\n",
    "print('ロジスティック回帰モデルの評価')\n",
    "for evaluation in evaluation_list:\n",
    "    print('{} : {:.0f}%'.format(evaluation, result[evaluation] * 100))\n",
    "\n",
    "# 評価結果を格納\n",
    "evaluation_result['log'] = result"
   ]
  },
  {
   "cell_type": "markdown",
   "metadata": {},
   "source": [
    "### 可視化"
   ]
  },
  {
   "cell_type": "code",
   "execution_count": 44,
   "metadata": {},
   "outputs": [
    {
     "data": {
      "image/png": "[encoded data removed]",
      "text/plain": [
       "<Figure size 432x288 with 1 Axes>"
      ]
     },
     "metadata": {
      "needs_background": "light"
     },
     "output_type": "display_data"
    }
   ],
   "source": [
    "# 散布図の表示\n",
    "decision_region(X_train_scaler, y_train, clf)"
   ]
  },
  {
   "cell_type": "markdown",
   "metadata": {},
   "source": [
    "## ③SVM"
   ]
  },
  {
   "cell_type": "markdown",
   "metadata": {},
   "source": [
    "### モデル作成、予測"
   ]
  },
  {
   "cell_type": "code",
   "execution_count": 45,
   "metadata": {},
   "outputs": [
    {
     "data": {
      "text/plain": [
       "array([1, 2, 1, 2, 2, 2, 1, 2, 2, 2, 2, 2, 2, 1, 1, 1, 2, 1, 2, 1, 1, 2,\n",
       "       1, 2, 1])"
      ]
     },
     "execution_count": 45,
     "metadata": {},
     "output_type": "execute_result"
    }
   ],
   "source": [
    "# LogisticRegression メソッドをインポート\n",
    "from sklearn.svm import SVC\n",
    "\n",
    "# LogisticRegressionのモデルを作成\n",
    "clf = SVC()\n",
    "\n",
    "# 正規化した学習データで学習\n",
    "clf.fit(X_train_scaler, y_train)\n",
    "\n",
    "# 予測結果をLog_preに格納\n",
    "predict = clf.predict(X_test_scaler)\n",
    "predict"
   ]
  },
  {
   "cell_type": "markdown",
   "metadata": {},
   "source": [
    "### 評価"
   ]
  },
  {
   "cell_type": "code",
   "execution_count": 46,
   "metadata": {},
   "outputs": [
    {
     "name": "stdout",
     "output_type": "stream",
     "text": [
      "SVMモデルの評価\n",
      "Accuracy : 92%\n",
      "Precision_Score : 92%\n",
      "Recall_Score : 92%\n",
      "F値 : 92%\n"
     ]
    }
   ],
   "source": [
    "# 評価結果を格納する辞書\n",
    "result = {}\n",
    "\n",
    "# 正解率を計算\n",
    "acc = accuracy_score(y_test, predict)\n",
    "#　辞書に格納\n",
    "result['Accuracy'] = acc\n",
    "    \n",
    "# precision scoreを計算\n",
    "pre = precision_score(y_test, predict, average='micro')\n",
    "#　辞書に格納\n",
    "result['Precision_Score'] = pre\n",
    "    \n",
    "# recall_scoreを計算\n",
    "rec = recall_score(y_test, predict, average='micro')\n",
    "#　辞書に格納\n",
    "result['Recall_Score'] = rec\n",
    "    \n",
    "# recall_scoreを計算\n",
    "f1 = f1_score(y_test, predict, average='micro')\n",
    "#　辞書に格納\n",
    "result['F値'] = f1\n",
    "\n",
    "print('SVMモデルの評価')\n",
    "for evaluation in evaluation_list:\n",
    "    print('{} : {:.0f}%'.format(evaluation, result[evaluation] * 100))\n",
    "\n",
    "# 評価結果を格納\n",
    "evaluation_result['svm'] = result"
   ]
  },
  {
   "cell_type": "markdown",
   "metadata": {},
   "source": [
    "### 可視化"
   ]
  },
  {
   "cell_type": "code",
   "execution_count": 47,
   "metadata": {},
   "outputs": [
    {
     "data": {
      "image/png": "[encoded data removed]",
      "text/plain": [
       "<Figure size 432x288 with 1 Axes>"
      ]
     },
     "metadata": {
      "needs_background": "light"
     },
     "output_type": "display_data"
    }
   ],
   "source": [
    "# 散布図の表示\n",
    "decision_region(X_train_scaler, y_train, clf)"
   ]
  },
  {
   "cell_type": "markdown",
   "metadata": {},
   "source": [
    "## ④決定木"
   ]
  },
  {
   "cell_type": "markdown",
   "metadata": {},
   "source": [
    "### モデル作成、予測"
   ]
  },
  {
   "cell_type": "code",
   "execution_count": 48,
   "metadata": {},
   "outputs": [
    {
     "data": {
      "text/plain": [
       "array([1, 2, 1, 2, 2, 2, 1, 2, 2, 2, 2, 2, 2, 1, 2, 1, 2, 1, 2, 1, 1, 2,\n",
       "       1, 2, 1])"
      ]
     },
     "execution_count": 48,
     "metadata": {},
     "output_type": "execute_result"
    }
   ],
   "source": [
    "#　DecisionTreeClassifier メソッドをインポート\n",
    "from sklearn.tree import DecisionTreeClassifier\n",
    "\n",
    "# DecisionTreeClassifierのモデルを作成\n",
    "clf = DecisionTreeClassifier()\n",
    "\n",
    "# 正規化した学習データで学習\n",
    "clf.fit(X_train_scaler, y_train)\n",
    "\n",
    "# 予測結果をLog_preに格納\n",
    "predict = clf.predict(X_test_scaler)\n",
    "predict"
   ]
  },
  {
   "cell_type": "markdown",
   "metadata": {},
   "source": [
    "### 評価"
   ]
  },
  {
   "cell_type": "code",
   "execution_count": 49,
   "metadata": {},
   "outputs": [
    {
     "name": "stdout",
     "output_type": "stream",
     "text": [
      "決定木モデルの評価\n",
      "Accuracy : 88%\n",
      "Precision_Score : 88%\n",
      "Recall_Score : 88%\n",
      "F値 : 88%\n"
     ]
    }
   ],
   "source": [
    "# 評価結果を格納する辞書\n",
    "result = {}\n",
    "\n",
    "# 正解率を計算\n",
    "acc = accuracy_score(y_test, predict)\n",
    "#　辞書に格納\n",
    "result['Accuracy'] = acc\n",
    "    \n",
    "# precision scoreを計算\n",
    "pre = precision_score(y_test, predict, average='micro')\n",
    "#　辞書に格納\n",
    "result['Precision_Score'] = pre\n",
    "    \n",
    "# recall_scoreを計算\n",
    "rec = recall_score(y_test, predict, average='micro')\n",
    "#　辞書に格納\n",
    "result['Recall_Score'] = rec\n",
    "    \n",
    "# recall_scoreを計算\n",
    "f1 = f1_score(y_test, predict, average='micro')\n",
    "#　辞書に格納\n",
    "result['F値'] = f1\n",
    "\n",
    "print('決定木モデルの評価')\n",
    "for evaluation in evaluation_list:\n",
    "    print('{} : {:.0f}%'.format(evaluation, result[evaluation] * 100))\n",
    "\n",
    "# 評価結果を格納\n",
    "evaluation_result['dec'] = result"
   ]
  },
  {
   "cell_type": "markdown",
   "metadata": {},
   "source": [
    "### 可視化"
   ]
  },
  {
   "cell_type": "code",
   "execution_count": 50,
   "metadata": {},
   "outputs": [
    {
     "data": {
      "image/png": "[encoded data removed]",
      "text/plain": [
       "<Figure size 432x288 with 1 Axes>"
      ]
     },
     "metadata": {
      "needs_background": "light"
     },
     "output_type": "display_data"
    }
   ],
   "source": [
    "# 散布図の表示\n",
    "decision_region(X_train_scaler, y_train, clf)"
   ]
  },
  {
   "cell_type": "markdown",
   "metadata": {},
   "source": [
    "### ④ランダムフォレスト"
   ]
  },
  {
   "cell_type": "markdown",
   "metadata": {},
   "source": [
    "### モデル作成、予測"
   ]
  },
  {
   "cell_type": "code",
   "execution_count": 51,
   "metadata": {},
   "outputs": [
    {
     "name": "stderr",
     "output_type": "stream",
     "text": [
      "C:\\Users\\User\\AppData\\Local\\Continuum\\anaconda3\\lib\\site-packages\\sklearn\\ensemble\\forest.py:246: FutureWarning: The default value of n_estimators will change from 10 in version 0.20 to 100 in 0.22.\n",
      "  \"10 in version 0.20 to 100 in 0.22.\", FutureWarning)\n"
     ]
    },
    {
     "data": {
      "text/plain": [
       "array([1, 2, 2, 2, 2, 2, 1, 2, 2, 2, 2, 2, 2, 1, 1, 1, 2, 1, 2, 1, 1, 2,\n",
       "       1, 2, 1])"
      ]
     },
     "execution_count": 51,
     "metadata": {},
     "output_type": "execute_result"
    }
   ],
   "source": [
    "#　RandomForestClassifier メソッドをインポート\n",
    "from sklearn.ensemble import RandomForestClassifier\n",
    "\n",
    "# RandomForestClassifierのモデルを作成\n",
    "clf = RandomForestClassifier()\n",
    "\n",
    "# 正規化した学習データで学習\n",
    "clf.fit(X_train_scaler, y_train)\n",
    "\n",
    "# 予測結果をLog_preに格納\n",
    "predict = clf.predict(X_test_scaler)\n",
    "predict"
   ]
  },
  {
   "cell_type": "markdown",
   "metadata": {},
   "source": [
    "### 評価"
   ]
  },
  {
   "cell_type": "code",
   "execution_count": 52,
   "metadata": {},
   "outputs": [
    {
     "name": "stdout",
     "output_type": "stream",
     "text": [
      "ランダムフォレストモデルの評価\n",
      "Accuracy : 88%\n",
      "Precision_Score : 88%\n",
      "Recall_Score : 88%\n",
      "F値 : 88%\n"
     ]
    }
   ],
   "source": [
    "# 評価結果を格納する辞書\n",
    "result = {}\n",
    "\n",
    "# 正解率を計算\n",
    "acc = accuracy_score(y_test, predict)\n",
    "#　辞書に格納\n",
    "result['Accuracy'] = acc\n",
    "    \n",
    "# precision scoreを計算\n",
    "pre = precision_score(y_test, predict, average='micro')\n",
    "#　辞書に格納\n",
    "result['Precision_Score'] = pre\n",
    "    \n",
    "# recall_scoreを計算\n",
    "rec = recall_score(y_test, predict, average='micro')\n",
    "#　辞書に格納\n",
    "result['Recall_Score'] = rec\n",
    "    \n",
    "# recall_scoreを計算\n",
    "f1 = f1_score(y_test, predict, average='micro')\n",
    "#　辞書に格納\n",
    "result['F値'] = f1\n",
    "\n",
    "print('ランダムフォレストモデルの評価')\n",
    "for evaluation in evaluation_list:\n",
    "    print('{} : {:.0f}%'.format(evaluation, result[evaluation] * 100))\n",
    "\n",
    "# 評価結果を格納\n",
    "evaluation_result['ran'] = result"
   ]
  },
  {
   "cell_type": "markdown",
   "metadata": {},
   "source": [
    "### 可視化"
   ]
  },
  {
   "cell_type": "code",
   "execution_count": 53,
   "metadata": {},
   "outputs": [
    {
     "data": {
      "image/png": "[encoded data removed]",
      "text/plain": [
       "<Figure size 432x288 with 1 Axes>"
      ]
     },
     "metadata": {
      "needs_background": "light"
     },
     "output_type": "display_data"
    }
   ],
   "source": [
    "# 散布図の表示\n",
    "decision_region(X_train_scaler, y_train, clf)"
   ]
  },
  {
   "cell_type": "markdown",
   "metadata": {},
   "source": [
    "### それぞれのモデルの評価結果を表でまとめて表示"
   ]
  },
  {
   "cell_type": "code",
   "execution_count": 54,
   "metadata": {},
   "outputs": [],
   "source": [
    "# 指標値の表となるデータフレームを作成\n",
    "evaluation_df = pd.DataFrame(columns=evaluation_list)"
   ]
  },
  {
   "cell_type": "code",
   "execution_count": 55,
   "metadata": {},
   "outputs": [
    {
     "data": {
      "text/html": [
       "<div>\n",
       "<style scoped>\n",
       "    .dataframe tbody tr th:only-of-type {\n",
       "        vertical-align: middle;\n",
       "    }\n",
       "\n",
       "    .dataframe tbody tr th {\n",
       "        vertical-align: top;\n",
       "    }\n",
       "\n",
       "    .dataframe thead th {\n",
       "        text-align: right;\n",
       "    }\n",
       "</style>\n",
       "<table border=\"1\" class=\"dataframe\">\n",
       "  <thead>\n",
       "    <tr style=\"text-align: right;\">\n",
       "      <th></th>\n",
       "      <th>Accuracy</th>\n",
       "      <th>Precision_Score</th>\n",
       "      <th>Recall_Score</th>\n",
       "      <th>F値</th>\n",
       "    </tr>\n",
       "  </thead>\n",
       "  <tbody>\n",
       "    <tr>\n",
       "      <th>knn</th>\n",
       "      <td>0.88</td>\n",
       "      <td>0.88</td>\n",
       "      <td>0.88</td>\n",
       "      <td>0.88</td>\n",
       "    </tr>\n",
       "    <tr>\n",
       "      <th>log</th>\n",
       "      <td>0.92</td>\n",
       "      <td>0.92</td>\n",
       "      <td>0.92</td>\n",
       "      <td>0.92</td>\n",
       "    </tr>\n",
       "    <tr>\n",
       "      <th>svm</th>\n",
       "      <td>0.92</td>\n",
       "      <td>0.92</td>\n",
       "      <td>0.92</td>\n",
       "      <td>0.92</td>\n",
       "    </tr>\n",
       "    <tr>\n",
       "      <th>dec</th>\n",
       "      <td>0.88</td>\n",
       "      <td>0.88</td>\n",
       "      <td>0.88</td>\n",
       "      <td>0.88</td>\n",
       "    </tr>\n",
       "    <tr>\n",
       "      <th>ran</th>\n",
       "      <td>0.88</td>\n",
       "      <td>0.88</td>\n",
       "      <td>0.88</td>\n",
       "      <td>0.88</td>\n",
       "    </tr>\n",
       "  </tbody>\n",
       "</table>\n",
       "</div>"
      ],
      "text/plain": [
       "     Accuracy  Precision_Score  Recall_Score    F値\n",
       "knn      0.88             0.88          0.88  0.88\n",
       "log      0.92             0.92          0.92  0.92\n",
       "svm      0.92             0.92          0.92  0.92\n",
       "dec      0.88             0.88          0.88  0.88\n",
       "ran      0.88             0.88          0.88  0.88"
      ]
     },
     "execution_count": 55,
     "metadata": {},
     "output_type": "execute_result"
    }
   ],
   "source": [
    "# 各モデルの評価結果が格納された辞書evaluation_resultから、\n",
    "#キー(モデル名)とバリュー(評価結果)を取り出す\n",
    "# バリューは辞書型\n",
    "for model_name, evaluation in evaluation_result.items():\n",
    "    \n",
    "    # データフレーム evaluation_df に追加する\n",
    "    evaluation_df.loc[model_name] = list(evaluation.values())\n",
    "    \n",
    "evaluation_df"
   ]
  },
  {
   "cell_type": "markdown",
   "metadata": {},
   "source": [
    "### 考察\n",
    "1. どのモデルが正確に分類できていたか？\n",
    "    - 評価結果より**ロジスティック回帰モデル**と**SVMモデル**が全ての評価指標において最もよい精度で分類できていることを確認\n",
    "    \n",
    "    \n",
    "2. 決定境界について確認できたことは？\n",
    "    - **最近傍法、ロジスティック回帰、SVM**\n",
    "        - 外れ値を正しく分類できていない\n",
    "            - $X=-2　Y=-0.5$のあたりにあるvirsinicaクラスのデータをvirsicolorクラスと誤って分類されている\n",
    "    - **決定木、ランダムフォレスト** \n",
    "        - 外れ値を正しく分類できている"
   ]
  }
 ],
 "metadata": {
  "kernelspec": {
   "display_name": "Python 3",
   "language": "python",
   "name": "python3"
  },
  "language_info": {
   "codemirror_mode": {
    "name": "ipython",
    "version": 3
   },
   "file_extension": ".py",
   "mimetype": "text/x-python",
   "name": "python",
   "nbconvert_exporter": "python",
   "pygments_lexer": "ipython3",
   "version": "3.7.3"
  }
 },
 "nbformat": 4,
 "nbformat_minor": 2
}
