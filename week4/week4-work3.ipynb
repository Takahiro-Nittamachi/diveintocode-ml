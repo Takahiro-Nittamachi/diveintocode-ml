{
 "cells": [
  {
   "cell_type": "markdown",
   "metadata": {},
   "source": [
    "# 1.この課題の目的\n",
    "- クラスを利用したコードを読み書きできるようにする\n",
    "以下の要件をすべて満たしていた場合、合格とします。\n",
    "\n",
    "※Jupyter Notebookを使い課題に沿った検証や説明ができている。\n",
    "\n",
    "# 2.オブジェクト指向\n",
    "これまでの課題では触れてきませんでしたが、**StandardScaler**や**LinearRegression**のような **クラス** と呼ばれるものがPythonなどのプログラム言語では利用できます。\n",
    "\n",
    "クラスの構文は、オブジェクト指向と呼ばれる考え方を利用したプログラミングの基本的な道具になります。\n",
    "\n",
    "この課題ではこれまでに既に登場していたクラスを例に、クラスを活用することでどのようなことができるのかを見て学んでいきます。そして課題の後半では**StandardScaler**のクラスをスクラッチで自作します。\n",
    "\n",
    "# 3.scikit-learnの標準化クラス\n",
    "課題1で利用したscikit-learnに用意されている標準化を行うためのクラス**StandardScaler**を例に見ていきます。サンプルコードを用意しましたので、これを利用しながら理解していきます。\n",
    "\n",
    "[sklearn.preprocessing.StandardScaler — scikit-learn 0.20.0 documentation](https://scikit-learn.org/stable/modules/generated/sklearn.preprocessing.StandardScaler.html)\n",
    "\n",
    "サンプルコード\n",
    ">import numpy as np\n",
    ">\n",
    ">from sklearn.preprocessing import StandardScaler\n",
    ">\n",
    ">from sklearn.datasets import load_iris\n",
    ">\n",
    ">data = load_iris()\n",
    ">\n",
    ">X = data.data[:10]\n",
    ">\n",
    ">scaler = StandardScaler()\n",
    ">\n",
    ">scaler.fit(X)\n",
    ">\n",
    ">print(\"平均 :\", scaler.mean_)\n",
    ">\n",
    ">print(\"分散 :\", scaler.var_)\n",
    ">\n",
    ">X_std = scaler.transform(X)\n",
    "\n",
    "## インスタンス化\n",
    "クラスを使う際はまず以下のようなコードを書きますが、これを **インスタンス化** と呼びます。\n",
    "\n",
    "scaler = StandardScaler()\n",
    "\n",
    "StandardScalerというクラスオブジェクトから、scalerと名前をつけたインスタンスオブジェクトが作られました。\n",
    "\n",
    "### クラスの命名法\n",
    "\n",
    "Pythonではクラス名は頭文字が大文字、他は小文字という命名法がPEP8により定められています。単語間にアンダースコアは入れません。これを CapWords 方式と呼びます。\n",
    "\n",
    "[はじめに — pep8-ja 1.0 ドキュメント クラスの名前](https://pep8-ja.readthedocs.io/ja/latest/#id31)\n",
    "\n",
    "こういった形式のものはクラスだと判断することができます。\n",
    "\n",
    "### インスタンスは複数作れる\n",
    "\n",
    "あるクラスオブジェクトからは複数のインスタンスオブジェクトを作成することが可能です。\n",
    "\n",
    ">scaler0 = StandardScaler()\n",
    ">\n",
    ">scaler1 = StandardScaler()\n",
    ">\n",
    ">scaler2 = StandardScaler()"
   ]
  },
  {
   "cell_type": "markdown",
   "metadata": {},
   "source": [
    "# 【問題1】これまで利用してきたクラスの列挙\n",
    "クラスを使う際はインスタンス化を行うことと、クラスの命名法がわかりました。この情報を元に、これまでの課題で利用してきたコードの中でどのようなクラスがあったかを答えてください。\n",
    "\n",
    "最低でもPandas、matplotlib、scikit-learnからそれぞれ1つ以上見つけてください。\n",
    "\n",
    "## Pandasクラス\n",
    "- pandas.Datafrme\n",
    "\n",
    "## matplotlib\n",
    "- matplotlib.pyplot\n",
    "\n",
    "## sklean-learn\n",
    "- scikit-learn.model.datasets"
   ]
  },
  {
   "cell_type": "code",
   "execution_count": 1,
   "metadata": {},
   "outputs": [],
   "source": [
    "import pandas as pd\n",
    "import numpy as np"
   ]
  },
  {
   "cell_type": "markdown",
   "metadata": {},
   "source": [
    "# 【問題2】これまで利用してきたメソッドやインスタンス変数の列挙\n",
    "これまでの課題で利用してきたコードの中でどのようなメソッドやインスタンス変数があったかを答えてください。\n",
    "\n",
    "最低でもそれぞれ5つ以上答えてください。\n",
    "\n",
    "## ndarrayやstrもインスタンス\n",
    "\n",
    "ドットをつけるというと、NumPyのndarrayに対して**ndarray.shape**や**ndarray.sum()**のような使い方は何度も利用してきたかと思います。これは、ndarrayもインスタンスオブジェクトであり、**shape**はインスタンス変数、**sum**はメソッドだったということです。\n",
    "\n",
    "Pythonのコードに登場するデータはどれもインスタンスオブジェクトであり、listやstrもメソッドを持ちます。\n",
    "\n",
    "## メソッドの列挙\n",
    "- corrcoef()\n",
    "- power()\n",
    "- loc()\n",
    "- iloc()\n",
    "- reshape()\n",
    "- fit()\n",
    "- predict()\n",
    "- append()\n",
    "- arange()\n",
    "\n",
    "## インスタンス変数\n",
    "- RandomForestRegressor.base_estimator\n",
    "- RandomForestRegressor.n_estimators\n",
    "- RandomForestRegressor.estimator_params\n",
    "- RandomForestRegressor.bootstrap\n",
    "- RandomForestRegressor.oob_score\n"
   ]
  },
  {
   "cell_type": "markdown",
   "metadata": {},
   "source": [
    "# 【問題3】標準化クラスをスクラッチで作成\n",
    "理解をより深めるため、**StandardScaler**をスクラッチで作成しましょう。scikit-learnは使わず、NumPyなどを活用して標準化の計算を記述します。具体的には**fit**メソッドと**transform**メソッドを作ります。\n",
    "\n",
    "今回は雛形を用意しました。クラスの作成方法は関数に近いです。メソッドはクラスの中にさらにインデントを一段下げて記述します。\n",
    "\n",
    "インスタンス変数を作成する際はself.mean_のようにselfを付けます。クラスの外からscaler.mean_と書いていたscalerの部分が自分自身を表すselfになっています。\n",
    "\n",
    "以下のコードが実行できるようにしましょう。\n",
    ">import numpy as np\n",
    ">from sklearn.datasets import load_iris\n",
    ">\n",
    ">data = load_iris()\n",
    ">X = data.data[:10]\n",
    ">\n",
    ">scratch_scaler = ScratchStandardScaler()\n",
    ">\n",
    ">scratch_scaler.fit(X)\n",
    ">\n",
    ">print(\"平均 :\", scratch_scaler.mean_)\n",
    ">\n",
    ">print(\"分散 :\", scratch_scaler.var_)\n",
    ">\n",
    ">X_std = scratch_scaler.transform(X)"
   ]
  },
  {
   "cell_type": "markdown",
   "metadata": {},
   "source": [
    "## クラス定義"
   ]
  },
  {
   "cell_type": "code",
   "execution_count": 11,
   "metadata": {},
   "outputs": [],
   "source": [
    "class ScratchStandardScaler():\n",
    "    \"\"\"\n",
    "    標準化のためのクラス\n",
    "\n",
    "    Attributes\n",
    "    ----------\n",
    "    mean_ : 次の形のndarray, shape(n_features,)\n",
    "        平均\n",
    "    var_ : 次の形のndarray, shape(n_features,)\n",
    "        分散\n",
    "    \"\"\"\n",
    "\n",
    "    def fit(self, X):\n",
    "        \"\"\"\n",
    "        標準化のために平均と分散を計算する。\n",
    "\n",
    "        Parameters\n",
    "        ----------\n",
    "        X : 次の形のndarray, shape (n_samples, n_features)\n",
    "            学習データ\n",
    "        \"\"\"\n",
    "\n",
    "        self.mean_ = X.sum() / len(X)\n",
    "        self.var_ = ((X - self.mean_).sum()) / len(X)\n",
    "\n",
    "        pass\n",
    "\n",
    "    def transform(self, X):\n",
    "        \"\"\"\n",
    "        fitで求めた値を使い標準化を行う。\n",
    "\n",
    "        Parameters\n",
    "        ----------\n",
    "        X : 次の形のndarray, shape (n_samples, n_features)\n",
    "            特徴量\n",
    "\n",
    "        Returns\n",
    "        ----------\n",
    "        X_scaled : 次の形のndarray, shape (n_samples, n_features)\n",
    "            標準化された特徴量\n",
    "        \"\"\"\n",
    "        X_scaled = (X - self.mean_) / self.var_\n",
    "\n",
    "        return X_scaled"
   ]
  },
  {
   "cell_type": "markdown",
   "metadata": {},
   "source": [
    "## コードの実行"
   ]
  },
  {
   "cell_type": "code",
   "execution_count": 18,
   "metadata": {},
   "outputs": [
    {
     "name": "stdout",
     "output_type": "stream",
     "text": [
      "平均 : 9.84\n",
      "分散 : -29.52\n"
     ]
    },
    {
     "data": {
      "text/plain": [
       "array([[0.16056911, 0.21476965, 0.28590786, 0.32655827],\n",
       "       [0.16734417, 0.23170732, 0.28590786, 0.32655827],\n",
       "       [0.17411924, 0.22493225, 0.28929539, 0.32655827],\n",
       "       [0.17750678, 0.22831978, 0.28252033, 0.32655827],\n",
       "       [0.16395664, 0.21138211, 0.28590786, 0.32655827],\n",
       "       [0.1504065 , 0.20121951, 0.27574526, 0.3197832 ],\n",
       "       [0.17750678, 0.21815718, 0.28590786, 0.32317073],\n",
       "       [0.16395664, 0.21815718, 0.28252033, 0.32655827],\n",
       "       [0.18428184, 0.23509485, 0.28590786, 0.32655827],\n",
       "       [0.16734417, 0.22831978, 0.28252033, 0.3299458 ]])"
      ]
     },
     "execution_count": 18,
     "metadata": {},
     "output_type": "execute_result"
    }
   ],
   "source": [
    "import numpy as np\n",
    "from sklearn.datasets import load_iris\n",
    "\n",
    "data = load_iris()\n",
    "X = data.data[:10]\n",
    "\n",
    "scratch_scaler = ScratchStandardScaler()\n",
    "scratch_scaler.fit(X)\n",
    "print(\"平均 :\", scratch_scaler.mean_)\n",
    "print(\"分散 :\", scratch_scaler.var_)\n",
    "X_std = scratch_scaler.transform(X)\n",
    "X_std"
   ]
  },
  {
   "cell_type": "markdown",
   "metadata": {},
   "source": [
    "## 動作の正常性の確認→手計算の値と合致した為、正常動作を確認"
   ]
  },
  {
   "cell_type": "code",
   "execution_count": 13,
   "metadata": {},
   "outputs": [
    {
     "data": {
      "text/plain": [
       "array([[5.1, 3.5, 1.4, 0.2],\n",
       "       [4.9, 3. , 1.4, 0.2],\n",
       "       [4.7, 3.2, 1.3, 0.2],\n",
       "       [4.6, 3.1, 1.5, 0.2],\n",
       "       [5. , 3.6, 1.4, 0.2],\n",
       "       [5.4, 3.9, 1.7, 0.4],\n",
       "       [4.6, 3.4, 1.4, 0.3],\n",
       "       [5. , 3.4, 1.5, 0.2],\n",
       "       [4.4, 2.9, 1.4, 0.2],\n",
       "       [4.9, 3.1, 1.5, 0.1]])"
      ]
     },
     "execution_count": 13,
     "metadata": {},
     "output_type": "execute_result"
    }
   ],
   "source": [
    "# データの読み込み\n",
    "data = load_iris()\n",
    "X = data.data[:10]\n",
    "X"
   ]
  },
  {
   "cell_type": "code",
   "execution_count": 19,
   "metadata": {},
   "outputs": [
    {
     "data": {
      "text/plain": [
       "9.84"
      ]
     },
     "execution_count": 19,
     "metadata": {},
     "output_type": "execute_result"
    }
   ],
   "source": [
    "# 平均\n",
    "X.sum()/len(X)"
   ]
  },
  {
   "cell_type": "code",
   "execution_count": 20,
   "metadata": {},
   "outputs": [
    {
     "data": {
      "text/plain": [
       "-29.52"
      ]
     },
     "execution_count": 20,
     "metadata": {},
     "output_type": "execute_result"
    }
   ],
   "source": [
    "# 分散\n",
    "((X - 9.84).sum()) / len(X)"
   ]
  },
  {
   "cell_type": "code",
   "execution_count": 21,
   "metadata": {},
   "outputs": [
    {
     "data": {
      "text/plain": [
       "0.16056910569105692"
      ]
     },
     "execution_count": 21,
     "metadata": {},
     "output_type": "execute_result"
    }
   ],
   "source": [
    "# 正規化\n",
    "(5.1 - 9.84) / -29.52"
   ]
  },
  {
   "cell_type": "markdown",
   "metadata": {},
   "source": [
    "# 【課題4】 四則演算を行うクラスの作成\n",
    "上記ExampleClassは足し算のメソッドを持っていますが、これに引き算、掛け算、割り算のメソッドを加えてください。\n",
    "\n",
    "また、コンストラクタに入力されたvalueが文字列や配列など数値以外だった場合には警告文を出し、self.value=0とするコードを追加してください。\n",
    "\n",
    "クラス名や説明文も適切に書き換えてください。"
   ]
  },
  {
   "cell_type": "code",
   "execution_count": 49,
   "metadata": {},
   "outputs": [],
   "source": [
    "class ExampleClass():\n",
    "    \"\"\"\n",
    "    説明用の簡単なクラス\n",
    "\n",
    "    Parameters\n",
    "    ----------\n",
    "    value : float or int\n",
    "        初期値\n",
    "\n",
    "    Attributes\n",
    "    ----------\n",
    "    value : float or int\n",
    "        計算結果\n",
    "    \"\"\"\n",
    "    def __init__(self, value):\n",
    "        \n",
    "        # 例外判定\n",
    "        try:\n",
    "            # 数値以外が入力された際にValueErrorが発生するように、valueをint型に変換\n",
    "            self.value = int(value)\n",
    "            \n",
    "        # 数字以外が入力されれば、警告文を表示し self.value = 0とする。\n",
    "        except ValueError:\n",
    "            print('エラー：数値以外を入力しないでください。')\n",
    "            self.value = 0\n",
    "        \n",
    "        else:\n",
    "            print(\"初期値{}が設定されました\".format(self.value))\n",
    "        \n",
    "    def add(self, value2):\n",
    "        \"\"\"\n",
    "        受け取った引数をself.valueに加える\n",
    "        \"\"\"\n",
    "        self.value += value2\n",
    "        \n",
    "    def sub(self, value2):\n",
    "        \"\"\"\n",
    "        受け取った引数をself.valueに加える\n",
    "        \"\"\"\n",
    "        self.value -= value2\n",
    "        \n",
    "    def multi(self, value2):\n",
    "        \"\"\"\n",
    "        受け取った引数をself.valueにかける\n",
    "        \"\"\"\n",
    "        self.value *= value2\n",
    "        \n",
    "    def div(self, value2):\n",
    "        \"\"\"\n",
    "        受け取った引数でself.valueを割る\n",
    "        \"\"\"\n",
    "        self.value /= value2"
   ]
  },
  {
   "cell_type": "markdown",
   "metadata": {},
   "source": [
    "## 動作確認(コンストラクタの引数に数値を入力した場合)"
   ]
  },
  {
   "cell_type": "code",
   "execution_count": 50,
   "metadata": {},
   "outputs": [
    {
     "name": "stdout",
     "output_type": "stream",
     "text": [
      "初期値10が設定されました\n",
      "value : 10\n",
      "value : 13\n",
      "value : 10\n",
      "value : 100\n",
      "value : 1.0\n"
     ]
    }
   ],
   "source": [
    "example = ExampleClass(10)\n",
    "print(\"value :\", example.value)\n",
    "\n",
    "example.add(3)\n",
    "print(\"value :\", example.value)\n",
    "\n",
    "example.sub(3)\n",
    "print(\"value :\", example.value)\n",
    "\n",
    "example.multi(10)\n",
    "print(\"value :\", example.value)\n",
    "\n",
    "example.div(100)\n",
    "print(\"value :\", example.value)"
   ]
  },
  {
   "cell_type": "markdown",
   "metadata": {},
   "source": [
    "## 動作確認(コンストラクタの引数に数値以外を入力した場合)"
   ]
  },
  {
   "cell_type": "code",
   "execution_count": 51,
   "metadata": {},
   "outputs": [
    {
     "name": "stdout",
     "output_type": "stream",
     "text": [
      "エラー：数値以外を入力しないでください。\n",
      "value : 0\n"
     ]
    }
   ],
   "source": [
    "example = ExampleClass('a')\n",
    "print(\"value :\", example.value)"
   ]
  }
 ],
 "metadata": {
  "kernelspec": {
   "display_name": "Python 3",
   "language": "python",
   "name": "python3"
  },
  "language_info": {
   "codemirror_mode": {
    "name": "ipython",
    "version": 3
   },
   "file_extension": ".py",
   "mimetype": "text/x-python",
   "name": "python",
   "nbconvert_exporter": "python",
   "pygments_lexer": "ipython3",
   "version": "3.7.3"
  }
 },
 "nbformat": 4,
 "nbformat_minor": 2
}
