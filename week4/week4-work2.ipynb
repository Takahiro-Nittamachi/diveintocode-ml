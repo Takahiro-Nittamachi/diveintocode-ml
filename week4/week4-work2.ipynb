{
 "cells": [
  {
   "cell_type": "markdown",
   "metadata": {},
   "source": [
    "# 1.この課題の目的\n",
    "- 教師あり学習（回帰問題）の概観を知る\n",
    "- scikit-laernを使い回帰を行えるようにする\n",
    "- 手法の簡単な比較をする\n",
    "以下の要件をすべて満たしていた場合、合格とします。\n",
    "\n",
    "※Jupyter Notebookを使い課題に沿った検証や説明ができている。\n",
    "\n",
    "# 2.住宅価格の回帰\n",
    "Week3で使用したアイオワ州エイムズ市の住宅価格データセットを使い、回帰問題を解く練習をします。\n",
    "\n",
    "79種類の特徴量（説明変数）を活用し、住宅価格の数値を推測する問題が設定できます。こういった連続値のものを推測する問題を回帰問題と呼びます。\n",
    "\n",
    "[House Prices: Advanced Regression Techniques](https://www.kaggle.com/c/house-prices-advanced-regression-techniques/data)\n",
    "\n",
    "## 今回使う手法の一覧\n",
    "scikit-laernを使い以下の手法で学習と推定を行っていきます。それぞれの手法についての詳細は今の段階では扱いません。ライブラリを使えばどれも気軽に利用できることや、手法毎の結果に違いがあることを簡単に見ていきます。\n",
    "\n",
    "- 線形回帰\n",
    "- SVM\n",
    "- 決定木\n",
    "- ランダムフォレスト\n",
    "分類問題と回帰問題の両方で使える手法と、そうではない手法が存在します。\n",
    "\n",
    "# 3.データセットの準備\n",
    "Week3同様にKaggleからデータセットをダウンロードしてください。train.csvのみを使用します。\n",
    "\n",
    "[House Prices: Advanced Regression Techniques | Kaggle](https://www.kaggle.com/c/house-prices-advanced-regression-techniques)\n",
    "\n",
    "# 4.回帰問題の流れ\n",
    "回帰問題の流れは分類問題と基本的には同じですから、課題1のように細かい説明はしません。\n",
    "\n",
    "## 練習のための準備\n",
    "このデータセットには79種類の特徴量（目的変数）がありますが、Week3で探索して分かったように様々なタイプのデータ含まれています。これをどう前処理するかということは機械学習において重要な箇所ですが、今回は回帰問題の学習や評価の練習を優先するため、**GrLivArea**と**YearBuilt**の2つだけを利用することにします。\n",
    "\n"
   ]
  },
  {
   "cell_type": "markdown",
   "metadata": {},
   "source": [
    "# 【課題1】練習のために特徴量の選択\n",
    "データセットを読み込んだ後、GrLivAreaとYearBuiltを抜き出してください。"
   ]
  },
  {
   "cell_type": "code",
   "execution_count": 1,
   "metadata": {},
   "outputs": [
    {
     "data": {
      "text/html": [
       "<div>\n",
       "<style scoped>\n",
       "    .dataframe tbody tr th:only-of-type {\n",
       "        vertical-align: middle;\n",
       "    }\n",
       "\n",
       "    .dataframe tbody tr th {\n",
       "        vertical-align: top;\n",
       "    }\n",
       "\n",
       "    .dataframe thead th {\n",
       "        text-align: right;\n",
       "    }\n",
       "</style>\n",
       "<table border=\"1\" class=\"dataframe\">\n",
       "  <thead>\n",
       "    <tr style=\"text-align: right;\">\n",
       "      <th></th>\n",
       "      <th>Id</th>\n",
       "      <th>MSSubClass</th>\n",
       "      <th>MSZoning</th>\n",
       "      <th>LotFrontage</th>\n",
       "      <th>LotArea</th>\n",
       "      <th>Street</th>\n",
       "      <th>Alley</th>\n",
       "      <th>LotShape</th>\n",
       "      <th>LandContour</th>\n",
       "      <th>Utilities</th>\n",
       "      <th>...</th>\n",
       "      <th>PoolArea</th>\n",
       "      <th>PoolQC</th>\n",
       "      <th>Fence</th>\n",
       "      <th>MiscFeature</th>\n",
       "      <th>MiscVal</th>\n",
       "      <th>MoSold</th>\n",
       "      <th>YrSold</th>\n",
       "      <th>SaleType</th>\n",
       "      <th>SaleCondition</th>\n",
       "      <th>SalePrice</th>\n",
       "    </tr>\n",
       "  </thead>\n",
       "  <tbody>\n",
       "    <tr>\n",
       "      <th>0</th>\n",
       "      <td>1</td>\n",
       "      <td>60</td>\n",
       "      <td>RL</td>\n",
       "      <td>65.0</td>\n",
       "      <td>8450</td>\n",
       "      <td>Pave</td>\n",
       "      <td>NaN</td>\n",
       "      <td>Reg</td>\n",
       "      <td>Lvl</td>\n",
       "      <td>AllPub</td>\n",
       "      <td>...</td>\n",
       "      <td>0</td>\n",
       "      <td>NaN</td>\n",
       "      <td>NaN</td>\n",
       "      <td>NaN</td>\n",
       "      <td>0</td>\n",
       "      <td>2</td>\n",
       "      <td>2008</td>\n",
       "      <td>WD</td>\n",
       "      <td>Normal</td>\n",
       "      <td>208500</td>\n",
       "    </tr>\n",
       "    <tr>\n",
       "      <th>1</th>\n",
       "      <td>2</td>\n",
       "      <td>20</td>\n",
       "      <td>RL</td>\n",
       "      <td>80.0</td>\n",
       "      <td>9600</td>\n",
       "      <td>Pave</td>\n",
       "      <td>NaN</td>\n",
       "      <td>Reg</td>\n",
       "      <td>Lvl</td>\n",
       "      <td>AllPub</td>\n",
       "      <td>...</td>\n",
       "      <td>0</td>\n",
       "      <td>NaN</td>\n",
       "      <td>NaN</td>\n",
       "      <td>NaN</td>\n",
       "      <td>0</td>\n",
       "      <td>5</td>\n",
       "      <td>2007</td>\n",
       "      <td>WD</td>\n",
       "      <td>Normal</td>\n",
       "      <td>181500</td>\n",
       "    </tr>\n",
       "    <tr>\n",
       "      <th>2</th>\n",
       "      <td>3</td>\n",
       "      <td>60</td>\n",
       "      <td>RL</td>\n",
       "      <td>68.0</td>\n",
       "      <td>11250</td>\n",
       "      <td>Pave</td>\n",
       "      <td>NaN</td>\n",
       "      <td>IR1</td>\n",
       "      <td>Lvl</td>\n",
       "      <td>AllPub</td>\n",
       "      <td>...</td>\n",
       "      <td>0</td>\n",
       "      <td>NaN</td>\n",
       "      <td>NaN</td>\n",
       "      <td>NaN</td>\n",
       "      <td>0</td>\n",
       "      <td>9</td>\n",
       "      <td>2008</td>\n",
       "      <td>WD</td>\n",
       "      <td>Normal</td>\n",
       "      <td>223500</td>\n",
       "    </tr>\n",
       "    <tr>\n",
       "      <th>3</th>\n",
       "      <td>4</td>\n",
       "      <td>70</td>\n",
       "      <td>RL</td>\n",
       "      <td>60.0</td>\n",
       "      <td>9550</td>\n",
       "      <td>Pave</td>\n",
       "      <td>NaN</td>\n",
       "      <td>IR1</td>\n",
       "      <td>Lvl</td>\n",
       "      <td>AllPub</td>\n",
       "      <td>...</td>\n",
       "      <td>0</td>\n",
       "      <td>NaN</td>\n",
       "      <td>NaN</td>\n",
       "      <td>NaN</td>\n",
       "      <td>0</td>\n",
       "      <td>2</td>\n",
       "      <td>2006</td>\n",
       "      <td>WD</td>\n",
       "      <td>Abnorml</td>\n",
       "      <td>140000</td>\n",
       "    </tr>\n",
       "    <tr>\n",
       "      <th>4</th>\n",
       "      <td>5</td>\n",
       "      <td>60</td>\n",
       "      <td>RL</td>\n",
       "      <td>84.0</td>\n",
       "      <td>14260</td>\n",
       "      <td>Pave</td>\n",
       "      <td>NaN</td>\n",
       "      <td>IR1</td>\n",
       "      <td>Lvl</td>\n",
       "      <td>AllPub</td>\n",
       "      <td>...</td>\n",
       "      <td>0</td>\n",
       "      <td>NaN</td>\n",
       "      <td>NaN</td>\n",
       "      <td>NaN</td>\n",
       "      <td>0</td>\n",
       "      <td>12</td>\n",
       "      <td>2008</td>\n",
       "      <td>WD</td>\n",
       "      <td>Normal</td>\n",
       "      <td>250000</td>\n",
       "    </tr>\n",
       "  </tbody>\n",
       "</table>\n",
       "<p>5 rows × 81 columns</p>\n",
       "</div>"
      ],
      "text/plain": [
       "   Id  MSSubClass MSZoning  LotFrontage  LotArea Street Alley LotShape  \\\n",
       "0   1          60       RL         65.0     8450   Pave   NaN      Reg   \n",
       "1   2          20       RL         80.0     9600   Pave   NaN      Reg   \n",
       "2   3          60       RL         68.0    11250   Pave   NaN      IR1   \n",
       "3   4          70       RL         60.0     9550   Pave   NaN      IR1   \n",
       "4   5          60       RL         84.0    14260   Pave   NaN      IR1   \n",
       "\n",
       "  LandContour Utilities  ... PoolArea PoolQC Fence MiscFeature MiscVal MoSold  \\\n",
       "0         Lvl    AllPub  ...        0    NaN   NaN         NaN       0      2   \n",
       "1         Lvl    AllPub  ...        0    NaN   NaN         NaN       0      5   \n",
       "2         Lvl    AllPub  ...        0    NaN   NaN         NaN       0      9   \n",
       "3         Lvl    AllPub  ...        0    NaN   NaN         NaN       0      2   \n",
       "4         Lvl    AllPub  ...        0    NaN   NaN         NaN       0     12   \n",
       "\n",
       "  YrSold  SaleType  SaleCondition  SalePrice  \n",
       "0   2008        WD         Normal     208500  \n",
       "1   2007        WD         Normal     181500  \n",
       "2   2008        WD         Normal     223500  \n",
       "3   2006        WD        Abnorml     140000  \n",
       "4   2008        WD         Normal     250000  \n",
       "\n",
       "[5 rows x 81 columns]"
      ]
     },
     "execution_count": 1,
     "metadata": {},
     "output_type": "execute_result"
    }
   ],
   "source": [
    "# pandas numpy matplotlib.pyplotライブラリをインポート\n",
    "import pandas as pd\n",
    "import numpy as np\n",
    "import matplotlib.pyplot as plt\n",
    "\n",
    "# train.csvをデータフレーム形式で読み込んで表示\n",
    "df = pd.read_csv('train.csv') \n",
    "df.head()"
   ]
  },
  {
   "cell_type": "code",
   "execution_count": 2,
   "metadata": {},
   "outputs": [
    {
     "data": {
      "text/html": [
       "<div>\n",
       "<style scoped>\n",
       "    .dataframe tbody tr th:only-of-type {\n",
       "        vertical-align: middle;\n",
       "    }\n",
       "\n",
       "    .dataframe tbody tr th {\n",
       "        vertical-align: top;\n",
       "    }\n",
       "\n",
       "    .dataframe thead th {\n",
       "        text-align: right;\n",
       "    }\n",
       "</style>\n",
       "<table border=\"1\" class=\"dataframe\">\n",
       "  <thead>\n",
       "    <tr style=\"text-align: right;\">\n",
       "      <th></th>\n",
       "      <th>GrLivArea</th>\n",
       "      <th>YearBuilt</th>\n",
       "    </tr>\n",
       "  </thead>\n",
       "  <tbody>\n",
       "    <tr>\n",
       "      <th>0</th>\n",
       "      <td>1710</td>\n",
       "      <td>2003</td>\n",
       "    </tr>\n",
       "    <tr>\n",
       "      <th>1</th>\n",
       "      <td>1262</td>\n",
       "      <td>1976</td>\n",
       "    </tr>\n",
       "    <tr>\n",
       "      <th>2</th>\n",
       "      <td>1786</td>\n",
       "      <td>2001</td>\n",
       "    </tr>\n",
       "    <tr>\n",
       "      <th>3</th>\n",
       "      <td>1717</td>\n",
       "      <td>1915</td>\n",
       "    </tr>\n",
       "    <tr>\n",
       "      <th>4</th>\n",
       "      <td>2198</td>\n",
       "      <td>2000</td>\n",
       "    </tr>\n",
       "  </tbody>\n",
       "</table>\n",
       "</div>"
      ],
      "text/plain": [
       "   GrLivArea  YearBuilt\n",
       "0       1710       2003\n",
       "1       1262       1976\n",
       "2       1786       2001\n",
       "3       1717       1915\n",
       "4       2198       2000"
      ]
     },
     "execution_count": 2,
     "metadata": {},
     "output_type": "execute_result"
    }
   ],
   "source": [
    "# GrLivAreaとYearBuilt の列のみ抽出\n",
    "GrLivArea_YearBuilt = df.loc[: , ['GrLivArea', 'YearBuilt']]\n",
    "GrLivArea_YearBuilt.head()"
   ]
  },
  {
   "cell_type": "markdown",
   "metadata": {},
   "source": [
    "# 【課題2】回帰問題のパイプライン\n",
    "データを簡単に分析、前処理し、 **線形回帰** による学習、推定、評価、可視化までの一連の流れ（パイプライン）を作成・実行してください。\n",
    "\n",
    "[sklearn.linear_model.LinearRegression — scikit-learn 0.20.2 documentation](https://scikit-learn.org/stable/modules/generated/sklearn.linear_model.LinearRegression.html)\n",
    "\n",
    "評価のための指標値は分類問題と異なり、平均二乗誤差（Mean Squared Error, MSE）を使うことが一般的です。\n",
    "\n",
    "[sklearn.metrics.mean_squared_error — scikit-learn 0.20.2 documentation](https://scikit-learn.org/stable/modules/generated/sklearn.metrics.mean_squared_error.html)\n",
    "\n",
    "可視化は横軸にある特徴量、縦軸に推測した住宅価格といった方法で行えます。\n",
    "\n"
   ]
  },
  {
   "cell_type": "markdown",
   "metadata": {},
   "source": [
    "## 欠損値の有無を確認→欠損値がない為、データの正規化のみを前処理とする"
   ]
  },
  {
   "cell_type": "code",
   "execution_count": 3,
   "metadata": {},
   "outputs": [
    {
     "data": {
      "text/plain": [
       "GrLivArea    0\n",
       "YearBuilt    0\n",
       "dtype: int64"
      ]
     },
     "execution_count": 3,
     "metadata": {},
     "output_type": "execute_result"
    }
   ],
   "source": [
    "# isnullメソッドにて欠損値があるかを確認\n",
    "GrLivArea_YearBuilt.isnull().sum()"
   ]
  },
  {
   "cell_type": "markdown",
   "metadata": {},
   "source": [
    "## データの分割"
   ]
  },
  {
   "cell_type": "code",
   "execution_count": 4,
   "metadata": {},
   "outputs": [
    {
     "data": {
      "text/plain": [
       "array([[1710, 2003],\n",
       "       [1262, 1976],\n",
       "       [1786, 2001],\n",
       "       ...,\n",
       "       [2340, 1941],\n",
       "       [1078, 1950],\n",
       "       [1256, 1965]], dtype=int64)"
      ]
     },
     "execution_count": 4,
     "metadata": {},
     "output_type": "execute_result"
    }
   ],
   "source": [
    "# 特徴量をnumpy配列に変換\n",
    "np_x = np.array(GrLivArea_YearBuilt)\n",
    "np_x"
   ]
  },
  {
   "cell_type": "code",
   "execution_count": 5,
   "metadata": {},
   "outputs": [
    {
     "data": {
      "text/plain": [
       "(1460, 2)"
      ]
     },
     "execution_count": 5,
     "metadata": {},
     "output_type": "execute_result"
    }
   ],
   "source": [
    "np_x.shape"
   ]
  },
  {
   "cell_type": "code",
   "execution_count": 6,
   "metadata": {},
   "outputs": [
    {
     "data": {
      "text/plain": [
       "array([[208500],\n",
       "       [181500],\n",
       "       [223500],\n",
       "       ...,\n",
       "       [266500],\n",
       "       [142125],\n",
       "       [147500]], dtype=int64)"
      ]
     },
     "execution_count": 6,
     "metadata": {},
     "output_type": "execute_result"
    }
   ],
   "source": [
    "# 目的変数列SalePrice列をnumpy配列に変換し、reshapeメソッドで1460行１列に変換\n",
    "np_y = np.array(df.loc[:,'SalePrice']).reshape([-1,1])\n",
    "np_y"
   ]
  },
  {
   "cell_type": "code",
   "execution_count": 7,
   "metadata": {},
   "outputs": [
    {
     "data": {
      "text/plain": [
       "(1460, 1)"
      ]
     },
     "execution_count": 7,
     "metadata": {},
     "output_type": "execute_result"
    }
   ],
   "source": [
    "np_y.shape"
   ]
  },
  {
   "cell_type": "code",
   "execution_count": 8,
   "metadata": {},
   "outputs": [],
   "source": [
    "# scikit-learnライブラリのtrain_test_splitメソッドをインポート\n",
    "from sklearn.model_selection import train_test_split\n",
    "\n",
    "# train_test_splitメソッドにてデータを学習データとテストデータに分割　学習データは75%で設定\n",
    "X_train, X_test, y_train, y_test = train_test_split(np_x, np_y, test_size = 0.25, random_state = 0)"
   ]
  },
  {
   "cell_type": "code",
   "execution_count": 9,
   "metadata": {},
   "outputs": [
    {
     "data": {
      "text/plain": [
       "array([[2372, 1892],\n",
       "       [1472, 1991],\n",
       "       [ 960, 1965],\n",
       "       [1838, 2005],\n",
       "       [1309, 1974]], dtype=int64)"
      ]
     },
     "execution_count": 9,
     "metadata": {},
     "output_type": "execute_result"
    }
   ],
   "source": [
    "X_train[:5]"
   ]
  },
  {
   "cell_type": "markdown",
   "metadata": {},
   "source": [
    "## パイプラインを構築"
   ]
  },
  {
   "cell_type": "code",
   "execution_count": 10,
   "metadata": {},
   "outputs": [],
   "source": [
    "# LinearRegression クラスをインポート\n",
    "from sklearn.linear_model import  LinearRegression\n",
    "\n",
    "# Pipeline クラスをインポート\n",
    "from sklearn.pipeline import Pipeline\n",
    "\n",
    "# StandardScaler クラスをインポート\n",
    "from sklearn.preprocessing import StandardScaler\n",
    "\n",
    "# Pipelineクラスを定義(データを正規化して、線形回帰モデルを使用)\n",
    "pipeline = Pipeline([\n",
    "    \n",
    "    # StandardScalerクラスを定義\n",
    "    ('std', StandardScaler()),\n",
    "    \n",
    "    # LinearRegressionクラスを定義\n",
    "    ('lin', LinearRegression()),\n",
    "    ])"
   ]
  },
  {
   "cell_type": "markdown",
   "metadata": {},
   "source": [
    "## 学習・予測"
   ]
  },
  {
   "cell_type": "code",
   "execution_count": 11,
   "metadata": {},
   "outputs": [
    {
     "name": "stderr",
     "output_type": "stream",
     "text": [
      "C:\\Users\\User\\AppData\\Local\\Continuum\\anaconda3\\lib\\site-packages\\sklearn\\utils\\validation.py:595: DataConversionWarning: Data with input dtype int64 was converted to float64 by StandardScaler.\n",
      "  warnings.warn(msg, DataConversionWarning)\n",
      "C:\\Users\\User\\AppData\\Local\\Continuum\\anaconda3\\lib\\site-packages\\sklearn\\utils\\validation.py:595: DataConversionWarning: Data with input dtype int64 was converted to float64 by StandardScaler.\n",
      "  warnings.warn(msg, DataConversionWarning)\n"
     ]
    },
    {
     "data": {
      "text/plain": [
       "array([[2372, 1892],\n",
       "       [1472, 1991],\n",
       "       [ 960, 1965],\n",
       "       ...,\n",
       "       [1902, 1978],\n",
       "       [1557, 2003],\n",
       "       [1839, 1998]], dtype=int64)"
      ]
     },
     "execution_count": 11,
     "metadata": {},
     "output_type": "execute_result"
    }
   ],
   "source": [
    "# 機械学習モデルに学習データで学習させる\n",
    "pipeline.fit(X_train, y_train)\n",
    "\n",
    "X_train"
   ]
  },
  {
   "cell_type": "code",
   "execution_count": 12,
   "metadata": {},
   "outputs": [
    {
     "name": "stderr",
     "output_type": "stream",
     "text": [
      "C:\\Users\\User\\AppData\\Local\\Continuum\\anaconda3\\lib\\site-packages\\sklearn\\utils\\validation.py:595: DataConversionWarning: Data with input dtype int64 was converted to float64 by StandardScaler.\n",
      "  warnings.warn(msg, DataConversionWarning)\n"
     ]
    },
    {
     "data": {
      "text/plain": [
       "array([[264130.40861155],\n",
       "       [155093.63716252],\n",
       "       [127493.47870881],\n",
       "       [236349.8094044 ],\n",
       "       [138415.02247492]])"
      ]
     },
     "execution_count": 12,
     "metadata": {},
     "output_type": "execute_result"
    }
   ],
   "source": [
    "#テストデータでの予測結果を表示\n",
    "predict = pipeline.predict(X_test)\n",
    "predict[:5]"
   ]
  },
  {
   "cell_type": "markdown",
   "metadata": {},
   "source": [
    "## 評価"
   ]
  },
  {
   "cell_type": "code",
   "execution_count": 13,
   "metadata": {},
   "outputs": [
    {
     "name": "stdout",
     "output_type": "stream",
     "text": [
      "Mean_squared_error：2725908099\n"
     ]
    }
   ],
   "source": [
    "# mean_squared_error メソッドをインポート\n",
    "from sklearn.metrics import mean_squared_error\n",
    "\n",
    "# 平均二乗誤差を計算\n",
    "mse = mean_squared_error(y_test, predict)\n",
    "\n",
    "print('Mean_squared_error：{:.0f}'.format(mse))"
   ]
  },
  {
   "cell_type": "markdown",
   "metadata": {},
   "source": [
    "## 可視化"
   ]
  },
  {
   "cell_type": "code",
   "execution_count": 14,
   "metadata": {},
   "outputs": [
    {
     "data": {
      "image/png": "[encoded data removed]",
      "text/plain": [
       "<Figure size 432x288 with 2 Axes>"
      ]
     },
     "metadata": {
      "needs_background": "light"
     },
     "output_type": "display_data"
    }
   ],
   "source": [
    "# subplotメソッドでグラフを１行２列の形で表示させる(１個目)\n",
    "plt.subplot(121)\n",
    "# 散布図の表示1(横軸→GrLivArea　縦軸→予測した不動産価格)\n",
    "plt.scatter(X_test[:,0], predict,s=10)\n",
    "# xlabelの設定\n",
    "plt.xlabel('GrLivArea')\n",
    "# ylabelの設定\n",
    "plt.ylabel('Predict_SalePrice')\n",
    "\n",
    "# subplotメソッドでグラフを１行２列の形で表示させる(１個目)\n",
    "plt.subplot(122)\n",
    "# 散布図の表示1(横軸→YearBuilt　縦軸→予測した不動産価格)\n",
    "plt.scatter(X_test[:,1], predict, s=10, c='red')\n",
    "# xlabelの設定\n",
    "plt.xlabel('YearBuilt')\n",
    "\n",
    "# グラフ間の横幅を0.6に変更(デフォルト値ではグラフ同士が重なるため)\n",
    "plt.subplots_adjust(wspace=0.6)"
   ]
  },
  {
   "cell_type": "markdown",
   "metadata": {},
   "source": [
    "# 【課題3】手法の比較\n",
    "以下の全ての手法について学習・推定・評価・可視化を行ってください。そして、指標値を１つの表にまとめてください。その表と可視化した図を利用して結果を簡単に考察してください。どの手法がどの指標値が良かったかや、どういった図になっていたかを述べてください。\n",
    "\n",
    "- 線形回帰\n",
    "- SVM\n",
    "- 決定木\n",
    "- ランダムフォレスト\n",
    "公式ドキュメントへのリンクは以下です。本来はそれぞれパラメータをチューニングするべきですが、まずはデフォルトで実行しましょう。\n",
    "\n",
    "[sklearn.linear_model.LinearRegression — scikit-learn 0.20.2 documentation](https://scikit-learn.org/stable/modules/generated/sklearn.linear_model.LinearRegression.html)\n",
    "\n",
    "[sklearn.svm.SVR — scikit-learn 0.20.2 documentation](https://scikit-learn.org/stable/modules/generated/sklearn.svm.SVR.html)\n",
    "\n",
    "[sklearn.tree.DecisionTreeRegressor — scikit-learn 0.20.2 documentation](https://scikit-learn.org/stable/modules/generated/sklearn.tree.DecisionTreeRegressor.html)\n",
    "\n",
    "[sklearn.ensemble.RandomForestRegressor — scikit-learn 0.20.2 documentation](https://scikit-learn.org/stable/modules/generated/sklearn.ensemble.RandomForestRegressor.html)\n",
    "SVM、決定木、ランダムフォレストは分類問題でも使用した手法ですが、回帰問題用のライブラリはそれぞれ専用のものに分かれています。"
   ]
  },
  {
   "cell_type": "code",
   "execution_count": 15,
   "metadata": {},
   "outputs": [
    {
     "data": {
      "text/plain": [
       "numpy.ndarray"
      ]
     },
     "execution_count": 15,
     "metadata": {},
     "output_type": "execute_result"
    }
   ],
   "source": [
    "type(X_train)"
   ]
  },
  {
   "cell_type": "code",
   "execution_count": 16,
   "metadata": {},
   "outputs": [
    {
     "data": {
      "text/plain": [
       "array([[2372, 1892],\n",
       "       [1472, 1991],\n",
       "       [ 960, 1965],\n",
       "       ...,\n",
       "       [1902, 1978],\n",
       "       [1557, 2003],\n",
       "       [1839, 1998]], dtype=int64)"
      ]
     },
     "execution_count": 16,
     "metadata": {},
     "output_type": "execute_result"
    }
   ],
   "source": [
    "X_train"
   ]
  },
  {
   "cell_type": "code",
   "execution_count": 17,
   "metadata": {},
   "outputs": [],
   "source": [
    "X_train = X_train.astype(float)"
   ]
  },
  {
   "cell_type": "code",
   "execution_count": 18,
   "metadata": {},
   "outputs": [
    {
     "data": {
      "text/plain": [
       "array([[2372., 1892.],\n",
       "       [1472., 1991.],\n",
       "       [ 960., 1965.],\n",
       "       ...,\n",
       "       [1902., 1978.],\n",
       "       [1557., 2003.],\n",
       "       [1839., 1998.]])"
      ]
     },
     "execution_count": 18,
     "metadata": {},
     "output_type": "execute_result"
    }
   ],
   "source": [
    "X_train"
   ]
  },
  {
   "cell_type": "markdown",
   "metadata": {},
   "source": [
    "# パイプラインを構築"
   ]
  },
  {
   "cell_type": "code",
   "execution_count": 19,
   "metadata": {},
   "outputs": [],
   "source": [
    "# SVRクラス　DecisionTreeRegressorクラス　RandomForestRegressorクラスをインポート\n",
    "from sklearn.svm import SVR\n",
    "from sklearn.tree import DecisionTreeRegressor\n",
    "from sklearn.ensemble import RandomForestRegressor\n",
    "\n",
    "pipelines ={\n",
    "    'lin': Pipeline([('scl',StandardScaler()),\n",
    "                     ('est',LinearRegression())]),\n",
    "    'svm': Pipeline([('scl',StandardScaler()),\n",
    "                     ('est',SVR())]),\n",
    "    'dec': Pipeline([('scl',StandardScaler()),\n",
    "                     ('est',DecisionTreeRegressor())]),\n",
    "    'ran': Pipeline([('scl',StandardScaler()),\n",
    "                     ('est',RandomForestRegressor())])\n",
    "}"
   ]
  },
  {
   "cell_type": "markdown",
   "metadata": {},
   "source": [
    "## 学習・予測"
   ]
  },
  {
   "cell_type": "code",
   "execution_count": 20,
   "metadata": {},
   "outputs": [
    {
     "name": "stderr",
     "output_type": "stream",
     "text": [
      "C:\\Users\\User\\AppData\\Local\\Continuum\\anaconda3\\lib\\site-packages\\sklearn\\utils\\validation.py:595: DataConversionWarning: Data with input dtype int64 was converted to float64 by StandardScaler.\n",
      "  warnings.warn(msg, DataConversionWarning)\n",
      "C:\\Users\\User\\AppData\\Local\\Continuum\\anaconda3\\lib\\site-packages\\sklearn\\utils\\validation.py:761: DataConversionWarning: A column-vector y was passed when a 1d array was expected. Please change the shape of y to (n_samples, ), for example using ravel().\n",
      "  y = column_or_1d(y, warn=True)\n",
      "C:\\Users\\User\\AppData\\Local\\Continuum\\anaconda3\\lib\\site-packages\\sklearn\\utils\\validation.py:595: DataConversionWarning: Data with input dtype int64 was converted to float64 by StandardScaler.\n",
      "  warnings.warn(msg, DataConversionWarning)\n",
      "C:\\Users\\User\\AppData\\Local\\Continuum\\anaconda3\\lib\\site-packages\\sklearn\\utils\\validation.py:595: DataConversionWarning: Data with input dtype int64 was converted to float64 by StandardScaler.\n",
      "  warnings.warn(msg, DataConversionWarning)\n",
      "C:\\Users\\User\\AppData\\Local\\Continuum\\anaconda3\\lib\\site-packages\\sklearn\\ensemble\\forest.py:246: FutureWarning: The default value of n_estimators will change from 10 in version 0.20 to 100 in 0.22.\n",
      "  \"10 in version 0.20 to 100 in 0.22.\", FutureWarning)\n",
      "C:\\Users\\User\\AppData\\Local\\Continuum\\anaconda3\\lib\\site-packages\\sklearn\\pipeline.py:267: DataConversionWarning: A column-vector y was passed when a 1d array was expected. Please change the shape of y to (n_samples,), for example using ravel().\n",
      "  self._final_estimator.fit(Xt, y, **fit_params)\n",
      "C:\\Users\\User\\AppData\\Local\\Continuum\\anaconda3\\lib\\site-packages\\sklearn\\utils\\validation.py:595: DataConversionWarning: Data with input dtype int64 was converted to float64 by StandardScaler.\n",
      "  warnings.warn(msg, DataConversionWarning)\n"
     ]
    },
    {
     "data": {
      "text/plain": [
       "{('lin', 'mean_squared_error'): 2725908099,\n",
       " ('svm', 'mean_squared_error'): 6943346839,\n",
       " ('dec', 'mean_squared_error'): 2856934684,\n",
       " ('ran', 'mean_squared_error'): 1953105592}"
      ]
     },
     "execution_count": 20,
     "metadata": {},
     "output_type": "execute_result"
    }
   ],
   "source": [
    "# 評価値を格納する辞書型データscore\n",
    "scores = {}\n",
    "\n",
    "# 予測値を格納する辞書型データpredict\n",
    "predict = {}\n",
    "\n",
    "# pipelineの中のデータを順番に、pipe_name, pipeline に格納する\n",
    "for pipe_name, pipeline in pipelines.items():\n",
    "    \n",
    "    # 学習\n",
    "    pipeline.fit(X_train,y_train)\n",
    "    \n",
    "    #予測\n",
    "    predict[pipe_name] = pipeline.predict(X_test)\n",
    "    \n",
    "    # 予測・評価し、評価結果をscoreに格納(比較しやすいようにint型に変換する)\n",
    "    scores[(pipe_name,'mean_squared_error')] = int(mean_squared_error(y_test, predict[pipe_name]))\n",
    "\n",
    "scores"
   ]
  },
  {
   "cell_type": "code",
   "execution_count": 21,
   "metadata": {},
   "outputs": [
    {
     "data": {
      "text/html": [
       "<div>\n",
       "<style scoped>\n",
       "    .dataframe tbody tr th:only-of-type {\n",
       "        vertical-align: middle;\n",
       "    }\n",
       "\n",
       "    .dataframe tbody tr th {\n",
       "        vertical-align: top;\n",
       "    }\n",
       "\n",
       "    .dataframe thead th {\n",
       "        text-align: right;\n",
       "    }\n",
       "</style>\n",
       "<table border=\"1\" class=\"dataframe\">\n",
       "  <thead>\n",
       "    <tr style=\"text-align: right;\">\n",
       "      <th></th>\n",
       "      <th>mean_squared_error</th>\n",
       "    </tr>\n",
       "  </thead>\n",
       "  <tbody>\n",
       "    <tr>\n",
       "      <th>dec</th>\n",
       "      <td>2856934684</td>\n",
       "    </tr>\n",
       "    <tr>\n",
       "      <th>lin</th>\n",
       "      <td>2725908099</td>\n",
       "    </tr>\n",
       "    <tr>\n",
       "      <th>ran</th>\n",
       "      <td>1953105592</td>\n",
       "    </tr>\n",
       "    <tr>\n",
       "      <th>svm</th>\n",
       "      <td>6943346839</td>\n",
       "    </tr>\n",
       "  </tbody>\n",
       "</table>\n",
       "</div>"
      ],
      "text/plain": [
       "     mean_squared_error\n",
       "dec          2856934684\n",
       "lin          2725908099\n",
       "ran          1953105592\n",
       "svm          6943346839"
      ]
     },
     "execution_count": 21,
     "metadata": {},
     "output_type": "execute_result"
    }
   ],
   "source": [
    "# 辞書unstackメソッドで表形式にしてDataFrame型にして格納\n",
    "df = pd.Series(scores).unstack()\n",
    "df"
   ]
  },
  {
   "cell_type": "code",
   "execution_count": 22,
   "metadata": {},
   "outputs": [
    {
     "data": {
      "text/plain": [
       "mean_squared_error  dec    2856934684\n",
       "                    lin    2725908099\n",
       "                    ran    1953105592\n",
       "                    svm    6943346839\n",
       "dtype: int64"
      ]
     },
     "execution_count": 22,
     "metadata": {},
     "output_type": "execute_result"
    }
   ],
   "source": [
    "df = df.unstack()\n",
    "df"
   ]
  },
  {
   "cell_type": "markdown",
   "metadata": {},
   "source": [
    "## 可視化(予測したSalePriceとGrLivAreaのグラフ)"
   ]
  },
  {
   "cell_type": "code",
   "execution_count": 23,
   "metadata": {},
   "outputs": [
    {
     "data": {
      "text/plain": [
       "Text(0.5, 0.98, 'Predict_SalePrice')"
      ]
     },
     "execution_count": 23,
     "metadata": {},
     "output_type": "execute_result"
    },
    {
     "data": {
      "image/png": "[encoded data removed]",
      "text/plain": [
       "<Figure size 720x480 with 4 Axes>"
      ]
     },
     "metadata": {
      "needs_background": "light"
     },
     "output_type": "display_data"
    }
   ],
   "source": [
    "# figureオブジェクトを作成\n",
    "fig = plt.figure(1,dpi=120)\n",
    "\n",
    "# subplotメソッドでグラフを１行4列の形で表示させる(１個目)\n",
    "ax1 = fig.add_subplot(221)\n",
    "# 散布図の表示1(横軸→GrLivArea　縦軸→線形回帰モデルで予測した不動産価格)\n",
    "ax1.scatter(X_test[:,0], predict['lin'],s=10)\n",
    "# titleの設定\n",
    "ax1.set_title('LinearRegression')\n",
    "# ylabelの設定\n",
    "ax1.set_ylabel('Predict_SalePrice')\n",
    "\n",
    "# subplotメソッドでグラフを1行4列の形で表示させる(2個目)\n",
    "ax2 = fig.add_subplot(222)\n",
    "# 散布図の表示1(横軸→GrLivArea　縦軸→線形回帰モデルで予測した不動産価格)\n",
    "ax2.scatter(X_test[:,0], predict['svm'],s=10)\n",
    "# titleの設定\n",
    "ax2.set_title('SVR')\n",
    "\n",
    "# subplotメソッドでグラフを1行4列の形で表示させる(3個目)\n",
    "ax3 = fig.add_subplot(223)\n",
    "# 散布図の表示1(横軸→GrLivArea　縦軸→線形回帰モデルで予測した不動産価格)\n",
    "ax3.scatter(X_test[:,0], predict['dec'],s=10)\n",
    "# titleの設定\n",
    "ax3.set_title('DecisionTreeRegressor')\n",
    "# xlabelの設定\n",
    "ax3.set_xlabel('GrLivArea')\n",
    "# ylabelの設定\n",
    "ax3.set_ylabel('Predict_SalePrice')\n",
    "\n",
    "# subplotメソッドでグラフを1行4列の形で表示させる(4個目)\n",
    "ax4 = fig.add_subplot(224)\n",
    "# 散布図の表示1(横軸→GrLivArea　縦軸→線形回帰モデルで予測した不動産価格)\n",
    "ax4.scatter(X_test[:,0], predict['ran'],s=10)\n",
    "# titleの設定\n",
    "ax4.set_title('RandomForestRegressor')\n",
    "# xlabelの設定\n",
    "ax4.set_xlabel('GrLivArea')\n",
    "\n",
    "# グラフ間の横幅を0.6に変更(デフォルト値ではグラフ同士が重なるため)\n",
    "fig.subplots_adjust(wspace=0.6, hspace=0.5)\n",
    "\n",
    "# グラフのタイトルを表示\n",
    "plt.suptitle('Predict_SalePrice')"
   ]
  },
  {
   "cell_type": "markdown",
   "metadata": {},
   "source": [
    "## 可視化(予測したSalePriceとYearBuiltのグラフ)"
   ]
  },
  {
   "cell_type": "code",
   "execution_count": 24,
   "metadata": {},
   "outputs": [
    {
     "data": {
      "text/plain": [
       "Text(0.5, 0.98, 'Predict_SalePrice')"
      ]
     },
     "execution_count": 24,
     "metadata": {},
     "output_type": "execute_result"
    },
    {
     "data": {
      "image/png": "[encoded data removed]",
      "text/plain": [
       "<Figure size 720x480 with 4 Axes>"
      ]
     },
     "metadata": {
      "needs_background": "light"
     },
     "output_type": "display_data"
    }
   ],
   "source": [
    "# figureオブジェクトを作成\n",
    "fig = plt.figure(1,dpi=120)\n",
    "\n",
    "# subplotメソッドでグラフを１行4列の形で表示させる(１個目)\n",
    "ax1 = fig.add_subplot(221)\n",
    "# 散布図の表示1(横軸→YearBuilt　縦軸→線形回帰モデルで予測した不動産価格)\n",
    "ax1.scatter(X_test[:,1], predict['lin'],s=10)\n",
    "# titleの設定\n",
    "ax1.set_title('LinearRegression')\n",
    "# ylabelの設定\n",
    "ax1.set_ylabel('Predict_SalePrice')\n",
    "\n",
    "# subplotメソッドでグラフを1行4列の形で表示させる(2個目)\n",
    "ax2 = fig.add_subplot(222)\n",
    "# 散布図の表示1(横軸→YearBuilt　縦軸→線形回帰モデルで予測した不動産価格)\n",
    "ax2.scatter(X_test[:,1], predict['svm'],s=10)\n",
    "# titleの設定\n",
    "ax2.set_title('SVR')\n",
    "\n",
    "# subplotメソッドでグラフを1行4列の形で表示させる(3個目)\n",
    "ax3 = fig.add_subplot(223)\n",
    "# 散布図の表示1(横軸→YearBuilt　縦軸→線形回帰モデルで予測した不動産価格)\n",
    "ax3.scatter(X_test[:,1], predict['dec'],s=10)\n",
    "# titleの設定\n",
    "ax3.set_title('DecisionTreeRegressor')\n",
    "# xlabelの設定\n",
    "ax3.set_xlabel('YearBuilt')\n",
    "# ylabelの設定\n",
    "ax3.set_ylabel('Predict_SalePrice')\n",
    "\n",
    "# subplotメソッドでグラフを1行4列の形で表示させる(4個目)\n",
    "ax4 = fig.add_subplot(224)\n",
    "# 散布図の表示1(横軸→YearBuilt　縦軸→線形回帰モデルで予測した不動産価格)\n",
    "ax4.scatter(X_test[:,1], predict['ran'],s=10)\n",
    "# titleの設定\n",
    "ax4.set_title('RandomForestRegressor')\n",
    "# xlabelの設定\n",
    "ax4.set_xlabel('YearBuilt')\n",
    "\n",
    "# グラフ間の横幅を0.6に変更(デフォルト値ではグラフ同士が重なるため)\n",
    "fig.subplots_adjust(wspace=0.6, hspace=0.5)\n",
    "\n",
    "# グラフのタイトルを表示\n",
    "plt.suptitle('Predict_SalePrice')"
   ]
  },
  {
   "cell_type": "markdown",
   "metadata": {},
   "source": [
    "## 考察\n",
    "1. どのモデルが正確に分類できていたか？\n",
    "    - 評価結果より決定木モデルが評価指標mean_squared_errorにおいて最もよい精度(低い値)で分類できていることを確認\n",
    "    \n",
    "    \n",
    "2. 散布図にて確認できたことは？\n",
    "    - 予測値とGrLivAreaのグラフについて\n",
    "        - 線形回帰モデル、決定木モデル、ランダムフォレストモデルの3つは、散布図の形より正の相関があるように見える。\n",
    "    - 予測値とYearBuiltのグラフについて\n",
    "        - 線形回帰モデル、決定木モデル、ランダムフォレストモデルの3つは、散布図の形が近似しているが、SVMモデルはことなる形をしている。"
   ]
  }
 ],
 "metadata": {
  "kernelspec": {
   "display_name": "Python 3",
   "language": "python",
   "name": "python3"
  },
  "language_info": {
   "codemirror_mode": {
    "name": "ipython",
    "version": 3
   },
   "file_extension": ".py",
   "mimetype": "text/x-python",
   "name": "python",
   "nbconvert_exporter": "python",
   "pygments_lexer": "ipython3",
   "version": "3.7.3"
  }
 },
 "nbformat": 4,
 "nbformat_minor": 2
}
