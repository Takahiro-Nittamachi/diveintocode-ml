{
 "cells": [
  {
   "cell_type": "markdown",
   "metadata": {},
   "source": [
    "# 1.この課題の目的\n",
    "スクラッチを通してSVMを理解する\n",
    "線形モデルと異なる手法に触れる\n",
    "以下の要件をすべて満たしていた場合、合格とします。\n",
    "\n",
    "※Jupyter Notebookを使い課題に沿った検証や説明ができている。\n",
    "\n",
    "# 2.スクラッチによる実装\n",
    "NumPyなど最低限のライブラリのみを使いアルゴリズムを実装していきます。\n",
    "\n",
    "SVMは分類と回帰双方に使用できますが、分類のみを扱います。SVMで重要な要素としてカーネルがありますが、まずは線形カーネルを作成します。他のカーネルの作成はアドバンス課題とします。また、SVMにはハードマージン、ソフトマージンという考え方がありますが、より単純なハードマージンを扱います。"
   ]
  },
  {
   "cell_type": "markdown",
   "metadata": {},
   "source": [
    "# 【問題1】SVM分類器のクラスを作成する\n",
    "SVM分類器のクラスを作成し、Sprint0で作成した分類のパイプラインに組み込んでください。\n",
    "\n",
    "クラスの基本構造はSprint3の線形回帰を参考にし、名前はScratchSVMClassifierとしてください。\n",
    "\n",
    "メソッドやパラメータなどはscikit-learnを参考にしてください。\n",
    "\n",
    "sklearn.svm.SVC — scikit-learn 0.20.2 documentation\n",
    "\n",
    "検証段階ではJupyter Notebook上で書いていき、最終的にはpyファイルにモジュールとしてまとめてください。\n",
    "\n",
    "scikit-learnにおけるパラメータについて\n",
    "\n",
    "scikit-learnの実装はソフトマージンSVMになっています。ハードマージンSVMを再現するには、パラメータCをC=1e10のように非常に大きな値を設定します。（無限大に向けてCを大きくするほどハードマージンSVMに近づきます）\n",
    "\n",
    "また、線形カーネルをscikit-learnで使う場合はkernel=\"linear\"と指定します。デフォルトではkernel=\"rbf\"になっており、多項式カーネルと呼ばれるものになっています。\n",
    "\n",
    "## ラグランジュの未定乗数法による最急降下\n",
    "SVMの最適化問題は、ラグランジュの未定乗数法により解くことができます。サンプル数分のラグランジュ乗数 \n",
    "λ\n",
    " を用意して、以下の式により更新していきます。\n",
    " \n",
    " $$\\lambda_i^{new} = \\lambda_i + \\alpha(1 - \\sum_{j=1}^{n}{\\lambda_j y_i y_j k(x_i, x_j)})$$\n",
    " \n",
    "ここで$k(x_i, x_j)$はカーネル関数です。線形カーネルの場合は次のようになります。他のカーネル関数にも対応できるように、この部分はメソッド化しておきましょう。\n",
    "$$k(x_i, x_j) = x_{i}^{T} x_j$$\n",
    "\n",
    "\n",
    "条件として、更新毎に$\\lambda_i >= 0$を満たす必要があります。満たさない場合は $\\lambda_i = 0$"
   ]
  },
  {
   "cell_type": "markdown",
   "metadata": {},
   "source": [
    "## クラスのインポート"
   ]
  },
  {
   "cell_type": "code",
   "execution_count": 1,
   "metadata": {},
   "outputs": [],
   "source": [
    "# クラス作成時に使用するクラス\n",
    "import numpy as np\n",
    "import pandas as pd\n",
    "\n",
    "# 前処理に使用するクラス\n",
    "from sklearn import preprocessing\n",
    "from sklearn.model_selection import train_test_split\n",
    "\n",
    "# 評価指標のクラス\n",
    "from sklearn.metrics import accuracy_score\n",
    "from sklearn.metrics import classification_report\n",
    "\n",
    "# 決定領域を描画する際にしようするクラス\n",
    "import matplotlib.pyplot as plt\n",
    "from matplotlib.colors import ListedColormap\n",
    "\n",
    "# 実行時間の計測に使用するクラス\n",
    "import time"
   ]
  },
  {
   "cell_type": "markdown",
   "metadata": {},
   "source": [
    "## データ準備"
   ]
  },
  {
   "cell_type": "code",
   "execution_count": 2,
   "metadata": {},
   "outputs": [],
   "source": [
    "import numpy as np\n",
    "\n",
    "np.random.seed(seed=0)\n",
    "n_samples = 500\n",
    "f0 = [-1, 2]\n",
    "f1 = [2, -1]\n",
    "cov = [[1.0,0.8], [0.8, 1.0]]\n",
    "\n",
    "f0 = np.random.multivariate_normal(f0, cov, int(n_samples/2))\n",
    "f1 = np.random.multivariate_normal(f1, cov, int(n_samples/2))\n",
    "\n",
    "X = np.concatenate((f0, f1))\n",
    "y = np.concatenate((np.ones((int(n_samples/2))), np.ones((int(n_samples/2))) *(-1))).astype(np.int)\n",
    "\n",
    "random_index = np.random.permutation(np.arange(n_samples))\n",
    "X = X[random_index]\n",
    "y = y[random_index]"
   ]
  },
  {
   "cell_type": "code",
   "execution_count": 3,
   "metadata": {},
   "outputs": [],
   "source": [
    "## データを分割"
   ]
  },
  {
   "cell_type": "code",
   "execution_count": 4,
   "metadata": {},
   "outputs": [],
   "source": [
    "X_train, X_test, y_train, y_test = train_test_split(X, y, test_size=0.2)"
   ]
  },
  {
   "cell_type": "markdown",
   "metadata": {},
   "source": [
    "## ScratchSVMClassifierクラス"
   ]
  },
  {
   "cell_type": "code",
   "execution_count": 5,
   "metadata": {},
   "outputs": [],
   "source": [
    "class ScratchSVMClassifier():\n",
    "    \"\"\"\n",
    "    SVMのスクラッチ実装\n",
    "\n",
    "    Parameters\n",
    "    ----------\n",
    "    num_iter : int\n",
    "      イテレーション数\n",
    "    lr : float\n",
    "      学習率\n",
    "    lag_th : int\n",
    "        ラグランジュ乗数の更新を停止する個数(サポートベクトルがこの個数以下となれば、ラグランジュ乗数の更新を停止する)\n",
    "\n",
    "    Attributes\n",
    "    ----------\n",
    "    self.lagrang_ : 次の形のndarray, shape (n_features,)\n",
    "      ラグランジュ乗数\n",
    "    \"\"\"\n",
    "\n",
    "    def __init__(self, num_iter, lr):\n",
    "        self.iter = num_iter # \n",
    "        self.lr = lr\n",
    "        self.lagrang = None\n",
    "        self.X = None\n",
    "        self.y = None\n",
    "\n",
    "        \n",
    "    def fit(self, X, y):\n",
    "        \"\"\"\n",
    "        入力データを読み込み、サポートベクトルを決定する\n",
    "        Parameters\n",
    "        ----------\n",
    "        X : ndarray\n",
    "            学習データ\n",
    "        y : ndarray\n",
    "            学習データ\n",
    "            \n",
    "        Returns\n",
    "        -------\n",
    "        \"\"\"\n",
    "        \n",
    "        \"\"\"\n",
    "        インスタンス変数の初期化 (複数回fitメソッドを実行した際に、過去のインスタンス変数のデータが残らない様にする)\n",
    "        \"\"\"\n",
    "        self.lagrang = None # ラグランジュ乗数の初期化(fitメソッドを実行する為に)\n",
    "        \n",
    "        \"\"\"\n",
    "        学習データに対しての処理\n",
    "        \"\"\"\n",
    "        # 入力データをnumpy配列に変換\n",
    "        X = np.array(X)\n",
    "        y = np.array(y)\n",
    "        \n",
    "        # 入力データが１次元か判別\n",
    "        # １次元の場合→1次元追加し２次元のnumpy配列とする\n",
    "        if X.ndim == 1:\n",
    "            X = X[:, np.newaxis]\n",
    "        \n",
    "        if y.ndim==1:\n",
    "            y = y[:, np.newaxis]\n",
    "            \n",
    "        self.X = X\n",
    "        self.y = y\n",
    "            \n",
    "        \"\"\"    \n",
    "        ラグランジュ乗数の更新\n",
    "        \"\"\"\n",
    "        self._gradient_descent(X, y)\n",
    "        \n",
    "    \n",
    "    def predict(self, X):\n",
    "\n",
    "        \"\"\"\n",
    "        入力値のデータを求めた分類境界線に代入しラベルを予測する\n",
    "        Parameters\n",
    "        ----------\n",
    "        X : 次の形のndarray, shape (n_samples, n_features)\n",
    "            学習データ\n",
    "            \n",
    "        Returns\n",
    "        -------\n",
    "        prediction_result: int\n",
    "            予測結果　\n",
    "        \"\"\"\n",
    "        # サポートベクタのインデックスを取得\n",
    "        index = np.where(self.lagrang > 0)[0]\n",
    "        \n",
    "        # 予測\n",
    "        predict = np.sum(self.lagrang[index] * self.y[index] * self._linear_kernel(X, self.X[index]).T, axis=0)\n",
    "\n",
    "        #　値が0より大きい値かで分類する\n",
    "        predict = np.where(predict > 0, 1, -1)\n",
    "        \n",
    "        return predict\n",
    "\n",
    "\n",
    "    def _linear_kernel(self, X_i, X_j):\n",
    "        \"\"\"\n",
    "        線型カーネル関数を計算する\n",
    "        Parameters\n",
    "        ----------\n",
    "        X_i : ndarray\n",
    "            特徴量データ\n",
    "        X_j : ndarray\n",
    "            特徴量データ\n",
    "\n",
    "        Returns\n",
    "        -------\n",
    "        次の形のndarray, shape (n_samples, 1)\n",
    "            カーネル関数の計算結果を格納したnumpy配列\n",
    "        \"\"\"\n",
    "        \n",
    "        return X_i @ X_j.T\n",
    "    \n",
    "    \n",
    "    def _gradient_descent(self, X, y):\n",
    "        \"\"\"\n",
    "        ラグランジュ乗数を最適化する\n",
    "        Parameters\n",
    "        ----------\n",
    "        X : 次の形のndarray, shape (n_samples, n_features)\n",
    "            学習データ\n",
    "        y : 次の形のndarray, shape (n_samples, 1)\n",
    "            \n",
    "            \n",
    "        Returns\n",
    "        -------\n",
    "        \"\"\"\n",
    "        \n",
    "        # ラグランジュ乗数を格納するインスタンス変数self.lagrangeのshapeを(n_sample, 1)に変更\n",
    "        self.lagrang=np.random.rand(len(X)).reshape(-1,1) \n",
    "        \n",
    "        # sum.iter回、繰り返す\n",
    "        for it in range(self.iter):\n",
    "            # 総和計算の値を格納するリストを初期作成\n",
    "            sum_list = []\n",
    "            \n",
    "            # 入力データのサンプル数繰り返す\n",
    "            for i in range(len(X)):\n",
    "                # ラグランジュ乗数の変化量を計算しリストに格納\n",
    "                sum_list.append(np.sum(self.lagrang * y[i] * y * (self._linear_kernel(X, X[i].reshape(1,-1)))))\n",
    "\n",
    "            # 計算結果をnumpy配列に変換\n",
    "            sum_np = np.array(sum_list).reshape(-1,1)\n",
    "\n",
    "            # ラグランジュ乗数を更新\n",
    "            self.lagrang = self.lagrang + self.lr * (1 - sum_np)\n",
    "\n",
    "        \n",
    "        # ラグランジュ乗数の値が指定の値より小さいならばゼロとする\n",
    "        self.lagrang = np.where(self.lagrang > 1e-5, self.lagrang, 0)"
   ]
  },
  {
   "cell_type": "markdown",
   "metadata": {},
   "source": [
    "# 動作検証"
   ]
  },
  {
   "cell_type": "code",
   "execution_count": 6,
   "metadata": {},
   "outputs": [],
   "source": [
    "cls1 = ScratchSVMClassifier(num_iter=3000, lr=0.0001)"
   ]
  },
  {
   "cell_type": "code",
   "execution_count": 7,
   "metadata": {},
   "outputs": [],
   "source": [
    "t0 = time.time()\n",
    "cls1.fit(X_train, y_train)\n",
    "y_pred1 = cls1.predict(X_test)\n",
    "t1 = time.time()"
   ]
  },
  {
   "cell_type": "markdown",
   "metadata": {},
   "source": [
    "# 【問題3】指標値の算出\n",
    "分類に関する指標値で精度を確認してください。"
   ]
  },
  {
   "cell_type": "code",
   "execution_count": 8,
   "metadata": {},
   "outputs": [
    {
     "name": "stdout",
     "output_type": "stream",
     "text": [
      "accuracy_score = 1.0\n",
      "\n"
     ]
    }
   ],
   "source": [
    "print('accuracy_score = {}\\n'.format(accuracy_score(y_test, y_pred1)))"
   ]
  },
  {
   "cell_type": "code",
   "execution_count": 9,
   "metadata": {},
   "outputs": [],
   "source": [
    "target_names = ['class 1', 'class -1']"
   ]
  },
  {
   "cell_type": "code",
   "execution_count": 10,
   "metadata": {},
   "outputs": [
    {
     "name": "stdout",
     "output_type": "stream",
     "text": [
      "              precision    recall  f1-score   support\n",
      "\n",
      "     class 1       1.00      1.00      1.00        53\n",
      "    class -1       1.00      1.00      1.00        47\n",
      "\n",
      "   micro avg       1.00      1.00      1.00       100\n",
      "   macro avg       1.00      1.00      1.00       100\n",
      "weighted avg       1.00      1.00      1.00       100\n",
      "\n"
     ]
    }
   ],
   "source": [
    "print(classification_report(y_test, y_pred1, target_names=target_names))"
   ]
  },
  {
   "cell_type": "markdown",
   "metadata": {},
   "source": [
    "# 【問題4】決定領域の可視化\n",
    "2値分類のデータセットに対して決定領域を可視化してください。\n",
    "\n",
    "これまで使用してきた関数に、サポートベクターを色を変えて表示する機能を加えてください。\n",
    "\n",
    "特にSprint0で作成したシンプルデータセット1に対して以下のように分類ができるかを検証してください"
   ]
  },
  {
   "cell_type": "markdown",
   "metadata": {},
   "source": [
    "## 今回は2クラスの分類の為、2種類のマーカと色を用意"
   ]
  },
  {
   "cell_type": "code",
   "execution_count": 11,
   "metadata": {},
   "outputs": [],
   "source": [
    "markers = ('s', 'x')\n",
    "cmap = ListedColormap(('red', 'blue'))"
   ]
  },
  {
   "cell_type": "markdown",
   "metadata": {},
   "source": [
    "## データの最小値と最大値を確認し、メッシュデータを0.01刻みで作成"
   ]
  },
  {
   "cell_type": "code",
   "execution_count": 12,
   "metadata": {},
   "outputs": [],
   "source": [
    "x1_min, x1_max = X_test[:, 0].min()-1, X_test[:, 0].max()+1\n",
    "x2_min, x2_max = X_test[:, 1].min()-1, X_test[:, 1].max()+1\n",
    "x1_mesh, x2_mesh = np.meshgrid(np.arange(x1_min, x1_max, 0.01),\n",
    "                                   np.arange(x2_min, x2_max, 0.01))"
   ]
  },
  {
   "cell_type": "markdown",
   "metadata": {},
   "source": [
    "## メッシュデータに対して作成したモデルで分類を実施"
   ]
  },
  {
   "cell_type": "code",
   "execution_count": 13,
   "metadata": {},
   "outputs": [],
   "source": [
    "z = cls1.predict(np.array([x1_mesh.ravel(), x2_mesh.ravel()]).T)\n",
    "z = z.reshape(x1_mesh.shape)"
   ]
  },
  {
   "cell_type": "markdown",
   "metadata": {},
   "source": [
    "## 決定領域を表示"
   ]
  },
  {
   "cell_type": "code",
   "execution_count": 14,
   "metadata": {},
   "outputs": [
    {
     "name": "stderr",
     "output_type": "stream",
     "text": [
      "'c' argument looks like a single numeric RGB or RGBA sequence, which should be avoided as value-mapping will have precedence in case its length matches with 'x' & 'y'.  Please use a 2-D array with a single row if you really want to specify the same RGB or RGBA value for all points.\n",
      "'c' argument looks like a single numeric RGB or RGBA sequence, which should be avoided as value-mapping will have precedence in case its length matches with 'x' & 'y'.  Please use a 2-D array with a single row if you really want to specify the same RGB or RGBA value for all points.\n"
     ]
    },
    {
     "data": {
      "image/png": "[encoded data removed]",
      "text/plain": [
       "<Figure size 432x288 with 1 Axes>"
      ]
     },
     "metadata": {
      "needs_background": "light"
     },
     "output_type": "display_data"
    }
   ],
   "source": [
    "plt.contourf(x1_mesh, x2_mesh, z, alpha=0.4, cmap=cmap)\n",
    "plt.xlim(x1_mesh.min(), x1_mesh.max())\n",
    "plt.ylim(x2_mesh.min(), x2_mesh.max())\n",
    "\n",
    "for idx, cl in enumerate(np.unique(y_test)):\n",
    "    plt.scatter(x=X_test[y_test == cl, 0],\n",
    "                y=X_test[y_test == cl, 1],\n",
    "                alpha=0.6,\n",
    "                c=cmap(idx),\n",
    "                edgecolors='black',\n",
    "                marker=markers[idx],\n",
    "                label=cl);"
   ]
  },
  {
   "cell_type": "markdown",
   "metadata": {},
   "source": [
    "# 【問題5】時間の計測\n",
    "SVMの学習には時間がかかるため、効率的な実装が望まれます。事前学習期間に行なったように、時間を計測して改善していきましょう。特に \n",
    "λ\n",
    " の更新部分は繰り返し処理が多いため、効率的なコードを目指してください。\n",
    "\n",
    "雛形"
   ]
  },
  {
   "cell_type": "code",
   "execution_count": 15,
   "metadata": {},
   "outputs": [],
   "source": [
    "# import time\n",
    "# t0 = time.time()\n",
    "# # 何らかの処理\n",
    "# t1 = time.time()\n",
    "# print('time : {}s'.format(t1-t0))"
   ]
  },
  {
   "cell_type": "markdown",
   "metadata": {},
   "source": [
    "### 修正前の学習開始〜予測終了までの実行時間時間"
   ]
  },
  {
   "cell_type": "code",
   "execution_count": 16,
   "metadata": {},
   "outputs": [
    {
     "name": "stdout",
     "output_type": "stream",
     "text": [
      "修正前の学習開始〜予測終了までの実行時間 : 13.767158031463623s\n"
     ]
    }
   ],
   "source": [
    "print('修正前の学習開始〜予測終了までの実行時間 : {}s'.format(t1-t0))"
   ]
  },
  {
   "cell_type": "markdown",
   "metadata": {},
   "source": [
    "## <u>結果→分類性能は変わらずに実行時間が<font color=\"Red\">約14秒短縮</font></u>\n",
    "## 以下より詳細を記載する"
   ]
  },
  {
   "cell_type": "markdown",
   "metadata": {},
   "source": [
    "### 実行時間の短縮方法\n",
    "- ラグランジュ乗数の更新を繰り返し、<u>ラグランジュ乗数の平均値の変化量が閾値以下となればラグランジュ乗数の更新を停止する</u>。\n",
    "- ラグランジュ乗数の更新を停止する閾値については、問題1にて最終的に100以下のサポートベクトルを使用して分類を行なっていた為、今回はその倍の<u>サポートベクトル200個あたりの時のラグランジュ乗数の平均値の差である0.02を使用</u>。"
   ]
  },
  {
   "cell_type": "markdown",
   "metadata": {},
   "source": [
    "### 修正後のScratchSVMClassifier_r2クラス"
   ]
  },
  {
   "cell_type": "code",
   "execution_count": 17,
   "metadata": {},
   "outputs": [],
   "source": [
    "class ScratchSVMClassifier_r2():\n",
    "    \n",
    "    \"\"\"\n",
    "    SVMのスクラッチ実装\n",
    "\n",
    "    Parameters\n",
    "    ----------\n",
    "    num_iter : int\n",
    "      イテレーション数\n",
    "    lr : float\n",
    "      学習率\n",
    "    lag_th : int\n",
    "        ラグランジュ乗数の更新を停止する個数(サポートベクトルがこの個数以下となれば、ラグランジュ乗数の更新を停止する)\n",
    "\n",
    "    Attributes\n",
    "    ----------\n",
    "    self.lagrang_ : 次の形のndarray, shape (n_features,)\n",
    "      ラグランジュ乗数\n",
    "    self.th : float\n",
    "      ラグランジュ乗数の更新を続けるかを判断する閾値\n",
    "    \"\"\"\n",
    "\n",
    "\n",
    "    def __init__(self, num_iter, lr, th):\n",
    "        # ハイパーパラメータを属性として記録\n",
    "        self.iter = num_iter\n",
    "        self.lr = lr\n",
    "        # 損失を記録する配列を用意\n",
    "        self.lagrang = None\n",
    "        self.th = th\n",
    "        self.X = None\n",
    "        self.y = None\n",
    "\n",
    "        \n",
    "    def fit(self, X, y):\n",
    "        \"\"\"\n",
    "        入力データを読み込み、サポートベクトルを決定する\n",
    "        Parameters\n",
    "        ----------\n",
    "        X : ndarray\n",
    "            学習データ\n",
    "        y : ndarray\n",
    "            学習データ\n",
    "            \n",
    "        Returns\n",
    "        -------\n",
    "        \"\"\"\n",
    "        \n",
    "        \"\"\"\n",
    "        インスタンス変数の初期化 (複数回fitメソッドを実行した際に、過去のインスタンス変数のデータが残らない様にする)\n",
    "        \"\"\"\n",
    "        self.lagrang = None # ラグランジュ乗数の初期化(fitメソッドを実行する為に)\n",
    "        \n",
    "        \"\"\"\n",
    "        学習データに対しての処理\n",
    "        \"\"\"\n",
    "        # 入力データをnumpy配列に変換\n",
    "        X = np.array(X)\n",
    "        y = np.array(y)\n",
    "        \n",
    "        # 入力データが１次元か判別\n",
    "        # １次元の場合→1次元追加し２次元のnumpy配列とする\n",
    "        if X.ndim == 1:\n",
    "            X = X[:, np.newaxis]\n",
    "        \n",
    "        if y.ndim==1:\n",
    "            y = y[:, np.newaxis]\n",
    "            \n",
    "        self.X = X\n",
    "        self.y = y\n",
    "\n",
    "        \"\"\"    \n",
    "        ラグランジュ乗数の更新\n",
    "        \"\"\"\n",
    "        self._gradient_descent(X, y)\n",
    "        \n",
    "    \n",
    "    def predict(self, X):\n",
    "\n",
    "        \"\"\"\n",
    "        入力値のデータを求めた分類境界線に代入しラベルを予測する\n",
    "        Parameters\n",
    "        ----------\n",
    "        X : 次の形のndarray, shape (n_samples, n_features)\n",
    "            学習データ\n",
    "            \n",
    "        Returns\n",
    "        -------\n",
    "        prediction_result: int\n",
    "            予測結果　\n",
    "        \"\"\"\n",
    "        # サポートベクタのインデックスを取得\n",
    "        index = np.where(self.lagrang > 0)[0]\n",
    "        \n",
    "        # 予測\n",
    "        predict = np.sum(self.lagrang[index] * self.y[index] * self._linear_kernel(X, self.X[index]).T, axis=0)\n",
    "\n",
    "        # 　値が0より大きい値かで分類する\n",
    "        predict = np.where(predict > 0, 1, -1)\n",
    "        \n",
    "        return predict\n",
    "    \n",
    "\n",
    "    def _linear_kernel(self, X_i, X_j):\n",
    "        \n",
    "        \"\"\"\n",
    "        線型カーネル関数を計算する\n",
    "        Parameters\n",
    "        ----------\n",
    "        X_i : ndarray\n",
    "            特徴量データ\n",
    "        X_j : ndarray\n",
    "            特徴量データ\n",
    "\n",
    "        Returns\n",
    "        -------\n",
    "        次の形のndarray, shape (n_samples, 1)\n",
    "            カーネル関数の計算結果を格納したnumpy配列\n",
    "        \"\"\"\n",
    "        \n",
    "        return X_i @ X_j.T\n",
    "\n",
    "    \n",
    "    def _gradient_descent(self, X, y):\n",
    "        \"\"\"\n",
    "        ラグランジュ乗数を最適化する\n",
    "        Parameters\n",
    "        ----------\n",
    "        X : 次の形のndarray, shape (n_samples, n_features)\n",
    "            学習データ\n",
    "        y : 次の形のndarray, shape (n_samples, 1)\n",
    "            \n",
    "        Returns\n",
    "        -------\n",
    "        \"\"\"\n",
    "        \n",
    "        # ラグランジュ乗数を格納するインスタンス変数self.lagrangeのshapeを(n_sample, 1)に変更\n",
    "        self.lagrang=np.random.rand(len(X)).reshape(-1,1) \n",
    "        \n",
    "        # sum.iter回、繰り返す\n",
    "        for it in range(self.iter):\n",
    "            \n",
    "            # 総和計算の値を格納するリストを初期作成\n",
    "            sum_list = []\n",
    "            \n",
    "            # 入力データのサンプル数繰り返す\n",
    "            for i in range(len(X)):\n",
    "                \n",
    "                # ラグランジュ乗数の変化量を計算しリストに格納\n",
    "                sum_list.append(np.sum(self.lagrang * y[i] * y * (self._linear_kernel(X, X[i].reshape(1,-1)))))\n",
    "\n",
    "            # 計算結果をnumpy配列に変換\n",
    "            sum_np = np.array(sum_list).reshape(-1,1)\n",
    "\n",
    "            # ラグランジュ乗数を更新\n",
    "            new_lagrang = self.lagrang + self.lr * (1 - sum_np)\n",
    "            \n",
    "            print('現状のラグランジュ乗数の平均値 {}'.format(np.mean(self.lagrang)))\n",
    "            print('更新後のラグランジュ乗数の平均値{}'.format(np.mean(self.lagrang)))\n",
    "            print('平均値の差={}'.format((np.mean(self.lagrang) - np.mean(new_lagrang))))\n",
    "            \n",
    "            # 現在のラグランジュ乗数の平均値 − 更新後のラグランジュ乗数の平均値　の結果が閾値以下の場合、更新を停止\n",
    "            if (np.mean(self.lagrang) - np.mean(new_lagrang)) < self.th:\n",
    "                break\n",
    "            \n",
    "            # ラグランジュ乗数を更新\n",
    "            self.lagrang = new_lagrang\n",
    "        \n",
    "            # ラグランジュ乗数の値が指定の値より小さいならばゼロとする\n",
    "            self.lagrang = np.where(self.lagrang > 1e-5, self.lagrang, 0)\n",
    "            \n",
    "            print('ラグランジュ乗数の個数={}'.format(np.count_nonzero(self.lagrang)))\n",
    "            print('-----------------------------------------------------\\n')"
   ]
  },
  {
   "cell_type": "markdown",
   "metadata": {},
   "source": [
    "### 学習"
   ]
  },
  {
   "cell_type": "code",
   "execution_count": 18,
   "metadata": {},
   "outputs": [],
   "source": [
    "cls2 = ScratchSVMClassifier_r2(num_iter=3000, lr=0.0001, th=0.02)"
   ]
  },
  {
   "cell_type": "markdown",
   "metadata": {},
   "source": [
    "### 実行時間の計測"
   ]
  },
  {
   "cell_type": "code",
   "execution_count": 19,
   "metadata": {},
   "outputs": [
    {
     "name": "stdout",
     "output_type": "stream",
     "text": [
      "現状のラグランジュ乗数の平均値 0.508798129948338\n",
      "更新後のラグランジュ乗数の平均値0.508798129948338\n",
      "平均値の差=0.09239274059529728\n",
      "ラグランジュ乗数の個数=369\n",
      "-----------------------------------------------------\n",
      "\n",
      "現状のラグランジュ乗数の平均値 0.42031456748044016\n",
      "更新後のラグランジュ乗数の平均値0.42031456748044016\n",
      "平均値の差=0.07557234652096018\n",
      "ラグランジュ乗数の個数=336\n",
      "-----------------------------------------------------\n",
      "\n",
      "現状のラグランジュ乗数の平均値 0.35406300404047714\n",
      "更新後のラグランジュ乗数の平均値0.35406300404047714\n",
      "平均値の差=0.06305242988794763\n",
      "ラグランジュ乗数の個数=316\n",
      "-----------------------------------------------------\n",
      "\n",
      "現状のラグランジュ乗数の平均値 0.30354729798596997\n",
      "更新後のラグランジュ乗数の平均値0.30354729798596997\n",
      "平均値の差=0.05353659200819327\n",
      "ラグランジュ乗数の個数=295\n",
      "-----------------------------------------------------\n",
      "\n",
      "現状のラグランジュ乗数の平均値 0.2630880963245408\n",
      "更新後のラグランジュ乗数の平均値0.2630880963245408\n",
      "平均値の差=0.04592761066789133\n",
      "ラグランジュ乗数の個数=271\n",
      "-----------------------------------------------------\n",
      "\n",
      "現状のラグランジュ乗数の平均値 0.23143767959812003\n",
      "更新後のラグランジュ乗数の平均値0.23143767959812003\n",
      "平均値の差=0.040010372000494315\n",
      "ラグランジュ乗数の個数=256\n",
      "-----------------------------------------------------\n",
      "\n",
      "現状のラグランジュ乗数の平均値 0.20598990688451843\n",
      "更新後のラグランジュ乗数の平均値0.20598990688451843\n",
      "平均値の差=0.035301906062283867\n",
      "ラグランジュ乗数の個数=243\n",
      "-----------------------------------------------------\n",
      "\n",
      "現状のラグランジュ乗数の平均値 0.18478761701113677\n",
      "更新後のラグランジュ乗数の平均値0.18478761701113677\n",
      "平均値の差=0.03139425095502496\n",
      "ラグランジュ乗数の個数=231\n",
      "-----------------------------------------------------\n",
      "\n",
      "現状のラグランジュ乗数の平均値 0.1668752065117477\n",
      "更新後のラグランジュ乗数の平均値0.1668752065117477\n",
      "平均値の差=0.0281002292595621\n",
      "ラグランジュ乗数の個数=220\n",
      "-----------------------------------------------------\n",
      "\n",
      "現状のラグランジュ乗数の平均値 0.15176280368180778\n",
      "更新後のラグランジュ乗数の平均値0.15176280368180778\n",
      "平均値の差=0.025334699894624252\n",
      "ラグランジュ乗数の個数=205\n",
      "-----------------------------------------------------\n",
      "\n",
      "現状のラグランジュ乗数の平均値 0.1389938841127789\n",
      "更新後のラグランジュ乗数の平均値0.1389938841127789\n",
      "平均値の差=0.023017730880308285\n",
      "ラグランジュ乗数の個数=189\n",
      "-----------------------------------------------------\n",
      "\n",
      "現状のラグランジュ乗数の平均値 0.12835965976546732\n",
      "更新後のラグランジュ乗数の平均値0.12835965976546732\n",
      "平均値の差=0.021109789660250677\n",
      "ラグランジュ乗数の個数=183\n",
      "-----------------------------------------------------\n",
      "\n",
      "現状のラグランジュ乗数の平均値 0.11917472740334066\n",
      "更新後のラグランジュ乗数の平均値0.11917472740334066\n",
      "平均値の差=0.019472495388918418\n"
     ]
    }
   ],
   "source": [
    "t2 = time.time()\n",
    "cls2.fit(X_train, y_train)\n",
    "y_pred2 = cls2.predict(X_test)\n",
    "t3 = time.time()"
   ]
  },
  {
   "cell_type": "code",
   "execution_count": 20,
   "metadata": {},
   "outputs": [
    {
     "name": "stdout",
     "output_type": "stream",
     "text": [
      " 修正後の学習開始〜予測終了までの実行時間 : -0.08719587326049805s\n"
     ]
    }
   ],
   "source": [
    "print(' 修正後の学習開始〜予測終了までの実行時間 : {}s'.format(t2-t3))"
   ]
  },
  {
   "cell_type": "markdown",
   "metadata": {},
   "source": [
    "## 実行時間の差分を計算"
   ]
  },
  {
   "cell_type": "code",
   "execution_count": 21,
   "metadata": {},
   "outputs": [
    {
     "data": {
      "text/plain": [
       "13.679962158203125"
      ]
     },
     "execution_count": 21,
     "metadata": {},
     "output_type": "execute_result"
    }
   ],
   "source": [
    "(t1 - t0) - (t3 - t2)"
   ]
  },
  {
   "cell_type": "markdown",
   "metadata": {},
   "source": [
    "## 予測精度比較"
   ]
  },
  {
   "cell_type": "markdown",
   "metadata": {},
   "source": [
    "### 修正前"
   ]
  },
  {
   "cell_type": "code",
   "execution_count": 22,
   "metadata": {},
   "outputs": [
    {
     "name": "stdout",
     "output_type": "stream",
     "text": [
      "accuracy_score = 1.0\n",
      "\n"
     ]
    }
   ],
   "source": [
    "print('accuracy_score = {}\\n'.format(accuracy_score(y_test, y_pred1)))"
   ]
  },
  {
   "cell_type": "code",
   "execution_count": 23,
   "metadata": {},
   "outputs": [],
   "source": [
    "target_names = ['class 1', 'class -1']"
   ]
  },
  {
   "cell_type": "code",
   "execution_count": 24,
   "metadata": {},
   "outputs": [
    {
     "name": "stdout",
     "output_type": "stream",
     "text": [
      "              precision    recall  f1-score   support\n",
      "\n",
      "     class 1       1.00      1.00      1.00        53\n",
      "    class -1       1.00      1.00      1.00        47\n",
      "\n",
      "   micro avg       1.00      1.00      1.00       100\n",
      "   macro avg       1.00      1.00      1.00       100\n",
      "weighted avg       1.00      1.00      1.00       100\n",
      "\n"
     ]
    }
   ],
   "source": [
    "print(classification_report(y_test, y_pred1, target_names=target_names))"
   ]
  },
  {
   "cell_type": "markdown",
   "metadata": {},
   "source": [
    "### 修正後"
   ]
  },
  {
   "cell_type": "code",
   "execution_count": 25,
   "metadata": {},
   "outputs": [
    {
     "name": "stdout",
     "output_type": "stream",
     "text": [
      "accuracy_score = 1.0\n",
      "\n"
     ]
    }
   ],
   "source": [
    "print('accuracy_score = {}\\n'.format(accuracy_score(y_test, y_pred2)))"
   ]
  },
  {
   "cell_type": "code",
   "execution_count": 26,
   "metadata": {},
   "outputs": [],
   "source": [
    "target_names = ['class 1', 'class -1']"
   ]
  },
  {
   "cell_type": "code",
   "execution_count": 27,
   "metadata": {},
   "outputs": [
    {
     "name": "stdout",
     "output_type": "stream",
     "text": [
      "              precision    recall  f1-score   support\n",
      "\n",
      "     class 1       1.00      1.00      1.00        53\n",
      "    class -1       1.00      1.00      1.00        47\n",
      "\n",
      "   micro avg       1.00      1.00      1.00       100\n",
      "   macro avg       1.00      1.00      1.00       100\n",
      "weighted avg       1.00      1.00      1.00       100\n",
      "\n"
     ]
    }
   ],
   "source": [
    "print(classification_report(y_test, y_pred2, target_names=target_names))"
   ]
  },
  {
   "cell_type": "markdown",
   "metadata": {},
   "source": [
    "# 【問題6】ロジスティック回帰とSVM\n",
    "最終発表時に以下の内容についてディスカッションを行います。自分なりの意見を用意しておいてください。\n",
    "\n",
    "ロジスティック回帰とSVMは本質的に何が異なっているか\n",
    "\n",
    "## ①クラス分類を行う直線の求め方\n",
    "### ロジスティック回帰\n",
    "- 各特徴量との誤差の合計が最小となるような直線を引く。\n",
    "\n",
    "### SVM\n",
    "- それぞれのクラスのサポートベクトル(クラス分類を行う直線から最も近い特徴量)から最も距離(マージン)が大きくなる直線を引く。\n",
    "\n",
    "### 上記の違いによる各モデルの特徴\n",
    "- ロジスティック回帰は全ての特徴量に対して適した直線を引く為、外れ値などにも対応しようとして過学習の可能性が高い。\n",
    "- SVMは直線を引く為に考慮するのはサポートベクトルのみなので、外れ値の影響を受けない為、ロジスティック回帰と比較し過学習になりにくく、またマージン最大化の観点からより最適な分類を行うことが可能。\n",
    "\n",
    "## ②計算量の違い\n",
    "### ロジスティック回帰\n",
    "- インスタンス変数にて指定された回数分、勾配降下法によるパラメータ最適化を行う。\n",
    "- 計算回数→指定回数\n",
    "\n",
    "### SVM\n",
    "- サポートベクトルを決定する際にインスタンス変数にて指定された回数分、特徴量の２乗の計算を行い、ラグランジュ乗数を勾配降下法により更新し、計算終了時にラグランジュ乗数が0以上であった特徴量をサポートベクトルとする。\n",
    "- 計算回数→指定回数　×　サンプル数\n",
    "- \n",
    "### 上記の違いによる各モデルの特徴\n",
    "- ロジスティック回帰は指定された回数分のみ更新を行う為、予測精度をある程度犠牲にした場合は、更新回数を少なくし実行時間を減らすことが可能。\n",
    "- SVMは指定された回数　×　サンプル数の回数の計算を行う為、ロジスティック回帰と比較し計算量が多くなる。またその傾向は特徴量が多くなるほど顕著となる。その為、大容量のデータに対してはSVMモデルよりロジスティック回帰等の計算量の少ないモデルが適していると想定される。"
   ]
  }
 ],
 "metadata": {
  "kernelspec": {
   "display_name": "Python 3",
   "language": "python",
   "name": "python3"
  },
  "language_info": {
   "codemirror_mode": {
    "name": "ipython",
    "version": 3
   },
   "file_extension": ".py",
   "mimetype": "text/x-python",
   "name": "python",
   "nbconvert_exporter": "python",
   "pygments_lexer": "ipython3",
   "version": "3.7.1"
  }
 },
 "nbformat": 4,
 "nbformat_minor": 2
}
