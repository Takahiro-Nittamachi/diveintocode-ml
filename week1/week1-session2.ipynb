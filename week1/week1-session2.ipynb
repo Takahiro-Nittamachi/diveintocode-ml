{
 "cells": [
  {
   "cell_type": "markdown",
   "metadata": {},
   "source": [
    "# Week1授業課題2 何回折ったら富士山を超えるか問題"
   ]
  },
  {
   "cell_type": "markdown",
   "metadata": {},
   "source": [
    "# 1.この課題の目的\n",
    "- 基礎的なプログラミング方法を確認する。\n",
    "- 調べながら進める習慣をつける。"
   ]
  },
  {
   "cell_type": "markdown",
   "metadata": {},
   "source": [
    "# 2.何回折ったら富士山を超えるか問題"
   ]
  },
  {
   "cell_type": "markdown",
   "metadata": {},
   "source": [
    "## 【課題】富士山を超える最小の折る回数"
   ]
  },
  {
   "cell_type": "code",
   "execution_count": 1,
   "metadata": {},
   "outputs": [
    {
     "name": "stdout",
     "output_type": "stream",
     "text": [
      "富士山を超える最小の折る回数:26\n"
     ]
    }
   ],
   "source": [
    "thickness = 0.00008 # 紙一枚の厚さ (単位メートル)\n",
    "HEIGHT_OF_MT_FUJI = 3776 # 富士山の高さ(単位メートル)\n",
    "folded_thickness = thickness # 折った後の紙の厚さ\n",
    "fold_count = 0 # 折った回数\n",
    "\n",
    "while folded_thickness <= HEIGHT_OF_MT_FUJI: # 折った紙の厚さが富士山の高さを超えるまで繰り返す\n",
    "    fold_count += 1 # 折った回数 + 1\n",
    "    folded_thickness = folded_thickness * 2 # 折った後の厚みを更新\n",
    "\n",
    "print('富士山を超える最小の折る回数:{}'.format(fold_count))"
   ]
  },
  {
   "cell_type": "markdown",
   "metadata": {},
   "source": [
    "## 【課題】任意の厚さに対応した関数を作成"
   ]
  },
  {
   "cell_type": "markdown",
   "metadata": {},
   "source": [
    "#### 地球から最も近い太陽以外の恒星までの距離"
   ]
  },
  {
   "cell_type": "markdown",
   "metadata": {},
   "source": [
    "以下のページにて確認し、天体名:プロキシマ・ケンタウリ　地球からの距離:4.243光年としプログラムを作成した。\n",
    "\n",
    "[最も近い・遠い天体の一覧:wikipedia](https://ja.wikipedia.org/wiki/%E6%9C%80%E3%82%82%E8%BF%91%E3%81%84%E3%83%BB%E9%81%A0%E3%81%84%E5%A4%A9%E4%BD%93%E3%81%AE%E4%B8%80%E8%A6%A7)"
   ]
  },
  {
   "cell_type": "code",
   "execution_count": 2,
   "metadata": {},
   "outputs": [
    {
     "name": "stdout",
     "output_type": "stream",
     "text": [
      "最も近い太陽以外の恒星(プロキシマ・ケンタウリ)までの距離4.243光年に到達するまでには、\n",
      "厚さ0.00008メートルの紙を69回折る必要がある。\n"
     ]
    }
   ],
   "source": [
    "def compute_folded_thickness(height, t0):\n",
    "    \"\"\"\n",
    "    引数で指定された紙の厚さと高さから、何回紙をおったら指定した高さを超えるのかを計算して返す。\n",
    "\n",
    "    Parameteres\n",
    "    --------------\n",
    "    t0: float\n",
    "        折る前の紙の厚さ(default : 0.00008)\n",
    "    \n",
    "    height: int or float 米入力\n",
    "    Returns\n",
    "    --------------\n",
    "    list_n_grains : list\n",
    "        ある日に貰う米の数のリスト（リストの長さはdayに等しくなる）\n",
    "    list_total_grains : list\n",
    "        ある日までに累計で貰う米の数のリスト（初日に貰うリストの長さはdayに等しくなる）\n",
    "    \"\"\"\n",
    "    folded_thickness = t0 # 折った後の紙の厚さ\n",
    "    fold_count = 0 # 折った回数\n",
    "    \n",
    "    while folded_thickness <= height: # 折った紙の厚さが指定された高さを超えるまで繰り返す\n",
    "        fold_count += 1 # 折った回数 + 1\n",
    "        folded_thickness = folded_thickness * 2 # 折った後の厚みを更新\n",
    "    \n",
    "    return fold_count\n",
    "\n",
    "t0 = 0.00008 # デフォルトの紙の厚さ 0.00008メートル\n",
    "ONE_LIGHT_YEAR = 9500000000000000 # 1光年:9500兆メートル\n",
    "DISTANCE_STAR = 4.243 * ONE_LIGHT_YEAR # 最も近い太陽以外の恒星(プロキシマ・ケンタウリ)までの距離　4.243光年\n",
    "    \n",
    "count = compute_folded_thickness(DISTANCE_STAR, t0)\n",
    "\n",
    "print('''最も近い太陽以外の恒星(プロキシマ・ケンタウリ)までの距離4.243光年に到達するまでには、\n",
    "厚さ{:.5f}メートルの紙を{}回折る必要がある。'''.format(t0, count))"
   ]
  },
  {
   "cell_type": "markdown",
   "metadata": {},
   "source": [
    "## 【課題】必要な紙の長さ"
   ]
  },
  {
   "cell_type": "code",
   "execution_count": 3,
   "metadata": {},
   "outputs": [
    {
     "name": "stdout",
     "output_type": "stream",
     "text": [
      "厚さ0.00008メートルの紙を折り続け、紙の厚さが月まで届くようにする為には、324091944417078.125000万キロメートルの紙が必要。\n",
      "\n",
      "厚さ0.00008メートルの紙を折り続け、紙の厚さが富士山まで届くようにする為には、18864.634849万キロメートルの紙が必要。\n",
      "\n",
      "厚さ0.00008メートルの紙を折り続け、紙の厚さが最も近い太陽以外の恒星まで届くようにする為には、1459580360110034897459784712192.000000万キロメートルの紙が必要。\n",
      "\n"
     ]
    }
   ],
   "source": [
    "import math\n",
    "\n",
    "def compute_folded_thickness(height, t0):\n",
    "    \"\"\"\n",
    "    引数で指定された紙の厚さと高さから、何回紙をおったら指定した高さを超えるのかを計算して返す。\n",
    "\n",
    "    Parameteres\n",
    "    --------------\n",
    "    t0: float\n",
    "        折る前の紙の厚さ(default : 0.00008)\n",
    "    \n",
    "    height: int or float 米入力\n",
    "        指定した高さ(この高さを超えるまで折り続ける。)\n",
    "    Returns\n",
    "    --------------\n",
    "    list_n_grains : list\n",
    "        ある日に貰う米の数のリスト（リストの長さはdayに等しくなる）\n",
    "    list_total_grains : list\n",
    "        ある日までに累計で貰う米の数のリスト（初日に貰うリストの長さはdayに等しくなる）\n",
    "    \"\"\"\n",
    "    folded_thickness = t0 # 折った後の紙の厚さ\n",
    "    fold_count = 0 # 折った回数\n",
    "    \n",
    "    while folded_thickness <= height: # 折った紙の厚さが指定された高さを超えるまで繰り返す\n",
    "        fold_count += 1 # 折った回数 + 1\n",
    "        folded_thickness = folded_thickness * 2 # 折った後の厚みを更新\n",
    "    \n",
    "    return fold_count\n",
    "\n",
    "def compute_paper_length(height, thickness):\n",
    "    \"\"\"\n",
    "    引数で指定された紙の厚さと高さから、紙を折り続けて指定された高さを超えるまでに必要な紙の長さを返す。\n",
    "\n",
    "    Parameteres\n",
    "    --------------\n",
    "    height: int\n",
    "        指定した高さ(この高さを超えるまで折り続ける。)\n",
    "    thickness: float\n",
    "        折る前の紙の厚さ\n",
    "    Returns\n",
    "    --------------\n",
    "    paper_length : int\n",
    "        指定された紙の厚み(thickness)で指定された回数(number_of_fold)だけ折る為に必要な紙の長さ。(小数点以下は切り捨てとする。)\n",
    "\n",
    "   \"\"\"\n",
    "    t0 = thickness # 紙を折る回数(指定された高さを超えるまで)を計算。\n",
    "    n = compute_folded_thickness(height, thickness) # thicknessの厚さになるまでに必要な折る回数を計算。\n",
    "    paper_length = ((math.pi * t0)/6) * (2 ** n + 4) * (2 ** n - 1) #  n回紙を折るために必要な紙の長さを計算。\n",
    "    return int(paper_length) # 小数点以下(～cm)は切り捨てとする。\n",
    "\n",
    "DISTANCE_FUJI = 3776 # 富士山の高さ(単位:メートル)\n",
    "DISTANCE_MOON = 384400000 # 地球から月までの距離(単位:メートル)\n",
    "\n",
    "paper_length = 0 # 紙を折る回数(デフォルト:0)\n",
    "t0 = 0.00008 # 折る前の紙の厚さ(デフォルト:0.00008メートル)\n",
    "\n",
    "# 辞書distance_dictを定義。(keyが場所、valueが地球からの距離(単位メートル))\n",
    "distance_dict = {'月':DISTANCE_MOON ,'富士山':DISTANCE_FUJI,\n",
    "                 '最も近い太陽以外の恒星':DISTANCE_STAR}\n",
    "\n",
    "# for文でdistance_dictのデータをkeyとvalueにアンパック代入を行い、compute_paper_lengthで必要な紙の距離を計算し、結果を表示。\n",
    "for key, value in distance_dict.items(): \n",
    "    paper_length = compute_paper_length(value, t0)\n",
    "    print('厚さ{:.5f}メートルの紙を折り続け、'\\\n",
    "              '紙の厚さが{}まで届くようにする為には、'\\\n",
    "              '{:f}万キロメートルの紙が必要。\\n'.format(t0, key, paper_length/10000000))"
   ]
  },
  {
   "cell_type": "markdown",
   "metadata": {},
   "source": [
    "# 3.Githubでの提出\n",
    "- 検証や説明を行ったファイルをweek1-session2.ipynbとしてweek1に格納"
   ]
  }
 ],
 "metadata": {
  "kernelspec": {
   "display_name": "Python 3",
   "language": "python",
   "name": "python3"
  },
  "language_info": {
   "codemirror_mode": {
    "name": "ipython",
    "version": 3
   },
   "file_extension": ".py",
   "mimetype": "text/x-python",
   "name": "python",
   "nbconvert_exporter": "python",
   "pygments_lexer": "ipython3",
   "version": "3.7.1"
  }
 },
 "nbformat": 4,
 "nbformat_minor": 2
}
