{
 "cells": [
  {
   "cell_type": "markdown",
   "metadata": {},
   "source": [
    "# Week1授業前課題1 Pythonを使ってみよう"
   ]
  },
  {
   "cell_type": "markdown",
   "metadata": {},
   "source": [
    "# 1.この課題の目的\n",
    "- 基礎的なプログラミング方法を確認する。\n",
    "- 調べながら進める習慣をつける。"
   ]
  },
  {
   "cell_type": "markdown",
   "metadata": {},
   "source": [
    "# 2.課題"
   ]
  },
  {
   "cell_type": "markdown",
   "metadata": {},
   "source": [
    "紙を折り続けると厚さが増していき、43回で月に届くという話があります。しかし、実際には10回も折ることができません。また、手計算も大変です。\n",
    "そこで今回の課題では1枚の紙を43回折り曲げた時の厚さを計算するプログラムを作成します。\n",
    "\n",
    "43回折った紙の厚さ$t^{43}$は、折る前の紙の厚さ$t_0$を使い以下の数式で求まります。\n",
    "\n",
    "$$t^{43}=t_0\\times2^{43}$$\n",
    "\n",
    "折る前の紙の厚さ$t_0$は0.00008mとします。一般的なコピー用紙の厚さです。"
   ]
  },
  {
   "cell_type": "markdown",
   "metadata": {},
   "source": [
    "### 今回確認するPythonのスキル\n",
    "- 基本的な計算\n",
    "- for文の活用法\n",
    "- 時間を測る\n",
    "- 配列（list）の使い方\n",
    "- 簡単なグラフの表示"
   ]
  },
  {
   "cell_type": "markdown",
   "metadata": {},
   "source": [
    "# 3.2つの方法\n",
    "プログラミングでは同じ動作を様々な方法で記述することができます。今回は以下の2つを作成してもらいます。\n",
    "- べき乗の算術演算子を使用\n",
    "- for文を使用"
   ]
  },
  {
   "cell_type": "markdown",
   "metadata": {},
   "source": [
    "## 1枚の紙を43回折り曲げた時の厚さを計算\n",
    "### べき乗の算術演算子を使用"
   ]
  },
  {
   "cell_type": "code",
   "execution_count": 1,
   "metadata": {},
   "outputs": [
    {
     "name": "stdout",
     "output_type": "stream",
     "text": [
      "厚さ: 70.37万キロメートル\n"
     ]
    }
   ],
   "source": [
    "#紙一枚の厚さ\n",
    "thickness = 0.00008 \n",
    "\n",
    "#43回おった時の紙の厚さ\n",
    "folded_thickness = thickness * (2 ** 43) \n",
    "\n",
    "# 単位を万メートルに変更して表示\n",
    "print('厚さ: {:.2f}万キロメートル'.format(folded_thickness/10000000)) "
   ]
  },
  {
   "cell_type": "markdown",
   "metadata": {},
   "source": [
    "### for文を使用"
   ]
  },
  {
   "cell_type": "code",
   "execution_count": 2,
   "metadata": {},
   "outputs": [
    {
     "name": "stdout",
     "output_type": "stream",
     "text": [
      "厚さ: 0.00万キロメートル\n"
     ]
    }
   ],
   "source": [
    "#紙一枚の厚さ\n",
    "thickness = 0.00008 \n",
    "\n",
    "# 折ったときの紙の厚さ\n",
    "folded_thickness = 0\n",
    "\n",
    "#43回おった時の紙の厚さ\n",
    "for fold_count in range(43):\n",
    "    folded_thickness = folded_thickness * 2 # 紙を折った後の厚さを更新(2回目以降は、現状の紙の厚さ×2)\n",
    "    \n",
    "# 単位を万メートルに変更して表示\n",
    "print('厚さ: {:.2f}万キロメートル'.format(folded_thickness/10000000)) "
   ]
  },
  {
   "cell_type": "markdown",
   "metadata": {},
   "source": [
    "## 計算時間の比較"
   ]
  },
  {
   "cell_type": "markdown",
   "metadata": {},
   "source": [
    "#### べき乗を使用した場合の計算時間"
   ]
  },
  {
   "cell_type": "code",
   "execution_count": 3,
   "metadata": {},
   "outputs": [
    {
     "name": "stdout",
     "output_type": "stream",
     "text": [
      "厚さ: 70.37万キロメートル\n",
      "time : 0.001001596450805664[s]\n"
     ]
    }
   ],
   "source": [
    "import time\n",
    "start = time.time()\n",
    "\n",
    "#紙一枚の厚さ\n",
    "thickness = 0.00008 \n",
    "\n",
    "#43回おった時の紙の厚さ\n",
    "folded_thickness = thickness * (2 ** 43) \n",
    "\n",
    "# 単位を万メートルに変更する為、10000000で除算する\n",
    "print('厚さ: {:.2f}万キロメートル'.format(folded_thickness/10000000)) \n",
    "\n",
    "elapsed_time = time.time() - start\n",
    "print('time : {}[s]'.format(elapsed_time))"
   ]
  },
  {
   "cell_type": "markdown",
   "metadata": {},
   "source": [
    "#### for文を使用した場合の計算時間"
   ]
  },
  {
   "cell_type": "code",
   "execution_count": 4,
   "metadata": {},
   "outputs": [
    {
     "name": "stdout",
     "output_type": "stream",
     "text": [
      "厚さ: 70.37万キロメートル\n",
      "time : 0.0[s]\n"
     ]
    }
   ],
   "source": [
    "start = time.time()\n",
    "\n",
    "# 折ったときの紙の厚さ\n",
    "folded_thickness = 0.00008\n",
    "\n",
    "#43回おった時の紙の厚さ\n",
    "for fold_count in range(1, 44):\n",
    "    folded_thickness = folded_thickness * 2\n",
    "    \n",
    "# 単位を万メートルに変更して表示\n",
    "print('厚さ: {:.2f}万キロメートル'.format(folded_thickness/10000000)) \n",
    "\n",
    "elapsed_time = time.time() - start\n",
    "print('time : {}[s]'.format(elapsed_time))"
   ]
  },
  {
   "cell_type": "markdown",
   "metadata": {},
   "source": [
    "## それぞれの計算時間の関係を説明"
   ]
  },
  {
   "cell_type": "markdown",
   "metadata": {},
   "source": [
    "- 計算時間を比較しやすくする為、折る回数をそれぞれ100回、500回、1000回と増やした際の計算時間を測定する。※時間を比較をしやすくする為、測定にはJupyterNotebookのtimeitマジックコマンドを使用する。"
   ]
  },
  {
   "cell_type": "markdown",
   "metadata": {},
   "source": [
    "### 100回"
   ]
  },
  {
   "cell_type": "markdown",
   "metadata": {},
   "source": [
    "#### べき乗"
   ]
  },
  {
   "cell_type": "code",
   "execution_count": 5,
   "metadata": {},
   "outputs": [
    {
     "name": "stdout",
     "output_type": "stream",
     "text": [
      "497 ns ± 8.3 ns per loop (mean ± std. dev. of 7 runs, 1000000 loops each)\n"
     ]
    }
   ],
   "source": [
    "%%timeit\n",
    "#紙一枚の厚さ\n",
    "thickness = 0.00008 \n",
    "#43回おった時の紙の厚さ\n",
    "folded_thickness = thickness * (2 ** 100) "
   ]
  },
  {
   "cell_type": "markdown",
   "metadata": {},
   "source": [
    "#### for文"
   ]
  },
  {
   "cell_type": "code",
   "execution_count": 6,
   "metadata": {},
   "outputs": [
    {
     "name": "stdout",
     "output_type": "stream",
     "text": [
      "4.37 µs ± 53.3 ns per loop (mean ± std. dev. of 7 runs, 100000 loops each)\n"
     ]
    }
   ],
   "source": [
    "%%timeit\n",
    "# 折ったときの紙の厚さ\n",
    "folded_thickness = 0.00008\n",
    "#43回おった時の紙の厚さ\n",
    "for fold_count in range(1, 101):\n",
    "    folded_thickness = folded_thickness * 2"
   ]
  },
  {
   "cell_type": "markdown",
   "metadata": {},
   "source": [
    "### 500回"
   ]
  },
  {
   "cell_type": "markdown",
   "metadata": {},
   "source": [
    "#### べき乗"
   ]
  },
  {
   "cell_type": "code",
   "execution_count": 7,
   "metadata": {},
   "outputs": [
    {
     "name": "stdout",
     "output_type": "stream",
     "text": [
      "760 ns ± 11.4 ns per loop (mean ± std. dev. of 7 runs, 1000000 loops each)\n"
     ]
    }
   ],
   "source": [
    "%%timeit\n",
    "#紙一枚の厚さ\n",
    "thickness = 0.00008 \n",
    "#43回おった時の紙の厚さ\n",
    "folded_thickness = thickness * (2 ** 500) "
   ]
  },
  {
   "cell_type": "markdown",
   "metadata": {},
   "source": [
    "#### for文"
   ]
  },
  {
   "cell_type": "code",
   "execution_count": 8,
   "metadata": {},
   "outputs": [
    {
     "name": "stdout",
     "output_type": "stream",
     "text": [
      "24 µs ± 837 ns per loop (mean ± std. dev. of 7 runs, 10000 loops each)\n"
     ]
    }
   ],
   "source": [
    "%%timeit\n",
    "# 折ったときの紙の厚さ\n",
    "folded_thickness = 0.00008\n",
    "#43回おった時の紙の厚さ\n",
    "for fold_count in range(1, 501):\n",
    "    folded_thickness = folded_thickness * 2"
   ]
  },
  {
   "cell_type": "markdown",
   "metadata": {},
   "source": [
    "### 1000回"
   ]
  },
  {
   "cell_type": "markdown",
   "metadata": {},
   "source": [
    "#### べき乗"
   ]
  },
  {
   "cell_type": "code",
   "execution_count": 9,
   "metadata": {},
   "outputs": [
    {
     "name": "stdout",
     "output_type": "stream",
     "text": [
      "1.03 µs ± 16.7 ns per loop (mean ± std. dev. of 7 runs, 1000000 loops each)\n"
     ]
    }
   ],
   "source": [
    "%%timeit\n",
    "#紙一枚の厚さ\n",
    "thickness = 0.00008 \n",
    "#43回おった時の紙の厚さ\n",
    "folded_thickness = thickness * (2 ** 1000) "
   ]
  },
  {
   "cell_type": "markdown",
   "metadata": {},
   "source": [
    "#### for文"
   ]
  },
  {
   "cell_type": "code",
   "execution_count": 10,
   "metadata": {},
   "outputs": [
    {
     "name": "stdout",
     "output_type": "stream",
     "text": [
      "51.7 µs ± 1.72 µs per loop (mean ± std. dev. of 7 runs, 10000 loops each)\n"
     ]
    }
   ],
   "source": [
    "%%timeit\n",
    "# 折ったときの紙の厚さ\n",
    "folded_thickness = 0.00008\n",
    "#43回おった時の紙の厚さ\n",
    "for fold_count in range(1, 1001):\n",
    "    folded_thickness = folded_thickness * 2"
   ]
  },
  {
   "cell_type": "markdown",
   "metadata": {},
   "source": [
    "### 比較結果\n",
    "- べき乗計算のプログラムの方がが、for文のプログラムより計算時間が短い事を確認。\n",
    "- 上記の計算時間から、計算回数が多くなるほど、計算時間の差も大きくなる事を確認。\n",
    "\n",
    "for分の計算時間は、べき乗の計算時間の何倍か？→100回：8.90倍、500回→30.13倍、1000回→49.41倍"
   ]
  },
  {
   "cell_type": "markdown",
   "metadata": {},
   "source": [
    "# 4.可視化"
   ]
  },
  {
   "cell_type": "markdown",
   "metadata": {},
   "source": [
    "折り曲げた時の厚さを毎回記録しておき、それを折れ線グラフで可視化してみます。\n",
    "数式を一般化し、n回折った紙の厚さ$t_n$は以下のように表せます。\n",
    "\n",
    "$t_n=t_0\\times2^n$\n",
    "\n",
    "この式は指数関数になります。指数関数は値が急激に増加する性質があります。厚さが増えて月に到達する様子をグラフで見てみましょう。"
   ]
  },
  {
   "cell_type": "markdown",
   "metadata": {},
   "source": [
    "## 配列への保存"
   ]
  },
  {
   "cell_type": "markdown",
   "metadata": {},
   "source": [
    "ここまでは43回折った後の最後の値だけを使用していました。グラフを表示させるためには折る前の0回から、43回までの合計44個の値を記録しておく必要があります。\n",
    "for文を使用したコードに、配列（list型変数）へ記録するコードを加えてください。"
   ]
  },
  {
   "cell_type": "code",
   "execution_count": 5,
   "metadata": {},
   "outputs": [
    {
     "name": "stdout",
     "output_type": "stream",
     "text": [
      "配列の要素数:44\n"
     ]
    }
   ],
   "source": [
    "import matplotlib.pyplot as plt\n",
    "%matplotlib inline\n",
    "\n",
    "#  厚さのリスト\n",
    "thickness_list = [0]\n",
    "\n",
    "#紙一枚の厚さ(単位を万kmとする為、1000000で割る)\n",
    "folded_thickness = 0.00008 / 10000000\n",
    "\n",
    "#43回おった時の紙の厚さ\n",
    "for fold_count in range(1, 44):\n",
    "    folded_thickness = folded_thickness * 2\n",
    "    thickness_list.append(folded_thickness)\n",
    "\n",
    "# リストの値の数の表示\n",
    "print('配列の要素数:{}'.format(len(thickness_list)))"
   ]
  },
  {
   "cell_type": "markdown",
   "metadata": {},
   "source": [
    "### 折れ線グラフの表示\n",
    "グラフの描画にはMatplotlibというライブラリを用います。\n",
    "配列へ記録するコードの後ろで以下の雛形を使用してください。"
   ]
  },
  {
   "cell_type": "markdown",
   "metadata": {},
   "source": [
    "> \"\"\"\n",
    ">\n",
    "> グラフを表示する。タイトルと軸ラベル名付き。\n",
    ">\n",
    "> \"\"\"\n",
    ">\n",
    "> import matplotlib.pyplot as plt\n",
    ">\n",
    "> %matplotlib inline\n",
    ">\n",
    "> plt.title(\"thickness of folded paper\")\n",
    ">\n",
    "> plt.xlabel(\"number of folds\")\n",
    ">\n",
    "> plt.ylabel(\"thickness[m]\")\n",
    ">\n",
    "> plt.plot(配列名) # 「配列名」のところにlist型変数を入れる"
   ]
  },
  {
   "cell_type": "code",
   "execution_count": 6,
   "metadata": {},
   "outputs": [
    {
     "data": {
      "image/png": "[encoded data removed]",
      "text/plain": [
       "<Figure size 432x288 with 1 Axes>"
      ]
     },
     "metadata": {},
     "output_type": "display_data"
    }
   ],
   "source": [
    "plt.title('Paper thickness')# タイトル「紙の厚み」\n",
    "plt.xlabel('number of folds')# X軸「折った回数」\n",
    "plt.ylabel('thickness[万km]') # Y軸「厚み」\n",
    "plt.plot(thickness_list);"
   ]
  },
  {
   "cell_type": "markdown",
   "metadata": {},
   "source": [
    "## グラフの考察"
   ]
  },
  {
   "cell_type": "markdown",
   "metadata": {},
   "source": [
    "- 上記のグラフの形が指数関数のグラフとなっている為、正常にプログラム内にべき乗計算が行われた事が確認できる。\n",
    "- 35回目以降に急激に値が増加していることが確認出来る。"
   ]
  },
  {
   "cell_type": "markdown",
   "metadata": {},
   "source": [
    "#### 急激に厚さが増加した回数を確認する為、リストの値をデータフレームで表示する。"
   ]
  },
  {
   "cell_type": "code",
   "execution_count": 9,
   "metadata": {},
   "outputs": [
    {
     "data": {
      "text/html": [
       "<div>\n",
       "<style scoped>\n",
       "    .dataframe tbody tr th:only-of-type {\n",
       "        vertical-align: middle;\n",
       "    }\n",
       "\n",
       "    .dataframe tbody tr th {\n",
       "        vertical-align: top;\n",
       "    }\n",
       "\n",
       "    .dataframe thead th {\n",
       "        text-align: right;\n",
       "    }\n",
       "</style>\n",
       "<table border=\"1\" class=\"dataframe\">\n",
       "  <thead>\n",
       "    <tr style=\"text-align: right;\">\n",
       "      <th></th>\n",
       "      <th>厚さ(万km)</th>\n",
       "      <th>増加量(万km)</th>\n",
       "    </tr>\n",
       "    <tr>\n",
       "      <th>折った回数</th>\n",
       "      <th></th>\n",
       "      <th></th>\n",
       "    </tr>\n",
       "  </thead>\n",
       "  <tbody>\n",
       "    <tr>\n",
       "      <th>0</th>\n",
       "      <td>0.000000000000</td>\n",
       "      <td>NaN</td>\n",
       "    </tr>\n",
       "    <tr>\n",
       "      <th>1</th>\n",
       "      <td>0.000000000016</td>\n",
       "      <td>0.000000000016</td>\n",
       "    </tr>\n",
       "    <tr>\n",
       "      <th>2</th>\n",
       "      <td>0.000000000032</td>\n",
       "      <td>0.000000000016</td>\n",
       "    </tr>\n",
       "    <tr>\n",
       "      <th>3</th>\n",
       "      <td>0.000000000064</td>\n",
       "      <td>0.000000000032</td>\n",
       "    </tr>\n",
       "    <tr>\n",
       "      <th>4</th>\n",
       "      <td>0.000000000128</td>\n",
       "      <td>0.000000000064</td>\n",
       "    </tr>\n",
       "    <tr>\n",
       "      <th>5</th>\n",
       "      <td>0.000000000256</td>\n",
       "      <td>0.000000000128</td>\n",
       "    </tr>\n",
       "    <tr>\n",
       "      <th>6</th>\n",
       "      <td>0.000000000512</td>\n",
       "      <td>0.000000000256</td>\n",
       "    </tr>\n",
       "    <tr>\n",
       "      <th>7</th>\n",
       "      <td>0.000000001024</td>\n",
       "      <td>0.000000000512</td>\n",
       "    </tr>\n",
       "    <tr>\n",
       "      <th>8</th>\n",
       "      <td>0.000000002048</td>\n",
       "      <td>0.000000001024</td>\n",
       "    </tr>\n",
       "    <tr>\n",
       "      <th>9</th>\n",
       "      <td>0.000000004096</td>\n",
       "      <td>0.000000002048</td>\n",
       "    </tr>\n",
       "    <tr>\n",
       "      <th>10</th>\n",
       "      <td>0.000000008192</td>\n",
       "      <td>0.000000004096</td>\n",
       "    </tr>\n",
       "    <tr>\n",
       "      <th>11</th>\n",
       "      <td>0.000000016384</td>\n",
       "      <td>0.000000008192</td>\n",
       "    </tr>\n",
       "    <tr>\n",
       "      <th>12</th>\n",
       "      <td>0.000000032768</td>\n",
       "      <td>0.000000016384</td>\n",
       "    </tr>\n",
       "    <tr>\n",
       "      <th>13</th>\n",
       "      <td>0.000000065536</td>\n",
       "      <td>0.000000032768</td>\n",
       "    </tr>\n",
       "    <tr>\n",
       "      <th>14</th>\n",
       "      <td>0.000000131072</td>\n",
       "      <td>0.000000065536</td>\n",
       "    </tr>\n",
       "    <tr>\n",
       "      <th>15</th>\n",
       "      <td>0.000000262144</td>\n",
       "      <td>0.000000131072</td>\n",
       "    </tr>\n",
       "    <tr>\n",
       "      <th>16</th>\n",
       "      <td>0.000000524288</td>\n",
       "      <td>0.000000262144</td>\n",
       "    </tr>\n",
       "    <tr>\n",
       "      <th>17</th>\n",
       "      <td>0.000001048576</td>\n",
       "      <td>0.000000524288</td>\n",
       "    </tr>\n",
       "    <tr>\n",
       "      <th>18</th>\n",
       "      <td>0.000002097152</td>\n",
       "      <td>0.000001048576</td>\n",
       "    </tr>\n",
       "    <tr>\n",
       "      <th>19</th>\n",
       "      <td>0.000004194304</td>\n",
       "      <td>0.000002097152</td>\n",
       "    </tr>\n",
       "    <tr>\n",
       "      <th>20</th>\n",
       "      <td>0.000008388608</td>\n",
       "      <td>0.000004194304</td>\n",
       "    </tr>\n",
       "    <tr>\n",
       "      <th>21</th>\n",
       "      <td>0.000016777216</td>\n",
       "      <td>0.000008388608</td>\n",
       "    </tr>\n",
       "    <tr>\n",
       "      <th>22</th>\n",
       "      <td>0.000033554432</td>\n",
       "      <td>0.000016777216</td>\n",
       "    </tr>\n",
       "    <tr>\n",
       "      <th>23</th>\n",
       "      <td>0.000067108864</td>\n",
       "      <td>0.000033554432</td>\n",
       "    </tr>\n",
       "    <tr>\n",
       "      <th>24</th>\n",
       "      <td>0.000134217728</td>\n",
       "      <td>0.000067108864</td>\n",
       "    </tr>\n",
       "    <tr>\n",
       "      <th>25</th>\n",
       "      <td>0.000268435456</td>\n",
       "      <td>0.000134217728</td>\n",
       "    </tr>\n",
       "    <tr>\n",
       "      <th>26</th>\n",
       "      <td>0.000536870912</td>\n",
       "      <td>0.000268435456</td>\n",
       "    </tr>\n",
       "    <tr>\n",
       "      <th>27</th>\n",
       "      <td>0.001073741824</td>\n",
       "      <td>0.000536870912</td>\n",
       "    </tr>\n",
       "    <tr>\n",
       "      <th>28</th>\n",
       "      <td>0.002147483648</td>\n",
       "      <td>0.001073741824</td>\n",
       "    </tr>\n",
       "    <tr>\n",
       "      <th>29</th>\n",
       "      <td>0.004294967296</td>\n",
       "      <td>0.002147483648</td>\n",
       "    </tr>\n",
       "    <tr>\n",
       "      <th>30</th>\n",
       "      <td>0.008589934592</td>\n",
       "      <td>0.004294967296</td>\n",
       "    </tr>\n",
       "    <tr>\n",
       "      <th>31</th>\n",
       "      <td>0.017179869184</td>\n",
       "      <td>0.008589934592</td>\n",
       "    </tr>\n",
       "    <tr>\n",
       "      <th>32</th>\n",
       "      <td>0.034359738368</td>\n",
       "      <td>0.017179869184</td>\n",
       "    </tr>\n",
       "    <tr>\n",
       "      <th>33</th>\n",
       "      <td>0.068719476736</td>\n",
       "      <td>0.034359738368</td>\n",
       "    </tr>\n",
       "    <tr>\n",
       "      <th>34</th>\n",
       "      <td>0.137438953472</td>\n",
       "      <td>0.068719476736</td>\n",
       "    </tr>\n",
       "    <tr>\n",
       "      <th>35</th>\n",
       "      <td>0.274877906944</td>\n",
       "      <td>0.137438953472</td>\n",
       "    </tr>\n",
       "    <tr>\n",
       "      <th>36</th>\n",
       "      <td>0.549755813888</td>\n",
       "      <td>0.274877906944</td>\n",
       "    </tr>\n",
       "    <tr>\n",
       "      <th>37</th>\n",
       "      <td>1.099511627776</td>\n",
       "      <td>0.549755813888</td>\n",
       "    </tr>\n",
       "    <tr>\n",
       "      <th>38</th>\n",
       "      <td>2.199023255552</td>\n",
       "      <td>1.099511627776</td>\n",
       "    </tr>\n",
       "    <tr>\n",
       "      <th>39</th>\n",
       "      <td>4.398046511104</td>\n",
       "      <td>2.199023255552</td>\n",
       "    </tr>\n",
       "    <tr>\n",
       "      <th>40</th>\n",
       "      <td>8.796093022208</td>\n",
       "      <td>4.398046511104</td>\n",
       "    </tr>\n",
       "    <tr>\n",
       "      <th>41</th>\n",
       "      <td>17.592186044416</td>\n",
       "      <td>8.796093022208</td>\n",
       "    </tr>\n",
       "    <tr>\n",
       "      <th>42</th>\n",
       "      <td>35.184372088832</td>\n",
       "      <td>17.592186044416</td>\n",
       "    </tr>\n",
       "    <tr>\n",
       "      <th>43</th>\n",
       "      <td>70.368744177664</td>\n",
       "      <td>35.184372088832</td>\n",
       "    </tr>\n",
       "  </tbody>\n",
       "</table>\n",
       "</div>"
      ],
      "text/plain": [
       "               厚さ(万km)         増加量(万km)\n",
       "折った回数                                  \n",
       "0       0.000000000000              NaN\n",
       "1       0.000000000016   0.000000000016\n",
       "2       0.000000000032   0.000000000016\n",
       "3       0.000000000064   0.000000000032\n",
       "4       0.000000000128   0.000000000064\n",
       "5       0.000000000256   0.000000000128\n",
       "6       0.000000000512   0.000000000256\n",
       "7       0.000000001024   0.000000000512\n",
       "8       0.000000002048   0.000000001024\n",
       "9       0.000000004096   0.000000002048\n",
       "10      0.000000008192   0.000000004096\n",
       "11      0.000000016384   0.000000008192\n",
       "12      0.000000032768   0.000000016384\n",
       "13      0.000000065536   0.000000032768\n",
       "14      0.000000131072   0.000000065536\n",
       "15      0.000000262144   0.000000131072\n",
       "16      0.000000524288   0.000000262144\n",
       "17      0.000001048576   0.000000524288\n",
       "18      0.000002097152   0.000001048576\n",
       "19      0.000004194304   0.000002097152\n",
       "20      0.000008388608   0.000004194304\n",
       "21      0.000016777216   0.000008388608\n",
       "22      0.000033554432   0.000016777216\n",
       "23      0.000067108864   0.000033554432\n",
       "24      0.000134217728   0.000067108864\n",
       "25      0.000268435456   0.000134217728\n",
       "26      0.000536870912   0.000268435456\n",
       "27      0.001073741824   0.000536870912\n",
       "28      0.002147483648   0.001073741824\n",
       "29      0.004294967296   0.002147483648\n",
       "30      0.008589934592   0.004294967296\n",
       "31      0.017179869184   0.008589934592\n",
       "32      0.034359738368   0.017179869184\n",
       "33      0.068719476736   0.034359738368\n",
       "34      0.137438953472   0.068719476736\n",
       "35      0.274877906944   0.137438953472\n",
       "36      0.549755813888   0.274877906944\n",
       "37      1.099511627776   0.549755813888\n",
       "38      2.199023255552   1.099511627776\n",
       "39      4.398046511104   2.199023255552\n",
       "40      8.796093022208   4.398046511104\n",
       "41     17.592186044416   8.796093022208\n",
       "42     35.184372088832  17.592186044416\n",
       "43     70.368744177664  35.184372088832"
      ]
     },
     "execution_count": 9,
     "metadata": {},
     "output_type": "execute_result"
    }
   ],
   "source": [
    "import pandas as pd\n",
    "import numpy as np\n",
    "\n",
    "df = pd.DataFrame(thickness_list, columns = ['厚さ(万km)'])# thickness_listをデータフレーム化\n",
    "df.index.name = '折った回数' # インデックスを設定\n",
    "pd.options.display.precision = 12 # 全ての行を表示させる為、表示可能な桁数を変更\n",
    "df['増加量(万km)'] = df.diff() # diffメソッドで折った後と折る前の厚みの差を計算し、「増加量」列に格納\n",
    "df"
   ]
  },
  {
   "cell_type": "markdown",
   "metadata": {},
   "source": [
    "### 上記のデータフレームより、37回目に1万キロメートルを超えて以降、値が大きく増加した事がわかる。"
   ]
  },
  {
   "cell_type": "markdown",
   "metadata": {},
   "source": [
    "# 5.（オプション課題）Pythonが使われる理由\n",
    "今回の例は他のプログラミング言語（C言語、Java、Rなど）や、Excel、電卓でも計算できるものでした。しかし、機械学習分野ではPythonが広く使われています。学びはじめる前に、何故Pythonを使うのかを確認しておきましょう。\n",
    "\n",
    "説明\n",
    "機械学習の分野ではPythonが使われる理由を調査して説明してください。\n",
    "\n",
    "理由①機会学習プログラムの開発に必要な数値計算ライブラリ、グラフ作成ライブラリがPythonで使用可能な為。\n",
    "- 具体例 データ解析ライブラリ(Numpy, Pandas等)、グラフ生成ライブラリ(Matplotlib, Seaborn等)、\n",
    "\n",
    "理由②機会学習ライブラリ(scikit-learn、TensorFlow、Chainer、Keras等)がPythonにて開発されている為。\n",
    "\n",
    "理由③他の言語と比較しプログラム開発しやすい環境が揃っている為。\n",
    "- Pythonのプログラムは可読性・加筆性が高く、インタプリタ言語(実行時にコンパイル不要)の為、プログラムの動作確認がすばやく行える為、他言語と比較しプログラム開発が行いやすく、近年、Google・Facebook等の大手IT企業が機会学習ライブラリの他にも、業務システム、Webアプリケーション等でPythonを使用している。\n",
    "- 開発環境においてもブラウザにて開発が可能で使いやすい統合開発環境であるJupyterNotebookがある。\n",
    "- 理由②に記載した、「機会学習ライブラリがPythonで開発されている」ことに対する理由としても理由③のプログラム開発が行いやすいという理由が考えられる。機会学習のアルゴリズムの中身は、複雑な数式により成り立っており、プログラム開発を行う上では、通常のシステム開発と比較し、よりプログラムの可読性・加筆性が低くなり開発しにくい傾向があると考えられるが、その際にPythonを使用することで、開発しやすくしたと考えられる。"
   ]
  },
  {
   "cell_type": "markdown",
   "metadata": {},
   "source": [
    "# 6.Githubでの提出\n",
    "- 検証や説明を行ったファイルをweek1-work1.ipynbとしてweek1に格納"
   ]
  }
 ],
 "metadata": {
  "kernelspec": {
   "display_name": "Python 3",
   "language": "python",
   "name": "python3"
  },
  "language_info": {
   "codemirror_mode": {
    "name": "ipython",
    "version": 3
   },
   "file_extension": ".py",
   "mimetype": "text/x-python",
   "name": "python",
   "nbconvert_exporter": "python",
   "pygments_lexer": "ipython3",
   "version": "3.6.5"
  }
 },
 "nbformat": 4,
 "nbformat_minor": 2
}
