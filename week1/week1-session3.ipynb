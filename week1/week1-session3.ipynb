{
 "cells": [
  {
   "cell_type": "markdown",
   "metadata": {},
   "source": [
    "# Week1授業課題3 栗まんじゅう問題"
   ]
  },
  {
   "cell_type": "markdown",
   "metadata": {},
   "source": [
    "# 1.この課題の目的\n",
    "- 基礎的なプログラミング方法を確認する。\n",
    "- 調べながら進める習慣をつける。"
   ]
  },
  {
   "cell_type": "markdown",
   "metadata": {},
   "source": [
    "# 2.栗まんじゅう問題"
   ]
  },
  {
   "cell_type": "markdown",
   "metadata": {},
   "source": [
    "## 【課題】栗まんじゅうが太陽系を覆う日"
   ]
  },
  {
   "cell_type": "markdown",
   "metadata": {},
   "source": [
    "### 以下の条件でプログラムを作成。\n",
    "- 条件①栗まんじゅう1個の体積を$100cm^3 = 0.0001m^3$とする。\n",
    "\n",
    "- 条件②宇宙の体積を$3\\times10^{80}m^3$とする。※宇宙全体を直径930億光年の球体と定義。\n",
    "\n",
    "### 上記の条件を設定した理由\n",
    "- 栗まんじゅうの体積については、計算の簡略化の為、おおよその近似値を使用。\n",
    "- 宇宙の体積については、諸説ある中から宇宙が誕生してから約137億年経過している時点の体積と想定し、また宇宙全体の形を直径930億光年の球体として体積を計算している。\n",
    "\n",
    "[引用元:ドラえもんから学ぶ！指数関数の恐ろしさ](https://www.sekkachi.com/entry/bibin_consideration)"
   ]
  },
  {
   "cell_type": "code",
   "execution_count": 1,
   "metadata": {},
   "outputs": [
    {
     "name": "stdout",
     "output_type": "stream",
     "text": [
      "5分後に体積が倍になる栗まんじゅうが宇宙よりも大きな体積になるまで、23時間25分かかる。\n"
     ]
    }
   ],
   "source": [
    "def compute_time_to_cover(volume):\n",
    "    \"\"\"\n",
    "    体積が5分後に倍になり続ける栗まんじゅうの体積が、引数で指定された体積を超えるまでの経過時間を返す。\n",
    "    Parameteres\n",
    "    --------------\n",
    "    volume: float\n",
    "        指定された体積(単位:平方メートル)\n",
    "    Returns\n",
    "    --------------\n",
    "    time_to_cover : int\n",
    "        栗まんじゅうの体積が指定された体積を超えるまでにかかる時間(単位:秒)\n",
    "    \"\"\"\n",
    "    KURI_MANJU = 0.0001 # 栗まんじゅうの体積(単位:～立方メートル)\n",
    "    count = 0 # 倍になった回数(初期値:0)\n",
    "    \n",
    "    # 栗まんじゅうの体積が引数でしていされたvolumeの値以上になるまで、\n",
    "    # 栗まんじゅうの体積を2倍にしていき、増やした回数をcountで数える。\n",
    "    while KURI_MANJU <= volume: \n",
    "        count += 1\n",
    "        KURI_MANJU = KURI_MANJU * 2\n",
    "    \n",
    "    # 倍になった回数 * 5 で何分後に指定された体積より、栗まんじゅうの体積が大きくなったのかを計算。\n",
    "    time_to_cover = count * 5\n",
    "    return time_to_cover\n",
    "\n",
    "name = '宇宙' # 体積が2倍になり続ける栗まんじゅうと体積を比較したい物の名前を入力する。(今回は宇宙。)\n",
    "volume = 3 * 10 ** 80 # 体積を入力する。(今回は宇宙の体積。単位～立方メートル)\n",
    "\n",
    "time = compute_time_to_cover(volume)# 体積をcompute_time_to_cover関数で求めたい時間を計算する。。\n",
    "\n",
    "print('5分後に体積が倍になる栗まんじゅうが{}よりも大きな体積になるまで、{}時間{}分かかる。'.format(name, time//60, time%60)) "
   ]
  },
  {
   "cell_type": "markdown",
   "metadata": {},
   "source": [
    "# 3.Githubでの提出\n",
    "- 検証や説明を行ったファイルをweek1-session3.ipynbとしてweek1に格納"
   ]
  }
 ],
 "metadata": {
  "kernelspec": {
   "display_name": "Python 3",
   "language": "python",
   "name": "python3"
  },
  "language_info": {
   "codemirror_mode": {
    "name": "ipython",
    "version": 3
   },
   "file_extension": ".py",
   "mimetype": "text/x-python",
   "name": "python",
   "nbconvert_exporter": "python",
   "pygments_lexer": "ipython3",
   "version": "3.6.5"
  }
 },
 "nbformat": 4,
 "nbformat_minor": 2
}
