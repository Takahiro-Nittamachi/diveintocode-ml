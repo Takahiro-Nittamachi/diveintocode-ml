{
 "cells": [
  {
   "cell_type": "markdown",
   "metadata": {},
   "source": [
    "# Week2授業課題 富士下山"
   ]
  },
  {
   "cell_type": "markdown",
   "metadata": {},
   "source": [
    "# 1.この課題の目的"
   ]
  },
  {
   "cell_type": "markdown",
   "metadata": {},
   "source": [
    "- 機械学習で使われている勾配降下法の仕組みを知る"
   ]
  },
  {
   "cell_type": "markdown",
   "metadata": {},
   "source": [
    "# 2.富士山から下りたい\n",
    "\n",
    "2.富士山から下りたい\n",
    "授業前課題2では「勾配降下法」に触れました。勾配降下法は山や谷を下ることに例えられます。先週は紙を折って超えることを目指した富士山を、今週は頂上付近から下りていくことにしましょう。\n",
    "\n",
    "## 断面図の確認\n",
    "以下の図は富士山の断面図です。相模湾から富士山頂上付近を通り南アルプス方面へと切り取りました。縦軸は標高、横軸は300等分した番号が振られています。"
   ]
  },
  {
   "cell_type": "code",
   "execution_count": 1,
   "metadata": {},
   "outputs": [
    {
     "data": {
      "image/png": "[encoded data removed]"
     },
     "metadata": {},
     "output_type": "display_data"
    }
   ],
   "source": [
    "# 断面図の表示例\n",
    "from IPython.display import Image, display_png\n",
    "display_png(Image('test_sectional_view.png'))"
   ]
  },
  {
   "cell_type": "markdown",
   "metadata": {},
   "source": [
    "この断面図を見れば低い場所はすぐに分かりますが、あなたは暗闇の中、赤い点の箇所(x=136)にいるという状況を想像します。足元の傾きしか分からない中で富士山から下りるというプログラムを作っていきましょう。\n",
    "\n",
    "- 出典\n",
    "\n",
    "今回使用するデータは国土地理院の電子地形図の断面図機能を使用し取得しました。\n",
    "\n",
    "[立体地図（日本の主な山岳）](https://cyberjapandata.gsi.go.jp/3d/mountain/mountain.html)\n",
    "\n",
    "## データの取得\n",
    "このデータをcsvファイルで配布しますので、以下のコードで読み込みます。\n",
    "\n",
    ">import numpy as np\n",
    ">\n",
    ">np.set_printoptions(suppress=True) # 指数表示の禁止を設定する\n",
    ">\n",
    ">fuji = np.loadtxt(\"week2_session1_mtfuji_data.csv\",delimiter=\",\", skiprows=1)\n",
    "\n",
    "一部を出力させると、以下のような中身になっています。"
   ]
  },
  {
   "cell_type": "markdown",
   "metadata": {},
   "source": [
    "\n"
   ]
  },
  {
   "cell_type": "markdown",
   "metadata": {},
   "source": [
    "左から順番に「その地点の番号(x)」「緯度」「経度」「標高(elevation)」「地点0からの距離」となっています。標高と距離の単位はメートルです。"
   ]
  },
  {
   "cell_type": "markdown",
   "metadata": {},
   "source": [
    "##  【問題1】断面図の作成\n",
    "前述の断面図をMatplotlibを使い作成してください。x=136の地点の赤い点や矢印も表示させてください。\n",
    "これ以降の問題では下りる過程の可視化を行いますが、その際にはこの断面図を活用してください。"
   ]
  },
  {
   "cell_type": "code",
   "execution_count": 2,
   "metadata": {},
   "outputs": [
    {
     "data": {
      "text/plain": [
       "(300, 5)"
      ]
     },
     "execution_count": 2,
     "metadata": {},
     "output_type": "execute_result"
    }
   ],
   "source": [
    "import numpy as np\n",
    "import pandas as pd\n",
    "import matplotlib.pyplot as plt\n",
    "\n",
    "np.set_printoptions(suppress=True) # 指数表示の禁止を設定する\n",
    "\n",
    "fuji = np.loadtxt(\"week2_session_mtfuji_data.csv\",delimiter=\",\", skiprows=1)\n",
    "fuji.shape"
   ]
  },
  {
   "cell_type": "code",
   "execution_count": 3,
   "metadata": {},
   "outputs": [
    {
     "data": {
      "text/html": [
       "<div>\n",
       "<style scoped>\n",
       "    .dataframe tbody tr th:only-of-type {\n",
       "        vertical-align: middle;\n",
       "    }\n",
       "\n",
       "    .dataframe tbody tr th {\n",
       "        vertical-align: top;\n",
       "    }\n",
       "\n",
       "    .dataframe thead th {\n",
       "        text-align: right;\n",
       "    }\n",
       "</style>\n",
       "<table border=\"1\" class=\"dataframe\">\n",
       "  <thead>\n",
       "    <tr style=\"text-align: right;\">\n",
       "      <th></th>\n",
       "      <th>0</th>\n",
       "      <th>1</th>\n",
       "      <th>2</th>\n",
       "      <th>3</th>\n",
       "      <th>4</th>\n",
       "    </tr>\n",
       "  </thead>\n",
       "  <tbody>\n",
       "    <tr>\n",
       "      <th>50</th>\n",
       "      <td>50.0</td>\n",
       "      <td>35.218266</td>\n",
       "      <td>138.987919</td>\n",
       "      <td>831.00</td>\n",
       "      <td>16110.0</td>\n",
       "    </tr>\n",
       "    <tr>\n",
       "      <th>51</th>\n",
       "      <td>51.0</td>\n",
       "      <td>35.219947</td>\n",
       "      <td>138.985033</td>\n",
       "      <td>880.44</td>\n",
       "      <td>16433.0</td>\n",
       "    </tr>\n",
       "    <tr>\n",
       "      <th>52</th>\n",
       "      <td>52.0</td>\n",
       "      <td>35.221627</td>\n",
       "      <td>138.982146</td>\n",
       "      <td>955.14</td>\n",
       "      <td>16755.0</td>\n",
       "    </tr>\n",
       "    <tr>\n",
       "      <th>53</th>\n",
       "      <td>53.0</td>\n",
       "      <td>35.223308</td>\n",
       "      <td>138.979260</td>\n",
       "      <td>849.52</td>\n",
       "      <td>17077.0</td>\n",
       "    </tr>\n",
       "    <tr>\n",
       "      <th>54</th>\n",
       "      <td>54.0</td>\n",
       "      <td>35.224989</td>\n",
       "      <td>138.976373</td>\n",
       "      <td>831.60</td>\n",
       "      <td>17399.0</td>\n",
       "    </tr>\n",
       "    <tr>\n",
       "      <th>55</th>\n",
       "      <td>55.0</td>\n",
       "      <td>35.226669</td>\n",
       "      <td>138.973486</td>\n",
       "      <td>790.01</td>\n",
       "      <td>17721.0</td>\n",
       "    </tr>\n",
       "    <tr>\n",
       "      <th>56</th>\n",
       "      <td>56.0</td>\n",
       "      <td>35.228349</td>\n",
       "      <td>138.970599</td>\n",
       "      <td>738.97</td>\n",
       "      <td>18044.0</td>\n",
       "    </tr>\n",
       "    <tr>\n",
       "      <th>57</th>\n",
       "      <td>57.0</td>\n",
       "      <td>35.230030</td>\n",
       "      <td>138.967712</td>\n",
       "      <td>848.83</td>\n",
       "      <td>18366.0</td>\n",
       "    </tr>\n",
       "    <tr>\n",
       "      <th>58</th>\n",
       "      <td>58.0</td>\n",
       "      <td>35.231710</td>\n",
       "      <td>138.964825</td>\n",
       "      <td>738.30</td>\n",
       "      <td>18688.0</td>\n",
       "    </tr>\n",
       "    <tr>\n",
       "      <th>59</th>\n",
       "      <td>59.0</td>\n",
       "      <td>35.233390</td>\n",
       "      <td>138.961938</td>\n",
       "      <td>736.48</td>\n",
       "      <td>19010.0</td>\n",
       "    </tr>\n",
       "    <tr>\n",
       "      <th>60</th>\n",
       "      <td>60.0</td>\n",
       "      <td>35.235070</td>\n",
       "      <td>138.959050</td>\n",
       "      <td>672.24</td>\n",
       "      <td>19333.0</td>\n",
       "    </tr>\n",
       "    <tr>\n",
       "      <th>61</th>\n",
       "      <td>61.0</td>\n",
       "      <td>35.236750</td>\n",
       "      <td>138.956163</td>\n",
       "      <td>564.02</td>\n",
       "      <td>19655.0</td>\n",
       "    </tr>\n",
       "    <tr>\n",
       "      <th>62</th>\n",
       "      <td>62.0</td>\n",
       "      <td>35.238430</td>\n",
       "      <td>138.953275</td>\n",
       "      <td>552.23</td>\n",
       "      <td>19977.0</td>\n",
       "    </tr>\n",
       "    <tr>\n",
       "      <th>63</th>\n",
       "      <td>63.0</td>\n",
       "      <td>35.240110</td>\n",
       "      <td>138.950388</td>\n",
       "      <td>497.41</td>\n",
       "      <td>20299.0</td>\n",
       "    </tr>\n",
       "    <tr>\n",
       "      <th>64</th>\n",
       "      <td>64.0</td>\n",
       "      <td>35.241790</td>\n",
       "      <td>138.947500</td>\n",
       "      <td>558.28</td>\n",
       "      <td>20621.0</td>\n",
       "    </tr>\n",
       "    <tr>\n",
       "      <th>65</th>\n",
       "      <td>65.0</td>\n",
       "      <td>35.243470</td>\n",
       "      <td>138.944612</td>\n",
       "      <td>503.02</td>\n",
       "      <td>20944.0</td>\n",
       "    </tr>\n",
       "    <tr>\n",
       "      <th>66</th>\n",
       "      <td>66.0</td>\n",
       "      <td>35.245149</td>\n",
       "      <td>138.941724</td>\n",
       "      <td>462.33</td>\n",
       "      <td>21266.0</td>\n",
       "    </tr>\n",
       "    <tr>\n",
       "      <th>67</th>\n",
       "      <td>67.0</td>\n",
       "      <td>35.246829</td>\n",
       "      <td>138.938835</td>\n",
       "      <td>469.66</td>\n",
       "      <td>21588.0</td>\n",
       "    </tr>\n",
       "    <tr>\n",
       "      <th>68</th>\n",
       "      <td>68.0</td>\n",
       "      <td>35.248509</td>\n",
       "      <td>138.935947</td>\n",
       "      <td>429.49</td>\n",
       "      <td>21910.0</td>\n",
       "    </tr>\n",
       "    <tr>\n",
       "      <th>69</th>\n",
       "      <td>69.0</td>\n",
       "      <td>35.250188</td>\n",
       "      <td>138.933059</td>\n",
       "      <td>454.21</td>\n",
       "      <td>22233.0</td>\n",
       "    </tr>\n",
       "    <tr>\n",
       "      <th>70</th>\n",
       "      <td>70.0</td>\n",
       "      <td>35.251867</td>\n",
       "      <td>138.930170</td>\n",
       "      <td>412.27</td>\n",
       "      <td>22555.0</td>\n",
       "    </tr>\n",
       "    <tr>\n",
       "      <th>71</th>\n",
       "      <td>71.0</td>\n",
       "      <td>35.253547</td>\n",
       "      <td>138.927281</td>\n",
       "      <td>362.29</td>\n",
       "      <td>22877.0</td>\n",
       "    </tr>\n",
       "    <tr>\n",
       "      <th>72</th>\n",
       "      <td>72.0</td>\n",
       "      <td>35.255226</td>\n",
       "      <td>138.924393</td>\n",
       "      <td>355.68</td>\n",
       "      <td>23199.0</td>\n",
       "    </tr>\n",
       "    <tr>\n",
       "      <th>73</th>\n",
       "      <td>73.0</td>\n",
       "      <td>35.256905</td>\n",
       "      <td>138.921504</td>\n",
       "      <td>368.91</td>\n",
       "      <td>23521.0</td>\n",
       "    </tr>\n",
       "    <tr>\n",
       "      <th>74</th>\n",
       "      <td>74.0</td>\n",
       "      <td>35.258584</td>\n",
       "      <td>138.918615</td>\n",
       "      <td>371.04</td>\n",
       "      <td>23844.0</td>\n",
       "    </tr>\n",
       "    <tr>\n",
       "      <th>75</th>\n",
       "      <td>75.0</td>\n",
       "      <td>35.260263</td>\n",
       "      <td>138.915725</td>\n",
       "      <td>371.19</td>\n",
       "      <td>24166.0</td>\n",
       "    </tr>\n",
       "    <tr>\n",
       "      <th>76</th>\n",
       "      <td>76.0</td>\n",
       "      <td>35.261942</td>\n",
       "      <td>138.912836</td>\n",
       "      <td>377.62</td>\n",
       "      <td>24488.0</td>\n",
       "    </tr>\n",
       "    <tr>\n",
       "      <th>77</th>\n",
       "      <td>77.0</td>\n",
       "      <td>35.263621</td>\n",
       "      <td>138.909947</td>\n",
       "      <td>386.64</td>\n",
       "      <td>24810.0</td>\n",
       "    </tr>\n",
       "    <tr>\n",
       "      <th>78</th>\n",
       "      <td>78.0</td>\n",
       "      <td>35.265300</td>\n",
       "      <td>138.907057</td>\n",
       "      <td>390.14</td>\n",
       "      <td>25133.0</td>\n",
       "    </tr>\n",
       "    <tr>\n",
       "      <th>79</th>\n",
       "      <td>79.0</td>\n",
       "      <td>35.266979</td>\n",
       "      <td>138.904168</td>\n",
       "      <td>418.41</td>\n",
       "      <td>25455.0</td>\n",
       "    </tr>\n",
       "    <tr>\n",
       "      <th>80</th>\n",
       "      <td>80.0</td>\n",
       "      <td>35.268658</td>\n",
       "      <td>138.901278</td>\n",
       "      <td>420.60</td>\n",
       "      <td>25777.0</td>\n",
       "    </tr>\n",
       "    <tr>\n",
       "      <th>81</th>\n",
       "      <td>81.0</td>\n",
       "      <td>35.270336</td>\n",
       "      <td>138.898388</td>\n",
       "      <td>443.00</td>\n",
       "      <td>26099.0</td>\n",
       "    </tr>\n",
       "    <tr>\n",
       "      <th>82</th>\n",
       "      <td>82.0</td>\n",
       "      <td>35.272015</td>\n",
       "      <td>138.895498</td>\n",
       "      <td>458.66</td>\n",
       "      <td>26421.0</td>\n",
       "    </tr>\n",
       "    <tr>\n",
       "      <th>83</th>\n",
       "      <td>83.0</td>\n",
       "      <td>35.273694</td>\n",
       "      <td>138.892608</td>\n",
       "      <td>471.82</td>\n",
       "      <td>26744.0</td>\n",
       "    </tr>\n",
       "    <tr>\n",
       "      <th>84</th>\n",
       "      <td>84.0</td>\n",
       "      <td>35.275372</td>\n",
       "      <td>138.889718</td>\n",
       "      <td>488.40</td>\n",
       "      <td>27066.0</td>\n",
       "    </tr>\n",
       "    <tr>\n",
       "      <th>85</th>\n",
       "      <td>85.0</td>\n",
       "      <td>35.277050</td>\n",
       "      <td>138.886827</td>\n",
       "      <td>505.10</td>\n",
       "      <td>27388.0</td>\n",
       "    </tr>\n",
       "    <tr>\n",
       "      <th>86</th>\n",
       "      <td>86.0</td>\n",
       "      <td>35.278729</td>\n",
       "      <td>138.883937</td>\n",
       "      <td>519.54</td>\n",
       "      <td>27710.0</td>\n",
       "    </tr>\n",
       "    <tr>\n",
       "      <th>87</th>\n",
       "      <td>87.0</td>\n",
       "      <td>35.280407</td>\n",
       "      <td>138.881046</td>\n",
       "      <td>536.54</td>\n",
       "      <td>28032.0</td>\n",
       "    </tr>\n",
       "    <tr>\n",
       "      <th>88</th>\n",
       "      <td>88.0</td>\n",
       "      <td>35.282085</td>\n",
       "      <td>138.878156</td>\n",
       "      <td>553.64</td>\n",
       "      <td>28355.0</td>\n",
       "    </tr>\n",
       "    <tr>\n",
       "      <th>89</th>\n",
       "      <td>89.0</td>\n",
       "      <td>35.283763</td>\n",
       "      <td>138.875265</td>\n",
       "      <td>575.07</td>\n",
       "      <td>28677.0</td>\n",
       "    </tr>\n",
       "    <tr>\n",
       "      <th>90</th>\n",
       "      <td>90.0</td>\n",
       "      <td>35.285441</td>\n",
       "      <td>138.872374</td>\n",
       "      <td>588.99</td>\n",
       "      <td>28999.0</td>\n",
       "    </tr>\n",
       "    <tr>\n",
       "      <th>91</th>\n",
       "      <td>91.0</td>\n",
       "      <td>35.287119</td>\n",
       "      <td>138.869483</td>\n",
       "      <td>602.36</td>\n",
       "      <td>29321.0</td>\n",
       "    </tr>\n",
       "    <tr>\n",
       "      <th>92</th>\n",
       "      <td>92.0</td>\n",
       "      <td>35.288797</td>\n",
       "      <td>138.866591</td>\n",
       "      <td>613.04</td>\n",
       "      <td>29644.0</td>\n",
       "    </tr>\n",
       "    <tr>\n",
       "      <th>93</th>\n",
       "      <td>93.0</td>\n",
       "      <td>35.290475</td>\n",
       "      <td>138.863700</td>\n",
       "      <td>631.71</td>\n",
       "      <td>29966.0</td>\n",
       "    </tr>\n",
       "    <tr>\n",
       "      <th>94</th>\n",
       "      <td>94.0</td>\n",
       "      <td>35.292153</td>\n",
       "      <td>138.860809</td>\n",
       "      <td>660.43</td>\n",
       "      <td>30288.0</td>\n",
       "    </tr>\n",
       "    <tr>\n",
       "      <th>95</th>\n",
       "      <td>95.0</td>\n",
       "      <td>35.293830</td>\n",
       "      <td>138.857917</td>\n",
       "      <td>672.36</td>\n",
       "      <td>30610.0</td>\n",
       "    </tr>\n",
       "    <tr>\n",
       "      <th>96</th>\n",
       "      <td>96.0</td>\n",
       "      <td>35.295508</td>\n",
       "      <td>138.855026</td>\n",
       "      <td>700.15</td>\n",
       "      <td>30932.0</td>\n",
       "    </tr>\n",
       "    <tr>\n",
       "      <th>97</th>\n",
       "      <td>97.0</td>\n",
       "      <td>35.297185</td>\n",
       "      <td>138.852134</td>\n",
       "      <td>725.72</td>\n",
       "      <td>31255.0</td>\n",
       "    </tr>\n",
       "    <tr>\n",
       "      <th>98</th>\n",
       "      <td>98.0</td>\n",
       "      <td>35.298863</td>\n",
       "      <td>138.849242</td>\n",
       "      <td>741.17</td>\n",
       "      <td>31577.0</td>\n",
       "    </tr>\n",
       "    <tr>\n",
       "      <th>99</th>\n",
       "      <td>99.0</td>\n",
       "      <td>35.300540</td>\n",
       "      <td>138.846350</td>\n",
       "      <td>753.68</td>\n",
       "      <td>31899.0</td>\n",
       "    </tr>\n",
       "  </tbody>\n",
       "</table>\n",
       "</div>"
      ],
      "text/plain": [
       "       0          1           2       3        4\n",
       "50  50.0  35.218266  138.987919  831.00  16110.0\n",
       "51  51.0  35.219947  138.985033  880.44  16433.0\n",
       "52  52.0  35.221627  138.982146  955.14  16755.0\n",
       "53  53.0  35.223308  138.979260  849.52  17077.0\n",
       "54  54.0  35.224989  138.976373  831.60  17399.0\n",
       "55  55.0  35.226669  138.973486  790.01  17721.0\n",
       "56  56.0  35.228349  138.970599  738.97  18044.0\n",
       "57  57.0  35.230030  138.967712  848.83  18366.0\n",
       "58  58.0  35.231710  138.964825  738.30  18688.0\n",
       "59  59.0  35.233390  138.961938  736.48  19010.0\n",
       "60  60.0  35.235070  138.959050  672.24  19333.0\n",
       "61  61.0  35.236750  138.956163  564.02  19655.0\n",
       "62  62.0  35.238430  138.953275  552.23  19977.0\n",
       "63  63.0  35.240110  138.950388  497.41  20299.0\n",
       "64  64.0  35.241790  138.947500  558.28  20621.0\n",
       "65  65.0  35.243470  138.944612  503.02  20944.0\n",
       "66  66.0  35.245149  138.941724  462.33  21266.0\n",
       "67  67.0  35.246829  138.938835  469.66  21588.0\n",
       "68  68.0  35.248509  138.935947  429.49  21910.0\n",
       "69  69.0  35.250188  138.933059  454.21  22233.0\n",
       "70  70.0  35.251867  138.930170  412.27  22555.0\n",
       "71  71.0  35.253547  138.927281  362.29  22877.0\n",
       "72  72.0  35.255226  138.924393  355.68  23199.0\n",
       "73  73.0  35.256905  138.921504  368.91  23521.0\n",
       "74  74.0  35.258584  138.918615  371.04  23844.0\n",
       "75  75.0  35.260263  138.915725  371.19  24166.0\n",
       "76  76.0  35.261942  138.912836  377.62  24488.0\n",
       "77  77.0  35.263621  138.909947  386.64  24810.0\n",
       "78  78.0  35.265300  138.907057  390.14  25133.0\n",
       "79  79.0  35.266979  138.904168  418.41  25455.0\n",
       "80  80.0  35.268658  138.901278  420.60  25777.0\n",
       "81  81.0  35.270336  138.898388  443.00  26099.0\n",
       "82  82.0  35.272015  138.895498  458.66  26421.0\n",
       "83  83.0  35.273694  138.892608  471.82  26744.0\n",
       "84  84.0  35.275372  138.889718  488.40  27066.0\n",
       "85  85.0  35.277050  138.886827  505.10  27388.0\n",
       "86  86.0  35.278729  138.883937  519.54  27710.0\n",
       "87  87.0  35.280407  138.881046  536.54  28032.0\n",
       "88  88.0  35.282085  138.878156  553.64  28355.0\n",
       "89  89.0  35.283763  138.875265  575.07  28677.0\n",
       "90  90.0  35.285441  138.872374  588.99  28999.0\n",
       "91  91.0  35.287119  138.869483  602.36  29321.0\n",
       "92  92.0  35.288797  138.866591  613.04  29644.0\n",
       "93  93.0  35.290475  138.863700  631.71  29966.0\n",
       "94  94.0  35.292153  138.860809  660.43  30288.0\n",
       "95  95.0  35.293830  138.857917  672.36  30610.0\n",
       "96  96.0  35.295508  138.855026  700.15  30932.0\n",
       "97  97.0  35.297185  138.852134  725.72  31255.0\n",
       "98  98.0  35.298863  138.849242  741.17  31577.0\n",
       "99  99.0  35.300540  138.846350  753.68  31899.0"
      ]
     },
     "execution_count": 3,
     "metadata": {},
     "output_type": "execute_result"
    }
   ],
   "source": [
    "df = pd.DataFrame(fuji)\n",
    "df[50:100]"
   ]
  },
  {
   "cell_type": "code",
   "execution_count": 4,
   "metadata": {},
   "outputs": [
    {
     "data": {
      "text/plain": [
       "array([  136.      ,    35.362555,   138.739261,  3434.59    ,\n",
       "       43821.      ])"
      ]
     },
     "execution_count": 4,
     "metadata": {},
     "output_type": "execute_result"
    }
   ],
   "source": [
    "# 136番目のデータを表示し、標高が3434.59mであることを確認\n",
    "fuji[136]"
   ]
  },
  {
   "cell_type": "code",
   "execution_count": 5,
   "metadata": {},
   "outputs": [
    {
     "data": {
      "image/png": "[encoded data removed]",
      "text/plain": [
       "<Figure size 432x288 with 1 Axes>"
      ]
     },
     "metadata": {
      "needs_background": "light"
     },
     "output_type": "display_data"
    }
   ],
   "source": [
    "# テキストと矢印を表示\n",
    "plt.annotate('you',xy=(136, 3434.59),xytext=(100, 2500), arrowprops = {'arrowstyle':'->'})\n",
    "\n",
    "# 赤丸を表示\n",
    "plt.plot(136, 3434.59,'ro')\n",
    "\n",
    "# X軸の名前を指定\n",
    "plt.xlabel('x')\n",
    "\n",
    "# Y軸の名前を指定\n",
    "plt.ylabel('elevation[m]')\n",
    "\n",
    "# グラフのタイトルを指定\n",
    "plt.title('Mt.Fuji')\n",
    "\n",
    "# グラフを表示\n",
    "plt.plot(fuji[:,0],fuji[:,3]);"
   ]
  },
  {
   "cell_type": "markdown",
   "metadata": {},
   "source": [
    "## 【問題2】勾配の計算の関数"
   ]
  },
  {
   "cell_type": "markdown",
   "metadata": {},
   "source": [
    "### 勾配を求める関数→$y$の変化量/$x$の変化量"
   ]
  },
  {
   "cell_type": "code",
   "execution_count": 6,
   "metadata": {},
   "outputs": [],
   "source": [
    "'''\n",
    "現在の地点の勾配を計算\n",
    "\n",
    "Parameteres\n",
    "--------------\n",
    "current_point: int\n",
    "    現在の地点\n",
    "\n",
    "Returns\n",
    "--------------:\n",
    "変数なし:float\n",
    "    移動すべき地点\n",
    "'''    \n",
    "def compute_gradient(current_point):\n",
    "    \n",
    "    # データを読み出しnumpy配列fuji　に格納\n",
    "    fuji = np.loadtxt(\"week2_session_mtfuji_data.csv\",delimiter=\",\", skiprows=1)\n",
    "    \n",
    "    # 現在の地点を引数current_pointを変数xに格納\n",
    "    x = current_point\n",
    "    \n",
    "    # 勾配を計算\n",
    "    return (fuji[x - 1][3] - fuji[x][3])/ ((x - 1) - x)"
   ]
  },
  {
   "cell_type": "markdown",
   "metadata": {},
   "source": [
    "### 初期値　x=136の時の勾配"
   ]
  },
  {
   "cell_type": "code",
   "execution_count": 7,
   "metadata": {},
   "outputs": [
    {
     "data": {
      "text/plain": [
       "168.35000000000036"
      ]
     },
     "execution_count": 7,
     "metadata": {},
     "output_type": "execute_result"
    }
   ],
   "source": [
    "compute_gradient(136)"
   ]
  },
  {
   "cell_type": "markdown",
   "metadata": {},
   "source": [
    "### 検算"
   ]
  },
  {
   "cell_type": "code",
   "execution_count": 8,
   "metadata": {},
   "outputs": [
    {
     "data": {
      "text/plain": [
       "168.35000000000036"
      ]
     },
     "execution_count": 8,
     "metadata": {},
     "output_type": "execute_result"
    }
   ],
   "source": [
    "(fuji[135][3] - fuji[136][3]) / (135 - 136)"
   ]
  },
  {
   "cell_type": "markdown",
   "metadata": {},
   "source": [
    "## 【問題3】勾配降下法の関数を作成"
   ]
  },
  {
   "cell_type": "markdown",
   "metadata": {},
   "source": [
    "授業前課題では説明までとした勾配降下法ですが、これを行う関数を作成してください。\n",
    "\n",
    "数式で表すと 「移動すべき地点 = 今いる地点 - \n",
    "α\n",
    " ×今いる地点の勾配」 となります。\n",
    "\n",
    "この関数を使い、あなたが今いるxが136の地点（標高3434.59[m]）から、山を下っていきましょう。移動毎の標高はリストに記録し、その過程を可視化してください。断面図を目視したり、読み込んだ数値を確認して分かることと比べてどうなっているでしょうか。\n",
    "\n",
    "- 実装上の注意\n",
    " - 移動すべき地点は基本的には小数となりますが、勾配の情報は整数値の場所でしか得られません。そのため、四捨五入により整数値に変換する必要があります。\n",
    "\n",
    "\n",
    "- 可視化のヒント\n",
    " - 断面図の中に点を表示したり、繰り返し毎の標高や勾配を折れ線グラフで見てみることができます。\n",
    "\n",
    "\n",
    "- αの補足\n",
    " - αは0より大きい任意の値をとるハイパーパラメータです。機械学習の分野では学習率という名前で呼ばれます。この値によって下り方が変わりますから、関数の引数にしてください。複数試し、うまく下りられる αの値を見つけましょう。\n",
    "\n",
    "- 初期値の補足\n",
    " - 最初に居たx=136の地点のことを初期値と呼びます。この初期値によってどこに下っていくかが変わりますから、これも関数の引数にしてください。"
   ]
  },
  {
   "cell_type": "markdown",
   "metadata": {},
   "source": [
    "### ハイパーパラメータの設定"
   ]
  },
  {
   "cell_type": "code",
   "execution_count": 9,
   "metadata": {},
   "outputs": [],
   "source": [
    "ALPHA = 0.1"
   ]
  },
  {
   "cell_type": "markdown",
   "metadata": {},
   "source": [
    "### 移動すべき地点を求める関数 compute_next_pointを定義"
   ]
  },
  {
   "cell_type": "code",
   "execution_count": 10,
   "metadata": {},
   "outputs": [],
   "source": [
    "'''\n",
    "Parameteres\n",
    "--------------\n",
    "current_point: int\n",
    "    現在の地点\n",
    "alpha : float\n",
    "    ハイパーパラメータ\n",
    "\n",
    "Returns\n",
    "--------------\n",
    "next_point:int\n",
    "    移動すべき地点\n",
    "'''    \n",
    "def compute_next_point(current_point, alpha):\n",
    "    \n",
    "    # 現在の地点を変数 x に格納\n",
    "    x = current_point\n",
    "    \n",
    "    # 勾配を計算\n",
    "    gradient = compute_gradient(x)\n",
    "    \n",
    "    # 次の地点　next_point　を計算 ※indexとして使用する為、int型に変換する\n",
    "    next_point = int(x - ( alpha * gradient))\n",
    "    \n",
    "    return next_point"
   ]
  },
  {
   "cell_type": "markdown",
   "metadata": {},
   "source": [
    "### 初期値　x=136でハイパーパラメータ0.1の時の地点"
   ]
  },
  {
   "cell_type": "code",
   "execution_count": 11,
   "metadata": {},
   "outputs": [
    {
     "data": {
      "text/plain": [
       "119"
      ]
     },
     "execution_count": 11,
     "metadata": {},
     "output_type": "execute_result"
    }
   ],
   "source": [
    "compute_next_point(136, ALPHA)"
   ]
  },
  {
   "cell_type": "markdown",
   "metadata": {},
   "source": [
    "### 検算"
   ]
  },
  {
   "cell_type": "code",
   "execution_count": 12,
   "metadata": {},
   "outputs": [
    {
     "data": {
      "text/plain": [
       "119"
      ]
     },
     "execution_count": 12,
     "metadata": {},
     "output_type": "execute_result"
    }
   ],
   "source": [
    "int(136 - ALPHA * compute_gradient(136))"
   ]
  },
  {
   "cell_type": "markdown",
   "metadata": {},
   "source": [
    "### Xが136の地点（標高3434.59[m]）から山を下り、移動毎の標高をリストに記録し可視化する。"
   ]
  },
  {
   "cell_type": "markdown",
   "metadata": {},
   "source": [
    "#### 変数設定"
   ]
  },
  {
   "cell_type": "code",
   "execution_count": 13,
   "metadata": {},
   "outputs": [],
   "source": [
    "# 移動毎の標高を記録するリスト elevation_list\n",
    "elevation_list = []\n",
    "\n",
    "# 最初の地点initial_point1(Xの初期値)\n",
    "initial_point = 136\n",
    "\n",
    "# 最初の地点の勾配　initial_gradient\n",
    "# numpy配列は0スタートの為、プラス1をする\n",
    "initial_gradient = compute_gradient(initial_point)\n",
    "\n",
    "# 移動すべき地点 next_point (初期値: 最初の地点) \n",
    "next_point = initial_point\n",
    "\n",
    "append_list = [initial_point , fuji[initial_point][3],\n",
    "                          initial_gradient, ALPHA]\n",
    "\n",
    "# elevation_listに、「移動すべき地点・移動すべき地点の標高・現状の勾配」を格納\n",
    "elevation_list.append(append_list)\n",
    "\n",
    "# 最大繰り返し回数\n",
    "max_number_of_repetitions = 1000"
   ]
  },
  {
   "cell_type": "markdown",
   "metadata": {},
   "source": [
    "#### 処理部"
   ]
  },
  {
   "cell_type": "code",
   "execution_count": 14,
   "metadata": {},
   "outputs": [],
   "source": [
    "# 最大繰り返し回数まで繰り返す\n",
    "for _ in range(max_number_of_repetitions):\n",
    "    \n",
    "    # 関数compute_gradientで勾配の計算\n",
    "    now_gradient = compute_gradient(next_point)\n",
    "    \n",
    "    # 変化量　を計算\n",
    "    conversion_quantity = ALPHA * now_gradient\n",
    "    \n",
    "    # 関数compute_next_pointで移動すべき地点を計算し、next_pointを更新\n",
    "    next_point = compute_next_point(next_point,ALPHA)\n",
    "    \n",
    "    # elevation_listに格納するデータをリスト形式にまとめる\n",
    "    append_list = [next_point , fuji[next_point][3], now_gradient, ALPHA]\n",
    "    \n",
    "    # elevation_listに、「移動すべき地点・移動すべき地点の標高・現状の勾配」を格納\n",
    "    elevation_list.append(append_list)\n",
    "    \n",
    "    if initial_gradient > 0:\n",
    "        # Yes→各地点の勾配がマイナスになればbreak\n",
    "        if now_gradient < 0:\n",
    "            break\n",
    "            \n",
    "       # No→各地点の勾配がプラスになればbreak       \n",
    "    elif now_gradient > 0:\n",
    "        break"
   ]
  },
  {
   "cell_type": "markdown",
   "metadata": {},
   "source": [
    "#### 結果を表示"
   ]
  },
  {
   "cell_type": "code",
   "execution_count": 15,
   "metadata": {},
   "outputs": [
    {
     "data": {
      "text/html": [
       "<div>\n",
       "<style scoped>\n",
       "    .dataframe tbody tr th:only-of-type {\n",
       "        vertical-align: middle;\n",
       "    }\n",
       "\n",
       "    .dataframe tbody tr th {\n",
       "        vertical-align: top;\n",
       "    }\n",
       "\n",
       "    .dataframe thead th {\n",
       "        text-align: right;\n",
       "    }\n",
       "</style>\n",
       "<table border=\"1\" class=\"dataframe\">\n",
       "  <thead>\n",
       "    <tr style=\"text-align: right;\">\n",
       "      <th></th>\n",
       "      <th>point</th>\n",
       "      <th>elevation</th>\n",
       "      <th>gradient</th>\n",
       "      <th>ALPHA</th>\n",
       "    </tr>\n",
       "  </thead>\n",
       "  <tbody>\n",
       "    <tr>\n",
       "      <th>0</th>\n",
       "      <td>136</td>\n",
       "      <td>3434.59</td>\n",
       "      <td>168.35</td>\n",
       "      <td>0.1</td>\n",
       "    </tr>\n",
       "    <tr>\n",
       "      <th>1</th>\n",
       "      <td>119</td>\n",
       "      <td>1561.94</td>\n",
       "      <td>168.35</td>\n",
       "      <td>0.1</td>\n",
       "    </tr>\n",
       "    <tr>\n",
       "      <th>2</th>\n",
       "      <td>113</td>\n",
       "      <td>1219.86</td>\n",
       "      <td>55.28</td>\n",
       "      <td>0.1</td>\n",
       "    </tr>\n",
       "    <tr>\n",
       "      <th>3</th>\n",
       "      <td>107</td>\n",
       "      <td>973.32</td>\n",
       "      <td>53.28</td>\n",
       "      <td>0.1</td>\n",
       "    </tr>\n",
       "    <tr>\n",
       "      <th>4</th>\n",
       "      <td>102</td>\n",
       "      <td>817.62</td>\n",
       "      <td>40.58</td>\n",
       "      <td>0.1</td>\n",
       "    </tr>\n",
       "    <tr>\n",
       "      <th>5</th>\n",
       "      <td>99</td>\n",
       "      <td>753.68</td>\n",
       "      <td>22.37</td>\n",
       "      <td>0.1</td>\n",
       "    </tr>\n",
       "    <tr>\n",
       "      <th>6</th>\n",
       "      <td>97</td>\n",
       "      <td>725.72</td>\n",
       "      <td>12.51</td>\n",
       "      <td>0.1</td>\n",
       "    </tr>\n",
       "    <tr>\n",
       "      <th>7</th>\n",
       "      <td>94</td>\n",
       "      <td>660.43</td>\n",
       "      <td>25.57</td>\n",
       "      <td>0.1</td>\n",
       "    </tr>\n",
       "    <tr>\n",
       "      <th>8</th>\n",
       "      <td>91</td>\n",
       "      <td>602.36</td>\n",
       "      <td>28.72</td>\n",
       "      <td>0.1</td>\n",
       "    </tr>\n",
       "    <tr>\n",
       "      <th>9</th>\n",
       "      <td>89</td>\n",
       "      <td>575.07</td>\n",
       "      <td>13.37</td>\n",
       "      <td>0.1</td>\n",
       "    </tr>\n",
       "    <tr>\n",
       "      <th>10</th>\n",
       "      <td>86</td>\n",
       "      <td>519.54</td>\n",
       "      <td>21.43</td>\n",
       "      <td>0.1</td>\n",
       "    </tr>\n",
       "    <tr>\n",
       "      <th>11</th>\n",
       "      <td>84</td>\n",
       "      <td>488.40</td>\n",
       "      <td>14.44</td>\n",
       "      <td>0.1</td>\n",
       "    </tr>\n",
       "    <tr>\n",
       "      <th>12</th>\n",
       "      <td>82</td>\n",
       "      <td>458.66</td>\n",
       "      <td>16.58</td>\n",
       "      <td>0.1</td>\n",
       "    </tr>\n",
       "    <tr>\n",
       "      <th>13</th>\n",
       "      <td>80</td>\n",
       "      <td>420.60</td>\n",
       "      <td>15.66</td>\n",
       "      <td>0.1</td>\n",
       "    </tr>\n",
       "    <tr>\n",
       "      <th>14</th>\n",
       "      <td>79</td>\n",
       "      <td>418.41</td>\n",
       "      <td>2.19</td>\n",
       "      <td>0.1</td>\n",
       "    </tr>\n",
       "    <tr>\n",
       "      <th>15</th>\n",
       "      <td>76</td>\n",
       "      <td>377.62</td>\n",
       "      <td>28.27</td>\n",
       "      <td>0.1</td>\n",
       "    </tr>\n",
       "    <tr>\n",
       "      <th>16</th>\n",
       "      <td>75</td>\n",
       "      <td>371.19</td>\n",
       "      <td>6.43</td>\n",
       "      <td>0.1</td>\n",
       "    </tr>\n",
       "    <tr>\n",
       "      <th>17</th>\n",
       "      <td>74</td>\n",
       "      <td>371.04</td>\n",
       "      <td>0.15</td>\n",
       "      <td>0.1</td>\n",
       "    </tr>\n",
       "    <tr>\n",
       "      <th>18</th>\n",
       "      <td>73</td>\n",
       "      <td>368.91</td>\n",
       "      <td>2.13</td>\n",
       "      <td>0.1</td>\n",
       "    </tr>\n",
       "    <tr>\n",
       "      <th>19</th>\n",
       "      <td>71</td>\n",
       "      <td>362.29</td>\n",
       "      <td>13.23</td>\n",
       "      <td>0.1</td>\n",
       "    </tr>\n",
       "    <tr>\n",
       "      <th>20</th>\n",
       "      <td>75</td>\n",
       "      <td>371.19</td>\n",
       "      <td>-49.98</td>\n",
       "      <td>0.1</td>\n",
       "    </tr>\n",
       "  </tbody>\n",
       "</table>\n",
       "</div>"
      ],
      "text/plain": [
       "    point  elevation  gradient  ALPHA\n",
       "0     136    3434.59    168.35    0.1\n",
       "1     119    1561.94    168.35    0.1\n",
       "2     113    1219.86     55.28    0.1\n",
       "3     107     973.32     53.28    0.1\n",
       "4     102     817.62     40.58    0.1\n",
       "5      99     753.68     22.37    0.1\n",
       "6      97     725.72     12.51    0.1\n",
       "7      94     660.43     25.57    0.1\n",
       "8      91     602.36     28.72    0.1\n",
       "9      89     575.07     13.37    0.1\n",
       "10     86     519.54     21.43    0.1\n",
       "11     84     488.40     14.44    0.1\n",
       "12     82     458.66     16.58    0.1\n",
       "13     80     420.60     15.66    0.1\n",
       "14     79     418.41      2.19    0.1\n",
       "15     76     377.62     28.27    0.1\n",
       "16     75     371.19      6.43    0.1\n",
       "17     74     371.04      0.15    0.1\n",
       "18     73     368.91      2.13    0.1\n",
       "19     71     362.29     13.23    0.1\n",
       "20     75     371.19    -49.98    0.1"
      ]
     },
     "execution_count": 15,
     "metadata": {},
     "output_type": "execute_result"
    }
   ],
   "source": [
    "# elevation_list をデータフレームで表示 \n",
    "df1 = pd.DataFrame(elevation_list, columns=['point','elevation', 'gradient', 'ALPHA'])\n",
    "df1"
   ]
  },
  {
   "cell_type": "code",
   "execution_count": 16,
   "metadata": {},
   "outputs": [
    {
     "data": {
      "image/png": "[encoded data removed]",
      "text/plain": [
       "<Figure size 432x288 with 2 Axes>"
      ]
     },
     "metadata": {
      "needs_background": "light"
     },
     "output_type": "display_data"
    }
   ],
   "source": [
    "# サブプロット間の余白を設定(上下の余白をデフォルトの0.2から0.8へ変更)\n",
    "plt.subplots_adjust(hspace=0.8)\n",
    "\n",
    "# サブプロットを２個作成し、勾配(gradient)と標高(elevation)の変化を折れ線グラフで表示\n",
    "plt.subplot(2, 1, 1)\n",
    "plt.plot(df1['gradient'])\n",
    "plt.ylabel('gradient')\n",
    "plt.title('gradient_change')\n",
    "\n",
    "plt.subplot(2, 1, 2)\n",
    "plt.plot(df1['elevation'])\n",
    "plt.xlabel('Number_of_moves')\n",
    "plt.ylabel('elevation')\n",
    "plt.title('elevation_change');"
   ]
  },
  {
   "cell_type": "markdown",
   "metadata": {},
   "source": [
    "## 【問題4】初期値の変更"
   ]
  },
  {
   "cell_type": "markdown",
   "metadata": {},
   "source": [
    "ここまでの問題では最初のxを136としましたが、xの初期値を変更すると結果が変化します。特にxを139より大きい値にすると、富士山の反対側の斜面を下りていくことになります。\n",
    "\n",
    "そういった初期値を設定した上で、移動毎の標高はリストに記録し、その過程を可視化してください。"
   ]
  },
  {
   "cell_type": "markdown",
   "metadata": {},
   "source": [
    "#### ハイパーパラメータの設定"
   ]
  },
  {
   "cell_type": "code",
   "execution_count": 17,
   "metadata": {},
   "outputs": [],
   "source": [
    "ALPHA = 0.3"
   ]
  },
  {
   "cell_type": "markdown",
   "metadata": {},
   "source": [
    "#### 変数設定"
   ]
  },
  {
   "cell_type": "code",
   "execution_count": 18,
   "metadata": {},
   "outputs": [],
   "source": [
    "# 移動毎の標高を記録するリスト elevation_list\n",
    "elevation_list = []\n",
    "\n",
    "# 最初の地点initial_point1(Xの初期値)\n",
    "initial_point = 139\n",
    "\n",
    "# 最初の地点の勾配　initial_gradient\n",
    "# numpy配列は0スタートの為、プラス1をする\n",
    "initial_gradient = compute_gradient(initial_point)\n",
    "\n",
    "# 移動すべき地点 next_point (初期値: 最初の地点) \n",
    "next_point = initial_point\n",
    "\n",
    "# 各地点の勾配(初期値: 10)\n",
    "#now_gradient = compute_gradient(initial_point)\n",
    "\n",
    "append_list = [initial_point , fuji[initial_point][3],\n",
    "                          initial_gradient, ALPHA]\n",
    "\n",
    "# elevation_listに、「移動すべき地点・移動すべき地点の標高・現状の勾配」を格納\n",
    "elevation_list.append(append_list)\n",
    "\n",
    "# 最大繰り返し回数\n",
    "max_number_of_repetitions = 1000"
   ]
  },
  {
   "cell_type": "markdown",
   "metadata": {},
   "source": [
    "#### 処理部"
   ]
  },
  {
   "cell_type": "code",
   "execution_count": 19,
   "metadata": {},
   "outputs": [],
   "source": [
    "# 最大繰り返し回数まで繰り返す\n",
    "for _ in range(max_number_of_repetitions):\n",
    "    \n",
    "    # 関数compute_gradientで勾配の計算\n",
    "    now_gradient = compute_gradient(next_point)\n",
    "    \n",
    "    # 変化量　を計算\n",
    "    conversion_quantity = ALPHA * now_gradient\n",
    "    \n",
    "    # 関数compute_next_pointで移動すべき地点を計算し、next_pointを更新\n",
    "    next_point = compute_next_point(next_point, ALPHA)\n",
    "    \n",
    "    append_list = [next_point , fuji[next_point][3], now_gradient, ALPHA]\n",
    "    \n",
    "    \n",
    "    # elevation_listに、「移動すべき地点・移動すべき地点の標高・現状の勾配」を格納\n",
    "    elevation_list.append(append_list)\n",
    "    \n",
    "    if initial_gradient > 0:\n",
    "        # Yes→各地点の勾配がマイナスになればbreak\n",
    "        if now_gradient < 0:\n",
    "            break\n",
    "            \n",
    "       # No→各地点の勾配がプラスになればbreak       \n",
    "    elif now_gradient > 0:\n",
    "        break"
   ]
  },
  {
   "cell_type": "markdown",
   "metadata": {},
   "source": [
    "#### 結果を表示"
   ]
  },
  {
   "cell_type": "code",
   "execution_count": 20,
   "metadata": {},
   "outputs": [
    {
     "data": {
      "text/html": [
       "<div>\n",
       "<style scoped>\n",
       "    .dataframe tbody tr th:only-of-type {\n",
       "        vertical-align: middle;\n",
       "    }\n",
       "\n",
       "    .dataframe tbody tr th {\n",
       "        vertical-align: top;\n",
       "    }\n",
       "\n",
       "    .dataframe thead th {\n",
       "        text-align: right;\n",
       "    }\n",
       "</style>\n",
       "<table border=\"1\" class=\"dataframe\">\n",
       "  <thead>\n",
       "    <tr style=\"text-align: right;\">\n",
       "      <th></th>\n",
       "      <th>point</th>\n",
       "      <th>elevation</th>\n",
       "      <th>gradient</th>\n",
       "      <th>ALPHA</th>\n",
       "    </tr>\n",
       "  </thead>\n",
       "  <tbody>\n",
       "    <tr>\n",
       "      <th>0</th>\n",
       "      <td>139</td>\n",
       "      <td>3664.90</td>\n",
       "      <td>-15.06</td>\n",
       "      <td>0.3</td>\n",
       "    </tr>\n",
       "    <tr>\n",
       "      <th>1</th>\n",
       "      <td>143</td>\n",
       "      <td>3019.80</td>\n",
       "      <td>-15.06</td>\n",
       "      <td>0.3</td>\n",
       "    </tr>\n",
       "    <tr>\n",
       "      <th>2</th>\n",
       "      <td>188</td>\n",
       "      <td>1351.64</td>\n",
       "      <td>-151.73</td>\n",
       "      <td>0.3</td>\n",
       "    </tr>\n",
       "    <tr>\n",
       "      <th>3</th>\n",
       "      <td>178</td>\n",
       "      <td>1033.52</td>\n",
       "      <td>30.44</td>\n",
       "      <td>0.3</td>\n",
       "    </tr>\n",
       "  </tbody>\n",
       "</table>\n",
       "</div>"
      ],
      "text/plain": [
       "   point  elevation  gradient  ALPHA\n",
       "0    139    3664.90    -15.06    0.3\n",
       "1    143    3019.80    -15.06    0.3\n",
       "2    188    1351.64   -151.73    0.3\n",
       "3    178    1033.52     30.44    0.3"
      ]
     },
     "execution_count": 20,
     "metadata": {},
     "output_type": "execute_result"
    }
   ],
   "source": [
    "# elevation_list をデータフレームで表示 \n",
    "df2 = pd.DataFrame(elevation_list, columns=['point','elevation', 'gradient', 'ALPHA'])\n",
    "df2"
   ]
  },
  {
   "cell_type": "code",
   "execution_count": 21,
   "metadata": {},
   "outputs": [
    {
     "data": {
      "image/png": "[encoded data removed]",
      "text/plain": [
       "<Figure size 432x288 with 2 Axes>"
      ]
     },
     "metadata": {
      "needs_background": "light"
     },
     "output_type": "display_data"
    }
   ],
   "source": [
    "# サブプロット間の余白を設定(上下の余白をデフォルトの0.2から0.8へ変更)\n",
    "plt.subplots_adjust(hspace=0.8)\n",
    "\n",
    "# サブプロットを２個作成し、勾配(gradient)と標高(elevation)の変化を折れ線グラフで表示\n",
    "plt.subplot(2, 1, 1)\n",
    "plt.plot(df2['gradient'])\n",
    "plt.ylabel('gradient')\n",
    "plt.title('gradient_change')\n",
    "\n",
    "plt.subplot(2, 1, 2)\n",
    "plt.plot(df2['elevation'])\n",
    "plt.xlabel('Number_of_moves')\n",
    "plt.ylabel('elevation')\n",
    "plt.title('elevation_change');"
   ]
  },
  {
   "cell_type": "markdown",
   "metadata": {},
   "source": [
    "# 【問題5】（アドバンス課題）並列計算\n",
    "\n",
    "初期値によって結果が変化するわけですから、0から299まで全ての初期値の計算を行ってみるということを考えられます。\n",
    "\n",
    "for文を使い繰り返すこともできますが、NumPyの配列を工夫して使うことで複数の計算を同時に行うことができます。ここまで作成した関数を複数の初期値が同時に計算できるように改良してください。\n",
    "\n",
    "この改良は次のハイパーパラメータの検証にも応用することができます。\n",
    "\n",
    "- ヒント\n",
    "\n",
    "    NumPyは配列間で四則演算などの操作が可能です。以下のサンプルコードの3行目と4行目の挙動を参考にしてください。特に4行目の計算はブロードキャストと呼ばれるNumPy独特の機能であるため、各自でも調査してください。\n",
    "    \n",
    ">array1 = np.ones(300)\n",
    ">\n",
    ">array2 = np.arange(300)\n",
    ">\n",
    ">array3 = array1*array2\n",
    ">\n",
    ">array4 = array3 + 1 # ブロードキャスト"
   ]
  },
  {
   "cell_type": "markdown",
   "metadata": {},
   "source": [
    "## 勾配を計算する関数を同時に複数の計算が可能なように改良する"
   ]
  },
  {
   "cell_type": "markdown",
   "metadata": {},
   "source": [
    "### 関数定義"
   ]
  },
  {
   "cell_type": "code",
   "execution_count": 22,
   "metadata": {},
   "outputs": [],
   "source": [
    "'''\n",
    "勾配を計算する(numpy配列対応版)\n",
    "\n",
    "Parameteres\n",
    "--------------\n",
    "point_arr: numpy配列　データ型：int\n",
    "    初期地のnumpy配列\n",
    "\n",
    "Returns\n",
    "--------------\n",
    "gradient_arr: numpy配列　データ型：float\n",
    "    今いる地点の勾配\n",
    "'''    \n",
    "\n",
    "def compute_gradient_arr(point_arr):\n",
    "    \n",
    "    # 勾配を格納するnumpy配列を作成\n",
    "    gradient_arr = np.array([])\n",
    "    \n",
    "    # point_arr の中の値をひとつずつとりだす\n",
    "    for point in point_arr:\n",
    "        \n",
    "        # point が　0 か判別\n",
    "        if point == 0:\n",
    "            \n",
    "            # Yes → gradient を 0 とする\n",
    "            gradient = 0\n",
    "            \n",
    "        else:\n",
    "            \n",
    "            # No →　勾配を計算\n",
    "            gradient = compute_gradient(point)\n",
    "         \n",
    "        # gradient_arrの末尾に格納\n",
    "        gradient_arr = np.append(gradient_arr, np.array([gradient]))\n",
    "    \n",
    "    # gradient_arr を返す\n",
    "    return gradient_arr"
   ]
  },
  {
   "cell_type": "code",
   "execution_count": 23,
   "metadata": {},
   "outputs": [
    {
     "data": {
      "text/plain": [
       "array([168.35])"
      ]
     },
     "execution_count": 23,
     "metadata": {},
     "output_type": "execute_result"
    }
   ],
   "source": [
    "# 136の地点の勾配\n",
    "compute_gradient_arr([136])"
   ]
  },
  {
   "cell_type": "code",
   "execution_count": 24,
   "metadata": {},
   "outputs": [
    {
     "data": {
      "text/plain": [
       "array([0.])"
      ]
     },
     "execution_count": 24,
     "metadata": {},
     "output_type": "execute_result"
    }
   ],
   "source": [
    "# 0の地点の勾配\n",
    "compute_gradient_arr([0])"
   ]
  },
  {
   "cell_type": "code",
   "execution_count": 25,
   "metadata": {},
   "outputs": [
    {
     "data": {
      "text/plain": [
       "array([178.43, 168.35])"
      ]
     },
     "execution_count": 25,
     "metadata": {},
     "output_type": "execute_result"
    }
   ],
   "source": [
    "# 135,136の地点の勾配\n",
    "compute_gradient_arr([135,136])"
   ]
  },
  {
   "cell_type": "markdown",
   "metadata": {},
   "source": [
    "#### 検算"
   ]
  },
  {
   "cell_type": "code",
   "execution_count": 26,
   "metadata": {},
   "outputs": [
    {
     "data": {
      "text/plain": [
       "168.35000000000036"
      ]
     },
     "execution_count": 26,
     "metadata": {},
     "output_type": "execute_result"
    }
   ],
   "source": [
    "(fuji[136 - 1][3] - fuji[136][3])/ (135 - 136)"
   ]
  },
  {
   "cell_type": "markdown",
   "metadata": {},
   "source": [
    "## 次の地点を計算する関数を同時に複数の計算が可能なように改良する"
   ]
  },
  {
   "cell_type": "code",
   "execution_count": 27,
   "metadata": {},
   "outputs": [],
   "source": [
    "'''\n",
    "Parameteres\n",
    "--------------\n",
    "current_point_arr: int\n",
    "    現在の地点\n",
    "\n",
    "Returns\n",
    "--------------\n",
    "next_point:int\n",
    "    移動すべき地点\n",
    "'''    \n",
    "def compute_next_point_arr(point_arr):\n",
    "    \n",
    "    # 勾配を格納するnumpy配列を作成\n",
    "    gradient_arr = np.array([])\n",
    "    \n",
    "    # 次の地点を格納するnumpy配列を作成\n",
    "    next_point_arr = np.array([])\n",
    "    \n",
    "    # 勾配を格納\n",
    "    gradient_arr = compute_gradient_arr(point_arr)\n",
    "    \n",
    "    # 次の地点　next_point　を計算 ※indexとして使用する為、int型に変換する\n",
    "    for i in range(len(point_arr)):\n",
    "        \n",
    "        # 次の地点を計算\n",
    "        next_point = int(point_arr[i] - (ALPHA * gradient_arr[i]))\n",
    "        \n",
    "        # next_point_arr　の末尾に次の地点を格納\n",
    "        next_point_arr = np.append(next_point_arr, next_point)\n",
    "    \n",
    "    # 次の地点が格納された next_point_arr を返す\n",
    "    return next_point_arr"
   ]
  },
  {
   "cell_type": "code",
   "execution_count": 28,
   "metadata": {},
   "outputs": [
    {
     "data": {
      "text/plain": [
       "array([85.])"
      ]
     },
     "execution_count": 28,
     "metadata": {},
     "output_type": "execute_result"
    }
   ],
   "source": [
    "compute_next_point_arr([136])"
   ]
  },
  {
   "cell_type": "markdown",
   "metadata": {},
   "source": [
    "#### 検算"
   ]
  },
  {
   "cell_type": "code",
   "execution_count": 29,
   "metadata": {},
   "outputs": [
    {
     "data": {
      "text/plain": [
       "85"
      ]
     },
     "execution_count": 29,
     "metadata": {},
     "output_type": "execute_result"
    }
   ],
   "source": [
    "int(136 - (ALPHA * compute_gradient(136)))"
   ]
  },
  {
   "cell_type": "markdown",
   "metadata": {},
   "source": [
    "# 【問題6】（アドバンス課題）ハイパーパラメータの検証\n",
    "勾配降下法の中で \n",
    "α\n",
    " はハイパーパラメータであり、前の問題でも複数試して良い結果が得られるものを探しました。これを発展させ、\n",
    "α\n",
    " を一定間隔で変化させていき、それぞれの山の下り方の比較を行ってください。うまい下り方となる \n",
    "α\n",
    " を見つけるだけではなく、大きかったり小さかった時にどうなるのかを検証して説明してください。\n",
    "\n",
    "ヒント\n",
    "\n",
    "検証のための一例として、横軸を \n",
    "α\n",
    " 、縦軸を一定回の繰り返し後のxや標高にした散布図を描いてみるという方法が考えられます。"
   ]
  },
  {
   "cell_type": "markdown",
   "metadata": {},
   "source": [
    "## 記載するプログラム行を少なくする為、勾配降下法の処理部を関数化する。"
   ]
  },
  {
   "cell_type": "code",
   "execution_count": 30,
   "metadata": {},
   "outputs": [],
   "source": [
    "'''\n",
    "Parameteres\n",
    "--------------\n",
    "initial_point: int\n",
    "    現在の地点\n",
    "    \n",
    "alpha:float\n",
    "    ハイパーパラメータ\n",
    "\n",
    "Returns\n",
    "--------------\n",
    "elevation_list:list\n",
    "    勾配降下法での標高の変化を格納したリスト\n",
    "    リストの内にリストを格納しており、「地点番号、標高、勾配、ハイパーパラメータ」をそれぞれ格納している。\n",
    "'''    \n",
    "\n",
    "def gradient_fall_method(initial_point, alpha):\n",
    "    \n",
    "    # 移動毎の標高を記録するリスト elevation_list\n",
    "    elevation_list = []\n",
    "    \n",
    "    # 最初の地点の勾配　initial_gradient\n",
    "    #numpy配列は0スタートの為、プラス1をする\n",
    "    initial_gradient = compute_gradient(initial_point)\n",
    "    \n",
    "    # 移動すべき地点 next_point (初期値: 最初の地点) \n",
    "    next_point = initial_point\n",
    "    \n",
    "    # 各地点の勾配(初期値: 10)\n",
    "    #now_gradient = compute_gradient(initial_point)\n",
    "    append_list = [initial_point , fuji[initial_point][3],\n",
    "                              initial_gradient, alpha]\n",
    "    \n",
    "    # elevation_listに、「移動すべき地点・移動すべき地点の標高・現状の勾配」を格納\n",
    "    elevation_list.append(append_list)\n",
    "    \n",
    "    # 最大繰り返し回数\n",
    "    max_number_of_repetitions = 1000\n",
    "    \n",
    "    # 最大繰り返し回数まで繰り返す\n",
    "    for _ in range(max_number_of_repetitions):\n",
    "        \n",
    "        # 関数compute_gradientで勾配の計算\n",
    "        now_gradient = compute_gradient(next_point)\n",
    "        \n",
    "        # 関数compute_next_pointで移動すべき地点を計算し、next_pointを更新\n",
    "        next_point = compute_next_point(next_point, alpha)\n",
    "        \n",
    "        append_list = [next_point , fuji[next_point][3], now_gradient, alpha]\n",
    "        \n",
    "        # elevation_listに、「移動すべき地点・移動すべき地点の標高・現状の勾配」を格納\n",
    "        elevation_list.append(append_list)\n",
    "        \n",
    "        if initial_gradient > 0:\n",
    "            # Yes→各地点の勾配がマイナスになればbreak\n",
    "            if now_gradient < 0:\n",
    "                break\n",
    "            \n",
    "        # No→各地点の勾配がプラスになればbreak       \n",
    "        elif now_gradient > 0:\n",
    "            break\n",
    "    \n",
    "    return elevation_list"
   ]
  },
  {
   "cell_type": "markdown",
   "metadata": {},
   "source": [
    "## 136の地点からハイパーパラメータを0.1〜0.5まで変化させた際の勾配降下法での標高の変化を表示する→局所的最適解は地点71の362.29m"
   ]
  },
  {
   "cell_type": "markdown",
   "metadata": {},
   "source": [
    "### α = 0.1"
   ]
  },
  {
   "cell_type": "code",
   "execution_count": 31,
   "metadata": {},
   "outputs": [
    {
     "data": {
      "text/html": [
       "<div>\n",
       "<style scoped>\n",
       "    .dataframe tbody tr th:only-of-type {\n",
       "        vertical-align: middle;\n",
       "    }\n",
       "\n",
       "    .dataframe tbody tr th {\n",
       "        vertical-align: top;\n",
       "    }\n",
       "\n",
       "    .dataframe thead th {\n",
       "        text-align: right;\n",
       "    }\n",
       "</style>\n",
       "<table border=\"1\" class=\"dataframe\">\n",
       "  <thead>\n",
       "    <tr style=\"text-align: right;\">\n",
       "      <th></th>\n",
       "      <th>position</th>\n",
       "      <th>elevation</th>\n",
       "      <th>graditent</th>\n",
       "      <th>ALPHA</th>\n",
       "    </tr>\n",
       "  </thead>\n",
       "  <tbody>\n",
       "    <tr>\n",
       "      <th>0</th>\n",
       "      <td>136</td>\n",
       "      <td>3434.59</td>\n",
       "      <td>168.35</td>\n",
       "      <td>0.1</td>\n",
       "    </tr>\n",
       "    <tr>\n",
       "      <th>1</th>\n",
       "      <td>119</td>\n",
       "      <td>1561.94</td>\n",
       "      <td>168.35</td>\n",
       "      <td>0.1</td>\n",
       "    </tr>\n",
       "    <tr>\n",
       "      <th>2</th>\n",
       "      <td>113</td>\n",
       "      <td>1219.86</td>\n",
       "      <td>55.28</td>\n",
       "      <td>0.1</td>\n",
       "    </tr>\n",
       "    <tr>\n",
       "      <th>3</th>\n",
       "      <td>107</td>\n",
       "      <td>973.32</td>\n",
       "      <td>53.28</td>\n",
       "      <td>0.1</td>\n",
       "    </tr>\n",
       "    <tr>\n",
       "      <th>4</th>\n",
       "      <td>102</td>\n",
       "      <td>817.62</td>\n",
       "      <td>40.58</td>\n",
       "      <td>0.1</td>\n",
       "    </tr>\n",
       "    <tr>\n",
       "      <th>5</th>\n",
       "      <td>99</td>\n",
       "      <td>753.68</td>\n",
       "      <td>22.37</td>\n",
       "      <td>0.1</td>\n",
       "    </tr>\n",
       "    <tr>\n",
       "      <th>6</th>\n",
       "      <td>97</td>\n",
       "      <td>725.72</td>\n",
       "      <td>12.51</td>\n",
       "      <td>0.1</td>\n",
       "    </tr>\n",
       "    <tr>\n",
       "      <th>7</th>\n",
       "      <td>94</td>\n",
       "      <td>660.43</td>\n",
       "      <td>25.57</td>\n",
       "      <td>0.1</td>\n",
       "    </tr>\n",
       "    <tr>\n",
       "      <th>8</th>\n",
       "      <td>91</td>\n",
       "      <td>602.36</td>\n",
       "      <td>28.72</td>\n",
       "      <td>0.1</td>\n",
       "    </tr>\n",
       "    <tr>\n",
       "      <th>9</th>\n",
       "      <td>89</td>\n",
       "      <td>575.07</td>\n",
       "      <td>13.37</td>\n",
       "      <td>0.1</td>\n",
       "    </tr>\n",
       "    <tr>\n",
       "      <th>10</th>\n",
       "      <td>86</td>\n",
       "      <td>519.54</td>\n",
       "      <td>21.43</td>\n",
       "      <td>0.1</td>\n",
       "    </tr>\n",
       "    <tr>\n",
       "      <th>11</th>\n",
       "      <td>84</td>\n",
       "      <td>488.40</td>\n",
       "      <td>14.44</td>\n",
       "      <td>0.1</td>\n",
       "    </tr>\n",
       "    <tr>\n",
       "      <th>12</th>\n",
       "      <td>82</td>\n",
       "      <td>458.66</td>\n",
       "      <td>16.58</td>\n",
       "      <td>0.1</td>\n",
       "    </tr>\n",
       "    <tr>\n",
       "      <th>13</th>\n",
       "      <td>80</td>\n",
       "      <td>420.60</td>\n",
       "      <td>15.66</td>\n",
       "      <td>0.1</td>\n",
       "    </tr>\n",
       "    <tr>\n",
       "      <th>14</th>\n",
       "      <td>79</td>\n",
       "      <td>418.41</td>\n",
       "      <td>2.19</td>\n",
       "      <td>0.1</td>\n",
       "    </tr>\n",
       "    <tr>\n",
       "      <th>15</th>\n",
       "      <td>76</td>\n",
       "      <td>377.62</td>\n",
       "      <td>28.27</td>\n",
       "      <td>0.1</td>\n",
       "    </tr>\n",
       "    <tr>\n",
       "      <th>16</th>\n",
       "      <td>75</td>\n",
       "      <td>371.19</td>\n",
       "      <td>6.43</td>\n",
       "      <td>0.1</td>\n",
       "    </tr>\n",
       "    <tr>\n",
       "      <th>17</th>\n",
       "      <td>74</td>\n",
       "      <td>371.04</td>\n",
       "      <td>0.15</td>\n",
       "      <td>0.1</td>\n",
       "    </tr>\n",
       "    <tr>\n",
       "      <th>18</th>\n",
       "      <td>73</td>\n",
       "      <td>368.91</td>\n",
       "      <td>2.13</td>\n",
       "      <td>0.1</td>\n",
       "    </tr>\n",
       "    <tr>\n",
       "      <th>19</th>\n",
       "      <td>71</td>\n",
       "      <td>362.29</td>\n",
       "      <td>13.23</td>\n",
       "      <td>0.1</td>\n",
       "    </tr>\n",
       "    <tr>\n",
       "      <th>20</th>\n",
       "      <td>75</td>\n",
       "      <td>371.19</td>\n",
       "      <td>-49.98</td>\n",
       "      <td>0.1</td>\n",
       "    </tr>\n",
       "  </tbody>\n",
       "</table>\n",
       "</div>"
      ],
      "text/plain": [
       "    position  elevation  graditent  ALPHA\n",
       "0        136    3434.59     168.35    0.1\n",
       "1        119    1561.94     168.35    0.1\n",
       "2        113    1219.86      55.28    0.1\n",
       "3        107     973.32      53.28    0.1\n",
       "4        102     817.62      40.58    0.1\n",
       "5         99     753.68      22.37    0.1\n",
       "6         97     725.72      12.51    0.1\n",
       "7         94     660.43      25.57    0.1\n",
       "8         91     602.36      28.72    0.1\n",
       "9         89     575.07      13.37    0.1\n",
       "10        86     519.54      21.43    0.1\n",
       "11        84     488.40      14.44    0.1\n",
       "12        82     458.66      16.58    0.1\n",
       "13        80     420.60      15.66    0.1\n",
       "14        79     418.41       2.19    0.1\n",
       "15        76     377.62      28.27    0.1\n",
       "16        75     371.19       6.43    0.1\n",
       "17        74     371.04       0.15    0.1\n",
       "18        73     368.91       2.13    0.1\n",
       "19        71     362.29      13.23    0.1\n",
       "20        75     371.19     -49.98    0.1"
      ]
     },
     "execution_count": 31,
     "metadata": {},
     "output_type": "execute_result"
    }
   ],
   "source": [
    "a1_df = pd.DataFrame(gradient_fall_method(136,0.1), columns=['position', 'elevation', 'graditent', 'ALPHA'])\n",
    "a1_df"
   ]
  },
  {
   "cell_type": "code",
   "execution_count": 32,
   "metadata": {},
   "outputs": [
    {
     "data": {
      "text/plain": [
       "elevation    362.29\n",
       "dtype: float64"
      ]
     },
     "execution_count": 32,
     "metadata": {},
     "output_type": "execute_result"
    }
   ],
   "source": [
    "# a1の標高が最も小さい値\n",
    "a1_min = a1_df.loc[: , ['elevation']].min()\n",
    "a1_min"
   ]
  },
  {
   "cell_type": "markdown",
   "metadata": {},
   "source": [
    "### α=0.2"
   ]
  },
  {
   "cell_type": "code",
   "execution_count": 33,
   "metadata": {},
   "outputs": [
    {
     "data": {
      "text/html": [
       "<div>\n",
       "<style scoped>\n",
       "    .dataframe tbody tr th:only-of-type {\n",
       "        vertical-align: middle;\n",
       "    }\n",
       "\n",
       "    .dataframe tbody tr th {\n",
       "        vertical-align: top;\n",
       "    }\n",
       "\n",
       "    .dataframe thead th {\n",
       "        text-align: right;\n",
       "    }\n",
       "</style>\n",
       "<table border=\"1\" class=\"dataframe\">\n",
       "  <thead>\n",
       "    <tr style=\"text-align: right;\">\n",
       "      <th></th>\n",
       "      <th>position</th>\n",
       "      <th>elevation</th>\n",
       "      <th>graditent</th>\n",
       "      <th>ALPHA</th>\n",
       "    </tr>\n",
       "  </thead>\n",
       "  <tbody>\n",
       "    <tr>\n",
       "      <th>0</th>\n",
       "      <td>136</td>\n",
       "      <td>3434.59</td>\n",
       "      <td>168.35</td>\n",
       "      <td>0.2</td>\n",
       "    </tr>\n",
       "    <tr>\n",
       "      <th>1</th>\n",
       "      <td>102</td>\n",
       "      <td>817.62</td>\n",
       "      <td>168.35</td>\n",
       "      <td>0.2</td>\n",
       "    </tr>\n",
       "    <tr>\n",
       "      <th>2</th>\n",
       "      <td>97</td>\n",
       "      <td>725.72</td>\n",
       "      <td>22.37</td>\n",
       "      <td>0.2</td>\n",
       "    </tr>\n",
       "    <tr>\n",
       "      <th>3</th>\n",
       "      <td>91</td>\n",
       "      <td>602.36</td>\n",
       "      <td>25.57</td>\n",
       "      <td>0.2</td>\n",
       "    </tr>\n",
       "    <tr>\n",
       "      <th>4</th>\n",
       "      <td>88</td>\n",
       "      <td>553.64</td>\n",
       "      <td>13.37</td>\n",
       "      <td>0.2</td>\n",
       "    </tr>\n",
       "    <tr>\n",
       "      <th>5</th>\n",
       "      <td>84</td>\n",
       "      <td>488.40</td>\n",
       "      <td>17.10</td>\n",
       "      <td>0.2</td>\n",
       "    </tr>\n",
       "    <tr>\n",
       "      <th>6</th>\n",
       "      <td>80</td>\n",
       "      <td>420.60</td>\n",
       "      <td>16.58</td>\n",
       "      <td>0.2</td>\n",
       "    </tr>\n",
       "    <tr>\n",
       "      <th>7</th>\n",
       "      <td>79</td>\n",
       "      <td>418.41</td>\n",
       "      <td>2.19</td>\n",
       "      <td>0.2</td>\n",
       "    </tr>\n",
       "    <tr>\n",
       "      <th>8</th>\n",
       "      <td>73</td>\n",
       "      <td>368.91</td>\n",
       "      <td>28.27</td>\n",
       "      <td>0.2</td>\n",
       "    </tr>\n",
       "    <tr>\n",
       "      <th>9</th>\n",
       "      <td>70</td>\n",
       "      <td>412.27</td>\n",
       "      <td>13.23</td>\n",
       "      <td>0.2</td>\n",
       "    </tr>\n",
       "    <tr>\n",
       "      <th>10</th>\n",
       "      <td>78</td>\n",
       "      <td>390.14</td>\n",
       "      <td>-41.94</td>\n",
       "      <td>0.2</td>\n",
       "    </tr>\n",
       "  </tbody>\n",
       "</table>\n",
       "</div>"
      ],
      "text/plain": [
       "    position  elevation  graditent  ALPHA\n",
       "0        136    3434.59     168.35    0.2\n",
       "1        102     817.62     168.35    0.2\n",
       "2         97     725.72      22.37    0.2\n",
       "3         91     602.36      25.57    0.2\n",
       "4         88     553.64      13.37    0.2\n",
       "5         84     488.40      17.10    0.2\n",
       "6         80     420.60      16.58    0.2\n",
       "7         79     418.41       2.19    0.2\n",
       "8         73     368.91      28.27    0.2\n",
       "9         70     412.27      13.23    0.2\n",
       "10        78     390.14     -41.94    0.2"
      ]
     },
     "execution_count": 33,
     "metadata": {},
     "output_type": "execute_result"
    }
   ],
   "source": [
    "a2_df = pd.DataFrame(gradient_fall_method(136,0.2), columns=['position', 'elevation', 'graditent', 'ALPHA'])\n",
    "a2_df"
   ]
  },
  {
   "cell_type": "code",
   "execution_count": 34,
   "metadata": {},
   "outputs": [
    {
     "data": {
      "text/plain": [
       "elevation    368.91\n",
       "dtype: float64"
      ]
     },
     "execution_count": 34,
     "metadata": {},
     "output_type": "execute_result"
    }
   ],
   "source": [
    "# a1の標高が最も小さい値\n",
    "a2_min = a2_df.loc[: , ['elevation']].min()\n",
    "a2_min"
   ]
  },
  {
   "cell_type": "markdown",
   "metadata": {},
   "source": [
    "### α=0.3"
   ]
  },
  {
   "cell_type": "code",
   "execution_count": 35,
   "metadata": {},
   "outputs": [
    {
     "data": {
      "text/html": [
       "<div>\n",
       "<style scoped>\n",
       "    .dataframe tbody tr th:only-of-type {\n",
       "        vertical-align: middle;\n",
       "    }\n",
       "\n",
       "    .dataframe tbody tr th {\n",
       "        vertical-align: top;\n",
       "    }\n",
       "\n",
       "    .dataframe thead th {\n",
       "        text-align: right;\n",
       "    }\n",
       "</style>\n",
       "<table border=\"1\" class=\"dataframe\">\n",
       "  <thead>\n",
       "    <tr style=\"text-align: right;\">\n",
       "      <th></th>\n",
       "      <th>position</th>\n",
       "      <th>elevation</th>\n",
       "      <th>graditent</th>\n",
       "      <th>ALPHA</th>\n",
       "    </tr>\n",
       "  </thead>\n",
       "  <tbody>\n",
       "    <tr>\n",
       "      <th>0</th>\n",
       "      <td>136</td>\n",
       "      <td>3434.59</td>\n",
       "      <td>168.35</td>\n",
       "      <td>0.3</td>\n",
       "    </tr>\n",
       "    <tr>\n",
       "      <th>1</th>\n",
       "      <td>85</td>\n",
       "      <td>505.10</td>\n",
       "      <td>168.35</td>\n",
       "      <td>0.3</td>\n",
       "    </tr>\n",
       "    <tr>\n",
       "      <th>2</th>\n",
       "      <td>79</td>\n",
       "      <td>418.41</td>\n",
       "      <td>16.70</td>\n",
       "      <td>0.3</td>\n",
       "    </tr>\n",
       "    <tr>\n",
       "      <th>3</th>\n",
       "      <td>70</td>\n",
       "      <td>412.27</td>\n",
       "      <td>28.27</td>\n",
       "      <td>0.3</td>\n",
       "    </tr>\n",
       "    <tr>\n",
       "      <th>4</th>\n",
       "      <td>82</td>\n",
       "      <td>458.66</td>\n",
       "      <td>-41.94</td>\n",
       "      <td>0.3</td>\n",
       "    </tr>\n",
       "  </tbody>\n",
       "</table>\n",
       "</div>"
      ],
      "text/plain": [
       "   position  elevation  graditent  ALPHA\n",
       "0       136    3434.59     168.35    0.3\n",
       "1        85     505.10     168.35    0.3\n",
       "2        79     418.41      16.70    0.3\n",
       "3        70     412.27      28.27    0.3\n",
       "4        82     458.66     -41.94    0.3"
      ]
     },
     "execution_count": 35,
     "metadata": {},
     "output_type": "execute_result"
    }
   ],
   "source": [
    "a3_df = pd.DataFrame(gradient_fall_method(136,0.3), columns=['position', 'elevation', 'graditent', 'ALPHA'])\n",
    "a3_df"
   ]
  },
  {
   "cell_type": "code",
   "execution_count": 36,
   "metadata": {},
   "outputs": [
    {
     "data": {
      "text/plain": [
       "elevation    412.27\n",
       "dtype: float64"
      ]
     },
     "execution_count": 36,
     "metadata": {},
     "output_type": "execute_result"
    }
   ],
   "source": [
    "# a1の標高が最も小さい値\n",
    "a3_min = a3_df.loc[: , ['elevation']].min()\n",
    "a3_min"
   ]
  },
  {
   "cell_type": "markdown",
   "metadata": {},
   "source": [
    "### α=0.4"
   ]
  },
  {
   "cell_type": "code",
   "execution_count": 37,
   "metadata": {},
   "outputs": [
    {
     "data": {
      "text/html": [
       "<div>\n",
       "<style scoped>\n",
       "    .dataframe tbody tr th:only-of-type {\n",
       "        vertical-align: middle;\n",
       "    }\n",
       "\n",
       "    .dataframe tbody tr th {\n",
       "        vertical-align: top;\n",
       "    }\n",
       "\n",
       "    .dataframe thead th {\n",
       "        text-align: right;\n",
       "    }\n",
       "</style>\n",
       "<table border=\"1\" class=\"dataframe\">\n",
       "  <thead>\n",
       "    <tr style=\"text-align: right;\">\n",
       "      <th></th>\n",
       "      <th>position</th>\n",
       "      <th>elevation</th>\n",
       "      <th>graditent</th>\n",
       "      <th>ALPHA</th>\n",
       "    </tr>\n",
       "  </thead>\n",
       "  <tbody>\n",
       "    <tr>\n",
       "      <th>0</th>\n",
       "      <td>136</td>\n",
       "      <td>3434.59</td>\n",
       "      <td>168.35</td>\n",
       "      <td>0.4</td>\n",
       "    </tr>\n",
       "    <tr>\n",
       "      <th>1</th>\n",
       "      <td>68</td>\n",
       "      <td>429.49</td>\n",
       "      <td>168.35</td>\n",
       "      <td>0.4</td>\n",
       "    </tr>\n",
       "    <tr>\n",
       "      <th>2</th>\n",
       "      <td>84</td>\n",
       "      <td>488.40</td>\n",
       "      <td>-40.17</td>\n",
       "      <td>0.4</td>\n",
       "    </tr>\n",
       "  </tbody>\n",
       "</table>\n",
       "</div>"
      ],
      "text/plain": [
       "   position  elevation  graditent  ALPHA\n",
       "0       136    3434.59     168.35    0.4\n",
       "1        68     429.49     168.35    0.4\n",
       "2        84     488.40     -40.17    0.4"
      ]
     },
     "execution_count": 37,
     "metadata": {},
     "output_type": "execute_result"
    }
   ],
   "source": [
    "a4_df = pd.DataFrame(gradient_fall_method(136,0.4), columns=['position', 'elevation', 'graditent', 'ALPHA'])\n",
    "a4_df"
   ]
  },
  {
   "cell_type": "code",
   "execution_count": 38,
   "metadata": {},
   "outputs": [
    {
     "data": {
      "text/plain": [
       "elevation    429.49\n",
       "dtype: float64"
      ]
     },
     "execution_count": 38,
     "metadata": {},
     "output_type": "execute_result"
    }
   ],
   "source": [
    "# a1の標高が最も小さい値\n",
    "a4_min = a4_df.loc[: , ['elevation']].min()\n",
    "a4_min"
   ]
  },
  {
   "cell_type": "markdown",
   "metadata": {},
   "source": [
    "### α=0.5"
   ]
  },
  {
   "cell_type": "code",
   "execution_count": 39,
   "metadata": {},
   "outputs": [
    {
     "data": {
      "text/html": [
       "<div>\n",
       "<style scoped>\n",
       "    .dataframe tbody tr th:only-of-type {\n",
       "        vertical-align: middle;\n",
       "    }\n",
       "\n",
       "    .dataframe tbody tr th {\n",
       "        vertical-align: top;\n",
       "    }\n",
       "\n",
       "    .dataframe thead th {\n",
       "        text-align: right;\n",
       "    }\n",
       "</style>\n",
       "<table border=\"1\" class=\"dataframe\">\n",
       "  <thead>\n",
       "    <tr style=\"text-align: right;\">\n",
       "      <th></th>\n",
       "      <th>position</th>\n",
       "      <th>elevation</th>\n",
       "      <th>graditent</th>\n",
       "      <th>ALPHA</th>\n",
       "    </tr>\n",
       "  </thead>\n",
       "  <tbody>\n",
       "    <tr>\n",
       "      <th>0</th>\n",
       "      <td>136</td>\n",
       "      <td>3434.59</td>\n",
       "      <td>168.35</td>\n",
       "      <td>0.5</td>\n",
       "    </tr>\n",
       "    <tr>\n",
       "      <th>1</th>\n",
       "      <td>51</td>\n",
       "      <td>880.44</td>\n",
       "      <td>168.35</td>\n",
       "      <td>0.5</td>\n",
       "    </tr>\n",
       "    <tr>\n",
       "      <th>2</th>\n",
       "      <td>26</td>\n",
       "      <td>723.95</td>\n",
       "      <td>49.44</td>\n",
       "      <td>0.5</td>\n",
       "    </tr>\n",
       "    <tr>\n",
       "      <th>3</th>\n",
       "      <td>-49</td>\n",
       "      <td>1079.27</td>\n",
       "      <td>151.40</td>\n",
       "      <td>0.5</td>\n",
       "    </tr>\n",
       "    <tr>\n",
       "      <th>4</th>\n",
       "      <td>-137</td>\n",
       "      <td>1333.51</td>\n",
       "      <td>177.70</td>\n",
       "      <td>0.5</td>\n",
       "    </tr>\n",
       "    <tr>\n",
       "      <th>5</th>\n",
       "      <td>-111</td>\n",
       "      <td>1215.13</td>\n",
       "      <td>-50.56</td>\n",
       "      <td>0.5</td>\n",
       "    </tr>\n",
       "  </tbody>\n",
       "</table>\n",
       "</div>"
      ],
      "text/plain": [
       "   position  elevation  graditent  ALPHA\n",
       "0       136    3434.59     168.35    0.5\n",
       "1        51     880.44     168.35    0.5\n",
       "2        26     723.95      49.44    0.5\n",
       "3       -49    1079.27     151.40    0.5\n",
       "4      -137    1333.51     177.70    0.5\n",
       "5      -111    1215.13     -50.56    0.5"
      ]
     },
     "execution_count": 39,
     "metadata": {},
     "output_type": "execute_result"
    }
   ],
   "source": [
    "a5_df = pd.DataFrame(gradient_fall_method(136,0.5), columns=['position', 'elevation', 'graditent', 'ALPHA'])\n",
    "a5_df"
   ]
  },
  {
   "cell_type": "code",
   "execution_count": 40,
   "metadata": {},
   "outputs": [
    {
     "data": {
      "text/plain": [
       "elevation    723.95\n",
       "dtype: float64"
      ]
     },
     "execution_count": 40,
     "metadata": {},
     "output_type": "execute_result"
    }
   ],
   "source": [
    "# a5の標高が最も小さい値\n",
    "a5_min = a5_df.loc[: , ['elevation']].min()\n",
    "a5_min"
   ]
  },
  {
   "cell_type": "markdown",
   "metadata": {},
   "source": [
    "### 横軸を α、縦軸を各αの時の標高の最低値で散布図を作成"
   ]
  },
  {
   "cell_type": "code",
   "execution_count": 41,
   "metadata": {},
   "outputs": [
    {
     "data": {
      "text/plain": [
       "<matplotlib.collections.PathCollection at 0x118dd0080>"
      ]
     },
     "execution_count": 41,
     "metadata": {},
     "output_type": "execute_result"
    },
    {
     "data": {
      "image/png": "[encoded data removed]",
      "text/plain": [
       "<Figure size 432x288 with 1 Axes>"
      ]
     },
     "metadata": {
      "needs_background": "light"
     },
     "output_type": "display_data"
    }
   ],
   "source": [
    "\n",
    "conclusion_x = [0.1, 0.2, 0.3, 0.4, 0.5]\n",
    "conclusion_y = [a1_min, a2_min, a3_min, a4_min, a5_min]\n",
    "\n",
    "plt.xlabel('hyper parametor')\n",
    "plt.ylabel('elevation')\n",
    "plt.title('elevation lowest value')\n",
    "plt.scatter(conclusion_x, conclusion_y)"
   ]
  },
  {
   "cell_type": "markdown",
   "metadata": {},
   "source": [
    "## 考察\n",
    "#### α=0.1の時 → 局所的最適解の導出成功\n",
    "- 地点71の362.29mが導出されており、その次に導出した地点で計算が終了している。\n",
    "\n",
    "#### α=0.2の時 → 局所的最適解の導出失敗\n",
    "- 最も標高が低い地点が地点73、368.91mとなっており、ハイパーパラメータの値が大きい為、山を登っている。\n",
    "\n",
    "#### α=0.3の時 → 局所的最適解の導出失敗\n",
    "- 最も標高が低い地点が地点70、412.27mとなっており、ハイパーパラメータの値が大きい為、山を登っている。\n",
    "\n",
    "#### α=0.4の時 → 局所的最適解の導出成功\n",
    "- 最も標高が低い地点が地点68、429.49mとなっており、ハイパーパラメータの値が大きい為、山を登っている。\n",
    "\n",
    "#### α=0.5の時 → 局所的最適解の導出成功\n",
    "- 最も標高が低い地点が地点26、723.95mとなっており、ハイパーパラメータの値が大きい為、山を登っている。\n",
    "\n",
    "### 上記の結果より初期値136の場合はα=0.1が最適"
   ]
  },
  {
   "cell_type": "markdown",
   "metadata": {},
   "source": [
    "# 【問題7】（アドバンス課題）局所最適解\n",
    "山を下りることで最終的には海（標高が0）に向かいたいですが、勾配降下法は「局所的最適解」となる地点にしか到達しない可能性があります。局所的最適解とはどういったもので、それへの対策はどういったことができるかを調査して説明してください。\n",
    "\n",
    "言葉だけではなく、作成した関数も活用できると良いでしょう。\n",
    "\n",
    "## ①局所的最適解と大局的最適解の違いについて\n",
    "\n",
    "### 最適解とは\n",
    "- 目的関数のグラフにおいて最小値、又は最大値となる点\n",
    "\n",
    "### 最適化とは\n",
    "- 最適解を求める事\n",
    "\n",
    "### 局所的最適解とは\n",
    "- ある特定の範囲内に限った場合の最適解\n",
    "\n",
    "### 大域的最適解\n",
    "- 全ての範囲の中での最適解\n",
    "\n",
    "### 以下に富士下山問題の局所的最適解(local_optimal_solution)、および大域的最適解(global_optimal_solution)を表示する"
   ]
  },
  {
   "cell_type": "code",
   "execution_count": 42,
   "metadata": {},
   "outputs": [
    {
     "data": {
      "image/png": "[encoded data removed]",
      "text/plain": [
       "<Figure size 432x288 with 1 Axes>"
      ]
     },
     "metadata": {
      "needs_background": "light"
     },
     "output_type": "display_data"
    }
   ],
   "source": [
    "# テキストと矢印を表示\n",
    "plt.annotate('you',xy=(136, 3434.59),xytext=(100, 2500), arrowprops = {'arrowstyle':'->'})\n",
    "\n",
    "\n",
    "plt.annotate('local_optimal_solution',xy=(72,355.68 ),xytext=(10, 2000), arrowprops = {'arrowstyle':'->'})\n",
    "\n",
    "\n",
    "plt.annotate('global_optimal_solution',xy=(0, 0),xytext=(50, 0), arrowprops = {'arrowstyle':'->'})\n",
    "\n",
    "# 赤丸を表示\n",
    "plt.plot(136, 3434.59,'ro')\n",
    "\n",
    "plt.plot(72, 355.68,'ro')\n",
    "\n",
    "plt.plot(0, 0,'ro')\n",
    "\n",
    "\n",
    "# X軸の名前を指定\n",
    "plt.xlabel('x')\n",
    "\n",
    "# Y軸の名前を指定\n",
    "plt.ylabel('elevation[m]')\n",
    "\n",
    "# グラフのタイトルを指定\n",
    "plt.title('Mt.Fuji')\n",
    "\n",
    "# グラフを表示\n",
    "plt.plot(fuji[:,0],fuji[:,3]);"
   ]
  },
  {
   "cell_type": "markdown",
   "metadata": {},
   "source": [
    "### 上記のグラフより、局所的最適解はX=72、大域的最適解はX=0となる"
   ]
  },
  {
   "cell_type": "markdown",
   "metadata": {},
   "source": [
    "## ②勾配降下法にて「局所的最適解」となる地点にしか到達しない時の対処\n",
    "### ハイパーパラメータの値を大きくする\n",
    "#### 理由：ハイパーパラメータαの値が小さいと、以下の図のような局所的最適解(Locally optimal solution)から大局的最適解(Globally optimal solution)までに標高が高くなっている部分を乗り越えられない\n",
    "\n",
    "\n",
    "#### 詳細：関数compute_next_point内で、次の地点は以下のプログラムで計算されている。このプログラムは現在地点の勾配がプラスであった場合は、次の地点Xをより左側(より小さく)に、勾配がマイナスであった場合は、より右側(より大きく)にするよう処理する。\n",
    ">next_point = int(point_arr[i] - (ALPHA * gradient_arr[i]))\n",
    "\n",
    "\n",
    "### 以下の図の場合、仮に現在地がpoint_Xとなった時、勾配はマイナス(右下がりのグラフ)の為、次の地点はpoint_Xより右側となる。この後も次の地点を計算されるが、1回の移動量であるαを大きくしなければ同様の動作を繰り返すことになり、大局的最適解にはたどり着かない状態となる。"
   ]
  },
  {
   "cell_type": "code",
   "execution_count": 43,
   "metadata": {},
   "outputs": [
    {
     "data": {
      "image/png": "[encoded data removed]",
      "text/plain": [
       "<Figure size 432x288 with 1 Axes>"
      ]
     },
     "metadata": {
      "needs_background": "light"
     },
     "output_type": "display_data"
    }
   ],
   "source": [
    "# テキストと矢印を表示\n",
    "plt.annotate('Locally optimal solution',xy=(71, 362.29),xytext=(70, 10), arrowprops = {'arrowstyle':'->'})\n",
    "# テキストと矢印を表示\n",
    "plt.annotate('Globally optimal solution',xy=(0, 0),xytext=(0, 1500), arrowprops = {'arrowstyle':'->'})\n",
    "# テキストと矢印を表示\n",
    "plt.annotate('point X',xy=(60, 672.24),xytext=(70, 1500), arrowprops = {'arrowstyle':'->'})\n",
    "\n",
    "# 赤丸を表示\n",
    "plt.plot(71, 362.29,'ro')\n",
    "\n",
    "# 赤丸を表示\n",
    "plt.plot(0, 0,'ro')\n",
    "\n",
    "# 赤丸を表示\n",
    "plt.plot(60, 672.24,'ro')\n",
    "\n",
    "# X軸の名前を指定\n",
    "plt.xlabel('x')\n",
    "\n",
    "# Y軸の名前を指定\n",
    "plt.ylabel('elevation[m]')\n",
    "\n",
    "# グラフのタイトルを指定\n",
    "plt.title('Mt.Fuji')\n",
    "\n",
    "# グラフを表示\n",
    "plt.plot(fuji[:136,0],fuji[:136,3]);"
   ]
  }
 ],
 "metadata": {
  "kernelspec": {
   "display_name": "Python 3",
   "language": "python",
   "name": "python3"
  },
  "language_info": {
   "codemirror_mode": {
    "name": "ipython",
    "version": 3
   },
   "file_extension": ".py",
   "mimetype": "text/x-python",
   "name": "python",
   "nbconvert_exporter": "python",
   "pygments_lexer": "ipython3",
   "version": "3.7.1"
  }
 },
 "nbformat": 4,
 "nbformat_minor": 2
}
