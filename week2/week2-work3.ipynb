{
 "cells": [
  {
   "cell_type": "markdown",
   "metadata": {},
   "source": [
    "# Week2授業前課題3"
   ]
  },
  {
   "cell_type": "markdown",
   "metadata": {},
   "source": [
    "# 1.この課題の目的\n",
    "- 数式演算ライブラリのNumPyに慣れる。\n",
    "- 機械学習に必須な微分について理解する。"
   ]
  },
  {
   "cell_type": "markdown",
   "metadata": {},
   "source": [
    "# 【課題1】内積を手計算しよう"
   ]
  },
  {
   "cell_type": "markdown",
   "metadata": {},
   "source": [
    "以下のベクトルA、Bの内積$\\vec{ A } \\cdot \\vec{ B }$を求める。"
   ]
  },
  {
   "cell_type": "markdown",
   "metadata": {},
   "source": [
    "$A=\\begin{pmatrix} -1 & 2 & 3 \\\\ 4 & -5 & 6 \\\\ 7 & 8 & -9& \\\\ \\end{pmatrix}$, $B=\\begin{pmatrix} 0 & 2 & 1 \\\\ 0 & 2 & -8 \\\\ 2 & 9 & -1& \\\\ \\end{pmatrix}$"
   ]
  },
  {
   "cell_type": "markdown",
   "metadata": {},
   "source": [
    "$\\vec{ A } \\cdot \\vec{ B }$の1行1列目の値$= (-1 \\times 0) + (2 \\times 0) + (3 \\times 2) = 6$"
   ]
  },
  {
   "cell_type": "markdown",
   "metadata": {},
   "source": [
    "$\\vec{ A } \\cdot \\vec{ B }$の1行2列目の値$= (-1 \\times 2) + (2 \\times 2) + (3 \\times 9) = 29$"
   ]
  },
  {
   "cell_type": "markdown",
   "metadata": {},
   "source": [
    "$\\vec{ A } \\cdot \\vec{ B }$の1行3列目の値$= (-1 \\times 1) + (2 \\times -8) + (3 \\times -1) = -20$"
   ]
  },
  {
   "cell_type": "markdown",
   "metadata": {},
   "source": [
    "$\\vec{ A } \\cdot \\vec{ B }$の2行1列目の値$= (4 \\times 0) + (-5 \\times 0) + (6 \\times 2) = 12$"
   ]
  },
  {
   "cell_type": "markdown",
   "metadata": {},
   "source": [
    "$\\vec{ A } \\cdot \\vec{ B }$の2行2列目の値$= (4 \\times 2) + (-5 \\times 2) + (6 \\times 9) = 52$"
   ]
  },
  {
   "cell_type": "markdown",
   "metadata": {},
   "source": [
    "$\\vec{ A } \\cdot \\vec{ B }$の2行3列目の値$= (4 \\times 1) + (-5 \\times -8) + (6 \\times -1) = 38$"
   ]
  },
  {
   "cell_type": "markdown",
   "metadata": {},
   "source": [
    "$\\vec{ A } \\cdot \\vec{ B }$の3行1列目の値$= (7 \\times 0) + (8 \\times 0) + (-9 \\times 2) = -18$"
   ]
  },
  {
   "cell_type": "markdown",
   "metadata": {},
   "source": [
    "$\\vec{ A } \\cdot \\vec{ B }$の3行2列目の値$= (7 \\times 2) + (8 \\times 2) + (-9 \\times 9) = -51$"
   ]
  },
  {
   "cell_type": "markdown",
   "metadata": {},
   "source": [
    "$\\vec{ A } \\cdot \\vec{ B }$の3行1列目の値$= (7 \\times 1) + (8 \\times -8) + (-9 \\times -1) = -48$"
   ]
  },
  {
   "cell_type": "markdown",
   "metadata": {},
   "source": [
    "上記より$\\vec{ A } \\cdot \\vec{ B } = \\begin{pmatrix} 6 & 29 & -20 \\\\ 12 & 52 & 38 \\\\ -18 & -51 & -48& \\\\ \\end{pmatrix} $"
   ]
  },
  {
   "cell_type": "markdown",
   "metadata": {},
   "source": [
    "# 【課題2】1次元配列の内積をfor文で計算しよう"
   ]
  },
  {
   "cell_type": "code",
   "execution_count": 1,
   "metadata": {},
   "outputs": [],
   "source": [
    "import numpy as np"
   ]
  },
  {
   "cell_type": "code",
   "execution_count": 2,
   "metadata": {},
   "outputs": [
    {
     "data": {
      "text/plain": [
       "array([[-1,  2,  3],\n",
       "       [ 4, -5,  6],\n",
       "       [ 7,  8, -9]])"
      ]
     },
     "execution_count": 2,
     "metadata": {},
     "output_type": "execute_result"
    }
   ],
   "source": [
    "# 3行3列の行列Aを作成\n",
    "A = np.array([[-1, 2, 3],[4, -5, 6],[7, 8, -9]])\n",
    "A"
   ]
  },
  {
   "cell_type": "code",
   "execution_count": 3,
   "metadata": {},
   "outputs": [
    {
     "data": {
      "text/plain": [
       "array([[ 0,  2,  1],\n",
       "       [ 0,  2, -8],\n",
       "       [ 2,  9, -1]])"
      ]
     },
     "execution_count": 3,
     "metadata": {},
     "output_type": "execute_result"
    }
   ],
   "source": [
    "# 3行3列の行列Bを作成\n",
    "B = np.array([[0, 2, 1],[0, 2, -8],[2, 9, -1]])\n",
    "B"
   ]
  },
  {
   "cell_type": "code",
   "execution_count": 4,
   "metadata": {},
   "outputs": [
    {
     "data": {
      "text/plain": [
       "6"
      ]
     },
     "execution_count": 4,
     "metadata": {},
     "output_type": "execute_result"
    }
   ],
   "source": [
    "# Aの1行目とBの1列目の内積を格納する為の変数ansを作成\n",
    "ans = 0\n",
    "\n",
    "# for分にてAの1行目とBの1列目の内積を計算\n",
    "for i in range(3):\n",
    "    ans = ans + A[0][i] * B[i][0]\n",
    "ans"
   ]
  },
  {
   "cell_type": "markdown",
   "metadata": {},
   "source": [
    "# 【課題3】多次元配列の内積をfor文で計算しよう"
   ]
  },
  {
   "cell_type": "code",
   "execution_count": 5,
   "metadata": {},
   "outputs": [
    {
     "data": {
      "text/plain": [
       "array([[0., 0., 0.],\n",
       "       [0., 0., 0.],\n",
       "       [0., 0., 0.]])"
      ]
     },
     "execution_count": 5,
     "metadata": {},
     "output_type": "execute_result"
    }
   ],
   "source": [
    "# 内積を格納するための3行3列の配列ans_arrayを作成\n",
    "ans_arr = np.zeros((3, 3))\n",
    "ans_arr"
   ]
  },
  {
   "cell_type": "code",
   "execution_count": 6,
   "metadata": {},
   "outputs": [
    {
     "data": {
      "text/plain": [
       "array([[  6.,  29., -20.],\n",
       "       [ 12.,  52.,  38.],\n",
       "       [-18., -51., -48.]])"
      ]
     },
     "execution_count": 6,
     "metadata": {},
     "output_type": "execute_result"
    }
   ],
   "source": [
    "# for分を使用し行列Aと行列Bの内積を計算\n",
    "for i1 in range(3):\n",
    "    for i2 in range(3):\n",
    "        for i3 in range(3):\n",
    "            ans_arr[i1][i2] = ans_arr[i1][i2] + A[i1][i3] * B[i3][i2]\n",
    "ans_arr"
   ]
  },
  {
   "cell_type": "markdown",
   "metadata": {},
   "source": [
    "# 【課題4】内積をnp.dotで計算しよう"
   ]
  },
  {
   "cell_type": "code",
   "execution_count": 9,
   "metadata": {},
   "outputs": [
    {
     "data": {
      "text/plain": [
       "array([[  6,  29, -20],\n",
       "       [ 12,  52,  38],\n",
       "       [-18, -51, -48]])"
      ]
     },
     "execution_count": 9,
     "metadata": {},
     "output_type": "execute_result"
    }
   ],
   "source": [
    "ans = np.dot(A, B)\n",
    "ans"
   ]
  },
  {
   "cell_type": "markdown",
   "metadata": {},
   "source": [
    "# 【課題5】内積ができないときはどうするか"
   ]
  },
  {
   "cell_type": "markdown",
   "metadata": {},
   "source": [
    "### 以下の行列Aと行列Bの内積が計算が出来ない理由"
   ]
  },
  {
   "cell_type": "markdown",
   "metadata": {},
   "source": [
    "「行列Aの列数と行列Bの行数」及び「行列Aの行数と行列Bの列数」が異なる為である。"
   ]
  },
  {
   "cell_type": "markdown",
   "metadata": {},
   "source": [
    "以下に詳細を記載する。"
   ]
  },
  {
   "cell_type": "markdown",
   "metadata": {},
   "source": [
    "$A=\\begin{pmatrix} -1 & 2 & 3 \\\\ 4 & -5 & 6\\\\ \\end{pmatrix}$, $B=\\begin{pmatrix} -9 & 8 & 7 \\\\ 6 & -5 & 4\\\\ \\end{pmatrix}$"
   ]
  },
  {
   "cell_type": "markdown",
   "metadata": {},
   "source": [
    "まず課題1で実施したように手計算で内積の値を求める。"
   ]
  },
  {
   "cell_type": "markdown",
   "metadata": {},
   "source": [
    "$\\vec{ A } \\cdot \\vec{ B }$の1行1列目の値$= (-1 \\times -9) + (2 \\times 6) + (3 \\times ?) = ?$"
   ]
  },
  {
   "cell_type": "markdown",
   "metadata": {},
   "source": [
    "$\\vec{ A } \\cdot \\vec{ B }$の1行2列目の値$= (-1 \\times 8) + (2 \\times -5) + (3 \\times ?) = ?$"
   ]
  },
  {
   "cell_type": "markdown",
   "metadata": {},
   "source": [
    "$\\vec{ A } \\cdot \\vec{ B }$の1行3列目の値$= (-1 \\times 7) + (2 \\times 4) + (3 \\times ?) = ?$"
   ]
  },
  {
   "cell_type": "markdown",
   "metadata": {},
   "source": [
    "$\\vec{ A } \\cdot \\vec{ B }$の2行1列目の値$= (4 \\times -9) + (-5 \\times 6) + (6 \\times ?) = ?$"
   ]
  },
  {
   "cell_type": "markdown",
   "metadata": {},
   "source": [
    "$\\vec{ A } \\cdot \\vec{ B }$の2行2列目の値$= (4 \\times 8) + (-5 \\times -5) + (6 \\times ?) = ?$"
   ]
  },
  {
   "cell_type": "markdown",
   "metadata": {},
   "source": [
    "$\\vec{ A } \\cdot \\vec{ B }$の2行3列目の値$= (4 \\times 7) + (-5 \\times 4) + (6 \\times ?) = ?$"
   ]
  },
  {
   "cell_type": "markdown",
   "metadata": {},
   "source": [
    "上記の計算結果より、行列Bに3行目がない為、内積の計算に必要な値が足りないことがわかり、計算不可であることが確認できる。"
   ]
  },
  {
   "cell_type": "markdown",
   "metadata": {},
   "source": [
    "### 行列Aと行列Bの内積値が計算できるようにする為の対応"
   ]
  },
  {
   "cell_type": "markdown",
   "metadata": {},
   "source": [
    "上記にて内積が計算出来ない理由が、行列Bに3行目がないことが原因であることが判明した為、\n",
    "行列Bを転置し3行2列の行列とすることで行列Aとの内積値が計算可能となる。"
   ]
  },
  {
   "cell_type": "code",
   "execution_count": 11,
   "metadata": {},
   "outputs": [
    {
     "data": {
      "text/plain": [
       "array([[-1,  2,  3],\n",
       "       [ 4, -5,  6],\n",
       "       [ 7,  8, -9]])"
      ]
     },
     "execution_count": 11,
     "metadata": {},
     "output_type": "execute_result"
    }
   ],
   "source": [
    "# 3行3列の行列Aを作成\n",
    "A = np.array([[-1, 2, 3],[4, -5, 6],[7, 8, -9]])\n",
    "A"
   ]
  },
  {
   "cell_type": "code",
   "execution_count": 12,
   "metadata": {},
   "outputs": [
    {
     "data": {
      "text/plain": [
       "array([[ 9,  8,  7],\n",
       "       [ 6, -5,  4]])"
      ]
     },
     "execution_count": 12,
     "metadata": {},
     "output_type": "execute_result"
    }
   ],
   "source": [
    "# 2行3列の行列Bを作成\n",
    "B = np.array([[9, 8, 7],[6, -5, 4]])\n",
    "B"
   ]
  },
  {
   "cell_type": "code",
   "execution_count": 13,
   "metadata": {},
   "outputs": [
    {
     "data": {
      "text/plain": [
       "array([[ 9,  6],\n",
       "       [ 8, -5],\n",
       "       [ 7,  4]])"
      ]
     },
     "execution_count": 13,
     "metadata": {},
     "output_type": "execute_result"
    }
   ],
   "source": [
    "# 行列Bの転置行列Btを作成\n",
    "Bt = B.T\n",
    "Bt"
   ]
  },
  {
   "cell_type": "code",
   "execution_count": 14,
   "metadata": {},
   "outputs": [
    {
     "data": {
      "text/plain": [
       "array([[ 28,  -4],\n",
       "       [ 38,  73],\n",
       "       [ 64, -34]])"
      ]
     },
     "execution_count": 14,
     "metadata": {},
     "output_type": "execute_result"
    }
   ],
   "source": [
    "# 行列Aと行列Btの内積値をnp.dot関数で計算し変数ansに格納\n",
    "ans = np.dot(A, Bt)\n",
    "ans"
   ]
  }
 ],
 "metadata": {
  "kernelspec": {
   "display_name": "Python 3",
   "language": "python",
   "name": "python3"
  },
  "language_info": {
   "codemirror_mode": {
    "name": "ipython",
    "version": 3
   },
   "file_extension": ".py",
   "mimetype": "text/x-python",
   "name": "python",
   "nbconvert_exporter": "python",
   "pygments_lexer": "ipython3",
   "version": "3.7.1"
  }
 },
 "nbformat": 4,
 "nbformat_minor": 2
}
