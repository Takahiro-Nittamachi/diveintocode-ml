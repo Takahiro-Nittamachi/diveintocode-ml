{
 "cells": [
  {
   "cell_type": "markdown",
   "metadata": {},
   "source": [
    "# Week2授業前課題2"
   ]
  },
  {
   "cell_type": "markdown",
   "metadata": {},
   "source": [
    "# 1.この課題の目的\n",
    "- 数式演算ライブラリのNumPyに慣れる。\n",
    "- 機械学習に必須な微分について理解する。"
   ]
  },
  {
   "cell_type": "markdown",
   "metadata": {},
   "source": [
    "## 【課題1】1次元配列を作ろう"
   ]
  },
  {
   "cell_type": "code",
   "execution_count": 1,
   "metadata": {},
   "outputs": [
    {
     "data": {
      "text/plain": [
       "array([0.  , 0.01, 0.02, 0.03, 0.04, 0.05, 0.06, 0.07, 0.08, 0.09, 0.1 ,\n",
       "       0.11, 0.12, 0.13, 0.14, 0.15, 0.16, 0.17, 0.18, 0.19, 0.2 , 0.21,\n",
       "       0.22, 0.23, 0.24, 0.25, 0.26, 0.27, 0.28, 0.29, 0.3 , 0.31, 0.32,\n",
       "       0.33, 0.34, 0.35, 0.36, 0.37, 0.38, 0.39, 0.4 , 0.41, 0.42, 0.43,\n",
       "       0.44, 0.45, 0.46, 0.47, 0.48, 0.49, 0.5 , 0.51, 0.52, 0.53, 0.54,\n",
       "       0.55, 0.56, 0.57, 0.58, 0.59, 0.6 , 0.61, 0.62, 0.63, 0.64, 0.65,\n",
       "       0.66, 0.67, 0.68, 0.69, 0.7 , 0.71, 0.72, 0.73, 0.74, 0.75, 0.76,\n",
       "       0.77, 0.78, 0.79, 0.8 , 0.81, 0.82, 0.83, 0.84, 0.85, 0.86, 0.87,\n",
       "       0.88, 0.89, 0.9 , 0.91, 0.92, 0.93, 0.94, 0.95, 0.96, 0.97, 0.98,\n",
       "       0.99, 1.  ])"
      ]
     },
     "execution_count": 1,
     "metadata": {},
     "output_type": "execute_result"
    }
   ],
   "source": [
    "import numpy as np\n",
    "np.set_printoptions(suppress=True) # numpy配列を指数表記にしないよう設定\n",
    " \n",
    "arr_1 = np.arange(start=0, step=0.01,stop=1.01) # arangeメソッドにて0～1.0の間で0.01刻みのnumpyu配列を作成\n",
    "arr_1"
   ]
  },
  {
   "cell_type": "markdown",
   "metadata": {},
   "source": [
    "## 【課題2】2次元配列を作ろう"
   ]
  },
  {
   "cell_type": "code",
   "execution_count": 2,
   "metadata": {},
   "outputs": [
    {
     "data": {
      "text/plain": [
       "array([1.   , 1.005, 1.01 , 1.015, 1.02 , 1.025, 1.03 , 1.035, 1.04 ,\n",
       "       1.045, 1.05 , 1.055, 1.06 , 1.065, 1.07 , 1.075, 1.08 , 1.085,\n",
       "       1.09 , 1.095, 1.1  , 1.105, 1.11 , 1.115, 1.12 , 1.125, 1.13 ,\n",
       "       1.135, 1.14 , 1.145, 1.15 , 1.155, 1.16 , 1.165, 1.17 , 1.175,\n",
       "       1.18 , 1.185, 1.19 , 1.195, 1.2  , 1.205, 1.21 , 1.215, 1.22 ,\n",
       "       1.225, 1.23 , 1.235, 1.24 , 1.245, 1.25 , 1.255, 1.26 , 1.265,\n",
       "       1.27 , 1.275, 1.28 , 1.285, 1.29 , 1.295, 1.3  , 1.305, 1.31 ,\n",
       "       1.315, 1.32 , 1.325, 1.33 , 1.335, 1.34 , 1.345, 1.35 , 1.355,\n",
       "       1.36 , 1.365, 1.37 , 1.375, 1.38 , 1.385, 1.39 , 1.395, 1.4  ,\n",
       "       1.405, 1.41 , 1.415, 1.42 , 1.425, 1.43 , 1.435, 1.44 , 1.445,\n",
       "       1.45 , 1.455, 1.46 , 1.465, 1.47 , 1.475, 1.48 , 1.485, 1.49 ,\n",
       "       1.495, 1.5  ])"
      ]
     },
     "execution_count": 2,
     "metadata": {},
     "output_type": "execute_result"
    }
   ],
   "source": [
    "x = arr_1 # 0～1.0の間で0.01刻みのnumpyu配列\n",
    "y = 0.5 * x + 1 # 関数の計算し、Numpy配列arr_yに格納。\n",
    "y"
   ]
  },
  {
   "cell_type": "code",
   "execution_count": 3,
   "metadata": {},
   "outputs": [
    {
     "data": {
      "text/plain": [
       "array([[0.   , 1.   ],\n",
       "       [0.01 , 1.005],\n",
       "       [0.02 , 1.01 ],\n",
       "       [0.03 , 1.015],\n",
       "       [0.04 , 1.02 ],\n",
       "       [0.05 , 1.025],\n",
       "       [0.06 , 1.03 ],\n",
       "       [0.07 , 1.035],\n",
       "       [0.08 , 1.04 ],\n",
       "       [0.09 , 1.045],\n",
       "       [0.1  , 1.05 ],\n",
       "       [0.11 , 1.055],\n",
       "       [0.12 , 1.06 ],\n",
       "       [0.13 , 1.065],\n",
       "       [0.14 , 1.07 ],\n",
       "       [0.15 , 1.075],\n",
       "       [0.16 , 1.08 ],\n",
       "       [0.17 , 1.085],\n",
       "       [0.18 , 1.09 ],\n",
       "       [0.19 , 1.095],\n",
       "       [0.2  , 1.1  ],\n",
       "       [0.21 , 1.105],\n",
       "       [0.22 , 1.11 ],\n",
       "       [0.23 , 1.115],\n",
       "       [0.24 , 1.12 ],\n",
       "       [0.25 , 1.125],\n",
       "       [0.26 , 1.13 ],\n",
       "       [0.27 , 1.135],\n",
       "       [0.28 , 1.14 ],\n",
       "       [0.29 , 1.145],\n",
       "       [0.3  , 1.15 ],\n",
       "       [0.31 , 1.155],\n",
       "       [0.32 , 1.16 ],\n",
       "       [0.33 , 1.165],\n",
       "       [0.34 , 1.17 ],\n",
       "       [0.35 , 1.175],\n",
       "       [0.36 , 1.18 ],\n",
       "       [0.37 , 1.185],\n",
       "       [0.38 , 1.19 ],\n",
       "       [0.39 , 1.195],\n",
       "       [0.4  , 1.2  ],\n",
       "       [0.41 , 1.205],\n",
       "       [0.42 , 1.21 ],\n",
       "       [0.43 , 1.215],\n",
       "       [0.44 , 1.22 ],\n",
       "       [0.45 , 1.225],\n",
       "       [0.46 , 1.23 ],\n",
       "       [0.47 , 1.235],\n",
       "       [0.48 , 1.24 ],\n",
       "       [0.49 , 1.245],\n",
       "       [0.5  , 1.25 ],\n",
       "       [0.51 , 1.255],\n",
       "       [0.52 , 1.26 ],\n",
       "       [0.53 , 1.265],\n",
       "       [0.54 , 1.27 ],\n",
       "       [0.55 , 1.275],\n",
       "       [0.56 , 1.28 ],\n",
       "       [0.57 , 1.285],\n",
       "       [0.58 , 1.29 ],\n",
       "       [0.59 , 1.295],\n",
       "       [0.6  , 1.3  ],\n",
       "       [0.61 , 1.305],\n",
       "       [0.62 , 1.31 ],\n",
       "       [0.63 , 1.315],\n",
       "       [0.64 , 1.32 ],\n",
       "       [0.65 , 1.325],\n",
       "       [0.66 , 1.33 ],\n",
       "       [0.67 , 1.335],\n",
       "       [0.68 , 1.34 ],\n",
       "       [0.69 , 1.345],\n",
       "       [0.7  , 1.35 ],\n",
       "       [0.71 , 1.355],\n",
       "       [0.72 , 1.36 ],\n",
       "       [0.73 , 1.365],\n",
       "       [0.74 , 1.37 ],\n",
       "       [0.75 , 1.375],\n",
       "       [0.76 , 1.38 ],\n",
       "       [0.77 , 1.385],\n",
       "       [0.78 , 1.39 ],\n",
       "       [0.79 , 1.395],\n",
       "       [0.8  , 1.4  ],\n",
       "       [0.81 , 1.405],\n",
       "       [0.82 , 1.41 ],\n",
       "       [0.83 , 1.415],\n",
       "       [0.84 , 1.42 ],\n",
       "       [0.85 , 1.425],\n",
       "       [0.86 , 1.43 ],\n",
       "       [0.87 , 1.435],\n",
       "       [0.88 , 1.44 ],\n",
       "       [0.89 , 1.445],\n",
       "       [0.9  , 1.45 ],\n",
       "       [0.91 , 1.455],\n",
       "       [0.92 , 1.46 ],\n",
       "       [0.93 , 1.465],\n",
       "       [0.94 , 1.47 ],\n",
       "       [0.95 , 1.475],\n",
       "       [0.96 , 1.48 ],\n",
       "       [0.97 , 1.485],\n",
       "       [0.98 , 1.49 ],\n",
       "       [0.99 , 1.495],\n",
       "       [1.   , 1.5  ]])"
      ]
     },
     "execution_count": 3,
     "metadata": {},
     "output_type": "execute_result"
    }
   ],
   "source": [
    "arr_2 = np.array([x, y]).T # arr_xとarr_yとを結合し、0列目にx、1列目にyの値となる2次元のarrayで表現しなさい。\n",
    "arr_2"
   ]
  },
  {
   "cell_type": "markdown",
   "metadata": {},
   "source": [
    "## 【課題3】勾配を求めよう"
   ]
  },
  {
   "cell_type": "code",
   "execution_count": 4,
   "metadata": {},
   "outputs": [
    {
     "data": {
      "text/plain": [
       "array([0.01, 0.01, 0.01, 0.01, 0.01, 0.01, 0.01, 0.01, 0.01, 0.01, 0.01,\n",
       "       0.01, 0.01, 0.01, 0.01, 0.01, 0.01, 0.01, 0.01, 0.01, 0.01, 0.01,\n",
       "       0.01, 0.01, 0.01, 0.01, 0.01, 0.01, 0.01, 0.01, 0.01, 0.01, 0.01,\n",
       "       0.01, 0.01, 0.01, 0.01, 0.01, 0.01, 0.01, 0.01, 0.01, 0.01, 0.01,\n",
       "       0.01, 0.01, 0.01, 0.01, 0.01, 0.01, 0.01, 0.01, 0.01, 0.01, 0.01,\n",
       "       0.01, 0.01, 0.01, 0.01, 0.01, 0.01, 0.01, 0.01, 0.01, 0.01, 0.01,\n",
       "       0.01, 0.01, 0.01, 0.01, 0.01, 0.01, 0.01, 0.01, 0.01, 0.01, 0.01,\n",
       "       0.01, 0.01, 0.01, 0.01, 0.01, 0.01, 0.01, 0.01, 0.01, 0.01, 0.01,\n",
       "       0.01, 0.01, 0.01, 0.01, 0.01, 0.01, 0.01, 0.01, 0.01, 0.01, 0.01,\n",
       "       0.01])"
      ]
     },
     "execution_count": 4,
     "metadata": {},
     "output_type": "execute_result"
    }
   ],
   "source": [
    "x_d = np.diff(x) # diffメソッドにてxの変化量を求め、x_dに格納\n",
    "x_d"
   ]
  },
  {
   "cell_type": "code",
   "execution_count": 5,
   "metadata": {},
   "outputs": [
    {
     "data": {
      "text/plain": [
       "array([0.005, 0.005, 0.005, 0.005, 0.005, 0.005, 0.005, 0.005, 0.005,\n",
       "       0.005, 0.005, 0.005, 0.005, 0.005, 0.005, 0.005, 0.005, 0.005,\n",
       "       0.005, 0.005, 0.005, 0.005, 0.005, 0.005, 0.005, 0.005, 0.005,\n",
       "       0.005, 0.005, 0.005, 0.005, 0.005, 0.005, 0.005, 0.005, 0.005,\n",
       "       0.005, 0.005, 0.005, 0.005, 0.005, 0.005, 0.005, 0.005, 0.005,\n",
       "       0.005, 0.005, 0.005, 0.005, 0.005, 0.005, 0.005, 0.005, 0.005,\n",
       "       0.005, 0.005, 0.005, 0.005, 0.005, 0.005, 0.005, 0.005, 0.005,\n",
       "       0.005, 0.005, 0.005, 0.005, 0.005, 0.005, 0.005, 0.005, 0.005,\n",
       "       0.005, 0.005, 0.005, 0.005, 0.005, 0.005, 0.005, 0.005, 0.005,\n",
       "       0.005, 0.005, 0.005, 0.005, 0.005, 0.005, 0.005, 0.005, 0.005,\n",
       "       0.005, 0.005, 0.005, 0.005, 0.005, 0.005, 0.005, 0.005, 0.005,\n",
       "       0.005])"
      ]
     },
     "execution_count": 5,
     "metadata": {},
     "output_type": "execute_result"
    }
   ],
   "source": [
    "y_d = np.diff(y) # diffメソッドにてyの変化量を求め、y_dに格納\n",
    "y_d"
   ]
  },
  {
   "cell_type": "code",
   "execution_count": 6,
   "metadata": {},
   "outputs": [
    {
     "data": {
      "text/plain": [
       "array([0.5, 0.5, 0.5, 0.5, 0.5, 0.5, 0.5, 0.5, 0.5, 0.5, 0.5, 0.5, 0.5,\n",
       "       0.5, 0.5, 0.5, 0.5, 0.5, 0.5, 0.5, 0.5, 0.5, 0.5, 0.5, 0.5, 0.5,\n",
       "       0.5, 0.5, 0.5, 0.5, 0.5, 0.5, 0.5, 0.5, 0.5, 0.5, 0.5, 0.5, 0.5,\n",
       "       0.5, 0.5, 0.5, 0.5, 0.5, 0.5, 0.5, 0.5, 0.5, 0.5, 0.5, 0.5, 0.5,\n",
       "       0.5, 0.5, 0.5, 0.5, 0.5, 0.5, 0.5, 0.5, 0.5, 0.5, 0.5, 0.5, 0.5,\n",
       "       0.5, 0.5, 0.5, 0.5, 0.5, 0.5, 0.5, 0.5, 0.5, 0.5, 0.5, 0.5, 0.5,\n",
       "       0.5, 0.5, 0.5, 0.5, 0.5, 0.5, 0.5, 0.5, 0.5, 0.5, 0.5, 0.5, 0.5,\n",
       "       0.5, 0.5, 0.5, 0.5, 0.5, 0.5, 0.5, 0.5, 0.5])"
      ]
     },
     "execution_count": 6,
     "metadata": {},
     "output_type": "execute_result"
    }
   ],
   "source": [
    "g = y_d / x_d # 各x座標の勾配を計算し、gに格納\n",
    "g"
   ]
  },
  {
   "cell_type": "code",
   "execution_count": 7,
   "metadata": {},
   "outputs": [
    {
     "data": {
      "text/plain": [
       "(100,)"
      ]
     },
     "execution_count": 7,
     "metadata": {},
     "output_type": "execute_result"
    }
   ],
   "source": [
    "g.shape # gは100行1列のデータ"
   ]
  },
  {
   "cell_type": "markdown",
   "metadata": {},
   "source": [
    "## 【課題4】配列、勾配、グラフを作ろう"
   ]
  },
  {
   "cell_type": "markdown",
   "metadata": {},
   "source": [
    "### 入力Xと出力Yのデータの作成"
   ]
  },
  {
   "cell_type": "code",
   "execution_count": 8,
   "metadata": {},
   "outputs": [
    {
     "data": {
      "text/plain": [
       "array([0.  , 0.01, 0.02, 0.03, 0.04, 0.05, 0.06, 0.07, 0.08, 0.09, 0.1 ,\n",
       "       0.11, 0.12, 0.13, 0.14, 0.15, 0.16, 0.17, 0.18, 0.19, 0.2 , 0.21,\n",
       "       0.22, 0.23, 0.24, 0.25, 0.26, 0.27, 0.28, 0.29, 0.3 , 0.31, 0.32,\n",
       "       0.33, 0.34, 0.35, 0.36, 0.37, 0.38, 0.39, 0.4 , 0.41, 0.42, 0.43,\n",
       "       0.44, 0.45, 0.46, 0.47, 0.48, 0.49, 0.5 , 0.51, 0.52, 0.53, 0.54,\n",
       "       0.55, 0.56, 0.57, 0.58, 0.59, 0.6 , 0.61, 0.62, 0.63, 0.64, 0.65,\n",
       "       0.66, 0.67, 0.68, 0.69, 0.7 , 0.71, 0.72, 0.73, 0.74, 0.75, 0.76,\n",
       "       0.77, 0.78, 0.79, 0.8 , 0.81, 0.82, 0.83, 0.84, 0.85, 0.86, 0.87,\n",
       "       0.88, 0.89, 0.9 , 0.91, 0.92, 0.93, 0.94, 0.95, 0.96, 0.97, 0.98,\n",
       "       0.99, 1.  ])"
      ]
     },
     "execution_count": 8,
     "metadata": {},
     "output_type": "execute_result"
    }
   ],
   "source": [
    "import numpy as np\n",
    "\n",
    "# 入力Xのデータの作成。※0～1の間で0.01ごとに値が変化する100行1列の1次元配列。\n",
    "x2 = np.arange(start=0, step=0.01, stop=1.01)\n",
    "x"
   ]
  },
  {
   "cell_type": "code",
   "execution_count": 9,
   "metadata": {},
   "outputs": [
    {
     "data": {
      "text/plain": [
       "array([0.    , 0.0001, 0.0004, 0.0009, 0.0016, 0.0025, 0.0036, 0.0049,\n",
       "       0.0064, 0.0081, 0.01  , 0.0121, 0.0144, 0.0169, 0.0196, 0.0225,\n",
       "       0.0256, 0.0289, 0.0324, 0.0361, 0.04  , 0.0441, 0.0484, 0.0529,\n",
       "       0.0576, 0.0625, 0.0676, 0.0729, 0.0784, 0.0841, 0.09  , 0.0961,\n",
       "       0.1024, 0.1089, 0.1156, 0.1225, 0.1296, 0.1369, 0.1444, 0.1521,\n",
       "       0.16  , 0.1681, 0.1764, 0.1849, 0.1936, 0.2025, 0.2116, 0.2209,\n",
       "       0.2304, 0.2401, 0.25  , 0.2601, 0.2704, 0.2809, 0.2916, 0.3025,\n",
       "       0.3136, 0.3249, 0.3364, 0.3481, 0.36  , 0.3721, 0.3844, 0.3969,\n",
       "       0.4096, 0.4225, 0.4356, 0.4489, 0.4624, 0.4761, 0.49  , 0.5041,\n",
       "       0.5184, 0.5329, 0.5476, 0.5625, 0.5776, 0.5929, 0.6084, 0.6241,\n",
       "       0.64  , 0.6561, 0.6724, 0.6889, 0.7056, 0.7225, 0.7396, 0.7569,\n",
       "       0.7744, 0.7921, 0.81  , 0.8281, 0.8464, 0.8649, 0.8836, 0.9025,\n",
       "       0.9216, 0.9409, 0.9604, 0.9801, 1.    ])"
      ]
     },
     "execution_count": 9,
     "metadata": {},
     "output_type": "execute_result"
    }
   ],
   "source": [
    "# 出力yのデータの作成。※関数にxを入力して作成する。\n",
    "y2 = x2 ** 2\n",
    "y2"
   ]
  },
  {
   "cell_type": "markdown",
   "metadata": {},
   "source": [
    "### 勾配の計算"
   ]
  },
  {
   "cell_type": "code",
   "execution_count": 10,
   "metadata": {},
   "outputs": [
    {
     "data": {
      "text/plain": [
       "(100,)"
      ]
     },
     "execution_count": 10,
     "metadata": {},
     "output_type": "execute_result"
    }
   ],
   "source": [
    "x2_d = np.diff(x2) # diffメソッドにてx2の変化量を求め、x2_dに格納\n",
    "x2_d.shape"
   ]
  },
  {
   "cell_type": "code",
   "execution_count": 11,
   "metadata": {},
   "outputs": [
    {
     "data": {
      "text/plain": [
       "(100,)"
      ]
     },
     "execution_count": 11,
     "metadata": {},
     "output_type": "execute_result"
    }
   ],
   "source": [
    "y2_d = np.diff(y2) # diffメソッドにてy2の変化量を求め、y2_dに格納\n",
    "y2_d.shape"
   ]
  },
  {
   "cell_type": "code",
   "execution_count": 12,
   "metadata": {},
   "outputs": [
    {
     "data": {
      "text/plain": [
       "array([0.01, 0.03, 0.05, 0.07, 0.09, 0.11, 0.13, 0.15, 0.17, 0.19, 0.21,\n",
       "       0.23, 0.25, 0.27, 0.29, 0.31, 0.33, 0.35, 0.37, 0.39, 0.41, 0.43,\n",
       "       0.45, 0.47, 0.49, 0.51, 0.53, 0.55, 0.57, 0.59, 0.61, 0.63, 0.65,\n",
       "       0.67, 0.69, 0.71, 0.73, 0.75, 0.77, 0.79, 0.81, 0.83, 0.85, 0.87,\n",
       "       0.89, 0.91, 0.93, 0.95, 0.97, 0.99, 1.01, 1.03, 1.05, 1.07, 1.09,\n",
       "       1.11, 1.13, 1.15, 1.17, 1.19, 1.21, 1.23, 1.25, 1.27, 1.29, 1.31,\n",
       "       1.33, 1.35, 1.37, 1.39, 1.41, 1.43, 1.45, 1.47, 1.49, 1.51, 1.53,\n",
       "       1.55, 1.57, 1.59, 1.61, 1.63, 1.65, 1.67, 1.69, 1.71, 1.73, 1.75,\n",
       "       1.77, 1.79, 1.81, 1.83, 1.85, 1.87, 1.89, 1.91, 1.93, 1.95, 1.97,\n",
       "       1.99])"
      ]
     },
     "execution_count": 12,
     "metadata": {},
     "output_type": "execute_result"
    }
   ],
   "source": [
    "g2 = y2_d / x2_d\n",
    "g2"
   ]
  },
  {
   "cell_type": "markdown",
   "metadata": {},
   "source": [
    "### 勾配のグラフの描画"
   ]
  },
  {
   "cell_type": "code",
   "execution_count": 15,
   "metadata": {},
   "outputs": [
    {
     "data": {
      "image/png": "[encoded data removed]",
      "text/plain": [
       "<Figure size 432x288 with 1 Axes>"
      ]
     },
     "metadata": {
      "needs_background": "light"
     },
     "output_type": "display_data"
    }
   ],
   "source": [
    "import matplotlib.pyplot as plt\n",
    "%matplotlib inline\n",
    "\n",
    "plt.plot(x2, y2)\n",
    "plt.xlabel('x2')\n",
    "plt.ylabel('y2');"
   ]
  },
  {
   "cell_type": "markdown",
   "metadata": {},
   "source": [
    "## 【課題5】最小値の求め方を説明しよう"
   ]
  },
  {
   "cell_type": "markdown",
   "metadata": {},
   "source": [
    "勾配降下法にて$y=x^2$の最小値を求めるアルゴリズムを記載する。\n",
    "\n",
    "※以下のアルゴリズムは「($y$の変化量/$x$の変化量) $=0$となる時に、$y$は値の最大値又は、最小値となる」という考えの上、計算を行っている。\n",
    "\n",
    "例として、xの初期値を$3$、$y$の初期値を$f(3)=3^2=9$とする。"
   ]
  },
  {
   "cell_type": "markdown",
   "metadata": {},
   "source": [
    "1. $x$の値を$1$ずつ移動させて、$y$の変化量 及び $y$の変化量/$x$の変化量 を求める。\n",
    "\n",
    "  - $x$を$3$から$2$へ移動した時\n",
    "  \n",
    "    $y$の変化量 / $x$の変化量 = $(4-9) / (2-3)=5$ \n",
    "    \n",
    "    ⇨ プラスの値の為、グラフは右斜め上のグラフとなる。\n",
    "    \n",
    "    ⇨ $x$をより左側にずらす($x$の値を小さくする)事で($y$の変化量 / $x$の変化量)　が$0$に近づく。\n",
    " \n",
    "   - $x$を$2$から$1$へ移動した時\n",
    "   \n",
    "    $y$の変化量 / $x$の変化量 = $(1-4) / (2-1)=3$ \n",
    "    \n",
    "    ⇨ プラスの値の為、グラフは右斜め上のグラフとなる。\n",
    "    \n",
    "    ⇨ $x$をより左側にずらす($x$の値を小さくする)事で($y$の変化量 / $x$の変化量)　が$0$になる。\n",
    "    \n",
    "   - $x$を$1$から$0$へ移動した時\n",
    "\n",
    "    $y$の変化量 / $x$の変化量 = $(0-1) / (0-1)=1$ \n",
    "    \n",
    "    ⇨ プラスの値の為、グラフは右斜め上のグラフとなる。\n",
    "    \n",
    "    ⇨ $x$をより左側にずらす($x$の値を小さくする)事で($y$の変化量 / $x$の変化量)　が$0$になる。\n",
    "\n",
    "   - $x$を$0$から$-1$へ移動した時\n",
    "\n",
    "    $y$の変化量 / $x$の変化量 = $(1-0) / (-1-0)=-1$ \n",
    "    \n",
    "    ⇨マイナスの値の為、グラフは右斜め下のグラフとなる。\n",
    "    \n",
    "    ⇨ $x$をより右側にずらす($x$の値を大きくする)事で($y$の変化量 / $x$の変化量)　が$0$に近づく。\n",
    "\n",
    "2. 1の結果から$y$の変化量/$x$の変化量が最も0に近づいた時の$x$を確認し、最小値を求める。\n",
    "\n",
    "    - 1の結果より$x$が$-1$から$1$の時に$y$の変化量/$x$の変化量が最も0に近く事がわかる為、この区間の$y$の最小値を求める。\n",
    "    \n",
    "    $f(-1)=(-1)^2=1$\n",
    "    \n",
    "    $f(0)=(0)^2=0$\n",
    "    \n",
    "    $f(1)=1^2=1$\n",
    "    \n",
    " ### 上記より$x=0$の時に、$y$が**最小値$0$**となる事がわかる。"
   ]
  },
  {
   "cell_type": "markdown",
   "metadata": {},
   "source": [
    "## 【課題6】最小値を求めよう\n",
    "#### 最後に具体例を計算してもらって締めくくりとしましょう！\n",
    "#### $y=x^2+5x$の最小値を勾配降下法ではなく、微分法を使って求めてください。"
   ]
  },
  {
   "cell_type": "markdown",
   "metadata": {},
   "source": [
    "1. 関数 $y=x^2+5x$を微分する。　\n",
    "\\begin{align}\n",
    "f'(x)=2x+5\n",
    "\\end{align}"
   ]
  },
  {
   "cell_type": "markdown",
   "metadata": {},
   "source": [
    "2. $f'(x)=0$となる$x$を求める。\n",
    "\\begin{align}\n",
    "f'(x)&=0\\\\\n",
    "2x+5&=0\\\\\n",
    "2x&=-5\\\\\n",
    "x&=-\\frac{5}{2}\n",
    "\\end{align}"
   ]
  },
  {
   "cell_type": "markdown",
   "metadata": {},
   "source": [
    "3. 2で求めた値を$f(x)$に代入し$y$の最小値を求める。\n",
    "\\begin{align}\n",
    "f(-\\frac{5}{2})&=(-\\frac{5}{2})^2+5\\times (-\\frac{5}{2})\\\\\n",
    "&=\\frac{25}{4}-\\frac{25}{2}\\\\\n",
    "&=\\frac{25}{4}-\\frac{50}{4}\\\\\n",
    "&=-\\frac{25}{4}\\\\\n",
    "&=-6.25\n",
    "\\end{align}\n",
    "### 上記より$y=x^2+5x$の最小値は$-6.25$\n",
    "    \n",
    "    "
   ]
  }
 ],
 "metadata": {
  "kernelspec": {
   "display_name": "Python 3",
   "language": "python",
   "name": "python3"
  },
  "language_info": {
   "codemirror_mode": {
    "name": "ipython",
    "version": 3
   },
   "file_extension": ".py",
   "mimetype": "text/x-python",
   "name": "python",
   "nbconvert_exporter": "python",
   "pygments_lexer": "ipython3",
   "version": "3.7.1"
  }
 },
 "nbformat": 4,
 "nbformat_minor": 2
}
