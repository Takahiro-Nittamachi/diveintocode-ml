{
 "cells": [
  {
   "cell_type": "markdown",
   "metadata": {
    "colab": {},
    "colab_type": "code",
    "id": "g6hS09JJ3YOf"
   },
   "source": [
    "## 使用クラスのインポート"
   ]
  },
  {
   "cell_type": "code",
   "execution_count": null,
   "metadata": {},
   "outputs": [],
   "source": [
    "import numpy as np\n",
    "import pandas as pd\n",
    "from sklearn.preprocessing import OneHotEncoder\n",
    "from sklearn.model_selection import train_test_split\n",
    "from sklearn.metrics import classification_report"
   ]
  },
  {
   "cell_type": "markdown",
   "metadata": {
    "colab_type": "text",
    "id": "8XjmISsT3YOk"
   },
   "source": [
    "# 1.この課題の目的\n",
    "スクラッチを通してニューラルネットワークの基礎を理解する\n",
    "画像データの簡単な扱い方を知る\n",
    "以下の要件をすべて満たしていた場合、合格とします。\n",
    "\n",
    "※Jupyter Notebookを使い課題に沿った検証や説明ができている。\n",
    "\n",
    "# 2.スクラッチによる実装\n",
    "NumPyなど最低限のライブラリのみを使いアルゴリズムを実装していきます。\n",
    "\n",
    "今回は多クラス分類を行う3層のニューラルネットワークを作成します。層の数などは固定した上でニューラルネットワークの基本を確認しましょう。次のSprintで層を自由に変えられる設計にしていきます。\n",
    "\n",
    "データセットの用意\n",
    "MNISTデータセットを使用します。以下のコードを実行すればKerasによりデータセットをダウンロードし、展開まで行えます。\n",
    "\n",
    "データセットをダウンロードするコード"
   ]
  },
  {
   "cell_type": "code",
   "execution_count": 2,
   "metadata": {
    "colab": {},
    "colab_type": "code",
    "id": "REFPayTm3YOl"
   },
   "outputs": [
    {
     "name": "stderr",
     "output_type": "stream",
     "text": [
      "Using TensorFlow backend.\n"
     ]
    }
   ],
   "source": [
    "from keras.datasets import mnist\n",
    "(X_train, y_train), (X_test, y_test) = mnist.load_data()"
   ]
  },
  {
   "cell_type": "markdown",
   "metadata": {
    "colab_type": "text",
    "id": "62g-aTKg3YOo"
   },
   "source": [
    "## MNISTとは？\n",
    "\n",
    "画像分類のための定番データセットで、手書き数字認識を行います。このデータセットには学習用6万枚、テスト用1万枚の28×28ピクセルの白黒画像、およびそれらが0〜9のどの数字であるかが含まれています。\n",
    "\n",
    "## 画像データとは？\n",
    "\n",
    "デジタル画像は点の集合で、これをピクセルと呼びます。一般的に白黒画像であればピクセルには0〜255の値が含まれます。一方、カラー画像であればR（赤）、G（緑）、B（青）それぞれに対応する0〜255の値が含まれます。機械学習をする上では、この0〜255の値一つひとつが特徴量として扱われます。0〜255は符号なしの8ビット整数で表せる範囲になるため、NumPyであれば「uint8」型の変数として保持できます。\n",
    "\n",
    "データセットの確認\n",
    "まず、どういったデータなのかを見てみます。\n",
    "\n",
    "## サンプルコード"
   ]
  },
  {
   "cell_type": "code",
   "execution_count": 3,
   "metadata": {
    "colab": {
     "base_uri": "https://localhost:8080/",
     "height": 1020
    },
    "colab_type": "code",
    "id": "Pakufoso3YOo",
    "outputId": "7f2ea452-83fd-45b8-cc1b-9a96610ee4cb"
   },
   "outputs": [
    {
     "name": "stdout",
     "output_type": "stream",
     "text": [
      "(60000, 28, 28)\n",
      "(10000, 28, 28)\n",
      "uint8\n",
      "[[  0   0   0   0   0   0   0   0   0   0   0   0   0   0   0   0   0   0\n",
      "    0   0   0   0   0   0   0   0   0   0]\n",
      " [  0   0   0   0   0   0   0   0   0   0   0   0   0   0   0   0   0   0\n",
      "    0   0   0   0   0   0   0   0   0   0]\n",
      " [  0   0   0   0   0   0   0   0   0   0   0   0   0   0   0   0   0   0\n",
      "    0   0   0   0   0   0   0   0   0   0]\n",
      " [  0   0   0   0   0   0   0   0   0   0   0   0   0   0   0   0   0   0\n",
      "    0   0   0   0   0   0   0   0   0   0]\n",
      " [  0   0   0   0   0   0   0   0   0   0   0   0   0   0   0   0   0   0\n",
      "    0   0   0   0   0   0   0   0   0   0]\n",
      " [  0   0   0   0   0   0   0   0   0   0   0   0   3  18  18  18 126 136\n",
      "  175  26 166 255 247 127   0   0   0   0]\n",
      " [  0   0   0   0   0   0   0   0  30  36  94 154 170 253 253 253 253 253\n",
      "  225 172 253 242 195  64   0   0   0   0]\n",
      " [  0   0   0   0   0   0   0  49 238 253 253 253 253 253 253 253 253 251\n",
      "   93  82  82  56  39   0   0   0   0   0]\n",
      " [  0   0   0   0   0   0   0  18 219 253 253 253 253 253 198 182 247 241\n",
      "    0   0   0   0   0   0   0   0   0   0]\n",
      " [  0   0   0   0   0   0   0   0  80 156 107 253 253 205  11   0  43 154\n",
      "    0   0   0   0   0   0   0   0   0   0]\n",
      " [  0   0   0   0   0   0   0   0   0  14   1 154 253  90   0   0   0   0\n",
      "    0   0   0   0   0   0   0   0   0   0]\n",
      " [  0   0   0   0   0   0   0   0   0   0   0 139 253 190   2   0   0   0\n",
      "    0   0   0   0   0   0   0   0   0   0]\n",
      " [  0   0   0   0   0   0   0   0   0   0   0  11 190 253  70   0   0   0\n",
      "    0   0   0   0   0   0   0   0   0   0]\n",
      " [  0   0   0   0   0   0   0   0   0   0   0   0  35 241 225 160 108   1\n",
      "    0   0   0   0   0   0   0   0   0   0]\n",
      " [  0   0   0   0   0   0   0   0   0   0   0   0   0  81 240 253 253 119\n",
      "   25   0   0   0   0   0   0   0   0   0]\n",
      " [  0   0   0   0   0   0   0   0   0   0   0   0   0   0  45 186 253 253\n",
      "  150  27   0   0   0   0   0   0   0   0]\n",
      " [  0   0   0   0   0   0   0   0   0   0   0   0   0   0   0  16  93 252\n",
      "  253 187   0   0   0   0   0   0   0   0]\n",
      " [  0   0   0   0   0   0   0   0   0   0   0   0   0   0   0   0   0 249\n",
      "  253 249  64   0   0   0   0   0   0   0]\n",
      " [  0   0   0   0   0   0   0   0   0   0   0   0   0   0  46 130 183 253\n",
      "  253 207   2   0   0   0   0   0   0   0]\n",
      " [  0   0   0   0   0   0   0   0   0   0   0   0  39 148 229 253 253 253\n",
      "  250 182   0   0   0   0   0   0   0   0]\n",
      " [  0   0   0   0   0   0   0   0   0   0  24 114 221 253 253 253 253 201\n",
      "   78   0   0   0   0   0   0   0   0   0]\n",
      " [  0   0   0   0   0   0   0   0  23  66 213 253 253 253 253 198  81   2\n",
      "    0   0   0   0   0   0   0   0   0   0]\n",
      " [  0   0   0   0   0   0  18 171 219 253 253 253 253 195  80   9   0   0\n",
      "    0   0   0   0   0   0   0   0   0   0]\n",
      " [  0   0   0   0  55 172 226 253 253 253 253 244 133  11   0   0   0   0\n",
      "    0   0   0   0   0   0   0   0   0   0]\n",
      " [  0   0   0   0 136 253 253 253 212 135 132  16   0   0   0   0   0   0\n",
      "    0   0   0   0   0   0   0   0   0   0]\n",
      " [  0   0   0   0   0   0   0   0   0   0   0   0   0   0   0   0   0   0\n",
      "    0   0   0   0   0   0   0   0   0   0]\n",
      " [  0   0   0   0   0   0   0   0   0   0   0   0   0   0   0   0   0   0\n",
      "    0   0   0   0   0   0   0   0   0   0]\n",
      " [  0   0   0   0   0   0   0   0   0   0   0   0   0   0   0   0   0   0\n",
      "    0   0   0   0   0   0   0   0   0   0]]\n"
     ]
    }
   ],
   "source": [
    "print(X_train.shape) # (60000, 28, 28)\n",
    "print(X_test.shape) # (10000, 28, 28)\n",
    "print(X_train[0].dtype) # uint8\n",
    "print(X_train[0])"
   ]
  },
  {
   "cell_type": "code",
   "execution_count": 4,
   "metadata": {
    "colab": {
     "base_uri": "https://localhost:8080/",
     "height": 34
    },
    "colab_type": "code",
    "id": "OKAOwlnH3YOr",
    "outputId": "cb2f0080-0557-4d84-8d4d-7414283dc94d"
   },
   "outputs": [
    {
     "data": {
      "text/plain": [
       "(60000,)"
      ]
     },
     "execution_count": 4,
     "metadata": {},
     "output_type": "execute_result"
    }
   ],
   "source": [
    "y_train.shape"
   ]
  },
  {
   "cell_type": "markdown",
   "metadata": {
    "colab_type": "text",
    "id": "WzjMevX53YOt"
   },
   "source": [
    "# 3.平滑化\n",
    "(1, 28, 28)の各画像を、(1, 784)に変換します。これまで学んできた機械学習手法や、今回扱う全結合層のみのニューラルネットワークではこの形で扱います。全てのピクセルが一列になっていることを、平滑化（flatten）してあるという風に表現します。\n",
    "\n",
    "## サンプルコード\n",
    "\n"
   ]
  },
  {
   "cell_type": "code",
   "execution_count": 5,
   "metadata": {
    "colab": {},
    "colab_type": "code",
    "id": "aAaGcX5T3YOt"
   },
   "outputs": [],
   "source": [
    "X_train = X_train.reshape(-1, 784)\n",
    "X_test = X_test.reshape(-1, 784)"
   ]
  },
  {
   "cell_type": "markdown",
   "metadata": {
    "colab_type": "text",
    "id": "rS-08S4L3YOv"
   },
   "source": [
    "## 補足\n",
    "\n",
    "ここまで機械学習を学んでくる中で、特徴量の数を「次元」と呼んできました。その視点ではMNISTは784次元のデータです。一方で、NumPyのshapeが(784,)の状態を1次元配列とも呼びます。画像としての縦横の情報を持つ（28, 28)の状態であれば、2次元配列です。この視点では2次元のデータです。さらに、もしもカラー画像であれば(28, 28, 3)ということになり、3次元配列です。先ほどの視点では3次元のデータになります。しかし、白黒でもカラーでも平面画像であり、立体データではないという視点で、2次元のデータです。画像データを扱う際にはこのように「次元」という言葉が複数の意味合いで使われることに注意してください。\n",
    "\n",
    "## 画像データの可視化\n",
    "画像データを可視化します。plt.imshowに渡します。\n",
    "\n",
    "サンプルコード"
   ]
  },
  {
   "cell_type": "code",
   "execution_count": 6,
   "metadata": {
    "colab": {
     "base_uri": "https://localhost:8080/",
     "height": 281
    },
    "colab_type": "code",
    "id": "siy3JGQ53YOv",
    "outputId": "49aa9d99-6d09-42ea-e709-0cc01cb9fbfb"
   },
   "outputs": [
    {
     "data": {
      "image/png": "[encoded data removed]",
      "text/plain": [
       "<Figure size 432x288 with 1 Axes>"
      ]
     },
     "metadata": {
      "needs_background": "light"
     },
     "output_type": "display_data"
    }
   ],
   "source": [
    "import matplotlib.pyplot as plt\n",
    "%matplotlib inline\n",
    "index = 0\n",
    "image = X_train[index].reshape(28,28)\n",
    "# X_train[index]: (784,)\n",
    "# image: (28, 28)\n",
    "plt.imshow(image, 'gray')\n",
    "plt.title('label : {:.4f}'.format(y_train[index]))\n",
    "plt.show()"
   ]
  },
  {
   "cell_type": "markdown",
   "metadata": {
    "colab_type": "text",
    "id": "UtS1Ckwy3YOx"
   },
   "source": [
    "## 前処理\n",
    "画像は0から255のuint8型で表されますが、機械学習をする上では0から1のfloat型で扱うことになります。色は理想的には連続値であり、それを特徴量とするからです。以下のコードで変換可能です。\n",
    "\n",
    "## サンプルコード"
   ]
  },
  {
   "cell_type": "code",
   "execution_count": 7,
   "metadata": {
    "colab": {
     "base_uri": "https://localhost:8080/",
     "height": 51
    },
    "colab_type": "code",
    "id": "Oj8I9O9_3YOy",
    "outputId": "26ed3ad6-77d8-4155-9da6-fe01fc6b759f"
   },
   "outputs": [
    {
     "name": "stdout",
     "output_type": "stream",
     "text": [
      "1.0\n",
      "0.0\n"
     ]
    }
   ],
   "source": [
    "X_train = X_train.astype(np.float)\n",
    "X_test = X_test.astype(np.float)\n",
    "X_train /= 255\n",
    "X_test /= 255\n",
    "print(X_train.max()) # 1.0\n",
    "print(X_train.min()) # 0.0"
   ]
  },
  {
   "cell_type": "code",
   "execution_count": null,
   "metadata": {},
   "outputs": [],
   "source": []
  },
  {
   "cell_type": "markdown",
   "metadata": {
    "colab_type": "text",
    "id": "45s5wKG63YO0"
   },
   "source": [
    "また、正解ラベルは0から9の整数ですが、ニューラルネットワークで多クラス分類を行う際にはone-hot表現に変換します。scikit-learnのOneHotEncoderを使用したコードが以下です。このone-hot表現による値はそのラベルである確率を示していることになるため、float型で扱います。\n",
    "\n",
    "## サンプルコード"
   ]
  },
  {
   "cell_type": "code",
   "execution_count": 8,
   "metadata": {
    "colab": {
     "base_uri": "https://localhost:8080/",
     "height": 68
    },
    "colab_type": "code",
    "id": "d3SmFzAl3YO1",
    "outputId": "51be7738-9d57-4d50-a162-b36deb7c7f0a"
   },
   "outputs": [
    {
     "name": "stdout",
     "output_type": "stream",
     "text": [
      "(60000,)\n",
      "(60000, 10)\n",
      "float64\n"
     ]
    }
   ],
   "source": [
    "from sklearn.preprocessing import OneHotEncoder\n",
    "enc = OneHotEncoder(handle_unknown='ignore', sparse=False)\n",
    "y_train_one_hot = enc.fit_transform(y_train[:, np.newaxis])\n",
    "y_test_one_hot = enc.transform(y_test[:, np.newaxis])\n",
    "print(y_train.shape) # (60000,)\n",
    "print(y_train_one_hot.shape) # (60000, 10)\n",
    "print(y_train_one_hot.dtype) # float64"
   ]
  },
  {
   "cell_type": "code",
   "execution_count": 9,
   "metadata": {
    "colab": {
     "base_uri": "https://localhost:8080/",
     "height": 34
    },
    "colab_type": "code",
    "id": "xi_5iDMk3YO3",
    "outputId": "db53c3f8-a0db-4ec4-8c1e-7c084bea1def"
   },
   "outputs": [
    {
     "data": {
      "text/plain": [
       "(60000, 784)"
      ]
     },
     "execution_count": 9,
     "metadata": {},
     "output_type": "execute_result"
    }
   ],
   "source": [
    " X_train.shape"
   ]
  },
  {
   "cell_type": "code",
   "execution_count": 10,
   "metadata": {
    "colab": {
     "base_uri": "https://localhost:8080/",
     "height": 34
    },
    "colab_type": "code",
    "id": "xcB4p8Bz3YO5",
    "outputId": "0a60ee21-d10b-449e-c5b1-92d3916f90c6"
   },
   "outputs": [
    {
     "data": {
      "text/plain": [
       "(60000, 10)"
      ]
     },
     "execution_count": 10,
     "metadata": {},
     "output_type": "execute_result"
    }
   ],
   "source": [
    "y_train_one_hot.shape"
   ]
  },
  {
   "cell_type": "markdown",
   "metadata": {
    "colab_type": "text",
    "id": "D66EO43Q3YO7"
   },
   "source": [
    "[sklearn.preprocessing.OneHotEncoder — scikit-learn 0.20.0 documentation](https://scikit-learn.org/stable/modules/generated/sklearn.preprocessing.OneHotEncoder.html)\n",
    "\n",
    "さらに、学習用データ6万枚の内2割を検証用データとして分割してください。学習用データが48000枚、検証用データが12000枚となります。\n",
    "\n",
    "## サンプルコード"
   ]
  },
  {
   "cell_type": "code",
   "execution_count": 11,
   "metadata": {
    "colab": {
     "base_uri": "https://localhost:8080/",
     "height": 51
    },
    "colab_type": "code",
    "id": "xiqvMHCa3YO7",
    "outputId": "035d6d18-0d01-4f83-96a7-373be1812d68"
   },
   "outputs": [
    {
     "name": "stdout",
     "output_type": "stream",
     "text": [
      "(48000, 784)\n",
      "(12000, 784)\n"
     ]
    }
   ],
   "source": [
    "X_train, X_val, y_train, y_val = train_test_split(X_train, y_train, test_size=0.2)\n",
    "print(X_train.shape) # (48000, 784)\n",
    "print(X_val.shape) # (12000, 784)"
   ]
  },
  {
   "cell_type": "markdown",
   "metadata": {
    "colab_type": "text",
    "id": "3co3CY-Q3YO-"
   },
   "source": [
    "# 【問題1】ニューラルネットワーク分類器のクラスを作成\n",
    "ニューラルネットワーク分類器のクラスScratchSimpleNeuralNetrowkClassifierを作成してください。\n",
    "\n",
    "以下が雛形です。基本的な構成は機械学習編の線形回帰やロジスティック回帰などと同様です。\n",
    "\n",
    "雛形"
   ]
  },
  {
   "cell_type": "markdown",
   "metadata": {
    "colab_type": "text",
    "id": "NtJOldY_3YO_"
   },
   "source": [
    "## フォワードプロパゲーション\n",
    "三層のニューラルネットワークのフォワードプロパゲーションを作成します。以下の説明ではノード数は1層目は400、2層目は200としますが、変更しても構いません。\n",
    "\n",
    "各層の数式を以下に示します。今回はそれぞれの記号が表す配列が、実装上どのようなndarrayのshapeになるかを併記してあります。\n",
    "\n"
   ]
  },
  {
   "cell_type": "markdown",
   "metadata": {
    "colab": {},
    "colab_type": "code",
    "id": "9_6_nYDS3YPA"
   },
   "source": [
    "```python\n",
    "batch_size = 10 # バッチサイズ\n",
    "n_features = 784 # 特徴量の数\n",
    "n_nodes1 = 400 # 1層目のノード数\n",
    "n_nodes2 = 200 # 2層目のノード数\n",
    "n_output = 10 # 出力のクラス数（3層目のノード数）\n",
    "```"
   ]
  },
  {
   "cell_type": "markdown",
   "metadata": {
    "colab_type": "text",
    "id": "ecOhmTN93YPC"
   },
   "source": [
    "「1層目」\n",
    "\n",
    "$A_1 = X \\cdot W_1 + B_1$"
   ]
  },
  {
   "cell_type": "markdown",
   "metadata": {
    "colab_type": "text",
    "id": "ta_T4CM-3YPC"
   },
   "source": [
    "### GetMiniBatchクラス"
   ]
  },
  {
   "cell_type": "code",
   "execution_count": 13,
   "metadata": {
    "colab": {},
    "colab_type": "code",
    "id": "BZCOiNQH3YPD"
   },
   "outputs": [],
   "source": [
    "class GetMiniBatch:\n",
    "    \"\"\"\n",
    "    ミニバッチを取得するイテレータ\n",
    "\n",
    "    Parameters\n",
    "    ----------\n",
    "    X : 次の形のndarray, shape (n_samples, n_features)\n",
    "      学習データ\n",
    "    y : 次の形のndarray, shape (n_samples, 1)\n",
    "      正解値\n",
    "    batch_size : int\n",
    "      バッチサイズ\n",
    "    seed : int\n",
    "      NumPyの乱数のシード\n",
    "    \"\"\"\n",
    "    def __init__(self, X, y, batch_size = 10, seed=0):\n",
    "        self.batch_size = batch_size\n",
    "        np.random.seed(seed)\n",
    "        shuffle_index = np.random.permutation(np.arange(X.shape[0]))\n",
    "        self.X = X[shuffle_index]\n",
    "        self.y = y[shuffle_index]\n",
    "        self._stop = np.ceil(X.shape[0]/self.batch_size).astype(np.int)\n",
    "\n",
    "    def __len__(self):\n",
    "        return self._stop\n",
    "\n",
    "    def __getitem__(self,item):\n",
    "        p0 = item*self.batch_size\n",
    "        p1 = item*self.batch_size + self.batch_size\n",
    "        return self.X[p0:p1], self.y[p0:p1]        \n",
    "\n",
    "    def __iter__(self):\n",
    "        self._counter = 0\n",
    "        return self\n",
    "\n",
    "    def __next__(self):\n",
    "        if self._counter >= self._stop:\n",
    "            raise StopIteration()\n",
    "        p0 = self._counter*self.batch_size\n",
    "        p1 = self._counter*self.batch_size + self.batch_size\n",
    "        self._counter += 1\n",
    "        return self.X[p0:p1], self.y[p0:p1]"
   ]
  },
  {
   "cell_type": "markdown",
   "metadata": {
    "colab_type": "text",
    "id": "d3DjqRM_3YPF"
   },
   "source": [
    "### ScratchSimpleNeuralNetrowkClassifierクラス"
   ]
  },
  {
   "cell_type": "code",
   "execution_count": 49,
   "metadata": {},
   "outputs": [],
   "source": [
    "import numpy as np\n",
    "import pandas as pd\n",
    "\n",
    "\n",
    "class ScratchSimpleNeuralNetrowkClassifier():\n",
    "    \n",
    "    \"\"\"\n",
    "    シンプルな三層ニューラルネットワーク分類器\n",
    "\n",
    "    Parameters\n",
    "    ----------\n",
    "    self.lr = lr # 学習率\n",
    "    self.sigma = sigma # ガウス分布の標準偏差\n",
    "    self.batch_size = batch_size # バッチサイズ\n",
    "    self.n_features = n_features # 特徴量の数\n",
    "    self.n_nodes1 = n_nodes1 # 1層目のノード数\n",
    "    self.n_nodes2 = n_nodes2 # 2層目のノード数\n",
    "    self.n_output = n_output # 出力のクラス数（3層目のノード数）\n",
    "    self.verbose = verbose　# 学習結果を表示するかを設定するフラグ\n",
    "\n",
    "    # 損失を記録する配列を用意\n",
    "    self.loss = []\n",
    "    self.val_loss = []\n",
    "    \n",
    "    Attributes\n",
    "    ----------\n",
    "    self.w1_ = self.sigma * np.random.randn(self.n_features, self.n_nodes1)\n",
    "    self.w2_ = self.sigma * np.random.randn(self.n_nodes1, self.n_nodes2)\n",
    "    self.w3_ = self.sigma * np.random.randn(self.n_nodes2, self.n_output)\n",
    "\n",
    "    self.b1_ = self.sigma * np.random.randn(1, self.n_nodes1)\n",
    "    self.b2_ = self.sigma * np.random.randn(1, self.n_nodes2)\n",
    "    self.b3_ = self.sigma * np.random.randn(1, self.n_output)\n",
    "\n",
    "    self.Z1_ = None\n",
    "    self.Z2_ = None\n",
    "    self.Z3_ = None\n",
    "    \"\"\"\n",
    "\n",
    "    def __init__(self,lr, sigma, batch_size, n_epochs, n_features, n_nodes1, n_nodes2, n_output,\\\n",
    "                         activation, verbose=None):\n",
    "        self.lr = lr # 学習率\n",
    "        self.sigma = sigma # ガウス分布の標準偏差\n",
    "        self.batch_size = batch_size # バッチサイズ\n",
    "        self.n_epochs = n_epochs # エポック数\n",
    "        self.n_features = n_features # 特徴量の数\n",
    "        self.n_nodes1 = n_nodes1 # 1層目のノード数\n",
    "        self.n_nodes2 = n_nodes2 # 2層目のノード数\n",
    "        self.n_output = n_output # 出力のクラス数（3層目のノード数）\n",
    "        self.activation = activation # 活性化関数を指定する文字列\n",
    "        self.verbose = verbose# 学習結果を表示するかを設定するフラグ\n",
    "\n",
    "        \n",
    "        # 損失を記録する配列を用意\n",
    "        self.loss = []\n",
    "        self.val_loss = []\n",
    "        \n",
    "        self.verification_flag = None\n",
    "\n",
    "        \"\"\"\n",
    "        重みとバイアスの初期化\n",
    "        \"\"\"\n",
    "        self.w1_ = self.sigma * np.random.randn(self.n_features, self.n_nodes1)\n",
    "        self.w2_ = self.sigma * np.random.randn(self.n_nodes1, self.n_nodes2)\n",
    "        self.w3_ = self.sigma * np.random.randn(self.n_nodes2, self.n_output)\n",
    "\n",
    "        self.b1_ = self.sigma * np.random.randn(1, self.n_nodes1)\n",
    "        self.b2_ = self.sigma * np.random.randn(1, self.n_nodes2)\n",
    "        self.b3_ = self.sigma * np.random.randn(1, self.n_output)\n",
    "        \n",
    "        self.Z1_ = None\n",
    "        self.Z2_ = None\n",
    "        self.Z3_ = None\n",
    "\n",
    "    \n",
    "    def fit(self, X_train, y_train, X_val=None, y_val=None):\n",
    "        \n",
    "        \"\"\"\n",
    "        ニューラルネットワーク分類器を学習する。\n",
    "\n",
    "        Parameters\n",
    "        ----------\n",
    "        X : 次の形のndarray, shape (n_samples, n_features)\n",
    "            学習用データの特徴量\n",
    "        y : 次の形のndarray, shape (n_samples, )\n",
    "            学習用データの正解値\n",
    "        X_val : 次の形のndarray, shape (n_samples, n_features)\n",
    "            検証用データの特徴量\n",
    "        y_val : 次の形のndarray, shape (n_samples, )\n",
    "            検証用データの正解値\n",
    "        \"\"\"\n",
    "        # 検証データの有無を記録するフラグ\n",
    "        if X_val is not None and y_val is not None:\n",
    "            self.verification_flag = True\n",
    "        \n",
    "\n",
    "                \n",
    "        enc = OneHotEncoder(handle_unknown='ignore', sparse=False)\n",
    "        y_train_one_hot = enc.fit_transform(y_train[:, np.newaxis])\n",
    "        \n",
    "        if self.verification_flag:\n",
    "            y_val_one_hot = enc.transform(y_val[:, np.newaxis])\n",
    "        \n",
    "#         X_train, y_train, X_val, y_val = self.prepro(X_train, y_train,\\\n",
    "#                                                                                  X_val, y_val)\n",
    "     \n",
    "        \n",
    "        \"\"\"\n",
    "        ミニバッチ処理開始\n",
    "        \"\"\"\n",
    "        #ミニバッチ処理を行うインスタンスを作成\n",
    "\n",
    "        for e in range(self.n_epochs):\n",
    "            num = 0\n",
    "            get_mini_batch_train = GetMiniBatch(X_train, y_train_one_hot, batch_size=self.batch_size)\n",
    "            \n",
    "            # バッチサイズ毎にデータを取得する\n",
    "            for mini_X_train, mini_y_train in get_mini_batch_train:\n",
    "                num += 1\n",
    "\n",
    "                # 順伝搬\n",
    "                z_n1, a_n1, z_n2, a_n2, z_out, a_out = self.forward_prop(mini_X_train)\n",
    "#                 print('z_out = {:.4f}'.format(np.mean(z_out)))\n",
    "#                 print('a_out = {:.4f}'.format(np.mean(a_out)))\n",
    "                \n",
    "                #　逆伝搬+パラメータ更新\n",
    "                self.back_prop(mini_X_train, mini_y_train, z_n1, a_n1, z_n2, a_n2, z_out, a_out)\n",
    "            \n",
    "\n",
    "#                 _, _, _, _, _, a_out = self.forward_prop(mini_X_train)\n",
    "#                 loss = self.cross_entropy_error(mini_y_train, a_out)\n",
    "#                 print('学習中のloss = {:.4f}'.format(loss))\n",
    "\n",
    "            # 順伝搬\n",
    "            _, _, _, _, _, a_out = self.forward_prop(X_train)\n",
    "            loss1 = self.cross_entropy_error(y_train_one_hot, a_out)\n",
    "            self.loss.append(loss1)\n",
    "#             print('loss1 = {:.4f}'.format(loss1))\n",
    "\n",
    "            # 検証用データの有無を判別→データが存在する場合、フラグを変更\n",
    "            if self.verification_flag:\n",
    "                _, _, _, _, _, a_out = self.forward_prop(X_val)\n",
    "                loss2 = self.cross_entropy_error(y_val_one_hot, a_out)\n",
    "                self.val_loss.append(loss2)\n",
    "\n",
    "            if self.verbose:\n",
    "                #verboseをTrueにした際は学習過程などを出力する\n",
    "                print('{}epoch目\\n'.format(e + 1))\n",
    "                print('学習用正解データとの誤差　：　{:.4f}\\n'.format(loss1))\n",
    "\n",
    "                if self.verification_flag:\n",
    "                    print('検証用正解データとの誤差　：　{:.4f}\\n'.format(loss2))\n",
    "                print('------------------------------------------------')\n",
    "\n",
    "\n",
    "    def predict(self, X_test):\n",
    "        \"\"\"\n",
    "        ニューラルネットワーク分類器を使い推定する。\n",
    "\n",
    "        Parameters\n",
    "        ----------\n",
    "        X : 次の形のndarray, shape (n_samples, n_features)\n",
    "            サンプル\n",
    "\n",
    "        Returns\n",
    "        -------\n",
    "            次の形のndarray, shape (n_samples, 1)\n",
    "            推定結果\n",
    "        \"\"\"\n",
    "        \n",
    "        # 順伝搬\n",
    "        _, _, _, _, _, a_out = self.forward_prop(X_test)\n",
    "        \n",
    "        # ソフトマックス関数の出力値(入力データがそれぞれの値である確率)から\n",
    "        # 最も高い値を格納しているインデックス(0 ~ 9)を行単位(axis=1)で取り出す\n",
    "        return np.argmax(a_out, axis=1)\n",
    "\n",
    "    \n",
    "    # 順伝搬\n",
    "    def forward_prop(self, X):\n",
    "\n",
    "        # 隠れ層(第1層)\n",
    "        z_n1 = X @ self.w1_ + self.b1_\n",
    "        # シグモイド関数で計算\n",
    "        a_n1 = self.activation_func(z_n1)\n",
    "\n",
    "        # 隠れ層(第２層)\n",
    "        z_n2= a_n1 @ self.w2_ + self.b2_\n",
    "        # ハイパボリックタンジェント関数で計算\n",
    "        a_n2 = self.activation_func(z_n2)\n",
    "\n",
    "        # 出力層(第３層)\n",
    "        z_out = a_n2 @ self.w3_ + self.b3_\n",
    "        a_out = self.softmax(z_out)\n",
    "        \n",
    "        return z_n1, a_n1, z_n2, a_n2, z_out, a_out\n",
    "    \n",
    "    \n",
    "    # 誤差逆伝搬\n",
    "    def back_prop(self,X , y, z_n1, a_n1, z_n2, a_n2, z_out, a_out):\n",
    "        \n",
    "        # 出力層(第3層)\n",
    "        # ΔL/ΔA3の計算\n",
    "        \n",
    "        grad_z_out =  a_out - y\n",
    "        grad_b_out = grad_z_out.sum(axis=0)\n",
    "        grad_w_out = a_n2.T @ grad_z_out\n",
    "\n",
    "        # 重みの更新\n",
    "        self.w3_ -= self.lr * (grad_w_out / self.batch_size)\n",
    "        self.b3_ -= self.lr * (grad_b_out / self.batch_size)\n",
    "#         print('self.w3_ = {:.4f}'.format(self.w3_))\n",
    "#         print('self.b3_ = {:.4f}'.format(self.b3_))\n",
    "        \n",
    "        # (隠れ層)第２層\n",
    "        # ΔL/ΔA2の計算\n",
    "        grad_a_n2 =  (grad_z_out @ self.w3_.T) \n",
    "#         print('grad_a_n2 = {:.4f} self.derivative_func(z_n2) = {:.4f}'.format(grad_a_n2, self.derivative_func(z_n2)))\n",
    "        grad_z_n2 = grad_a_n2 * self.derivative_func(a_n2)\n",
    "\n",
    "        grad_b_n2 = grad_z_n2.sum(axis=0)\n",
    "        grad_w_n2 = a_n1.T @ grad_z_n2\n",
    "\n",
    "                \n",
    "        # 重みの更新\n",
    "        self.w2_ -=  self.lr * (grad_w_n2 /self.batch_size)\n",
    "        # バイアスの更新\n",
    "        self.b2_ -= self.lr * (grad_b_n2 / self.batch_size)\n",
    "\n",
    "        \n",
    "        # (隠れ層)第1層\n",
    "        grad_a_n1 = grad_z_n2 @ self.w2_.T\n",
    "        grad_z_n1 = grad_a_n1 * self.derivative_func(a_n1)\n",
    "        grad_b_n1 = grad_z_n1.sum(axis=0)\n",
    "        grad_w_n1 = X.T @ grad_z_n1\n",
    "\n",
    "        # バイアスの更新\n",
    "        self.w1_ -= self.lr * (grad_w_n1 / self.batch_size)\n",
    "        self.b1_ -= self.lr * (grad_b_n1 / self.batch_size)\n",
    "\n",
    "    \n",
    "    def activation_func(self, A):\n",
    "        \n",
    "        \"\"\"\n",
    "        指定の活性化関数で順伝搬する。\n",
    "\n",
    "        Parameters\n",
    "        ----------\n",
    "        A : 次の形のndarray, shape (n_samples, n_features)\n",
    "            サンプル\n",
    "\n",
    "        Returns\n",
    "        -------\n",
    "            次の形のndarray, shape (n_samples, 1)\n",
    "            推定結果\n",
    "        \"\"\"\n",
    "        \n",
    "        # オーバーフロー対策の為、eの乗数の最大値、最小値を設定\n",
    "#         sigmoid_range = 34.538776394910684\n",
    "#         A = np.clip(A, -sigmoid_range, sigmoid_range)\n",
    "        \n",
    "        # funcの値を確認\n",
    "        # 0の場合→シグモイド関数を計算\n",
    "        if self.activation == 'sig':\n",
    "            # シグモイド関数を計算\n",
    "            return 1.0 / (1.0 + np.exp(-A))\n",
    "        \n",
    "        # 1の場合→ハイポリックタンジェント関数を計算\n",
    "        elif self.activation == 'tan':\n",
    "            return np.tanh(A)\n",
    "\n",
    "    \n",
    "    def derivative_func(self, dZ):\n",
    "        \n",
    "        \"\"\"\n",
    "        指定の活性化関数で逆伝搬する。\n",
    "\n",
    "        Parameters\n",
    "        ----------\n",
    "        A : 次の形のndarray, shape (n_samples, n_features)\n",
    "            サンプル\n",
    "\n",
    "        Returns\n",
    "        -------\n",
    "            次の形のndarray, shape (n_samples, 1)\n",
    "            推定結果\n",
    "        \"\"\"\n",
    "        # funcの値を確認\n",
    "        # 0の場合→シグモイド関数を計算\n",
    "        if self.activation == 'sig':\n",
    "            # シグモイド関数を計算\n",
    "            return (dZ * (1.0 - dZ))\n",
    "        \n",
    "        # 1の場合→ハイポリックタンジェント関数を計算\n",
    "        elif self.activation == 'tan':\n",
    "            return (1. - (np.tanh(dZ))**2)\n",
    "        \n",
    "    \n",
    "    \n",
    "    def softmax(self, A3):\n",
    "        \n",
    "        # 最大値を取得\n",
    "        A3_max = np.max(A3, axis=1)\n",
    "        \n",
    "        # オーバーフロー対策の為、各値から最大値を引く\n",
    "        exp_A = np.exp(A3 - A3_max.reshape(-1, 1))\n",
    "        sum_exp_A = np.sum(exp_A, axis=1).reshape(-1, 1)\n",
    "\n",
    "        # ソフトマックス関数を計算\n",
    "        return exp_A / sum_exp_A\n",
    "    \n",
    "    \n",
    "    def cross_entropy_error(self, t, y ):\n",
    "#         # 計算結果がマイナス無限大となるのを防ぐ為に微小な値を作成\n",
    "#         delta = 1e-7\n",
    "        \n",
    "#         # クロスエントロピー誤差を計算\n",
    "#         return (- (np.sum(t * np.log(y + delta))))\n",
    "        value1 = t * (np.log(y + 1e-05)) # ゼロ除算対策\n",
    "#         value2 = (1. - t) * np.log(1. - y + 1e-05) # ゼロ除算対策\n",
    "        train_cost = -np.sum(value1)\n",
    "        return train_cost /t.shape[0]\n",
    "\n",
    "    def plot_learning_curve(self):\n",
    "        plt.plot(range(self.n_epochs), self.loss, label='loss')\n",
    "        plt.plot(range(self.n_epochs), self.val_loss, label='val_loss')\n",
    "        plt.xlabel('repeat_count')\n",
    "        plt.ylabel('mse')\n",
    "        plt.title('Learning curve')\n",
    "        plt.legend()\n",
    "        return\n"
   ]
  },
  {
   "cell_type": "code",
   "execution_count": 15,
   "metadata": {},
   "outputs": [
    {
     "data": {
      "text/plain": [
       "(48000,)"
      ]
     },
     "execution_count": 15,
     "metadata": {},
     "output_type": "execute_result"
    }
   ],
   "source": [
    "y_train.shape"
   ]
  },
  {
   "cell_type": "code",
   "execution_count": 16,
   "metadata": {},
   "outputs": [
    {
     "data": {
      "text/plain": [
       "(12000, 784)"
      ]
     },
     "execution_count": 16,
     "metadata": {},
     "output_type": "execute_result"
    }
   ],
   "source": [
    "X_val.shape"
   ]
  },
  {
   "cell_type": "code",
   "execution_count": 32,
   "metadata": {},
   "outputs": [
    {
     "data": {
      "text/plain": [
       "(48000, 784)"
      ]
     },
     "execution_count": 32,
     "metadata": {},
     "output_type": "execute_result"
    }
   ],
   "source": [
    "X_train.shape"
   ]
  },
  {
   "cell_type": "code",
   "execution_count": 17,
   "metadata": {},
   "outputs": [
    {
     "data": {
      "text/plain": [
       "(12000,)"
      ]
     },
     "execution_count": 17,
     "metadata": {},
     "output_type": "execute_result"
    }
   ],
   "source": [
    "y_val.shape"
   ]
  },
  {
   "cell_type": "code",
   "execution_count": 50,
   "metadata": {},
   "outputs": [
    {
     "name": "stdout",
     "output_type": "stream",
     "text": [
      "1epoch目\n",
      "\n",
      "学習用正解データとの誤差　：　2.3111\n",
      "\n",
      "検証用正解データとの誤差　：　2.3122\n",
      "\n",
      "------------------------------------------------\n",
      "2epoch目\n",
      "\n",
      "学習用正解データとの誤差　：　2.3155\n",
      "\n",
      "検証用正解データとの誤差　：　2.3175\n",
      "\n",
      "------------------------------------------------\n",
      "3epoch目\n",
      "\n",
      "学習用正解データとの誤差　：　2.3182\n",
      "\n",
      "検証用正解データとの誤差　：　2.3210\n",
      "\n",
      "------------------------------------------------\n",
      "4epoch目\n",
      "\n",
      "学習用正解データとの誤差　：　2.2063\n",
      "\n",
      "検証用正解データとの誤差　：　2.2104\n",
      "\n",
      "------------------------------------------------\n",
      "5epoch目\n",
      "\n",
      "学習用正解データとの誤差　：　1.4580\n",
      "\n",
      "検証用正解データとの誤差　：　1.4635\n",
      "\n",
      "------------------------------------------------\n",
      "6epoch目\n",
      "\n",
      "学習用正解データとの誤差　：　1.1273\n",
      "\n",
      "検証用正解データとの誤差　：　1.1252\n",
      "\n",
      "------------------------------------------------\n",
      "7epoch目\n",
      "\n",
      "学習用正解データとの誤差　：　0.8526\n",
      "\n",
      "検証用正解データとの誤差　：　0.8460\n",
      "\n",
      "------------------------------------------------\n",
      "8epoch目\n",
      "\n",
      "学習用正解データとの誤差　：　0.7207\n",
      "\n",
      "検証用正解データとの誤差　：　0.7142\n",
      "\n",
      "------------------------------------------------\n",
      "9epoch目\n",
      "\n",
      "学習用正解データとの誤差　：　0.6485\n",
      "\n",
      "検証用正解データとの誤差　：　0.6409\n",
      "\n",
      "------------------------------------------------\n",
      "10epoch目\n",
      "\n",
      "学習用正解データとの誤差　：　0.5835\n",
      "\n",
      "検証用正解データとの誤差　：　0.5743\n",
      "\n",
      "------------------------------------------------\n",
      "11epoch目\n",
      "\n",
      "学習用正解データとの誤差　：　0.5320\n",
      "\n",
      "検証用正解データとの誤差　：　0.5223\n",
      "\n",
      "------------------------------------------------\n",
      "12epoch目\n",
      "\n",
      "学習用正解データとの誤差　：　0.4925\n",
      "\n",
      "検証用正解データとの誤差　：　0.4836\n",
      "\n",
      "------------------------------------------------\n",
      "13epoch目\n",
      "\n",
      "学習用正解データとの誤差　：　0.4562\n",
      "\n",
      "検証用正解データとの誤差　：　0.4487\n",
      "\n",
      "------------------------------------------------\n",
      "14epoch目\n",
      "\n",
      "学習用正解データとの誤差　：　0.4198\n",
      "\n",
      "検証用正解データとの誤差　：　0.4136\n",
      "\n",
      "------------------------------------------------\n",
      "15epoch目\n",
      "\n",
      "学習用正解データとの誤差　：　0.3876\n",
      "\n",
      "検証用正解データとの誤差　：　0.3824\n",
      "\n",
      "------------------------------------------------\n",
      "16epoch目\n",
      "\n",
      "学習用正解データとの誤差　：　0.3635\n",
      "\n",
      "検証用正解データとの誤差　：　0.3592\n",
      "\n",
      "------------------------------------------------\n",
      "17epoch目\n",
      "\n",
      "学習用正解データとの誤差　：　0.3457\n",
      "\n",
      "検証用正解データとの誤差　：　0.3423\n",
      "\n",
      "------------------------------------------------\n",
      "18epoch目\n",
      "\n",
      "学習用正解データとの誤差　：　0.3317\n",
      "\n",
      "検証用正解データとの誤差　：　0.3291\n",
      "\n",
      "------------------------------------------------\n",
      "19epoch目\n",
      "\n",
      "学習用正解データとの誤差　：　0.3199\n",
      "\n",
      "検証用正解データとの誤差　：　0.3181\n",
      "\n",
      "------------------------------------------------\n",
      "20epoch目\n",
      "\n",
      "学習用正解データとの誤差　：　0.3093\n",
      "\n",
      "検証用正解データとの誤差　：　0.3085\n",
      "\n",
      "------------------------------------------------\n",
      "21epoch目\n",
      "\n",
      "学習用正解データとの誤差　：　0.2996\n",
      "\n",
      "検証用正解データとの誤差　：　0.2995\n",
      "\n",
      "------------------------------------------------\n",
      "22epoch目\n",
      "\n",
      "学習用正解データとの誤差　：　0.2902\n",
      "\n",
      "検証用正解データとの誤差　：　0.2910\n",
      "\n",
      "------------------------------------------------\n",
      "23epoch目\n",
      "\n",
      "学習用正解データとの誤差　：　0.2811\n",
      "\n",
      "検証用正解データとの誤差　：　0.2828\n",
      "\n",
      "------------------------------------------------\n",
      "24epoch目\n",
      "\n",
      "学習用正解データとの誤差　：　0.2722\n",
      "\n",
      "検証用正解データとの誤差　：　0.2747\n",
      "\n",
      "------------------------------------------------\n",
      "25epoch目\n",
      "\n",
      "学習用正解データとの誤差　：　0.2633\n",
      "\n",
      "検証用正解データとの誤差　：　0.2666\n",
      "\n",
      "------------------------------------------------\n",
      "26epoch目\n",
      "\n",
      "学習用正解データとの誤差　：　0.2544\n",
      "\n",
      "検証用正解データとの誤差　：　0.2586\n",
      "\n",
      "------------------------------------------------\n",
      "27epoch目\n",
      "\n",
      "学習用正解データとの誤差　：　0.2457\n",
      "\n",
      "検証用正解データとの誤差　：　0.2508\n",
      "\n",
      "------------------------------------------------\n",
      "28epoch目\n",
      "\n",
      "学習用正解データとの誤差　：　0.2372\n",
      "\n",
      "検証用正解データとの誤差　：　0.2431\n",
      "\n",
      "------------------------------------------------\n",
      "29epoch目\n",
      "\n",
      "学習用正解データとの誤差　：　0.2288\n",
      "\n",
      "検証用正解データとの誤差　：　0.2356\n",
      "\n",
      "------------------------------------------------\n",
      "30epoch目\n",
      "\n",
      "学習用正解データとの誤差　：　0.2208\n",
      "\n",
      "検証用正解データとの誤差　：　0.2283\n",
      "\n",
      "------------------------------------------------\n",
      "31epoch目\n",
      "\n",
      "学習用正解データとの誤差　：　0.2130\n",
      "\n",
      "検証用正解データとの誤差　：　0.2214\n",
      "\n",
      "------------------------------------------------\n",
      "32epoch目\n",
      "\n",
      "学習用正解データとの誤差　：　0.2056\n",
      "\n",
      "検証用正解データとの誤差　：　0.2148\n",
      "\n",
      "------------------------------------------------\n",
      "33epoch目\n",
      "\n",
      "学習用正解データとの誤差　：　0.1987\n",
      "\n",
      "検証用正解データとの誤差　：　0.2086\n",
      "\n",
      "------------------------------------------------\n",
      "34epoch目\n",
      "\n",
      "学習用正解データとの誤差　：　0.1920\n",
      "\n",
      "検証用正解データとの誤差　：　0.2027\n",
      "\n",
      "------------------------------------------------\n",
      "35epoch目\n",
      "\n",
      "学習用正解データとの誤差　：　0.1858\n",
      "\n",
      "検証用正解データとの誤差　：　0.1972\n",
      "\n",
      "------------------------------------------------\n",
      "36epoch目\n",
      "\n",
      "学習用正解データとの誤差　：　0.1799\n",
      "\n",
      "検証用正解データとの誤差　：　0.1920\n",
      "\n",
      "------------------------------------------------\n",
      "37epoch目\n",
      "\n",
      "学習用正解データとの誤差　：　0.1744\n",
      "\n",
      "検証用正解データとの誤差　：　0.1871\n",
      "\n",
      "------------------------------------------------\n",
      "38epoch目\n",
      "\n",
      "学習用正解データとの誤差　：　0.1691\n",
      "\n",
      "検証用正解データとの誤差　：　0.1825\n",
      "\n",
      "------------------------------------------------\n",
      "39epoch目\n",
      "\n",
      "学習用正解データとの誤差　：　0.1642\n",
      "\n",
      "検証用正解データとの誤差　：　0.1782\n",
      "\n",
      "------------------------------------------------\n",
      "40epoch目\n",
      "\n",
      "学習用正解データとの誤差　：　0.1595\n",
      "\n",
      "検証用正解データとの誤差　：　0.1741\n",
      "\n",
      "------------------------------------------------\n",
      "41epoch目\n",
      "\n",
      "学習用正解データとの誤差　：　0.1550\n",
      "\n",
      "検証用正解データとの誤差　：　0.1703\n",
      "\n",
      "------------------------------------------------\n",
      "42epoch目\n",
      "\n",
      "学習用正解データとの誤差　：　0.1508\n",
      "\n",
      "検証用正解データとの誤差　：　0.1667\n",
      "\n",
      "------------------------------------------------\n",
      "43epoch目\n",
      "\n",
      "学習用正解データとの誤差　：　0.1468\n",
      "\n",
      "検証用正解データとの誤差　：　0.1633\n",
      "\n",
      "------------------------------------------------\n",
      "44epoch目\n",
      "\n",
      "学習用正解データとの誤差　：　0.1429\n",
      "\n",
      "検証用正解データとの誤差　：　0.1601\n",
      "\n",
      "------------------------------------------------\n",
      "45epoch目\n",
      "\n",
      "学習用正解データとの誤差　：　0.1393\n",
      "\n",
      "検証用正解データとの誤差　：　0.1570\n",
      "\n",
      "------------------------------------------------\n",
      "46epoch目\n",
      "\n",
      "学習用正解データとの誤差　：　0.1358\n",
      "\n",
      "検証用正解データとの誤差　：　0.1542\n",
      "\n",
      "------------------------------------------------\n",
      "47epoch目\n",
      "\n",
      "学習用正解データとの誤差　：　0.1324\n",
      "\n",
      "検証用正解データとの誤差　：　0.1514\n",
      "\n",
      "------------------------------------------------\n",
      "48epoch目\n",
      "\n",
      "学習用正解データとの誤差　：　0.1292\n",
      "\n",
      "検証用正解データとの誤差　：　0.1488\n",
      "\n",
      "------------------------------------------------\n",
      "49epoch目\n",
      "\n",
      "学習用正解データとの誤差　：　0.1261\n",
      "\n",
      "検証用正解データとの誤差　：　0.1464\n",
      "\n",
      "------------------------------------------------\n",
      "50epoch目\n",
      "\n",
      "学習用正解データとの誤差　：　0.1232\n",
      "\n",
      "検証用正解データとの誤差　：　0.1440\n",
      "\n",
      "------------------------------------------------\n",
      "51epoch目\n",
      "\n",
      "学習用正解データとの誤差　：　0.1203\n",
      "\n",
      "検証用正解データとの誤差　：　0.1418\n",
      "\n",
      "------------------------------------------------\n",
      "52epoch目\n",
      "\n",
      "学習用正解データとの誤差　：　0.1176\n",
      "\n",
      "検証用正解データとの誤差　：　0.1396\n",
      "\n",
      "------------------------------------------------\n",
      "53epoch目\n",
      "\n",
      "学習用正解データとの誤差　：　0.1150\n",
      "\n",
      "検証用正解データとの誤差　：　0.1376\n",
      "\n",
      "------------------------------------------------\n",
      "54epoch目\n",
      "\n",
      "学習用正解データとの誤差　：　0.1124\n",
      "\n",
      "検証用正解データとの誤差　：　0.1357\n",
      "\n",
      "------------------------------------------------\n",
      "55epoch目\n",
      "\n",
      "学習用正解データとの誤差　：　0.1100\n",
      "\n",
      "検証用正解データとの誤差　：　0.1338\n",
      "\n",
      "------------------------------------------------\n",
      "56epoch目\n",
      "\n",
      "学習用正解データとの誤差　：　0.1076\n",
      "\n",
      "検証用正解データとの誤差　：　0.1321\n",
      "\n",
      "------------------------------------------------\n",
      "57epoch目\n",
      "\n",
      "学習用正解データとの誤差　：　0.1053\n",
      "\n",
      "検証用正解データとの誤差　：　0.1304\n",
      "\n",
      "------------------------------------------------\n",
      "58epoch目\n",
      "\n",
      "学習用正解データとの誤差　：　0.1031\n",
      "\n",
      "検証用正解データとの誤差　：　0.1287\n",
      "\n",
      "------------------------------------------------\n",
      "59epoch目\n",
      "\n",
      "学習用正解データとの誤差　：　0.1009\n",
      "\n",
      "検証用正解データとの誤差　：　0.1272\n",
      "\n",
      "------------------------------------------------\n",
      "60epoch目\n",
      "\n",
      "学習用正解データとの誤差　：　0.0988\n",
      "\n",
      "検証用正解データとの誤差　：　0.1257\n",
      "\n",
      "------------------------------------------------\n",
      "61epoch目\n",
      "\n",
      "学習用正解データとの誤差　：　0.0968\n",
      "\n",
      "検証用正解データとの誤差　：　0.1243\n",
      "\n",
      "------------------------------------------------\n",
      "62epoch目\n",
      "\n",
      "学習用正解データとの誤差　：　0.0949\n",
      "\n",
      "検証用正解データとの誤差　：　0.1229\n",
      "\n",
      "------------------------------------------------\n",
      "63epoch目\n",
      "\n",
      "学習用正解データとの誤差　：　0.0930\n",
      "\n",
      "検証用正解データとの誤差　：　0.1216\n",
      "\n",
      "------------------------------------------------\n",
      "64epoch目\n",
      "\n",
      "学習用正解データとの誤差　：　0.0911\n",
      "\n",
      "検証用正解データとの誤差　：　0.1204\n",
      "\n",
      "------------------------------------------------\n",
      "65epoch目\n",
      "\n",
      "学習用正解データとの誤差　：　0.0893\n",
      "\n",
      "検証用正解データとの誤差　：　0.1191\n",
      "\n",
      "------------------------------------------------\n",
      "66epoch目\n",
      "\n",
      "学習用正解データとの誤差　：　0.0876\n",
      "\n",
      "検証用正解データとの誤差　：　0.1180\n",
      "\n",
      "------------------------------------------------\n",
      "67epoch目\n",
      "\n",
      "学習用正解データとの誤差　：　0.0859\n",
      "\n",
      "検証用正解データとの誤差　：　0.1169\n",
      "\n",
      "------------------------------------------------\n",
      "68epoch目\n",
      "\n",
      "学習用正解データとの誤差　：　0.0842\n",
      "\n",
      "検証用正解データとの誤差　：　0.1158\n",
      "\n",
      "------------------------------------------------\n",
      "69epoch目\n",
      "\n",
      "学習用正解データとの誤差　：　0.0826\n",
      "\n",
      "検証用正解データとの誤差　：　0.1147\n",
      "\n",
      "------------------------------------------------\n",
      "70epoch目\n",
      "\n",
      "学習用正解データとの誤差　：　0.0810\n",
      "\n",
      "検証用正解データとの誤差　：　0.1137\n",
      "\n",
      "------------------------------------------------\n",
      "71epoch目\n",
      "\n",
      "学習用正解データとの誤差　：　0.0795\n",
      "\n",
      "検証用正解データとの誤差　：　0.1128\n",
      "\n",
      "------------------------------------------------\n",
      "72epoch目\n",
      "\n",
      "学習用正解データとの誤差　：　0.0780\n",
      "\n",
      "検証用正解データとの誤差　：　0.1118\n",
      "\n",
      "------------------------------------------------\n",
      "73epoch目\n",
      "\n",
      "学習用正解データとの誤差　：　0.0765\n",
      "\n",
      "検証用正解データとの誤差　：　0.1109\n",
      "\n",
      "------------------------------------------------\n",
      "74epoch目\n",
      "\n",
      "学習用正解データとの誤差　：　0.0751\n",
      "\n",
      "検証用正解データとの誤差　：　0.1100\n",
      "\n",
      "------------------------------------------------\n",
      "75epoch目\n",
      "\n",
      "学習用正解データとの誤差　：　0.0737\n",
      "\n",
      "検証用正解データとの誤差　：　0.1092\n",
      "\n",
      "------------------------------------------------\n",
      "76epoch目\n",
      "\n",
      "学習用正解データとの誤差　：　0.0724\n",
      "\n",
      "検証用正解データとの誤差　：　0.1084\n",
      "\n",
      "------------------------------------------------\n",
      "77epoch目\n",
      "\n",
      "学習用正解データとの誤差　：　0.0710\n",
      "\n",
      "検証用正解データとの誤差　：　0.1076\n",
      "\n",
      "------------------------------------------------\n",
      "78epoch目\n",
      "\n",
      "学習用正解データとの誤差　：　0.0697\n",
      "\n",
      "検証用正解データとの誤差　：　0.1068\n",
      "\n",
      "------------------------------------------------\n",
      "79epoch目\n",
      "\n",
      "学習用正解データとの誤差　：　0.0684\n",
      "\n",
      "検証用正解データとの誤差　：　0.1061\n",
      "\n",
      "------------------------------------------------\n"
     ]
    },
    {
     "name": "stdout",
     "output_type": "stream",
     "text": [
      "80epoch目\n",
      "\n",
      "学習用正解データとの誤差　：　0.0672\n",
      "\n",
      "検証用正解データとの誤差　：　0.1054\n",
      "\n",
      "------------------------------------------------\n",
      "81epoch目\n",
      "\n",
      "学習用正解データとの誤差　：　0.0660\n",
      "\n",
      "検証用正解データとの誤差　：　0.1047\n",
      "\n",
      "------------------------------------------------\n",
      "82epoch目\n",
      "\n",
      "学習用正解データとの誤差　：　0.0648\n",
      "\n",
      "検証用正解データとの誤差　：　0.1040\n",
      "\n",
      "------------------------------------------------\n",
      "83epoch目\n",
      "\n",
      "学習用正解データとの誤差　：　0.0636\n",
      "\n",
      "検証用正解データとの誤差　：　0.1033\n",
      "\n",
      "------------------------------------------------\n",
      "84epoch目\n",
      "\n",
      "学習用正解データとの誤差　：　0.0625\n",
      "\n",
      "検証用正解データとの誤差　：　0.1027\n",
      "\n",
      "------------------------------------------------\n",
      "85epoch目\n",
      "\n",
      "学習用正解データとの誤差　：　0.0613\n",
      "\n",
      "検証用正解データとの誤差　：　0.1021\n",
      "\n",
      "------------------------------------------------\n",
      "86epoch目\n",
      "\n",
      "学習用正解データとの誤差　：　0.0602\n",
      "\n",
      "検証用正解データとの誤差　：　0.1015\n",
      "\n",
      "------------------------------------------------\n",
      "87epoch目\n",
      "\n",
      "学習用正解データとの誤差　：　0.0592\n",
      "\n",
      "検証用正解データとの誤差　：　0.1009\n",
      "\n",
      "------------------------------------------------\n",
      "88epoch目\n",
      "\n",
      "学習用正解データとの誤差　：　0.0581\n",
      "\n",
      "検証用正解データとの誤差　：　0.1003\n",
      "\n",
      "------------------------------------------------\n",
      "89epoch目\n",
      "\n",
      "学習用正解データとの誤差　：　0.0571\n",
      "\n",
      "検証用正解データとの誤差　：　0.0998\n",
      "\n",
      "------------------------------------------------\n",
      "90epoch目\n",
      "\n",
      "学習用正解データとの誤差　：　0.0561\n",
      "\n",
      "検証用正解データとの誤差　：　0.0993\n",
      "\n",
      "------------------------------------------------\n",
      "91epoch目\n",
      "\n",
      "学習用正解データとの誤差　：　0.0551\n",
      "\n",
      "検証用正解データとの誤差　：　0.0988\n",
      "\n",
      "------------------------------------------------\n",
      "92epoch目\n",
      "\n",
      "学習用正解データとの誤差　：　0.0541\n",
      "\n",
      "検証用正解データとの誤差　：　0.0983\n",
      "\n",
      "------------------------------------------------\n",
      "93epoch目\n",
      "\n",
      "学習用正解データとの誤差　：　0.0531\n",
      "\n",
      "検証用正解データとの誤差　：　0.0978\n",
      "\n",
      "------------------------------------------------\n",
      "94epoch目\n",
      "\n",
      "学習用正解データとの誤差　：　0.0522\n",
      "\n",
      "検証用正解データとの誤差　：　0.0973\n",
      "\n",
      "------------------------------------------------\n",
      "95epoch目\n",
      "\n",
      "学習用正解データとの誤差　：　0.0513\n",
      "\n",
      "検証用正解データとの誤差　：　0.0969\n",
      "\n",
      "------------------------------------------------\n",
      "96epoch目\n",
      "\n",
      "学習用正解データとの誤差　：　0.0504\n",
      "\n",
      "検証用正解データとの誤差　：　0.0965\n",
      "\n",
      "------------------------------------------------\n",
      "97epoch目\n",
      "\n",
      "学習用正解データとの誤差　：　0.0495\n",
      "\n",
      "検証用正解データとの誤差　：　0.0960\n",
      "\n",
      "------------------------------------------------\n",
      "98epoch目\n",
      "\n",
      "学習用正解データとの誤差　：　0.0486\n",
      "\n",
      "検証用正解データとの誤差　：　0.0956\n",
      "\n",
      "------------------------------------------------\n",
      "99epoch目\n",
      "\n",
      "学習用正解データとの誤差　：　0.0478\n",
      "\n",
      "検証用正解データとの誤差　：　0.0952\n",
      "\n",
      "------------------------------------------------\n",
      "100epoch目\n",
      "\n",
      "学習用正解データとの誤差　：　0.0470\n",
      "\n",
      "検証用正解データとの誤差　：　0.0949\n",
      "\n",
      "------------------------------------------------\n"
     ]
    }
   ],
   "source": [
    "# インスタンス作成\n",
    "cls = ScratchSimpleNeuralNetrowkClassifier(lr=0.01,\\\n",
    "                                                                           sigma=0.01, \\\n",
    "                                                                           batch_size=10,\\\n",
    "                                                                           n_epochs=100,\\\n",
    "                                                                           n_features=784,\\\n",
    "                                                                           n_nodes1=400,\\\n",
    "                                                                           n_nodes2=200,\\\n",
    "                                                                           n_output=10,\\\n",
    "                                                                           activation='sig',\\\n",
    "                                                                           verbose=True)\n",
    "\n",
    "# cls.fit(X_train, y_train)\n",
    "cls.fit(X_train, y_train, X_val, y_val)"
   ]
  },
  {
   "cell_type": "markdown",
   "metadata": {},
   "source": [
    "# 4.検証\n",
    "# 【問題2】学習曲線のプロット\n",
    "学習曲線をプロットしてください。\n",
    "\n",
    "ニューラルネットワークは過学習が発生しやすいため、学習曲線の確認が重要です。trainデータとvalデータに対するエポックごとの損失（交差エントロピー誤差）を記録できるようにする必要があります。"
   ]
  },
  {
   "cell_type": "code",
   "execution_count": 51,
   "metadata": {},
   "outputs": [
    {
     "data": {
      "image/png": "[encoded data removed]",
      "text/plain": [
       "<Figure size 432x288 with 1 Axes>"
      ]
     },
     "metadata": {
      "needs_background": "light"
     },
     "output_type": "display_data"
    }
   ],
   "source": [
    "cls.plot_learning_curve()"
   ]
  },
  {
   "cell_type": "markdown",
   "metadata": {},
   "source": [
    "## 考察\n",
    "### 学習曲線がエポック数ごとに低下していることを確認し、正常に学習出来ていることを確認"
   ]
  },
  {
   "cell_type": "markdown",
   "metadata": {},
   "source": [
    "# 【問題3】指標値の算出\n",
    "分類に関する指標値で精度を確認してください。"
   ]
  },
  {
   "cell_type": "markdown",
   "metadata": {},
   "source": [
    "## テストデータにて予測"
   ]
  },
  {
   "cell_type": "code",
   "execution_count": 44,
   "metadata": {},
   "outputs": [
    {
     "data": {
      "text/plain": [
       "array([7, 2, 1, ..., 4, 5, 6])"
      ]
     },
     "execution_count": 44,
     "metadata": {},
     "output_type": "execute_result"
    }
   ],
   "source": [
    "y_pred = cls.predict(X_test)\n",
    "y_pred"
   ]
  },
  {
   "cell_type": "markdown",
   "metadata": {},
   "source": [
    "## テストデータの正解データ"
   ]
  },
  {
   "cell_type": "code",
   "execution_count": 45,
   "metadata": {},
   "outputs": [
    {
     "data": {
      "text/plain": [
       "array([7, 2, 1, ..., 4, 5, 6], dtype=uint8)"
      ]
     },
     "execution_count": 45,
     "metadata": {},
     "output_type": "execute_result"
    }
   ],
   "source": [
    "y_test"
   ]
  },
  {
   "cell_type": "markdown",
   "metadata": {},
   "source": [
    "## クラス名を格納するリストの作成"
   ]
  },
  {
   "cell_type": "code",
   "execution_count": 28,
   "metadata": {},
   "outputs": [
    {
     "data": {
      "text/plain": [
       "['class0',\n",
       " 'class1',\n",
       " 'class2',\n",
       " 'class3',\n",
       " 'class4',\n",
       " 'class5',\n",
       " 'class6',\n",
       " 'class7',\n",
       " 'class8',\n",
       " 'class9']"
      ]
     },
     "execution_count": 28,
     "metadata": {},
     "output_type": "execute_result"
    }
   ],
   "source": [
    "target_names = []\n",
    "for i in range(10):\n",
    "    target_names.append('class' + str(i))\n",
    "target_names"
   ]
  },
  {
   "cell_type": "markdown",
   "metadata": {},
   "source": [
    "## 指標値の表示"
   ]
  },
  {
   "cell_type": "code",
   "execution_count": 47,
   "metadata": {},
   "outputs": [
    {
     "name": "stdout",
     "output_type": "stream",
     "text": [
      "              precision    recall  f1-score   support\n",
      "\n",
      "      class0       0.91      0.91      0.91       980\n",
      "      class1       0.94      0.93      0.94      1135\n",
      "      class2       0.88      0.82      0.85      1032\n",
      "      class3       0.86      0.79      0.82      1010\n",
      "      class4       0.80      0.82      0.81       982\n",
      "      class5       0.72      0.73      0.72       892\n",
      "      class6       0.88      0.92      0.90       958\n",
      "      class7       0.83      0.88      0.86      1028\n",
      "      class8       0.73      0.78      0.75       974\n",
      "      class9       0.77      0.73      0.75      1009\n",
      "\n",
      "   micro avg       0.83      0.83      0.83     10000\n",
      "   macro avg       0.83      0.83      0.83     10000\n",
      "weighted avg       0.84      0.83      0.83     10000\n",
      "\n"
     ]
    }
   ],
   "source": [
    "print(classification_report(y_test, y_pred, target_names=target_names))"
   ]
  },
  {
   "cell_type": "markdown",
   "metadata": {},
   "source": [
    "## 考察\n",
    "### Precision Recall F1 それぞれの指標値で最低でも70%以上となっており、高い精度で予測できていることを確認\n",
    "\n",
    " ### 値が低いクラスについては学習データのクラスごとの分布が影響している可能性あり"
   ]
  }
 ],
 "metadata": {
  "accelerator": "GPU",
  "colab": {
   "collapsed_sections": [],
   "name": "sprint10-dl-scratch-neural-network.ipynb",
   "provenance": [],
   "version": "0.3.2"
  },
  "kernelspec": {
   "display_name": "Python 3",
   "language": "python",
   "name": "python3"
  },
  "language_info": {
   "codemirror_mode": {
    "name": "ipython",
    "version": 3
   },
   "file_extension": ".py",
   "mimetype": "text/x-python",
   "name": "python",
   "nbconvert_exporter": "python",
   "pygments_lexer": "ipython3",
   "version": "3.7.1"
  }
 },
 "nbformat": 4,
 "nbformat_minor": 1
}
