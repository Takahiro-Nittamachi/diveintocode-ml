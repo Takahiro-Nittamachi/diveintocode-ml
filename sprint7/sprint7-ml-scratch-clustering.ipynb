{
 "cells": [
  {
   "cell_type": "markdown",
   "metadata": {},
   "source": [
    "# 1.この課題の目的\n",
    "スクラッチを通してK-meansを理解する\n",
    "クラスタ分析を行う\n",
    "以下の要件をすべて満たしていた場合、合格とします。\n",
    "\n",
    "※Jupyter Notebookを使い課題に沿った検証や説明ができている。\n",
    "\n",
    "# 2.スクラッチによる実装\n",
    "NumPyなど最低限のライブラリのみを使いアルゴリズムを実装していきます。"
   ]
  },
  {
   "cell_type": "markdown",
   "metadata": {},
   "source": [
    "# 【問題1】K-meansクラスの作成\n",
    "非階層クラスタリングの手法であるK-meansのクラスを作成してください。名前はScratchKMeansとしてください。\n",
    "\n",
    "教師なし学習であるクラスタリングになるため、ここまでの回帰や分類とは異なるパイプラインを作成することになります。\n",
    "\n",
    "メソッドやパラメータなどはscikit-learnを参考にしてください。\n",
    "\n",
    "[sklearn.cluster.KMeans — scikit-learn 0.20.0 documentation](https://scikit-learn.org/stable/modules/generated/sklearn.cluster.KMeans.html)\n",
    "\n",
    "検証段階ではJupyter Notebook上で書いていき、最終的にはpyファイルにモジュールとしてまとめてください。\n",
    "\n",
    "## クラスタリングのための人工データセット\n",
    "クラスタリングを実験するための人工データセットを作成するコードを用意しました。スクラッチの過程で利用してください。\n",
    "\n",
    "このmake_blobs関数は正解ラベルも出力してますが、今回は使用しません。使用しないことを明示するために、 _（アンダースコア） で受け取っています。\n",
    "\n",
    "シンプルデータセット3"
   ]
  },
  {
   "cell_type": "code",
   "execution_count": 1,
   "metadata": {},
   "outputs": [],
   "source": [
    "# X, _ = make_blobs(n_samples=100, n_features=2, centers=4, cluster_std=0.5, shuffle=True, random_state=0)"
   ]
  },
  {
   "cell_type": "markdown",
   "metadata": {},
   "source": [
    "## 目的関数\n",
    "K-meansは以下のクラスタ内誤差平方和（SSE, Sum of Squared Errors）を最小化する \n",
    "r\n",
    "n\n",
    "k\n",
    " と \n",
    "μ\n",
    "k\n",
    " を求めることで学習を行います。この数式自体は学習時にはコーディングする必要がありませんが、クラスタ数 \n",
    "K\n",
    " を決めるためのエルボー法で使います。エルボー法の実装は問題2で扱います。\n",
    " \n",
    "$$\n",
    "SSE = \\sum_{n=1}^N \\sum_{k=1}^K r_{nk} \\|X_n - \\mu_k\\|^2\n",
    "$$\n",
    "\n",
    "$n$ : データ点のインデックス\n",
    "\n",
    "$k$ : クラスタのインデックス\n",
    "\n",
    "$X_n$: $n$番目のデータ点\n",
    "\n",
    "$\\mu_k$: $k$番目の中心点\n",
    "\n",
    "$r_{nk}$: データ点$X_n$がクラスタ$k$に所属していたら1、そうでなければ0\n",
    "\n",
    "## 学習\n",
    "K-meansの学習の基本は以下の2つのフェーズを繰り返すことです。\n",
    "\n",
    "- 中心点 $\\mu_k$を固定した上で$J$を最小化する $r_{nk}$を選ぶ。\n",
    "- $r_{nk$を固定した上で $J$を最小化する$\\mu_k$を選ぶ。\n",
    "\n",
    "具体的には以下を行います。\n",
    "\n",
    "まずは\n",
    "- 中心点$\\mu_k$の初期値を決める。\n",
    "\n",
    "その後以下を繰り返します。\n",
    "- データ点 $X_n$を最も近い$\\mu_k$に割り当てる。\n",
    "- 中心点$\\mu_k$を$k$番目のクラスタに割り当てられる全てのデータ点$X_n$の平均値(重心)に移動する。\n",
    "\n",
    "次のどれかの条件を満たしたらこれを止めます。\n",
    "- 繰り返しが指定した回数に到達する。\n",
    "- 中心点$/mu_k$と重心の差が指定した許容値以下になる。\n",
    "- データ点$X_n$のクラスタへの割り当てが変化しなくなる。\n",
    "さらに、\n",
    "- ここまでの一連の流れを指定した回数繰り返す。\n",
    "- SSEが最小になったものを最終的な学習結果とする。\n",
    "\n",
    "これで学習が完了します。\n",
    "\n",
    "考慮すべき点として、空のクラスタが生じる可能性があります。これを防ぐためには以下の動作を実装します。\n",
    "\n",
    "- $k$番目のクラスタに割り当てられるデータ点$X_n$が存在しない場合、中心点$¥mu_k$ を最も離れているデータ点の場所に移動する。\n",
    "\n",
    "繰り返し回数や許容値などのハイパーパラメータの値はscikit-learnのデフォルト値を参考にしてください。\n",
    "\n",
    "## ユークリッド距離\n",
    "K-menasにおける 近い とは点と点のユークリッド距離が小さくなることです。ユークリッド距離とはピタゴラスの定理（三平方の定理）で求められるものですが、ベクトル$p$,$q$に対しては以下の数式で表現できます。\n",
    "$$\n",
    "\\|q-p\\| = \\sqrt{(q-p)\\cdot(q-p)}\n",
    "$$\n",
    "NumPyにはこの関数が<font color=\"Red\">np.linalg.norm</font>として用意されているため使用してください。\n",
    "\n",
    "<font color=\"Red\">参考</font>\n",
    "\n",
    "[numpy.linalg.norm — NumPy v1.15 Manual](https://docs.scipy.org/doc/numpy-1.15.1/reference/generated/numpy.linalg.norm.html)\n",
    "\n",
    "## 初期値\n",
    "K-meansの学習結果は中心点$μ$の初期値に影響を受けます。\n",
    "\n",
    "最もシンプルな初期値の決定方法は、データ点 $X_n$の中からランダムに$k$個選ぶことです。今回はこれを実装してください。\n",
    "\n",
    "K-meansのより良い初期値の選択方法については研究が行われており、いろいろな方法が提案されています。\n",
    "\n",
    "## 推定\n",
    "新たなデータに対してどのクラスタに所属するかの推定の際は、学習時の1つ目のフェーズと同じことを行います。\n",
    "\n",
    "データ点 $X_n$に対し、学習で決まった中心点 $μ_k$の元、$J$を最小化する $ r_{nk}$を選ぶ。\n",
    "具体的には次のことです。\n",
    "- データ点 $X_n$を最も近い$\\mu_k$に割り当てる。"
   ]
  },
  {
   "cell_type": "code",
   "execution_count": 2,
   "metadata": {},
   "outputs": [],
   "source": [
    "## クラスのインポート"
   ]
  },
  {
   "cell_type": "code",
   "execution_count": 3,
   "metadata": {},
   "outputs": [],
   "source": [
    "# クラス作成時に使用するクラス\n",
    "import numpy as np\n",
    "import pandas as pd\n",
    "\n",
    "## 前処理に使用するクラス\n",
    "from sklearn.model_selection import train_test_split\n",
    "from sklearn.decomposition import PCA\n",
    "\n",
    "# データの準備時に使用するクラス\n",
    "from sklearn.datasets import make_blobs\n",
    "\n",
    "# ScratchKMeansクラス内で使用するクラス\n",
    "import random\n",
    "from numpy import linalg as LA\n",
    "import math\n",
    "\n",
    "\n",
    "\n",
    "# 散布図を描画する際に使用するクラスと設定\n",
    "import matplotlib.pyplot as plt\n",
    "import seaborn as sns\n",
    "sns.set_style('whitegrid')\n",
    "%matplotlib inline"
   ]
  },
  {
   "cell_type": "markdown",
   "metadata": {},
   "source": [
    "## データ準備(シンプルデータセット3)"
   ]
  },
  {
   "cell_type": "code",
   "execution_count": 4,
   "metadata": {},
   "outputs": [],
   "source": [
    "X, _ = make_blobs(n_samples=100, n_features=2, centers=4, cluster_std=0.5, shuffle=True, random_state=0)"
   ]
  },
  {
   "cell_type": "markdown",
   "metadata": {},
   "source": [
    "## ScratchKMeansクラス"
   ]
  },
  {
   "cell_type": "code",
   "execution_count": 5,
   "metadata": {},
   "outputs": [],
   "source": [
    "class ScratchKMeans():\n",
    "    \"\"\"\n",
    "    k最近傍法のスクラッチ実装\n",
    "\n",
    "    Parameters\n",
    "    ----------\n",
    "    n_clusters : int\n",
    "      形成するクラスターの数と生成する重心の数。\n",
    "    n_init : int\n",
    "      k-meansアルゴリズムが異なる重心シードで実行される回数。\n",
    "    max_iter : int\n",
    "      1回の実行に対するk-meansアルゴリズムの最大反復回数。\n",
    "    tol : int\n",
    "      収束を宣言する慣性に関する相対許容誤差\n",
    "\n",
    "    Attributes\n",
    "    ----------\n",
    "    self.n_samples_ : 入力データのサンプル数\n",
    "    self.cluster_centers_ : 中心点の座標(計算用)\n",
    "    self.labels_ : 各点のラベル\n",
    "    self.n_iter_ : 中心点の更新回数\n",
    "    self.all_cluster_centers_ : 中心点の座標(データ比較用)\n",
    "    self.sse_ :　SSEの値 \n",
    "    self.tol_flag_ : 重心点と中心点のノルムの誤差の判定フラグ\n",
    "    \"\"\"\n",
    "\n",
    "    def __init__(self, n_clusters, n_init, max_iter, tol):\n",
    "        self.n_clusters = n_clusters\n",
    "        self.n_init = n_init\n",
    "        self.max_iter = max_iter\n",
    "        self.tol = tol\n",
    "        self.n_samples_ = None\n",
    "        self.cluster_centers_ = None\n",
    "        self.labels_ = None\n",
    "        self.n_iter_ = None\n",
    "        self.all_cluster_centers_ = None\n",
    "        self.sse_ = None\n",
    "        self.tol_flag_ = None\n",
    "        \n",
    "    def fit(self, X):\n",
    "        \"\"\"\n",
    "        最適な中心点を求める\n",
    "\n",
    "        Parameters\n",
    "        ----------\n",
    "        X : 次の形のndarray, shape (n_samples, n_features)\n",
    "            サンプル\n",
    "            \n",
    "        Returns\n",
    "        -------\n",
    "        \"\"\"\n",
    "        # インスタンス変数の初期化\n",
    "        self.all_cluster_centers_ = []\n",
    "        self.n_samples_ = len(X)\n",
    "        self.cluster_centers_ = np.zeros(self.n_clusters)\n",
    "        self.labels_ = np.zeros(self.n_samples_)\n",
    "        self.all_cluster_centers_ = []\n",
    "        self.sse_ = []\n",
    "        \n",
    "        \n",
    "        # 入力データをnumpy配列に変換(dataframeの入力された際も計算可能とする)\n",
    "        X = np.array(X)\n",
    "\n",
    "        # self.n_init回、中心点の初期値を変更して実行する\n",
    "        for i in range(self.n_init):\n",
    "            self._choice(X)\n",
    "            \n",
    "            # self.max_iter_回、クラスタリング、中心点の変更を繰り返す\n",
    "            for _ in range(self.max_iter):\n",
    "                \n",
    "                #　クラスタリングの結果が既存のクラスと同じであればbreak\n",
    "                if ((self.labels_ == self._clustering(X)).all()):\n",
    "                    break\n",
    "                    \n",
    "                self.labels_ = self._clustering(X)\n",
    "                    \n",
    "                # 中心点を更新\n",
    "                self._update_center_point(X)\n",
    "                \n",
    "                # 重心点と中心点の距離がself.tol未満となったら、break\n",
    "                if self.tol_flag_ == True:\n",
    "                    break\n",
    "            \n",
    "            # 更新後の中心点を保存\n",
    "            self.all_cluster_centers_.append(self.cluster_centers_)\n",
    "                    \n",
    "            # SSEを計算\n",
    "            self._compute_sse(X)\n",
    "        # SSEが最小となる中心点の座標を格納\n",
    "        self.cluster_centers_ = self.all_cluster_centers_[np.argmin(self.sse_)]\n",
    "        \n",
    "        return\n",
    "    \n",
    "\n",
    "  \n",
    "    def predict(self, X):\n",
    "        \"\"\"\n",
    "        線形回帰を使い推定する。\n",
    "\n",
    "        Parameters\n",
    "        ----------\n",
    "        X : 次の形のndarray, shape (n_samples, n_features)\n",
    "            サンプル\n",
    "\n",
    "        Returns\n",
    "        -------\n",
    "            次の形のndarray, shape (n_samples, 1)\n",
    "            線形回帰による推定結果\n",
    "        \"\"\"\n",
    "        # ラベルを予測\n",
    "        label_predict = self._clustering(X)\n",
    "        \n",
    "        return label_predict\n",
    "    \n",
    "    \n",
    "    \n",
    "    def _choice(self, X):\n",
    "        \"\"\"\n",
    "        入力データXからself.n_clusters分のデータをランダムサンプリングする。\n",
    "\n",
    "        Parameters\n",
    "        ----------\n",
    "        X : 次の形のndarray, shape (n_samples, n_features)\n",
    "            サンプル\n",
    "\n",
    "        Returns\n",
    "        -------\n",
    "            次の形のndarray, shape (n_samples, 1)\n",
    "            線形回帰による推定結果\n",
    "        \"\"\"\n",
    "    \n",
    "        # 入力データのindexの情報を取得\n",
    "        indices= np.arange(len(X))\n",
    "\n",
    "        # 取得したindexからself.n_cluster_個だけ、重複なしでランダムサンプリングする\n",
    "        md_indiceis = np.random.choice(indices, size=self.n_clusters)\n",
    "\n",
    "        # ランダムサンプリングしたデータ\n",
    "        self.cluster_centers_ = X[md_indiceis]\n",
    "\n",
    "        return\n",
    "\n",
    "    \n",
    "\n",
    "    def _clustering(self, X):\n",
    "\n",
    "        \"\"\"\n",
    "        現在の中心点により入力データをクラスタリングする\n",
    "\n",
    "        Parameters\n",
    "        ----------\n",
    "        X : 次の形のndarray, shape (n_samples, n_features)\n",
    "            サンプル\n",
    "\n",
    "        Returns\n",
    "        -------\n",
    "            次の形のndarray, shape (n_samples, 1)\n",
    "            線形回帰による推定結果\n",
    "        \"\"\"\n",
    "        # クラスタリング結果を格納するリストを初期設定\n",
    "        labels= []\n",
    "\n",
    "        # 中心点を1つずつ出していく\n",
    "        for center in self.cluster_centers_:\n",
    "\n",
    "            # 入力座標と各中心点とのノルムを計算しリストに格納 (リストの中身→[中心点1の時のノルム][中心点2の時のノルム]...)\n",
    "            labels.append(LA.norm(X- center, axis=1))\n",
    "   \n",
    "        # ノルムが最小の中心点を設定 (リストの中身　→　0, 1, 2, 0,...)\n",
    "        labels = np.argmin(labels, axis=0).reshape(-1,1)\n",
    "        \n",
    "        return labels\n",
    "\n",
    "    \n",
    "    def _update_center_point(self, X):\n",
    "        \"\"\"\n",
    "        現在の中心点により入力データをクラスタリングする\n",
    "\n",
    "        Parameters\n",
    "        ----------\n",
    "        X : 次の形のndarray, shape (n_samples, n_features)\n",
    "            サンプル\n",
    "\n",
    "        Returns\n",
    "        -------\n",
    "            次の形のndarray, shape (n_samples, 1)\n",
    "            線形回帰による推定結果\n",
    "        \"\"\"\n",
    "        \n",
    "        # 各ラベルを1つずつ取り出す\n",
    "        for num, cls in enumerate(np.unique(self.labels_)):\n",
    "            \n",
    "            # 各ラベルのクラス毎のindex列を取り出す\n",
    "            index = np.where(self.labels_== cls)[0]\n",
    "\n",
    "            # X座標、Y座標毎(各列毎の合計の為、axis=0)の値の合計 / 各クラスターを計算\n",
    "            center_of_gravity = np.sum(X[index], axis=0) / len(index)\n",
    "            \n",
    "            # 重心点と中心点の距離がself.tol未満となったら、self.tol_flagをTrueにする\n",
    "            if LA.norm(self.cluster_centers_[num] - center_of_gravity) < self.tol:\n",
    "                self.tol_flag_ = True \n",
    "\n",
    "            # 各ラベルの中心点を更新\n",
    "            self.cluster_centers_[num] = center_of_gravity\n",
    "\n",
    "            \n",
    "    def _compute_sse(self, X):\n",
    "        \"\"\"\n",
    "        クラスタ内誤差平方和（SSE, Sum of Squared Errors）を計算する\n",
    "\n",
    "        Parameters\n",
    "        ----------\n",
    "        X : 次の形のndarray, shape (n_samples, n_features)\n",
    "            サンプル\n",
    "\n",
    "        Returns\n",
    "        -------\n",
    "            次の形のndarray, shape (n_samples, 1)\n",
    "            線形回帰による推定結果\n",
    "        \"\"\"\n",
    "        # SSEの初期値\n",
    "        sse = 0\n",
    "\n",
    "        # 各ラベルを1つずつ取り出す\n",
    "\n",
    "        for num, cls in enumerate(np.unique(self.labels_)):\n",
    "\n",
    "            # 各ラベルのクラス毎のindexを取り出す\n",
    "            index = np.where(self.labels_== cls)[0]\n",
    "   \n",
    "            # SSEを計算(各クラスタの全ての座標と中心点のノルムの合計)\n",
    "            sse += np.sum(LA.norm(X[index] - self.cluster_centers_[num])**2)\n",
    "\n",
    "        # 計算結果を格納\n",
    "        self.sse_.append(sse)\n",
    "\n",
    "        return"
   ]
  },
  {
   "cell_type": "markdown",
   "metadata": {},
   "source": [
    "## 学習・予測"
   ]
  },
  {
   "cell_type": "code",
   "execution_count": 6,
   "metadata": {},
   "outputs": [
    {
     "data": {
      "text/plain": [
       "array([[2],\n",
       "       [3],\n",
       "       [2],\n",
       "       [2],\n",
       "       [2]])"
      ]
     },
     "execution_count": 6,
     "metadata": {},
     "output_type": "execute_result"
    }
   ],
   "source": [
    "# インスタンス作成\n",
    "cls = ScratchKMeans(n_clusters=4, n_init=10, max_iter=100, tol=0.1)\n",
    "\n",
    "# 学習\n",
    "cls.fit(X)\n",
    "\n",
    "# 予測\n",
    "predict = cls.predict(X)\n",
    "predict[:5]"
   ]
  },
  {
   "cell_type": "code",
   "execution_count": 7,
   "metadata": {},
   "outputs": [
    {
     "data": {
      "text/html": [
       "<div>\n",
       "<style scoped>\n",
       "    .dataframe tbody tr th:only-of-type {\n",
       "        vertical-align: middle;\n",
       "    }\n",
       "\n",
       "    .dataframe tbody tr th {\n",
       "        vertical-align: top;\n",
       "    }\n",
       "\n",
       "    .dataframe thead th {\n",
       "        text-align: right;\n",
       "    }\n",
       "</style>\n",
       "<table border=\"1\" class=\"dataframe\">\n",
       "  <thead>\n",
       "    <tr style=\"text-align: right;\">\n",
       "      <th></th>\n",
       "      <th>X</th>\n",
       "      <th>Y</th>\n",
       "    </tr>\n",
       "  </thead>\n",
       "  <tbody>\n",
       "    <tr>\n",
       "      <th>0</th>\n",
       "      <td>0.720868</td>\n",
       "      <td>3.713471</td>\n",
       "    </tr>\n",
       "    <tr>\n",
       "      <th>1</th>\n",
       "      <td>-1.894684</td>\n",
       "      <td>7.968985</td>\n",
       "    </tr>\n",
       "    <tr>\n",
       "      <th>2</th>\n",
       "      <td>1.356789</td>\n",
       "      <td>4.364625</td>\n",
       "    </tr>\n",
       "    <tr>\n",
       "      <th>3</th>\n",
       "      <td>1.053744</td>\n",
       "      <td>4.492869</td>\n",
       "    </tr>\n",
       "    <tr>\n",
       "      <th>4</th>\n",
       "      <td>1.591415</td>\n",
       "      <td>4.904977</td>\n",
       "    </tr>\n",
       "  </tbody>\n",
       "</table>\n",
       "</div>"
      ],
      "text/plain": [
       "          X         Y\n",
       "0  0.720868  3.713471\n",
       "1 -1.894684  7.968985\n",
       "2  1.356789  4.364625\n",
       "3  1.053744  4.492869\n",
       "4  1.591415  4.904977"
      ]
     },
     "execution_count": 7,
     "metadata": {},
     "output_type": "execute_result"
    }
   ],
   "source": [
    "# 学習データのdataframe化\n",
    "X_df = pd.DataFrame(X, columns=['X', 'Y'])\n",
    "X_df.head()"
   ]
  },
  {
   "cell_type": "code",
   "execution_count": 8,
   "metadata": {},
   "outputs": [
    {
     "data": {
      "text/html": [
       "<div>\n",
       "<style scoped>\n",
       "    .dataframe tbody tr th:only-of-type {\n",
       "        vertical-align: middle;\n",
       "    }\n",
       "\n",
       "    .dataframe tbody tr th {\n",
       "        vertical-align: top;\n",
       "    }\n",
       "\n",
       "    .dataframe thead th {\n",
       "        text-align: right;\n",
       "    }\n",
       "</style>\n",
       "<table border=\"1\" class=\"dataframe\">\n",
       "  <thead>\n",
       "    <tr style=\"text-align: right;\">\n",
       "      <th></th>\n",
       "      <th>label</th>\n",
       "    </tr>\n",
       "  </thead>\n",
       "  <tbody>\n",
       "    <tr>\n",
       "      <th>0</th>\n",
       "      <td>2</td>\n",
       "    </tr>\n",
       "    <tr>\n",
       "      <th>1</th>\n",
       "      <td>3</td>\n",
       "    </tr>\n",
       "    <tr>\n",
       "      <th>2</th>\n",
       "      <td>2</td>\n",
       "    </tr>\n",
       "    <tr>\n",
       "      <th>3</th>\n",
       "      <td>2</td>\n",
       "    </tr>\n",
       "    <tr>\n",
       "      <th>4</th>\n",
       "      <td>2</td>\n",
       "    </tr>\n",
       "  </tbody>\n",
       "</table>\n",
       "</div>"
      ],
      "text/plain": [
       "   label\n",
       "0      2\n",
       "1      3\n",
       "2      2\n",
       "3      2\n",
       "4      2"
      ]
     },
     "execution_count": 8,
     "metadata": {},
     "output_type": "execute_result"
    }
   ],
   "source": [
    "# 予測値のdataframe化\n",
    "pred_df = pd.DataFrame(predict, columns=['label'])\n",
    "pred_df.head()"
   ]
  },
  {
   "cell_type": "code",
   "execution_count": 9,
   "metadata": {},
   "outputs": [
    {
     "data": {
      "text/html": [
       "<div>\n",
       "<style scoped>\n",
       "    .dataframe tbody tr th:only-of-type {\n",
       "        vertical-align: middle;\n",
       "    }\n",
       "\n",
       "    .dataframe tbody tr th {\n",
       "        vertical-align: top;\n",
       "    }\n",
       "\n",
       "    .dataframe thead th {\n",
       "        text-align: right;\n",
       "    }\n",
       "</style>\n",
       "<table border=\"1\" class=\"dataframe\">\n",
       "  <thead>\n",
       "    <tr style=\"text-align: right;\">\n",
       "      <th></th>\n",
       "      <th>X</th>\n",
       "      <th>Y</th>\n",
       "      <th>label</th>\n",
       "    </tr>\n",
       "  </thead>\n",
       "  <tbody>\n",
       "    <tr>\n",
       "      <th>0</th>\n",
       "      <td>0.720868</td>\n",
       "      <td>3.713471</td>\n",
       "      <td>2</td>\n",
       "    </tr>\n",
       "    <tr>\n",
       "      <th>1</th>\n",
       "      <td>-1.894684</td>\n",
       "      <td>7.968985</td>\n",
       "      <td>3</td>\n",
       "    </tr>\n",
       "    <tr>\n",
       "      <th>2</th>\n",
       "      <td>1.356789</td>\n",
       "      <td>4.364625</td>\n",
       "      <td>2</td>\n",
       "    </tr>\n",
       "    <tr>\n",
       "      <th>3</th>\n",
       "      <td>1.053744</td>\n",
       "      <td>4.492869</td>\n",
       "      <td>2</td>\n",
       "    </tr>\n",
       "    <tr>\n",
       "      <th>4</th>\n",
       "      <td>1.591415</td>\n",
       "      <td>4.904977</td>\n",
       "      <td>2</td>\n",
       "    </tr>\n",
       "  </tbody>\n",
       "</table>\n",
       "</div>"
      ],
      "text/plain": [
       "          X         Y  label\n",
       "0  0.720868  3.713471      2\n",
       "1 -1.894684  7.968985      3\n",
       "2  1.356789  4.364625      2\n",
       "3  1.053744  4.492869      2\n",
       "4  1.591415  4.904977      2"
      ]
     },
     "execution_count": 9,
     "metadata": {},
     "output_type": "execute_result"
    }
   ],
   "source": [
    "# 学習データと予測結果を1つのdataframeにする\n",
    "last = pd.concat([X_df, pred_df], axis=1)\n",
    "last.head()"
   ]
  },
  {
   "cell_type": "code",
   "execution_count": 10,
   "metadata": {},
   "outputs": [
    {
     "data": {
      "text/plain": [
       "Text(0.5, 1.0, 'prediction label')"
      ]
     },
     "execution_count": 10,
     "metadata": {},
     "output_type": "execute_result"
    },
    {
     "data": {
      "image/png": "[encoded data removed]",
      "text/plain": [
       "<Figure size 432x288 with 2 Axes>"
      ]
     },
     "metadata": {},
     "output_type": "display_data"
    }
   ],
   "source": [
    "# 散布図の表示\n",
    "last.plot(kind=\"scatter\", x='X',y='Y',c=\"label\", cmap=\"winter\")\n",
    "plt.title(\"prediction label\")"
   ]
  },
  {
   "cell_type": "markdown",
   "metadata": {},
   "source": [
    "# 【問題2】エルボー法の実装\n",
    "K-meansにおいて中心点の個数 \n",
    "k\n",
    " は人為的に決める必要があるが、その判断方法としてエルボー法があります。\n",
    "\n",
    "SSEを縦軸、クラスタ数 \n",
    "k\n",
    " を横軸にした折れ線グラフを表示します。\n",
    "\n",
    "このためにK-meansのインスタンスからはSSEを取得できるようにしてください。"
   ]
  },
  {
   "cell_type": "code",
   "execution_count": 11,
   "metadata": {},
   "outputs": [],
   "source": [
    "# 各クラスタ数の時のMSEを格納するリスト\n",
    "mse_list = []\n",
    "\n",
    "# 1〜10までクラスタ数を変化させる\n",
    "for claster_num in range(1,11):\n",
    "    \n",
    "    # インスタンス作成\n",
    "    cls2 = ScratchKMeans(n_clusters=claster_num, n_init=10, max_iter=100, tol=0.1)\n",
    "    \n",
    "    # 学習\n",
    "    cls2.fit(X)\n",
    "    \n",
    "    #　各クラスタ数で学習した際の最も低い値のMSEを取得\n",
    "    mse_list.append(min(cls2.sse_))    "
   ]
  },
  {
   "cell_type": "markdown",
   "metadata": {},
   "source": [
    "## 中心点の個数の違いによるSSEの変化"
   ]
  },
  {
   "cell_type": "code",
   "execution_count": 12,
   "metadata": {},
   "outputs": [
    {
     "data": {
      "image/png": "[encoded data removed]",
      "text/plain": [
       "<Figure size 432x288 with 1 Axes>"
      ]
     },
     "metadata": {},
     "output_type": "display_data"
    }
   ],
   "source": [
    "plt.plot(range(1,11),mse_list,marker='o')\n",
    "plt.xlabel('Number of clusters')\n",
    "plt.ylabel('Distortion')\n",
    "plt.title('SSE change')\n",
    "plt.show()"
   ]
  },
  {
   "cell_type": "markdown",
   "metadata": {},
   "source": [
    "# 3.クラスタリング分析\n",
    "## <u>卸売業者のデータ分析M</u>\n",
    "クラスタリングを利用法を学ぶために、Wholesale customers Data Setを使用します。\n",
    "\n",
    "[UCI Machine Learning Repository: Wholesale customers Data Set](https://archive.ics.uci.edu/ml/datasets/Wholesale+customers)\n",
    "\n",
    "Data Folderの中から<font color=\"Red\">Wholesale customers data.csv</font>をダウンロードしてください。これはポルトガルのリスボンにある卸売業者（wholesale）が顧客から集めたデータです。中身は各顧客が年間でミルクや食料品を何ユーロ購入しているかというデータになっています。顧客は小売店やレストランです。<font color=\"Red\">Region</font>と<font color=\"Red\">Channel</font>は取り覗き、金額のデータでK-meansを利用します。\n",
    "\n",
    "次元削減\n",
    "金額に関する特徴量は6個ありますが、可視化するために次元削減を行います。これに関してはscikit-learnによるPCAのサンプルコードを用意したので利用してください。\n",
    "\n",
    "PCAのサンプルコード"
   ]
  },
  {
   "cell_type": "markdown",
   "metadata": {},
   "source": [
    "# データ読み出し"
   ]
  },
  {
   "cell_type": "code",
   "execution_count": 14,
   "metadata": {},
   "outputs": [
    {
     "data": {
      "text/html": [
       "<div>\n",
       "<style scoped>\n",
       "    .dataframe tbody tr th:only-of-type {\n",
       "        vertical-align: middle;\n",
       "    }\n",
       "\n",
       "    .dataframe tbody tr th {\n",
       "        vertical-align: top;\n",
       "    }\n",
       "\n",
       "    .dataframe thead th {\n",
       "        text-align: right;\n",
       "    }\n",
       "</style>\n",
       "<table border=\"1\" class=\"dataframe\">\n",
       "  <thead>\n",
       "    <tr style=\"text-align: right;\">\n",
       "      <th></th>\n",
       "      <th>Channel</th>\n",
       "      <th>Region</th>\n",
       "      <th>Fresh</th>\n",
       "      <th>Milk</th>\n",
       "      <th>Grocery</th>\n",
       "      <th>Frozen</th>\n",
       "      <th>Detergents_Paper</th>\n",
       "      <th>Delicassen</th>\n",
       "    </tr>\n",
       "  </thead>\n",
       "  <tbody>\n",
       "    <tr>\n",
       "      <th>0</th>\n",
       "      <td>2</td>\n",
       "      <td>3</td>\n",
       "      <td>12669</td>\n",
       "      <td>9656</td>\n",
       "      <td>7561</td>\n",
       "      <td>214</td>\n",
       "      <td>2674</td>\n",
       "      <td>1338</td>\n",
       "    </tr>\n",
       "    <tr>\n",
       "      <th>1</th>\n",
       "      <td>2</td>\n",
       "      <td>3</td>\n",
       "      <td>7057</td>\n",
       "      <td>9810</td>\n",
       "      <td>9568</td>\n",
       "      <td>1762</td>\n",
       "      <td>3293</td>\n",
       "      <td>1776</td>\n",
       "    </tr>\n",
       "    <tr>\n",
       "      <th>2</th>\n",
       "      <td>2</td>\n",
       "      <td>3</td>\n",
       "      <td>6353</td>\n",
       "      <td>8808</td>\n",
       "      <td>7684</td>\n",
       "      <td>2405</td>\n",
       "      <td>3516</td>\n",
       "      <td>7844</td>\n",
       "    </tr>\n",
       "    <tr>\n",
       "      <th>3</th>\n",
       "      <td>1</td>\n",
       "      <td>3</td>\n",
       "      <td>13265</td>\n",
       "      <td>1196</td>\n",
       "      <td>4221</td>\n",
       "      <td>6404</td>\n",
       "      <td>507</td>\n",
       "      <td>1788</td>\n",
       "    </tr>\n",
       "    <tr>\n",
       "      <th>4</th>\n",
       "      <td>2</td>\n",
       "      <td>3</td>\n",
       "      <td>22615</td>\n",
       "      <td>5410</td>\n",
       "      <td>7198</td>\n",
       "      <td>3915</td>\n",
       "      <td>1777</td>\n",
       "      <td>5185</td>\n",
       "    </tr>\n",
       "  </tbody>\n",
       "</table>\n",
       "</div>"
      ],
      "text/plain": [
       "   Channel  Region  Fresh  Milk  Grocery  Frozen  Detergents_Paper  Delicassen\n",
       "0        2       3  12669  9656     7561     214              2674        1338\n",
       "1        2       3   7057  9810     9568    1762              3293        1776\n",
       "2        2       3   6353  8808     7684    2405              3516        7844\n",
       "3        1       3  13265  1196     4221    6404               507        1788\n",
       "4        2       3  22615  5410     7198    3915              1777        5185"
      ]
     },
     "execution_count": 14,
     "metadata": {},
     "output_type": "execute_result"
    }
   ],
   "source": [
    "# データフレームの呼び出し\n",
    "base_df = pd.read_csv('Wholesale customers data.csv')\n",
    "# base_df = pd.read_csv('Wholesale customers data.csv', index_col=0)\n",
    "base_df.head()"
   ]
  },
  {
   "cell_type": "markdown",
   "metadata": {},
   "source": [
    "# データを対数変換"
   ]
  },
  {
   "cell_type": "code",
   "execution_count": 15,
   "metadata": {},
   "outputs": [
    {
     "data": {
      "text/html": [
       "<div>\n",
       "<style scoped>\n",
       "    .dataframe tbody tr th:only-of-type {\n",
       "        vertical-align: middle;\n",
       "    }\n",
       "\n",
       "    .dataframe tbody tr th {\n",
       "        vertical-align: top;\n",
       "    }\n",
       "\n",
       "    .dataframe thead th {\n",
       "        text-align: right;\n",
       "    }\n",
       "</style>\n",
       "<table border=\"1\" class=\"dataframe\">\n",
       "  <thead>\n",
       "    <tr style=\"text-align: right;\">\n",
       "      <th></th>\n",
       "      <th>Channel</th>\n",
       "      <th>Region</th>\n",
       "      <th>Fresh</th>\n",
       "      <th>Milk</th>\n",
       "      <th>Grocery</th>\n",
       "      <th>Frozen</th>\n",
       "      <th>Detergents_Paper</th>\n",
       "      <th>Delicassen</th>\n",
       "    </tr>\n",
       "  </thead>\n",
       "  <tbody>\n",
       "    <tr>\n",
       "      <th>0</th>\n",
       "      <td>0.693147</td>\n",
       "      <td>1.098612</td>\n",
       "      <td>9.446913</td>\n",
       "      <td>9.175335</td>\n",
       "      <td>8.930759</td>\n",
       "      <td>5.365976</td>\n",
       "      <td>7.891331</td>\n",
       "      <td>7.198931</td>\n",
       "    </tr>\n",
       "    <tr>\n",
       "      <th>1</th>\n",
       "      <td>0.693147</td>\n",
       "      <td>1.098612</td>\n",
       "      <td>8.861775</td>\n",
       "      <td>9.191158</td>\n",
       "      <td>9.166179</td>\n",
       "      <td>7.474205</td>\n",
       "      <td>8.099554</td>\n",
       "      <td>7.482119</td>\n",
       "    </tr>\n",
       "    <tr>\n",
       "      <th>2</th>\n",
       "      <td>0.693147</td>\n",
       "      <td>1.098612</td>\n",
       "      <td>8.756682</td>\n",
       "      <td>9.083416</td>\n",
       "      <td>8.946896</td>\n",
       "      <td>7.785305</td>\n",
       "      <td>8.165079</td>\n",
       "      <td>8.967504</td>\n",
       "    </tr>\n",
       "    <tr>\n",
       "      <th>3</th>\n",
       "      <td>0.000000</td>\n",
       "      <td>1.098612</td>\n",
       "      <td>9.492884</td>\n",
       "      <td>7.086738</td>\n",
       "      <td>8.347827</td>\n",
       "      <td>8.764678</td>\n",
       "      <td>6.228511</td>\n",
       "      <td>7.488853</td>\n",
       "    </tr>\n",
       "    <tr>\n",
       "      <th>4</th>\n",
       "      <td>0.693147</td>\n",
       "      <td>1.098612</td>\n",
       "      <td>10.026369</td>\n",
       "      <td>8.596004</td>\n",
       "      <td>8.881558</td>\n",
       "      <td>8.272571</td>\n",
       "      <td>7.482682</td>\n",
       "      <td>8.553525</td>\n",
       "    </tr>\n",
       "  </tbody>\n",
       "</table>\n",
       "</div>"
      ],
      "text/plain": [
       "    Channel    Region      Fresh      Milk   Grocery    Frozen  \\\n",
       "0  0.693147  1.098612   9.446913  9.175335  8.930759  5.365976   \n",
       "1  0.693147  1.098612   8.861775  9.191158  9.166179  7.474205   \n",
       "2  0.693147  1.098612   8.756682  9.083416  8.946896  7.785305   \n",
       "3  0.000000  1.098612   9.492884  7.086738  8.347827  8.764678   \n",
       "4  0.693147  1.098612  10.026369  8.596004  8.881558  8.272571   \n",
       "\n",
       "   Detergents_Paper  Delicassen  \n",
       "0          7.891331    7.198931  \n",
       "1          8.099554    7.482119  \n",
       "2          8.165079    8.967504  \n",
       "3          6.228511    7.488853  \n",
       "4          7.482682    8.553525  "
      ]
     },
     "execution_count": 15,
     "metadata": {},
     "output_type": "execute_result"
    }
   ],
   "source": [
    "base_df_log = base_df.apply(np.log)\n",
    "base_df_log.head()"
   ]
  },
  {
   "cell_type": "markdown",
   "metadata": {},
   "source": [
    "# RegionとChannel以外の列を抽出"
   ]
  },
  {
   "cell_type": "code",
   "execution_count": 16,
   "metadata": {},
   "outputs": [
    {
     "data": {
      "text/html": [
       "<div>\n",
       "<style scoped>\n",
       "    .dataframe tbody tr th:only-of-type {\n",
       "        vertical-align: middle;\n",
       "    }\n",
       "\n",
       "    .dataframe tbody tr th {\n",
       "        vertical-align: top;\n",
       "    }\n",
       "\n",
       "    .dataframe thead th {\n",
       "        text-align: right;\n",
       "    }\n",
       "</style>\n",
       "<table border=\"1\" class=\"dataframe\">\n",
       "  <thead>\n",
       "    <tr style=\"text-align: right;\">\n",
       "      <th></th>\n",
       "      <th>Fresh</th>\n",
       "      <th>Milk</th>\n",
       "      <th>Grocery</th>\n",
       "      <th>Frozen</th>\n",
       "      <th>Detergents_Paper</th>\n",
       "      <th>Delicassen</th>\n",
       "    </tr>\n",
       "  </thead>\n",
       "  <tbody>\n",
       "    <tr>\n",
       "      <th>0</th>\n",
       "      <td>9.446913</td>\n",
       "      <td>9.175335</td>\n",
       "      <td>8.930759</td>\n",
       "      <td>5.365976</td>\n",
       "      <td>7.891331</td>\n",
       "      <td>7.198931</td>\n",
       "    </tr>\n",
       "    <tr>\n",
       "      <th>1</th>\n",
       "      <td>8.861775</td>\n",
       "      <td>9.191158</td>\n",
       "      <td>9.166179</td>\n",
       "      <td>7.474205</td>\n",
       "      <td>8.099554</td>\n",
       "      <td>7.482119</td>\n",
       "    </tr>\n",
       "    <tr>\n",
       "      <th>2</th>\n",
       "      <td>8.756682</td>\n",
       "      <td>9.083416</td>\n",
       "      <td>8.946896</td>\n",
       "      <td>7.785305</td>\n",
       "      <td>8.165079</td>\n",
       "      <td>8.967504</td>\n",
       "    </tr>\n",
       "    <tr>\n",
       "      <th>3</th>\n",
       "      <td>9.492884</td>\n",
       "      <td>7.086738</td>\n",
       "      <td>8.347827</td>\n",
       "      <td>8.764678</td>\n",
       "      <td>6.228511</td>\n",
       "      <td>7.488853</td>\n",
       "    </tr>\n",
       "    <tr>\n",
       "      <th>4</th>\n",
       "      <td>10.026369</td>\n",
       "      <td>8.596004</td>\n",
       "      <td>8.881558</td>\n",
       "      <td>8.272571</td>\n",
       "      <td>7.482682</td>\n",
       "      <td>8.553525</td>\n",
       "    </tr>\n",
       "  </tbody>\n",
       "</table>\n",
       "</div>"
      ],
      "text/plain": [
       "       Fresh      Milk   Grocery    Frozen  Detergents_Paper  Delicassen\n",
       "0   9.446913  9.175335  8.930759  5.365976          7.891331    7.198931\n",
       "1   8.861775  9.191158  9.166179  7.474205          8.099554    7.482119\n",
       "2   8.756682  9.083416  8.946896  7.785305          8.165079    8.967504\n",
       "3   9.492884  7.086738  8.347827  8.764678          6.228511    7.488853\n",
       "4  10.026369  8.596004  8.881558  8.272571          7.482682    8.553525"
      ]
     },
     "execution_count": 16,
     "metadata": {},
     "output_type": "execute_result"
    }
   ],
   "source": [
    "df = base_df_log.iloc[:,2:]\n",
    "df.head()"
   ]
  },
  {
   "cell_type": "markdown",
   "metadata": {},
   "source": [
    "# 次元削減"
   ]
  },
  {
   "cell_type": "code",
   "execution_count": 17,
   "metadata": {},
   "outputs": [
    {
     "data": {
      "text/plain": [
       "array([[-1.75098532, -0.07051523],\n",
       "       [-1.80036534, -0.86975357],\n",
       "       [-1.89373597, -1.67662072],\n",
       "       [ 1.12731297, -1.45798229],\n",
       "       [-0.79671147, -2.46086569]])"
      ]
     },
     "execution_count": 17,
     "metadata": {},
     "output_type": "execute_result"
    }
   ],
   "source": [
    "# PCAクラスのインスタンスを作成(2つの特徴量に絞るよう設定)\n",
    "pca = PCA(n_components = 2)\n",
    "\n",
    "# 「Wholesale customers Data Set」で学習\n",
    "pca = pca.fit(df)\n",
    "\n",
    "# 次元削減\n",
    "data_pca = pca.transform(df)\n",
    "\n",
    "data_pca[:5]"
   ]
  },
  {
   "cell_type": "markdown",
   "metadata": {},
   "source": [
    "# 【問題4】クラスタ数kの選択\n",
    "最適だと思われるクラスタ数 $k$ を選択してください。エルボー法やシルエット図を活用する他、人間が後々どう利用したいのかも選択に関わってきます。選択した上で、なぜそれを選んだか説明してください。\n",
    "\n",
    "## 最適だと思われるクラスタ数→2\n",
    "### 理由\n",
    "- 問題2で作成したエルボー法を利用した図より、クラスタ数2以降はMSEは低下しているが、その変化量はクラスタ数1~2までの間の時と比較し、大幅に小さな値となっていることがわかる。この事から今回の課題で用いられたデータセットにてk最近傍法を行う際はクラスタ数２以上が適していると考えられる。"
   ]
  },
  {
   "cell_type": "code",
   "execution_count": 18,
   "metadata": {},
   "outputs": [
    {
     "data": {
      "text/html": [
       "<div>\n",
       "<style scoped>\n",
       "    .dataframe tbody tr th:only-of-type {\n",
       "        vertical-align: middle;\n",
       "    }\n",
       "\n",
       "    .dataframe tbody tr th {\n",
       "        vertical-align: top;\n",
       "    }\n",
       "\n",
       "    .dataframe thead th {\n",
       "        text-align: right;\n",
       "    }\n",
       "</style>\n",
       "<table border=\"1\" class=\"dataframe\">\n",
       "  <thead>\n",
       "    <tr style=\"text-align: right;\">\n",
       "      <th></th>\n",
       "      <th>X</th>\n",
       "      <th>Y</th>\n",
       "    </tr>\n",
       "  </thead>\n",
       "  <tbody>\n",
       "    <tr>\n",
       "      <th>0</th>\n",
       "      <td>-1.750985</td>\n",
       "      <td>-0.070515</td>\n",
       "    </tr>\n",
       "    <tr>\n",
       "      <th>1</th>\n",
       "      <td>-1.800365</td>\n",
       "      <td>-0.869754</td>\n",
       "    </tr>\n",
       "    <tr>\n",
       "      <th>2</th>\n",
       "      <td>-1.893736</td>\n",
       "      <td>-1.676621</td>\n",
       "    </tr>\n",
       "    <tr>\n",
       "      <th>3</th>\n",
       "      <td>1.127313</td>\n",
       "      <td>-1.457982</td>\n",
       "    </tr>\n",
       "    <tr>\n",
       "      <th>4</th>\n",
       "      <td>-0.796711</td>\n",
       "      <td>-2.460866</td>\n",
       "    </tr>\n",
       "  </tbody>\n",
       "</table>\n",
       "</div>"
      ],
      "text/plain": [
       "          X         Y\n",
       "0 -1.750985 -0.070515\n",
       "1 -1.800365 -0.869754\n",
       "2 -1.893736 -1.676621\n",
       "3  1.127313 -1.457982\n",
       "4 -0.796711 -2.460866"
      ]
     },
     "execution_count": 18,
     "metadata": {},
     "output_type": "execute_result"
    }
   ],
   "source": [
    "# PCAで次元削減したデータ\n",
    "pca_df = pd.DataFrame(data_pca, columns=['X', 'Y'])\n",
    "pca_df.head()"
   ]
  },
  {
   "cell_type": "code",
   "execution_count": 19,
   "metadata": {},
   "outputs": [
    {
     "data": {
      "text/html": [
       "<div>\n",
       "<style scoped>\n",
       "    .dataframe tbody tr th:only-of-type {\n",
       "        vertical-align: middle;\n",
       "    }\n",
       "\n",
       "    .dataframe tbody tr th {\n",
       "        vertical-align: top;\n",
       "    }\n",
       "\n",
       "    .dataframe thead th {\n",
       "        text-align: right;\n",
       "    }\n",
       "</style>\n",
       "<table border=\"1\" class=\"dataframe\">\n",
       "  <thead>\n",
       "    <tr style=\"text-align: right;\">\n",
       "      <th></th>\n",
       "      <th>label</th>\n",
       "    </tr>\n",
       "  </thead>\n",
       "  <tbody>\n",
       "    <tr>\n",
       "      <th>0</th>\n",
       "      <td>11</td>\n",
       "    </tr>\n",
       "    <tr>\n",
       "      <th>1</th>\n",
       "      <td>11</td>\n",
       "    </tr>\n",
       "    <tr>\n",
       "      <th>2</th>\n",
       "      <td>4</td>\n",
       "    </tr>\n",
       "    <tr>\n",
       "      <th>3</th>\n",
       "      <td>5</td>\n",
       "    </tr>\n",
       "    <tr>\n",
       "      <th>4</th>\n",
       "      <td>4</td>\n",
       "    </tr>\n",
       "  </tbody>\n",
       "</table>\n",
       "</div>"
      ],
      "text/plain": [
       "   label\n",
       "0     11\n",
       "1     11\n",
       "2      4\n",
       "3      5\n",
       "4      4"
      ]
     },
     "execution_count": 19,
     "metadata": {},
     "output_type": "execute_result"
    }
   ],
   "source": [
    "# ScratchKMeansクラスのインスタンスを作成\n",
    "cls = ScratchKMeans(n_clusters=12, n_init=10, max_iter=100, tol=0.1)\n",
    "\n",
    "# 学習\n",
    "cls.fit(pca_df)\n",
    "\n",
    "# 予測データ\n",
    "pred_df = pd.DataFrame(cls.labels_, columns=['label'])\n",
    "pred_df.head()"
   ]
  },
  {
   "cell_type": "code",
   "execution_count": 20,
   "metadata": {},
   "outputs": [
    {
     "data": {
      "text/html": [
       "<div>\n",
       "<style scoped>\n",
       "    .dataframe tbody tr th:only-of-type {\n",
       "        vertical-align: middle;\n",
       "    }\n",
       "\n",
       "    .dataframe tbody tr th {\n",
       "        vertical-align: top;\n",
       "    }\n",
       "\n",
       "    .dataframe thead th {\n",
       "        text-align: right;\n",
       "    }\n",
       "</style>\n",
       "<table border=\"1\" class=\"dataframe\">\n",
       "  <thead>\n",
       "    <tr style=\"text-align: right;\">\n",
       "      <th></th>\n",
       "      <th>X</th>\n",
       "      <th>Y</th>\n",
       "      <th>label</th>\n",
       "    </tr>\n",
       "  </thead>\n",
       "  <tbody>\n",
       "    <tr>\n",
       "      <th>0</th>\n",
       "      <td>-1.750985</td>\n",
       "      <td>-0.070515</td>\n",
       "      <td>11</td>\n",
       "    </tr>\n",
       "    <tr>\n",
       "      <th>1</th>\n",
       "      <td>-1.800365</td>\n",
       "      <td>-0.869754</td>\n",
       "      <td>11</td>\n",
       "    </tr>\n",
       "    <tr>\n",
       "      <th>2</th>\n",
       "      <td>-1.893736</td>\n",
       "      <td>-1.676621</td>\n",
       "      <td>4</td>\n",
       "    </tr>\n",
       "    <tr>\n",
       "      <th>3</th>\n",
       "      <td>1.127313</td>\n",
       "      <td>-1.457982</td>\n",
       "      <td>5</td>\n",
       "    </tr>\n",
       "    <tr>\n",
       "      <th>4</th>\n",
       "      <td>-0.796711</td>\n",
       "      <td>-2.460866</td>\n",
       "      <td>4</td>\n",
       "    </tr>\n",
       "  </tbody>\n",
       "</table>\n",
       "</div>"
      ],
      "text/plain": [
       "          X         Y  label\n",
       "0 -1.750985 -0.070515     11\n",
       "1 -1.800365 -0.869754     11\n",
       "2 -1.893736 -1.676621      4\n",
       "3  1.127313 -1.457982      5\n",
       "4 -0.796711 -2.460866      4"
      ]
     },
     "execution_count": 20,
     "metadata": {},
     "output_type": "execute_result"
    }
   ],
   "source": [
    "# 学習データと予測データを結合\n",
    "result1 = pd.concat([pca_df, pred_df], axis=1)\n",
    "result1.head()"
   ]
  },
  {
   "cell_type": "markdown",
   "metadata": {},
   "source": [
    "# 散布図(全てのデータを使用)"
   ]
  },
  {
   "cell_type": "code",
   "execution_count": 21,
   "metadata": {},
   "outputs": [
    {
     "data": {
      "text/plain": [
       "Text(0.5, 1.0, 'prediction label')"
      ]
     },
     "execution_count": 21,
     "metadata": {},
     "output_type": "execute_result"
    },
    {
     "data": {
      "image/png": "[encoded data removed]",
      "text/plain": [
       "<Figure size 432x288 with 2 Axes>"
      ]
     },
     "metadata": {},
     "output_type": "display_data"
    }
   ],
   "source": [
    "result1.plot(kind=\"scatter\", x='X',y='Y',c=\"label\", cmap=\"winter\")\n",
    "plt.title(\"prediction label\")"
   ]
  },
  {
   "cell_type": "markdown",
   "metadata": {},
   "source": [
    "# エルボー法の実施"
   ]
  },
  {
   "cell_type": "code",
   "execution_count": 22,
   "metadata": {},
   "outputs": [
    {
     "data": {
      "image/png": "[encoded data removed]",
      "text/plain": [
       "<Figure size 432x288 with 1 Axes>"
      ]
     },
     "metadata": {},
     "output_type": "display_data"
    }
   ],
   "source": [
    "# 各クラスタ数の時のMSEを格納するリスト\n",
    "sse_list = []\n",
    "\n",
    "# 1〜10までクラスタ数を変化させる\n",
    "for claster_num in range(1,21):\n",
    "    \n",
    "    # インスタンス作成\n",
    "    cls3 = ScratchKMeans(n_clusters=claster_num, n_init=10, max_iter=100, tol=0.1)\n",
    "    \n",
    "    # 学習\n",
    "    cls3.fit(data_pca)\n",
    "    \n",
    "    #　各クラスタ数で学習した際の最も低い値のMSEを取得\n",
    "    sse_list.append(min(cls3.sse_))  \n",
    "    \n",
    "plt.plot(range(1,21),sse_list,marker='o')\n",
    "plt.xlabel('Number of clusters')\n",
    "plt.ylabel('Distortion')\n",
    "plt.title('SSE change')\n",
    "plt.show()"
   ]
  },
  {
   "cell_type": "markdown",
   "metadata": {},
   "source": [
    "# 【問題5】既知のグループとの比較\n",
    "<font color=\"Red\">Region</font>と<font color=\"Red\">Channel</font>はK-meansに使用しなかったが、これれらは既知のグループです。クラスタとこれら既知のグループがどう違うかを確認し、説明してください。まずはそれぞれを可視化してください。\n",
    "\n",
    "# 確認結果\n",
    "## RegionとChannelのデータについて\n",
    "- カテゴリカルデータでRegionとChannel間で相関関係はないように思われる。→　散布図よりプロットされたクラスタは全てまとまっておらず、また直線上に配置されるようになっていることから。\n",
    "\n",
    "## Region、Channel以外のデータについて\n",
    "- データに相関関係及び連続性があるように見える　→　散布図のクラスタが近い位置でまとまっている為。"
   ]
  },
  {
   "cell_type": "markdown",
   "metadata": {},
   "source": [
    "# RegionとChannelデータの抽出"
   ]
  },
  {
   "cell_type": "code",
   "execution_count": 23,
   "metadata": {},
   "outputs": [
    {
     "data": {
      "text/plain": [
       "(440, 1)"
      ]
     },
     "execution_count": 23,
     "metadata": {},
     "output_type": "execute_result"
    }
   ],
   "source": [
    "region_np = np.array(base_df.iloc[:,0]).reshape(-1,1)\n",
    "region_np.shape"
   ]
  },
  {
   "cell_type": "code",
   "execution_count": 24,
   "metadata": {},
   "outputs": [
    {
     "data": {
      "text/plain": [
       "array([1, 2])"
      ]
     },
     "execution_count": 24,
     "metadata": {},
     "output_type": "execute_result"
    }
   ],
   "source": [
    "np.unique(region_np)"
   ]
  },
  {
   "cell_type": "code",
   "execution_count": 25,
   "metadata": {},
   "outputs": [
    {
     "data": {
      "text/plain": [
       "(440, 1)"
      ]
     },
     "execution_count": 25,
     "metadata": {},
     "output_type": "execute_result"
    }
   ],
   "source": [
    "channel_np = np.array(base_df.index).reshape(-1,1)\n",
    "channel_np.shape"
   ]
  },
  {
   "cell_type": "code",
   "execution_count": 26,
   "metadata": {},
   "outputs": [
    {
     "data": {
      "text/plain": [
       "array([  0,   1,   2,   3,   4,   5,   6,   7,   8,   9,  10,  11,  12,\n",
       "        13,  14,  15,  16,  17,  18,  19,  20,  21,  22,  23,  24,  25,\n",
       "        26,  27,  28,  29,  30,  31,  32,  33,  34,  35,  36,  37,  38,\n",
       "        39,  40,  41,  42,  43,  44,  45,  46,  47,  48,  49,  50,  51,\n",
       "        52,  53,  54,  55,  56,  57,  58,  59,  60,  61,  62,  63,  64,\n",
       "        65,  66,  67,  68,  69,  70,  71,  72,  73,  74,  75,  76,  77,\n",
       "        78,  79,  80,  81,  82,  83,  84,  85,  86,  87,  88,  89,  90,\n",
       "        91,  92,  93,  94,  95,  96,  97,  98,  99, 100, 101, 102, 103,\n",
       "       104, 105, 106, 107, 108, 109, 110, 111, 112, 113, 114, 115, 116,\n",
       "       117, 118, 119, 120, 121, 122, 123, 124, 125, 126, 127, 128, 129,\n",
       "       130, 131, 132, 133, 134, 135, 136, 137, 138, 139, 140, 141, 142,\n",
       "       143, 144, 145, 146, 147, 148, 149, 150, 151, 152, 153, 154, 155,\n",
       "       156, 157, 158, 159, 160, 161, 162, 163, 164, 165, 166, 167, 168,\n",
       "       169, 170, 171, 172, 173, 174, 175, 176, 177, 178, 179, 180, 181,\n",
       "       182, 183, 184, 185, 186, 187, 188, 189, 190, 191, 192, 193, 194,\n",
       "       195, 196, 197, 198, 199, 200, 201, 202, 203, 204, 205, 206, 207,\n",
       "       208, 209, 210, 211, 212, 213, 214, 215, 216, 217, 218, 219, 220,\n",
       "       221, 222, 223, 224, 225, 226, 227, 228, 229, 230, 231, 232, 233,\n",
       "       234, 235, 236, 237, 238, 239, 240, 241, 242, 243, 244, 245, 246,\n",
       "       247, 248, 249, 250, 251, 252, 253, 254, 255, 256, 257, 258, 259,\n",
       "       260, 261, 262, 263, 264, 265, 266, 267, 268, 269, 270, 271, 272,\n",
       "       273, 274, 275, 276, 277, 278, 279, 280, 281, 282, 283, 284, 285,\n",
       "       286, 287, 288, 289, 290, 291, 292, 293, 294, 295, 296, 297, 298,\n",
       "       299, 300, 301, 302, 303, 304, 305, 306, 307, 308, 309, 310, 311,\n",
       "       312, 313, 314, 315, 316, 317, 318, 319, 320, 321, 322, 323, 324,\n",
       "       325, 326, 327, 328, 329, 330, 331, 332, 333, 334, 335, 336, 337,\n",
       "       338, 339, 340, 341, 342, 343, 344, 345, 346, 347, 348, 349, 350,\n",
       "       351, 352, 353, 354, 355, 356, 357, 358, 359, 360, 361, 362, 363,\n",
       "       364, 365, 366, 367, 368, 369, 370, 371, 372, 373, 374, 375, 376,\n",
       "       377, 378, 379, 380, 381, 382, 383, 384, 385, 386, 387, 388, 389,\n",
       "       390, 391, 392, 393, 394, 395, 396, 397, 398, 399, 400, 401, 402,\n",
       "       403, 404, 405, 406, 407, 408, 409, 410, 411, 412, 413, 414, 415,\n",
       "       416, 417, 418, 419, 420, 421, 422, 423, 424, 425, 426, 427, 428,\n",
       "       429, 430, 431, 432, 433, 434, 435, 436, 437, 438, 439])"
      ]
     },
     "execution_count": 26,
     "metadata": {},
     "output_type": "execute_result"
    }
   ],
   "source": [
    "np.unique(channel_np)"
   ]
  },
  {
   "cell_type": "code",
   "execution_count": 27,
   "metadata": {},
   "outputs": [
    {
     "data": {
      "text/html": [
       "<div>\n",
       "<style scoped>\n",
       "    .dataframe tbody tr th:only-of-type {\n",
       "        vertical-align: middle;\n",
       "    }\n",
       "\n",
       "    .dataframe tbody tr th {\n",
       "        vertical-align: top;\n",
       "    }\n",
       "\n",
       "    .dataframe thead th {\n",
       "        text-align: right;\n",
       "    }\n",
       "</style>\n",
       "<table border=\"1\" class=\"dataframe\">\n",
       "  <thead>\n",
       "    <tr style=\"text-align: right;\">\n",
       "      <th></th>\n",
       "      <th>Region</th>\n",
       "    </tr>\n",
       "  </thead>\n",
       "  <tbody>\n",
       "    <tr>\n",
       "      <th>0</th>\n",
       "      <td>2</td>\n",
       "    </tr>\n",
       "    <tr>\n",
       "      <th>1</th>\n",
       "      <td>2</td>\n",
       "    </tr>\n",
       "    <tr>\n",
       "      <th>2</th>\n",
       "      <td>2</td>\n",
       "    </tr>\n",
       "    <tr>\n",
       "      <th>3</th>\n",
       "      <td>1</td>\n",
       "    </tr>\n",
       "    <tr>\n",
       "      <th>4</th>\n",
       "      <td>2</td>\n",
       "    </tr>\n",
       "  </tbody>\n",
       "</table>\n",
       "</div>"
      ],
      "text/plain": [
       "   Region\n",
       "0       2\n",
       "1       2\n",
       "2       2\n",
       "3       1\n",
       "4       2"
      ]
     },
     "execution_count": 27,
     "metadata": {},
     "output_type": "execute_result"
    }
   ],
   "source": [
    "re_df = pd.DataFrame(region_np, columns=['Region'])\n",
    "re_df.head()"
   ]
  },
  {
   "cell_type": "code",
   "execution_count": 28,
   "metadata": {},
   "outputs": [
    {
     "data": {
      "text/html": [
       "<div>\n",
       "<style scoped>\n",
       "    .dataframe tbody tr th:only-of-type {\n",
       "        vertical-align: middle;\n",
       "    }\n",
       "\n",
       "    .dataframe tbody tr th {\n",
       "        vertical-align: top;\n",
       "    }\n",
       "\n",
       "    .dataframe thead th {\n",
       "        text-align: right;\n",
       "    }\n",
       "</style>\n",
       "<table border=\"1\" class=\"dataframe\">\n",
       "  <thead>\n",
       "    <tr style=\"text-align: right;\">\n",
       "      <th></th>\n",
       "      <th>Channel</th>\n",
       "    </tr>\n",
       "  </thead>\n",
       "  <tbody>\n",
       "    <tr>\n",
       "      <th>0</th>\n",
       "      <td>0</td>\n",
       "    </tr>\n",
       "    <tr>\n",
       "      <th>1</th>\n",
       "      <td>1</td>\n",
       "    </tr>\n",
       "    <tr>\n",
       "      <th>2</th>\n",
       "      <td>2</td>\n",
       "    </tr>\n",
       "    <tr>\n",
       "      <th>3</th>\n",
       "      <td>3</td>\n",
       "    </tr>\n",
       "    <tr>\n",
       "      <th>4</th>\n",
       "      <td>4</td>\n",
       "    </tr>\n",
       "  </tbody>\n",
       "</table>\n",
       "</div>"
      ],
      "text/plain": [
       "   Channel\n",
       "0        0\n",
       "1        1\n",
       "2        2\n",
       "3        3\n",
       "4        4"
      ]
     },
     "execution_count": 28,
     "metadata": {},
     "output_type": "execute_result"
    }
   ],
   "source": [
    "ch_df = pd.DataFrame(channel_np, columns=['Channel'])\n",
    "ch_df.head()"
   ]
  },
  {
   "cell_type": "code",
   "execution_count": 29,
   "metadata": {},
   "outputs": [
    {
     "data": {
      "text/html": [
       "<div>\n",
       "<style scoped>\n",
       "    .dataframe tbody tr th:only-of-type {\n",
       "        vertical-align: middle;\n",
       "    }\n",
       "\n",
       "    .dataframe tbody tr th {\n",
       "        vertical-align: top;\n",
       "    }\n",
       "\n",
       "    .dataframe thead th {\n",
       "        text-align: right;\n",
       "    }\n",
       "</style>\n",
       "<table border=\"1\" class=\"dataframe\">\n",
       "  <thead>\n",
       "    <tr style=\"text-align: right;\">\n",
       "      <th></th>\n",
       "      <th>Channel</th>\n",
       "      <th>Region</th>\n",
       "    </tr>\n",
       "  </thead>\n",
       "  <tbody>\n",
       "    <tr>\n",
       "      <th>0</th>\n",
       "      <td>0</td>\n",
       "      <td>2</td>\n",
       "    </tr>\n",
       "    <tr>\n",
       "      <th>1</th>\n",
       "      <td>1</td>\n",
       "      <td>2</td>\n",
       "    </tr>\n",
       "    <tr>\n",
       "      <th>2</th>\n",
       "      <td>2</td>\n",
       "      <td>2</td>\n",
       "    </tr>\n",
       "    <tr>\n",
       "      <th>3</th>\n",
       "      <td>3</td>\n",
       "      <td>1</td>\n",
       "    </tr>\n",
       "    <tr>\n",
       "      <th>4</th>\n",
       "      <td>4</td>\n",
       "      <td>2</td>\n",
       "    </tr>\n",
       "  </tbody>\n",
       "</table>\n",
       "</div>"
      ],
      "text/plain": [
       "   Channel  Region\n",
       "0        0       2\n",
       "1        1       2\n",
       "2        2       2\n",
       "3        3       1\n",
       "4        4       2"
      ]
     },
     "execution_count": 29,
     "metadata": {},
     "output_type": "execute_result"
    }
   ],
   "source": [
    "ch_re_df = pd.concat([ch_df, re_df], axis=1)\n",
    "ch_re_df.head()"
   ]
  },
  {
   "cell_type": "code",
   "execution_count": 30,
   "metadata": {},
   "outputs": [],
   "source": [
    "cls = ScratchKMeans(n_clusters=100, n_init=10, max_iter=100, tol=0.1)"
   ]
  },
  {
   "cell_type": "code",
   "execution_count": 31,
   "metadata": {},
   "outputs": [],
   "source": [
    "cls.fit(ch_re_df)"
   ]
  },
  {
   "cell_type": "code",
   "execution_count": 32,
   "metadata": {},
   "outputs": [
    {
     "data": {
      "text/html": [
       "<div>\n",
       "<style scoped>\n",
       "    .dataframe tbody tr th:only-of-type {\n",
       "        vertical-align: middle;\n",
       "    }\n",
       "\n",
       "    .dataframe tbody tr th {\n",
       "        vertical-align: top;\n",
       "    }\n",
       "\n",
       "    .dataframe thead th {\n",
       "        text-align: right;\n",
       "    }\n",
       "</style>\n",
       "<table border=\"1\" class=\"dataframe\">\n",
       "  <thead>\n",
       "    <tr style=\"text-align: right;\">\n",
       "      <th></th>\n",
       "      <th>label</th>\n",
       "    </tr>\n",
       "  </thead>\n",
       "  <tbody>\n",
       "    <tr>\n",
       "      <th>0</th>\n",
       "      <td>73</td>\n",
       "    </tr>\n",
       "    <tr>\n",
       "      <th>1</th>\n",
       "      <td>88</td>\n",
       "    </tr>\n",
       "    <tr>\n",
       "      <th>2</th>\n",
       "      <td>44</td>\n",
       "    </tr>\n",
       "    <tr>\n",
       "      <th>3</th>\n",
       "      <td>40</td>\n",
       "    </tr>\n",
       "    <tr>\n",
       "      <th>4</th>\n",
       "      <td>40</td>\n",
       "    </tr>\n",
       "  </tbody>\n",
       "</table>\n",
       "</div>"
      ],
      "text/plain": [
       "   label\n",
       "0     73\n",
       "1     88\n",
       "2     44\n",
       "3     40\n",
       "4     40"
      ]
     },
     "execution_count": 32,
     "metadata": {},
     "output_type": "execute_result"
    }
   ],
   "source": [
    "pred_ch_re = pd.DataFrame(cls.labels_, columns=['label'])\n",
    "pred_ch_re.head()"
   ]
  },
  {
   "cell_type": "code",
   "execution_count": 33,
   "metadata": {},
   "outputs": [
    {
     "data": {
      "text/html": [
       "<div>\n",
       "<style scoped>\n",
       "    .dataframe tbody tr th:only-of-type {\n",
       "        vertical-align: middle;\n",
       "    }\n",
       "\n",
       "    .dataframe tbody tr th {\n",
       "        vertical-align: top;\n",
       "    }\n",
       "\n",
       "    .dataframe thead th {\n",
       "        text-align: right;\n",
       "    }\n",
       "</style>\n",
       "<table border=\"1\" class=\"dataframe\">\n",
       "  <thead>\n",
       "    <tr style=\"text-align: right;\">\n",
       "      <th></th>\n",
       "      <th>Channel</th>\n",
       "      <th>Region</th>\n",
       "      <th>label</th>\n",
       "    </tr>\n",
       "  </thead>\n",
       "  <tbody>\n",
       "    <tr>\n",
       "      <th>0</th>\n",
       "      <td>0</td>\n",
       "      <td>2</td>\n",
       "      <td>73</td>\n",
       "    </tr>\n",
       "    <tr>\n",
       "      <th>1</th>\n",
       "      <td>1</td>\n",
       "      <td>2</td>\n",
       "      <td>88</td>\n",
       "    </tr>\n",
       "    <tr>\n",
       "      <th>2</th>\n",
       "      <td>2</td>\n",
       "      <td>2</td>\n",
       "      <td>44</td>\n",
       "    </tr>\n",
       "    <tr>\n",
       "      <th>3</th>\n",
       "      <td>3</td>\n",
       "      <td>1</td>\n",
       "      <td>40</td>\n",
       "    </tr>\n",
       "    <tr>\n",
       "      <th>4</th>\n",
       "      <td>4</td>\n",
       "      <td>2</td>\n",
       "      <td>40</td>\n",
       "    </tr>\n",
       "  </tbody>\n",
       "</table>\n",
       "</div>"
      ],
      "text/plain": [
       "   Channel  Region  label\n",
       "0        0       2     73\n",
       "1        1       2     88\n",
       "2        2       2     44\n",
       "3        3       1     40\n",
       "4        4       2     40"
      ]
     },
     "execution_count": 33,
     "metadata": {},
     "output_type": "execute_result"
    }
   ],
   "source": [
    "result2 = pd.concat([ch_re_df, pred_ch_re], axis=1)\n",
    "result2.head()"
   ]
  },
  {
   "cell_type": "markdown",
   "metadata": {},
   "source": [
    "# RegionとChannelデータの散布図"
   ]
  },
  {
   "cell_type": "code",
   "execution_count": 34,
   "metadata": {},
   "outputs": [
    {
     "data": {
      "text/plain": [
       "Text(0.5, 1.0, 'prediction label')"
      ]
     },
     "execution_count": 34,
     "metadata": {},
     "output_type": "execute_result"
    },
    {
     "data": {
      "image/png": "[encoded data removed]",
      "text/plain": [
       "<Figure size 432x288 with 2 Axes>"
      ]
     },
     "metadata": {},
     "output_type": "display_data"
    }
   ],
   "source": [
    "result2.plot(kind=\"scatter\", x='Channel',y='Region',c=\"label\", cmap=\"winter\")\n",
    "plt.title(\"prediction label\")"
   ]
  },
  {
   "cell_type": "markdown",
   "metadata": {},
   "source": [
    "# Region、Channel以外のデータの散布図"
   ]
  },
  {
   "cell_type": "code",
   "execution_count": 35,
   "metadata": {},
   "outputs": [
    {
     "data": {
      "text/plain": [
       "Text(0.5, 1.0, 'prediction label')"
      ]
     },
     "execution_count": 35,
     "metadata": {},
     "output_type": "execute_result"
    },
    {
     "data": {
      "image/png": "[encoded data removed]",
      "text/plain": [
       "<Figure size 432x288 with 2 Axes>"
      ]
     },
     "metadata": {},
     "output_type": "display_data"
    }
   ],
   "source": [
    "result1.plot(kind=\"scatter\", x='X',y='Y',c=\"label\", cmap=\"winter\")\n",
    "plt.title(\"prediction label\")"
   ]
  },
  {
   "cell_type": "markdown",
   "metadata": {},
   "source": [
    "# 【問題6】卸売業者にとって有益な情報\n",
    "卸売業者にとって有益な情報を探し出し文章にまとめてください。\n",
    "\n",
    "ヒント\n",
    "\n",
    "前処理を行う前のデータを使い、各クラスタの要約統計量を見るなどしてみましょう。また、PCAで次元削減したデータに対してK-meansを使用しましたが、6個の特徴量をそのまま使ったり、一部の特徴量のみを使ったりということも試してみてください。既知のグループとの比較結果も参考にしてください。\n",
    "\n",
    "条件ごとにデータを見る際にはPandasのgroupbyが便利です。\n",
    "\n",
    "[pandas.DataFrame.groupby — pandas 0.23.4 documentation](https://pandas.pydata.org/pandas-docs/stable/reference/api/pandas.DataFrame.groupby.html)"
   ]
  },
  {
   "cell_type": "markdown",
   "metadata": {},
   "source": [
    "# 今回の課題においての有益な情報の定義\n",
    "## →<font color=\"Red\"><u>売上・利益の向上を行う為の情報</u></font>と定義\n",
    "\n",
    "\n",
    "# データ分析の結果により検討した有益な情報\n",
    "## 用語の意味\n",
    "- Hoterica(ホテル・レストラン・カフェ) Retail(小売業者)\n",
    "- Lisbon(リスボン)、Oporto(ポルト)、Other Region(その他の地域)\n",
    "\n",
    "\n",
    "\n",
    "##  ◯取引先の数について\n",
    "### 1. Retailの取引先を増やす\n",
    "\n",
    "\n",
    "- 理由:全体的な取引先を増やす事は、売上・利益の向上には必要ではあるが、現状、Retail(その他)の取引数はHoterica(ホテル・レストラン・カフェ)の半分程度の為、特にRetailの取引先を増やす事が重要と思われる。\n",
    "\n",
    "## ◯商品について\n",
    "### 1. RetailへのMilk・Groceryの取引数を増やす\n",
    "- 理由:Retail(その他)へのMilk(乳製品)Grocery(食料品)の１取引あたりの額が、HoReCa(ホテル・レストラン・カフェ)と比較し高い傾向がある\n",
    "\n",
    "### 2. Region3でのRetailに対してのGroceryの取引を増やす\n",
    "- 理由:1回の取引額がその他の地域Region1(Lisbon), Region2(Oporto)、その他の顧客Hotericaと比較し高い為。\n",
    "\n",
    "### 3. FrozenのHorecaに対しての取引を増やす\n",
    "- 理由:1回の取引額がその他の地域Region1(Lisbon), Region2(Oporto)、その他の顧客Hotericaと比較し高い為。\n",
    "\n",
    "\n",
    "\n",
    "# データセットの情報\n",
    "## ①事前情報\n",
    "- データの入手先　→　カリフォルニア大学アーバイン校\n",
    "- データセットの概要　→　ポルトガルの卸売業者の顧客のデータ（2011年(通年)、通貨単位の年間支出）。大元のデータベースからサンプリングしたデータセット。"
   ]
  },
  {
   "cell_type": "markdown",
   "metadata": {},
   "source": [
    "## ②データについて\n",
    "### 基本情報\n",
    "- 特徴量　8個\n",
    "\n",
    "\n",
    "1. FRESH  ：生鮮品の年間支出（通貨単位）\n",
    "2. MILK   ：乳製品の年間支出（通貨単位）\n",
    "3. GROCERY：食料品の年間支出（通貨単位）\n",
    "4. FROZEN ：冷凍品の年間支出（通貨単位）\n",
    "5. DETERGENTS_PAPER：洗剤、紙製品の年間支出（通貨単位）\n",
    "6. DELICATESSEN：デリカテッセン(惣菜)の年間支出（通貨単位）\n",
    "7. CHANNEL：販売チャネル - Horeca（ホテル/レストラン/カフェ）、卸売業者\n",
    "8. REGION ：消費地域 - リスボン、ポルト、その他\n",
    "\n",
    "### 要的統計量(公式ページから確認)\n",
    "\n",
    "\n",
    "| Product          | Minimum | Maximum | Mean    | Std Deviation |\n",
    "|------------------|---------|---------|---------|---------------|\n",
    "| FRESH            | 3       | 112151  | 12000.3 | 12647.329     |\n",
    "| MILK             | 55      | 73498   | 5796.27 | 7380.377      |\n",
    "| GROCERY          | 3       | 92780   | 7951.28 | 9503.163      |\n",
    "| FROZEN           | 25      | 60869   | 3071.93 | 4854.673      |\n",
    "| DETERGENTS_PAPER | 3       | 40827   | 2881.49 | 4767.854      |\n",
    "| DELICATESSEN     | 3       | 47943   | 1524.87 | 2820.106      |\n",
    "\n",
    "\n",
    "\n",
    "| REGION       | Frequency |\n",
    "|--------------|-----------|\n",
    "| Lisbon       | 77        |\n",
    "| Oporto       | 47        |\n",
    "| Other Region | 316       |\n",
    "| Total        | 440       \n",
    "\n",
    "\n",
    "\n",
    "| CHANNEL | Frequency |\n",
    "|---------|-----------|\n",
    "| Horeca  | 298       |\n",
    "| Retail  | 142       |\n",
    "| Total   | 440       |\n",
    "\n"
   ]
  },
  {
   "cell_type": "markdown",
   "metadata": {},
   "source": [
    "## ③データの内容を確認\n",
    "### <u>ChannelとRegionの値が何を示しているのか？</u>\n",
    "### 1. Channelの値毎の各特徴量の値を確認\n",
    "#### 確認した事→ <u>Channel 1</u> は<font color=\"Red\">Horeca</font>　<u>Channel 2</u> は　<font color=\"Red\">Retail</font>であることを確認。\n",
    "#### 理由→以下のデータフレームのDelicassen(惣菜の年間支出)の値がHorecaとRetailのそれぞれの頻度値と一致している"
   ]
  },
  {
   "cell_type": "code",
   "execution_count": 36,
   "metadata": {},
   "outputs": [
    {
     "data": {
      "text/html": [
       "<div>\n",
       "<style scoped>\n",
       "    .dataframe tbody tr th:only-of-type {\n",
       "        vertical-align: middle;\n",
       "    }\n",
       "\n",
       "    .dataframe tbody tr th {\n",
       "        vertical-align: top;\n",
       "    }\n",
       "\n",
       "    .dataframe thead th {\n",
       "        text-align: right;\n",
       "    }\n",
       "</style>\n",
       "<table border=\"1\" class=\"dataframe\">\n",
       "  <thead>\n",
       "    <tr style=\"text-align: right;\">\n",
       "      <th></th>\n",
       "      <th>Region</th>\n",
       "      <th>Fresh</th>\n",
       "      <th>Milk</th>\n",
       "      <th>Grocery</th>\n",
       "      <th>Frozen</th>\n",
       "      <th>Detergents_Paper</th>\n",
       "      <th>Delicassen</th>\n",
       "    </tr>\n",
       "    <tr>\n",
       "      <th>Channel</th>\n",
       "      <th></th>\n",
       "      <th></th>\n",
       "      <th></th>\n",
       "      <th></th>\n",
       "      <th></th>\n",
       "      <th></th>\n",
       "      <th></th>\n",
       "    </tr>\n",
       "  </thead>\n",
       "  <tbody>\n",
       "    <tr>\n",
       "      <th>1</th>\n",
       "      <td>298</td>\n",
       "      <td>298</td>\n",
       "      <td>298</td>\n",
       "      <td>298</td>\n",
       "      <td>298</td>\n",
       "      <td>298</td>\n",
       "      <td>298</td>\n",
       "    </tr>\n",
       "    <tr>\n",
       "      <th>2</th>\n",
       "      <td>142</td>\n",
       "      <td>142</td>\n",
       "      <td>142</td>\n",
       "      <td>142</td>\n",
       "      <td>142</td>\n",
       "      <td>142</td>\n",
       "      <td>142</td>\n",
       "    </tr>\n",
       "  </tbody>\n",
       "</table>\n",
       "</div>"
      ],
      "text/plain": [
       "         Region  Fresh  Milk  Grocery  Frozen  Detergents_Paper  Delicassen\n",
       "Channel                                                                    \n",
       "1           298    298   298      298     298               298         298\n",
       "2           142    142   142      142     142               142         142"
      ]
     },
     "execution_count": 36,
     "metadata": {},
     "output_type": "execute_result"
    }
   ],
   "source": [
    "base_df.groupby(['Channel']).count()"
   ]
  },
  {
   "cell_type": "markdown",
   "metadata": {},
   "source": [
    "### 2. Regionの値毎の各特徴量の値を確認\n",
    "#### 確認した事→ <u>Region 1</u> は<font color=\"Red\">Lisbon</font>　<u>Region 2</u> は　<font color=\"Red\">Oporto</font>　<u>Region 3</u> は<font color=\"Red\">Other Region</font>であることを確認。\n",
    "#### 理由→以下のデータフレームのDelicassen(惣菜の年間支出)の値がRegionのHorecaとRetailのそれぞれの頻度値と一致している"
   ]
  },
  {
   "cell_type": "code",
   "execution_count": 37,
   "metadata": {},
   "outputs": [
    {
     "data": {
      "text/html": [
       "<div>\n",
       "<style scoped>\n",
       "    .dataframe tbody tr th:only-of-type {\n",
       "        vertical-align: middle;\n",
       "    }\n",
       "\n",
       "    .dataframe tbody tr th {\n",
       "        vertical-align: top;\n",
       "    }\n",
       "\n",
       "    .dataframe thead th {\n",
       "        text-align: right;\n",
       "    }\n",
       "</style>\n",
       "<table border=\"1\" class=\"dataframe\">\n",
       "  <thead>\n",
       "    <tr style=\"text-align: right;\">\n",
       "      <th></th>\n",
       "      <th>Channel</th>\n",
       "      <th>Fresh</th>\n",
       "      <th>Milk</th>\n",
       "      <th>Grocery</th>\n",
       "      <th>Frozen</th>\n",
       "      <th>Detergents_Paper</th>\n",
       "      <th>Delicassen</th>\n",
       "    </tr>\n",
       "    <tr>\n",
       "      <th>Region</th>\n",
       "      <th></th>\n",
       "      <th></th>\n",
       "      <th></th>\n",
       "      <th></th>\n",
       "      <th></th>\n",
       "      <th></th>\n",
       "      <th></th>\n",
       "    </tr>\n",
       "  </thead>\n",
       "  <tbody>\n",
       "    <tr>\n",
       "      <th>1</th>\n",
       "      <td>77</td>\n",
       "      <td>77</td>\n",
       "      <td>77</td>\n",
       "      <td>77</td>\n",
       "      <td>77</td>\n",
       "      <td>77</td>\n",
       "      <td>77</td>\n",
       "    </tr>\n",
       "    <tr>\n",
       "      <th>2</th>\n",
       "      <td>47</td>\n",
       "      <td>47</td>\n",
       "      <td>47</td>\n",
       "      <td>47</td>\n",
       "      <td>47</td>\n",
       "      <td>47</td>\n",
       "      <td>47</td>\n",
       "    </tr>\n",
       "    <tr>\n",
       "      <th>3</th>\n",
       "      <td>316</td>\n",
       "      <td>316</td>\n",
       "      <td>316</td>\n",
       "      <td>316</td>\n",
       "      <td>316</td>\n",
       "      <td>316</td>\n",
       "      <td>316</td>\n",
       "    </tr>\n",
       "  </tbody>\n",
       "</table>\n",
       "</div>"
      ],
      "text/plain": [
       "        Channel  Fresh  Milk  Grocery  Frozen  Detergents_Paper  Delicassen\n",
       "Region                                                                     \n",
       "1            77     77    77       77      77                77          77\n",
       "2            47     47    47       47      47                47          47\n",
       "3           316    316   316      316     316               316         316"
      ]
     },
     "execution_count": 37,
     "metadata": {},
     "output_type": "execute_result"
    }
   ],
   "source": [
    "base_df.groupby(['Region']).count()"
   ]
  },
  {
   "cell_type": "markdown",
   "metadata": {},
   "source": [
    "## ④データ分布を確認\n",
    "### 4-1 Channel毎のデータフレーム"
   ]
  },
  {
   "cell_type": "code",
   "execution_count": 38,
   "metadata": {},
   "outputs": [],
   "source": [
    "# Horecaのみのデータ\n",
    "df_Channel1 = base_df[base_df['Channel']==1].drop(['Channel'],axis=1)\n",
    "# Retailのみのデータ\n",
    "df_Channel2 = base_df[base_df['Channel']==2].drop(['Channel'],axis=1)"
   ]
  },
  {
   "cell_type": "markdown",
   "metadata": {},
   "source": [
    "### 4-2 Region毎のデータフレーム"
   ]
  },
  {
   "cell_type": "code",
   "execution_count": 39,
   "metadata": {},
   "outputs": [],
   "source": [
    "# Lisbonのみのデータ\n",
    "df_Region1 = base_df[base_df['Region']==1].drop(['Region'],axis=1)\n",
    "# Oportoのみのデータ\n",
    "df_Region2 = base_df[base_df['Region']==2].drop(['Region'],axis=1)\n",
    "# Other Regionのみのデータ\n",
    "df_Region3 = base_df[base_df['Region']==3].drop(['Region'],axis=1)"
   ]
  },
  {
   "cell_type": "markdown",
   "metadata": {},
   "source": [
    "### Fresh(生鮮食品の売り上げの分布)\n",
    "### 4-3 Channel毎のデータの推移→特に有益な情報な無し。"
   ]
  },
  {
   "cell_type": "code",
   "execution_count": 40,
   "metadata": {},
   "outputs": [
    {
     "data": {
      "text/plain": [
       "<matplotlib.legend.Legend at 0x105ffb240>"
      ]
     },
     "execution_count": 40,
     "metadata": {},
     "output_type": "execute_result"
    },
    {
     "data": {
      "image/png": "[encoded data removed]",
      "text/plain": [
       "<Figure size 432x288 with 1 Axes>"
      ]
     },
     "metadata": {},
     "output_type": "display_data"
    }
   ],
   "source": [
    "plt.hist([df_Channel1['Fresh'],df_Channel2['Fresh']],\n",
    "         bins=15, label=['Horeca','Retail'], color=['#FACC2E','#2E64FE'], range=(0,60000))\n",
    "plt.ylabel('Frequency')\n",
    "plt.xlabel('Annual spending')\n",
    "plt.title('Distribution of Fresh food per Channel')\n",
    "plt.legend()"
   ]
  },
  {
   "cell_type": "markdown",
   "metadata": {},
   "source": [
    "### 4-4 Region毎のデータの推移→特に有益な情報な無し。"
   ]
  },
  {
   "cell_type": "code",
   "execution_count": 41,
   "metadata": {},
   "outputs": [
    {
     "data": {
      "image/png": "[encoded data removed]",
      "text/plain": [
       "<Figure size 432x288 with 1 Axes>"
      ]
     },
     "metadata": {},
     "output_type": "display_data"
    }
   ],
   "source": [
    "plt.hist([df_Region1['Fresh'],df_Region2['Fresh'],df_Region3['Fresh']],\n",
    "         bins=15, label=['Lisbon','Oporto','Other Region'], color=['#2EFE2E','#FE2E2E','#F7FE2E'], rwidth=100, range=(0,60000))\n",
    "plt.ylabel('Frequency')\n",
    "plt.xlabel('Annual spending')\n",
    "plt.title('Distribution of Fresh food per Region')\n",
    "plt.legend();"
   ]
  },
  {
   "cell_type": "markdown",
   "metadata": {},
   "source": [
    "### Milk(乳製品)の分布\n",
    "### 4-5 Channel毎のデータの推移→Retailの方が、取引先あたりの卸売額が大きい傾向がある"
   ]
  },
  {
   "cell_type": "code",
   "execution_count": 42,
   "metadata": {},
   "outputs": [
    {
     "data": {
      "image/png": "[encoded data removed]",
      "text/plain": [
       "<Figure size 432x288 with 1 Axes>"
      ]
     },
     "metadata": {},
     "output_type": "display_data"
    }
   ],
   "source": [
    "plt.hist([df_Channel1['Milk'],df_Channel2['Milk']],\n",
    "         bins=15, label=['Horeca','Retail'], color=['#FACC2E','#2E64FE'], rwidth=100, range=(0,40000))\n",
    "plt.ylabel('Frequency')\n",
    "plt.xlabel('Annual spending')\n",
    "plt.title('Distribution of Milk  per Channel')\n",
    "plt.legend();"
   ]
  },
  {
   "cell_type": "markdown",
   "metadata": {},
   "source": [
    "### 4-6 Region毎のデータの推移→特に有益な情報な無し。"
   ]
  },
  {
   "cell_type": "code",
   "execution_count": 43,
   "metadata": {},
   "outputs": [
    {
     "data": {
      "image/png": "[encoded data removed]",
      "text/plain": [
       "<Figure size 432x288 with 1 Axes>"
      ]
     },
     "metadata": {},
     "output_type": "display_data"
    }
   ],
   "source": [
    "plt.hist([df_Region1['Milk'],df_Region2['Milk'],df_Region3['Milk']],\n",
    "         bins=15, label=['Lisbon','Oporto','Other Region'], color=['#2EFE2E','#FE2E2E','#F7FE2E'], rwidth=100, range=(0,40000))\n",
    "plt.ylabel('Frequency')\n",
    "plt.xlabel('Annual spending')\n",
    "plt.title('Distribution of Milk  per Region')\n",
    "plt.legend();"
   ]
  },
  {
   "cell_type": "markdown",
   "metadata": {},
   "source": [
    "### Grocery(食料品)の分布\n",
    "### 4-7 Channel毎のデータの推移→Retailの方が、取引先あたりの卸売額が大きい傾向がある"
   ]
  },
  {
   "cell_type": "code",
   "execution_count": 44,
   "metadata": {},
   "outputs": [
    {
     "data": {
      "image/png": "[encoded data removed]",
      "text/plain": [
       "<Figure size 432x288 with 1 Axes>"
      ]
     },
     "metadata": {},
     "output_type": "display_data"
    }
   ],
   "source": [
    "plt.hist([df_Channel1['Grocery'],df_Channel2['Grocery']],\n",
    "        bins=15, label=['Horeca','Retail'], color=['#FACC2E','#2E64FE'], rwidth=100, range=(0,40000))\n",
    "plt.ylabel('Frequency')\n",
    "plt.xlabel('Annual spending')\n",
    "plt.title('Distribution of Grocery per Channel')\n",
    "plt.legend();"
   ]
  },
  {
   "cell_type": "markdown",
   "metadata": {},
   "source": [
    "### 4-8 Region毎のデータの推移→Other Region方が、取引先あたりの卸売額が大きい傾向がある。"
   ]
  },
  {
   "cell_type": "code",
   "execution_count": 45,
   "metadata": {},
   "outputs": [
    {
     "data": {
      "image/png": "[encoded data removed]",
      "text/plain": [
       "<Figure size 432x288 with 1 Axes>"
      ]
     },
     "metadata": {},
     "output_type": "display_data"
    }
   ],
   "source": [
    "plt.hist([df_Region1['Grocery'],df_Region2['Grocery'],df_Region3['Grocery']],\n",
    "        bins=15, label=['Lisbon','Oporto','Other Region'], color=['#2EFE2E','#FE2E2E','#F7FE2E'], rwidth=100, range=(0,40000))\n",
    "plt.ylabel('Frequency')\n",
    "plt.xlabel('Annual spending')\n",
    "plt.title('Distribution of Milk  per Region')\n",
    "plt.legend();"
   ]
  },
  {
   "cell_type": "markdown",
   "metadata": {},
   "source": [
    "### Frozen(冷凍食品)の分布\n",
    "### 4-9 Channel毎のデータの推移→Horecaの方が、取引先あたりの卸売額が大きい傾向がある"
   ]
  },
  {
   "cell_type": "code",
   "execution_count": 46,
   "metadata": {},
   "outputs": [
    {
     "data": {
      "image/png": "[encoded data removed]",
      "text/plain": [
       "<Figure size 432x288 with 1 Axes>"
      ]
     },
     "metadata": {},
     "output_type": "display_data"
    }
   ],
   "source": [
    "plt.hist([df_Channel1['Frozen'],df_Channel2['Frozen']],\n",
    "        bins=15, label=['Horeca','Retail'], color=['#FACC2E','#2E64FE'], rwidth=100, range=(0,20000))\n",
    "plt.ylabel('Frequency')\n",
    "plt.xlabel('Annual spending')\n",
    "plt.title('Distribution of Frozen per Channel')\n",
    "plt.legend();"
   ]
  },
  {
   "cell_type": "markdown",
   "metadata": {},
   "source": [
    "### 4-10 Region毎のデータの推移→特に有益な情報な無し。"
   ]
  },
  {
   "cell_type": "code",
   "execution_count": 47,
   "metadata": {},
   "outputs": [
    {
     "data": {
      "image/png": "[encoded data removed]",
      "text/plain": [
       "<Figure size 432x288 with 1 Axes>"
      ]
     },
     "metadata": {},
     "output_type": "display_data"
    }
   ],
   "source": [
    "plt.hist([df_Region1['Frozen'],df_Region2['Frozen'],df_Region3['Frozen']],\n",
    "        bins=15, label=['Lisbon','Oporto','Other Region'], color=['#2EFE2E','#FE2E2E','#F7FE2E'], rwidth=100, range=(0,20000))\n",
    "plt.ylabel('Frequency')\n",
    "plt.xlabel('Annual spending')\n",
    "plt.title('Distribution of Frozen  per Region')\n",
    "plt.legend();"
   ]
  },
  {
   "cell_type": "markdown",
   "metadata": {},
   "source": [
    "### Detargents_Paper(洗剤、紙製品)の分布\n",
    "### 4-11 Channel毎のデータの推移→洗剤、紙製品はRetailの方が、<u>取引先あたりの卸売額が大きい傾向がある</u>"
   ]
  },
  {
   "cell_type": "code",
   "execution_count": 48,
   "metadata": {},
   "outputs": [
    {
     "data": {
      "image/png": "[encoded data removed]",
      "text/plain": [
       "<Figure size 432x288 with 1 Axes>"
      ]
     },
     "metadata": {},
     "output_type": "display_data"
    }
   ],
   "source": [
    "plt.hist([df_Channel1['Detergents_Paper'],df_Channel2['Detergents_Paper']],\n",
    "        bins=15, label=['Horeca','Retail'], color=['#FACC2E','#2E64FE'], rwidth=100, range=(0,25000))\n",
    "plt.ylabel('Frequency')\n",
    "plt.xlabel('Annual spending')\n",
    "plt.title('Distribution of Datargents_Paper per Channel')\n",
    "plt.legend();"
   ]
  },
  {
   "cell_type": "markdown",
   "metadata": {},
   "source": [
    "### 4-12 Region毎のデータの推移→特に有益な情報な無し。"
   ]
  },
  {
   "cell_type": "code",
   "execution_count": 49,
   "metadata": {},
   "outputs": [
    {
     "data": {
      "image/png": "[encoded data removed]",
      "text/plain": [
       "<Figure size 432x288 with 1 Axes>"
      ]
     },
     "metadata": {},
     "output_type": "display_data"
    }
   ],
   "source": [
    "plt.hist([df_Region1['Detergents_Paper'],df_Region2['Detergents_Paper'],df_Region3['Detergents_Paper']],\n",
    "        bins=15, label=['Lisbon','Oporto','Other Region'], color=['#2EFE2E','#FE2E2E','#F7FE2E'], rwidth=100, range=(0,25000))\n",
    "plt.ylabel('Frequency')\n",
    "plt.xlabel('Annual spending')\n",
    "plt.title('Distribution of Datargents_Paper  per Region')\n",
    "plt.legend();"
   ]
  },
  {
   "cell_type": "markdown",
   "metadata": {},
   "source": [
    "### Delicatessen(惣菜)の分布\n",
    "### 4-13 Channel毎のデータの推移→特に有益な情報な無し。¶"
   ]
  },
  {
   "cell_type": "code",
   "execution_count": 50,
   "metadata": {},
   "outputs": [
    {
     "data": {
      "image/png": "[encoded data removed]",
      "text/plain": [
       "<Figure size 432x288 with 1 Axes>"
      ]
     },
     "metadata": {},
     "output_type": "display_data"
    }
   ],
   "source": [
    "\n",
    "plt.hist([df_Channel1['Delicassen'],df_Channel2['Delicassen']],\n",
    "        bins=15, label=['Horeca','Retail'], color=['#FACC2E','#2E64FE'], rwidth=100, range=(0,20000))\n",
    "plt.ylabel('Frequency')\n",
    "plt.xlabel('Annual spending')\n",
    "plt.title('Distribution of Delicatessen per Channel')\n",
    "plt.legend();"
   ]
  },
  {
   "cell_type": "markdown",
   "metadata": {},
   "source": [
    "### 4-14 Region毎のデータの推移→特に有益な情報な無し。"
   ]
  },
  {
   "cell_type": "code",
   "execution_count": 51,
   "metadata": {},
   "outputs": [
    {
     "data": {
      "image/png": "[encoded data removed]",
      "text/plain": [
       "<Figure size 432x288 with 1 Axes>"
      ]
     },
     "metadata": {},
     "output_type": "display_data"
    }
   ],
   "source": [
    "plt.hist([df_Region1['Fresh'],df_Region2['Fresh'],df_Region3['Fresh']],\n",
    "         bins=15, label=['Lisbon','Oporto','Other Region'], color=['#2EFE2E','#FE2E2E','#F7FE2E'], rwidth=100, range=(0,60000))\n",
    "plt.ylabel('Frequency')\n",
    "plt.xlabel('Annual spending')\n",
    "plt.title('Distribution of Datargents_Paper  per Region')\n",
    "plt.legend();"
   ]
  },
  {
   "cell_type": "markdown",
   "metadata": {},
   "source": [
    "## ⑤クロス集計を実施\n",
    "### <u>Regionでグループ化</u>\n",
    "### 5-1 取引先の数→Other Region, Lisbon, Oportoの順で多い"
   ]
  },
  {
   "cell_type": "code",
   "execution_count": 52,
   "metadata": {},
   "outputs": [
    {
     "data": {
      "text/html": [
       "<div>\n",
       "<style scoped>\n",
       "    .dataframe tbody tr th:only-of-type {\n",
       "        vertical-align: middle;\n",
       "    }\n",
       "\n",
       "    .dataframe tbody tr th {\n",
       "        vertical-align: top;\n",
       "    }\n",
       "\n",
       "    .dataframe thead th {\n",
       "        text-align: right;\n",
       "    }\n",
       "</style>\n",
       "<table border=\"1\" class=\"dataframe\">\n",
       "  <thead>\n",
       "    <tr style=\"text-align: right;\">\n",
       "      <th></th>\n",
       "      <th>Total</th>\n",
       "    </tr>\n",
       "    <tr>\n",
       "      <th>Region</th>\n",
       "      <th></th>\n",
       "    </tr>\n",
       "  </thead>\n",
       "  <tbody>\n",
       "    <tr>\n",
       "      <th>1</th>\n",
       "      <td>77</td>\n",
       "    </tr>\n",
       "    <tr>\n",
       "      <th>2</th>\n",
       "      <td>47</td>\n",
       "    </tr>\n",
       "    <tr>\n",
       "      <th>3</th>\n",
       "      <td>316</td>\n",
       "    </tr>\n",
       "  </tbody>\n",
       "</table>\n",
       "</div>"
      ],
      "text/plain": [
       "        Total\n",
       "Region       \n",
       "1          77\n",
       "2          47\n",
       "3         316"
      ]
     },
     "execution_count": 52,
     "metadata": {},
     "output_type": "execute_result"
    }
   ],
   "source": [
    "base_df['Total'] = base_df[['Fresh','Milk','Grocery','Frozen','Detergents_Paper','Delicassen']].sum(axis=1)\n",
    "base_df[['Region','Total']].groupby(['Region']).count()"
   ]
  },
  {
   "cell_type": "markdown",
   "metadata": {},
   "source": [
    "### 5-2 Region毎の取引額の合計→Region3(Other) Region1(Lisbon), Region2(Oporto)の順で多い"
   ]
  },
  {
   "cell_type": "code",
   "execution_count": 53,
   "metadata": {},
   "outputs": [
    {
     "data": {
      "text/html": [
       "<div>\n",
       "<style scoped>\n",
       "    .dataframe tbody tr th:only-of-type {\n",
       "        vertical-align: middle;\n",
       "    }\n",
       "\n",
       "    .dataframe tbody tr th {\n",
       "        vertical-align: top;\n",
       "    }\n",
       "\n",
       "    .dataframe thead th {\n",
       "        text-align: right;\n",
       "    }\n",
       "</style>\n",
       "<table border=\"1\" class=\"dataframe\">\n",
       "  <thead>\n",
       "    <tr style=\"text-align: right;\">\n",
       "      <th></th>\n",
       "      <th>Fresh</th>\n",
       "      <th>Milk</th>\n",
       "      <th>Grocery</th>\n",
       "      <th>Frozen</th>\n",
       "      <th>Detergents_Paper</th>\n",
       "      <th>Delicassen</th>\n",
       "      <th>Total</th>\n",
       "    </tr>\n",
       "    <tr>\n",
       "      <th>Region</th>\n",
       "      <th></th>\n",
       "      <th></th>\n",
       "      <th></th>\n",
       "      <th></th>\n",
       "      <th></th>\n",
       "      <th></th>\n",
       "      <th></th>\n",
       "    </tr>\n",
       "  </thead>\n",
       "  <tbody>\n",
       "    <tr>\n",
       "      <th>1</th>\n",
       "      <td>854833</td>\n",
       "      <td>422454</td>\n",
       "      <td>570037</td>\n",
       "      <td>231026</td>\n",
       "      <td>204136</td>\n",
       "      <td>104327</td>\n",
       "      <td>2386813</td>\n",
       "    </tr>\n",
       "    <tr>\n",
       "      <th>2</th>\n",
       "      <td>464721</td>\n",
       "      <td>239144</td>\n",
       "      <td>433274</td>\n",
       "      <td>190132</td>\n",
       "      <td>173311</td>\n",
       "      <td>54506</td>\n",
       "      <td>1555088</td>\n",
       "    </tr>\n",
       "    <tr>\n",
       "      <th>3</th>\n",
       "      <td>3960577</td>\n",
       "      <td>1888759</td>\n",
       "      <td>2495251</td>\n",
       "      <td>930492</td>\n",
       "      <td>890410</td>\n",
       "      <td>512110</td>\n",
       "      <td>10677599</td>\n",
       "    </tr>\n",
       "  </tbody>\n",
       "</table>\n",
       "</div>"
      ],
      "text/plain": [
       "          Fresh     Milk  Grocery  Frozen  Detergents_Paper  Delicassen  \\\n",
       "Region                                                                    \n",
       "1        854833   422454   570037  231026            204136      104327   \n",
       "2        464721   239144   433274  190132            173311       54506   \n",
       "3       3960577  1888759  2495251  930492            890410      512110   \n",
       "\n",
       "           Total  \n",
       "Region            \n",
       "1        2386813  \n",
       "2        1555088  \n",
       "3       10677599  "
      ]
     },
     "execution_count": 53,
     "metadata": {},
     "output_type": "execute_result"
    }
   ],
   "source": [
    "base_df.drop('Channel',axis=1).groupby(['Region']).sum()"
   ]
  },
  {
   "cell_type": "markdown",
   "metadata": {},
   "source": [
    "### 5-3 取引先あたりの取引額の平均→Region3(Other) Region2(Lisbon), Region1(Oporto)の順で多い\n",
    "- Region2(Lisbon)は取引額の合計では最低だが、取引額の平均では第２位となっており、<u>1回あたりの取引額が高いことがわかる。</u>"
   ]
  },
  {
   "cell_type": "code",
   "execution_count": 54,
   "metadata": {},
   "outputs": [
    {
     "data": {
      "text/html": [
       "<div>\n",
       "<style scoped>\n",
       "    .dataframe tbody tr th:only-of-type {\n",
       "        vertical-align: middle;\n",
       "    }\n",
       "\n",
       "    .dataframe tbody tr th {\n",
       "        vertical-align: top;\n",
       "    }\n",
       "\n",
       "    .dataframe thead th {\n",
       "        text-align: right;\n",
       "    }\n",
       "</style>\n",
       "<table border=\"1\" class=\"dataframe\">\n",
       "  <thead>\n",
       "    <tr style=\"text-align: right;\">\n",
       "      <th></th>\n",
       "      <th>Fresh</th>\n",
       "      <th>Milk</th>\n",
       "      <th>Grocery</th>\n",
       "      <th>Frozen</th>\n",
       "      <th>Detergents_Paper</th>\n",
       "      <th>Delicassen</th>\n",
       "      <th>Total</th>\n",
       "    </tr>\n",
       "    <tr>\n",
       "      <th>Region</th>\n",
       "      <th></th>\n",
       "      <th></th>\n",
       "      <th></th>\n",
       "      <th></th>\n",
       "      <th></th>\n",
       "      <th></th>\n",
       "      <th></th>\n",
       "    </tr>\n",
       "  </thead>\n",
       "  <tbody>\n",
       "    <tr>\n",
       "      <th>1</th>\n",
       "      <td>11101.727273</td>\n",
       "      <td>5486.415584</td>\n",
       "      <td>7403.077922</td>\n",
       "      <td>3000.337662</td>\n",
       "      <td>2651.116883</td>\n",
       "      <td>1354.896104</td>\n",
       "      <td>30997.571429</td>\n",
       "    </tr>\n",
       "    <tr>\n",
       "      <th>2</th>\n",
       "      <td>9887.680851</td>\n",
       "      <td>5088.170213</td>\n",
       "      <td>9218.595745</td>\n",
       "      <td>4045.361702</td>\n",
       "      <td>3687.468085</td>\n",
       "      <td>1159.702128</td>\n",
       "      <td>33086.978723</td>\n",
       "    </tr>\n",
       "    <tr>\n",
       "      <th>3</th>\n",
       "      <td>12533.471519</td>\n",
       "      <td>5977.085443</td>\n",
       "      <td>7896.363924</td>\n",
       "      <td>2944.594937</td>\n",
       "      <td>2817.753165</td>\n",
       "      <td>1620.601266</td>\n",
       "      <td>33789.870253</td>\n",
       "    </tr>\n",
       "  </tbody>\n",
       "</table>\n",
       "</div>"
      ],
      "text/plain": [
       "               Fresh         Milk      Grocery       Frozen  Detergents_Paper  \\\n",
       "Region                                                                          \n",
       "1       11101.727273  5486.415584  7403.077922  3000.337662       2651.116883   \n",
       "2        9887.680851  5088.170213  9218.595745  4045.361702       3687.468085   \n",
       "3       12533.471519  5977.085443  7896.363924  2944.594937       2817.753165   \n",
       "\n",
       "         Delicassen         Total  \n",
       "Region                             \n",
       "1       1354.896104  30997.571429  \n",
       "2       1159.702128  33086.978723  \n",
       "3       1620.601266  33789.870253  "
      ]
     },
     "execution_count": 54,
     "metadata": {},
     "output_type": "execute_result"
    }
   ],
   "source": [
    "base_df.drop('Channel',axis=1).groupby(['Region']).mean()"
   ]
  },
  {
   "cell_type": "markdown",
   "metadata": {},
   "source": [
    "### <u>Channelでグループ化</u>\n",
    "### 5-4 取引先の数を見てみる→取引先の数は、Horecaが倍近く多い"
   ]
  },
  {
   "cell_type": "code",
   "execution_count": 55,
   "metadata": {},
   "outputs": [
    {
     "data": {
      "text/html": [
       "<div>\n",
       "<style scoped>\n",
       "    .dataframe tbody tr th:only-of-type {\n",
       "        vertical-align: middle;\n",
       "    }\n",
       "\n",
       "    .dataframe tbody tr th {\n",
       "        vertical-align: top;\n",
       "    }\n",
       "\n",
       "    .dataframe thead th {\n",
       "        text-align: right;\n",
       "    }\n",
       "</style>\n",
       "<table border=\"1\" class=\"dataframe\">\n",
       "  <thead>\n",
       "    <tr style=\"text-align: right;\">\n",
       "      <th></th>\n",
       "      <th>Total</th>\n",
       "    </tr>\n",
       "    <tr>\n",
       "      <th>Channel</th>\n",
       "      <th></th>\n",
       "    </tr>\n",
       "  </thead>\n",
       "  <tbody>\n",
       "    <tr>\n",
       "      <th>1</th>\n",
       "      <td>298</td>\n",
       "    </tr>\n",
       "    <tr>\n",
       "      <th>2</th>\n",
       "      <td>142</td>\n",
       "    </tr>\n",
       "  </tbody>\n",
       "</table>\n",
       "</div>"
      ],
      "text/plain": [
       "         Total\n",
       "Channel       \n",
       "1          298\n",
       "2          142"
      ]
     },
     "execution_count": 55,
     "metadata": {},
     "output_type": "execute_result"
    }
   ],
   "source": [
    "base_df[['Channel','Total']].groupby(['Channel']).count()"
   ]
  },
  {
   "cell_type": "markdown",
   "metadata": {},
   "source": [
    "#### Channel毎の取引額\n",
    "- Horecaは、Retailに対して倍近い取引があるにもかかわらず、<u>卸売額はそれほど大きな差がない</u>\n",
    "- Fresh, Grocery, Frozenの順で取引額が多い"
   ]
  }
 ],
 "metadata": {
  "kernelspec": {
   "display_name": "Python 3",
   "language": "python",
   "name": "python3"
  },
  "language_info": {
   "codemirror_mode": {
    "name": "ipython",
    "version": 3
   },
   "file_extension": ".py",
   "mimetype": "text/x-python",
   "name": "python",
   "nbconvert_exporter": "python",
   "pygments_lexer": "ipython3",
   "version": "3.7.1"
  }
 },
 "nbformat": 4,
 "nbformat_minor": 2
}
