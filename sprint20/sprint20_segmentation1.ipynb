{
 "cells": [
  {
   "cell_type": "markdown",
   "metadata": {
    "colab_type": "text",
    "id": "ytBSHninvSEy"
   },
   "source": [
    "# 1.この課題の目的\n",
    "## セグメンテーションを行う\n",
    "以下の要件をすべて満たしていた場合、合格とします。\n",
    "\n",
    "※Jupyter Notebookを使い課題に沿った検証や説明ができている。\n",
    "\n",
    "# 2.セグメンテーション\n",
    "医療データに対するセグメンテーションを行います。KaggleのTGS Salt Identification Challengeのデータセットを使用します。\n",
    "\n",
    "[TGS Salt Identification Challenge | Kaggle](https://www.kaggle.com/c/tgs-salt-identification-challenge)\n",
    "\n",
    "セグメンテーション手法としてU-Net[1]を使います。\n",
    "\n",
    "[1]O.Ronneberger, P.Fischer, T.Brox. U-Net: Convolutional Networks for Biomedical Image Segmentation. Medical Image Computing and Computer-Assisted Intervention (MICCAI), Springer, LNCS, Vol.9351: 234–241, 2015\n",
    "\n",
    "[https://arxiv.org/pdf/1505.04597.pdf](https://arxiv.org/pdf/1505.04597.pdf)"
   ]
  },
  {
   "cell_type": "markdown",
   "metadata": {
    "colab_type": "text",
    "id": "7uoN7WocVmLa"
   },
   "source": [
    "# 【問題1】学習・推定\n",
    "以下のKeras実装を使用して学習・推定を行ってください。\n",
    "\n",
    "[zhixuhao/unet: unet for image segmentation](https://github.com/zhixuhao/unet)\n",
    "\n",
    "## GPU環境での学習\n",
    "\n",
    "大規模なデータセット、大きなモデルになるため、GPUを使用する必要があります。\n",
    "\n",
    "## 新たなデータセットの適用\n",
    "\n",
    "Sprint18,19と同様に実装で用意されたものとは異なるデータセットを入力します。"
   ]
  },
  {
   "cell_type": "markdown",
   "metadata": {},
   "source": [
    "## 実行環境\n",
    "- Google ColaboratoryのGPUを使用\n",
    "- Google Driveに使用データを格納"
   ]
  },
  {
   "cell_type": "markdown",
   "metadata": {
    "colab_type": "text",
    "id": "dzhJ85mlWjSL"
   },
   "source": [
    "## ①[Kaggle](https://www.kaggle.com/c/tgs-salt-identification-challenge)のページから使用するデータをGoogle Driveへ格納する"
   ]
  },
  {
   "cell_type": "markdown",
   "metadata": {
    "colab_type": "text",
    "id": "b5KMKXoNVlvX"
   },
   "source": [
    "### Google DriveをGoogle Colabにマウント"
   ]
  },
  {
   "cell_type": "code",
   "execution_count": 1,
   "metadata": {
    "colab": {
     "base_uri": "https://localhost:8080/",
     "height": 122
    },
    "colab_type": "code",
    "id": "r-bbAk8XVDmj",
    "outputId": "57ec6bd4-ace5-4d87-d91e-31679d6de118"
   },
   "outputs": [
    {
     "name": "stdout",
     "output_type": "stream",
     "text": [
      "Go to this URL in a browser: https://accounts.google.com/o/oauth2/auth?client_id=947318989803-6bn6qk8qdgf4n4g3pfee6491hc0brc4i.apps.googleusercontent.com&redirect_uri=urn%3Aietf%3Awg%3Aoauth%3A2.0%3Aoob&scope=email%20https%3A%2F%2Fwww.googleapis.com%2Fauth%2Fdocs.test%20https%3A%2F%2Fwww.googleapis.com%2Fauth%2Fdrive%20https%3A%2F%2Fwww.googleapis.com%2Fauth%2Fdrive.photos.readonly%20https%3A%2F%2Fwww.googleapis.com%2Fauth%2Fpeopleapi.readonly&response_type=code\n",
      "\n",
      "Enter your authorization code:\n",
      "··········\n",
      "Mounted at /content/drive\n"
     ]
    }
   ],
   "source": [
    "from google.colab import drive\n",
    "drive.mount('/content/drive')"
   ]
  },
  {
   "cell_type": "markdown",
   "metadata": {
    "colab_type": "text",
    "id": "bRJEkXZz9f-a"
   },
   "source": [
    "### Kaggle.jsonのアップロード"
   ]
  },
  {
   "cell_type": "code",
   "execution_count": 0,
   "metadata": {
    "colab": {},
    "colab_type": "code",
    "id": "vRebvWYR9NG7"
   },
   "outputs": [],
   "source": [
    "# from google.colab import files\n",
    "# files.upload()"
   ]
  },
  {
   "cell_type": "markdown",
   "metadata": {
    "colab_type": "text",
    "id": "QLsBIjbw9lHy"
   },
   "source": [
    "### Kaggle.jsonのパスを指定"
   ]
  },
  {
   "cell_type": "code",
   "execution_count": 0,
   "metadata": {
    "colab": {},
    "colab_type": "code",
    "id": "xQZJZC-a9RYO"
   },
   "outputs": [],
   "source": [
    "# !mkdir -p ~/.kaggle\n",
    "# !cp kaggle.json ~/.kaggle/"
   ]
  },
  {
   "cell_type": "markdown",
   "metadata": {
    "colab_type": "text",
    "id": "gLfnkepk-BnY"
   },
   "source": [
    "###  アクセスパーミッションの設定変更"
   ]
  },
  {
   "cell_type": "code",
   "execution_count": 0,
   "metadata": {
    "colab": {},
    "colab_type": "code",
    "id": "lv9w-Cx79RdJ"
   },
   "outputs": [],
   "source": [
    "# !chmod 600 /root/.kaggle/kaggle.json"
   ]
  },
  {
   "cell_type": "markdown",
   "metadata": {
    "colab_type": "text",
    "id": "rMqpQHIA-RCX"
   },
   "source": [
    "### Kaggleのページからデータを取得する"
   ]
  },
  {
   "cell_type": "code",
   "execution_count": 0,
   "metadata": {
    "colab": {},
    "colab_type": "code",
    "id": "5fqnApku9RkP"
   },
   "outputs": [],
   "source": [
    "# !kaggle competitions download -c tgs-salt-identification-challenge"
   ]
  },
  {
   "cell_type": "markdown",
   "metadata": {
    "colab_type": "text",
    "id": "eF7Nqqm6XkaA"
   },
   "source": [
    "### trainデータを取得"
   ]
  },
  {
   "cell_type": "code",
   "execution_count": 0,
   "metadata": {
    "colab": {},
    "colab_type": "code",
    "id": "WJKABD8995-R"
   },
   "outputs": [],
   "source": [
    "# !unzip train.zip -d '/content/drive/My Drive/Colab Notebooks/sprint20/unet-master/data/salt/train'"
   ]
  },
  {
   "cell_type": "markdown",
   "metadata": {
    "colab_type": "text",
    "id": "XCcdLAi1Xozt"
   },
   "source": [
    "### testデータを取得"
   ]
  },
  {
   "cell_type": "code",
   "execution_count": 0,
   "metadata": {
    "colab": {},
    "colab_type": "code",
    "id": "0d13TbW896Ar"
   },
   "outputs": [],
   "source": [
    "# !unzip test.zip -d '/content/drive/My Drive/Colab Notebooks/sprint20/unet-master/data/salt/test'"
   ]
  },
  {
   "cell_type": "markdown",
   "metadata": {
    "colab_type": "text",
    "id": "j5bv7UTQX0zf"
   },
   "source": [
    "## ②学習"
   ]
  },
  {
   "cell_type": "markdown",
   "metadata": {
    "colab_type": "text",
    "id": "tcTJPVwaX43Q"
   },
   "source": [
    "### U-Netモデルの格納フォルダへカレントフォルダを変更"
   ]
  },
  {
   "cell_type": "code",
   "execution_count": 0,
   "metadata": {
    "colab": {},
    "colab_type": "code",
    "id": "hy6FQHAOvg2P"
   },
   "outputs": [],
   "source": [
    "import os\n",
    "os.chdir('/content/drive/My Drive/Colab Notebooks/sprint20/unet-master')"
   ]
  },
  {
   "cell_type": "markdown",
   "metadata": {
    "colab_type": "text",
    "id": "_wy0LioPYKXC"
   },
   "source": [
    "### 使用するファイルをインポート"
   ]
  },
  {
   "cell_type": "code",
   "execution_count": 0,
   "metadata": {
    "colab": {
     "base_uri": "https://localhost:8080/",
     "height": 34
    },
    "colab_type": "code",
    "id": "m_YwpSr9vZMG",
    "outputId": "105e284c-759d-420e-a81e-a20564f1be6e"
   },
   "outputs": [
    {
     "name": "stderr",
     "output_type": "stream",
     "text": [
      "Using TensorFlow backend.\n"
     ]
    }
   ],
   "source": [
    "from model import *\n",
    "from data import *"
   ]
  },
  {
   "cell_type": "markdown",
   "metadata": {
    "colab_type": "text",
    "id": "K4yMnbFLvSE4"
   },
   "source": [
    "## Train your Unet with membrane data\n",
    "membrane data is in folder membrane/, it is a binary classification task.\n",
    "\n",
    "The input shape of image and mask are the same :(batch_size,rows,cols,channel = 1)"
   ]
  },
  {
   "cell_type": "markdown",
   "metadata": {
    "colab_type": "text",
    "id": "jBXldzpNvSE4"
   },
   "source": [
    "### Train with data generator"
   ]
  },
  {
   "cell_type": "markdown",
   "metadata": {
    "colab_type": "text",
    "id": "JFNEJoTeYTR9"
   },
   "source": [
    "### 学習\n",
    "#### 予測をより高精度に行えるようにする為、以下の箇所をデフォルト値から変更\n",
    "- trainGenerator()のパラメータbatchsizeを2→8"
   ]
  },
  {
   "cell_type": "code",
   "execution_count": 0,
   "metadata": {
    "colab": {},
    "colab_type": "code",
    "id": "0lRu9HY2ktLW"
   },
   "outputs": [],
   "source": [
    "import os\n",
    "os.getcwd()\n",
    "checkpoint_file = 'unet_salt_0615_test.hdf5'"
   ]
  },
  {
   "cell_type": "code",
   "execution_count": 0,
   "metadata": {
    "colab": {
     "base_uri": "https://localhost:8080/",
     "height": 1142
    },
    "colab_type": "code",
    "id": "aWcB_EsCvSE5",
    "outputId": "6e678722-a356-4aa2-b19d-ffb592899be1"
   },
   "outputs": [
    {
     "name": "stderr",
     "output_type": "stream",
     "text": [
      "/content/drive/My Drive/Colab Notebooks/sprint20/unet-master/model.py:55: UserWarning: Update your `Model` call to the Keras 2 API: `Model(inputs=Tensor(\"in..., outputs=Tensor(\"co...)`\n",
      "  model = Model(input = inputs, output = conv10)\n"
     ]
    },
    {
     "name": "stdout",
     "output_type": "stream",
     "text": [
      "Epoch 1/15\n",
      "Found 4000 images belonging to 1 classes.\n",
      "Found 4000 images belonging to 1 classes.\n",
      "2000/2000 [==============================] - 2165s 1s/step - loss: 0.5529 - acc: 0.7523\n",
      "\n",
      "Epoch 00001: loss improved from inf to 0.55290, saving model to unet_salt_0615_test.hdf5\n",
      "Epoch 2/15\n",
      "2000/2000 [==============================] - 367s 183ms/step - loss: 0.4325 - acc: 0.8140\n",
      "\n",
      "Epoch 00002: loss improved from 0.55290 to 0.43247, saving model to unet_salt_0615_test.hdf5\n",
      "Epoch 3/15\n",
      "2000/2000 [==============================] - 365s 182ms/step - loss: 0.3382 - acc: 0.8746\n",
      "\n",
      "Epoch 00003: loss improved from 0.43247 to 0.33820, saving model to unet_salt_0615_test.hdf5\n",
      "Epoch 4/15\n",
      "2000/2000 [==============================] - 362s 181ms/step - loss: 0.3001 - acc: 0.8915\n",
      "\n",
      "Epoch 00004: loss improved from 0.33820 to 0.30006, saving model to unet_salt_0615_test.hdf5\n",
      "Epoch 5/15\n",
      "2000/2000 [==============================] - 360s 180ms/step - loss: 0.2837 - acc: 0.8957\n",
      "\n",
      "Epoch 00005: loss improved from 0.30006 to 0.28374, saving model to unet_salt_0615_test.hdf5\n",
      "Epoch 6/15\n",
      "2000/2000 [==============================] - 360s 180ms/step - loss: 0.2605 - acc: 0.9035\n",
      "\n",
      "Epoch 00006: loss improved from 0.28374 to 0.26051, saving model to unet_salt_0615_test.hdf5\n",
      "Epoch 7/15\n",
      "2000/2000 [==============================] - 360s 180ms/step - loss: 0.2440 - acc: 0.9096\n",
      "\n",
      "Epoch 00007: loss improved from 0.26051 to 0.24400, saving model to unet_salt_0615_test.hdf5\n",
      "Epoch 8/15\n",
      "2000/2000 [==============================] - 361s 180ms/step - loss: 0.2373 - acc: 0.9112\n",
      "\n",
      "Epoch 00008: loss improved from 0.24400 to 0.23726, saving model to unet_salt_0615_test.hdf5\n",
      "Epoch 9/15\n",
      "2000/2000 [==============================] - 362s 181ms/step - loss: 0.2218 - acc: 0.9180\n",
      "\n",
      "Epoch 00009: loss improved from 0.23726 to 0.22177, saving model to unet_salt_0615_test.hdf5\n",
      "Epoch 10/15\n",
      "2000/2000 [==============================] - 362s 181ms/step - loss: 0.2081 - acc: 0.9211\n",
      "\n",
      "Epoch 00010: loss improved from 0.22177 to 0.20810, saving model to unet_salt_0615_test.hdf5\n",
      "Epoch 11/15\n",
      "2000/2000 [==============================] - 362s 181ms/step - loss: 0.2042 - acc: 0.9240\n",
      "\n",
      "Epoch 00011: loss improved from 0.20810 to 0.20417, saving model to unet_salt_0615_test.hdf5\n",
      "Epoch 12/15\n",
      "2000/2000 [==============================] - 361s 181ms/step - loss: 0.2052 - acc: 0.9230\n",
      "\n",
      "Epoch 00012: loss did not improve from 0.20417\n",
      "Epoch 13/15\n",
      "2000/2000 [==============================] - 360s 180ms/step - loss: 0.1912 - acc: 0.9269\n",
      "\n",
      "Epoch 00013: loss improved from 0.20417 to 0.19123, saving model to unet_salt_0615_test.hdf5\n",
      "Epoch 14/15\n",
      "2000/2000 [==============================] - 360s 180ms/step - loss: 0.1817 - acc: 0.9312\n",
      "\n",
      "Epoch 00014: loss improved from 0.19123 to 0.18166, saving model to unet_salt_0615_test.hdf5\n",
      "Epoch 15/15\n",
      "2000/2000 [==============================] - 360s 180ms/step - loss: 0.1746 - acc: 0.9333\n",
      "\n",
      "Epoch 00015: loss improved from 0.18166 to 0.17459, saving model to unet_salt_0615_test.hdf5\n",
      "time : 7311.838354349136s\n"
     ]
    }
   ],
   "source": [
    "import time\n",
    "\n",
    "checkpoint_file = 'unet_salt_0615_test.hdf5'\n",
    "\n",
    "t0 = time.time()\n",
    "data_gen_args = dict(rotation_range=0.2,\n",
    "                    width_shift_range=0.05,\n",
    "                    height_shift_range=0.05,\n",
    "                    shear_range=0.05,\n",
    "                    zoom_range=0.05,\n",
    "                    horizontal_flip=True,\n",
    "                    fill_mode='nearest')\n",
    "\n",
    "myGene = trainGenerator(batch_size=2, train_path='./data/salt/train',image_folder='images',mask_folder='masks',\\\n",
    "                        aug_dict=data_gen_args,save_to_dir = None)\n",
    "\n",
    "model = unet()\n",
    "\n",
    "model_checkpoint = ModelCheckpoint(checkpoint_file , monitor='loss',verbose=1, save_best_only=True)\n",
    "\n",
    "model.fit_generator(myGene,steps_per_epoch=2000,epochs=15,callbacks=[model_checkpoint])\n",
    "\n",
    "t1 = time.time()\n",
    "print('time : {}s'.format(t1-t0))"
   ]
  },
  {
   "cell_type": "markdown",
   "metadata": {
    "colab_type": "text",
    "id": "bl3_VxgVd2cL"
   },
   "source": []
  },
  {
   "cell_type": "markdown",
   "metadata": {
    "colab_type": "text",
    "id": "0J_F_mHA2pm-"
   },
   "source": [
    "### testデータのファイル名の修正\n",
    "- 今回使用した予測モデルはtsetデータのファイル名が0.png、1.png~となっていなければ動作しないプログラムとなっているが、使用するtestデータのファイル名はそのようなファイル名となっていない為、以下のプログラムでファイル名を修正する"
   ]
  },
  {
   "cell_type": "code",
   "execution_count": 0,
   "metadata": {
    "colab": {},
    "colab_type": "code",
    "id": "Kf6UtKvi_Iza"
   },
   "outputs": [],
   "source": [
    "# import os\n",
    "# os.chdir('/content/drive/My Drive/Colab Notebooks/sprint20/unet-master/data/salt/test/images')\n",
    "\n",
    "# # 連番リネーム\n",
    "# import glob, os # --- (*1)\n",
    "# # ファイル列挙 --- (*2)\n",
    "# files = glob.glob(\"*.png\")\n",
    "# # 繰り返しリネーム --- (*3)\n",
    "# i = 0\n",
    "# for old_name in files:\n",
    "#     # 数値を三桁(001)形式にそろえる --- (*4)\n",
    "#     zero_i = \"{}\".format(i)\n",
    "#     # ファイル名を作る\n",
    "#     new_name = zero_i + \".png\"\n",
    "#     # 改名する --- (*5)\n",
    "#     os.rename(old_name, new_name)\n",
    "#     # 状況を報告\n",
    "#     print(old_name + \"→\" + new_name)\n",
    "#     # 連番のため数値を加算 --- (*6)\n",
    "#     i += 1"
   ]
  },
  {
   "cell_type": "markdown",
   "metadata": {
    "colab_type": "text",
    "id": "YvtG8yyt_eHt"
   },
   "source": [
    "## ③予測"
   ]
  },
  {
   "cell_type": "code",
   "execution_count": 0,
   "metadata": {
    "colab": {
     "base_uri": "https://localhost:8080/",
     "height": 34
    },
    "colab_type": "code",
    "id": "Oq0KXAFSjSqA",
    "outputId": "f564c63b-2f39-4fc1-a3f2-4001e37b7c70"
   },
   "outputs": [
    {
     "data": {
      "text/plain": [
       "'/content/drive/My Drive/Colab Notebooks/sprint20/unet-master'"
      ]
     },
     "execution_count": 8,
     "metadata": {
      "tags": []
     },
     "output_type": "execute_result"
    }
   ],
   "source": [
    "os.getcwd()"
   ]
  },
  {
   "cell_type": "code",
   "execution_count": 0,
   "metadata": {
    "colab": {
     "base_uri": "https://localhost:8080/",
     "height": 1618
    },
    "colab_type": "code",
    "id": "-kxdUpgNvSFA",
    "outputId": "1b0a6a0a-f217-426b-e7c3-3ab394367048"
   },
   "outputs": [
    {
     "name": "stderr",
     "output_type": "stream",
     "text": [
      "/content/drive/My Drive/Colab Notebooks/sprint20/unet-master/model.py:55: UserWarning: Update your `Model` call to the Keras 2 API: `Model(inputs=Tensor(\"in..., outputs=Tensor(\"co...)`\n",
      "  model = Model(input = inputs, output = conv10)\n"
     ]
    },
    {
     "name": "stdout",
     "output_type": "stream",
     "text": [
      "30/30 [==============================] - 11s 361ms/step\n"
     ]
    },
    {
     "name": "stderr",
     "output_type": "stream",
     "text": [
      "/usr/local/lib/python3.6/dist-packages/skimage/io/_io.py:141: UserWarning: data/salt/predict/0_predict.png is a low contrast image\n",
      "  warn('%s is a low contrast image' % fname)\n",
      "W0619 02:25:34.579811 140357405988736 util.py:61] Lossy conversion from float32 to uint8. Range [0, 1]. Convert image to uint8 prior to saving to suppress this warning.\n",
      "/usr/local/lib/python3.6/dist-packages/skimage/io/_io.py:141: UserWarning: data/salt/predict/1_predict.png is a low contrast image\n",
      "  warn('%s is a low contrast image' % fname)\n",
      "W0619 02:25:34.827104 140357405988736 util.py:61] Lossy conversion from float32 to uint8. Range [0, 1]. Convert image to uint8 prior to saving to suppress this warning.\n",
      "/usr/local/lib/python3.6/dist-packages/skimage/io/_io.py:141: UserWarning: data/salt/predict/2_predict.png is a low contrast image\n",
      "  warn('%s is a low contrast image' % fname)\n",
      "W0619 02:25:35.074433 140357405988736 util.py:61] Lossy conversion from float32 to uint8. Range [0, 1]. Convert image to uint8 prior to saving to suppress this warning.\n",
      "/usr/local/lib/python3.6/dist-packages/skimage/io/_io.py:141: UserWarning: data/salt/predict/3_predict.png is a low contrast image\n",
      "  warn('%s is a low contrast image' % fname)\n",
      "W0619 02:25:35.283101 140357405988736 util.py:61] Lossy conversion from float32 to uint8. Range [0, 1]. Convert image to uint8 prior to saving to suppress this warning.\n",
      "/usr/local/lib/python3.6/dist-packages/skimage/io/_io.py:141: UserWarning: data/salt/predict/4_predict.png is a low contrast image\n",
      "  warn('%s is a low contrast image' % fname)\n",
      "W0619 02:25:35.516850 140357405988736 util.py:61] Lossy conversion from float32 to uint8. Range [0, 1]. Convert image to uint8 prior to saving to suppress this warning.\n",
      "/usr/local/lib/python3.6/dist-packages/skimage/io/_io.py:141: UserWarning: data/salt/predict/5_predict.png is a low contrast image\n",
      "  warn('%s is a low contrast image' % fname)\n",
      "W0619 02:25:35.717560 140357405988736 util.py:61] Lossy conversion from float32 to uint8. Range [0, 1]. Convert image to uint8 prior to saving to suppress this warning.\n",
      "/usr/local/lib/python3.6/dist-packages/skimage/io/_io.py:141: UserWarning: data/salt/predict/6_predict.png is a low contrast image\n",
      "  warn('%s is a low contrast image' % fname)\n",
      "W0619 02:25:35.911058 140357405988736 util.py:61] Lossy conversion from float32 to uint8. Range [0, 1]. Convert image to uint8 prior to saving to suppress this warning.\n",
      "/usr/local/lib/python3.6/dist-packages/skimage/io/_io.py:141: UserWarning: data/salt/predict/7_predict.png is a low contrast image\n",
      "  warn('%s is a low contrast image' % fname)\n",
      "W0619 02:25:36.164162 140357405988736 util.py:61] Lossy conversion from float32 to uint8. Range [0, 1]. Convert image to uint8 prior to saving to suppress this warning.\n",
      "/usr/local/lib/python3.6/dist-packages/skimage/io/_io.py:141: UserWarning: data/salt/predict/8_predict.png is a low contrast image\n",
      "  warn('%s is a low contrast image' % fname)\n",
      "W0619 02:25:36.421030 140357405988736 util.py:61] Lossy conversion from float32 to uint8. Range [0, 1]. Convert image to uint8 prior to saving to suppress this warning.\n",
      "/usr/local/lib/python3.6/dist-packages/skimage/io/_io.py:141: UserWarning: data/salt/predict/9_predict.png is a low contrast image\n",
      "  warn('%s is a low contrast image' % fname)\n",
      "W0619 02:25:36.639522 140357405988736 util.py:61] Lossy conversion from float32 to uint8. Range [0, 1]. Convert image to uint8 prior to saving to suppress this warning.\n",
      "/usr/local/lib/python3.6/dist-packages/skimage/io/_io.py:141: UserWarning: data/salt/predict/10_predict.png is a low contrast image\n",
      "  warn('%s is a low contrast image' % fname)\n",
      "W0619 02:25:36.824076 140357405988736 util.py:61] Lossy conversion from float32 to uint8. Range [0, 1]. Convert image to uint8 prior to saving to suppress this warning.\n",
      "/usr/local/lib/python3.6/dist-packages/skimage/io/_io.py:141: UserWarning: data/salt/predict/11_predict.png is a low contrast image\n",
      "  warn('%s is a low contrast image' % fname)\n",
      "W0619 02:25:37.076310 140357405988736 util.py:61] Lossy conversion from float32 to uint8. Range [0, 1]. Convert image to uint8 prior to saving to suppress this warning.\n",
      "/usr/local/lib/python3.6/dist-packages/skimage/io/_io.py:141: UserWarning: data/salt/predict/12_predict.png is a low contrast image\n",
      "  warn('%s is a low contrast image' % fname)\n",
      "W0619 02:25:37.291985 140357405988736 util.py:61] Lossy conversion from float32 to uint8. Range [0, 1]. Convert image to uint8 prior to saving to suppress this warning.\n",
      "/usr/local/lib/python3.6/dist-packages/skimage/io/_io.py:141: UserWarning: data/salt/predict/13_predict.png is a low contrast image\n",
      "  warn('%s is a low contrast image' % fname)\n",
      "W0619 02:25:37.521479 140357405988736 util.py:61] Lossy conversion from float32 to uint8. Range [0, 1]. Convert image to uint8 prior to saving to suppress this warning.\n",
      "/usr/local/lib/python3.6/dist-packages/skimage/io/_io.py:141: UserWarning: data/salt/predict/14_predict.png is a low contrast image\n",
      "  warn('%s is a low contrast image' % fname)\n",
      "W0619 02:25:37.681138 140357405988736 util.py:61] Lossy conversion from float32 to uint8. Range [0, 1]. Convert image to uint8 prior to saving to suppress this warning.\n",
      "/usr/local/lib/python3.6/dist-packages/skimage/io/_io.py:141: UserWarning: data/salt/predict/15_predict.png is a low contrast image\n",
      "  warn('%s is a low contrast image' % fname)\n",
      "W0619 02:25:37.865697 140357405988736 util.py:61] Lossy conversion from float32 to uint8. Range [0, 1]. Convert image to uint8 prior to saving to suppress this warning.\n",
      "/usr/local/lib/python3.6/dist-packages/skimage/io/_io.py:141: UserWarning: data/salt/predict/16_predict.png is a low contrast image\n",
      "  warn('%s is a low contrast image' % fname)\n",
      "W0619 02:25:38.071409 140357405988736 util.py:61] Lossy conversion from float32 to uint8. Range [0, 1]. Convert image to uint8 prior to saving to suppress this warning.\n",
      "/usr/local/lib/python3.6/dist-packages/skimage/io/_io.py:141: UserWarning: data/salt/predict/17_predict.png is a low contrast image\n",
      "  warn('%s is a low contrast image' % fname)\n",
      "W0619 02:25:38.345037 140357405988736 util.py:61] Lossy conversion from float32 to uint8. Range [0, 1]. Convert image to uint8 prior to saving to suppress this warning.\n",
      "/usr/local/lib/python3.6/dist-packages/skimage/io/_io.py:141: UserWarning: data/salt/predict/18_predict.png is a low contrast image\n",
      "  warn('%s is a low contrast image' % fname)\n",
      "W0619 02:25:38.545803 140357405988736 util.py:61] Lossy conversion from float32 to uint8. Range [0, 1]. Convert image to uint8 prior to saving to suppress this warning.\n",
      "/usr/local/lib/python3.6/dist-packages/skimage/io/_io.py:141: UserWarning: data/salt/predict/19_predict.png is a low contrast image\n",
      "  warn('%s is a low contrast image' % fname)\n",
      "W0619 02:25:38.727190 140357405988736 util.py:61] Lossy conversion from float32 to uint8. Range [0, 1]. Convert image to uint8 prior to saving to suppress this warning.\n",
      "/usr/local/lib/python3.6/dist-packages/skimage/io/_io.py:141: UserWarning: data/salt/predict/20_predict.png is a low contrast image\n",
      "  warn('%s is a low contrast image' % fname)\n",
      "W0619 02:25:38.957293 140357405988736 util.py:61] Lossy conversion from float32 to uint8. Range [0, 1]. Convert image to uint8 prior to saving to suppress this warning.\n",
      "/usr/local/lib/python3.6/dist-packages/skimage/io/_io.py:141: UserWarning: data/salt/predict/21_predict.png is a low contrast image\n",
      "  warn('%s is a low contrast image' % fname)\n",
      "W0619 02:25:39.265050 140357405988736 util.py:61] Lossy conversion from float32 to uint8. Range [0, 1]. Convert image to uint8 prior to saving to suppress this warning.\n",
      "/usr/local/lib/python3.6/dist-packages/skimage/io/_io.py:141: UserWarning: data/salt/predict/22_predict.png is a low contrast image\n",
      "  warn('%s is a low contrast image' % fname)\n",
      "W0619 02:25:39.453908 140357405988736 util.py:61] Lossy conversion from float32 to uint8. Range [0, 1]. Convert image to uint8 prior to saving to suppress this warning.\n",
      "/usr/local/lib/python3.6/dist-packages/skimage/io/_io.py:141: UserWarning: data/salt/predict/23_predict.png is a low contrast image\n",
      "  warn('%s is a low contrast image' % fname)\n",
      "W0619 02:25:39.629273 140357405988736 util.py:61] Lossy conversion from float32 to uint8. Range [0, 1]. Convert image to uint8 prior to saving to suppress this warning.\n",
      "/usr/local/lib/python3.6/dist-packages/skimage/io/_io.py:141: UserWarning: data/salt/predict/24_predict.png is a low contrast image\n",
      "  warn('%s is a low contrast image' % fname)\n",
      "W0619 02:25:39.820471 140357405988736 util.py:61] Lossy conversion from float32 to uint8. Range [0, 1]. Convert image to uint8 prior to saving to suppress this warning.\n",
      "/usr/local/lib/python3.6/dist-packages/skimage/io/_io.py:141: UserWarning: data/salt/predict/25_predict.png is a low contrast image\n",
      "  warn('%s is a low contrast image' % fname)\n",
      "W0619 02:25:40.035246 140357405988736 util.py:61] Lossy conversion from float32 to uint8. Range [0, 1]. Convert image to uint8 prior to saving to suppress this warning.\n",
      "/usr/local/lib/python3.6/dist-packages/skimage/io/_io.py:141: UserWarning: data/salt/predict/26_predict.png is a low contrast image\n",
      "  warn('%s is a low contrast image' % fname)\n",
      "W0619 02:25:40.218271 140357405988736 util.py:61] Lossy conversion from float32 to uint8. Range [0, 1]. Convert image to uint8 prior to saving to suppress this warning.\n",
      "/usr/local/lib/python3.6/dist-packages/skimage/io/_io.py:141: UserWarning: data/salt/predict/27_predict.png is a low contrast image\n",
      "  warn('%s is a low contrast image' % fname)\n",
      "W0619 02:25:40.384928 140357405988736 util.py:61] Lossy conversion from float32 to uint8. Range [0, 1]. Convert image to uint8 prior to saving to suppress this warning.\n",
      "/usr/local/lib/python3.6/dist-packages/skimage/io/_io.py:141: UserWarning: data/salt/predict/28_predict.png is a low contrast image\n",
      "  warn('%s is a low contrast image' % fname)\n",
      "W0619 02:25:40.565311 140357405988736 util.py:61] Lossy conversion from float32 to uint8. Range [0, 1]. Convert image to uint8 prior to saving to suppress this warning.\n",
      "/usr/local/lib/python3.6/dist-packages/skimage/io/_io.py:141: UserWarning: data/salt/predict/29_predict.png is a low contrast image\n",
      "  warn('%s is a low contrast image' % fname)\n",
      "W0619 02:25:40.806986 140357405988736 util.py:61] Lossy conversion from float32 to uint8. Range [0, 1]. Convert image to uint8 prior to saving to suppress this warning.\n"
     ]
    }
   ],
   "source": [
    "testGene = testGenerator(\"./data/salt/test/images\")\n",
    "model = unet()\n",
    "model.load_weights(checkpoint_file)\n",
    "results = model.predict_generator(testGene,30,verbose=1)\n",
    "saveResult(\"data/salt/predict\",results)"
   ]
  },
  {
   "cell_type": "code",
   "execution_count": 4,
   "metadata": {
    "colab": {
     "base_uri": "https://localhost:8080/",
     "height": 34
    },
    "colab_type": "code",
    "id": "NtczYpe-mNRi",
    "outputId": "de60c862-0280-42c4-d8f0-fddb10f95868"
   },
   "outputs": [
    {
     "data": {
      "text/plain": [
       "'/content/drive/My Drive/Colab Notebooks/sprint20/unet-master'"
      ]
     },
     "execution_count": 4,
     "metadata": {
      "tags": []
     },
     "output_type": "execute_result"
    }
   ],
   "source": [
    "os.getcwd()"
   ]
  },
  {
   "cell_type": "code",
   "execution_count": 0,
   "metadata": {
    "colab": {},
    "colab_type": "code",
    "id": "h6U-RWGRnJ6J"
   },
   "outputs": [],
   "source": [
    "os.chdir('./data/salt/predict')"
   ]
  },
  {
   "cell_type": "markdown",
   "metadata": {
    "colab_type": "text",
    "id": "ZUExFRuX33R-"
   },
   "source": [
    "## 予測結果が指定フォルダに格納されているか確認"
   ]
  },
  {
   "cell_type": "code",
   "execution_count": 11,
   "metadata": {
    "colab": {
     "base_uri": "https://localhost:8080/",
     "height": 153
    },
    "colab_type": "code",
    "id": "vjmsMpW53QuI",
    "outputId": "563b8f70-c34e-460e-8995-e86632efb065"
   },
   "outputs": [
    {
     "name": "stdout",
     "output_type": "stream",
     "text": [
      "0_predict.png\t17_predict.png\t24_predict.png\t4_predict.png\n",
      "10_predict.png\t18_predict.png\t25_predict.png\t5_predict.png\n",
      "11_predict.png\t19_predict.png\t26_predict.png\t6_predict.png\n",
      "12_predict.png\t1_predict.png\t27_predict.png\t7_predict.png\n",
      "13_predict.png\t20_predict.png\t28_predict.png\t8_predict.png\n",
      "14_predict.png\t21_predict.png\t29_predict.png\t9_predict.png\n",
      "15_predict.png\t22_predict.png\t2_predict.png\timage_gallery.py\n",
      "16_predict.png\t23_predict.png\t3_predict.png\n"
     ]
    }
   ],
   "source": [
    "!ls"
   ]
  },
  {
   "cell_type": "markdown",
   "metadata": {
    "colab_type": "text",
    "id": "wdzUHHAK3BnU"
   },
   "source": [
    "## 予測結果の表示(3枚のみ)"
   ]
  },
  {
   "cell_type": "code",
   "execution_count": 7,
   "metadata": {
    "colab": {
     "base_uri": "https://localhost:8080/",
     "height": 273
    },
    "colab_type": "code",
    "id": "35kLKCMunlM9",
    "outputId": "40946655-5684-4f43-cb85-6bd9f8d78adf"
   },
   "outputs": [
    {
     "data": {
      "image/png": "[encoded data removed]",
      "text/plain": [
       "<PIL.PngImagePlugin.PngImageFile image mode=L size=256x256 at 0x7F2407A47F28>"
      ]
     },
     "execution_count": 7,
     "metadata": {
      "tags": []
     },
     "output_type": "execute_result"
    }
   ],
   "source": [
    "from PIL import Image\n",
    "%matplotlib inline\n",
    "\n",
    "    \n",
    "Image.open('0_predict.png')"
   ]
  },
  {
   "cell_type": "code",
   "execution_count": 8,
   "metadata": {
    "colab": {
     "base_uri": "https://localhost:8080/",
     "height": 273
    },
    "colab_type": "code",
    "id": "1FmmWbgZ23pO",
    "outputId": "c0caa118-2563-44c8-f72c-b3007ba2c1ba"
   },
   "outputs": [
    {
     "data": {
      "image/png": "[encoded data removed]",
      "text/plain": [
       "<PIL.PngImagePlugin.PngImageFile image mode=L size=256x256 at 0x7F24073B0588>"
      ]
     },
     "execution_count": 8,
     "metadata": {
      "tags": []
     },
     "output_type": "execute_result"
    }
   ],
   "source": [
    "Image.open('1_predict.png')"
   ]
  },
  {
   "cell_type": "code",
   "execution_count": 10,
   "metadata": {
    "colab": {
     "base_uri": "https://localhost:8080/",
     "height": 273
    },
    "colab_type": "code",
    "id": "7mLBPy6A271-",
    "outputId": "0fc158fa-710b-452c-fd1e-fd698cf2214f"
   },
   "outputs": [
    {
     "data": {
      "image/png": "[encoded data removed]",
      "text/plain": [
       "<PIL.PngImagePlugin.PngImageFile image mode=L size=256x256 at 0x7F240732BCF8>"
      ]
     },
     "execution_count": 10,
     "metadata": {
      "tags": []
     },
     "output_type": "execute_result"
    }
   ],
   "source": [
    "Image.open('2_predict.png')"
   ]
  },
  {
   "cell_type": "markdown",
   "metadata": {
    "colab_type": "text",
    "id": "11FxlIL64A4l"
   },
   "source": [
    "## 予測結果の考察\n",
    "### 予測結果の画像がどれも黒一色である考えられる理由は？\n",
    "- 学習量が少ない為、性格な特徴量を抽出できていない\n",
    "\n",
    "### 学習量を増やす為にはどうすれば良い？\n",
    "- epoch数とiteration回数を増加して学習する事、が考えられるが、今回の学習時の処理より、大きな処理を必要とする為、現状の環境(Google CoabortoryのGPU)より高い処理能力のGPUを使用し、より時間をかけて学習させる必要がある。\n",
    "- 畳み込み層をより深くする方法も考えられるが、この場合も上記と同様により多くの処理能力と時間が必要となる。"
   ]
  },
  {
   "cell_type": "code",
   "execution_count": 0,
   "metadata": {
    "colab": {
     "base_uri": "https://localhost:8080/",
     "height": 34
    },
    "colab_type": "code",
    "id": "V7__NlAXpV2B",
    "outputId": "b65d0643-071a-4f24-adc8-7234bdecb919"
   },
   "outputs": [
    {
     "data": {
      "text/plain": [
       "'/content/drive/My Drive/Colab Notebooks/sprint20/unet-master'"
      ]
     },
     "execution_count": 13,
     "metadata": {
      "tags": []
     },
     "output_type": "execute_result"
    }
   ],
   "source": [
    "os.getcwd()"
   ]
  },
  {
   "cell_type": "code",
   "execution_count": 0,
   "metadata": {
    "colab": {},
    "colab_type": "code",
    "id": "YqCfmr36pVzg"
   },
   "outputs": [],
   "source": [
    "os.chdir('./data/salt/predict')"
   ]
  },
  {
   "cell_type": "code",
   "execution_count": 0,
   "metadata": {
    "colab": {
     "base_uri": "https://localhost:8080/",
     "height": 153
    },
    "colab_type": "code",
    "id": "5zCanpwipVwZ",
    "outputId": "c4be5bde-6048-4910-fde1-2aaebeb4b24e"
   },
   "outputs": [
    {
     "name": "stdout",
     "output_type": "stream",
     "text": [
      "0_predict.png\t17_predict.png\t24_predict.png\t4_predict.png\n",
      "10_predict.png\t18_predict.png\t25_predict.png\t5_predict.png\n",
      "11_predict.png\t19_predict.png\t26_predict.png\t6_predict.png\n",
      "12_predict.png\t1_predict.png\t27_predict.png\t7_predict.png\n",
      "13_predict.png\t20_predict.png\t28_predict.png\t8_predict.png\n",
      "14_predict.png\t21_predict.png\t29_predict.png\t9_predict.png\n",
      "15_predict.png\t22_predict.png\t2_predict.png\timage_gallery.py\n",
      "16_predict.png\t23_predict.png\t3_predict.png\n"
     ]
    }
   ],
   "source": [
    "!ls"
   ]
  },
  {
   "cell_type": "markdown",
   "metadata": {
    "colab_type": "text",
    "id": "AfoL2x9gkccE"
   },
   "source": [
    "# 【問題2】コードリーディング\n",
    "論文[1]に目を通した上で、上記実装のコードリーディングを行ってください。"
   ]
  },
  {
   "cell_type": "markdown",
   "metadata": {
    "colab": {},
    "colab_type": "code",
    "id": "ltCraVVAkbVF"
   },
   "source": [
    "## main.py\n",
    "### 概要\n",
    "- 学習モデル(U-Net)の定義、学習(DataAugumentationを実施)、予測を行うコードを記載\n",
    "\n",
    "### 詳細\n",
    "#### data_gen_args : 辞書\n",
    "- 学習時にdata_augumentainを行う際の、画像の処理方法を記載\n",
    "\n",
    "#### myGene : メソッド\n",
    "- 学習時に使用するtrainGeneratorメソッドを格納した変数\n",
    "\n",
    "#### model : インスタンス\n",
    "- 学習モデルであるunetクラスのインスタンス\n",
    "\n",
    "#### model_checkpoint : インスタンス\n",
    "- 学習後の重みとバイアスを保存する為のModelCheckpointクラスのインスタンス\n",
    "\n",
    "#### fit_generator\n",
    "- 学習を実行するメソッド\n",
    "\n",
    "#### testGene : メソッド\n",
    "- 予測時に使用するtestGeneratorメソッドを格納した変数\n",
    "\n",
    "#### results : インスタンス\n",
    "- 予測結果を格納した変数\n",
    "\n",
    "#### sabeResult : メソッド\n",
    "- 予測結果を保存する"
   ]
  },
  {
   "cell_type": "code",
   "execution_count": null,
   "metadata": {},
   "outputs": [],
   "source": [
    "# from model import *\n",
    "# from data import *\n",
    "\n",
    "# #os.environ[\"CUDA_VISIBLE_DEVICES\"] = \"0\"\n",
    "\n",
    "\n",
    "# data_gen_args = dict(rotation_range=0.2,\n",
    "#                     width_shift_range=0.05,\n",
    "#                     height_shift_range=0.05,\n",
    "#                     shear_range=0.05,\n",
    "#                     zoom_range=0.05,\n",
    "#                     horizontal_flip=True,\n",
    "#                     fill_mode='nearest')\n",
    "# myGene = trainGenerator(2,'data/membrane/train','image','label',data_gen_args,save_to_dir = None)\n",
    "\n",
    "# model = unet()\n",
    "# model_checkpoint = ModelCheckpoint('unet_membrane.hdf5', monitor='loss',verbose=1, save_best_only=True)\n",
    "# model.fit_generator(myGene,steps_per_epoch=300,epochs=1,callbacks=[model_checkpoint])\n",
    "\n",
    "# testGene = testGenerator(\"data/membrane/test\")\n",
    "# results = model.predict_generator(testGene,30,verbose=1)\n",
    "# saveResult(\"data/membrane/test\",results)"
   ]
  },
  {
   "cell_type": "markdown",
   "metadata": {},
   "source": [
    "## model.py\n",
    "### 概要\n",
    "- U-Net型の学習モデルを定義"
   ]
  },
  {
   "cell_type": "code",
   "execution_count": null,
   "metadata": {},
   "outputs": [],
   "source": [
    "# Skip to content\n",
    " \n",
    "# Search or jump to…\n",
    "\n",
    "# Pull requests\n",
    "# Issues\n",
    "# Marketplace\n",
    "# Explore\n",
    " \n",
    "# @Takahiro-Nittamachi \n",
    "# Code  Issues 101  Pull requests 6  Projects 0  Wiki  Security  Pulse  Community\n",
    "# unet/model.py\n",
    "# @zhixuhao zhixuhao Update model.py\n",
    "# d171fd0 on 27 Nov 2018\n",
    "# 67 lines (52 sloc)  3.66 KB\n",
    "    \n",
    "# import numpy as np \n",
    "# import os\n",
    "# import skimage.io as io\n",
    "# import skimage.transform as trans\n",
    "# import numpy as np\n",
    "# from keras.models import *\n",
    "# from keras.layers import *\n",
    "# from keras.optimizers import *\n",
    "# from keras.callbacks import ModelCheckpoint, LearningRateScheduler\n",
    "# from keras import backend as keras\n",
    "\n",
    "\n",
    "# def unet(pretrained_weights = None,input_size = (256,256,1)):\n",
    "#     inputs = Input(input_size)\n",
    "#     conv1 = Conv2D(64, 3, activation = 'relu', padding = 'same', kernel_initializer = 'he_normal')(inputs)\n",
    "#     conv1 = Conv2D(64, 3, activation = 'relu', padding = 'same', kernel_initializer = 'he_normal')(conv1)\n",
    "#     pool1 = MaxPooling2D(pool_size=(2, 2))(conv1)\n",
    "#     conv2 = Conv2D(128, 3, activation = 'relu', padding = 'same', kernel_initializer = 'he_normal')(pool1)\n",
    "#     conv2 = Conv2D(128, 3, activation = 'relu', padding = 'same', kernel_initializer = 'he_normal')(conv2)\n",
    "#     pool2 = MaxPooling2D(pool_size=(2, 2))(conv2)\n",
    "#     conv3 = Conv2D(256, 3, activation = 'relu', padding = 'same', kernel_initializer = 'he_normal')(pool2)\n",
    "#     conv3 = Conv2D(256, 3, activation = 'relu', padding = 'same', kernel_initializer = 'he_normal')(conv3)\n",
    "#     pool3 = MaxPooling2D(pool_size=(2, 2))(conv3)\n",
    "#     conv4 = Conv2D(512, 3, activation = 'relu', padding = 'same', kernel_initializer = 'he_normal')(pool3)\n",
    "#     conv4 = Conv2D(512, 3, activation = 'relu', padding = 'same', kernel_initializer = 'he_normal')(conv4)\n",
    "#     drop4 = Dropout(0.5)(conv4)\n",
    "#     pool4 = MaxPooling2D(pool_size=(2, 2))(drop4)\n",
    "\n",
    "#     conv5 = Conv2D(1024, 3, activation = 'relu', padding = 'same', kernel_initializer = 'he_normal')(pool4)\n",
    "#     conv5 = Conv2D(1024, 3, activation = 'relu', padding = 'same', kernel_initializer = 'he_normal')(conv5)\n",
    "#     drop5 = Dropout(0.5)(conv5)\n",
    "\n",
    "#     up6 = Conv2D(512, 2, activation = 'relu', padding = 'same', kernel_initializer = 'he_normal')(UpSampling2D(size = (2,2))(drop5))\n",
    "#     merge6 = concatenate([drop4,up6], axis = 3)\n",
    "#     conv6 = Conv2D(512, 3, activation = 'relu', padding = 'same', kernel_initializer = 'he_normal')(merge6)\n",
    "#     conv6 = Conv2D(512, 3, activation = 'relu', padding = 'same', kernel_initializer = 'he_normal')(conv6)\n",
    "\n",
    "#     up7 = Conv2D(256, 2, activation = 'relu', padding = 'same', kernel_initializer = 'he_normal')(UpSampling2D(size = (2,2))(conv6))\n",
    "#     merge7 = concatenate([conv3,up7], axis = 3)\n",
    "#     conv7 = Conv2D(256, 3, activation = 'relu', padding = 'same', kernel_initializer = 'he_normal')(merge7)\n",
    "#     conv7 = Conv2D(256, 3, activation = 'relu', padding = 'same', kernel_initializer = 'he_normal')(conv7)\n",
    "\n",
    "#     up8 = Conv2D(128, 2, activation = 'relu', padding = 'same', kernel_initializer = 'he_normal')(UpSampling2D(size = (2,2))(conv7))\n",
    "#     merge8 = concatenate([conv2,up8], axis = 3)\n",
    "#     conv8 = Conv2D(128, 3, activation = 'relu', padding = 'same', kernel_initializer = 'he_normal')(merge8)\n",
    "#     conv8 = Conv2D(128, 3, activation = 'relu', padding = 'same', kernel_initializer = 'he_normal')(conv8)\n",
    "\n",
    "#     up9 = Conv2D(64, 2, activation = 'relu', padding = 'same', kernel_initializer = 'he_normal')(UpSampling2D(size = (2,2))(conv8))\n",
    "#     merge9 = concatenate([conv1,up9], axis = 3)\n",
    "#     conv9 = Conv2D(64, 3, activation = 'relu', padding = 'same', kernel_initializer = 'he_normal')(merge9)\n",
    "#     conv9 = Conv2D(64, 3, activation = 'relu', padding = 'same', kernel_initializer = 'he_normal')(conv9)\n",
    "#     conv9 = Conv2D(2, 3, activation = 'relu', padding = 'same', kernel_initializer = 'he_normal')(conv9)\n",
    "#     conv10 = Conv2D(1, 1, activation = 'sigmoid')(conv9)\n",
    "\n",
    "#     model = Model(input = inputs, output = conv10)\n",
    "\n",
    "#     model.compile(optimizer = Adam(lr = 1e-4), loss = 'binary_crossentropy', metrics = ['accuracy'])\n",
    "    \n",
    "#     #model.summary()\n",
    "\n",
    "#     if(pretrained_weights):\n",
    "#     \tmodel.load_weights(pretrained_weights)\n",
    "\n",
    "#     return model\n",
    "\n",
    "\n",
    "# © 2019 GitHub, Inc.\n",
    "# Terms\n",
    "# Privacy\n",
    "# Security\n",
    "# Status\n",
    "# Help\n",
    "# Contact GitHub\n",
    "# Pricing\n",
    "# API\n",
    "# Training\n",
    "# Blog\n",
    "# About\n"
   ]
  }
 ],
 "metadata": {
  "colab": {
   "collapsed_sections": [],
   "name": "sprint20-segmentation1.ipynb",
   "provenance": [],
   "version": "0.3.2"
  },
  "kernelspec": {
   "display_name": "Python 3",
   "language": "python",
   "name": "python3"
  },
  "language_info": {
   "codemirror_mode": {
    "name": "ipython",
    "version": 3
   },
   "file_extension": ".py",
   "mimetype": "text/x-python",
   "name": "python",
   "nbconvert_exporter": "python",
   "pygments_lexer": "ipython3",
   "version": "3.7.1"
  }
 },
 "nbformat": 4,
 "nbformat_minor": 1
}
