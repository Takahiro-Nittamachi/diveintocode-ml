{
 "cells": [
  {
   "cell_type": "markdown",
   "metadata": {
    "colab_type": "text",
    "id": "eT9FDg2fvCmC"
   },
   "source": [
    "# 1.この課題の目的\n",
    "- 機械学習の実践的な流れを知る\n",
    "- 高い汎化性能を持つモデルを完成させる\n",
    "以下の要件をすべて満たしていた場合、合格とします。\n",
    "\n",
    "※Jupyter Notebookを使い課題に沿った検証や説明ができている。\n",
    "\n",
    "# 2.機械学習フロー\n",
    "1回目のSprintでは、機械学習の実践的な流れを抑えます。このSprintはWeek3,4の延長になり、引き続きKaggleの Home Credit Default Risk コンペティションを用います。特にここでは適切な 検証 を組み込むことを重視し、その上で前処理やモデルの選定を進めていきます。\n",
    "\n",
    "適切な検証を行い、テストデータに対して高い汎化性能を持つモデルを完成させましょう。"
   ]
  },
  {
   "cell_type": "markdown",
   "metadata": {
    "colab_type": "text",
    "id": "87i9s7CvvCmD"
   },
   "source": [
    "# 【問題1】クロスバリデーション\n",
    "事前学習期間は検証用データを分割しておき、それに対して指標値を計算することで検証を行っていました。しかし、分割の仕方により精度は変化します。実践的には クロスバリデーション を行います。\n",
    "\n",
    "具体的には分割を複数回行い、それぞれに対して学習と検証を行う方法です。複数回の分割を行う関数はscikit-learnにKFoldとして用意されています。\n",
    "\n",
    "[sklearn.model_selection.KFold — scikit-learn 0.20.2 documentation](https://scikit-learn.org/stable/modules/generated/sklearn.model_selection.KFold.html#sklearn.model_selection.KFold)\n",
    "\n"
   ]
  },
  {
   "cell_type": "markdown",
   "metadata": {
    "colab_type": "text",
    "id": "igxYbT75vCmE"
   },
   "source": [
    "## 実行環境\n",
    "### 前処理\n",
    "- カテゴリカル変数\n",
    "    - OneHotEncodingを実施\n",
    "    \n",
    "    \n",
    "- 欠損値補完\n",
    "    - 欠損率6割以上の特徴量を削除。　\n",
    "    - マルチラベルのデータは最頻値、それ以外は平均値で補完。\n",
    "    \n",
    "- 特徴量抽出\n",
    "    - 使用する特徴量は目的変数との相関係数の絶対値が高い10個を使用\n",
    "\n",
    "### モデル\n",
    "- ロジスティック回帰(パラメータは全てデフォルト)\n",
    "\n",
    "## 確認結果\n",
    "### ５分割交差検証を行い以下のValidation Scoreを確認→平均0.92\n",
    "\n",
    "| 分割1      | 分割2      | 分割3      | 分割4      | 分割5      |\n",
    "|------------|------------|------------|------------|------------|\n",
    "| 0.91984131 | 0.91725472  | 0.91889695 | 0.91972619| 0.92057169 |\n",
    "\n",
    "### →上記スコアよりロジスティック回帰モデルのみで高い分類精度、及び高い汎化性能を確認"
   ]
  },
  {
   "cell_type": "code",
   "execution_count": 4,
   "metadata": {
    "colab": {
     "base_uri": "https://localhost:8080/",
     "height": 122
    },
    "colab_type": "code",
    "executionInfo": {
     "elapsed": 37969,
     "status": "ok",
     "timestamp": 1563347000406,
     "user": {
      "displayName": "新田町隆弘",
      "photoUrl": "https://lh5.googleusercontent.com/-DMDhNyXnHcY/AAAAAAAAAAI/AAAAAAAAACE/-rft9f3g5RM/s64/photo.jpg",
      "userId": "03465577674172853809"
     },
     "user_tz": -540
    },
    "id": "Ec9e-WrfvIX0",
    "outputId": "a5796aa7-0458-4bd6-a1c8-232da012ec35"
   },
   "outputs": [
    {
     "name": "stdout",
     "output_type": "stream",
     "text": [
      "Go to this URL in a browser: https://accounts.google.com/o/oauth2/auth?client_id=947318989803-6bn6qk8qdgf4n4g3pfee6491hc0brc4i.apps.googleusercontent.com&redirect_uri=urn%3Aietf%3Awg%3Aoauth%3A2.0%3Aoob&scope=email%20https%3A%2F%2Fwww.googleapis.com%2Fauth%2Fdocs.test%20https%3A%2F%2Fwww.googleapis.com%2Fauth%2Fdrive%20https%3A%2F%2Fwww.googleapis.com%2Fauth%2Fdrive.photos.readonly%20https%3A%2F%2Fwww.googleapis.com%2Fauth%2Fpeopleapi.readonly&response_type=code\n",
      "\n",
      "Enter your authorization code:\n",
      "··········\n",
      "Mounted at /content/drive\n"
     ]
    }
   ],
   "source": [
    "from google.colab import drive\n",
    "drive.mount('/content/drive')"
   ]
  },
  {
   "cell_type": "markdown",
   "metadata": {
    "colab_type": "text",
    "id": "EluT8K2DvCmF"
   },
   "source": [
    "## 使用クラスのインポート"
   ]
  },
  {
   "cell_type": "code",
   "execution_count": 0,
   "metadata": {
    "colab": {},
    "colab_type": "code",
    "id": "TFsG_Hd5vCmG"
   },
   "outputs": [],
   "source": [
    "import pandas as pd\n",
    "import numpy as np\n",
    "import os\n",
    "from PIL import Image\n",
    "\n",
    "# モデル作成時に使用するクラス\n",
    "from sklearn.pipeline import Pipeline, make_pipeline\n",
    "from sklearn.linear_model import LogisticRegression\n",
    "from sklearn.svm import SVC\n",
    "from sklearn.ensemble import RandomForestClassifier, GradientBoostingClassifier\n",
    "from sklearn.tree import DecisionTreeClassifier\n",
    "import lightgbm as lgb\n",
    "\n",
    "\n",
    "# 前処理で使用するクラス\n",
    "from sklearn.model_selection import train_test_split, KFold, cross_val_score,\\\n",
    "                                                                GridSearchCV, StratifiedKFold, cross_validate"
   ]
  },
  {
   "cell_type": "markdown",
   "metadata": {
    "colab_type": "text",
    "id": "huyRV9PkvCmJ"
   },
   "source": [
    "## ①データ読み込み"
   ]
  },
  {
   "cell_type": "code",
   "execution_count": 5,
   "metadata": {
    "colab": {
     "base_uri": "https://localhost:8080/",
     "height": 34
    },
    "colab_type": "code",
    "executionInfo": {
     "elapsed": 1726,
     "status": "ok",
     "timestamp": 1563347015171,
     "user": {
      "displayName": "新田町隆弘",
      "photoUrl": "https://lh5.googleusercontent.com/-DMDhNyXnHcY/AAAAAAAAAAI/AAAAAAAAACE/-rft9f3g5RM/s64/photo.jpg",
      "userId": "03465577674172853809"
     },
     "user_tz": -540
    },
    "id": "6djQ5o6BvkTK",
    "outputId": "9b525df3-acd9-4e6c-858f-6e9989896b94"
   },
   "outputs": [
    {
     "name": "stdout",
     "output_type": "stream",
     "text": [
      "/content\n"
     ]
    }
   ],
   "source": [
    "!pwd"
   ]
  },
  {
   "cell_type": "code",
   "execution_count": 0,
   "metadata": {
    "colab": {},
    "colab_type": "code",
    "id": "nJ5Qj0XXvCmK"
   },
   "outputs": [],
   "source": [
    "# trainデータ\n",
    "os.chdir('/content/drive/My Drive/Colab Notebooks/sprint1')\n",
    "df_train = pd.read_csv('application_train.csv')"
   ]
  },
  {
   "cell_type": "code",
   "execution_count": 9,
   "metadata": {
    "colab": {
     "base_uri": "https://localhost:8080/",
     "height": 34
    },
    "colab_type": "code",
    "executionInfo": {
     "elapsed": 572,
     "status": "ok",
     "timestamp": 1563347074226,
     "user": {
      "displayName": "新田町隆弘",
      "photoUrl": "https://lh5.googleusercontent.com/-DMDhNyXnHcY/AAAAAAAAAAI/AAAAAAAAACE/-rft9f3g5RM/s64/photo.jpg",
      "userId": "03465577674172853809"
     },
     "user_tz": -540
    },
    "id": "7V_Z59btvCmM",
    "outputId": "28dce13c-d1ec-47c6-ca26-327ae25670a6"
   },
   "outputs": [
    {
     "data": {
      "text/plain": [
       "(307511, 122)"
      ]
     },
     "execution_count": 9,
     "metadata": {
      "tags": []
     },
     "output_type": "execute_result"
    }
   ],
   "source": [
    "df_train.shape"
   ]
  },
  {
   "cell_type": "code",
   "execution_count": 10,
   "metadata": {
    "colab": {
     "base_uri": "https://localhost:8080/",
     "height": 304
    },
    "colab_type": "code",
    "executionInfo": {
     "elapsed": 2487,
     "status": "ok",
     "timestamp": 1563347076153,
     "user": {
      "displayName": "新田町隆弘",
      "photoUrl": "https://lh5.googleusercontent.com/-DMDhNyXnHcY/AAAAAAAAAAI/AAAAAAAAACE/-rft9f3g5RM/s64/photo.jpg",
      "userId": "03465577674172853809"
     },
     "user_tz": -540
    },
    "id": "XpJD8NuQvCmQ",
    "outputId": "6b9ebf12-bd30-44d7-d2cc-afcd2976467c"
   },
   "outputs": [
    {
     "data": {
      "text/html": [
       "<div>\n",
       "<style scoped>\n",
       "    .dataframe tbody tr th:only-of-type {\n",
       "        vertical-align: middle;\n",
       "    }\n",
       "\n",
       "    .dataframe tbody tr th {\n",
       "        vertical-align: top;\n",
       "    }\n",
       "\n",
       "    .dataframe thead th {\n",
       "        text-align: right;\n",
       "    }\n",
       "</style>\n",
       "<table border=\"1\" class=\"dataframe\">\n",
       "  <thead>\n",
       "    <tr style=\"text-align: right;\">\n",
       "      <th></th>\n",
       "      <th>SK_ID_CURR</th>\n",
       "      <th>NAME_CONTRACT_TYPE</th>\n",
       "      <th>CODE_GENDER</th>\n",
       "      <th>FLAG_OWN_CAR</th>\n",
       "      <th>FLAG_OWN_REALTY</th>\n",
       "      <th>CNT_CHILDREN</th>\n",
       "      <th>AMT_INCOME_TOTAL</th>\n",
       "      <th>AMT_CREDIT</th>\n",
       "      <th>AMT_ANNUITY</th>\n",
       "      <th>AMT_GOODS_PRICE</th>\n",
       "      <th>NAME_TYPE_SUITE</th>\n",
       "      <th>NAME_INCOME_TYPE</th>\n",
       "      <th>NAME_EDUCATION_TYPE</th>\n",
       "      <th>NAME_FAMILY_STATUS</th>\n",
       "      <th>NAME_HOUSING_TYPE</th>\n",
       "      <th>REGION_POPULATION_RELATIVE</th>\n",
       "      <th>DAYS_BIRTH</th>\n",
       "      <th>DAYS_EMPLOYED</th>\n",
       "      <th>DAYS_REGISTRATION</th>\n",
       "      <th>DAYS_ID_PUBLISH</th>\n",
       "      <th>OWN_CAR_AGE</th>\n",
       "      <th>FLAG_MOBIL</th>\n",
       "      <th>FLAG_EMP_PHONE</th>\n",
       "      <th>FLAG_WORK_PHONE</th>\n",
       "      <th>FLAG_CONT_MOBILE</th>\n",
       "      <th>FLAG_PHONE</th>\n",
       "      <th>FLAG_EMAIL</th>\n",
       "      <th>OCCUPATION_TYPE</th>\n",
       "      <th>CNT_FAM_MEMBERS</th>\n",
       "      <th>REGION_RATING_CLIENT</th>\n",
       "      <th>REGION_RATING_CLIENT_W_CITY</th>\n",
       "      <th>WEEKDAY_APPR_PROCESS_START</th>\n",
       "      <th>HOUR_APPR_PROCESS_START</th>\n",
       "      <th>REG_REGION_NOT_LIVE_REGION</th>\n",
       "      <th>REG_REGION_NOT_WORK_REGION</th>\n",
       "      <th>LIVE_REGION_NOT_WORK_REGION</th>\n",
       "      <th>REG_CITY_NOT_LIVE_CITY</th>\n",
       "      <th>REG_CITY_NOT_WORK_CITY</th>\n",
       "      <th>LIVE_CITY_NOT_WORK_CITY</th>\n",
       "      <th>ORGANIZATION_TYPE</th>\n",
       "      <th>...</th>\n",
       "      <th>LIVINGAPARTMENTS_MEDI</th>\n",
       "      <th>LIVINGAREA_MEDI</th>\n",
       "      <th>NONLIVINGAPARTMENTS_MEDI</th>\n",
       "      <th>NONLIVINGAREA_MEDI</th>\n",
       "      <th>FONDKAPREMONT_MODE</th>\n",
       "      <th>HOUSETYPE_MODE</th>\n",
       "      <th>TOTALAREA_MODE</th>\n",
       "      <th>WALLSMATERIAL_MODE</th>\n",
       "      <th>EMERGENCYSTATE_MODE</th>\n",
       "      <th>OBS_30_CNT_SOCIAL_CIRCLE</th>\n",
       "      <th>DEF_30_CNT_SOCIAL_CIRCLE</th>\n",
       "      <th>OBS_60_CNT_SOCIAL_CIRCLE</th>\n",
       "      <th>DEF_60_CNT_SOCIAL_CIRCLE</th>\n",
       "      <th>DAYS_LAST_PHONE_CHANGE</th>\n",
       "      <th>FLAG_DOCUMENT_2</th>\n",
       "      <th>FLAG_DOCUMENT_3</th>\n",
       "      <th>FLAG_DOCUMENT_4</th>\n",
       "      <th>FLAG_DOCUMENT_5</th>\n",
       "      <th>FLAG_DOCUMENT_6</th>\n",
       "      <th>FLAG_DOCUMENT_7</th>\n",
       "      <th>FLAG_DOCUMENT_8</th>\n",
       "      <th>FLAG_DOCUMENT_9</th>\n",
       "      <th>FLAG_DOCUMENT_10</th>\n",
       "      <th>FLAG_DOCUMENT_11</th>\n",
       "      <th>FLAG_DOCUMENT_12</th>\n",
       "      <th>FLAG_DOCUMENT_13</th>\n",
       "      <th>FLAG_DOCUMENT_14</th>\n",
       "      <th>FLAG_DOCUMENT_15</th>\n",
       "      <th>FLAG_DOCUMENT_16</th>\n",
       "      <th>FLAG_DOCUMENT_17</th>\n",
       "      <th>FLAG_DOCUMENT_18</th>\n",
       "      <th>FLAG_DOCUMENT_19</th>\n",
       "      <th>FLAG_DOCUMENT_20</th>\n",
       "      <th>FLAG_DOCUMENT_21</th>\n",
       "      <th>AMT_REQ_CREDIT_BUREAU_HOUR</th>\n",
       "      <th>AMT_REQ_CREDIT_BUREAU_DAY</th>\n",
       "      <th>AMT_REQ_CREDIT_BUREAU_WEEK</th>\n",
       "      <th>AMT_REQ_CREDIT_BUREAU_MON</th>\n",
       "      <th>AMT_REQ_CREDIT_BUREAU_QRT</th>\n",
       "      <th>AMT_REQ_CREDIT_BUREAU_YEAR</th>\n",
       "    </tr>\n",
       "  </thead>\n",
       "  <tbody>\n",
       "    <tr>\n",
       "      <th>0</th>\n",
       "      <td>100001</td>\n",
       "      <td>Cash loans</td>\n",
       "      <td>F</td>\n",
       "      <td>N</td>\n",
       "      <td>Y</td>\n",
       "      <td>0</td>\n",
       "      <td>135000.0</td>\n",
       "      <td>568800.0</td>\n",
       "      <td>20560.5</td>\n",
       "      <td>450000.0</td>\n",
       "      <td>Unaccompanied</td>\n",
       "      <td>Working</td>\n",
       "      <td>Higher education</td>\n",
       "      <td>Married</td>\n",
       "      <td>House / apartment</td>\n",
       "      <td>0.018850</td>\n",
       "      <td>-19241</td>\n",
       "      <td>-2329</td>\n",
       "      <td>-5170.0</td>\n",
       "      <td>-812</td>\n",
       "      <td>NaN</td>\n",
       "      <td>1</td>\n",
       "      <td>1</td>\n",
       "      <td>0</td>\n",
       "      <td>1</td>\n",
       "      <td>0</td>\n",
       "      <td>1</td>\n",
       "      <td>NaN</td>\n",
       "      <td>2.0</td>\n",
       "      <td>2</td>\n",
       "      <td>2</td>\n",
       "      <td>TUESDAY</td>\n",
       "      <td>18</td>\n",
       "      <td>0</td>\n",
       "      <td>0</td>\n",
       "      <td>0</td>\n",
       "      <td>0</td>\n",
       "      <td>0</td>\n",
       "      <td>0</td>\n",
       "      <td>Kindergarten</td>\n",
       "      <td>...</td>\n",
       "      <td>NaN</td>\n",
       "      <td>0.0514</td>\n",
       "      <td>NaN</td>\n",
       "      <td>NaN</td>\n",
       "      <td>NaN</td>\n",
       "      <td>block of flats</td>\n",
       "      <td>0.0392</td>\n",
       "      <td>Stone, brick</td>\n",
       "      <td>No</td>\n",
       "      <td>0.0</td>\n",
       "      <td>0.0</td>\n",
       "      <td>0.0</td>\n",
       "      <td>0.0</td>\n",
       "      <td>-1740.0</td>\n",
       "      <td>0</td>\n",
       "      <td>1</td>\n",
       "      <td>0</td>\n",
       "      <td>0</td>\n",
       "      <td>0</td>\n",
       "      <td>0</td>\n",
       "      <td>0</td>\n",
       "      <td>0</td>\n",
       "      <td>0</td>\n",
       "      <td>0</td>\n",
       "      <td>0</td>\n",
       "      <td>0</td>\n",
       "      <td>0</td>\n",
       "      <td>0</td>\n",
       "      <td>0</td>\n",
       "      <td>0</td>\n",
       "      <td>0</td>\n",
       "      <td>0</td>\n",
       "      <td>0</td>\n",
       "      <td>0</td>\n",
       "      <td>0.0</td>\n",
       "      <td>0.0</td>\n",
       "      <td>0.0</td>\n",
       "      <td>0.0</td>\n",
       "      <td>0.0</td>\n",
       "      <td>0.0</td>\n",
       "    </tr>\n",
       "    <tr>\n",
       "      <th>1</th>\n",
       "      <td>100005</td>\n",
       "      <td>Cash loans</td>\n",
       "      <td>M</td>\n",
       "      <td>N</td>\n",
       "      <td>Y</td>\n",
       "      <td>0</td>\n",
       "      <td>99000.0</td>\n",
       "      <td>222768.0</td>\n",
       "      <td>17370.0</td>\n",
       "      <td>180000.0</td>\n",
       "      <td>Unaccompanied</td>\n",
       "      <td>Working</td>\n",
       "      <td>Secondary / secondary special</td>\n",
       "      <td>Married</td>\n",
       "      <td>House / apartment</td>\n",
       "      <td>0.035792</td>\n",
       "      <td>-18064</td>\n",
       "      <td>-4469</td>\n",
       "      <td>-9118.0</td>\n",
       "      <td>-1623</td>\n",
       "      <td>NaN</td>\n",
       "      <td>1</td>\n",
       "      <td>1</td>\n",
       "      <td>0</td>\n",
       "      <td>1</td>\n",
       "      <td>0</td>\n",
       "      <td>0</td>\n",
       "      <td>Low-skill Laborers</td>\n",
       "      <td>2.0</td>\n",
       "      <td>2</td>\n",
       "      <td>2</td>\n",
       "      <td>FRIDAY</td>\n",
       "      <td>9</td>\n",
       "      <td>0</td>\n",
       "      <td>0</td>\n",
       "      <td>0</td>\n",
       "      <td>0</td>\n",
       "      <td>0</td>\n",
       "      <td>0</td>\n",
       "      <td>Self-employed</td>\n",
       "      <td>...</td>\n",
       "      <td>NaN</td>\n",
       "      <td>NaN</td>\n",
       "      <td>NaN</td>\n",
       "      <td>NaN</td>\n",
       "      <td>NaN</td>\n",
       "      <td>NaN</td>\n",
       "      <td>NaN</td>\n",
       "      <td>NaN</td>\n",
       "      <td>NaN</td>\n",
       "      <td>0.0</td>\n",
       "      <td>0.0</td>\n",
       "      <td>0.0</td>\n",
       "      <td>0.0</td>\n",
       "      <td>0.0</td>\n",
       "      <td>0</td>\n",
       "      <td>1</td>\n",
       "      <td>0</td>\n",
       "      <td>0</td>\n",
       "      <td>0</td>\n",
       "      <td>0</td>\n",
       "      <td>0</td>\n",
       "      <td>0</td>\n",
       "      <td>0</td>\n",
       "      <td>0</td>\n",
       "      <td>0</td>\n",
       "      <td>0</td>\n",
       "      <td>0</td>\n",
       "      <td>0</td>\n",
       "      <td>0</td>\n",
       "      <td>0</td>\n",
       "      <td>0</td>\n",
       "      <td>0</td>\n",
       "      <td>0</td>\n",
       "      <td>0</td>\n",
       "      <td>0.0</td>\n",
       "      <td>0.0</td>\n",
       "      <td>0.0</td>\n",
       "      <td>0.0</td>\n",
       "      <td>0.0</td>\n",
       "      <td>3.0</td>\n",
       "    </tr>\n",
       "    <tr>\n",
       "      <th>2</th>\n",
       "      <td>100013</td>\n",
       "      <td>Cash loans</td>\n",
       "      <td>M</td>\n",
       "      <td>Y</td>\n",
       "      <td>Y</td>\n",
       "      <td>0</td>\n",
       "      <td>202500.0</td>\n",
       "      <td>663264.0</td>\n",
       "      <td>69777.0</td>\n",
       "      <td>630000.0</td>\n",
       "      <td>NaN</td>\n",
       "      <td>Working</td>\n",
       "      <td>Higher education</td>\n",
       "      <td>Married</td>\n",
       "      <td>House / apartment</td>\n",
       "      <td>0.019101</td>\n",
       "      <td>-20038</td>\n",
       "      <td>-4458</td>\n",
       "      <td>-2175.0</td>\n",
       "      <td>-3503</td>\n",
       "      <td>5.0</td>\n",
       "      <td>1</td>\n",
       "      <td>1</td>\n",
       "      <td>0</td>\n",
       "      <td>1</td>\n",
       "      <td>0</td>\n",
       "      <td>0</td>\n",
       "      <td>Drivers</td>\n",
       "      <td>2.0</td>\n",
       "      <td>2</td>\n",
       "      <td>2</td>\n",
       "      <td>MONDAY</td>\n",
       "      <td>14</td>\n",
       "      <td>0</td>\n",
       "      <td>0</td>\n",
       "      <td>0</td>\n",
       "      <td>0</td>\n",
       "      <td>0</td>\n",
       "      <td>0</td>\n",
       "      <td>Transport: type 3</td>\n",
       "      <td>...</td>\n",
       "      <td>NaN</td>\n",
       "      <td>NaN</td>\n",
       "      <td>NaN</td>\n",
       "      <td>NaN</td>\n",
       "      <td>NaN</td>\n",
       "      <td>NaN</td>\n",
       "      <td>NaN</td>\n",
       "      <td>NaN</td>\n",
       "      <td>NaN</td>\n",
       "      <td>0.0</td>\n",
       "      <td>0.0</td>\n",
       "      <td>0.0</td>\n",
       "      <td>0.0</td>\n",
       "      <td>-856.0</td>\n",
       "      <td>0</td>\n",
       "      <td>0</td>\n",
       "      <td>0</td>\n",
       "      <td>0</td>\n",
       "      <td>0</td>\n",
       "      <td>0</td>\n",
       "      <td>1</td>\n",
       "      <td>0</td>\n",
       "      <td>0</td>\n",
       "      <td>0</td>\n",
       "      <td>0</td>\n",
       "      <td>0</td>\n",
       "      <td>0</td>\n",
       "      <td>0</td>\n",
       "      <td>0</td>\n",
       "      <td>0</td>\n",
       "      <td>0</td>\n",
       "      <td>0</td>\n",
       "      <td>0</td>\n",
       "      <td>0</td>\n",
       "      <td>0.0</td>\n",
       "      <td>0.0</td>\n",
       "      <td>0.0</td>\n",
       "      <td>0.0</td>\n",
       "      <td>1.0</td>\n",
       "      <td>4.0</td>\n",
       "    </tr>\n",
       "    <tr>\n",
       "      <th>3</th>\n",
       "      <td>100028</td>\n",
       "      <td>Cash loans</td>\n",
       "      <td>F</td>\n",
       "      <td>N</td>\n",
       "      <td>Y</td>\n",
       "      <td>2</td>\n",
       "      <td>315000.0</td>\n",
       "      <td>1575000.0</td>\n",
       "      <td>49018.5</td>\n",
       "      <td>1575000.0</td>\n",
       "      <td>Unaccompanied</td>\n",
       "      <td>Working</td>\n",
       "      <td>Secondary / secondary special</td>\n",
       "      <td>Married</td>\n",
       "      <td>House / apartment</td>\n",
       "      <td>0.026392</td>\n",
       "      <td>-13976</td>\n",
       "      <td>-1866</td>\n",
       "      <td>-2000.0</td>\n",
       "      <td>-4208</td>\n",
       "      <td>NaN</td>\n",
       "      <td>1</td>\n",
       "      <td>1</td>\n",
       "      <td>0</td>\n",
       "      <td>1</td>\n",
       "      <td>1</td>\n",
       "      <td>0</td>\n",
       "      <td>Sales staff</td>\n",
       "      <td>4.0</td>\n",
       "      <td>2</td>\n",
       "      <td>2</td>\n",
       "      <td>WEDNESDAY</td>\n",
       "      <td>11</td>\n",
       "      <td>0</td>\n",
       "      <td>0</td>\n",
       "      <td>0</td>\n",
       "      <td>0</td>\n",
       "      <td>0</td>\n",
       "      <td>0</td>\n",
       "      <td>Business Entity Type 3</td>\n",
       "      <td>...</td>\n",
       "      <td>0.2446</td>\n",
       "      <td>0.3739</td>\n",
       "      <td>0.0388</td>\n",
       "      <td>0.0817</td>\n",
       "      <td>reg oper account</td>\n",
       "      <td>block of flats</td>\n",
       "      <td>0.3700</td>\n",
       "      <td>Panel</td>\n",
       "      <td>No</td>\n",
       "      <td>0.0</td>\n",
       "      <td>0.0</td>\n",
       "      <td>0.0</td>\n",
       "      <td>0.0</td>\n",
       "      <td>-1805.0</td>\n",
       "      <td>0</td>\n",
       "      <td>1</td>\n",
       "      <td>0</td>\n",
       "      <td>0</td>\n",
       "      <td>0</td>\n",
       "      <td>0</td>\n",
       "      <td>0</td>\n",
       "      <td>0</td>\n",
       "      <td>0</td>\n",
       "      <td>0</td>\n",
       "      <td>0</td>\n",
       "      <td>0</td>\n",
       "      <td>0</td>\n",
       "      <td>0</td>\n",
       "      <td>0</td>\n",
       "      <td>0</td>\n",
       "      <td>0</td>\n",
       "      <td>0</td>\n",
       "      <td>0</td>\n",
       "      <td>0</td>\n",
       "      <td>0.0</td>\n",
       "      <td>0.0</td>\n",
       "      <td>0.0</td>\n",
       "      <td>0.0</td>\n",
       "      <td>0.0</td>\n",
       "      <td>3.0</td>\n",
       "    </tr>\n",
       "    <tr>\n",
       "      <th>4</th>\n",
       "      <td>100038</td>\n",
       "      <td>Cash loans</td>\n",
       "      <td>M</td>\n",
       "      <td>Y</td>\n",
       "      <td>N</td>\n",
       "      <td>1</td>\n",
       "      <td>180000.0</td>\n",
       "      <td>625500.0</td>\n",
       "      <td>32067.0</td>\n",
       "      <td>625500.0</td>\n",
       "      <td>Unaccompanied</td>\n",
       "      <td>Working</td>\n",
       "      <td>Secondary / secondary special</td>\n",
       "      <td>Married</td>\n",
       "      <td>House / apartment</td>\n",
       "      <td>0.010032</td>\n",
       "      <td>-13040</td>\n",
       "      <td>-2191</td>\n",
       "      <td>-4000.0</td>\n",
       "      <td>-4262</td>\n",
       "      <td>16.0</td>\n",
       "      <td>1</td>\n",
       "      <td>1</td>\n",
       "      <td>1</td>\n",
       "      <td>1</td>\n",
       "      <td>0</td>\n",
       "      <td>0</td>\n",
       "      <td>NaN</td>\n",
       "      <td>3.0</td>\n",
       "      <td>2</td>\n",
       "      <td>2</td>\n",
       "      <td>FRIDAY</td>\n",
       "      <td>5</td>\n",
       "      <td>0</td>\n",
       "      <td>0</td>\n",
       "      <td>0</td>\n",
       "      <td>0</td>\n",
       "      <td>1</td>\n",
       "      <td>1</td>\n",
       "      <td>Business Entity Type 3</td>\n",
       "      <td>...</td>\n",
       "      <td>NaN</td>\n",
       "      <td>NaN</td>\n",
       "      <td>NaN</td>\n",
       "      <td>NaN</td>\n",
       "      <td>NaN</td>\n",
       "      <td>NaN</td>\n",
       "      <td>NaN</td>\n",
       "      <td>NaN</td>\n",
       "      <td>NaN</td>\n",
       "      <td>0.0</td>\n",
       "      <td>0.0</td>\n",
       "      <td>0.0</td>\n",
       "      <td>0.0</td>\n",
       "      <td>-821.0</td>\n",
       "      <td>0</td>\n",
       "      <td>1</td>\n",
       "      <td>0</td>\n",
       "      <td>0</td>\n",
       "      <td>0</td>\n",
       "      <td>0</td>\n",
       "      <td>0</td>\n",
       "      <td>0</td>\n",
       "      <td>0</td>\n",
       "      <td>0</td>\n",
       "      <td>0</td>\n",
       "      <td>0</td>\n",
       "      <td>0</td>\n",
       "      <td>0</td>\n",
       "      <td>0</td>\n",
       "      <td>0</td>\n",
       "      <td>0</td>\n",
       "      <td>0</td>\n",
       "      <td>0</td>\n",
       "      <td>0</td>\n",
       "      <td>NaN</td>\n",
       "      <td>NaN</td>\n",
       "      <td>NaN</td>\n",
       "      <td>NaN</td>\n",
       "      <td>NaN</td>\n",
       "      <td>NaN</td>\n",
       "    </tr>\n",
       "  </tbody>\n",
       "</table>\n",
       "<p>5 rows × 121 columns</p>\n",
       "</div>"
      ],
      "text/plain": [
       "   SK_ID_CURR  ... AMT_REQ_CREDIT_BUREAU_YEAR\n",
       "0      100001  ...                        0.0\n",
       "1      100005  ...                        3.0\n",
       "2      100013  ...                        4.0\n",
       "3      100028  ...                        3.0\n",
       "4      100038  ...                        NaN\n",
       "\n",
       "[5 rows x 121 columns]"
      ]
     },
     "execution_count": 10,
     "metadata": {
      "tags": []
     },
     "output_type": "execute_result"
    }
   ],
   "source": [
    "# testデータ\n",
    "df_test = pd.read_csv('application_test.csv')\n",
    "df_test.head()"
   ]
  },
  {
   "cell_type": "markdown",
   "metadata": {
    "colab_type": "text",
    "id": "k-z-nXq_vCmT"
   },
   "source": [
    "## ②前処理\n",
    "### trainデータの特徴量を抽出"
   ]
  },
  {
   "cell_type": "code",
   "execution_count": 0,
   "metadata": {
    "colab": {},
    "colab_type": "code",
    "id": "oonyqGAHvCmT"
   },
   "outputs": [],
   "source": [
    "train_feature = df_train.drop('TARGET', axis=1)"
   ]
  },
  {
   "cell_type": "markdown",
   "metadata": {
    "colab_type": "text",
    "id": "kTzA43aHvCmV"
   },
   "source": [
    "### trainデータの目的変数を抽出"
   ]
  },
  {
   "cell_type": "code",
   "execution_count": 0,
   "metadata": {
    "colab": {},
    "colab_type": "code",
    "id": "Cds-isphvCmW"
   },
   "outputs": [],
   "source": [
    "train_target = df_train.loc[:, 'TARGET']"
   ]
  },
  {
   "cell_type": "markdown",
   "metadata": {
    "colab_type": "text",
    "id": "WCO9F-5DvCmb"
   },
   "source": [
    "### trainデータの特徴量とtestデータを結合"
   ]
  },
  {
   "cell_type": "code",
   "execution_count": 0,
   "metadata": {
    "colab": {},
    "colab_type": "code",
    "id": "VzDlIQo4vCmc"
   },
   "outputs": [],
   "source": [
    "df_concat = pd.concat([train_feature, df_test], axis=0)"
   ]
  },
  {
   "cell_type": "markdown",
   "metadata": {
    "colab_type": "text",
    "id": "gOfbSi6dvCmd"
   },
   "source": [
    "### 前処理１：OneHotEncoding"
   ]
  },
  {
   "cell_type": "code",
   "execution_count": 0,
   "metadata": {
    "colab": {},
    "colab_type": "code",
    "id": "-yEHVTbZvCme"
   },
   "outputs": [],
   "source": [
    "# trainデータとtestデータを縦に結合したデータに対してOneHotEncodingしたデータ\n",
    "df_concat_dummies = pd.get_dummies(df_concat)"
   ]
  },
  {
   "cell_type": "code",
   "execution_count": 15,
   "metadata": {
    "colab": {
     "base_uri": "https://localhost:8080/",
     "height": 34
    },
    "colab_type": "code",
    "executionInfo": {
     "elapsed": 4785,
     "status": "ok",
     "timestamp": 1563347078522,
     "user": {
      "displayName": "新田町隆弘",
      "photoUrl": "https://lh5.googleusercontent.com/-DMDhNyXnHcY/AAAAAAAAAAI/AAAAAAAAACE/-rft9f3g5RM/s64/photo.jpg",
      "userId": "03465577674172853809"
     },
     "user_tz": -540
    },
    "id": "h-ahpUgPvCmg",
    "outputId": "e758d6d4-b5d2-4a2c-8671-8e820bde71e1"
   },
   "outputs": [
    {
     "data": {
      "text/plain": [
       "(356255, 245)"
      ]
     },
     "execution_count": 15,
     "metadata": {
      "tags": []
     },
     "output_type": "execute_result"
    }
   ],
   "source": [
    "df_concat_dummies.shape"
   ]
  },
  {
   "cell_type": "markdown",
   "metadata": {
    "colab_type": "text",
    "id": "OO0wTrnuvCmi"
   },
   "source": [
    "### 前処理２：欠損値補完\n",
    "- 欠損率が6割以上の列(特徴量)は削除\n",
    "- マルチラベルのデータは最頻値、それ以外の数値データは平均値で補完"
   ]
  },
  {
   "cell_type": "code",
   "execution_count": 0,
   "metadata": {
    "colab": {},
    "colab_type": "code",
    "id": "6LVApq2-vCmj"
   },
   "outputs": [],
   "source": [
    "# 欠損値の数(初期値 0)\n",
    "missing_value_number = 0\n",
    "\n",
    "# df_concat_dummiesの行数\n",
    "df_length = len(df_concat_dummies)\n",
    "\n",
    "# df_concat_dummiesのcolomusを１つずつ抽出し、変数colに格納\n",
    "for col in df_concat_dummies.columns:\n",
    "    \n",
    "    #df_concat_dummiesのcol列の欠損値の数をmissing_value_numberに格納\n",
    "    missing_value_number = df_concat_dummies[col].isnull().sum()\n",
    "    \n",
    "    # 欠損値の数が1以上か？\n",
    "    if missing_value_number > 0:\n",
    "        \n",
    "        # 1以上→欠損値の割合が60%以上か？\n",
    "        if missing_value_number/df_length >= 0.6:\n",
    "            \n",
    "            # 60%以上→col列を削除\n",
    "            df_concat_dummies = df_concat_dummies.drop(col, axis=1)\n",
    "            \n",
    "        # 60%以下\n",
    "        else:\n",
    "            \n",
    "            # col列のデータタイプがオブジェクト型か？\n",
    "            if df_concat_dummies[col].dtype == object:\n",
    "                \n",
    "                # オブジェクト型→欠損値を最頻値で補完\n",
    "                df_concat_dummies[col] = df_concat_dummies[col].fillna(train[col].mode()[0])\n",
    "                \n",
    "            else:\n",
    "                \n",
    "                # 非オブジェクト型→欠損値を平均値で補完\n",
    "                df_concat_dummies[col] = df_concat_dummies[col].fillna(df_concat_dummies[col].mean())"
   ]
  },
  {
   "cell_type": "code",
   "execution_count": 17,
   "metadata": {
    "colab": {
     "base_uri": "https://localhost:8080/",
     "height": 34
    },
    "colab_type": "code",
    "executionInfo": {
     "elapsed": 9559,
     "status": "ok",
     "timestamp": 1563347083307,
     "user": {
      "displayName": "新田町隆弘",
      "photoUrl": "https://lh5.googleusercontent.com/-DMDhNyXnHcY/AAAAAAAAAAI/AAAAAAAAACE/-rft9f3g5RM/s64/photo.jpg",
      "userId": "03465577674172853809"
     },
     "user_tz": -540
    },
    "id": "mfoBDmTBvCmk",
    "outputId": "7d6c3e89-9618-420e-d493-662757e48f4e"
   },
   "outputs": [
    {
     "data": {
      "text/plain": [
       "(356255, 229)"
      ]
     },
     "execution_count": 17,
     "metadata": {
      "tags": []
     },
     "output_type": "execute_result"
    }
   ],
   "source": [
    "df_concat_dummies.shape"
   ]
  },
  {
   "cell_type": "markdown",
   "metadata": {
    "colab_type": "text",
    "id": "Oi5w-DmtvCmn"
   },
   "source": [
    "### 結合したtrainデータとtestデータを分離"
   ]
  },
  {
   "cell_type": "code",
   "execution_count": 0,
   "metadata": {
    "colab": {},
    "colab_type": "code",
    "id": "k_EJ1xINvCmn"
   },
   "outputs": [],
   "source": [
    "# 上から307511行はtrainデータ\n",
    "df_train_prepro = df_concat_dummies.iloc[:307511,:]\n",
    "\n",
    "# 307511行から下はtestデータ\n",
    "df_test_prepro = df_concat_dummies.iloc[307511:, :]"
   ]
  },
  {
   "cell_type": "code",
   "execution_count": 19,
   "metadata": {
    "colab": {
     "base_uri": "https://localhost:8080/",
     "height": 34
    },
    "colab_type": "code",
    "executionInfo": {
     "elapsed": 9548,
     "status": "ok",
     "timestamp": 1563347083312,
     "user": {
      "displayName": "新田町隆弘",
      "photoUrl": "https://lh5.googleusercontent.com/-DMDhNyXnHcY/AAAAAAAAAAI/AAAAAAAAACE/-rft9f3g5RM/s64/photo.jpg",
      "userId": "03465577674172853809"
     },
     "user_tz": -540
    },
    "id": "XZiqvDEhvCmp",
    "outputId": "472ce320-478c-4a62-ea66-840ff016f36c"
   },
   "outputs": [
    {
     "data": {
      "text/plain": [
       "(307511,)"
      ]
     },
     "execution_count": 19,
     "metadata": {
      "tags": []
     },
     "output_type": "execute_result"
    }
   ],
   "source": [
    "train_target.shape"
   ]
  },
  {
   "cell_type": "markdown",
   "metadata": {
    "colab_type": "text",
    "id": "Wo-HmE4MvCms"
   },
   "source": [
    "### 目的変数との相関係数を計算し、学習時に使用する特徴量を選定する"
   ]
  },
  {
   "cell_type": "markdown",
   "metadata": {
    "colab_type": "text",
    "id": "6PISqgjcvCmu"
   },
   "source": [
    "### 前処理後のtrainデータに目的変数列を結合"
   ]
  },
  {
   "cell_type": "code",
   "execution_count": 0,
   "metadata": {
    "colab": {},
    "colab_type": "code",
    "id": "Xb-WwXvUvCmv"
   },
   "outputs": [],
   "source": [
    "df_train_prepro = pd.concat([train_target, df_train_prepro], axis=1)"
   ]
  },
  {
   "cell_type": "markdown",
   "metadata": {
    "colab_type": "text",
    "id": "LncV3elivCmz"
   },
   "source": [
    "### 目的変数との相関係数を計算"
   ]
  },
  {
   "cell_type": "code",
   "execution_count": 21,
   "metadata": {
    "colab": {
     "base_uri": "https://localhost:8080/",
     "height": 270
    },
    "colab_type": "code",
    "executionInfo": {
     "elapsed": 45848,
     "status": "ok",
     "timestamp": 1563347119627,
     "user": {
      "displayName": "新田町隆弘",
      "photoUrl": "https://lh5.googleusercontent.com/-DMDhNyXnHcY/AAAAAAAAAAI/AAAAAAAAACE/-rft9f3g5RM/s64/photo.jpg",
      "userId": "03465577674172853809"
     },
     "user_tz": -540
    },
    "id": "PnagkqyVvCmz",
    "outputId": "8c2d93b8-9993-41a7-cb03-a23e420d32be"
   },
   "outputs": [
    {
     "data": {
      "text/html": [
       "<div>\n",
       "<style scoped>\n",
       "    .dataframe tbody tr th:only-of-type {\n",
       "        vertical-align: middle;\n",
       "    }\n",
       "\n",
       "    .dataframe tbody tr th {\n",
       "        vertical-align: top;\n",
       "    }\n",
       "\n",
       "    .dataframe thead th {\n",
       "        text-align: right;\n",
       "    }\n",
       "</style>\n",
       "<table border=\"1\" class=\"dataframe\">\n",
       "  <thead>\n",
       "    <tr style=\"text-align: right;\">\n",
       "      <th></th>\n",
       "      <th>TARGET</th>\n",
       "      <th>SK_ID_CURR</th>\n",
       "      <th>CNT_CHILDREN</th>\n",
       "      <th>AMT_INCOME_TOTAL</th>\n",
       "      <th>AMT_CREDIT</th>\n",
       "      <th>AMT_ANNUITY</th>\n",
       "      <th>AMT_GOODS_PRICE</th>\n",
       "      <th>REGION_POPULATION_RELATIVE</th>\n",
       "      <th>DAYS_BIRTH</th>\n",
       "      <th>DAYS_EMPLOYED</th>\n",
       "      <th>DAYS_REGISTRATION</th>\n",
       "      <th>DAYS_ID_PUBLISH</th>\n",
       "      <th>FLAG_MOBIL</th>\n",
       "      <th>FLAG_EMP_PHONE</th>\n",
       "      <th>FLAG_WORK_PHONE</th>\n",
       "      <th>FLAG_CONT_MOBILE</th>\n",
       "      <th>FLAG_PHONE</th>\n",
       "      <th>FLAG_EMAIL</th>\n",
       "      <th>CNT_FAM_MEMBERS</th>\n",
       "      <th>REGION_RATING_CLIENT</th>\n",
       "      <th>REGION_RATING_CLIENT_W_CITY</th>\n",
       "      <th>HOUR_APPR_PROCESS_START</th>\n",
       "      <th>REG_REGION_NOT_LIVE_REGION</th>\n",
       "      <th>REG_REGION_NOT_WORK_REGION</th>\n",
       "      <th>LIVE_REGION_NOT_WORK_REGION</th>\n",
       "      <th>REG_CITY_NOT_LIVE_CITY</th>\n",
       "      <th>REG_CITY_NOT_WORK_CITY</th>\n",
       "      <th>LIVE_CITY_NOT_WORK_CITY</th>\n",
       "      <th>EXT_SOURCE_1</th>\n",
       "      <th>EXT_SOURCE_2</th>\n",
       "      <th>EXT_SOURCE_3</th>\n",
       "      <th>APARTMENTS_AVG</th>\n",
       "      <th>BASEMENTAREA_AVG</th>\n",
       "      <th>YEARS_BEGINEXPLUATATION_AVG</th>\n",
       "      <th>ELEVATORS_AVG</th>\n",
       "      <th>ENTRANCES_AVG</th>\n",
       "      <th>FLOORSMAX_AVG</th>\n",
       "      <th>LANDAREA_AVG</th>\n",
       "      <th>LIVINGAREA_AVG</th>\n",
       "      <th>NONLIVINGAREA_AVG</th>\n",
       "      <th>...</th>\n",
       "      <th>ORGANIZATION_TYPE_Police</th>\n",
       "      <th>ORGANIZATION_TYPE_Postal</th>\n",
       "      <th>ORGANIZATION_TYPE_Realtor</th>\n",
       "      <th>ORGANIZATION_TYPE_Religion</th>\n",
       "      <th>ORGANIZATION_TYPE_Restaurant</th>\n",
       "      <th>ORGANIZATION_TYPE_School</th>\n",
       "      <th>ORGANIZATION_TYPE_Security</th>\n",
       "      <th>ORGANIZATION_TYPE_Security Ministries</th>\n",
       "      <th>ORGANIZATION_TYPE_Self-employed</th>\n",
       "      <th>ORGANIZATION_TYPE_Services</th>\n",
       "      <th>ORGANIZATION_TYPE_Telecom</th>\n",
       "      <th>ORGANIZATION_TYPE_Trade: type 1</th>\n",
       "      <th>ORGANIZATION_TYPE_Trade: type 2</th>\n",
       "      <th>ORGANIZATION_TYPE_Trade: type 3</th>\n",
       "      <th>ORGANIZATION_TYPE_Trade: type 4</th>\n",
       "      <th>ORGANIZATION_TYPE_Trade: type 5</th>\n",
       "      <th>ORGANIZATION_TYPE_Trade: type 6</th>\n",
       "      <th>ORGANIZATION_TYPE_Trade: type 7</th>\n",
       "      <th>ORGANIZATION_TYPE_Transport: type 1</th>\n",
       "      <th>ORGANIZATION_TYPE_Transport: type 2</th>\n",
       "      <th>ORGANIZATION_TYPE_Transport: type 3</th>\n",
       "      <th>ORGANIZATION_TYPE_Transport: type 4</th>\n",
       "      <th>ORGANIZATION_TYPE_University</th>\n",
       "      <th>ORGANIZATION_TYPE_XNA</th>\n",
       "      <th>FONDKAPREMONT_MODE_not specified</th>\n",
       "      <th>FONDKAPREMONT_MODE_org spec account</th>\n",
       "      <th>FONDKAPREMONT_MODE_reg oper account</th>\n",
       "      <th>FONDKAPREMONT_MODE_reg oper spec account</th>\n",
       "      <th>HOUSETYPE_MODE_block of flats</th>\n",
       "      <th>HOUSETYPE_MODE_specific housing</th>\n",
       "      <th>HOUSETYPE_MODE_terraced house</th>\n",
       "      <th>WALLSMATERIAL_MODE_Block</th>\n",
       "      <th>WALLSMATERIAL_MODE_Mixed</th>\n",
       "      <th>WALLSMATERIAL_MODE_Monolithic</th>\n",
       "      <th>WALLSMATERIAL_MODE_Others</th>\n",
       "      <th>WALLSMATERIAL_MODE_Panel</th>\n",
       "      <th>WALLSMATERIAL_MODE_Stone, brick</th>\n",
       "      <th>WALLSMATERIAL_MODE_Wooden</th>\n",
       "      <th>EMERGENCYSTATE_MODE_No</th>\n",
       "      <th>EMERGENCYSTATE_MODE_Yes</th>\n",
       "    </tr>\n",
       "  </thead>\n",
       "  <tbody>\n",
       "    <tr>\n",
       "      <th>TARGET</th>\n",
       "      <td>1.000000</td>\n",
       "      <td>-0.002108</td>\n",
       "      <td>0.019187</td>\n",
       "      <td>-0.003982</td>\n",
       "      <td>-0.030369</td>\n",
       "      <td>-0.012817</td>\n",
       "      <td>-0.039628</td>\n",
       "      <td>-0.037227</td>\n",
       "      <td>0.078239</td>\n",
       "      <td>-0.044932</td>\n",
       "      <td>0.041975</td>\n",
       "      <td>0.051457</td>\n",
       "      <td>0.000534</td>\n",
       "      <td>0.045982</td>\n",
       "      <td>0.028524</td>\n",
       "      <td>0.000370</td>\n",
       "      <td>-0.023806</td>\n",
       "      <td>-0.001758</td>\n",
       "      <td>0.009308</td>\n",
       "      <td>0.058899</td>\n",
       "      <td>0.060893</td>\n",
       "      <td>-0.024166</td>\n",
       "      <td>0.005576</td>\n",
       "      <td>0.006942</td>\n",
       "      <td>0.002819</td>\n",
       "      <td>0.044395</td>\n",
       "      <td>0.050994</td>\n",
       "      <td>0.032518</td>\n",
       "      <td>-0.099163</td>\n",
       "      <td>-0.160303</td>\n",
       "      <td>-0.157473</td>\n",
       "      <td>-0.019151</td>\n",
       "      <td>-0.013541</td>\n",
       "      <td>-0.006444</td>\n",
       "      <td>-0.021553</td>\n",
       "      <td>-0.012528</td>\n",
       "      <td>-0.028936</td>\n",
       "      <td>-0.006452</td>\n",
       "      <td>-0.021630</td>\n",
       "      <td>-0.008390</td>\n",
       "      <td>...</td>\n",
       "      <td>-0.009886</td>\n",
       "      <td>0.001125</td>\n",
       "      <td>0.003339</td>\n",
       "      <td>-0.001337</td>\n",
       "      <td>0.010266</td>\n",
       "      <td>-0.013671</td>\n",
       "      <td>0.007226</td>\n",
       "      <td>-0.009470</td>\n",
       "      <td>0.029139</td>\n",
       "      <td>-0.003871</td>\n",
       "      <td>-0.000712</td>\n",
       "      <td>0.001032</td>\n",
       "      <td>-0.003105</td>\n",
       "      <td>0.008911</td>\n",
       "      <td>-0.002621</td>\n",
       "      <td>-0.000904</td>\n",
       "      <td>-0.005788</td>\n",
       "      <td>0.008170</td>\n",
       "      <td>-0.003375</td>\n",
       "      <td>-0.000839</td>\n",
       "      <td>0.017552</td>\n",
       "      <td>0.005929</td>\n",
       "      <td>-0.007672</td>\n",
       "      <td>-0.045987</td>\n",
       "      <td>-0.002667</td>\n",
       "      <td>-0.011285</td>\n",
       "      <td>-0.022587</td>\n",
       "      <td>-0.011257</td>\n",
       "      <td>-0.040594</td>\n",
       "      <td>0.005311</td>\n",
       "      <td>0.000982</td>\n",
       "      <td>-0.006777</td>\n",
       "      <td>-0.001713</td>\n",
       "      <td>-0.009384</td>\n",
       "      <td>0.000628</td>\n",
       "      <td>-0.033119</td>\n",
       "      <td>-0.012657</td>\n",
       "      <td>0.007946</td>\n",
       "      <td>-0.042201</td>\n",
       "      <td>0.004829</td>\n",
       "    </tr>\n",
       "    <tr>\n",
       "      <th>SK_ID_CURR</th>\n",
       "      <td>-0.002108</td>\n",
       "      <td>1.000000</td>\n",
       "      <td>-0.001129</td>\n",
       "      <td>-0.001820</td>\n",
       "      <td>-0.000343</td>\n",
       "      <td>-0.000433</td>\n",
       "      <td>-0.000235</td>\n",
       "      <td>0.000849</td>\n",
       "      <td>-0.001500</td>\n",
       "      <td>0.001366</td>\n",
       "      <td>-0.000973</td>\n",
       "      <td>-0.000384</td>\n",
       "      <td>0.002804</td>\n",
       "      <td>-0.001337</td>\n",
       "      <td>-0.000415</td>\n",
       "      <td>0.002815</td>\n",
       "      <td>0.002753</td>\n",
       "      <td>0.000281</td>\n",
       "      <td>-0.002895</td>\n",
       "      <td>-0.001075</td>\n",
       "      <td>-0.001138</td>\n",
       "      <td>0.000350</td>\n",
       "      <td>-0.000283</td>\n",
       "      <td>0.001097</td>\n",
       "      <td>0.002903</td>\n",
       "      <td>-0.001885</td>\n",
       "      <td>-0.001582</td>\n",
       "      <td>0.000067</td>\n",
       "      <td>0.000054</td>\n",
       "      <td>0.002339</td>\n",
       "      <td>0.000200</td>\n",
       "      <td>0.001086</td>\n",
       "      <td>-0.001338</td>\n",
       "      <td>0.001109</td>\n",
       "      <td>0.003319</td>\n",
       "      <td>-0.002033</td>\n",
       "      <td>0.003437</td>\n",
       "      <td>0.000934</td>\n",
       "      <td>0.001244</td>\n",
       "      <td>0.002038</td>\n",
       "      <td>...</td>\n",
       "      <td>0.001172</td>\n",
       "      <td>-0.003488</td>\n",
       "      <td>0.001141</td>\n",
       "      <td>0.000143</td>\n",
       "      <td>0.000115</td>\n",
       "      <td>-0.001418</td>\n",
       "      <td>-0.002631</td>\n",
       "      <td>-0.003140</td>\n",
       "      <td>0.002820</td>\n",
       "      <td>-0.003127</td>\n",
       "      <td>-0.001047</td>\n",
       "      <td>-0.002770</td>\n",
       "      <td>-0.000435</td>\n",
       "      <td>0.002994</td>\n",
       "      <td>0.002342</td>\n",
       "      <td>-0.000148</td>\n",
       "      <td>0.000408</td>\n",
       "      <td>0.003103</td>\n",
       "      <td>-0.000891</td>\n",
       "      <td>-0.002568</td>\n",
       "      <td>-0.000669</td>\n",
       "      <td>0.002658</td>\n",
       "      <td>-0.000496</td>\n",
       "      <td>0.001368</td>\n",
       "      <td>0.000430</td>\n",
       "      <td>0.000590</td>\n",
       "      <td>-0.000892</td>\n",
       "      <td>0.000749</td>\n",
       "      <td>0.001254</td>\n",
       "      <td>0.001344</td>\n",
       "      <td>0.000553</td>\n",
       "      <td>0.002073</td>\n",
       "      <td>-0.000976</td>\n",
       "      <td>0.000072</td>\n",
       "      <td>-0.001396</td>\n",
       "      <td>0.002300</td>\n",
       "      <td>-0.001281</td>\n",
       "      <td>-0.000270</td>\n",
       "      <td>0.000510</td>\n",
       "      <td>0.002549</td>\n",
       "    </tr>\n",
       "    <tr>\n",
       "      <th>CNT_CHILDREN</th>\n",
       "      <td>0.019187</td>\n",
       "      <td>-0.001129</td>\n",
       "      <td>1.000000</td>\n",
       "      <td>0.012882</td>\n",
       "      <td>0.002145</td>\n",
       "      <td>0.021373</td>\n",
       "      <td>-0.001830</td>\n",
       "      <td>-0.025573</td>\n",
       "      <td>0.330938</td>\n",
       "      <td>-0.239818</td>\n",
       "      <td>0.183395</td>\n",
       "      <td>-0.028019</td>\n",
       "      <td>0.001041</td>\n",
       "      <td>0.240714</td>\n",
       "      <td>0.055630</td>\n",
       "      <td>-0.000794</td>\n",
       "      <td>-0.029906</td>\n",
       "      <td>0.022619</td>\n",
       "      <td>0.879160</td>\n",
       "      <td>0.025423</td>\n",
       "      <td>0.024781</td>\n",
       "      <td>-0.007292</td>\n",
       "      <td>-0.013319</td>\n",
       "      <td>0.008185</td>\n",
       "      <td>0.014835</td>\n",
       "      <td>0.020072</td>\n",
       "      <td>0.070650</td>\n",
       "      <td>0.069957</td>\n",
       "      <td>-0.096778</td>\n",
       "      <td>-0.017996</td>\n",
       "      <td>-0.038414</td>\n",
       "      <td>-0.008583</td>\n",
       "      <td>-0.005073</td>\n",
       "      <td>0.004739</td>\n",
       "      <td>-0.004352</td>\n",
       "      <td>-0.005466</td>\n",
       "      <td>-0.006295</td>\n",
       "      <td>-0.001844</td>\n",
       "      <td>-0.006583</td>\n",
       "      <td>0.000072</td>\n",
       "      <td>...</td>\n",
       "      <td>0.025215</td>\n",
       "      <td>0.014322</td>\n",
       "      <td>0.003246</td>\n",
       "      <td>0.007463</td>\n",
       "      <td>0.005339</td>\n",
       "      <td>0.023007</td>\n",
       "      <td>0.000918</td>\n",
       "      <td>0.019777</td>\n",
       "      <td>0.048030</td>\n",
       "      <td>0.008463</td>\n",
       "      <td>0.000870</td>\n",
       "      <td>0.001723</td>\n",
       "      <td>-0.005942</td>\n",
       "      <td>0.014946</td>\n",
       "      <td>0.002594</td>\n",
       "      <td>-0.001939</td>\n",
       "      <td>0.001178</td>\n",
       "      <td>0.018897</td>\n",
       "      <td>0.001264</td>\n",
       "      <td>0.021024</td>\n",
       "      <td>0.004209</td>\n",
       "      <td>0.011959</td>\n",
       "      <td>-0.000854</td>\n",
       "      <td>-0.240722</td>\n",
       "      <td>0.002147</td>\n",
       "      <td>-0.002805</td>\n",
       "      <td>-0.023784</td>\n",
       "      <td>-0.004729</td>\n",
       "      <td>-0.036400</td>\n",
       "      <td>-0.001821</td>\n",
       "      <td>-0.001830</td>\n",
       "      <td>-0.005272</td>\n",
       "      <td>-0.000709</td>\n",
       "      <td>0.001607</td>\n",
       "      <td>-0.002032</td>\n",
       "      <td>-0.020892</td>\n",
       "      <td>-0.025088</td>\n",
       "      <td>0.011036</td>\n",
       "      <td>-0.038644</td>\n",
       "      <td>0.004525</td>\n",
       "    </tr>\n",
       "    <tr>\n",
       "      <th>AMT_INCOME_TOTAL</th>\n",
       "      <td>-0.003982</td>\n",
       "      <td>-0.001820</td>\n",
       "      <td>0.012882</td>\n",
       "      <td>1.000000</td>\n",
       "      <td>0.156870</td>\n",
       "      <td>0.191657</td>\n",
       "      <td>0.159604</td>\n",
       "      <td>0.074796</td>\n",
       "      <td>0.027261</td>\n",
       "      <td>-0.064223</td>\n",
       "      <td>0.027805</td>\n",
       "      <td>0.008506</td>\n",
       "      <td>0.000325</td>\n",
       "      <td>0.063994</td>\n",
       "      <td>-0.017193</td>\n",
       "      <td>-0.008290</td>\n",
       "      <td>0.000159</td>\n",
       "      <td>0.038378</td>\n",
       "      <td>0.016342</td>\n",
       "      <td>-0.085465</td>\n",
       "      <td>-0.091735</td>\n",
       "      <td>0.036459</td>\n",
       "      <td>0.031191</td>\n",
       "      <td>0.062340</td>\n",
       "      <td>0.058059</td>\n",
       "      <td>0.003574</td>\n",
       "      <td>0.006431</td>\n",
       "      <td>0.008285</td>\n",
       "      <td>0.024823</td>\n",
       "      <td>0.060917</td>\n",
       "      <td>-0.029194</td>\n",
       "      <td>0.032324</td>\n",
       "      <td>0.016106</td>\n",
       "      <td>0.005258</td>\n",
       "      <td>0.042173</td>\n",
       "      <td>0.004989</td>\n",
       "      <td>0.056564</td>\n",
       "      <td>-0.001540</td>\n",
       "      <td>0.037522</td>\n",
       "      <td>0.022793</td>\n",
       "      <td>...</td>\n",
       "      <td>0.014497</td>\n",
       "      <td>-0.012812</td>\n",
       "      <td>0.008201</td>\n",
       "      <td>0.000414</td>\n",
       "      <td>-0.003439</td>\n",
       "      <td>-0.009917</td>\n",
       "      <td>-0.000877</td>\n",
       "      <td>0.011856</td>\n",
       "      <td>-0.002160</td>\n",
       "      <td>0.005332</td>\n",
       "      <td>0.001391</td>\n",
       "      <td>-0.000485</td>\n",
       "      <td>0.007287</td>\n",
       "      <td>-0.003759</td>\n",
       "      <td>0.001359</td>\n",
       "      <td>0.000687</td>\n",
       "      <td>0.002131</td>\n",
       "      <td>-0.000840</td>\n",
       "      <td>0.002208</td>\n",
       "      <td>0.002380</td>\n",
       "      <td>0.001778</td>\n",
       "      <td>0.012323</td>\n",
       "      <td>0.005098</td>\n",
       "      <td>-0.064038</td>\n",
       "      <td>0.007965</td>\n",
       "      <td>0.014113</td>\n",
       "      <td>0.032194</td>\n",
       "      <td>0.007408</td>\n",
       "      <td>0.049553</td>\n",
       "      <td>-0.001914</td>\n",
       "      <td>0.000718</td>\n",
       "      <td>0.011696</td>\n",
       "      <td>0.006149</td>\n",
       "      <td>0.023886</td>\n",
       "      <td>0.003886</td>\n",
       "      <td>0.032753</td>\n",
       "      <td>0.016523</td>\n",
       "      <td>-0.003369</td>\n",
       "      <td>0.050174</td>\n",
       "      <td>-0.002894</td>\n",
       "    </tr>\n",
       "    <tr>\n",
       "      <th>AMT_CREDIT</th>\n",
       "      <td>-0.030369</td>\n",
       "      <td>-0.000343</td>\n",
       "      <td>0.002145</td>\n",
       "      <td>0.156870</td>\n",
       "      <td>1.000000</td>\n",
       "      <td>0.770127</td>\n",
       "      <td>0.986608</td>\n",
       "      <td>0.099738</td>\n",
       "      <td>-0.055436</td>\n",
       "      <td>-0.066838</td>\n",
       "      <td>0.009621</td>\n",
       "      <td>-0.006575</td>\n",
       "      <td>0.001436</td>\n",
       "      <td>0.065519</td>\n",
       "      <td>-0.021085</td>\n",
       "      <td>0.023653</td>\n",
       "      <td>0.026213</td>\n",
       "      <td>0.016632</td>\n",
       "      <td>0.063160</td>\n",
       "      <td>-0.101776</td>\n",
       "      <td>-0.110915</td>\n",
       "      <td>0.052738</td>\n",
       "      <td>0.024010</td>\n",
       "      <td>0.051929</td>\n",
       "      <td>0.052609</td>\n",
       "      <td>-0.026886</td>\n",
       "      <td>-0.018856</td>\n",
       "      <td>0.000081</td>\n",
       "      <td>0.114494</td>\n",
       "      <td>0.131127</td>\n",
       "      <td>0.039335</td>\n",
       "      <td>0.044017</td>\n",
       "      <td>0.026437</td>\n",
       "      <td>0.004558</td>\n",
       "      <td>0.057396</td>\n",
       "      <td>0.010870</td>\n",
       "      <td>0.076114</td>\n",
       "      <td>0.004091</td>\n",
       "      <td>0.052817</td>\n",
       "      <td>0.026502</td>\n",
       "      <td>...</td>\n",
       "      <td>0.020268</td>\n",
       "      <td>-0.011871</td>\n",
       "      <td>0.011480</td>\n",
       "      <td>0.000236</td>\n",
       "      <td>-0.010779</td>\n",
       "      <td>0.008846</td>\n",
       "      <td>-0.003964</td>\n",
       "      <td>0.014016</td>\n",
       "      <td>-0.009372</td>\n",
       "      <td>0.006565</td>\n",
       "      <td>0.002488</td>\n",
       "      <td>-0.002245</td>\n",
       "      <td>-0.004799</td>\n",
       "      <td>-0.006185</td>\n",
       "      <td>0.000726</td>\n",
       "      <td>-0.000730</td>\n",
       "      <td>0.003274</td>\n",
       "      <td>0.002053</td>\n",
       "      <td>0.002425</td>\n",
       "      <td>0.000133</td>\n",
       "      <td>-0.009990</td>\n",
       "      <td>0.012154</td>\n",
       "      <td>0.017552</td>\n",
       "      <td>-0.065594</td>\n",
       "      <td>0.013042</td>\n",
       "      <td>0.014612</td>\n",
       "      <td>0.038970</td>\n",
       "      <td>0.010187</td>\n",
       "      <td>0.057524</td>\n",
       "      <td>-0.005219</td>\n",
       "      <td>0.000869</td>\n",
       "      <td>0.014314</td>\n",
       "      <td>0.007987</td>\n",
       "      <td>0.027255</td>\n",
       "      <td>0.005799</td>\n",
       "      <td>0.046644</td>\n",
       "      <td>0.009756</td>\n",
       "      <td>-0.007373</td>\n",
       "      <td>0.058256</td>\n",
       "      <td>-0.004308</td>\n",
       "    </tr>\n",
       "  </tbody>\n",
       "</table>\n",
       "<p>5 rows × 230 columns</p>\n",
       "</div>"
      ],
      "text/plain": [
       "                    TARGET  ...  EMERGENCYSTATE_MODE_Yes\n",
       "TARGET            1.000000  ...                 0.004829\n",
       "SK_ID_CURR       -0.002108  ...                 0.002549\n",
       "CNT_CHILDREN      0.019187  ...                 0.004525\n",
       "AMT_INCOME_TOTAL -0.003982  ...                -0.002894\n",
       "AMT_CREDIT       -0.030369  ...                -0.004308\n",
       "\n",
       "[5 rows x 230 columns]"
      ]
     },
     "execution_count": 21,
     "metadata": {
      "tags": []
     },
     "output_type": "execute_result"
    }
   ],
   "source": [
    "df_train_prepro_corr = df_train_prepro.corr()\n",
    "df_train_prepro_corr.head()"
   ]
  },
  {
   "cell_type": "markdown",
   "metadata": {
    "colab_type": "text",
    "id": "3p4Z1VMrvCm2"
   },
   "source": [
    "### TARGET列を表示"
   ]
  },
  {
   "cell_type": "code",
   "execution_count": 22,
   "metadata": {
    "colab": {
     "base_uri": "https://localhost:8080/",
     "height": 119
    },
    "colab_type": "code",
    "executionInfo": {
     "elapsed": 45847,
     "status": "ok",
     "timestamp": 1563347119631,
     "user": {
      "displayName": "新田町隆弘",
      "photoUrl": "https://lh5.googleusercontent.com/-DMDhNyXnHcY/AAAAAAAAAAI/AAAAAAAAACE/-rft9f3g5RM/s64/photo.jpg",
      "userId": "03465577674172853809"
     },
     "user_tz": -540
    },
    "id": "iDVqbaykvCm3",
    "outputId": "abc2a43b-6d86-4f64-c309-e5254c2aec66"
   },
   "outputs": [
    {
     "data": {
      "text/plain": [
       "TARGET              1.000000\n",
       "SK_ID_CURR         -0.002108\n",
       "CNT_CHILDREN        0.019187\n",
       "AMT_INCOME_TOTAL   -0.003982\n",
       "AMT_CREDIT         -0.030369\n",
       "Name: TARGET, dtype: float64"
      ]
     },
     "execution_count": 22,
     "metadata": {
      "tags": []
     },
     "output_type": "execute_result"
    }
   ],
   "source": [
    "df_train_prepro_corr['TARGET'][:5:]"
   ]
  },
  {
   "cell_type": "markdown",
   "metadata": {
    "colab_type": "text",
    "id": "xOEpKqU1vCm5"
   },
   "source": [
    "### TARGET列からTARGET行、SK_ID_CURR行を削除\n",
    "- 特徴量として使用できない為"
   ]
  },
  {
   "cell_type": "code",
   "execution_count": 23,
   "metadata": {
    "colab": {
     "base_uri": "https://localhost:8080/",
     "height": 119
    },
    "colab_type": "code",
    "executionInfo": {
     "elapsed": 45842,
     "status": "ok",
     "timestamp": 1563347119632,
     "user": {
      "displayName": "新田町隆弘",
      "photoUrl": "https://lh5.googleusercontent.com/-DMDhNyXnHcY/AAAAAAAAAAI/AAAAAAAAACE/-rft9f3g5RM/s64/photo.jpg",
      "userId": "03465577674172853809"
     },
     "user_tz": -540
    },
    "id": "yn7hajOfvCm6",
    "outputId": "4eb35992-e824-4174-e6bc-6336b295cb92"
   },
   "outputs": [
    {
     "data": {
      "text/plain": [
       "CNT_CHILDREN        0.019187\n",
       "AMT_INCOME_TOTAL   -0.003982\n",
       "AMT_CREDIT         -0.030369\n",
       "AMT_ANNUITY        -0.012817\n",
       "AMT_GOODS_PRICE    -0.039628\n",
       "Name: TARGET, dtype: float64"
      ]
     },
     "execution_count": 23,
     "metadata": {
      "tags": []
     },
     "output_type": "execute_result"
    }
   ],
   "source": [
    "df_train_prepro_corr_target = df_train_prepro_corr.loc[:,'TARGET'].drop(['TARGET', 'SK_ID_CURR'])\n",
    "df_train_prepro_corr_target.head()"
   ]
  },
  {
   "cell_type": "markdown",
   "metadata": {
    "colab_type": "text",
    "id": "oPygzRn4vCm9"
   },
   "source": [
    "### absメソッドにて絶対値とし、その状態でsort_valuesメソッドで降順にソートする"
   ]
  },
  {
   "cell_type": "code",
   "execution_count": 24,
   "metadata": {
    "colab": {
     "base_uri": "https://localhost:8080/",
     "height": 119
    },
    "colab_type": "code",
    "executionInfo": {
     "elapsed": 45836,
     "status": "ok",
     "timestamp": 1563347119633,
     "user": {
      "displayName": "新田町隆弘",
      "photoUrl": "https://lh5.googleusercontent.com/-DMDhNyXnHcY/AAAAAAAAAAI/AAAAAAAAACE/-rft9f3g5RM/s64/photo.jpg",
      "userId": "03465577674172853809"
     },
     "user_tz": -540
    },
    "id": "T-3knGnbvCm9",
    "outputId": "ae49d296-1c92-43ca-c912-1e558f6a08ec"
   },
   "outputs": [
    {
     "data": {
      "text/plain": [
       "EXT_SOURCE_2                   0.160303\n",
       "EXT_SOURCE_3                   0.157473\n",
       "EXT_SOURCE_1                   0.099163\n",
       "DAYS_BIRTH                     0.078239\n",
       "REGION_RATING_CLIENT_W_CITY    0.060893\n",
       "Name: TARGET, dtype: float64"
      ]
     },
     "execution_count": 24,
     "metadata": {
      "tags": []
     },
     "output_type": "execute_result"
    }
   ],
   "source": [
    "train_feature_corr_target_sort = df_train_prepro_corr_target.abs().sort_values(ascending = False) \n",
    "train_feature_corr_target_sort.head()"
   ]
  },
  {
   "cell_type": "markdown",
   "metadata": {
    "colab_type": "text",
    "id": "YDMpOlZCvCnB"
   },
   "source": [
    "### 上位10個の特徴量名を格納"
   ]
  },
  {
   "cell_type": "code",
   "execution_count": 25,
   "metadata": {
    "colab": {
     "base_uri": "https://localhost:8080/",
     "height": 102
    },
    "colab_type": "code",
    "executionInfo": {
     "elapsed": 45830,
     "status": "ok",
     "timestamp": 1563347119633,
     "user": {
      "displayName": "新田町隆弘",
      "photoUrl": "https://lh5.googleusercontent.com/-DMDhNyXnHcY/AAAAAAAAAAI/AAAAAAAAACE/-rft9f3g5RM/s64/photo.jpg",
      "userId": "03465577674172853809"
     },
     "user_tz": -540
    },
    "id": "qDxlKuBHvCnB",
    "outputId": "92e6e040-f91c-4f88-8b2b-bcecd9cef094"
   },
   "outputs": [
    {
     "data": {
      "text/plain": [
       "Index(['EXT_SOURCE_2', 'EXT_SOURCE_3', 'EXT_SOURCE_1', 'DAYS_BIRTH',\n",
       "       'REGION_RATING_CLIENT_W_CITY', 'REGION_RATING_CLIENT',\n",
       "       'NAME_INCOME_TYPE_Working', 'NAME_EDUCATION_TYPE_Higher education',\n",
       "       'DAYS_LAST_PHONE_CHANGE', 'CODE_GENDER_M'],\n",
       "      dtype='object')"
      ]
     },
     "execution_count": 25,
     "metadata": {
      "tags": []
     },
     "output_type": "execute_result"
    }
   ],
   "source": [
    "train_top10_index = train_feature_corr_target_sort[:10].index\n",
    "train_top10_index"
   ]
  },
  {
   "cell_type": "markdown",
   "metadata": {
    "colab_type": "text",
    "id": "kMayivZFvCnD"
   },
   "source": [
    "### 前処理３：上位10個の特徴量を抽出"
   ]
  },
  {
   "cell_type": "code",
   "execution_count": 26,
   "metadata": {
    "colab": {
     "base_uri": "https://localhost:8080/",
     "height": 241
    },
    "colab_type": "code",
    "executionInfo": {
     "elapsed": 45825,
     "status": "ok",
     "timestamp": 1563347119634,
     "user": {
      "displayName": "新田町隆弘",
      "photoUrl": "https://lh5.googleusercontent.com/-DMDhNyXnHcY/AAAAAAAAAAI/AAAAAAAAACE/-rft9f3g5RM/s64/photo.jpg",
      "userId": "03465577674172853809"
     },
     "user_tz": -540
    },
    "id": "wqm-IE6kvCnD",
    "outputId": "75a4ed1b-bfbf-4d0f-d15d-b338c1dc9ffe"
   },
   "outputs": [
    {
     "data": {
      "text/html": [
       "<div>\n",
       "<style scoped>\n",
       "    .dataframe tbody tr th:only-of-type {\n",
       "        vertical-align: middle;\n",
       "    }\n",
       "\n",
       "    .dataframe tbody tr th {\n",
       "        vertical-align: top;\n",
       "    }\n",
       "\n",
       "    .dataframe thead th {\n",
       "        text-align: right;\n",
       "    }\n",
       "</style>\n",
       "<table border=\"1\" class=\"dataframe\">\n",
       "  <thead>\n",
       "    <tr style=\"text-align: right;\">\n",
       "      <th></th>\n",
       "      <th>EXT_SOURCE_2</th>\n",
       "      <th>EXT_SOURCE_3</th>\n",
       "      <th>EXT_SOURCE_1</th>\n",
       "      <th>DAYS_BIRTH</th>\n",
       "      <th>REGION_RATING_CLIENT_W_CITY</th>\n",
       "      <th>REGION_RATING_CLIENT</th>\n",
       "      <th>NAME_INCOME_TYPE_Working</th>\n",
       "      <th>NAME_EDUCATION_TYPE_Higher education</th>\n",
       "      <th>DAYS_LAST_PHONE_CHANGE</th>\n",
       "      <th>CODE_GENDER_M</th>\n",
       "    </tr>\n",
       "  </thead>\n",
       "  <tbody>\n",
       "    <tr>\n",
       "      <th>0</th>\n",
       "      <td>0.262949</td>\n",
       "      <td>0.139376</td>\n",
       "      <td>0.083037</td>\n",
       "      <td>-9461</td>\n",
       "      <td>2</td>\n",
       "      <td>2</td>\n",
       "      <td>1</td>\n",
       "      <td>0</td>\n",
       "      <td>-1134.0</td>\n",
       "      <td>1</td>\n",
       "    </tr>\n",
       "    <tr>\n",
       "      <th>1</th>\n",
       "      <td>0.622246</td>\n",
       "      <td>0.509350</td>\n",
       "      <td>0.311267</td>\n",
       "      <td>-16765</td>\n",
       "      <td>1</td>\n",
       "      <td>1</td>\n",
       "      <td>0</td>\n",
       "      <td>1</td>\n",
       "      <td>-828.0</td>\n",
       "      <td>0</td>\n",
       "    </tr>\n",
       "    <tr>\n",
       "      <th>2</th>\n",
       "      <td>0.555912</td>\n",
       "      <td>0.729567</td>\n",
       "      <td>0.501965</td>\n",
       "      <td>-19046</td>\n",
       "      <td>2</td>\n",
       "      <td>2</td>\n",
       "      <td>1</td>\n",
       "      <td>0</td>\n",
       "      <td>-815.0</td>\n",
       "      <td>1</td>\n",
       "    </tr>\n",
       "    <tr>\n",
       "      <th>3</th>\n",
       "      <td>0.650442</td>\n",
       "      <td>0.509350</td>\n",
       "      <td>0.501965</td>\n",
       "      <td>-19005</td>\n",
       "      <td>2</td>\n",
       "      <td>2</td>\n",
       "      <td>1</td>\n",
       "      <td>0</td>\n",
       "      <td>-617.0</td>\n",
       "      <td>0</td>\n",
       "    </tr>\n",
       "    <tr>\n",
       "      <th>4</th>\n",
       "      <td>0.322738</td>\n",
       "      <td>0.509350</td>\n",
       "      <td>0.501965</td>\n",
       "      <td>-19932</td>\n",
       "      <td>2</td>\n",
       "      <td>2</td>\n",
       "      <td>1</td>\n",
       "      <td>0</td>\n",
       "      <td>-1106.0</td>\n",
       "      <td>1</td>\n",
       "    </tr>\n",
       "  </tbody>\n",
       "</table>\n",
       "</div>"
      ],
      "text/plain": [
       "   EXT_SOURCE_2  EXT_SOURCE_3  ...  DAYS_LAST_PHONE_CHANGE  CODE_GENDER_M\n",
       "0      0.262949      0.139376  ...                 -1134.0              1\n",
       "1      0.622246      0.509350  ...                  -828.0              0\n",
       "2      0.555912      0.729567  ...                  -815.0              1\n",
       "3      0.650442      0.509350  ...                  -617.0              0\n",
       "4      0.322738      0.509350  ...                 -1106.0              1\n",
       "\n",
       "[5 rows x 10 columns]"
      ]
     },
     "execution_count": 26,
     "metadata": {
      "tags": []
     },
     "output_type": "execute_result"
    }
   ],
   "source": [
    "df_train_prepro2 = df_train_prepro.loc[:,train_top10_index]\n",
    "df_train_prepro2.head()"
   ]
  },
  {
   "cell_type": "code",
   "execution_count": 27,
   "metadata": {
    "colab": {
     "base_uri": "https://localhost:8080/",
     "height": 241
    },
    "colab_type": "code",
    "executionInfo": {
     "elapsed": 45820,
     "status": "ok",
     "timestamp": 1563347119635,
     "user": {
      "displayName": "新田町隆弘",
      "photoUrl": "https://lh5.googleusercontent.com/-DMDhNyXnHcY/AAAAAAAAAAI/AAAAAAAAACE/-rft9f3g5RM/s64/photo.jpg",
      "userId": "03465577674172853809"
     },
     "user_tz": -540
    },
    "id": "jHYleDMEvCnF",
    "outputId": "9cad4c37-d08e-4b9b-ba57-5f799a32f06e"
   },
   "outputs": [
    {
     "data": {
      "text/html": [
       "<div>\n",
       "<style scoped>\n",
       "    .dataframe tbody tr th:only-of-type {\n",
       "        vertical-align: middle;\n",
       "    }\n",
       "\n",
       "    .dataframe tbody tr th {\n",
       "        vertical-align: top;\n",
       "    }\n",
       "\n",
       "    .dataframe thead th {\n",
       "        text-align: right;\n",
       "    }\n",
       "</style>\n",
       "<table border=\"1\" class=\"dataframe\">\n",
       "  <thead>\n",
       "    <tr style=\"text-align: right;\">\n",
       "      <th></th>\n",
       "      <th>EXT_SOURCE_2</th>\n",
       "      <th>EXT_SOURCE_3</th>\n",
       "      <th>EXT_SOURCE_1</th>\n",
       "      <th>DAYS_BIRTH</th>\n",
       "      <th>REGION_RATING_CLIENT_W_CITY</th>\n",
       "      <th>REGION_RATING_CLIENT</th>\n",
       "      <th>NAME_INCOME_TYPE_Working</th>\n",
       "      <th>NAME_EDUCATION_TYPE_Higher education</th>\n",
       "      <th>DAYS_LAST_PHONE_CHANGE</th>\n",
       "      <th>CODE_GENDER_M</th>\n",
       "    </tr>\n",
       "  </thead>\n",
       "  <tbody>\n",
       "    <tr>\n",
       "      <th>0</th>\n",
       "      <td>0.789654</td>\n",
       "      <td>0.159520</td>\n",
       "      <td>0.752614</td>\n",
       "      <td>-19241</td>\n",
       "      <td>2</td>\n",
       "      <td>2</td>\n",
       "      <td>1</td>\n",
       "      <td>1</td>\n",
       "      <td>-1740.0</td>\n",
       "      <td>0</td>\n",
       "    </tr>\n",
       "    <tr>\n",
       "      <th>1</th>\n",
       "      <td>0.291656</td>\n",
       "      <td>0.432962</td>\n",
       "      <td>0.564990</td>\n",
       "      <td>-18064</td>\n",
       "      <td>2</td>\n",
       "      <td>2</td>\n",
       "      <td>1</td>\n",
       "      <td>0</td>\n",
       "      <td>0.0</td>\n",
       "      <td>1</td>\n",
       "    </tr>\n",
       "    <tr>\n",
       "      <th>2</th>\n",
       "      <td>0.699787</td>\n",
       "      <td>0.610991</td>\n",
       "      <td>0.501965</td>\n",
       "      <td>-20038</td>\n",
       "      <td>2</td>\n",
       "      <td>2</td>\n",
       "      <td>1</td>\n",
       "      <td>1</td>\n",
       "      <td>-856.0</td>\n",
       "      <td>1</td>\n",
       "    </tr>\n",
       "    <tr>\n",
       "      <th>3</th>\n",
       "      <td>0.509677</td>\n",
       "      <td>0.612704</td>\n",
       "      <td>0.525734</td>\n",
       "      <td>-13976</td>\n",
       "      <td>2</td>\n",
       "      <td>2</td>\n",
       "      <td>1</td>\n",
       "      <td>0</td>\n",
       "      <td>-1805.0</td>\n",
       "      <td>0</td>\n",
       "    </tr>\n",
       "    <tr>\n",
       "      <th>4</th>\n",
       "      <td>0.425687</td>\n",
       "      <td>0.509350</td>\n",
       "      <td>0.202145</td>\n",
       "      <td>-13040</td>\n",
       "      <td>2</td>\n",
       "      <td>2</td>\n",
       "      <td>1</td>\n",
       "      <td>0</td>\n",
       "      <td>-821.0</td>\n",
       "      <td>1</td>\n",
       "    </tr>\n",
       "  </tbody>\n",
       "</table>\n",
       "</div>"
      ],
      "text/plain": [
       "   EXT_SOURCE_2  EXT_SOURCE_3  ...  DAYS_LAST_PHONE_CHANGE  CODE_GENDER_M\n",
       "0      0.789654      0.159520  ...                 -1740.0              0\n",
       "1      0.291656      0.432962  ...                     0.0              1\n",
       "2      0.699787      0.610991  ...                  -856.0              1\n",
       "3      0.509677      0.612704  ...                 -1805.0              0\n",
       "4      0.425687      0.509350  ...                  -821.0              1\n",
       "\n",
       "[5 rows x 10 columns]"
      ]
     },
     "execution_count": 27,
     "metadata": {
      "tags": []
     },
     "output_type": "execute_result"
    }
   ],
   "source": [
    "df_test_prepro2 = df_test_prepro.loc[:,train_top10_index]\n",
    "df_test_prepro2.head()"
   ]
  },
  {
   "cell_type": "markdown",
   "metadata": {
    "colab_type": "text",
    "id": "wbIfM_VevCnH"
   },
   "source": [
    "## 学習データと検証データに分割\n",
    "- 処理能力の関係で使用する行を制限する \n",
    "    - 307511行の内、先頭から10000行のみ使用する"
   ]
  },
  {
   "cell_type": "code",
   "execution_count": 28,
   "metadata": {
    "colab": {
     "base_uri": "https://localhost:8080/",
     "height": 34
    },
    "colab_type": "code",
    "executionInfo": {
     "elapsed": 45815,
     "status": "ok",
     "timestamp": 1563347119636,
     "user": {
      "displayName": "新田町隆弘",
      "photoUrl": "https://lh5.googleusercontent.com/-DMDhNyXnHcY/AAAAAAAAAAI/AAAAAAAAACE/-rft9f3g5RM/s64/photo.jpg",
      "userId": "03465577674172853809"
     },
     "user_tz": -540
    },
    "id": "Lzzz862ZvCnI",
    "outputId": "208b6ba4-213d-4207-d158-57539bc1db69"
   },
   "outputs": [
    {
     "data": {
      "text/plain": [
       "(307511, 10)"
      ]
     },
     "execution_count": 28,
     "metadata": {
      "tags": []
     },
     "output_type": "execute_result"
    }
   ],
   "source": [
    "df_train_prepro2.shape"
   ]
  },
  {
   "cell_type": "code",
   "execution_count": 0,
   "metadata": {
    "colab": {},
    "colab_type": "code",
    "id": "byWykGP1vCnJ"
   },
   "outputs": [],
   "source": [
    "X_train, X_test, y_train, y_test = train_test_split(df_train_prepro2[:1000], train_target[:1000])"
   ]
  },
  {
   "cell_type": "markdown",
   "metadata": {
    "colab_type": "text",
    "id": "wn7V2DHMvCnL"
   },
   "source": [
    "## ③クロスバリデーション"
   ]
  },
  {
   "cell_type": "markdown",
   "metadata": {
    "colab_type": "text",
    "id": "O2n-A-thvCnL"
   },
   "source": [
    "### KFoldクラスのインスタンスを作成"
   ]
  },
  {
   "cell_type": "code",
   "execution_count": 0,
   "metadata": {
    "colab": {},
    "colab_type": "code",
    "id": "g3hWpVnRvCnM"
   },
   "outputs": [],
   "source": [
    "kfold = KFold(n_splits=5)"
   ]
  },
  {
   "cell_type": "markdown",
   "metadata": {
    "colab_type": "text",
    "id": "suxscUujvCnN"
   },
   "source": [
    "### LogisticRegressionクラスのインスタンスを作成"
   ]
  },
  {
   "cell_type": "code",
   "execution_count": 0,
   "metadata": {
    "colab": {},
    "colab_type": "code",
    "id": "2obhLhoIvCnN"
   },
   "outputs": [],
   "source": [
    "rfc = RandomForestClassifier()"
   ]
  },
  {
   "cell_type": "code",
   "execution_count": 32,
   "metadata": {
    "colab": {
     "base_uri": "https://localhost:8080/",
     "height": 241
    },
    "colab_type": "code",
    "executionInfo": {
     "elapsed": 46079,
     "status": "ok",
     "timestamp": 1563347119928,
     "user": {
      "displayName": "新田町隆弘",
      "photoUrl": "https://lh5.googleusercontent.com/-DMDhNyXnHcY/AAAAAAAAAAI/AAAAAAAAACE/-rft9f3g5RM/s64/photo.jpg",
      "userId": "03465577674172853809"
     },
     "user_tz": -540
    },
    "id": "iMy9UUEXvCnP",
    "outputId": "b08d4f43-9c9f-4910-9d9a-0ac6ae77e33a"
   },
   "outputs": [
    {
     "name": "stdout",
     "output_type": "stream",
     "text": [
      "Cross-validation scores:\n",
      "[0.91333333 0.93333333 0.88666667 0.94666667 0.95333333]\n"
     ]
    },
    {
     "name": "stderr",
     "output_type": "stream",
     "text": [
      "/usr/local/lib/python3.6/dist-packages/sklearn/ensemble/forest.py:245: FutureWarning: The default value of n_estimators will change from 10 in version 0.20 to 100 in 0.22.\n",
      "  \"10 in version 0.20 to 100 in 0.22.\", FutureWarning)\n",
      "/usr/local/lib/python3.6/dist-packages/sklearn/ensemble/forest.py:245: FutureWarning: The default value of n_estimators will change from 10 in version 0.20 to 100 in 0.22.\n",
      "  \"10 in version 0.20 to 100 in 0.22.\", FutureWarning)\n",
      "/usr/local/lib/python3.6/dist-packages/sklearn/ensemble/forest.py:245: FutureWarning: The default value of n_estimators will change from 10 in version 0.20 to 100 in 0.22.\n",
      "  \"10 in version 0.20 to 100 in 0.22.\", FutureWarning)\n",
      "/usr/local/lib/python3.6/dist-packages/sklearn/ensemble/forest.py:245: FutureWarning: The default value of n_estimators will change from 10 in version 0.20 to 100 in 0.22.\n",
      "  \"10 in version 0.20 to 100 in 0.22.\", FutureWarning)\n",
      "/usr/local/lib/python3.6/dist-packages/sklearn/ensemble/forest.py:245: FutureWarning: The default value of n_estimators will change from 10 in version 0.20 to 100 in 0.22.\n",
      "  \"10 in version 0.20 to 100 in 0.22.\", FutureWarning)\n"
     ]
    }
   ],
   "source": [
    "print('Cross-validation scores:\\n{}'.format(\\\n",
    "                                           cross_val_score(rfc, X_train, y_train, cv=kfold)))"
   ]
  },
  {
   "cell_type": "code",
   "execution_count": 33,
   "metadata": {
    "colab": {
     "base_uri": "https://localhost:8080/",
     "height": 34
    },
    "colab_type": "code",
    "executionInfo": {
     "elapsed": 46074,
     "status": "ok",
     "timestamp": 1563347119930,
     "user": {
      "displayName": "新田町隆弘",
      "photoUrl": "https://lh5.googleusercontent.com/-DMDhNyXnHcY/AAAAAAAAAAI/AAAAAAAAACE/-rft9f3g5RM/s64/photo.jpg",
      "userId": "03465577674172853809"
     },
     "user_tz": -540
    },
    "id": "CoF7KT0dvCnR",
    "outputId": "6bed17f4-65d2-490a-8047-28170c75bc1a"
   },
   "outputs": [
    {
     "name": "stdout",
     "output_type": "stream",
     "text": [
      "平均スコア = 0.92\n"
     ]
    }
   ],
   "source": [
    "total = [0.91855096, 0.91837752, 0.9189195,  0.91987166, 0.9192863]\n",
    "print('平均スコア = {:.2f}'.format(sum(total) / len(total)))"
   ]
  },
  {
   "cell_type": "code",
   "execution_count": 34,
   "metadata": {
    "colab": {
     "base_uri": "https://localhost:8080/",
     "height": 190
    },
    "colab_type": "code",
    "executionInfo": {
     "elapsed": 46068,
     "status": "ok",
     "timestamp": 1563347119930,
     "user": {
      "displayName": "新田町隆弘",
      "photoUrl": "https://lh5.googleusercontent.com/-DMDhNyXnHcY/AAAAAAAAAAI/AAAAAAAAACE/-rft9f3g5RM/s64/photo.jpg",
      "userId": "03465577674172853809"
     },
     "user_tz": -540
    },
    "id": "18-skmhCvCnS",
    "outputId": "721852dc-1a7b-4153-fb1e-ff4bd5ee0a1f"
   },
   "outputs": [
    {
     "name": "stderr",
     "output_type": "stream",
     "text": [
      "/usr/local/lib/python3.6/dist-packages/sklearn/ensemble/forest.py:245: FutureWarning: The default value of n_estimators will change from 10 in version 0.20 to 100 in 0.22.\n",
      "  \"10 in version 0.20 to 100 in 0.22.\", FutureWarning)\n"
     ]
    },
    {
     "data": {
      "text/plain": [
       "RandomForestClassifier(bootstrap=True, class_weight=None, criterion='gini',\n",
       "                       max_depth=None, max_features='auto', max_leaf_nodes=None,\n",
       "                       min_impurity_decrease=0.0, min_impurity_split=None,\n",
       "                       min_samples_leaf=1, min_samples_split=2,\n",
       "                       min_weight_fraction_leaf=0.0, n_estimators=10,\n",
       "                       n_jobs=None, oob_score=False, random_state=None,\n",
       "                       verbose=0, warm_start=False)"
      ]
     },
     "execution_count": 34,
     "metadata": {
      "tags": []
     },
     "output_type": "execute_result"
    }
   ],
   "source": [
    "rfc.fit(X_train, y_train)"
   ]
  },
  {
   "cell_type": "markdown",
   "metadata": {
    "colab_type": "text",
    "id": "Xv5l0Ru7vCnU"
   },
   "source": [
    "### 検証データのスコア"
   ]
  },
  {
   "cell_type": "code",
   "execution_count": 35,
   "metadata": {
    "colab": {
     "base_uri": "https://localhost:8080/",
     "height": 34
    },
    "colab_type": "code",
    "executionInfo": {
     "elapsed": 46062,
     "status": "ok",
     "timestamp": 1563347119931,
     "user": {
      "displayName": "新田町隆弘",
      "photoUrl": "https://lh5.googleusercontent.com/-DMDhNyXnHcY/AAAAAAAAAAI/AAAAAAAAACE/-rft9f3g5RM/s64/photo.jpg",
      "userId": "03465577674172853809"
     },
     "user_tz": -540
    },
    "id": "r_5JwzMSvCnV",
    "outputId": "c6dde738-79e0-4aa2-cb86-4319e8f861b9"
   },
   "outputs": [
    {
     "name": "stdout",
     "output_type": "stream",
     "text": [
      "val score: 0.932\n"
     ]
    }
   ],
   "source": [
    "print('val score: {}'.format(rfc.score(X_test, y_test)))"
   ]
  },
  {
   "cell_type": "code",
   "execution_count": 36,
   "metadata": {
    "colab": {
     "base_uri": "https://localhost:8080/",
     "height": 119
    },
    "colab_type": "code",
    "executionInfo": {
     "elapsed": 46057,
     "status": "ok",
     "timestamp": 1563347119932,
     "user": {
      "displayName": "新田町隆弘",
      "photoUrl": "https://lh5.googleusercontent.com/-DMDhNyXnHcY/AAAAAAAAAAI/AAAAAAAAACE/-rft9f3g5RM/s64/photo.jpg",
      "userId": "03465577674172853809"
     },
     "user_tz": -540
    },
    "id": "74ceZ-QFvCnX",
    "outputId": "fddca3c2-a864-43b6-97b6-25c61b5d5c46"
   },
   "outputs": [
    {
     "data": {
      "text/plain": [
       "0    100001\n",
       "1    100005\n",
       "2    100013\n",
       "3    100028\n",
       "4    100038\n",
       "Name: SK_ID_CURR, dtype: int64"
      ]
     },
     "execution_count": 36,
     "metadata": {
      "tags": []
     },
     "output_type": "execute_result"
    }
   ],
   "source": [
    "df_test.iloc[:,0][:5]"
   ]
  },
  {
   "cell_type": "markdown",
   "metadata": {
    "colab_type": "text",
    "id": "gvNEOljDvCnZ"
   },
   "source": [
    "### テストデータのスコア"
   ]
  },
  {
   "cell_type": "code",
   "execution_count": 37,
   "metadata": {
    "colab": {
     "base_uri": "https://localhost:8080/",
     "height": 204
    },
    "colab_type": "code",
    "executionInfo": {
     "elapsed": 46053,
     "status": "ok",
     "timestamp": 1563347119933,
     "user": {
      "displayName": "新田町隆弘",
      "photoUrl": "https://lh5.googleusercontent.com/-DMDhNyXnHcY/AAAAAAAAAAI/AAAAAAAAACE/-rft9f3g5RM/s64/photo.jpg",
      "userId": "03465577674172853809"
     },
     "user_tz": -540
    },
    "id": "IQNsPCbdvCnZ",
    "outputId": "bdb9adb1-70e8-401f-bee1-e11b7c7befdf"
   },
   "outputs": [
    {
     "data": {
      "text/html": [
       "<div>\n",
       "<style scoped>\n",
       "    .dataframe tbody tr th:only-of-type {\n",
       "        vertical-align: middle;\n",
       "    }\n",
       "\n",
       "    .dataframe tbody tr th {\n",
       "        vertical-align: top;\n",
       "    }\n",
       "\n",
       "    .dataframe thead th {\n",
       "        text-align: right;\n",
       "    }\n",
       "</style>\n",
       "<table border=\"1\" class=\"dataframe\">\n",
       "  <thead>\n",
       "    <tr style=\"text-align: right;\">\n",
       "      <th></th>\n",
       "      <th>TARGET</th>\n",
       "    </tr>\n",
       "  </thead>\n",
       "  <tbody>\n",
       "    <tr>\n",
       "      <th>0</th>\n",
       "      <td>0.0</td>\n",
       "    </tr>\n",
       "    <tr>\n",
       "      <th>1</th>\n",
       "      <td>0.0</td>\n",
       "    </tr>\n",
       "    <tr>\n",
       "      <th>2</th>\n",
       "      <td>0.0</td>\n",
       "    </tr>\n",
       "    <tr>\n",
       "      <th>3</th>\n",
       "      <td>0.0</td>\n",
       "    </tr>\n",
       "    <tr>\n",
       "      <th>4</th>\n",
       "      <td>0.0</td>\n",
       "    </tr>\n",
       "  </tbody>\n",
       "</table>\n",
       "</div>"
      ],
      "text/plain": [
       "   TARGET\n",
       "0     0.0\n",
       "1     0.0\n",
       "2     0.0\n",
       "3     0.0\n",
       "4     0.0"
      ]
     },
     "execution_count": 37,
     "metadata": {
      "tags": []
     },
     "output_type": "execute_result"
    }
   ],
   "source": [
    "pred_proba = rfc.predict_proba(df_test_prepro2)[:,1].reshape([-1,1])\n",
    "pred_proba_df = pd.DataFrame(pred_proba, columns=['TARGET'])\n",
    "pred_proba_df.head()"
   ]
  },
  {
   "cell_type": "code",
   "execution_count": 38,
   "metadata": {
    "colab": {
     "base_uri": "https://localhost:8080/",
     "height": 34
    },
    "colab_type": "code",
    "executionInfo": {
     "elapsed": 46048,
     "status": "ok",
     "timestamp": 1563347119934,
     "user": {
      "displayName": "新田町隆弘",
      "photoUrl": "https://lh5.googleusercontent.com/-DMDhNyXnHcY/AAAAAAAAAAI/AAAAAAAAACE/-rft9f3g5RM/s64/photo.jpg",
      "userId": "03465577674172853809"
     },
     "user_tz": -540
    },
    "id": "9aiYxBizvCnb",
    "outputId": "2fcd0796-afb8-4155-fde7-1d334d9892ed"
   },
   "outputs": [
    {
     "data": {
      "text/plain": [
       "(48744, 1)"
      ]
     },
     "execution_count": 38,
     "metadata": {
      "tags": []
     },
     "output_type": "execute_result"
    }
   ],
   "source": [
    "pred_proba.shape"
   ]
  },
  {
   "cell_type": "code",
   "execution_count": 39,
   "metadata": {
    "colab": {
     "base_uri": "https://localhost:8080/",
     "height": 204
    },
    "colab_type": "code",
    "executionInfo": {
     "elapsed": 46043,
     "status": "ok",
     "timestamp": 1563347119934,
     "user": {
      "displayName": "新田町隆弘",
      "photoUrl": "https://lh5.googleusercontent.com/-DMDhNyXnHcY/AAAAAAAAAAI/AAAAAAAAACE/-rft9f3g5RM/s64/photo.jpg",
      "userId": "03465577674172853809"
     },
     "user_tz": -540
    },
    "id": "NonXcax2vCnd",
    "outputId": "a1b11e70-f9b2-4ad3-bd0d-96681c462ed5"
   },
   "outputs": [
    {
     "data": {
      "text/html": [
       "<div>\n",
       "<style scoped>\n",
       "    .dataframe tbody tr th:only-of-type {\n",
       "        vertical-align: middle;\n",
       "    }\n",
       "\n",
       "    .dataframe tbody tr th {\n",
       "        vertical-align: top;\n",
       "    }\n",
       "\n",
       "    .dataframe thead th {\n",
       "        text-align: right;\n",
       "    }\n",
       "</style>\n",
       "<table border=\"1\" class=\"dataframe\">\n",
       "  <thead>\n",
       "    <tr style=\"text-align: right;\">\n",
       "      <th></th>\n",
       "      <th>SK_ID_CURR</th>\n",
       "    </tr>\n",
       "  </thead>\n",
       "  <tbody>\n",
       "    <tr>\n",
       "      <th>0</th>\n",
       "      <td>100001</td>\n",
       "    </tr>\n",
       "    <tr>\n",
       "      <th>1</th>\n",
       "      <td>100005</td>\n",
       "    </tr>\n",
       "    <tr>\n",
       "      <th>2</th>\n",
       "      <td>100013</td>\n",
       "    </tr>\n",
       "    <tr>\n",
       "      <th>3</th>\n",
       "      <td>100028</td>\n",
       "    </tr>\n",
       "    <tr>\n",
       "      <th>4</th>\n",
       "      <td>100038</td>\n",
       "    </tr>\n",
       "  </tbody>\n",
       "</table>\n",
       "</div>"
      ],
      "text/plain": [
       "   SK_ID_CURR\n",
       "0      100001\n",
       "1      100005\n",
       "2      100013\n",
       "3      100028\n",
       "4      100038"
      ]
     },
     "execution_count": 39,
     "metadata": {
      "tags": []
     },
     "output_type": "execute_result"
    }
   ],
   "source": [
    "test_id_df = pd.DataFrame(df_test.iloc[:,0])\n",
    "test_id_df.head()"
   ]
  },
  {
   "cell_type": "code",
   "execution_count": 40,
   "metadata": {
    "colab": {
     "base_uri": "https://localhost:8080/",
     "height": 204
    },
    "colab_type": "code",
    "executionInfo": {
     "elapsed": 46249,
     "status": "ok",
     "timestamp": 1563347120155,
     "user": {
      "displayName": "新田町隆弘",
      "photoUrl": "https://lh5.googleusercontent.com/-DMDhNyXnHcY/AAAAAAAAAAI/AAAAAAAAACE/-rft9f3g5RM/s64/photo.jpg",
      "userId": "03465577674172853809"
     },
     "user_tz": -540
    },
    "id": "AH4NHVRdvCnh",
    "outputId": "3823e4e2-31ec-427d-f899-ccb88642805d"
   },
   "outputs": [
    {
     "data": {
      "text/html": [
       "<div>\n",
       "<style scoped>\n",
       "    .dataframe tbody tr th:only-of-type {\n",
       "        vertical-align: middle;\n",
       "    }\n",
       "\n",
       "    .dataframe tbody tr th {\n",
       "        vertical-align: top;\n",
       "    }\n",
       "\n",
       "    .dataframe thead th {\n",
       "        text-align: right;\n",
       "    }\n",
       "</style>\n",
       "<table border=\"1\" class=\"dataframe\">\n",
       "  <thead>\n",
       "    <tr style=\"text-align: right;\">\n",
       "      <th></th>\n",
       "      <th>SK_ID_CURR</th>\n",
       "      <th>TARGET</th>\n",
       "    </tr>\n",
       "  </thead>\n",
       "  <tbody>\n",
       "    <tr>\n",
       "      <th>0</th>\n",
       "      <td>100001</td>\n",
       "      <td>0.0</td>\n",
       "    </tr>\n",
       "    <tr>\n",
       "      <th>1</th>\n",
       "      <td>100005</td>\n",
       "      <td>0.0</td>\n",
       "    </tr>\n",
       "    <tr>\n",
       "      <th>2</th>\n",
       "      <td>100013</td>\n",
       "      <td>0.0</td>\n",
       "    </tr>\n",
       "    <tr>\n",
       "      <th>3</th>\n",
       "      <td>100028</td>\n",
       "      <td>0.0</td>\n",
       "    </tr>\n",
       "    <tr>\n",
       "      <th>4</th>\n",
       "      <td>100038</td>\n",
       "      <td>0.0</td>\n",
       "    </tr>\n",
       "  </tbody>\n",
       "</table>\n",
       "</div>"
      ],
      "text/plain": [
       "   SK_ID_CURR  TARGET\n",
       "0      100001     0.0\n",
       "1      100005     0.0\n",
       "2      100013     0.0\n",
       "3      100028     0.0\n",
       "4      100038     0.0"
      ]
     },
     "execution_count": 40,
     "metadata": {
      "tags": []
     },
     "output_type": "execute_result"
    }
   ],
   "source": [
    "predict_test = pd.concat([test_id_df, pred_proba_df], axis=1)\n",
    "predict_test.head()"
   ]
  },
  {
   "cell_type": "code",
   "execution_count": null,
   "metadata": {},
   "outputs": [],
   "source": [
    "predict_test.to_csv(\"submission_0717_p1_r1.csv\", index=False, encoding='utf-8')"
   ]
  },
  {
   "cell_type": "markdown",
   "metadata": {
    "colab_type": "text",
    "id": "cpSAUjJpvCnk"
   },
   "source": [
    "## 評価結果→58.815%\n",
    "![スコア](https://drive.google.com/uc?id=1idQuiq_3f2oUV_-32626ZEciqu_pg3TV)"
   ]
  },
  {
   "cell_type": "markdown",
   "metadata": {
    "colab_type": "text",
    "id": "t09oovwhvCnk"
   },
   "source": [
    "# 【問題2】グリッドサーチ\n",
    "これまで分類器のパラメータは基本的にデフォルトの設定を使用していました。パラメータの詳細は今後のSprintで学んでいくことになりますが、パラメータは状況に応じて最適なものを選ぶ必要があります。パラメータを探索するために グリッドサーチ と呼ばれる総当たり的手法が一般的に利用されます。\n",
    "グリッドサーチをパイプラインの中に組み込みましょう。"
   ]
  },
  {
   "cell_type": "markdown",
   "metadata": {
    "colab_type": "text",
    "id": "vBWe0rjEvCnk"
   },
   "source": [
    "## 実行環境\n",
    "### 前処理\n",
    "- 問題1で行なった前処理\n",
    "\n",
    "### モデル\n",
    "- LogisticRegressionの以下のパラメータの中でグリッドサーチを実施\n",
    "    - penalty : L1 or L2\n",
    "    - gamma : [0.001, 0.01, 0.1, 1]\n",
    "    - C : np.logspace(-4, 4, 20)→マイナス4~４の間を20等分する値をnumpy配列 X とした場合、10**Xとなるnumpy配列\n",
    "    - solver : liblinear\n",
    "\n",
    "## 確認結果\n",
    "### ５分"
   ]
  },
  {
   "cell_type": "markdown",
   "metadata": {
    "colab_type": "text",
    "id": "W9M_wjsavCnl"
   },
   "source": [
    "### パイプライン+グリッドサーチ を行うインスタンスの作成"
   ]
  },
  {
   "cell_type": "code",
   "execution_count": 0,
   "metadata": {
    "colab": {},
    "colab_type": "code",
    "id": "deFL9x_pvCnl"
   },
   "outputs": [],
   "source": [
    "pipe = Pipeline([('classifier', None)])\n",
    "\n",
    "param_grid =[\n",
    "        {'classifier' : [RandomForestClassifier()],\n",
    "         'classifier__n_estimators': [200, 500],\n",
    "         'classifier__max_features': ['auto', 'sqrt', 'log2'],\n",
    "         'classifier__max_depth' : [4,5,6,7,8],\n",
    "         'classifier__criterion' :['gini', 'entropy']}\n",
    "]\n",
    "\n",
    "grid = GridSearchCV(pipe, param_grid, cv=5, scoring='roc_auc')"
   ]
  },
  {
   "cell_type": "markdown",
   "metadata": {
    "colab_type": "text",
    "id": "DH1JdrQovCnn"
   },
   "source": [
    "### 学習"
   ]
  },
  {
   "cell_type": "code",
   "execution_count": 44,
   "metadata": {
    "colab": {
     "base_uri": "https://localhost:8080/",
     "height": 442
    },
    "colab_type": "code",
    "executionInfo": {
     "elapsed": 133080,
     "status": "ok",
     "timestamp": 1563347526150,
     "user": {
      "displayName": "新田町隆弘",
      "photoUrl": "https://lh5.googleusercontent.com/-DMDhNyXnHcY/AAAAAAAAAAI/AAAAAAAAACE/-rft9f3g5RM/s64/photo.jpg",
      "userId": "03465577674172853809"
     },
     "user_tz": -540
    },
    "id": "eMkfudoqvCnn",
    "outputId": "27dc6047-8ae8-45ae-9c88-44fa62b0c6cd"
   },
   "outputs": [
    {
     "data": {
      "text/plain": [
       "GridSearchCV(cv=5, error_score='raise-deprecating',\n",
       "             estimator=Pipeline(memory=None, steps=[('classifier', None)],\n",
       "                                verbose=False),\n",
       "             iid='warn', n_jobs=None,\n",
       "             param_grid=[{'classifier': [RandomForestClassifier(bootstrap=True,\n",
       "                                                                class_weight=None,\n",
       "                                                                criterion='entropy',\n",
       "                                                                max_depth=4,\n",
       "                                                                max_features='sqrt',\n",
       "                                                                max_leaf_nodes=None,\n",
       "                                                                min_impurity_decrease=0.0,\n",
       "                                                                min_impurity_split=Non...\n",
       "                                                                min_weight_fraction_leaf=0.0,\n",
       "                                                                n_estimators=200,\n",
       "                                                                n_jobs=None,\n",
       "                                                                oob_score=False,\n",
       "                                                                random_state=None,\n",
       "                                                                verbose=0,\n",
       "                                                                warm_start=False)],\n",
       "                          'classifier__criterion': ['gini', 'entropy'],\n",
       "                          'classifier__max_depth': [4, 5, 6, 7, 8],\n",
       "                          'classifier__max_features': ['auto', 'sqrt', 'log2'],\n",
       "                          'classifier__n_estimators': [200, 500]}],\n",
       "             pre_dispatch='2*n_jobs', refit=True, return_train_score=False,\n",
       "             scoring='roc_auc', verbose=0)"
      ]
     },
     "execution_count": 44,
     "metadata": {
      "tags": []
     },
     "output_type": "execute_result"
    }
   ],
   "source": [
    "grid.fit(X_train, y_train)"
   ]
  },
  {
   "cell_type": "markdown",
   "metadata": {
    "colab_type": "text",
    "id": "GVotuCUivCnq"
   },
   "source": [
    "### 最も精度が高い時のパラメータ"
   ]
  },
  {
   "cell_type": "code",
   "execution_count": 45,
   "metadata": {
    "colab": {
     "base_uri": "https://localhost:8080/",
     "height": 156
    },
    "colab_type": "code",
    "executionInfo": {
     "elapsed": 133070,
     "status": "ok",
     "timestamp": 1563347526154,
     "user": {
      "displayName": "新田町隆弘",
      "photoUrl": "https://lh5.googleusercontent.com/-DMDhNyXnHcY/AAAAAAAAAAI/AAAAAAAAACE/-rft9f3g5RM/s64/photo.jpg",
      "userId": "03465577674172853809"
     },
     "user_tz": -540
    },
    "id": "n8u8RKp3vCnr",
    "outputId": "1d18f15c-1c21-4d57-875b-c3520dd58d64"
   },
   "outputs": [
    {
     "name": "stdout",
     "output_type": "stream",
     "text": [
      "best params: {'classifier': RandomForestClassifier(bootstrap=True, class_weight=None, criterion='entropy',\n",
      "                       max_depth=4, max_features='sqrt', max_leaf_nodes=None,\n",
      "                       min_impurity_decrease=0.0, min_impurity_split=None,\n",
      "                       min_samples_leaf=1, min_samples_split=2,\n",
      "                       min_weight_fraction_leaf=0.0, n_estimators=200,\n",
      "                       n_jobs=None, oob_score=False, random_state=None,\n",
      "                       verbose=0, warm_start=False), 'classifier__criterion': 'entropy', 'classifier__max_depth': 4, 'classifier__max_features': 'sqrt', 'classifier__n_estimators': 200}\n"
     ]
    }
   ],
   "source": [
    "print(\"best params: {}\".format(grid.best_params_))"
   ]
  },
  {
   "cell_type": "markdown",
   "metadata": {
    "colab_type": "text",
    "id": "6eFmpgFXvCnw"
   },
   "source": [
    "### 検証データでの精度"
   ]
  },
  {
   "cell_type": "code",
   "execution_count": 46,
   "metadata": {
    "colab": {
     "base_uri": "https://localhost:8080/",
     "height": 34
    },
    "colab_type": "code",
    "executionInfo": {
     "elapsed": 133063,
     "status": "ok",
     "timestamp": 1563347526156,
     "user": {
      "displayName": "新田町隆弘",
      "photoUrl": "https://lh5.googleusercontent.com/-DMDhNyXnHcY/AAAAAAAAAAI/AAAAAAAAACE/-rft9f3g5RM/s64/photo.jpg",
      "userId": "03465577674172853809"
     },
     "user_tz": -540
    },
    "id": "PCJwq8f1vCnw",
    "outputId": "dca048f7-ce40-4bad-f8f3-a0e014e549b5"
   },
   "outputs": [
    {
     "name": "stdout",
     "output_type": "stream",
     "text": [
      "test score: 0.7126068376068376\n"
     ]
    }
   ],
   "source": [
    "print(\"test score: {}\".format(grid.score(X_test, y_test)))"
   ]
  },
  {
   "cell_type": "code",
   "execution_count": 47,
   "metadata": {
    "colab": {
     "base_uri": "https://localhost:8080/",
     "height": 34
    },
    "colab_type": "code",
    "executionInfo": {
     "elapsed": 133055,
     "status": "ok",
     "timestamp": 1563347526157,
     "user": {
      "displayName": "新田町隆弘",
      "photoUrl": "https://lh5.googleusercontent.com/-DMDhNyXnHcY/AAAAAAAAAAI/AAAAAAAAACE/-rft9f3g5RM/s64/photo.jpg",
      "userId": "03465577674172853809"
     },
     "user_tz": -540
    },
    "id": "Hlu3ShljvCny",
    "outputId": "c08b4ef5-f334-4757-92b2-15afb8209457"
   },
   "outputs": [
    {
     "data": {
      "text/plain": [
       "(48744, 10)"
      ]
     },
     "execution_count": 47,
     "metadata": {
      "tags": []
     },
     "output_type": "execute_result"
    }
   ],
   "source": [
    "df_test_prepro2.shape"
   ]
  },
  {
   "cell_type": "markdown",
   "metadata": {},
   "source": [
    "### テストデータでの評価"
   ]
  },
  {
   "cell_type": "code",
   "execution_count": 48,
   "metadata": {
    "colab": {
     "base_uri": "https://localhost:8080/",
     "height": 204
    },
    "colab_type": "code",
    "executionInfo": {
     "elapsed": 133711,
     "status": "ok",
     "timestamp": 1563347526821,
     "user": {
      "displayName": "新田町隆弘",
      "photoUrl": "https://lh5.googleusercontent.com/-DMDhNyXnHcY/AAAAAAAAAAI/AAAAAAAAACE/-rft9f3g5RM/s64/photo.jpg",
      "userId": "03465577674172853809"
     },
     "user_tz": -540
    },
    "id": "HDIjL4fBvCn0",
    "outputId": "bc73c6d2-5e76-421f-c27e-81ec0b5947f4"
   },
   "outputs": [
    {
     "data": {
      "text/html": [
       "<div>\n",
       "<style scoped>\n",
       "    .dataframe tbody tr th:only-of-type {\n",
       "        vertical-align: middle;\n",
       "    }\n",
       "\n",
       "    .dataframe tbody tr th {\n",
       "        vertical-align: top;\n",
       "    }\n",
       "\n",
       "    .dataframe thead th {\n",
       "        text-align: right;\n",
       "    }\n",
       "</style>\n",
       "<table border=\"1\" class=\"dataframe\">\n",
       "  <thead>\n",
       "    <tr style=\"text-align: right;\">\n",
       "      <th></th>\n",
       "      <th>TARGET</th>\n",
       "    </tr>\n",
       "  </thead>\n",
       "  <tbody>\n",
       "    <tr>\n",
       "      <th>0</th>\n",
       "      <td>0.021853</td>\n",
       "    </tr>\n",
       "    <tr>\n",
       "      <th>1</th>\n",
       "      <td>0.117445</td>\n",
       "    </tr>\n",
       "    <tr>\n",
       "      <th>2</th>\n",
       "      <td>0.007411</td>\n",
       "    </tr>\n",
       "    <tr>\n",
       "      <th>3</th>\n",
       "      <td>0.039261</td>\n",
       "    </tr>\n",
       "    <tr>\n",
       "      <th>4</th>\n",
       "      <td>0.073373</td>\n",
       "    </tr>\n",
       "  </tbody>\n",
       "</table>\n",
       "</div>"
      ],
      "text/plain": [
       "     TARGET\n",
       "0  0.021853\n",
       "1  0.117445\n",
       "2  0.007411\n",
       "3  0.039261\n",
       "4  0.073373"
      ]
     },
     "execution_count": 48,
     "metadata": {
      "tags": []
     },
     "output_type": "execute_result"
    }
   ],
   "source": [
    "pred_proba_r2 = grid.predict_proba(df_test_prepro2)[:,1].reshape([-1,1])\n",
    "pred_proba_r2_df = pd.DataFrame(pred_proba_r2, columns=['TARGET'])\n",
    "pred_proba_r2_df.head()"
   ]
  },
  {
   "cell_type": "code",
   "execution_count": 49,
   "metadata": {
    "colab": {
     "base_uri": "https://localhost:8080/",
     "height": 204
    },
    "colab_type": "code",
    "executionInfo": {
     "elapsed": 133705,
     "status": "ok",
     "timestamp": 1563347526822,
     "user": {
      "displayName": "新田町隆弘",
      "photoUrl": "https://lh5.googleusercontent.com/-DMDhNyXnHcY/AAAAAAAAAAI/AAAAAAAAACE/-rft9f3g5RM/s64/photo.jpg",
      "userId": "03465577674172853809"
     },
     "user_tz": -540
    },
    "id": "O2mI-oWVvCn2",
    "outputId": "a49de7c1-c01d-4eae-d04b-3cc912d20ab6"
   },
   "outputs": [
    {
     "data": {
      "text/html": [
       "<div>\n",
       "<style scoped>\n",
       "    .dataframe tbody tr th:only-of-type {\n",
       "        vertical-align: middle;\n",
       "    }\n",
       "\n",
       "    .dataframe tbody tr th {\n",
       "        vertical-align: top;\n",
       "    }\n",
       "\n",
       "    .dataframe thead th {\n",
       "        text-align: right;\n",
       "    }\n",
       "</style>\n",
       "<table border=\"1\" class=\"dataframe\">\n",
       "  <thead>\n",
       "    <tr style=\"text-align: right;\">\n",
       "      <th></th>\n",
       "      <th>SK_ID_CURR</th>\n",
       "      <th>TARGET</th>\n",
       "    </tr>\n",
       "  </thead>\n",
       "  <tbody>\n",
       "    <tr>\n",
       "      <th>0</th>\n",
       "      <td>100001</td>\n",
       "      <td>0.021853</td>\n",
       "    </tr>\n",
       "    <tr>\n",
       "      <th>1</th>\n",
       "      <td>100005</td>\n",
       "      <td>0.117445</td>\n",
       "    </tr>\n",
       "    <tr>\n",
       "      <th>2</th>\n",
       "      <td>100013</td>\n",
       "      <td>0.007411</td>\n",
       "    </tr>\n",
       "    <tr>\n",
       "      <th>3</th>\n",
       "      <td>100028</td>\n",
       "      <td>0.039261</td>\n",
       "    </tr>\n",
       "    <tr>\n",
       "      <th>4</th>\n",
       "      <td>100038</td>\n",
       "      <td>0.073373</td>\n",
       "    </tr>\n",
       "  </tbody>\n",
       "</table>\n",
       "</div>"
      ],
      "text/plain": [
       "   SK_ID_CURR    TARGET\n",
       "0      100001  0.021853\n",
       "1      100005  0.117445\n",
       "2      100013  0.007411\n",
       "3      100028  0.039261\n",
       "4      100038  0.073373"
      ]
     },
     "execution_count": 49,
     "metadata": {
      "tags": []
     },
     "output_type": "execute_result"
    }
   ],
   "source": [
    "predict_test_r2 = pd.concat([test_id_df, pred_proba_r2_df], axis=1)\n",
    "predict_test_r2.head()"
   ]
  },
  {
   "cell_type": "code",
   "execution_count": null,
   "metadata": {},
   "outputs": [],
   "source": [
    "predict_test_r2.to_csv(\"submission_0717_p2_r1.csv\", index=False, encoding='utf-8')"
   ]
  },
  {
   "cell_type": "markdown",
   "metadata": {
    "colab_type": "text",
    "id": "0oo0S8hKvCn5"
   },
   "source": [
    "## 評価結果→69.291%\n",
    "![ ](https://drive.google.com/uc?id=1XzKe17xZn0ljchkCAdd5IpRj0s3Httc5)"
   ]
  },
  {
   "cell_type": "markdown",
   "metadata": {
    "colab_type": "text",
    "id": "cLzqWCL5vCn6"
   },
   "source": [
    "## 考察　\n",
    "- テストデータのスコアが問題1より問題2の方が高い値となっている為、モデルのパラメータをグリッドサーチにて調整する事で、より精度の高いモデルを作成できた事を確認。"
   ]
  },
  {
   "cell_type": "markdown",
   "metadata": {
    "colab_type": "text",
    "id": "ZAIwJu0hvCn6"
   },
   "source": [
    "# 【問題3】Kernelからの調査\n",
    "KaggleのKernelから自身にはなかったアイデアを見つけ出して、列挙してください。そして、効果があると考えられるものを検証してください。"
   ]
  },
  {
   "cell_type": "markdown",
   "metadata": {
    "colab_type": "text",
    "id": "p5aBBlTlvCn7"
   },
   "source": [
    "## 案①複数のモデル導入＋層化K分割交差検証により最適なモデルを選定\n",
    "### 導入理由及びメリット\n",
    "#### データセットに対して最適なモデルを確認可能\n",
    "- データセットの規模や構造によってはモデルによって得意不得意がある為\n",
    "\n",
    "#### 汎化性能が高いと想定されるモデルを確認可能\n",
    "- 層化k分割交差検証を実施し求められたスコアを使用し、最適なモデルを決定する為、汎化性能が高いと想定されるモデルを確認可能\n",
    "\n",
    "### デメリット\n",
    "#### モデル選定に時間がかかる\n",
    "- 層化k分割交差検証を実施するため。\n",
    "\n",
    "## 案②LightGBMモデルの導入\n",
    "### 導入理由及びメリット\n",
    "\n",
    "#### 大規模データセットにも対応可能\n",
    "- 他のモデルと比較し学習時の所要時間が短く、メモリ効率が高い為。\n",
    "\n",
    "#### 学習時の所要時間がRandomForestClassiferより短い\n",
    "- 通常の決定木では最適な枝分かれのポイントを探す際に、全てのデータポイントを読み込む必要があるが、LightGBMでは訓練データの特徴量を階級に分けてヒストグラム化する事で厳密な枝分かれを探していない。\n",
    "    \n",
    "    \n",
    "#### メモリ効率が高い\n",
    "- 計算値をヒストグラムとして扱う為。\n",
    "\n",
    "#### 推測精度が高い\n",
    "- 他のブースティングモデルと比較した場合、Leaf-Wiseのため推測精度が改善する傾向になるため。(Leaf-Wiseの方がLevel-Wiseと比較して、より複雑な決定木となる)\n",
    "\n",
    "### デメリット\n",
    "#### 過学習しやすくなる\n",
    "- Leaf-wiseは決定木がより複雑になる為。\n",
    "\n",
    "### 参考したKaggleのkernel\n",
    "[Home Credit Default Risk Using LightGBM](https://www.kaggle.com/zonnalobo/home-credit-default-risk-using-lightgbm)\n",
    "- 「Just for Fun: Light Gradient Boosting Machine」の欄 Input55"
   ]
  },
  {
   "cell_type": "markdown",
   "metadata": {
    "colab_type": "text",
    "id": "IbwoQJ-avCn7"
   },
   "source": [
    "## 【問題4】高い汎化性能のモデル\n",
    "これまで学んだことを用いながら汎化性能の高いモデルを作成してください。今は全体の流れを掴むことを重視し、Sprintの時間内に結果を出すということも意識しましょう。"
   ]
  },
  {
   "cell_type": "markdown",
   "metadata": {
    "colab_type": "text",
    "id": "58P_z-shvCn8"
   },
   "source": [
    "## 問題3に記載した案①と②を既存のモデルに導入"
   ]
  },
  {
   "cell_type": "markdown",
   "metadata": {
    "colab_type": "text",
    "id": "A6LShe5-vCn8"
   },
   "source": [
    "## 結果→ロジスティック回帰モデルが最適なモデルと確認\n",
    "\n",
    "- 今回のKaggleの評価指標がAUCの為。\n",
    "\n",
    "| モデル             | Accuracy | ROC_AUC  | F1-score | PR_AUC   |\n",
    "|--------------------|----------|----------|----------|----------|\n",
    "| ロジスティック回帰 | 0.741511 | 0.735263 | 0.800833 | 0.293847 |\n",
    "| 決定木             | 0.884001 | 0.534607 | 0.879862 | 0.095984 |\n",
    "| ランダムフォレスト | 0.924078 | 0.646853 | 0.89144  | 0.192066 |\n",
    "| LightGBM           | 0.898705 | 0.68747  | 0.888951 | 0.218586 |"
   ]
  },
  {
   "cell_type": "markdown",
   "metadata": {
    "colab_type": "text",
    "id": "n4r5IQ3BvCn8"
   },
   "source": [
    "### スコアを確認するモデルをリストに格納する"
   ]
  },
  {
   "cell_type": "code",
   "execution_count": 0,
   "metadata": {
    "colab": {},
    "colab_type": "code",
    "id": "Tl2KaOJEvCn9"
   },
   "outputs": [],
   "source": [
    "models = []\n",
    "models.append(('lr', LogisticRegression(class_weight='balanced')))\n",
    "models.append(('dtc', DecisionTreeClassifier(class_weight='balanced')))\n",
    "models.append(('rfc', RandomForestClassifier(class_weight='balanced')))\n",
    "models.append(('GBM', lgb.LGBMClassifier(class_weight='balanced')))"
   ]
  },
  {
   "cell_type": "markdown",
   "metadata": {},
   "source": [
    "### 確認する評価指標"
   ]
  },
  {
   "cell_type": "code",
   "execution_count": 0,
   "metadata": {
    "colab": {},
    "colab_type": "code",
    "id": "9qXN_Xz5vCn-"
   },
   "outputs": [],
   "source": [
    "scorer = ('accuracy','roc_auc','f1_weighted','average_precision')"
   ]
  },
  {
   "cell_type": "markdown",
   "metadata": {},
   "source": [
    "### 層化K分割交差検証の実施"
   ]
  },
  {
   "cell_type": "code",
   "execution_count": 62,
   "metadata": {
    "colab": {
     "base_uri": "https://localhost:8080/",
     "height": 1000
    },
    "colab_type": "code",
    "executionInfo": {
     "elapsed": 2218,
     "status": "ok",
     "timestamp": 1563348559957,
     "user": {
      "displayName": "新田町隆弘",
      "photoUrl": "https://lh5.googleusercontent.com/-DMDhNyXnHcY/AAAAAAAAAAI/AAAAAAAAACE/-rft9f3g5RM/s64/photo.jpg",
      "userId": "03465577674172853809"
     },
     "user_tz": -540
    },
    "id": "E-WfyZ4JvCn_",
    "outputId": "86b284d2-1521-49b6-b18f-0868f3cd02dc"
   },
   "outputs": [
    {
     "name": "stderr",
     "output_type": "stream",
     "text": [
      "/usr/local/lib/python3.6/dist-packages/sklearn/linear_model/logistic.py:432: FutureWarning: Default solver will be changed to 'lbfgs' in 0.22. Specify a solver to silence this warning.\n",
      "  FutureWarning)\n",
      "/usr/local/lib/python3.6/dist-packages/sklearn/linear_model/logistic.py:432: FutureWarning: Default solver will be changed to 'lbfgs' in 0.22. Specify a solver to silence this warning.\n",
      "  FutureWarning)\n",
      "/usr/local/lib/python3.6/dist-packages/sklearn/linear_model/logistic.py:432: FutureWarning: Default solver will be changed to 'lbfgs' in 0.22. Specify a solver to silence this warning.\n",
      "  FutureWarning)\n",
      "/usr/local/lib/python3.6/dist-packages/sklearn/linear_model/logistic.py:432: FutureWarning: Default solver will be changed to 'lbfgs' in 0.22. Specify a solver to silence this warning.\n",
      "  FutureWarning)\n",
      "/usr/local/lib/python3.6/dist-packages/sklearn/linear_model/logistic.py:432: FutureWarning: Default solver will be changed to 'lbfgs' in 0.22. Specify a solver to silence this warning.\n",
      "  FutureWarning)\n",
      "/usr/local/lib/python3.6/dist-packages/sklearn/linear_model/logistic.py:432: FutureWarning: Default solver will be changed to 'lbfgs' in 0.22. Specify a solver to silence this warning.\n",
      "  FutureWarning)\n",
      "/usr/local/lib/python3.6/dist-packages/sklearn/linear_model/logistic.py:432: FutureWarning: Default solver will be changed to 'lbfgs' in 0.22. Specify a solver to silence this warning.\n",
      "  FutureWarning)\n",
      "/usr/local/lib/python3.6/dist-packages/sklearn/linear_model/logistic.py:432: FutureWarning: Default solver will be changed to 'lbfgs' in 0.22. Specify a solver to silence this warning.\n",
      "  FutureWarning)\n",
      "/usr/local/lib/python3.6/dist-packages/sklearn/linear_model/logistic.py:432: FutureWarning: Default solver will be changed to 'lbfgs' in 0.22. Specify a solver to silence this warning.\n",
      "  FutureWarning)\n",
      "/usr/local/lib/python3.6/dist-packages/sklearn/linear_model/logistic.py:432: FutureWarning: Default solver will be changed to 'lbfgs' in 0.22. Specify a solver to silence this warning.\n",
      "  FutureWarning)\n"
     ]
    },
    {
     "name": "stdout",
     "output_type": "stream",
     "text": [
      "\n",
      "\n",
      "lr by Accuracy: 0.741511(0.035392), by ROC_AUC: 0.735263(0.087469), by F1-score: 0.800833(0.026917), PR_AUC: 0.293847(0.149641)\n",
      "\n",
      "\n",
      "\n",
      "\n",
      "dtc by Accuracy: 0.884001(0.026951), by ROC_AUC: 0.534607(0.057322), by F1-score: 0.879862(0.018636), PR_AUC: 0.095984(0.030199)\n",
      "\n",
      "\n"
     ]
    },
    {
     "name": "stderr",
     "output_type": "stream",
     "text": [
      "/usr/local/lib/python3.6/dist-packages/sklearn/ensemble/forest.py:245: FutureWarning: The default value of n_estimators will change from 10 in version 0.20 to 100 in 0.22.\n",
      "  \"10 in version 0.20 to 100 in 0.22.\", FutureWarning)\n",
      "/usr/local/lib/python3.6/dist-packages/sklearn/metrics/classification.py:1437: UndefinedMetricWarning: F-score is ill-defined and being set to 0.0 in labels with no predicted samples.\n",
      "  'precision', 'predicted', average, warn_for)\n",
      "/usr/local/lib/python3.6/dist-packages/sklearn/ensemble/forest.py:245: FutureWarning: The default value of n_estimators will change from 10 in version 0.20 to 100 in 0.22.\n",
      "  \"10 in version 0.20 to 100 in 0.22.\", FutureWarning)\n",
      "/usr/local/lib/python3.6/dist-packages/sklearn/metrics/classification.py:1437: UndefinedMetricWarning: F-score is ill-defined and being set to 0.0 in labels with no predicted samples.\n",
      "  'precision', 'predicted', average, warn_for)\n",
      "/usr/local/lib/python3.6/dist-packages/sklearn/ensemble/forest.py:245: FutureWarning: The default value of n_estimators will change from 10 in version 0.20 to 100 in 0.22.\n",
      "  \"10 in version 0.20 to 100 in 0.22.\", FutureWarning)\n",
      "/usr/local/lib/python3.6/dist-packages/sklearn/ensemble/forest.py:245: FutureWarning: The default value of n_estimators will change from 10 in version 0.20 to 100 in 0.22.\n",
      "  \"10 in version 0.20 to 100 in 0.22.\", FutureWarning)\n",
      "/usr/local/lib/python3.6/dist-packages/sklearn/metrics/classification.py:1437: UndefinedMetricWarning: F-score is ill-defined and being set to 0.0 in labels with no predicted samples.\n",
      "  'precision', 'predicted', average, warn_for)\n",
      "/usr/local/lib/python3.6/dist-packages/sklearn/ensemble/forest.py:245: FutureWarning: The default value of n_estimators will change from 10 in version 0.20 to 100 in 0.22.\n",
      "  \"10 in version 0.20 to 100 in 0.22.\", FutureWarning)\n",
      "/usr/local/lib/python3.6/dist-packages/sklearn/ensemble/forest.py:245: FutureWarning: The default value of n_estimators will change from 10 in version 0.20 to 100 in 0.22.\n",
      "  \"10 in version 0.20 to 100 in 0.22.\", FutureWarning)\n",
      "/usr/local/lib/python3.6/dist-packages/sklearn/ensemble/forest.py:245: FutureWarning: The default value of n_estimators will change from 10 in version 0.20 to 100 in 0.22.\n",
      "  \"10 in version 0.20 to 100 in 0.22.\", FutureWarning)\n",
      "/usr/local/lib/python3.6/dist-packages/sklearn/metrics/classification.py:1437: UndefinedMetricWarning: F-score is ill-defined and being set to 0.0 in labels with no predicted samples.\n",
      "  'precision', 'predicted', average, warn_for)\n",
      "/usr/local/lib/python3.6/dist-packages/sklearn/ensemble/forest.py:245: FutureWarning: The default value of n_estimators will change from 10 in version 0.20 to 100 in 0.22.\n",
      "  \"10 in version 0.20 to 100 in 0.22.\", FutureWarning)\n",
      "/usr/local/lib/python3.6/dist-packages/sklearn/metrics/classification.py:1437: UndefinedMetricWarning: F-score is ill-defined and being set to 0.0 in labels with no predicted samples.\n",
      "  'precision', 'predicted', average, warn_for)\n",
      "/usr/local/lib/python3.6/dist-packages/sklearn/ensemble/forest.py:245: FutureWarning: The default value of n_estimators will change from 10 in version 0.20 to 100 in 0.22.\n",
      "  \"10 in version 0.20 to 100 in 0.22.\", FutureWarning)\n",
      "/usr/local/lib/python3.6/dist-packages/sklearn/metrics/classification.py:1437: UndefinedMetricWarning: F-score is ill-defined and being set to 0.0 in labels with no predicted samples.\n",
      "  'precision', 'predicted', average, warn_for)\n",
      "/usr/local/lib/python3.6/dist-packages/sklearn/ensemble/forest.py:245: FutureWarning: The default value of n_estimators will change from 10 in version 0.20 to 100 in 0.22.\n",
      "  \"10 in version 0.20 to 100 in 0.22.\", FutureWarning)\n",
      "/usr/local/lib/python3.6/dist-packages/sklearn/metrics/classification.py:1437: UndefinedMetricWarning: F-score is ill-defined and being set to 0.0 in labels with no predicted samples.\n",
      "  'precision', 'predicted', average, warn_for)\n"
     ]
    },
    {
     "name": "stdout",
     "output_type": "stream",
     "text": [
      "\n",
      "\n",
      "rfc by Accuracy: 0.924078(0.007758), by ROC_AUC: 0.646853(0.098009), by F1-score: 0.891440(0.008508), PR_AUC: 0.192066(0.073497)\n",
      "\n",
      "\n",
      "\n",
      "\n",
      "GBM by Accuracy: 0.898705(0.018713), by ROC_AUC: 0.687470(0.129596), by F1-score: 0.888951(0.018142), PR_AUC: 0.218586(0.096596)\n",
      "\n",
      "\n"
     ]
    }
   ],
   "source": [
    "for name, model in models:\n",
    "    kfold = StratifiedKFold(n_splits=10, random_state=217, shuffle=True)\n",
    "    cv_results = cross_validate(model, X_train, y_train,cv=kfold, scoring=scorer)\n",
    "    print('\\n')\n",
    "    cv_results1=cv_results['test_accuracy']\n",
    "    cv_results2=cv_results['test_roc_auc']\n",
    "    cv_results3=cv_results['test_f1_weighted']\n",
    "    cv_results4=cv_results['test_average_precision']\n",
    "    msg = \"%s by Accuracy: %f(%f), by ROC_AUC: %f(%f), by F1-score: %f(%f), PR_AUC: %f(%f)\" % (name, np.mean(cv_results1),\n",
    "        np.std(cv_results1),np.mean(cv_results2),np.std(cv_results2),np.mean(cv_results3),np.std(cv_results3),\n",
    "        np.mean(cv_results4),np.std(cv_results4))\n",
    "    print(msg)\n",
    "    print('\\n')"
   ]
  },
  {
   "cell_type": "markdown",
   "metadata": {},
   "source": [
    "### グリッドサーチの実施"
   ]
  },
  {
   "cell_type": "code",
   "execution_count": 0,
   "metadata": {
    "colab": {},
    "colab_type": "code",
    "id": "M9R91DBN5zVE"
   },
   "outputs": [],
   "source": [
    "pipe = Pipeline([('classifier', None)])\n",
    "\n",
    "param_grid =[\n",
    "        {'classifier' : [LogisticRegression()],\n",
    "         \"classifier__C\":np.logspace(-3,3,7), \n",
    "          \"classifier__penalty\":[\"l1\",\"l2\"]}\n",
    "]\n",
    "\n",
    "grid = GridSearchCV(pipe, param_grid, cv=5, scoring='roc_auc')"
   ]
  },
  {
   "cell_type": "markdown",
   "metadata": {},
   "source": [
    "### 学習"
   ]
  },
  {
   "cell_type": "code",
   "execution_count": 65,
   "metadata": {
    "colab": {
     "base_uri": "https://localhost:8080/",
     "height": 1000
    },
    "colab_type": "code",
    "executionInfo": {
     "elapsed": 1175,
     "status": "ok",
     "timestamp": 1563349974715,
     "user": {
      "displayName": "新田町隆弘",
      "photoUrl": "https://lh5.googleusercontent.com/-DMDhNyXnHcY/AAAAAAAAAAI/AAAAAAAAACE/-rft9f3g5RM/s64/photo.jpg",
      "userId": "03465577674172853809"
     },
     "user_tz": -540
    },
    "id": "Su-QXyrv5zSA",
    "outputId": "6c5067d4-0b6b-4b7d-84bf-e680f5333979"
   },
   "outputs": [
    {
     "name": "stderr",
     "output_type": "stream",
     "text": [
      "/usr/local/lib/python3.6/dist-packages/sklearn/linear_model/logistic.py:432: FutureWarning: Default solver will be changed to 'lbfgs' in 0.22. Specify a solver to silence this warning.\n",
      "  FutureWarning)\n",
      "/usr/local/lib/python3.6/dist-packages/sklearn/linear_model/logistic.py:432: FutureWarning: Default solver will be changed to 'lbfgs' in 0.22. Specify a solver to silence this warning.\n",
      "  FutureWarning)\n",
      "/usr/local/lib/python3.6/dist-packages/sklearn/linear_model/logistic.py:432: FutureWarning: Default solver will be changed to 'lbfgs' in 0.22. Specify a solver to silence this warning.\n",
      "  FutureWarning)\n",
      "/usr/local/lib/python3.6/dist-packages/sklearn/linear_model/logistic.py:432: FutureWarning: Default solver will be changed to 'lbfgs' in 0.22. Specify a solver to silence this warning.\n",
      "  FutureWarning)\n",
      "/usr/local/lib/python3.6/dist-packages/sklearn/linear_model/logistic.py:432: FutureWarning: Default solver will be changed to 'lbfgs' in 0.22. Specify a solver to silence this warning.\n",
      "  FutureWarning)\n",
      "/usr/local/lib/python3.6/dist-packages/sklearn/linear_model/logistic.py:432: FutureWarning: Default solver will be changed to 'lbfgs' in 0.22. Specify a solver to silence this warning.\n",
      "  FutureWarning)\n",
      "/usr/local/lib/python3.6/dist-packages/sklearn/linear_model/logistic.py:432: FutureWarning: Default solver will be changed to 'lbfgs' in 0.22. Specify a solver to silence this warning.\n",
      "  FutureWarning)\n",
      "/usr/local/lib/python3.6/dist-packages/sklearn/linear_model/logistic.py:432: FutureWarning: Default solver will be changed to 'lbfgs' in 0.22. Specify a solver to silence this warning.\n",
      "  FutureWarning)\n",
      "/usr/local/lib/python3.6/dist-packages/sklearn/linear_model/logistic.py:432: FutureWarning: Default solver will be changed to 'lbfgs' in 0.22. Specify a solver to silence this warning.\n",
      "  FutureWarning)\n",
      "/usr/local/lib/python3.6/dist-packages/sklearn/linear_model/logistic.py:432: FutureWarning: Default solver will be changed to 'lbfgs' in 0.22. Specify a solver to silence this warning.\n",
      "  FutureWarning)\n",
      "/usr/local/lib/python3.6/dist-packages/sklearn/linear_model/logistic.py:432: FutureWarning: Default solver will be changed to 'lbfgs' in 0.22. Specify a solver to silence this warning.\n",
      "  FutureWarning)\n",
      "/usr/local/lib/python3.6/dist-packages/sklearn/linear_model/logistic.py:432: FutureWarning: Default solver will be changed to 'lbfgs' in 0.22. Specify a solver to silence this warning.\n",
      "  FutureWarning)\n",
      "/usr/local/lib/python3.6/dist-packages/sklearn/linear_model/logistic.py:432: FutureWarning: Default solver will be changed to 'lbfgs' in 0.22. Specify a solver to silence this warning.\n",
      "  FutureWarning)\n",
      "/usr/local/lib/python3.6/dist-packages/sklearn/linear_model/logistic.py:432: FutureWarning: Default solver will be changed to 'lbfgs' in 0.22. Specify a solver to silence this warning.\n",
      "  FutureWarning)\n",
      "/usr/local/lib/python3.6/dist-packages/sklearn/linear_model/logistic.py:432: FutureWarning: Default solver will be changed to 'lbfgs' in 0.22. Specify a solver to silence this warning.\n",
      "  FutureWarning)\n",
      "/usr/local/lib/python3.6/dist-packages/sklearn/linear_model/logistic.py:432: FutureWarning: Default solver will be changed to 'lbfgs' in 0.22. Specify a solver to silence this warning.\n",
      "  FutureWarning)\n",
      "/usr/local/lib/python3.6/dist-packages/sklearn/linear_model/logistic.py:432: FutureWarning: Default solver will be changed to 'lbfgs' in 0.22. Specify a solver to silence this warning.\n",
      "  FutureWarning)\n",
      "/usr/local/lib/python3.6/dist-packages/sklearn/linear_model/logistic.py:432: FutureWarning: Default solver will be changed to 'lbfgs' in 0.22. Specify a solver to silence this warning.\n",
      "  FutureWarning)\n",
      "/usr/local/lib/python3.6/dist-packages/sklearn/linear_model/logistic.py:432: FutureWarning: Default solver will be changed to 'lbfgs' in 0.22. Specify a solver to silence this warning.\n",
      "  FutureWarning)\n",
      "/usr/local/lib/python3.6/dist-packages/sklearn/linear_model/logistic.py:432: FutureWarning: Default solver will be changed to 'lbfgs' in 0.22. Specify a solver to silence this warning.\n",
      "  FutureWarning)\n",
      "/usr/local/lib/python3.6/dist-packages/sklearn/linear_model/logistic.py:432: FutureWarning: Default solver will be changed to 'lbfgs' in 0.22. Specify a solver to silence this warning.\n",
      "  FutureWarning)\n",
      "/usr/local/lib/python3.6/dist-packages/sklearn/linear_model/logistic.py:432: FutureWarning: Default solver will be changed to 'lbfgs' in 0.22. Specify a solver to silence this warning.\n",
      "  FutureWarning)\n",
      "/usr/local/lib/python3.6/dist-packages/sklearn/linear_model/logistic.py:432: FutureWarning: Default solver will be changed to 'lbfgs' in 0.22. Specify a solver to silence this warning.\n",
      "  FutureWarning)\n",
      "/usr/local/lib/python3.6/dist-packages/sklearn/linear_model/logistic.py:432: FutureWarning: Default solver will be changed to 'lbfgs' in 0.22. Specify a solver to silence this warning.\n",
      "  FutureWarning)\n",
      "/usr/local/lib/python3.6/dist-packages/sklearn/linear_model/logistic.py:432: FutureWarning: Default solver will be changed to 'lbfgs' in 0.22. Specify a solver to silence this warning.\n",
      "  FutureWarning)\n",
      "/usr/local/lib/python3.6/dist-packages/sklearn/linear_model/logistic.py:432: FutureWarning: Default solver will be changed to 'lbfgs' in 0.22. Specify a solver to silence this warning.\n",
      "  FutureWarning)\n",
      "/usr/local/lib/python3.6/dist-packages/sklearn/linear_model/logistic.py:432: FutureWarning: Default solver will be changed to 'lbfgs' in 0.22. Specify a solver to silence this warning.\n",
      "  FutureWarning)\n",
      "/usr/local/lib/python3.6/dist-packages/sklearn/linear_model/logistic.py:432: FutureWarning: Default solver will be changed to 'lbfgs' in 0.22. Specify a solver to silence this warning.\n",
      "  FutureWarning)\n",
      "/usr/local/lib/python3.6/dist-packages/sklearn/linear_model/logistic.py:432: FutureWarning: Default solver will be changed to 'lbfgs' in 0.22. Specify a solver to silence this warning.\n",
      "  FutureWarning)\n",
      "/usr/local/lib/python3.6/dist-packages/sklearn/linear_model/logistic.py:432: FutureWarning: Default solver will be changed to 'lbfgs' in 0.22. Specify a solver to silence this warning.\n",
      "  FutureWarning)\n",
      "/usr/local/lib/python3.6/dist-packages/sklearn/linear_model/logistic.py:432: FutureWarning: Default solver will be changed to 'lbfgs' in 0.22. Specify a solver to silence this warning.\n",
      "  FutureWarning)\n",
      "/usr/local/lib/python3.6/dist-packages/sklearn/linear_model/logistic.py:432: FutureWarning: Default solver will be changed to 'lbfgs' in 0.22. Specify a solver to silence this warning.\n",
      "  FutureWarning)\n",
      "/usr/local/lib/python3.6/dist-packages/sklearn/linear_model/logistic.py:432: FutureWarning: Default solver will be changed to 'lbfgs' in 0.22. Specify a solver to silence this warning.\n",
      "  FutureWarning)\n",
      "/usr/local/lib/python3.6/dist-packages/sklearn/linear_model/logistic.py:432: FutureWarning: Default solver will be changed to 'lbfgs' in 0.22. Specify a solver to silence this warning.\n",
      "  FutureWarning)\n",
      "/usr/local/lib/python3.6/dist-packages/sklearn/linear_model/logistic.py:432: FutureWarning: Default solver will be changed to 'lbfgs' in 0.22. Specify a solver to silence this warning.\n",
      "  FutureWarning)\n",
      "/usr/local/lib/python3.6/dist-packages/sklearn/linear_model/logistic.py:432: FutureWarning: Default solver will be changed to 'lbfgs' in 0.22. Specify a solver to silence this warning.\n",
      "  FutureWarning)\n",
      "/usr/local/lib/python3.6/dist-packages/sklearn/linear_model/logistic.py:432: FutureWarning: Default solver will be changed to 'lbfgs' in 0.22. Specify a solver to silence this warning.\n",
      "  FutureWarning)\n",
      "/usr/local/lib/python3.6/dist-packages/sklearn/linear_model/logistic.py:432: FutureWarning: Default solver will be changed to 'lbfgs' in 0.22. Specify a solver to silence this warning.\n",
      "  FutureWarning)\n",
      "/usr/local/lib/python3.6/dist-packages/sklearn/linear_model/logistic.py:432: FutureWarning: Default solver will be changed to 'lbfgs' in 0.22. Specify a solver to silence this warning.\n",
      "  FutureWarning)\n",
      "/usr/local/lib/python3.6/dist-packages/sklearn/linear_model/logistic.py:432: FutureWarning: Default solver will be changed to 'lbfgs' in 0.22. Specify a solver to silence this warning.\n",
      "  FutureWarning)\n",
      "/usr/local/lib/python3.6/dist-packages/sklearn/linear_model/logistic.py:432: FutureWarning: Default solver will be changed to 'lbfgs' in 0.22. Specify a solver to silence this warning.\n",
      "  FutureWarning)\n",
      "/usr/local/lib/python3.6/dist-packages/sklearn/linear_model/logistic.py:432: FutureWarning: Default solver will be changed to 'lbfgs' in 0.22. Specify a solver to silence this warning.\n",
      "  FutureWarning)\n",
      "/usr/local/lib/python3.6/dist-packages/sklearn/linear_model/logistic.py:432: FutureWarning: Default solver will be changed to 'lbfgs' in 0.22. Specify a solver to silence this warning.\n",
      "  FutureWarning)\n",
      "/usr/local/lib/python3.6/dist-packages/sklearn/linear_model/logistic.py:432: FutureWarning: Default solver will be changed to 'lbfgs' in 0.22. Specify a solver to silence this warning.\n",
      "  FutureWarning)\n",
      "/usr/local/lib/python3.6/dist-packages/sklearn/linear_model/logistic.py:432: FutureWarning: Default solver will be changed to 'lbfgs' in 0.22. Specify a solver to silence this warning.\n",
      "  FutureWarning)\n",
      "/usr/local/lib/python3.6/dist-packages/sklearn/linear_model/logistic.py:432: FutureWarning: Default solver will be changed to 'lbfgs' in 0.22. Specify a solver to silence this warning.\n",
      "  FutureWarning)\n",
      "/usr/local/lib/python3.6/dist-packages/sklearn/linear_model/logistic.py:432: FutureWarning: Default solver will be changed to 'lbfgs' in 0.22. Specify a solver to silence this warning.\n",
      "  FutureWarning)\n",
      "/usr/local/lib/python3.6/dist-packages/sklearn/linear_model/logistic.py:432: FutureWarning: Default solver will be changed to 'lbfgs' in 0.22. Specify a solver to silence this warning.\n",
      "  FutureWarning)\n",
      "/usr/local/lib/python3.6/dist-packages/sklearn/linear_model/logistic.py:432: FutureWarning: Default solver will be changed to 'lbfgs' in 0.22. Specify a solver to silence this warning.\n",
      "  FutureWarning)\n",
      "/usr/local/lib/python3.6/dist-packages/sklearn/linear_model/logistic.py:432: FutureWarning: Default solver will be changed to 'lbfgs' in 0.22. Specify a solver to silence this warning.\n",
      "  FutureWarning)\n",
      "/usr/local/lib/python3.6/dist-packages/sklearn/linear_model/logistic.py:432: FutureWarning: Default solver will be changed to 'lbfgs' in 0.22. Specify a solver to silence this warning.\n",
      "  FutureWarning)\n",
      "/usr/local/lib/python3.6/dist-packages/sklearn/linear_model/logistic.py:432: FutureWarning: Default solver will be changed to 'lbfgs' in 0.22. Specify a solver to silence this warning.\n",
      "  FutureWarning)\n",
      "/usr/local/lib/python3.6/dist-packages/sklearn/linear_model/logistic.py:432: FutureWarning: Default solver will be changed to 'lbfgs' in 0.22. Specify a solver to silence this warning.\n",
      "  FutureWarning)\n",
      "/usr/local/lib/python3.6/dist-packages/sklearn/linear_model/logistic.py:432: FutureWarning: Default solver will be changed to 'lbfgs' in 0.22. Specify a solver to silence this warning.\n",
      "  FutureWarning)\n",
      "/usr/local/lib/python3.6/dist-packages/sklearn/linear_model/logistic.py:432: FutureWarning: Default solver will be changed to 'lbfgs' in 0.22. Specify a solver to silence this warning.\n",
      "  FutureWarning)\n",
      "/usr/local/lib/python3.6/dist-packages/sklearn/linear_model/logistic.py:432: FutureWarning: Default solver will be changed to 'lbfgs' in 0.22. Specify a solver to silence this warning.\n",
      "  FutureWarning)\n",
      "/usr/local/lib/python3.6/dist-packages/sklearn/linear_model/logistic.py:432: FutureWarning: Default solver will be changed to 'lbfgs' in 0.22. Specify a solver to silence this warning.\n",
      "  FutureWarning)\n",
      "/usr/local/lib/python3.6/dist-packages/sklearn/linear_model/logistic.py:432: FutureWarning: Default solver will be changed to 'lbfgs' in 0.22. Specify a solver to silence this warning.\n",
      "  FutureWarning)\n",
      "/usr/local/lib/python3.6/dist-packages/sklearn/linear_model/logistic.py:432: FutureWarning: Default solver will be changed to 'lbfgs' in 0.22. Specify a solver to silence this warning.\n",
      "  FutureWarning)\n",
      "/usr/local/lib/python3.6/dist-packages/sklearn/linear_model/logistic.py:432: FutureWarning: Default solver will be changed to 'lbfgs' in 0.22. Specify a solver to silence this warning.\n",
      "  FutureWarning)\n",
      "/usr/local/lib/python3.6/dist-packages/sklearn/linear_model/logistic.py:432: FutureWarning: Default solver will be changed to 'lbfgs' in 0.22. Specify a solver to silence this warning.\n",
      "  FutureWarning)\n",
      "/usr/local/lib/python3.6/dist-packages/sklearn/linear_model/logistic.py:432: FutureWarning: Default solver will be changed to 'lbfgs' in 0.22. Specify a solver to silence this warning.\n",
      "  FutureWarning)\n",
      "/usr/local/lib/python3.6/dist-packages/sklearn/linear_model/logistic.py:432: FutureWarning: Default solver will be changed to 'lbfgs' in 0.22. Specify a solver to silence this warning.\n",
      "  FutureWarning)\n",
      "/usr/local/lib/python3.6/dist-packages/sklearn/linear_model/logistic.py:432: FutureWarning: Default solver will be changed to 'lbfgs' in 0.22. Specify a solver to silence this warning.\n",
      "  FutureWarning)\n",
      "/usr/local/lib/python3.6/dist-packages/sklearn/linear_model/logistic.py:432: FutureWarning: Default solver will be changed to 'lbfgs' in 0.22. Specify a solver to silence this warning.\n",
      "  FutureWarning)\n",
      "/usr/local/lib/python3.6/dist-packages/sklearn/linear_model/logistic.py:432: FutureWarning: Default solver will be changed to 'lbfgs' in 0.22. Specify a solver to silence this warning.\n",
      "  FutureWarning)\n",
      "/usr/local/lib/python3.6/dist-packages/sklearn/linear_model/logistic.py:432: FutureWarning: Default solver will be changed to 'lbfgs' in 0.22. Specify a solver to silence this warning.\n",
      "  FutureWarning)\n",
      "/usr/local/lib/python3.6/dist-packages/sklearn/linear_model/logistic.py:432: FutureWarning: Default solver will be changed to 'lbfgs' in 0.22. Specify a solver to silence this warning.\n",
      "  FutureWarning)\n",
      "/usr/local/lib/python3.6/dist-packages/sklearn/linear_model/logistic.py:432: FutureWarning: Default solver will be changed to 'lbfgs' in 0.22. Specify a solver to silence this warning.\n",
      "  FutureWarning)\n",
      "/usr/local/lib/python3.6/dist-packages/sklearn/linear_model/logistic.py:432: FutureWarning: Default solver will be changed to 'lbfgs' in 0.22. Specify a solver to silence this warning.\n",
      "  FutureWarning)\n",
      "/usr/local/lib/python3.6/dist-packages/sklearn/linear_model/logistic.py:432: FutureWarning: Default solver will be changed to 'lbfgs' in 0.22. Specify a solver to silence this warning.\n",
      "  FutureWarning)\n"
     ]
    },
    {
     "data": {
      "text/plain": [
       "GridSearchCV(cv=5, error_score='raise-deprecating',\n",
       "             estimator=Pipeline(memory=None, steps=[('classifier', None)],\n",
       "                                verbose=False),\n",
       "             iid='warn', n_jobs=None,\n",
       "             param_grid=[{'classifier': [LogisticRegression(C=10.0,\n",
       "                                                            class_weight=None,\n",
       "                                                            dual=False,\n",
       "                                                            fit_intercept=True,\n",
       "                                                            intercept_scaling=1,\n",
       "                                                            l1_ratio=None,\n",
       "                                                            max_iter=100,\n",
       "                                                            multi_class='warn',\n",
       "                                                            n_jobs=None,\n",
       "                                                            penalty='l1',\n",
       "                                                            random_state=None,\n",
       "                                                            solver='warn',\n",
       "                                                            tol=0.0001,\n",
       "                                                            verbose=0,\n",
       "                                                            warm_start=False)],\n",
       "                          'classifier__C': array([1.e-03, 1.e-02, 1.e-01, 1.e+00, 1.e+01, 1.e+02, 1.e+03]),\n",
       "                          'classifier__penalty': ['l1', 'l2']}],\n",
       "             pre_dispatch='2*n_jobs', refit=True, return_train_score=False,\n",
       "             scoring='roc_auc', verbose=0)"
      ]
     },
     "execution_count": 65,
     "metadata": {
      "tags": []
     },
     "output_type": "execute_result"
    }
   ],
   "source": [
    "grid.fit(X_train, y_train)"
   ]
  },
  {
   "cell_type": "markdown",
   "metadata": {},
   "source": [
    "### テストデータでの評価"
   ]
  },
  {
   "cell_type": "code",
   "execution_count": 66,
   "metadata": {
    "colab": {
     "base_uri": "https://localhost:8080/",
     "height": 204
    },
    "colab_type": "code",
    "executionInfo": {
     "elapsed": 511,
     "status": "ok",
     "timestamp": 1563350016102,
     "user": {
      "displayName": "新田町隆弘",
      "photoUrl": "https://lh5.googleusercontent.com/-DMDhNyXnHcY/AAAAAAAAAAI/AAAAAAAAACE/-rft9f3g5RM/s64/photo.jpg",
      "userId": "03465577674172853809"
     },
     "user_tz": -540
    },
    "id": "Wzx8T3iM5zP0",
    "outputId": "0a2bd5bb-0379-4d6a-f05b-2f15bcae8fcc"
   },
   "outputs": [
    {
     "data": {
      "text/html": [
       "<div>\n",
       "<style scoped>\n",
       "    .dataframe tbody tr th:only-of-type {\n",
       "        vertical-align: middle;\n",
       "    }\n",
       "\n",
       "    .dataframe tbody tr th {\n",
       "        vertical-align: top;\n",
       "    }\n",
       "\n",
       "    .dataframe thead th {\n",
       "        text-align: right;\n",
       "    }\n",
       "</style>\n",
       "<table border=\"1\" class=\"dataframe\">\n",
       "  <thead>\n",
       "    <tr style=\"text-align: right;\">\n",
       "      <th></th>\n",
       "      <th>TARGET</th>\n",
       "    </tr>\n",
       "  </thead>\n",
       "  <tbody>\n",
       "    <tr>\n",
       "      <th>0</th>\n",
       "      <td>0.021853</td>\n",
       "    </tr>\n",
       "    <tr>\n",
       "      <th>1</th>\n",
       "      <td>0.117445</td>\n",
       "    </tr>\n",
       "    <tr>\n",
       "      <th>2</th>\n",
       "      <td>0.007411</td>\n",
       "    </tr>\n",
       "    <tr>\n",
       "      <th>3</th>\n",
       "      <td>0.039261</td>\n",
       "    </tr>\n",
       "    <tr>\n",
       "      <th>4</th>\n",
       "      <td>0.073373</td>\n",
       "    </tr>\n",
       "  </tbody>\n",
       "</table>\n",
       "</div>"
      ],
      "text/plain": [
       "     TARGET\n",
       "0  0.021853\n",
       "1  0.117445\n",
       "2  0.007411\n",
       "3  0.039261\n",
       "4  0.073373"
      ]
     },
     "execution_count": 66,
     "metadata": {
      "tags": []
     },
     "output_type": "execute_result"
    }
   ],
   "source": [
    "pred_proba_r3 = grid.predict_proba(df_test_prepro2)[:,1].reshape([-1,1])\n",
    "pred_proba_r3_df = pd.DataFrame(pred_proba_r2, columns=['TARGET'])\n",
    "pred_proba_r3_df.head()"
   ]
  },
  {
   "cell_type": "code",
   "execution_count": 68,
   "metadata": {
    "colab": {
     "base_uri": "https://localhost:8080/",
     "height": 204
    },
    "colab_type": "code",
    "executionInfo": {
     "elapsed": 577,
     "status": "ok",
     "timestamp": 1563350069043,
     "user": {
      "displayName": "新田町隆弘",
      "photoUrl": "https://lh5.googleusercontent.com/-DMDhNyXnHcY/AAAAAAAAAAI/AAAAAAAAACE/-rft9f3g5RM/s64/photo.jpg",
      "userId": "03465577674172853809"
     },
     "user_tz": -540
    },
    "id": "Nk3u2rNB7MAq",
    "outputId": "8c6db87d-1e4a-4284-88a4-7781fac341e6"
   },
   "outputs": [
    {
     "data": {
      "text/html": [
       "<div>\n",
       "<style scoped>\n",
       "    .dataframe tbody tr th:only-of-type {\n",
       "        vertical-align: middle;\n",
       "    }\n",
       "\n",
       "    .dataframe tbody tr th {\n",
       "        vertical-align: top;\n",
       "    }\n",
       "\n",
       "    .dataframe thead th {\n",
       "        text-align: right;\n",
       "    }\n",
       "</style>\n",
       "<table border=\"1\" class=\"dataframe\">\n",
       "  <thead>\n",
       "    <tr style=\"text-align: right;\">\n",
       "      <th></th>\n",
       "      <th>SK_ID_CURR</th>\n",
       "      <th>TARGET</th>\n",
       "    </tr>\n",
       "  </thead>\n",
       "  <tbody>\n",
       "    <tr>\n",
       "      <th>0</th>\n",
       "      <td>100001</td>\n",
       "      <td>0.021853</td>\n",
       "    </tr>\n",
       "    <tr>\n",
       "      <th>1</th>\n",
       "      <td>100005</td>\n",
       "      <td>0.117445</td>\n",
       "    </tr>\n",
       "    <tr>\n",
       "      <th>2</th>\n",
       "      <td>100013</td>\n",
       "      <td>0.007411</td>\n",
       "    </tr>\n",
       "    <tr>\n",
       "      <th>3</th>\n",
       "      <td>100028</td>\n",
       "      <td>0.039261</td>\n",
       "    </tr>\n",
       "    <tr>\n",
       "      <th>4</th>\n",
       "      <td>100038</td>\n",
       "      <td>0.073373</td>\n",
       "    </tr>\n",
       "  </tbody>\n",
       "</table>\n",
       "</div>"
      ],
      "text/plain": [
       "   SK_ID_CURR    TARGET\n",
       "0      100001  0.021853\n",
       "1      100005  0.117445\n",
       "2      100013  0.007411\n",
       "3      100028  0.039261\n",
       "4      100038  0.073373"
      ]
     },
     "execution_count": 68,
     "metadata": {
      "tags": []
     },
     "output_type": "execute_result"
    }
   ],
   "source": [
    "predict_test_r3 = pd.concat([test_id_df, pred_proba_r3_df], axis=1)\n",
    "predict_test_r3.head()"
   ]
  },
  {
   "cell_type": "code",
   "execution_count": 0,
   "metadata": {
    "colab": {},
    "colab_type": "code",
    "id": "Rn6S4WXh7L94"
   },
   "outputs": [],
   "source": [
    "predict_test_r3.to_csv(\"submission_0717_p3_r1.csv\", index=False, encoding='utf-8')"
   ]
  },
  {
   "cell_type": "markdown",
   "metadata": {
    "colab_type": "text",
    "id": "6QDyN5v18riK"
   },
   "source": [
    "## 評価結果→69.827%\n",
    "![ ](https://drive.google.com/uc?id=168e30B7q73fsI44FID4yNd1JJ6MfZnHM)"
   ]
  },
  {
   "cell_type": "markdown",
   "metadata": {
    "colab_type": "text",
    "id": "wrT4KPFk9Ddp"
   },
   "source": [
    "## 考察\n",
    "- 問題④のモデルの評価結果が問題①②のモデルより高い値となっており、問題③の施策を行う事でより高い精度と汎化性能のモデルが出来た事を確認。\n",
    "\n",
    "## 今後の課題\n",
    "### 学習時により大量のデータを使用する\n",
    "- 今回は動作環境の処理能力の都合上、学習時に使用したデータが全35万行のうち1000行しか使用していない為、より多くのデータを使用する事で、精度の向上が期待できる。"
   ]
  }
 ],
 "metadata": {
  "colab": {
   "collapsed_sections": [
    "Wo-HmE4MvCms"
   ],
   "name": "sprint1-ml-scratch-intro_0717.ipynb",
   "provenance": [],
   "version": "0.3.2"
  },
  "kernelspec": {
   "display_name": "Python 3",
   "language": "python",
   "name": "python3"
  },
  "language_info": {
   "codemirror_mode": {
    "name": "ipython",
    "version": 3
   },
   "file_extension": ".py",
   "mimetype": "text/x-python",
   "name": "python",
   "nbconvert_exporter": "python",
   "pygments_lexer": "ipython3",
   "version": "3.7.1"
  }
 },
 "nbformat": 4,
 "nbformat_minor": 1
}
